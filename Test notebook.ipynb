{
 "cells": [
  {
   "cell_type": "code",
   "execution_count": 1,
   "metadata": {},
   "outputs": [],
   "source": [
    "import pandas as pd"
   ]
  },
  {
   "cell_type": "code",
   "execution_count": 2,
   "metadata": {},
   "outputs": [],
   "source": [
    "import lux"
   ]
  },
  {
   "cell_type": "code",
   "execution_count": 4,
   "metadata": {},
   "outputs": [
    {
     "name": "stdout",
     "output_type": "stream",
     "text": [
      "[1 2 3]\n",
      "[4 5 6]\n",
      "[7 8 9]\n"
     ]
    },
    {
     "data": {
      "text/plain": [
       "lux.luxDataFrame.LuxDataframe.LuxDataFrame"
      ]
     },
     "execution_count": 4,
     "metadata": {},
     "output_type": "execute_result"
    }
   ],
   "source": [
    "df = pd.DataFrame({'A': [1, 2, 3], 'B': [4, 5, 6], 'C': [7, 8, 9]},schema=[{\"Year\":{\"dataType\":\"date\"}}])\n",
    "type(df)"
   ]
  },
  {
   "cell_type": "code",
   "execution_count": 5,
   "metadata": {},
   "outputs": [],
   "source": [
    "df.setContext([lux.Spec(\"A\",channel=\"x\"), lux.Spec(\"C\",channel=\"y\")])"
   ]
  },
  {
   "cell_type": "code",
   "execution_count": 6,
   "metadata": {},
   "outputs": [
    {
     "data": {
      "text/plain": [
       "[Spec <A,channel:x,dataType:,dataModel:>,\n",
       " Spec <C,channel:y,dataType:,dataModel:>]"
      ]
     },
     "execution_count": 6,
     "metadata": {},
     "output_type": "execute_result"
    }
   ],
   "source": [
    "df.getContext()\n"
   ]
  },
  {
   "cell_type": "code",
   "execution_count": 7,
   "metadata": {},
   "outputs": [],
   "source": [
    "df.addToContext([lux.Spec(\"B\")])"
   ]
  },
  {
   "cell_type": "code",
   "execution_count": 8,
   "metadata": {},
   "outputs": [
    {
     "data": {
      "text/plain": [
       "[Spec <A,channel:x,dataType:,dataModel:>,\n",
       " Spec <C,channel:y,dataType:,dataModel:>,\n",
       " Spec <B,channel:,dataType:,dataModel:>]"
      ]
     },
     "execution_count": 8,
     "metadata": {},
     "output_type": "execute_result"
    }
   ],
   "source": [
    "df.getContext()"
   ]
  },
  {
   "cell_type": "code",
   "execution_count": 9,
   "metadata": {},
   "outputs": [
    {
     "data": {
      "text/plain": [
       "lux.luxDataFrame.LuxDataframe.LuxDataFrame"
      ]
     },
     "execution_count": 9,
     "metadata": {},
     "output_type": "execute_result"
    }
   ],
   "source": [
    "type(df)"
   ]
  },
  {
   "cell_type": "code",
   "execution_count": 12,
   "metadata": {},
   "outputs": [
    {
     "name": "stdout",
     "output_type": "stream",
     "text": [
      "['chevrolet chevelle malibu' 'buick skylark 320' 'plymouth satellite'\n",
      " 'amc rebel sst' 'ford torino' 'ford galaxie 500' 'chevrolet impala'\n",
      " 'plymouth fury iii' 'pontiac catalina' 'amc ambassador dpl'\n",
      " 'dodge challenger se' \"plymouth 'cuda 340\" 'chevrolet monte carlo'\n",
      " 'buick estate wagon (sw)' 'toyota corona mark ii' 'plymouth duster'\n",
      " 'amc hornet' 'ford maverick' 'datsun pl510'\n",
      " 'volkswagen 1131 deluxe sedan' 'peugeot 504' 'audi 100 ls' 'saab 99e'\n",
      " 'bmw 2002' 'amc gremlin' 'ford f250' 'chevy c20' 'dodge d200' 'hi 1200d'\n",
      " 'chevrolet vega 2300' 'toyota corona' 'plymouth satellite custom'\n",
      " 'ford torino 500' 'amc matador' 'pontiac catalina brougham'\n",
      " 'dodge monaco (sw)' 'ford country squire (sw)' 'pontiac safari (sw)'\n",
      " 'amc hornet sportabout (sw)' 'chevrolet vega (sw)' 'pontiac firebird'\n",
      " 'ford mustang' 'mercury capri 2000' 'opel 1900' 'peugeot 304' 'fiat 124b'\n",
      " 'toyota corolla 1200' 'datsun 1200' 'volkswagen model 111'\n",
      " 'plymouth cricket' 'toyota corona hardtop' 'dodge colt hardtop'\n",
      " 'volkswagen type 3' 'chevrolet vega' 'ford pinto runabout'\n",
      " 'amc ambassador sst' 'mercury marquis' 'buick lesabre custom'\n",
      " 'oldsmobile delta 88 royale' 'chrysler newport royal' 'mazda rx2 coupe'\n",
      " 'amc matador (sw)' 'chevrolet chevelle concours (sw)'\n",
      " 'ford gran torino (sw)' 'plymouth satellite custom (sw)'\n",
      " 'volvo 145e (sw)' 'volkswagen 411 (sw)' 'peugeot 504 (sw)'\n",
      " 'renault 12 (sw)' 'ford pinto (sw)' 'datsun 510 (sw)'\n",
      " 'toyouta corona mark ii (sw)' 'dodge colt (sw)'\n",
      " 'toyota corolla 1600 (sw)' 'buick century 350' 'chevrolet malibu'\n",
      " 'ford gran torino' 'dodge coronet custom' 'mercury marquis brougham'\n",
      " 'chevrolet caprice classic' 'ford ltd' 'plymouth fury gran sedan'\n",
      " 'chrysler new yorker brougham' 'buick electra 225 custom'\n",
      " 'amc ambassador brougham' 'plymouth valiant' 'chevrolet nova custom'\n",
      " 'volkswagen super beetle' 'ford country' 'plymouth custom suburb'\n",
      " 'oldsmobile vista cruiser' 'toyota carina' 'datsun 610' 'maxda rx3'\n",
      " 'ford pinto' 'mercury capri v6' 'fiat 124 sport coupe'\n",
      " 'chevrolet monte carlo s' 'pontiac grand prix' 'fiat 128' 'opel manta'\n",
      " 'audi 100ls' 'volvo 144ea' 'dodge dart custom' 'saab 99le'\n",
      " 'toyota mark ii' 'oldsmobile omega' 'chevrolet nova' 'datsun b210'\n",
      " 'chevrolet chevelle malibu classic' 'plymouth satellite sebring'\n",
      " 'buick century luxus (sw)' 'dodge coronet custom (sw)' 'audi fox'\n",
      " 'volkswagen dasher' 'datsun 710' 'dodge colt' 'fiat 124 tc' 'honda civic'\n",
      " 'subaru' 'fiat x1.9' 'plymouth valiant custom' 'mercury monarch'\n",
      " 'chevrolet bel air' 'plymouth grand fury' 'buick century'\n",
      " 'chevroelt chevelle malibu' 'plymouth fury' 'buick skyhawk'\n",
      " 'chevrolet monza 2+2' 'ford mustang ii' 'toyota corolla' 'pontiac astro'\n",
      " 'volkswagen rabbit' 'amc pacer' 'volvo 244dl' 'honda civic cvcc'\n",
      " 'fiat 131' 'capri ii' 'renault 12tl' 'dodge coronet brougham'\n",
      " 'chevrolet chevette' 'chevrolet woody' 'vw rabbit' 'dodge aspen se'\n",
      " 'ford granada ghia' 'pontiac ventura sj' 'amc pacer d/l' 'datsun b-210'\n",
      " 'volvo 245' 'plymouth volare premier v8' 'mercedes-benz 280s'\n",
      " 'cadillac seville' 'chevy c10' 'ford f108' 'dodge d100'\n",
      " 'honda Accelerationord cvcc' 'buick opel isuzu deluxe' 'renault 5 gtl'\n",
      " 'plymouth arrow gs' 'datsun f-10 hatchback' 'oldsmobile cutlass supreme'\n",
      " 'dodge monaco brougham' 'mercury cougar brougham' 'chevrolet concours'\n",
      " 'buick skylark' 'plymouth volare custom' 'ford granada'\n",
      " 'pontiac grand prix lj' 'chevrolet monte carlo landau' 'chrysler cordoba'\n",
      " 'ford thunderbird' 'volkswagen rabbit custom' 'pontiac sunbird coupe'\n",
      " 'toyota corolla liftback' 'ford mustang ii 2+2' 'dodge colt m/m'\n",
      " 'subaru dl' 'datsun 810' 'bmw 320i' 'mazda rx-4'\n",
      " 'volkswagen rabbit custom diesel' 'ford fiesta' 'mazda glc deluxe'\n",
      " 'datsun b210 gx' 'oldsmobile cutlass salon brougham' 'dodge diplomat'\n",
      " 'mercury monarch ghia' 'pontiac phoenix lj' 'ford fairmont (auto)'\n",
      " 'ford fairmont (man)' 'plymouth volare' 'amc concord'\n",
      " 'buick century special' 'mercury zephyr' 'dodge aspen' 'amc concord d/l'\n",
      " 'buick regal sport coupe (turbo)' 'ford futura' 'dodge magnum xe'\n",
      " 'datsun 510' 'dodge omni' 'toyota celica gt liftback' 'plymouth sapporo'\n",
      " 'oldsmobile starfire sx' 'datsun 200-sx' 'audi 5000' 'volvo 264gl'\n",
      " 'saab 99gle' 'peugeot 604sl' 'volkswagen scirocco'\n",
      " 'honda Accelerationord lx' 'pontiac lemans v6' 'mercury zephyr 6'\n",
      " 'ford fairmont 4' 'amc concord dl 6' 'dodge aspen 6' 'ford ltd landau'\n",
      " 'mercury grand marquis' 'dodge st. regis' 'chevrolet malibu classic (sw)'\n",
      " 'chrysler lebaron town @ country (sw)' 'vw rabbit custom'\n",
      " 'maxda glc deluxe' 'dodge colt hatchback custom' 'amc spirit dl'\n",
      " 'mercedes benz 300d' 'cadillac eldorado' 'plymouth horizon'\n",
      " 'plymouth horizon tc3' 'datsun 210' 'fiat strada custom'\n",
      " 'buick skylark limited' 'chevrolet citation' 'oldsmobile omega brougham'\n",
      " 'pontiac phoenix' 'toyota corolla tercel' 'datsun 310' 'ford fairmont'\n",
      " 'audi 4000' 'toyota corona liftback' 'mazda 626' 'datsun 510 hatchback'\n",
      " 'mazda glc' 'vw rabbit c (diesel)' 'vw dasher (diesel)'\n",
      " 'audi 5000s (diesel)' 'mercedes-benz 240d' 'honda civic 1500 gl'\n",
      " 'vokswagen rabbit' 'datsun 280-zx' 'mazda rx-7 gs' 'triumph tr7 coupe'\n",
      " 'honda Accelerationord' 'plymouth reliant' 'dodge aries wagon (sw)'\n",
      " 'toyota starlet' 'plymouth champ' 'honda civic 1300' 'toyota tercel'\n",
      " 'mazda glc 4' 'plymouth horizon 4' 'ford escort 4w' 'ford escort 2h'\n",
      " 'volkswagen jetta' 'honda prelude' 'datsun 200sx'\n",
      " 'peugeot 505s turbo diesel' 'volvo diesel' 'toyota cressida'\n",
      " 'datsun 810 maxima' 'oldsmobile cutlass ls' 'ford granada gl'\n",
      " 'chrysler lebaron salon' 'chevrolet cavalier' 'chevrolet cavalier wagon'\n",
      " 'chevrolet cavalier 2-door' 'pontiac j2000 se hatchback' 'dodge aries se'\n",
      " 'ford fairmont futura' 'volkswagen rabbit l' 'mazda glc custom l'\n",
      " 'mazda glc custom' 'plymouth horizon miser' 'mercury lynx l'\n",
      " 'nissan stanza xe' 'honda civic (auto)' 'datsun 310 gx'\n",
      " 'buick century limited' 'oldsmobile cutlass ciera (diesel)'\n",
      " 'chrysler lebaron medallion' 'ford granada l' 'toyota celica gt'\n",
      " 'dodge charger 2.2' 'chevrolet camaro' 'ford mustang gl' 'vw pickup'\n",
      " 'dodge rampage' 'ford ranger' 'chevy s-10']\n",
      "[18.  15.  16.  17.  14.  24.  22.  21.  27.  26.  25.  10.  11.   9.\n",
      " 28.  19.  12.  13.  23.  30.  31.  35.  20.  29.  32.  33.  17.5 15.5\n",
      " 14.5 22.5 24.5 18.5 29.5 26.5 16.5 31.5 36.  25.5 33.5 20.5 30.5 21.5\n",
      " 43.1 36.1 32.8 39.4 19.9 19.4 20.2 19.2 25.1 20.6 20.8 18.6 18.1 17.7\n",
      " 27.5 27.2 30.9 21.1 23.2 23.8 23.9 20.3 21.6 16.2 19.8 22.3 17.6 18.2\n",
      " 16.9 31.9 34.1 35.7 27.4 25.4 34.2 34.5 31.8 37.3 28.4 28.8 26.8 41.5\n",
      " 38.1 32.1 37.2 26.4 24.3 19.1 34.3 29.8 31.3 37.  32.2 46.6 27.9 40.8\n",
      " 44.3 43.4 36.4 44.6 33.8 32.7 23.7 32.4 26.6 25.8 23.5 39.1 39.  35.1\n",
      " 32.3 37.7 34.7 34.4 29.9 33.7 32.9 31.6 28.1 30.7 24.2 22.4 34.  38.\n",
      " 44. ]\n",
      "[8 4 6 3 5]\n",
      "[307.  350.  318.  304.  302.  429.  454.  440.  455.  390.  383.  340.\n",
      " 400.  113.  198.  199.  200.   97.  110.  107.  104.  121.  360.  140.\n",
      " 232.  225.  250.  351.  258.  122.  116.   79.   88.   71.   72.   91.\n",
      "  97.5  70.  120.   96.   98.  108.  155.   68.  114.  156.   76.   83.\n",
      "  90.  231.  262.  134.  119.  171.  115.  101.  305.   85.  130.  168.\n",
      " 111.  260.  151.  146.   80.   78.  105.  131.  163.   89.  267.   86.\n",
      " 183.  141.  173.  135.   81.  145.  112.  181.  144. ]\n",
      "[130 165 150 140 198 220 215 225 190 170 160  95  97  85  88  46  87  90\n",
      " 113 200 210 193 100 105 175 153 180 110  72  86  70  76  65  69  60  80\n",
      "  54 208 155 112  92 145 137 158 167  94 107 230  49  75  91 122  67  83\n",
      "  78  52  61  93 148 129  96  71  98 115  53  81  79 120 152 102 108  68\n",
      "  58 149  89  63  48  66 139 103 125 133 138 135 142  77  62 132  84  64\n",
      "  74 116  82]\n",
      "[3504 3693 3436 3433 3449 4341 4354 4312 4425 3850 3563 3609 3761 3086\n",
      " 2372 2833 2774 2587 2130 1835 2672 2430 2375 2234 2648 4615 4376 4382\n",
      " 4732 2264 2228 2634 3439 3329 3302 3288 4209 4464 4154 4096 4955 4746\n",
      " 5140 2962 2408 3282 3139 2220 2123 2074 2065 1773 1613 1834 1955 2278\n",
      " 2126 2254 2226 4274 4385 4135 4129 3672 4633 4502 4456 4422 2330 3892\n",
      " 4098 4294 4077 2933 2511 2979 2189 2395 2288 2506 2164 2100 4100 3988\n",
      " 4042 3777 4952 4363 4237 4735 4951 3821 3121 3278 2945 3021 2904 1950\n",
      " 4997 4906 4654 4499 2789 2279 2401 2379 2124 2310 2472 2265 4082 4278\n",
      " 1867 2158 2582 2868 3399 2660 2807 3664 3102 2901 3336 2451 1836 2542\n",
      " 3781 3632 3613 4141 4699 4457 4638 4257 2219 1963 2300 1649 2003 2125\n",
      " 2108 2246 2489 2391 2000 3264 3459 3432 3158 4668 4440 4498 4657 3907\n",
      " 3897 3730 3785 3039 3221 3169 2171 2639 2914 2592 2702 2223 2545 2984\n",
      " 1937 3211 2694 2957 2671 1795 2464 2572 2255 2202 4215 4190 3962 3233\n",
      " 3353 3012 3085 2035 3651 3574 3645 3193 1825 1990 2155 2565 3150 3940\n",
      " 3270 2930 3820 4380 4055 3870 3755 2045 1945 3880 4060 4140 4295 3520\n",
      " 3425 3630 3525 4220 4165 4325 4335 1940 2740 2755 2051 2075 1985 2190\n",
      " 2815 2600 2720 1800 2070 3365 3735 3570 3535 3155 2965 3430 3210 3380\n",
      " 3070 3620 3410 3445 3205 4080 2560 2230 2515 2745 2855 2405 2830 3140\n",
      " 2795 2135 3245 2990 2890 3265 3360 3840 3725 3955 3830 4360 4054 3605\n",
      " 1925 1975 1915 2670 3530 3900 3190 3420 2200 2150 2020 2595 2700 2556\n",
      " 2144 1968 2120 2019 2678 2870 3003 3381 2188 2711 2434 2110 2800 2085\n",
      " 2335 2950 3250 1850 2145 1845 2910 2420 2500 2290 2490 2635 2620 2725\n",
      " 2385 1755 1875 1760 2050 2215 2380 2210 2350 2615 3230 3160 2900 3415\n",
      " 3060 3465 2605 2640 2575 2525 2735 2865 1980 2025 1970 2160 2205 2245\n",
      " 1965 1995 3015 2585 2835 2665 2370 2790 2295 2625]\n",
      "[12.  11.5 11.  10.5 10.   9.   8.5  8.   9.5 15.  15.5 16.  14.5 20.5\n",
      " 17.5 12.5 14.  13.5 18.5 13.  19.  19.5 18.  17.  23.5 16.5 21.  16.9\n",
      " 14.9 17.7 15.3 13.9 12.8 15.4 17.6 22.2 22.1 14.2 17.4 16.2 17.8 12.2\n",
      " 16.4 13.6 15.7 13.2 21.9 16.7 12.1 14.8 18.6 16.8 13.7 11.1 11.4 18.2\n",
      " 15.8 15.9 14.1 21.5 14.4 19.4 19.2 17.2 18.7 15.1 13.4 11.2 14.7 16.6\n",
      " 17.3 15.2 14.3 20.1 24.8 11.3 12.9 18.8 18.1 17.9 21.7 23.7 19.9 21.8\n",
      " 13.8 12.6 16.1 20.7 18.3 20.4 19.6 17.1 15.6 24.6 11.6]\n",
      "[1970 1971 1972 1973 1974 1975 1976 1977 1978 1979 1980 1982]\n",
      "['USA' 'Japan' 'Europe']\n"
     ]
    }
   ],
   "source": [
    "df = pd.read_csv(\"lux/data/car.csv\")"
   ]
  },
  {
   "cell_type": "code",
   "execution_count": 11,
   "metadata": {},
   "outputs": [
    {
     "data": {
      "text/plain": [
       "lux.luxDataFrame.LuxDataframe.LuxDataFrame"
      ]
     },
     "execution_count": 11,
     "metadata": {},
     "output_type": "execute_result"
    }
   ],
   "source": [
    "type(df)"
   ]
  },
  {
   "cell_type": "code",
   "execution_count": 12,
   "metadata": {},
   "outputs": [],
   "source": [
    "df.computeDataType()"
   ]
  },
  {
   "cell_type": "code",
   "execution_count": 13,
   "metadata": {},
   "outputs": [
    {
     "data": {
      "text/plain": [
       "{'quantitative': ['MilesPerGal',\n",
       "  'Displacement',\n",
       "  'Horsepower',\n",
       "  'Weight',\n",
       "  'Acceleration',\n",
       "  'Year'],\n",
       " 'ordinal': [],\n",
       " 'categorical': ['Name', 'Cylinders', 'Origin'],\n",
       " 'date': []}"
      ]
     },
     "execution_count": 13,
     "metadata": {},
     "output_type": "execute_result"
    }
   ],
   "source": [
    "df.dataType"
   ]
  },
  {
   "cell_type": "code",
   "execution_count": 15,
   "metadata": {},
   "outputs": [
    {
     "data": {
      "text/plain": [
       "{'Name': 300,\n",
       " 'MilesPerGal': 127,\n",
       " 'Cylinders': 5,\n",
       " 'Displacement': 81,\n",
       " 'Horsepower': 93,\n",
       " 'Weight': 346,\n",
       " 'Acceleration': 95,\n",
       " 'Year': 12,\n",
       " 'Origin': 3}"
      ]
     },
     "execution_count": 15,
     "metadata": {},
     "output_type": "execute_result"
    }
   ],
   "source": [
    "df.cardinality"
   ]
  },
  {
   "cell_type": "code",
   "execution_count": 14,
   "metadata": {},
   "outputs": [],
   "source": [
    "df.setContext([Spec(\"A\",channel=\"x\"), Spec(\"C\",channel=\"y\")])"
   ]
  },
  {
   "cell_type": "code",
   "execution_count": 15,
   "metadata": {},
   "outputs": [
    {
     "data": {
      "text/plain": [
       "[Spec <A,channel:x,dataType:,dataModel:>,\n",
       " Spec <C,channel:y,dataType:,dataModel:>]"
      ]
     },
     "execution_count": 15,
     "metadata": {},
     "output_type": "execute_result"
    }
   ],
   "source": [
    "df.getContext()"
   ]
  },
  {
   "cell_type": "code",
   "execution_count": 16,
   "metadata": {},
   "outputs": [],
   "source": [
    "df = df[df['Name'] == 'chevrolet chevelle malibu']"
   ]
  },
  {
   "cell_type": "code",
   "execution_count": 17,
   "metadata": {},
   "outputs": [
    {
     "data": {
      "text/plain": [
       "[Spec <A,channel:x,dataType:,dataModel:>,\n",
       " Spec <C,channel:y,dataType:,dataModel:>]"
      ]
     },
     "execution_count": 17,
     "metadata": {},
     "output_type": "execute_result"
    }
   ],
   "source": [
    "df.getContext()"
   ]
  },
  {
   "cell_type": "code",
   "execution_count": null,
   "metadata": {},
   "outputs": [],
   "source": []
  },
  {
   "cell_type": "code",
   "execution_count": 26,
   "metadata": {},
   "outputs": [],
   "source": []
  },
  {
   "cell_type": "code",
   "execution_count": 27,
   "metadata": {},
   "outputs": [
    {
     "data": {
      "text/plain": [
       "[Spec <A,channel:x,dataType:,dataModel:>,\n",
       " Spec <C,channel:y,dataType:,dataModel:>]"
      ]
     },
     "execution_count": 27,
     "metadata": {},
     "output_type": "execute_result"
    }
   ],
   "source": []
  },
  {
   "cell_type": "code",
   "execution_count": 29,
   "metadata": {},
   "outputs": [],
   "source": []
  },
  {
   "cell_type": "code",
   "execution_count": 30,
   "metadata": {},
   "outputs": [
    {
     "data": {
      "text/plain": [
       "[Spec <A,channel:x,dataType:,dataModel:>,\n",
       " Spec <C,channel:y,dataType:,dataModel:>]"
      ]
     },
     "execution_count": 30,
     "metadata": {},
     "output_type": "execute_result"
    }
   ],
   "source": []
  },
  {
   "cell_type": "code",
   "execution_count": 31,
   "metadata": {},
   "outputs": [
    {
     "data": {
      "text/plain": [
       "lux.luxDataFrame.LuxDataframe.LuxDataFrame"
      ]
     },
     "execution_count": 31,
     "metadata": {},
     "output_type": "execute_result"
    }
   ],
   "source": [
    "type(df)"
   ]
  },
  {
   "cell_type": "code",
   "execution_count": 32,
   "metadata": {},
   "outputs": [],
   "source": [
    "df2 = df.copy()\n",
    "df3 = df2[df2['Year'] == 1970]"
   ]
  },
  {
   "cell_type": "code",
   "execution_count": 34,
   "metadata": {},
   "outputs": [
    {
     "data": {
      "text/plain": [
       "lux.luxDataFrame.LuxDataframe.LuxDataFrame"
      ]
     },
     "execution_count": 34,
     "metadata": {},
     "output_type": "execute_result"
    }
   ],
   "source": [
    "type(df3)"
   ]
  },
  {
   "cell_type": "code",
   "execution_count": 33,
   "metadata": {},
   "outputs": [
    {
     "data": {
      "text/plain": [
       "[Spec <A,channel:x,dataType:,dataModel:>,\n",
       " Spec <C,channel:y,dataType:,dataModel:>]"
      ]
     },
     "execution_count": 33,
     "metadata": {},
     "output_type": "execute_result"
    }
   ],
   "source": [
    "df3.context"
   ]
  },
  {
   "cell_type": "code",
   "execution_count": 38,
   "metadata": {},
   "outputs": [
    {
     "data": {
      "application/vnd.jupyter.widget-view+json": {
       "model_id": "d03c767dece347c8b947528c56803cc0",
       "version_major": 2,
       "version_minor": 0
      },
      "text/plain": [
       "LuxWidget(recommendations=[{'action': 'Distribution', 'description': 'Show univariate count distributions of d…"
      ]
     },
     "metadata": {},
     "output_type": "display_data"
    },
    {
     "data": {
      "text/plain": []
     },
     "execution_count": 38,
     "metadata": {},
     "output_type": "execute_result"
    }
   ],
   "source": [
    "df.head() # weird"
   ]
  },
  {
   "cell_type": "code",
   "execution_count": 40,
   "metadata": {},
   "outputs": [],
   "source": [
    "df.drop(\"Horsepower\",axis=1, inplace=True)"
   ]
  },
  {
   "cell_type": "code",
   "execution_count": 44,
   "metadata": {},
   "outputs": [],
   "source": [
    "# df.MilesPerGal"
   ]
  },
  {
   "cell_type": "code",
   "execution_count": 41,
   "metadata": {},
   "outputs": [
    {
     "data": {
      "text/plain": [
       "[Spec <A,channel:x,dataType:,dataModel:>,\n",
       " Spec <C,channel:y,dataType:,dataModel:>]"
      ]
     },
     "execution_count": 41,
     "metadata": {},
     "output_type": "execute_result"
    }
   ],
   "source": [
    "df.context"
   ]
  },
  {
   "cell_type": "code",
   "execution_count": null,
   "metadata": {},
   "outputs": [],
   "source": []
  }
 ],
 "metadata": {
  "kernelspec": {
   "display_name": "Python 3",
   "language": "python",
   "name": "python3"
  },
  "language_info": {
   "codemirror_mode": {
    "name": "ipython",
    "version": 3
   },
   "file_extension": ".py",
   "mimetype": "text/x-python",
   "name": "python",
   "nbconvert_exporter": "python",
   "pygments_lexer": "ipython3",
   "version": "3.7.3"
  }
 },
 "nbformat": 4,
 "nbformat_minor": 2
}

{
 "cells": [
  {
   "cell_type": "markdown",
   "id": "dangerous-botswana",
   "metadata": {},
   "source": [
    "# User Study Notebook \n",
    "-----------\n",
    "# Part 1: EDA\n",
    "\n",
    "For this activity, you will be asked to explore a dataset using pandas. While you are exploring the dataset, a library called __lux__ will be activated that will suggest visualizations to you. The goal of this library is to track which functions you are using and suggest visualizations that plot the data from these functions. To see visualization recommendations simply execute the name of the pandas dataframe or series you would like to visualize and __lux__ will replace the default output with visualizations.\n",
    "\n",
    "Our goal is to have you explore the dataset how you normally would in python using __pandas__, and see how well __lux__ is able to recommend useful reccomendations.\n",
    "\n",
    "As you execute more pandas functions __lux__ will be able to reccomend more visualizations.\n"
   ]
  },
  {
   "cell_type": "code",
   "execution_count": 6,
   "id": "computational-visitor",
   "metadata": {},
   "outputs": [],
   "source": [
    "import lux\n",
    "from vega_datasets import data\n",
    "import pandas as pd\n",
    "\n",
    "# lux.config.default_display = \"lux\""
   ]
  },
  {
   "cell_type": "markdown",
   "id": "fantastic-tomato",
   "metadata": {},
   "source": [
    "For this activity we will be using a dataset about movies sales over different years with some info about the different movies. To try to replicate a real-world analysis task, this dataset has not been thoroughly cleaned."
   ]
  },
  {
   "cell_type": "code",
   "execution_count": 7,
   "id": "dietary-investing",
   "metadata": {},
   "outputs": [],
   "source": [
    "df = data.movies()\n",
    "df['Release_Date'] = pd.to_datetime(df['Release_Date'], infer_datetime_format=True)"
   ]
  },
  {
   "cell_type": "markdown",
   "id": "chicken-crack",
   "metadata": {},
   "source": [
    "Since we modified the `Release_Date` column above, you can see that it is included in our recomendations below."
   ]
  },
  {
   "cell_type": "code",
   "execution_count": 8,
   "id": "frequent-registration",
   "metadata": {},
   "outputs": [
    {
     "data": {
      "application/vnd.jupyter.widget-view+json": {
       "model_id": "beeb5ca29c744b95941046859d7a3a6f",
       "version_major": 2,
       "version_minor": 0
      },
      "text/plain": [
       "Button(description='Toggle Pandas/Lux', layout=Layout(top='5px', width='140px'), style=ButtonStyle())"
      ]
     },
     "metadata": {},
     "output_type": "display_data"
    },
    {
     "data": {
      "application/vnd.jupyter.widget-view+json": {
       "model_id": "948fb01b4d46427984977ebc1a89672b",
       "version_major": 2,
       "version_minor": 0
      },
      "text/plain": [
       "Output()"
      ]
     },
     "metadata": {},
     "output_type": "display_data"
    }
   ],
   "source": [
    "df"
   ]
  },
  {
   "cell_type": "markdown",
   "id": "attempted-jason",
   "metadata": {},
   "source": [
    "Please take a couple of minutes to familiarize yourself with this dataset. You will be asked some specific analysis questions later on but for now take some time to explore the features of the dataset, clean it or reformat it however you like, and become generally comfortable with what is in the data. "
   ]
  },
  {
   "cell_type": "code",
   "execution_count": null,
   "id": "introductory-ethiopia",
   "metadata": {},
   "outputs": [],
   "source": [
    "df.describe()"
   ]
  },
  {
   "cell_type": "code",
   "execution_count": null,
   "id": "hungarian-supervision",
   "metadata": {},
   "outputs": [],
   "source": []
  },
  {
   "cell_type": "code",
   "execution_count": null,
   "id": "gothic-suspension",
   "metadata": {},
   "outputs": [],
   "source": []
  },
  {
   "cell_type": "code",
   "execution_count": null,
   "id": "altered-integral",
   "metadata": {},
   "outputs": [],
   "source": []
  },
  {
   "cell_type": "code",
   "execution_count": null,
   "id": "gentle-importance",
   "metadata": {},
   "outputs": [],
   "source": []
  },
  {
   "cell_type": "code",
   "execution_count": null,
   "id": "subjective-inflation",
   "metadata": {},
   "outputs": [],
   "source": []
  },
  {
   "cell_type": "code",
   "execution_count": 3,
   "id": "later-findings",
   "metadata": {},
   "outputs": [
    {
     "name": "stdout",
     "output_type": "stream",
     "text": [
      "> \u001b[0;32m/Users/wepperso/Documents/Research/Projects/Notebook_Vis_Rec_Projects/lux/lux/executor/PandasExecutor.py\u001b[0m(413)\u001b[0;36mcompute_data_type\u001b[0;34m()\u001b[0m\n",
      "\u001b[0;32m    411 \u001b[0;31m    \u001b[0;32mdef\u001b[0m \u001b[0mcompute_data_type\u001b[0m\u001b[0;34m(\u001b[0m\u001b[0mself\u001b[0m\u001b[0;34m,\u001b[0m \u001b[0mldf\u001b[0m\u001b[0;34m:\u001b[0m \u001b[0mLuxDataFrame\u001b[0m\u001b[0;34m)\u001b[0m\u001b[0;34m:\u001b[0m\u001b[0;34m\u001b[0m\u001b[0;34m\u001b[0m\u001b[0m\n",
      "\u001b[0m\u001b[0;32m    412 \u001b[0;31m        \u001b[0mset_trace\u001b[0m\u001b[0;34m(\u001b[0m\u001b[0;34m)\u001b[0m\u001b[0;34m\u001b[0m\u001b[0;34m\u001b[0m\u001b[0m\n",
      "\u001b[0m\u001b[0;32m--> 413 \u001b[0;31m        \u001b[0mldf\u001b[0m\u001b[0;34m.\u001b[0m\u001b[0mhistory\u001b[0m\u001b[0;34m.\u001b[0m\u001b[0mfreeze\u001b[0m\u001b[0;34m(\u001b[0m\u001b[0;34m)\u001b[0m\u001b[0;34m\u001b[0m\u001b[0;34m\u001b[0m\u001b[0m\n",
      "\u001b[0m\u001b[0;32m    414 \u001b[0;31m        \u001b[0;32mfrom\u001b[0m \u001b[0mpandas\u001b[0m\u001b[0;34m.\u001b[0m\u001b[0mapi\u001b[0m\u001b[0;34m.\u001b[0m\u001b[0mtypes\u001b[0m \u001b[0;32mimport\u001b[0m \u001b[0mis_datetime64_any_dtype\u001b[0m \u001b[0;32mas\u001b[0m \u001b[0mis_datetime\u001b[0m\u001b[0;34m\u001b[0m\u001b[0;34m\u001b[0m\u001b[0m\n",
      "\u001b[0m\u001b[0;32m    415 \u001b[0;31m\u001b[0;34m\u001b[0m\u001b[0m\n",
      "\u001b[0m\n"
     ]
    },
    {
     "name": "stdin",
     "output_type": "stream",
     "text": [
      "ipdb>  c\n"
     ]
    },
    {
     "data": {
      "application/vnd.jupyter.widget-view+json": {
       "model_id": "a6333d50e43349dcbf8271c67d94012d",
       "version_major": 2,
       "version_minor": 0
      },
      "text/plain": [
       "Button(description='Toggle Pandas/Lux', layout=Layout(top='5px', width='140px'), style=ButtonStyle())"
      ]
     },
     "metadata": {},
     "output_type": "display_data"
    },
    {
     "data": {
      "application/vnd.jupyter.widget-view+json": {
       "model_id": "16e0436325c94f4fa13d415a5ce51448",
       "version_major": 2,
       "version_minor": 0
      },
      "text/plain": [
       "Output()"
      ]
     },
     "metadata": {},
     "output_type": "display_data"
    }
   ],
   "source": [
    "df"
   ]
  },
  {
   "cell_type": "markdown",
   "id": "governmental-joint",
   "metadata": {},
   "source": [
    "-----------\n",
    "# Part 2: Specific Tasks\n",
    "\n",
    "Great! Hopefully you feel comfortable with the general features of this dataset. You will now be asked a couple of specific questions about the data (that you may or may not have explored during your EDA). "
   ]
  },
  {
   "cell_type": "markdown",
   "id": "secure-enzyme",
   "metadata": {},
   "source": [
    "### 2.1\n",
    "How many different `MPAA_Rating`s are there? What does the distribution look like?"
   ]
  },
  {
   "cell_type": "code",
   "execution_count": null,
   "id": "weekly-radar",
   "metadata": {},
   "outputs": [],
   "source": [
    "df.MPAA_Rating.value_counts()"
   ]
  },
  {
   "cell_type": "markdown",
   "id": "damaged-testing",
   "metadata": {},
   "source": [
    "### 2.2\n",
    "Which movie had the highest worldwide gross? "
   ]
  },
  {
   "cell_type": "code",
   "execution_count": null,
   "id": "western-lucas",
   "metadata": {},
   "outputs": [],
   "source": [
    "df.MPAA_Rating.value_counts()"
   ]
  },
  {
   "cell_type": "markdown",
   "id": "architectural-clinic",
   "metadata": {},
   "source": [
    "### 2.3\n",
    "Which movie had the higest US gross?"
   ]
  },
  {
   "cell_type": "code",
   "execution_count": null,
   "id": "violent-haiti",
   "metadata": {},
   "outputs": [],
   "source": []
  },
  {
   "cell_type": "markdown",
   "id": "stretch-wheel",
   "metadata": {},
   "source": [
    "### 2.4\n",
    "What is the average Worldwide and US gross for different `MPAA_Rating` rated movies?"
   ]
  },
  {
   "cell_type": "code",
   "execution_count": null,
   "id": "sunset-holly",
   "metadata": {},
   "outputs": [],
   "source": []
  },
  {
   "cell_type": "markdown",
   "id": "printable-poland",
   "metadata": {},
   "source": [
    "### 2.5\n",
    "Which genre has the highest and lowest median gross (worldwide)?"
   ]
  },
  {
   "cell_type": "code",
   "execution_count": null,
   "id": "growing-optics",
   "metadata": {},
   "outputs": [],
   "source": []
  },
  {
   "cell_type": "markdown",
   "id": "martial-certificate",
   "metadata": {},
   "source": [
    "### 2.6\n",
    "How do highly rated IMDB movies (>5) compare to non-highly rated (in general, answer however you please)"
   ]
  },
  {
   "cell_type": "code",
   "execution_count": null,
   "id": "growing-holiday",
   "metadata": {},
   "outputs": [],
   "source": []
  },
  {
   "cell_type": "markdown",
   "id": "frozen-female",
   "metadata": {},
   "source": [
    "### 2.7\n",
    "What does the relationship between `IMDB` rating and `Rotten tomatoes` rating look like?"
   ]
  },
  {
   "cell_type": "code",
   "execution_count": null,
   "id": "champion-participation",
   "metadata": {},
   "outputs": [],
   "source": []
  },
  {
   "cell_type": "code",
   "execution_count": null,
   "id": "worthy-pension",
   "metadata": {},
   "outputs": [],
   "source": []
  },
  {
   "cell_type": "code",
   "execution_count": null,
   "id": "horizontal-emerald",
   "metadata": {},
   "outputs": [],
   "source": []
  },
  {
   "cell_type": "code",
   "execution_count": null,
   "id": "middle-hospital",
   "metadata": {},
   "outputs": [],
   "source": []
  },
  {
   "cell_type": "code",
   "execution_count": null,
   "id": "fifth-guard",
   "metadata": {},
   "outputs": [],
   "source": []
  },
  {
   "cell_type": "code",
   "execution_count": null,
   "id": "cardiovascular-abortion",
   "metadata": {},
   "outputs": [],
   "source": []
  },
  {
   "cell_type": "code",
   "execution_count": null,
   "id": "prerequisite-lingerie",
   "metadata": {},
   "outputs": [],
   "source": []
  },
  {
   "cell_type": "code",
   "execution_count": null,
   "id": "dated-length",
   "metadata": {},
   "outputs": [],
   "source": []
  },
  {
   "cell_type": "code",
   "execution_count": null,
   "id": "internal-energy",
   "metadata": {},
   "outputs": [],
   "source": []
  },
  {
   "cell_type": "code",
   "execution_count": null,
   "id": "plastic-current",
   "metadata": {},
   "outputs": [],
   "source": []
  },
  {
   "cell_type": "markdown",
   "id": "impressive-belfast",
   "metadata": {},
   "source": [
    "------------\n",
    "# Part 3: Encoding feedback (optional)\n",
    "\n",
    "Please run the following cells and give feedback on how approiate the reccomended visual encoding is for that function."
   ]
  },
  {
   "cell_type": "code",
   "execution_count": null,
   "id": "speaking-riverside",
   "metadata": {},
   "outputs": [],
   "source": [
    "df = data.movies()\n",
    "df['Release_Date'] = pd.to_datetime(df['Release_Date'], infer_datetime_format=True)\n",
    "df.history.clear()"
   ]
  },
  {
   "cell_type": "code",
   "execution_count": null,
   "id": "antique-mirror",
   "metadata": {},
   "outputs": [],
   "source": [
    "df"
   ]
  },
  {
   "cell_type": "markdown",
   "id": "pursuant-wheat",
   "metadata": {},
   "source": [
    "### 3.1: Describe()"
   ]
  },
  {
   "cell_type": "code",
   "execution_count": null,
   "id": "asian-confusion",
   "metadata": {},
   "outputs": [],
   "source": [
    "df.describe()"
   ]
  },
  {
   "cell_type": "markdown",
   "id": "premier-promotion",
   "metadata": {},
   "source": [
    "### 3.2: Value_Counts()"
   ]
  },
  {
   "cell_type": "code",
   "execution_count": null,
   "id": "developmental-trigger",
   "metadata": {},
   "outputs": [],
   "source": [
    "df.Distributor.value_counts()"
   ]
  },
  {
   "cell_type": "code",
   "execution_count": null,
   "id": "twelve-remainder",
   "metadata": {},
   "outputs": [],
   "source": [
    "df.MPAA_Rating.value_counts()"
   ]
  },
  {
   "cell_type": "markdown",
   "id": "departmental-variance",
   "metadata": {},
   "source": [
    "### 3.3: Filter"
   ]
  },
  {
   "cell_type": "code",
   "execution_count": null,
   "id": "alive-integration",
   "metadata": {},
   "outputs": [],
   "source": [
    "df[df.MPAA_Rating == \"R\"]"
   ]
  },
  {
   "cell_type": "code",
   "execution_count": null,
   "id": "bottom-complex",
   "metadata": {},
   "outputs": [],
   "source": [
    "df[(df.MPAA_Rating == \"R\") & (df.Worldwide_Gross > 85343400)]"
   ]
  },
  {
   "cell_type": "markdown",
   "id": "split-highland",
   "metadata": {},
   "source": [
    "### 3.4: df agg"
   ]
  },
  {
   "cell_type": "code",
   "execution_count": null,
   "id": "boolean-color",
   "metadata": {},
   "outputs": [],
   "source": [
    "df.mean()"
   ]
  },
  {
   "cell_type": "code",
   "execution_count": null,
   "id": "roman-sender",
   "metadata": {},
   "outputs": [],
   "source": [
    "df.median()"
   ]
  },
  {
   "cell_type": "markdown",
   "id": "organizational-adapter",
   "metadata": {},
   "source": [
    "### 3.5: df groupby agg"
   ]
  },
  {
   "cell_type": "code",
   "execution_count": null,
   "id": "respiratory-indonesian",
   "metadata": {},
   "outputs": [],
   "source": [
    "df.groupby(\"MPAA_Rating\").mean(\"Worldwide_Gross\")"
   ]
  },
  {
   "cell_type": "code",
   "execution_count": null,
   "id": "least-jenny",
   "metadata": {},
   "outputs": [],
   "source": [
    "df.groupby(\"Distributor\").agg({\"Worldwide_Gross\": \"mean\", \"US_Gross\": \"mean\", \"Runtime_min\": \"median\"})"
   ]
  }
 ],
 "metadata": {
  "kernelspec": {
   "display_name": "Python 3",
   "language": "python",
   "name": "python3"
  },
  "language_info": {
   "codemirror_mode": {
    "name": "ipython",
    "version": 3
   },
   "file_extension": ".py",
   "mimetype": "text/x-python",
   "name": "python",
   "nbconvert_exporter": "python",
   "pygments_lexer": "ipython3",
   "version": "3.9.1"
  }
 },
 "nbformat": 4,
 "nbformat_minor": 5
}

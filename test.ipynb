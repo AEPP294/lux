{
 "cells": [
  {
   "cell_type": "code",
   "execution_count": 1,
   "metadata": {},
   "outputs": [
    {
     "name": "stderr",
     "output_type": "stream",
     "text": [
      "/Users/micahyong/.local/lib/python3.8/site-packages/IPython/core/formatters.py:918: UserWarning:\n",
      "Unexpected error in rendering Lux widget and recommendations. Falling back to Pandas display.\n",
      "Please report the following issue on Github: https://github.com/lux-org/lux/issues \n",
      "\n",
      "/Users/micahyong/Desktop/lux/lux/lux/core/frame.py:680: UserWarning:Traceback (most recent call last):\n",
      "  File \"/Users/micahyong/Desktop/lux/lux/lux/core/frame.py\", line 642, in _ipython_display_\n",
      "    self.maintain_recs()\n",
      "  File \"/Users/micahyong/Desktop/lux/lux/lux/core/frame.py\", line 501, in maintain_recs\n",
      "    self._widget = rec_df.render_widget()\n",
      "  File \"/Users/micahyong/Desktop/lux/lux/lux/core/frame.py\", line 729, in render_widget\n",
      "    widgetJSON = self.to_JSON(self._rec_info, input_current_vis=input_current_vis)\n",
      "  File \"/Users/micahyong/Desktop/lux/lux/lux/core/frame.py\", line 760, in to_JSON\n",
      "    widget_spec[\"current_vis\"] = LuxDataFrame.current_vis_to_JSON(\n",
      "  File \"/Users/micahyong/Desktop/lux/lux/lux/core/frame.py\", line 777, in current_vis_to_JSON\n",
      "    current_vis_spec = vlist[0].to_code(language=lux.config.plotting_backend, prettyOutput=False)\n",
      "  File \"/Users/micahyong/Desktop/lux/lux/lux/vis/Vis.py\", line 311, in to_code\n",
      "    return self.to_matplotlib()\n",
      "  File \"/Users/micahyong/Desktop/lux/lux/lux/vis/Vis.py\", line 252, in to_matplotlib\n",
      "    self._code = renderer.create_vis(self)\n",
      "  File \"/Users/micahyong/Desktop/lux/lux/lux/vislib/matplotlib/MatplotlibRenderer.py\", line 100, in create_vis\n",
      "    bbox.scale(lux.config.plotting_scale)\n",
      "AttributeError: 'Bbox' object has no attribute 'scale'\n",
      "\n",
      "/Users/micahyong/.local/lib/python3.8/site-packages/IPython/core/formatters.py:918: UserWarning:\n",
      "Unexpected error in rendering Lux widget and recommendations. Falling back to Pandas display.\n",
      "Please report the following issue on Github: https://github.com/lux-org/lux/issues \n",
      "\n",
      "/Users/micahyong/Desktop/lux/lux/lux/core/frame.py:680: UserWarning:Traceback (most recent call last):\n",
      "  File \"/Users/micahyong/Desktop/lux/lux/lux/core/frame.py\", line 642, in _ipython_display_\n",
      "    self.maintain_recs()\n",
      "  File \"/Users/micahyong/Desktop/lux/lux/lux/core/frame.py\", line 501, in maintain_recs\n",
      "    self._widget = rec_df.render_widget()\n",
      "  File \"/Users/micahyong/Desktop/lux/lux/lux/core/frame.py\", line 729, in render_widget\n",
      "    widgetJSON = self.to_JSON(self._rec_info, input_current_vis=input_current_vis)\n",
      "  File \"/Users/micahyong/Desktop/lux/lux/lux/core/frame.py\", line 760, in to_JSON\n",
      "    widget_spec[\"current_vis\"] = LuxDataFrame.current_vis_to_JSON(\n",
      "  File \"/Users/micahyong/Desktop/lux/lux/lux/core/frame.py\", line 777, in current_vis_to_JSON\n",
      "    current_vis_spec = vlist[0].to_code(language=lux.config.plotting_backend, prettyOutput=False)\n",
      "  File \"/Users/micahyong/Desktop/lux/lux/lux/vis/Vis.py\", line 311, in to_code\n",
      "    return self.to_matplotlib()\n",
      "  File \"/Users/micahyong/Desktop/lux/lux/lux/vis/Vis.py\", line 252, in to_matplotlib\n",
      "    self._code = renderer.create_vis(self)\n",
      "  File \"/Users/micahyong/Desktop/lux/lux/lux/vislib/matplotlib/MatplotlibRenderer.py\", line 100, in create_vis\n",
      "    bbox.scale(lux.config.plotting_scale)\n",
      "AttributeError: 'Bbox' object has no attribute 'scale'\n",
      "\n"
     ]
    },
    {
     "data": {
      "text/html": [
       "<div>\n",
       "<style scoped>\n",
       "    .dataframe tbody tr th:only-of-type {\n",
       "        vertical-align: middle;\n",
       "    }\n",
       "\n",
       "    .dataframe tbody tr th {\n",
       "        vertical-align: top;\n",
       "    }\n",
       "\n",
       "    .dataframe thead th {\n",
       "        text-align: right;\n",
       "    }\n",
       "</style>\n",
       "<table border=\"1\" class=\"dataframe\">\n",
       "  <thead>\n",
       "    <tr style=\"text-align: right;\">\n",
       "      <th></th>\n",
       "      <th>Name</th>\n",
       "      <th>PredominantDegree</th>\n",
       "      <th>HighestDegree</th>\n",
       "      <th>FundingModel</th>\n",
       "      <th>Region</th>\n",
       "      <th>Geography</th>\n",
       "      <th>AdmissionRate</th>\n",
       "      <th>ACTMedian</th>\n",
       "      <th>SATAverage</th>\n",
       "      <th>AverageCost</th>\n",
       "      <th>Expenditure</th>\n",
       "      <th>AverageFacultySalary</th>\n",
       "      <th>MedianDebt</th>\n",
       "      <th>AverageAgeofEntry</th>\n",
       "      <th>MedianFamilyIncome</th>\n",
       "      <th>MedianEarnings</th>\n",
       "    </tr>\n",
       "  </thead>\n",
       "  <tbody>\n",
       "    <tr>\n",
       "      <th>0</th>\n",
       "      <td>Alabama A &amp; M University</td>\n",
       "      <td>Bachelor's</td>\n",
       "      <td>Graduate</td>\n",
       "      <td>Public</td>\n",
       "      <td>Southeast</td>\n",
       "      <td>Mid-size City</td>\n",
       "      <td>0.8989</td>\n",
       "      <td>17</td>\n",
       "      <td>823</td>\n",
       "      <td>18888</td>\n",
       "      <td>7459</td>\n",
       "      <td>7079</td>\n",
       "      <td>19500.0</td>\n",
       "      <td>20.629999</td>\n",
       "      <td>29039.0</td>\n",
       "      <td>27000</td>\n",
       "    </tr>\n",
       "    <tr>\n",
       "      <th>1</th>\n",
       "      <td>University of Alabama at Birmingham</td>\n",
       "      <td>Bachelor's</td>\n",
       "      <td>Graduate</td>\n",
       "      <td>Public</td>\n",
       "      <td>Southeast</td>\n",
       "      <td>Mid-size City</td>\n",
       "      <td>0.8673</td>\n",
       "      <td>25</td>\n",
       "      <td>1146</td>\n",
       "      <td>19990</td>\n",
       "      <td>17208</td>\n",
       "      <td>10170</td>\n",
       "      <td>16250.0</td>\n",
       "      <td>22.670000</td>\n",
       "      <td>34909.0</td>\n",
       "      <td>37200</td>\n",
       "    </tr>\n",
       "    <tr>\n",
       "      <th>2</th>\n",
       "      <td>University of Alabama in Huntsville</td>\n",
       "      <td>Bachelor's</td>\n",
       "      <td>Graduate</td>\n",
       "      <td>Public</td>\n",
       "      <td>Southeast</td>\n",
       "      <td>Mid-size City</td>\n",
       "      <td>0.8062</td>\n",
       "      <td>26</td>\n",
       "      <td>1180</td>\n",
       "      <td>20306</td>\n",
       "      <td>9352</td>\n",
       "      <td>9341</td>\n",
       "      <td>16500.0</td>\n",
       "      <td>23.190001</td>\n",
       "      <td>39766.0</td>\n",
       "      <td>41500</td>\n",
       "    </tr>\n",
       "    <tr>\n",
       "      <th>3</th>\n",
       "      <td>Alabama State University</td>\n",
       "      <td>Bachelor's</td>\n",
       "      <td>Graduate</td>\n",
       "      <td>Public</td>\n",
       "      <td>Southeast</td>\n",
       "      <td>Mid-size City</td>\n",
       "      <td>0.5125</td>\n",
       "      <td>17</td>\n",
       "      <td>830</td>\n",
       "      <td>17400</td>\n",
       "      <td>7393</td>\n",
       "      <td>6557</td>\n",
       "      <td>15854.5</td>\n",
       "      <td>20.889999</td>\n",
       "      <td>24029.5</td>\n",
       "      <td>22400</td>\n",
       "    </tr>\n",
       "    <tr>\n",
       "      <th>4</th>\n",
       "      <td>The University of Alabama</td>\n",
       "      <td>Bachelor's</td>\n",
       "      <td>Graduate</td>\n",
       "      <td>Public</td>\n",
       "      <td>Southeast</td>\n",
       "      <td>Small City</td>\n",
       "      <td>0.5655</td>\n",
       "      <td>26</td>\n",
       "      <td>1171</td>\n",
       "      <td>26717</td>\n",
       "      <td>9817</td>\n",
       "      <td>9605</td>\n",
       "      <td>17750.0</td>\n",
       "      <td>20.770000</td>\n",
       "      <td>58976.0</td>\n",
       "      <td>39200</td>\n",
       "    </tr>\n",
       "    <tr>\n",
       "      <th>...</th>\n",
       "      <td>...</td>\n",
       "      <td>...</td>\n",
       "      <td>...</td>\n",
       "      <td>...</td>\n",
       "      <td>...</td>\n",
       "      <td>...</td>\n",
       "      <td>...</td>\n",
       "      <td>...</td>\n",
       "      <td>...</td>\n",
       "      <td>...</td>\n",
       "      <td>...</td>\n",
       "      <td>...</td>\n",
       "      <td>...</td>\n",
       "      <td>...</td>\n",
       "      <td>...</td>\n",
       "      <td>...</td>\n",
       "    </tr>\n",
       "    <tr>\n",
       "      <th>1289</th>\n",
       "      <td>University of Connecticut-Avery Point</td>\n",
       "      <td>Bachelor's</td>\n",
       "      <td>Graduate</td>\n",
       "      <td>Public</td>\n",
       "      <td>New England</td>\n",
       "      <td>Mid-size Suburb</td>\n",
       "      <td>0.5940</td>\n",
       "      <td>24</td>\n",
       "      <td>1020</td>\n",
       "      <td>12946</td>\n",
       "      <td>11730</td>\n",
       "      <td>14803</td>\n",
       "      <td>18983.0</td>\n",
       "      <td>20.120001</td>\n",
       "      <td>86510.0</td>\n",
       "      <td>49700</td>\n",
       "    </tr>\n",
       "    <tr>\n",
       "      <th>1290</th>\n",
       "      <td>University of Connecticut-Stamford</td>\n",
       "      <td>Bachelor's</td>\n",
       "      <td>Graduate</td>\n",
       "      <td>Public</td>\n",
       "      <td>New England</td>\n",
       "      <td>Mid-size City</td>\n",
       "      <td>0.4107</td>\n",
       "      <td>21</td>\n",
       "      <td>1017</td>\n",
       "      <td>13028</td>\n",
       "      <td>4958</td>\n",
       "      <td>14803</td>\n",
       "      <td>18983.0</td>\n",
       "      <td>20.120001</td>\n",
       "      <td>86510.0</td>\n",
       "      <td>49700</td>\n",
       "    </tr>\n",
       "    <tr>\n",
       "      <th>1291</th>\n",
       "      <td>California State University-Channel Islands</td>\n",
       "      <td>Bachelor's</td>\n",
       "      <td>Graduate</td>\n",
       "      <td>Public</td>\n",
       "      <td>Far West</td>\n",
       "      <td>Mid-size Suburb</td>\n",
       "      <td>0.6443</td>\n",
       "      <td>20</td>\n",
       "      <td>954</td>\n",
       "      <td>22570</td>\n",
       "      <td>12026</td>\n",
       "      <td>8434</td>\n",
       "      <td>12500.0</td>\n",
       "      <td>24.850000</td>\n",
       "      <td>32103.0</td>\n",
       "      <td>35800</td>\n",
       "    </tr>\n",
       "    <tr>\n",
       "      <th>1292</th>\n",
       "      <td>DigiPen Institute of Technology</td>\n",
       "      <td>Bachelor's</td>\n",
       "      <td>Graduate</td>\n",
       "      <td>Private For-Profit</td>\n",
       "      <td>Far West</td>\n",
       "      <td>Small City</td>\n",
       "      <td>0.6635</td>\n",
       "      <td>28</td>\n",
       "      <td>1225</td>\n",
       "      <td>37848</td>\n",
       "      <td>5998</td>\n",
       "      <td>7659</td>\n",
       "      <td>19000.0</td>\n",
       "      <td>21.209999</td>\n",
       "      <td>68233.0</td>\n",
       "      <td>72800</td>\n",
       "    </tr>\n",
       "    <tr>\n",
       "      <th>1293</th>\n",
       "      <td>Neumont University</td>\n",
       "      <td>Bachelor's</td>\n",
       "      <td>Bachelor's</td>\n",
       "      <td>Private For-Profit</td>\n",
       "      <td>Rocky Mountains</td>\n",
       "      <td>Mid-size City</td>\n",
       "      <td>0.7997</td>\n",
       "      <td>25</td>\n",
       "      <td>1104</td>\n",
       "      <td>37379</td>\n",
       "      <td>3298</td>\n",
       "      <td>6991</td>\n",
       "      <td>22313.0</td>\n",
       "      <td>24.750000</td>\n",
       "      <td>39241.0</td>\n",
       "      <td>37300</td>\n",
       "    </tr>\n",
       "  </tbody>\n",
       "</table>\n",
       "<p>1294 rows × 16 columns</p>\n",
       "</div>"
      ],
      "text/plain": [
       "                                             Name PredominantDegree  \\\n",
       "0                        Alabama A & M University        Bachelor's   \n",
       "1             University of Alabama at Birmingham        Bachelor's   \n",
       "2             University of Alabama in Huntsville        Bachelor's   \n",
       "3                        Alabama State University        Bachelor's   \n",
       "4                       The University of Alabama        Bachelor's   \n",
       "...                                           ...               ...   \n",
       "1289        University of Connecticut-Avery Point        Bachelor's   \n",
       "1290           University of Connecticut-Stamford        Bachelor's   \n",
       "1291  California State University-Channel Islands        Bachelor's   \n",
       "1292              DigiPen Institute of Technology        Bachelor's   \n",
       "1293                           Neumont University        Bachelor's   \n",
       "\n",
       "     HighestDegree        FundingModel           Region        Geography  \\\n",
       "0         Graduate              Public        Southeast    Mid-size City   \n",
       "1         Graduate              Public        Southeast    Mid-size City   \n",
       "2         Graduate              Public        Southeast    Mid-size City   \n",
       "3         Graduate              Public        Southeast    Mid-size City   \n",
       "4         Graduate              Public        Southeast       Small City   \n",
       "...            ...                 ...              ...              ...   \n",
       "1289      Graduate              Public      New England  Mid-size Suburb   \n",
       "1290      Graduate              Public      New England    Mid-size City   \n",
       "1291      Graduate              Public         Far West  Mid-size Suburb   \n",
       "1292      Graduate  Private For-Profit         Far West       Small City   \n",
       "1293    Bachelor's  Private For-Profit  Rocky Mountains    Mid-size City   \n",
       "\n",
       "      AdmissionRate  ACTMedian  SATAverage  AverageCost  Expenditure  \\\n",
       "0            0.8989         17         823        18888         7459   \n",
       "1            0.8673         25        1146        19990        17208   \n",
       "2            0.8062         26        1180        20306         9352   \n",
       "3            0.5125         17         830        17400         7393   \n",
       "4            0.5655         26        1171        26717         9817   \n",
       "...             ...        ...         ...          ...          ...   \n",
       "1289         0.5940         24        1020        12946        11730   \n",
       "1290         0.4107         21        1017        13028         4958   \n",
       "1291         0.6443         20         954        22570        12026   \n",
       "1292         0.6635         28        1225        37848         5998   \n",
       "1293         0.7997         25        1104        37379         3298   \n",
       "\n",
       "      AverageFacultySalary  MedianDebt  AverageAgeofEntry  MedianFamilyIncome  \\\n",
       "0                     7079     19500.0          20.629999             29039.0   \n",
       "1                    10170     16250.0          22.670000             34909.0   \n",
       "2                     9341     16500.0          23.190001             39766.0   \n",
       "3                     6557     15854.5          20.889999             24029.5   \n",
       "4                     9605     17750.0          20.770000             58976.0   \n",
       "...                    ...         ...                ...                 ...   \n",
       "1289                 14803     18983.0          20.120001             86510.0   \n",
       "1290                 14803     18983.0          20.120001             86510.0   \n",
       "1291                  8434     12500.0          24.850000             32103.0   \n",
       "1292                  7659     19000.0          21.209999             68233.0   \n",
       "1293                  6991     22313.0          24.750000             39241.0   \n",
       "\n",
       "      MedianEarnings  \n",
       "0              27000  \n",
       "1              37200  \n",
       "2              41500  \n",
       "3              22400  \n",
       "4              39200  \n",
       "...              ...  \n",
       "1289           49700  \n",
       "1290           49700  \n",
       "1291           35800  \n",
       "1292           72800  \n",
       "1293           37300  \n",
       "\n",
       "[1294 rows x 16 columns]"
      ]
     },
     "metadata": {},
     "output_type": "display_data"
    },
    {
     "data": {
      "text/html": [
       "<div>\n",
       "<style scoped>\n",
       "    .dataframe tbody tr th:only-of-type {\n",
       "        vertical-align: middle;\n",
       "    }\n",
       "\n",
       "    .dataframe tbody tr th {\n",
       "        vertical-align: top;\n",
       "    }\n",
       "\n",
       "    .dataframe thead th {\n",
       "        text-align: right;\n",
       "    }\n",
       "</style>\n",
       "<table border=\"1\" class=\"dataframe\">\n",
       "  <thead>\n",
       "    <tr style=\"text-align: right;\">\n",
       "      <th></th>\n",
       "      <th>Name</th>\n",
       "      <th>PredominantDegree</th>\n",
       "      <th>HighestDegree</th>\n",
       "      <th>FundingModel</th>\n",
       "      <th>Region</th>\n",
       "      <th>Geography</th>\n",
       "      <th>AdmissionRate</th>\n",
       "      <th>ACTMedian</th>\n",
       "      <th>SATAverage</th>\n",
       "      <th>AverageCost</th>\n",
       "      <th>Expenditure</th>\n",
       "      <th>AverageFacultySalary</th>\n",
       "      <th>MedianDebt</th>\n",
       "      <th>AverageAgeofEntry</th>\n",
       "      <th>MedianFamilyIncome</th>\n",
       "      <th>MedianEarnings</th>\n",
       "    </tr>\n",
       "  </thead>\n",
       "  <tbody>\n",
       "    <tr>\n",
       "      <th>0</th>\n",
       "      <td>Alabama A &amp; M University</td>\n",
       "      <td>Bachelor's</td>\n",
       "      <td>Graduate</td>\n",
       "      <td>Public</td>\n",
       "      <td>Southeast</td>\n",
       "      <td>Mid-size City</td>\n",
       "      <td>0.8989</td>\n",
       "      <td>17</td>\n",
       "      <td>823</td>\n",
       "      <td>18888</td>\n",
       "      <td>7459</td>\n",
       "      <td>7079</td>\n",
       "      <td>19500.0</td>\n",
       "      <td>20.629999</td>\n",
       "      <td>29039.0</td>\n",
       "      <td>27000</td>\n",
       "    </tr>\n",
       "    <tr>\n",
       "      <th>1</th>\n",
       "      <td>University of Alabama at Birmingham</td>\n",
       "      <td>Bachelor's</td>\n",
       "      <td>Graduate</td>\n",
       "      <td>Public</td>\n",
       "      <td>Southeast</td>\n",
       "      <td>Mid-size City</td>\n",
       "      <td>0.8673</td>\n",
       "      <td>25</td>\n",
       "      <td>1146</td>\n",
       "      <td>19990</td>\n",
       "      <td>17208</td>\n",
       "      <td>10170</td>\n",
       "      <td>16250.0</td>\n",
       "      <td>22.670000</td>\n",
       "      <td>34909.0</td>\n",
       "      <td>37200</td>\n",
       "    </tr>\n",
       "    <tr>\n",
       "      <th>2</th>\n",
       "      <td>University of Alabama in Huntsville</td>\n",
       "      <td>Bachelor's</td>\n",
       "      <td>Graduate</td>\n",
       "      <td>Public</td>\n",
       "      <td>Southeast</td>\n",
       "      <td>Mid-size City</td>\n",
       "      <td>0.8062</td>\n",
       "      <td>26</td>\n",
       "      <td>1180</td>\n",
       "      <td>20306</td>\n",
       "      <td>9352</td>\n",
       "      <td>9341</td>\n",
       "      <td>16500.0</td>\n",
       "      <td>23.190001</td>\n",
       "      <td>39766.0</td>\n",
       "      <td>41500</td>\n",
       "    </tr>\n",
       "    <tr>\n",
       "      <th>3</th>\n",
       "      <td>Alabama State University</td>\n",
       "      <td>Bachelor's</td>\n",
       "      <td>Graduate</td>\n",
       "      <td>Public</td>\n",
       "      <td>Southeast</td>\n",
       "      <td>Mid-size City</td>\n",
       "      <td>0.5125</td>\n",
       "      <td>17</td>\n",
       "      <td>830</td>\n",
       "      <td>17400</td>\n",
       "      <td>7393</td>\n",
       "      <td>6557</td>\n",
       "      <td>15854.5</td>\n",
       "      <td>20.889999</td>\n",
       "      <td>24029.5</td>\n",
       "      <td>22400</td>\n",
       "    </tr>\n",
       "    <tr>\n",
       "      <th>4</th>\n",
       "      <td>The University of Alabama</td>\n",
       "      <td>Bachelor's</td>\n",
       "      <td>Graduate</td>\n",
       "      <td>Public</td>\n",
       "      <td>Southeast</td>\n",
       "      <td>Small City</td>\n",
       "      <td>0.5655</td>\n",
       "      <td>26</td>\n",
       "      <td>1171</td>\n",
       "      <td>26717</td>\n",
       "      <td>9817</td>\n",
       "      <td>9605</td>\n",
       "      <td>17750.0</td>\n",
       "      <td>20.770000</td>\n",
       "      <td>58976.0</td>\n",
       "      <td>39200</td>\n",
       "    </tr>\n",
       "    <tr>\n",
       "      <th>...</th>\n",
       "      <td>...</td>\n",
       "      <td>...</td>\n",
       "      <td>...</td>\n",
       "      <td>...</td>\n",
       "      <td>...</td>\n",
       "      <td>...</td>\n",
       "      <td>...</td>\n",
       "      <td>...</td>\n",
       "      <td>...</td>\n",
       "      <td>...</td>\n",
       "      <td>...</td>\n",
       "      <td>...</td>\n",
       "      <td>...</td>\n",
       "      <td>...</td>\n",
       "      <td>...</td>\n",
       "      <td>...</td>\n",
       "    </tr>\n",
       "    <tr>\n",
       "      <th>1289</th>\n",
       "      <td>University of Connecticut-Avery Point</td>\n",
       "      <td>Bachelor's</td>\n",
       "      <td>Graduate</td>\n",
       "      <td>Public</td>\n",
       "      <td>New England</td>\n",
       "      <td>Mid-size Suburb</td>\n",
       "      <td>0.5940</td>\n",
       "      <td>24</td>\n",
       "      <td>1020</td>\n",
       "      <td>12946</td>\n",
       "      <td>11730</td>\n",
       "      <td>14803</td>\n",
       "      <td>18983.0</td>\n",
       "      <td>20.120001</td>\n",
       "      <td>86510.0</td>\n",
       "      <td>49700</td>\n",
       "    </tr>\n",
       "    <tr>\n",
       "      <th>1290</th>\n",
       "      <td>University of Connecticut-Stamford</td>\n",
       "      <td>Bachelor's</td>\n",
       "      <td>Graduate</td>\n",
       "      <td>Public</td>\n",
       "      <td>New England</td>\n",
       "      <td>Mid-size City</td>\n",
       "      <td>0.4107</td>\n",
       "      <td>21</td>\n",
       "      <td>1017</td>\n",
       "      <td>13028</td>\n",
       "      <td>4958</td>\n",
       "      <td>14803</td>\n",
       "      <td>18983.0</td>\n",
       "      <td>20.120001</td>\n",
       "      <td>86510.0</td>\n",
       "      <td>49700</td>\n",
       "    </tr>\n",
       "    <tr>\n",
       "      <th>1291</th>\n",
       "      <td>California State University-Channel Islands</td>\n",
       "      <td>Bachelor's</td>\n",
       "      <td>Graduate</td>\n",
       "      <td>Public</td>\n",
       "      <td>Far West</td>\n",
       "      <td>Mid-size Suburb</td>\n",
       "      <td>0.6443</td>\n",
       "      <td>20</td>\n",
       "      <td>954</td>\n",
       "      <td>22570</td>\n",
       "      <td>12026</td>\n",
       "      <td>8434</td>\n",
       "      <td>12500.0</td>\n",
       "      <td>24.850000</td>\n",
       "      <td>32103.0</td>\n",
       "      <td>35800</td>\n",
       "    </tr>\n",
       "    <tr>\n",
       "      <th>1292</th>\n",
       "      <td>DigiPen Institute of Technology</td>\n",
       "      <td>Bachelor's</td>\n",
       "      <td>Graduate</td>\n",
       "      <td>Private For-Profit</td>\n",
       "      <td>Far West</td>\n",
       "      <td>Small City</td>\n",
       "      <td>0.6635</td>\n",
       "      <td>28</td>\n",
       "      <td>1225</td>\n",
       "      <td>37848</td>\n",
       "      <td>5998</td>\n",
       "      <td>7659</td>\n",
       "      <td>19000.0</td>\n",
       "      <td>21.209999</td>\n",
       "      <td>68233.0</td>\n",
       "      <td>72800</td>\n",
       "    </tr>\n",
       "    <tr>\n",
       "      <th>1293</th>\n",
       "      <td>Neumont University</td>\n",
       "      <td>Bachelor's</td>\n",
       "      <td>Bachelor's</td>\n",
       "      <td>Private For-Profit</td>\n",
       "      <td>Rocky Mountains</td>\n",
       "      <td>Mid-size City</td>\n",
       "      <td>0.7997</td>\n",
       "      <td>25</td>\n",
       "      <td>1104</td>\n",
       "      <td>37379</td>\n",
       "      <td>3298</td>\n",
       "      <td>6991</td>\n",
       "      <td>22313.0</td>\n",
       "      <td>24.750000</td>\n",
       "      <td>39241.0</td>\n",
       "      <td>37300</td>\n",
       "    </tr>\n",
       "  </tbody>\n",
       "</table>\n",
       "<p>1294 rows × 16 columns</p>\n",
       "</div>"
      ],
      "text/plain": [
       "                                             Name PredominantDegree  \\\n",
       "0                        Alabama A & M University        Bachelor's   \n",
       "1             University of Alabama at Birmingham        Bachelor's   \n",
       "2             University of Alabama in Huntsville        Bachelor's   \n",
       "3                        Alabama State University        Bachelor's   \n",
       "4                       The University of Alabama        Bachelor's   \n",
       "...                                           ...               ...   \n",
       "1289        University of Connecticut-Avery Point        Bachelor's   \n",
       "1290           University of Connecticut-Stamford        Bachelor's   \n",
       "1291  California State University-Channel Islands        Bachelor's   \n",
       "1292              DigiPen Institute of Technology        Bachelor's   \n",
       "1293                           Neumont University        Bachelor's   \n",
       "\n",
       "     HighestDegree        FundingModel           Region        Geography  \\\n",
       "0         Graduate              Public        Southeast    Mid-size City   \n",
       "1         Graduate              Public        Southeast    Mid-size City   \n",
       "2         Graduate              Public        Southeast    Mid-size City   \n",
       "3         Graduate              Public        Southeast    Mid-size City   \n",
       "4         Graduate              Public        Southeast       Small City   \n",
       "...            ...                 ...              ...              ...   \n",
       "1289      Graduate              Public      New England  Mid-size Suburb   \n",
       "1290      Graduate              Public      New England    Mid-size City   \n",
       "1291      Graduate              Public         Far West  Mid-size Suburb   \n",
       "1292      Graduate  Private For-Profit         Far West       Small City   \n",
       "1293    Bachelor's  Private For-Profit  Rocky Mountains    Mid-size City   \n",
       "\n",
       "      AdmissionRate  ACTMedian  SATAverage  AverageCost  Expenditure  \\\n",
       "0            0.8989         17         823        18888         7459   \n",
       "1            0.8673         25        1146        19990        17208   \n",
       "2            0.8062         26        1180        20306         9352   \n",
       "3            0.5125         17         830        17400         7393   \n",
       "4            0.5655         26        1171        26717         9817   \n",
       "...             ...        ...         ...          ...          ...   \n",
       "1289         0.5940         24        1020        12946        11730   \n",
       "1290         0.4107         21        1017        13028         4958   \n",
       "1291         0.6443         20         954        22570        12026   \n",
       "1292         0.6635         28        1225        37848         5998   \n",
       "1293         0.7997         25        1104        37379         3298   \n",
       "\n",
       "      AverageFacultySalary  MedianDebt  AverageAgeofEntry  MedianFamilyIncome  \\\n",
       "0                     7079     19500.0          20.629999             29039.0   \n",
       "1                    10170     16250.0          22.670000             34909.0   \n",
       "2                     9341     16500.0          23.190001             39766.0   \n",
       "3                     6557     15854.5          20.889999             24029.5   \n",
       "4                     9605     17750.0          20.770000             58976.0   \n",
       "...                    ...         ...                ...                 ...   \n",
       "1289                 14803     18983.0          20.120001             86510.0   \n",
       "1290                 14803     18983.0          20.120001             86510.0   \n",
       "1291                  8434     12500.0          24.850000             32103.0   \n",
       "1292                  7659     19000.0          21.209999             68233.0   \n",
       "1293                  6991     22313.0          24.750000             39241.0   \n",
       "\n",
       "      MedianEarnings  \n",
       "0              27000  \n",
       "1              37200  \n",
       "2              41500  \n",
       "3              22400  \n",
       "4              39200  \n",
       "...              ...  \n",
       "1289           49700  \n",
       "1290           49700  \n",
       "1291           35800  \n",
       "1292           72800  \n",
       "1293           37300  \n",
       "\n",
       "[1294 rows x 16 columns]"
      ]
     },
     "metadata": {},
     "output_type": "display_data"
    }
   ],
   "source": [
    "import lux\n",
    "import pandas as pd\n",
    "lux.config.default_display = \"lux\"\n",
    "lux.config.plotting_backend = \"matplotlib\"\n",
    "df = pd.read_csv(\"https://raw.githubusercontent.com/lux-org/lux-datasets/master/data/college.csv\")\n",
    "df.intent = [\"AverageCost\",\"SATAverage\"]\n",
    "lux.config.plotting_scale = 2\n",
    "df"
   ]
  },
  {
   "cell_type": "code",
   "execution_count": null,
   "metadata": {},
   "outputs": [],
   "source": [
    "\n",
    "\n",
    "\n",
    "\n",
    "\n",
    "\n",
    "\n",
    "\n"
   ]
  },
  {
   "cell_type": "code",
   "execution_count": 1,
   "metadata": {},
   "outputs": [
    {
     "data": {
      "application/vnd.jupyter.widget-view+json": {
       "model_id": "f5045bd263994ad1a51697e69c3039b0",
       "version_major": 2,
       "version_minor": 0
      },
      "text/plain": [
       "Button(description='Toggle Pandas/Lux', layout=Layout(top='5px', width='140px'), style=ButtonStyle())"
      ]
     },
     "metadata": {},
     "output_type": "display_data"
    },
    {
     "data": {
      "application/vnd.jupyter.widget-view+json": {
       "model_id": "9539a00ef7b949479da2ac169ff7807a",
       "version_major": 2,
       "version_minor": 0
      },
      "text/plain": [
       "Output()"
      ]
     },
     "metadata": {},
     "output_type": "display_data"
    },
    {
     "data": {
      "application/vnd.jupyter.widget-view+json": {
       "model_id": "f5045bd263994ad1a51697e69c3039b0",
       "version_major": 2,
       "version_minor": 0
      },
      "text/plain": [
       "Button(description='Toggle Pandas/Lux', layout=Layout(top='5px', width='140px'), style=ButtonStyle())"
      ]
     },
     "metadata": {},
     "output_type": "display_data"
    },
    {
     "data": {
      "application/vnd.jupyter.widget-view+json": {
       "model_id": "c40efa83ede144b5bd7102bd1a624ad9",
       "version_major": 2,
       "version_minor": 0
      },
      "text/plain": [
       "LuxWidget(message='<ul><li><code>iata</code> is not visualized since it resembles an ID field.</li></ul>', rec…"
      ]
     },
     "metadata": {},
     "output_type": "display_data"
    }
   ],
   "source": [
    "import lux\n",
    "import pandas as pd\n",
    "lux.config.default_display = \"lux\"\n",
    "\n",
    "import numpy as np\n",
    "\n",
    "df = pd.read_csv(\n",
    "    \"https://raw.githubusercontent.com/altair-viz/vega_datasets/master/vega_datasets/_data/airports.csv\"\n",
    ")\n",
    "# df[\"magnitude\"] = np.random.randint(0, 20, size=len(df))\n",
    "lux.config.plotting_backend = \"altair\"\n",
    "lux.config.plotting_scale = 2\n",
    "df"
   ]
  },
  {
   "cell_type": "code",
   "execution_count": null,
   "metadata": {},
   "outputs": [],
   "source": [
    "\n",
    "\n",
    "\n",
    "\n",
    "\n",
    "\n",
    "\n",
    "\n",
    "\n",
    "\n"
   ]
  },
  {
   "cell_type": "code",
   "execution_count": 1,
   "metadata": {},
   "outputs": [],
   "source": [
    "import lux\n",
    "import pandas as pd\n",
    "lux.config.default_display = \"lux\""
   ]
  },
  {
   "cell_type": "code",
   "execution_count": 1,
   "metadata": {},
   "outputs": [
    {
     "data": {
      "application/vnd.jupyter.widget-view+json": {
       "model_id": "df3dace4db344ebd9aa0d43a1bd1e3f1",
       "version_major": 2,
       "version_minor": 0
      },
      "text/plain": [
       "Button(description='Toggle Pandas/Lux', layout=Layout(top='5px', width='140px'), style=ButtonStyle())"
      ]
     },
     "metadata": {},
     "output_type": "display_data"
    },
    {
     "data": {
      "application/vnd.jupyter.widget-view+json": {
       "model_id": "64ec7d761eb64ebe8879ce07e40ab86d",
       "version_major": 2,
       "version_minor": 0
      },
      "text/plain": [
       "Output()"
      ]
     },
     "metadata": {},
     "output_type": "display_data"
    }
   ],
   "source": [
    "import pandas as pd\n",
    "import lux\n",
    "lux.config.default_display = \"lux\"\n",
    "lux.config.plotting_backend = \"vegalite\"\n",
    "df = pd.read_csv(\"https://raw.githubusercontent.com/lux-org/lux-datasets/master/data/hpi.csv\")\n",
    "df"
   ]
  },
  {
   "cell_type": "code",
   "execution_count": null,
   "metadata": {},
   "outputs": [],
   "source": [
    "\n",
    "\n",
    "\n",
    "\n",
    "\n",
    "\n",
    "\n",
    "\n",
    "\n",
    "\n",
    "\n",
    "\n"
   ]
  },
  {
   "cell_type": "code",
   "execution_count": null,
   "metadata": {},
   "outputs": [],
   "source": [
    "\n",
    "\n",
    "\n",
    "\n",
    "\n",
    "\n",
    "\n",
    "\n"
   ]
  },
  {
   "cell_type": "code",
   "execution_count": 2,
   "metadata": {},
   "outputs": [
    {
     "data": {
      "application/vnd.jupyter.widget-view+json": {
       "model_id": "cbaadd2e3a7048e2a7048f46614cf42b",
       "version_major": 2,
       "version_minor": 0
      },
      "text/plain": [
       "Button(description='Toggle Pandas/Lux', layout=Layout(top='5px', width='140px'), style=ButtonStyle())"
      ]
     },
     "metadata": {},
     "output_type": "display_data"
    },
    {
     "data": {
      "application/vnd.jupyter.widget-view+json": {
       "model_id": "dfe74602e70042b682e18ac1facd40a0",
       "version_major": 2,
       "version_minor": 0
      },
      "text/plain": [
       "Output()"
      ]
     },
     "metadata": {},
     "output_type": "display_data"
    }
   ],
   "source": [
    "import pandas as pd\n",
    "import lux\n",
    "lux.config.default_display = \"lux\"\n",
    "lux.config.plotting_backend = \"vegalite\"\n",
    "\n",
    "df = pd.read_csv(\"https://github.com/covidvis/covid19-vis/blob/master/data/interventionFootprintByState.csv?raw=True\",index_col=0)\n",
    "df['dateBefore'] = pd.to_datetime(df['dateBefore'], format='%Y-%M-%d')\n",
    "lux.config.plotting_scale = 1\n",
    "df"
   ]
  },
  {
   "cell_type": "code",
   "execution_count": 2,
   "metadata": {},
   "outputs": [
    {
     "name": "stdout",
     "output_type": "stream",
     "text": [
      "dateBefore               datetime64[ns]\n",
      "population_size                   int64\n",
      "state_population_size             int64\n",
      "severityScore                   float64\n",
      "severityMax                     float64\n",
      "pctStateAffected                float64\n",
      "interventionFootprint           float64\n",
      "State                            object\n",
      "dtype: object\n"
     ]
    }
   ],
   "source": [
    "df."
   ]
  },
  {
   "cell_type": "code",
   "execution_count": null,
   "metadata": {},
   "outputs": [],
   "source": [
    "\n",
    "\n",
    "\n",
    "\n",
    "\n",
    "\n",
    "\n",
    "\n",
    "\n",
    "\n",
    "\n",
    "\n",
    "\n",
    "\n",
    "\n",
    "\n",
    "\n",
    "\n",
    "\n",
    "\n",
    "\n",
    "\n",
    "\n",
    "\n",
    "\n"
   ]
  },
  {
   "cell_type": "code",
   "execution_count": 1,
   "metadata": {},
   "outputs": [],
   "source": [
    "import lux\n",
    "import pandas as pd\n",
    "lux.config.default_display = \"lux\"\n",
    "lux.config.plotting_backend = \"altair\""
   ]
  },
  {
   "cell_type": "code",
   "execution_count": 3,
   "metadata": {},
   "outputs": [
    {
     "data": {
      "application/vnd.jupyter.widget-view+json": {
       "model_id": "42376692228c45e2b45a5212c5ce88fd",
       "version_major": 2,
       "version_minor": 0
      },
      "text/plain": [
       "Button(description='Toggle Pandas/Lux', layout=Layout(top='5px', width='140px'), style=ButtonStyle())"
      ]
     },
     "metadata": {},
     "output_type": "display_data"
    },
    {
     "data": {
      "application/vnd.jupyter.widget-view+json": {
       "model_id": "756765bca0a0460ba6954f0ea27b103b",
       "version_major": 2,
       "version_minor": 0
      },
      "text/plain": [
       "Output()"
      ]
     },
     "metadata": {},
     "output_type": "display_data"
    }
   ],
   "source": [
    "df = pd.read_csv(\"https://raw.githubusercontent.com/lux-org/lux-datasets/master/data/employee.csv\")\n",
    "lux.config.plotting_scale = 2\n",
    "df"
   ]
  },
  {
   "cell_type": "code",
   "execution_count": 4,
   "metadata": {},
   "outputs": [
    {
     "data": {
      "application/vnd.jupyter.widget-view+json": {
       "model_id": "eb3c687674424d7ab122dead2b7039ab",
       "version_major": 2,
       "version_minor": 0
      },
      "text/plain": [
       "Button(description='Toggle Pandas/Lux', layout=Layout(top='5px', width='140px'), style=ButtonStyle())"
      ]
     },
     "metadata": {},
     "output_type": "display_data"
    },
    {
     "data": {
      "application/vnd.jupyter.widget-view+json": {
       "model_id": "940b44012a934912ac7dc7c29f951d29",
       "version_major": 2,
       "version_minor": 0
      },
      "text/plain": [
       "Output()"
      ]
     },
     "metadata": {},
     "output_type": "display_data"
    }
   ],
   "source": [
    "df.intent = [\"TotalWorkingYears\", \"MonthlyIncome\"]\n",
    "df"
   ]
  },
  {
   "cell_type": "code",
   "execution_count": null,
   "metadata": {},
   "outputs": [],
   "source": [
    "\n",
    "\n",
    "\n",
    "\n",
    "\n",
    "\n",
    "\n",
    "\n",
    "\n",
    "\n",
    "\n",
    "\n",
    "\n",
    "\n",
    "\n",
    "\n",
    "\n",
    "\n",
    "\n",
    "\n",
    "\n",
    "\n",
    "\n",
    "\n",
    "\n",
    "\n",
    "\n",
    "\n",
    "\n",
    "\n",
    "\n",
    "\n"
   ]
  },
  {
   "cell_type": "code",
   "execution_count": 3,
   "metadata": {},
   "outputs": [
    {
     "data": {
      "text/plain": [
       "(392, 10)"
      ]
     },
     "execution_count": 3,
     "metadata": {},
     "output_type": "execute_result"
    }
   ],
   "source": [
    "df = pd.read_csv(\"https://github.com/lux-org/lux-datasets/blob/master/data/car.csv?raw=True\")\n",
    "df['Year'] = pd.to_datetime(df['Year'], format='%Y')\n",
    "df.shape"
   ]
  },
  {
   "cell_type": "code",
   "execution_count": null,
   "metadata": {},
   "outputs": [],
   "source": []
  },
  {
   "cell_type": "code",
   "execution_count": null,
   "metadata": {},
   "outputs": [],
   "source": [
    "\n",
    "\n",
    "\n",
    "\n",
    "\n",
    "\n",
    "\n",
    "\n",
    "\n",
    "\n",
    "\n",
    "\n"
   ]
  },
  {
   "cell_type": "code",
   "execution_count": 4,
   "metadata": {},
   "outputs": [
    {
     "name": "stderr",
     "output_type": "stream",
     "text": [
      "/Users/micahyong/Desktop/lux/lux/lux/executor/PandasExecutor.py:401: UserWarning:\n",
      "Lux detects that the attribute 'Year' may be temporal.\n",
      "To display visualizations for these attributes accurately, please convert temporal attributes to Pandas Datetime objects using the pd.to_datetime function and provide a 'format' parameter to specify the datetime format of the attribute.\n",
      "For example, you can convert a year-only attribute (e.g., 1998, 1971, 1982) to Datetime type by specifying the `format` as '%Y'.\n",
      "\n",
      "Here is a starter template that you can use for converting the temporal fields:\n",
      "\tdf['Year'] = pd.to_datetime(df['Year'], format='<replace-with-datetime-format>')\n",
      "\n",
      "See more at: https://pandas.pydata.org/pandas-docs/stable/reference/api/pandas.to_datetime.html\n",
      "If Year is not a temporal attribute, please use override Lux's automatically detected type:\n",
      "\tdf.set_data_type({'Year':'quantitative'})\n"
     ]
    },
    {
     "name": "stdout",
     "output_type": "stream",
     "text": [
      "4.93 4.699999999999999\n",
      "Age_end\n",
      "13.96 13.299999999999997\n",
      "Weight_end\n",
      "9.13 8.699999999999989\n",
      "Height_end\n"
     ]
    },
    {
     "data": {
      "application/vnd.jupyter.widget-view+json": {
       "model_id": "04de555b2d9f4fd9b424f93997a267c8",
       "version_major": 2,
       "version_minor": 0
      },
      "text/plain": [
       "Button(description='Toggle Pandas/Lux', layout=Layout(top='5px', width='140px'), style=ButtonStyle())"
      ]
     },
     "metadata": {},
     "output_type": "display_data"
    },
    {
     "data": {
      "application/vnd.jupyter.widget-view+json": {
       "model_id": "eebd2f3b07e944ba84a9d405e6a93ad1",
       "version_major": 2,
       "version_minor": 0
      },
      "text/plain": [
       "Output()"
      ]
     },
     "metadata": {},
     "output_type": "display_data"
    },
    {
     "data": {
      "text/plain": []
     },
     "execution_count": 4,
     "metadata": {},
     "output_type": "execute_result"
    }
   ],
   "source": [
    "import lux\n",
    "import pandas as pd\n",
    "\n",
    "df = pd.read_csv(\"https://github.com/lux-org/lux-datasets/blob/master/data/olympic.csv?raw=True\")\n",
    "# df.intent=[\"Height\"]\n",
    "lux.config.default_display = \"lux\"\n",
    "df"
   ]
  },
  {
   "cell_type": "code",
   "execution_count": 5,
   "metadata": {},
   "outputs": [
    {
     "name": "stdout",
     "output_type": "stream",
     "text": [
      "import altair as alt\n",
      "visData = pd.DataFrame({'AthleteRegion': {0: 'Africa', 1: 'Asia', 2: 'Europe', 3: 'North America', 4: 'Oceania', 5: 'South America'}, 'Record': {0: 97, 1: 624, 2: 3430, 3: 402, 4: 293, 5: 154}})\n",
      "\n",
      "chart = alt.Chart(visData).mark_bar().encode(\n",
      "    y = alt.Y('AthleteRegion', type= 'nominal', axis=alt.Axis(labelOverlap=True, title='AthleteRegion'), sort ='-x'),\n",
      "    x = alt.X('Record', type= 'quantitative', title='Number of Records', axis=alt.Axis(title='Number of Records')),\n",
      ")\n",
      "chart = chart.configure_mark(tooltip=alt.TooltipContent('encoding'))\n",
      "chart = chart.configure_title(fontWeight=500,fontSize=13,font='Helvetica Neue')\n",
      "chart = chart.configure_axis(titleFontWeight=500,titleFontSize=11,titleFont='Helvetica Neue',\n",
      "\t\t\tlabelFontWeight=400,labelFontSize=8,labelFont='Helvetica Neue',labelColor='#505050')\n",
      "chart = chart.configure_legend(titleFontWeight=500,titleFontSize=10,titleFont='Helvetica Neue',\n",
      "\t\t\tlabelFontWeight=400,labelFontSize=8,labelFont='Helvetica Neue')\n",
      "chart = chart.properties(width=160,height=150)\n",
      "\n",
      "chart\n"
     ]
    }
   ],
   "source": [
    "vis = df.exported[0]\n",
    "print(vis.to_Altair())"
   ]
  },
  {
   "cell_type": "code",
   "execution_count": 6,
   "metadata": {},
   "outputs": [
    {
     "data": {
      "text/html": [
       "\n",
       "<div id=\"altair-viz-a0b60932e8ef489596cd7f0437f5af37\"></div>\n",
       "<script type=\"text/javascript\">\n",
       "  (function(spec, embedOpt){\n",
       "    let outputDiv = document.currentScript.previousElementSibling;\n",
       "    if (outputDiv.id !== \"altair-viz-a0b60932e8ef489596cd7f0437f5af37\") {\n",
       "      outputDiv = document.getElementById(\"altair-viz-a0b60932e8ef489596cd7f0437f5af37\");\n",
       "    }\n",
       "    const paths = {\n",
       "      \"vega\": \"https://cdn.jsdelivr.net/npm//vega@5?noext\",\n",
       "      \"vega-lib\": \"https://cdn.jsdelivr.net/npm//vega-lib?noext\",\n",
       "      \"vega-lite\": \"https://cdn.jsdelivr.net/npm//vega-lite@4.8.1?noext\",\n",
       "      \"vega-embed\": \"https://cdn.jsdelivr.net/npm//vega-embed@6?noext\",\n",
       "    };\n",
       "\n",
       "    function loadScript(lib) {\n",
       "      return new Promise(function(resolve, reject) {\n",
       "        var s = document.createElement('script');\n",
       "        s.src = paths[lib];\n",
       "        s.async = true;\n",
       "        s.onload = () => resolve(paths[lib]);\n",
       "        s.onerror = () => reject(`Error loading script: ${paths[lib]}`);\n",
       "        document.getElementsByTagName(\"head\")[0].appendChild(s);\n",
       "      });\n",
       "    }\n",
       "\n",
       "    function showError(err) {\n",
       "      outputDiv.innerHTML = `<div class=\"error\" style=\"color:red;\">${err}</div>`;\n",
       "      throw err;\n",
       "    }\n",
       "\n",
       "    function displayChart(vegaEmbed) {\n",
       "      vegaEmbed(outputDiv, spec, embedOpt)\n",
       "        .catch(err => showError(`Javascript Error: ${err.message}<br>This usually means there's a typo in your chart specification. See the javascript console for the full traceback.`));\n",
       "    }\n",
       "\n",
       "    if(typeof define === \"function\" && define.amd) {\n",
       "      requirejs.config({paths});\n",
       "      require([\"vega-embed\"], displayChart, err => showError(`Error loading script: ${err.message}`));\n",
       "    } else if (typeof vegaEmbed === \"function\") {\n",
       "      displayChart(vegaEmbed);\n",
       "    } else {\n",
       "      loadScript(\"vega\")\n",
       "        .then(() => loadScript(\"vega-lite\"))\n",
       "        .then(() => loadScript(\"vega-embed\"))\n",
       "        .catch(showError)\n",
       "        .then(() => displayChart(vegaEmbed));\n",
       "    }\n",
       "  })({\"config\": {\"view\": {\"continuousWidth\": 400, \"continuousHeight\": 300}, \"axis\": {\"labelColor\": \"#505050\", \"labelFont\": \"Helvetica Neue\", \"labelFontSize\": 8, \"labelFontWeight\": 400, \"titleFont\": \"Helvetica Neue\", \"titleFontSize\": 11, \"titleFontWeight\": 500}, \"legend\": {\"labelFont\": \"Helvetica Neue\", \"labelFontSize\": 8, \"labelFontWeight\": 400, \"titleFont\": \"Helvetica Neue\", \"titleFontSize\": 10, \"titleFontWeight\": 500}, \"mark\": {\"tooltip\": {\"content\": \"encoding\"}}, \"title\": {\"font\": \"Helvetica Neue\", \"fontSize\": 13, \"fontWeight\": 500}}, \"data\": {\"name\": \"data-395453d952c13cfa2e03d5eca9a5a7e4\"}, \"mark\": \"bar\", \"encoding\": {\"x\": {\"type\": \"quantitative\", \"axis\": {\"title\": \"Number of Records\"}, \"field\": \"Record\", \"title\": \"Number of Records\"}, \"y\": {\"type\": \"nominal\", \"axis\": {\"labelOverlap\": true, \"title\": \"AthleteRegion\"}, \"field\": \"AthleteRegion\", \"sort\": \"-x\"}}, \"height\": 150, \"width\": 160, \"$schema\": \"https://vega.github.io/schema/vega-lite/v4.8.1.json\", \"datasets\": {\"data-395453d952c13cfa2e03d5eca9a5a7e4\": [{\"AthleteRegion\": \"Africa\", \"Record\": 97}, {\"AthleteRegion\": \"Asia\", \"Record\": 624}, {\"AthleteRegion\": \"Europe\", \"Record\": 3430}, {\"AthleteRegion\": \"North America\", \"Record\": 402}, {\"AthleteRegion\": \"Oceania\", \"Record\": 293}, {\"AthleteRegion\": \"South America\", \"Record\": 154}]}}, {\"mode\": \"vega-lite\"});\n",
       "</script>"
      ],
      "text/plain": [
       "alt.Chart(...)"
      ]
     },
     "execution_count": 6,
     "metadata": {},
     "output_type": "execute_result"
    }
   ],
   "source": [
    "import altair as alt\n",
    "visData = pd.DataFrame({'AthleteRegion': {0: 'Africa', 1: 'Asia', 2: 'Europe', 3: 'North America', 4: 'Oceania', 5: 'South America'}, 'Record': {0: 97, 1: 624, 2: 3430, 3: 402, 4: 293, 5: 154}})\n",
    "\n",
    "chart = alt.Chart(visData).mark_bar().encode(\n",
    "    y = alt.Y('AthleteRegion', type= 'nominal', axis=alt.Axis(labelOverlap=True, title='AthleteRegion'), sort ='-x'),\n",
    "    x = alt.X('Record', type= 'quantitative', title='Number of Records', axis=alt.Axis(title='Number of Records')),\n",
    ")\n",
    "chart = chart.configure_mark(tooltip=alt.TooltipContent('encoding'))\n",
    "chart = chart.configure_title(fontWeight=500,fontSize=13,font='Helvetica Neue')\n",
    "chart = chart.configure_axis(titleFontWeight=500,titleFontSize=11,titleFont='Helvetica Neue',\n",
    "\t\t\tlabelFontWeight=400,labelFontSize=8,labelFont='Helvetica Neue',labelColor='#505050')\n",
    "chart = chart.configure_legend(titleFontWeight=500,titleFontSize=10,titleFont='Helvetica Neue',\n",
    "\t\t\tlabelFontWeight=400,labelFontSize=8,labelFont='Helvetica Neue')\n",
    "chart = chart.properties(width=160,height=150)\n",
    "\n",
    "chart"
   ]
  },
  {
   "cell_type": "code",
   "execution_count": 5,
   "metadata": {},
   "outputs": [
    {
     "data": {
      "text/plain": [
       "(<Vis  (x: BIN(Height), y: COUNT(Record) -- [SportType=Water]) mark: histogram, score: 0.0 >,\n",
       " 5.57)"
      ]
     },
     "execution_count": 5,
     "metadata": {},
     "output_type": "execute_result"
    }
   ],
   "source": [
    "from lux.vis.Vis import Vis\n",
    "from lux.vislib.altair.Histogram import get_bin_size\n",
    "\n",
    "vis = Vis([\"Height\", \"SportType=Water\"], df)\n",
    "bin_size = get_bin_size(vis.data[\"Height\"])\n",
    "\n",
    "vis, bin_size"
   ]
  },
  {
   "cell_type": "code",
   "execution_count": 3,
   "metadata": {},
   "outputs": [],
   "source": [
    "import lux\n",
    "import pandas as pd\n",
    "lux.config.default_display = \"lux\"\n",
    "lux.config.plotting_backend = \"vegalite\""
   ]
  },
  {
   "cell_type": "code",
   "execution_count": 1,
   "metadata": {},
   "outputs": [
    {
     "name": "stdout",
     "output_type": "stream",
     "text": [
      "{\"version_major\": 2, \"version_minor\": 0, \"state\": {\"4f356be4341b4820931bdc52219076be\": {\"model_name\": \"LayoutModel\", \"model_module\": \"@jupyter-widgets/base\", \"model_module_version\": \"1.2.0\", \"state\": {}}, \"4c43549aa7254b33ae13fb478b32bc24\": {\"model_name\": \"LuxModel\", \"model_module\": \"luxwidget\", \"model_module_version\": \"0.1.4\", \"state\": {\"_dom_classes\": [], \"_selectedVisIdxs\": {}, \"current_vis\": {}, \"data\": [], \"deletedIndices\": {}, \"layout\": \"IPY_MODEL_4f356be4341b4820931bdc52219076be\", \"recommendations\": [{\"action\": \"Correlation\", \"description\": \"Show relationships between two <p class='highlight-descriptor'>quantitative</p> attributes.\", \"long_description\": \"Correlation searches through all pairwise relationship between two quantitative attributes             (e.g., Acceleration, MilesPerGal). The visualizations are ranked from most to least linearly correlated based on                 their Pearson\\u2019s correlation score.\", \"vspec\": [{\"config\": {\"view\": {\"continuousWidth\": 400, \"continuousHeight\": 300}, \"axis\": {\"labelColor\": \"#505050\", \"labelFont\": \"Helvetica Neue\", \"labelFontSize\": 9, \"labelFontWeight\": 400, \"titleFont\": \"Helvetica Neue\", \"titleFontSize\": 11, \"titleFontWeight\": 500}, \"legend\": {\"labelFont\": \"Helvetica Neue\", \"labelFontSize\": 9, \"labelFontWeight\": 400, \"titleFont\": \"Helvetica Neue\", \"titleFontSize\": 10, \"titleFontWeight\": 500}, \"mark\": {\"tooltip\": {\"content\": \"encoding\"}}, \"title\": {\"font\": \"Helvetica Neue\", \"fontSize\": 13, \"fontWeight\": 500}}, \"data\": {\"name\": \"data-940cd5f9c7c70cd1d96509e397297a5f\"}, \"mark\": \"circle\", \"encoding\": {\"x\": {\"type\": \"quantitative\", \"axis\": {\"title\": \"Displacement\"}, \"field\": \"Displacement\", \"scale\": {\"domain\": [68.0, 455.0]}}, \"y\": {\"type\": \"quantitative\", \"axis\": {\"title\": \"Weight\"}, \"field\": \"Weight\", \"scale\": {\"domain\": [1613.0, 5140.0]}}}, \"height\": 300.0, \"selection\": {\"selector001\": {\"type\": \"interval\", \"bind\": \"scales\", \"encodings\": [\"x\", \"y\"]}}, \"width\": 320.0, \"$schema\": \"https://vega.github.io/schema/vega-lite/v4.8.1.json\", \"datasets\": {\"data-940cd5f9c7c70cd1d96509e397297a5f\": [{\"Weight\": 3504, \"Displacement\": 307.0}, {\"Weight\": 3693, \"Displacement\": 350.0}, {\"Weight\": 3436, \"Displacement\": 318.0}, {\"Weight\": 3433, \"Displacement\": 304.0}, {\"Weight\": 3449, \"Displacement\": 302.0}, {\"Weight\": 4341, \"Displacement\": 429.0}, {\"Weight\": 4354, \"Displacement\": 454.0}, {\"Weight\": 4312, \"Displacement\": 440.0}, {\"Weight\": 4425, \"Displacement\": 455.0}, {\"Weight\": 3850, \"Displacement\": 390.0}, {\"Weight\": 3563, \"Displacement\": 383.0}, {\"Weight\": 3609, \"Displacement\": 340.0}, {\"Weight\": 3761, \"Displacement\": 400.0}, {\"Weight\": 3086, \"Displacement\": 455.0}, {\"Weight\": 2372, \"Displacement\": 113.0}, {\"Weight\": 2833, \"Displacement\": 198.0}, {\"Weight\": 2774, \"Displacement\": 199.0}, {\"Weight\": 2587, \"Displacement\": 200.0}, {\"Weight\": 2130, \"Displacement\": 97.0}, {\"Weight\": 1835, \"Displacement\": 97.0}, {\"Weight\": 2672, \"Displacement\": 110.0}, {\"Weight\": 2430, \"Displacement\": 107.0}, {\"Weight\": 2375, \"Displacement\": 104.0}, {\"Weight\": 2234, \"Displacement\": 121.0}, {\"Weight\": 2648, \"Displacement\": 199.0}, {\"Weight\": 4615, \"Displacement\": 360.0}, {\"Weight\": 4376, \"Displacement\": 307.0}, {\"Weight\": 4382, \"Displacement\": 318.0}, {\"Weight\": 4732, \"Displacement\": 304.0}, {\"Weight\": 2130, \"Displacement\": 97.0}, {\"Weight\": 2264, \"Displacement\": 140.0}, {\"Weight\": 2228, \"Displacement\": 113.0}, {\"Weight\": 2634, \"Displacement\": 232.0}, {\"Weight\": 3439, \"Displacement\": 225.0}, {\"Weight\": 3329, \"Displacement\": 250.0}, {\"Weight\": 3302, \"Displacement\": 250.0}, {\"Weight\": 3288, \"Displacement\": 232.0}, {\"Weight\": 4209, \"Displacement\": 350.0}, {\"Weight\": 4464, \"Displacement\": 400.0}, {\"Weight\": 4154, \"Displacement\": 351.0}, {\"Weight\": 4096, \"Displacement\": 318.0}, {\"Weight\": 4955, \"Displacement\": 383.0}, {\"Weight\": 4746, \"Displacement\": 400.0}, {\"Weight\": 5140, \"Displacement\": 400.0}, {\"Weight\": 2962, \"Displacement\": 258.0}, {\"Weight\": 2408, \"Displacement\": 140.0}, {\"Weight\": 3282, \"Displacement\": 250.0}, {\"Weight\": 3139, \"Displacement\": 250.0}, {\"Weight\": 2220, \"Displacement\": 122.0}, {\"Weight\": 2123, \"Displacement\": 116.0}, {\"Weight\": 2074, \"Displacement\": 79.0}, {\"Weight\": 2065, \"Displacement\": 88.0}, {\"Weight\": 1773, \"Displacement\": 71.0}, {\"Weight\": 1613, \"Displacement\": 72.0}, {\"Weight\": 1834, \"Displacement\": 97.0}, {\"Weight\": 1955, \"Displacement\": 91.0}, {\"Weight\": 2278, \"Displacement\": 113.0}, {\"Weight\": 2126, \"Displacement\": 97.5}, {\"Weight\": 2254, \"Displacement\": 97.0}, {\"Weight\": 2408, \"Displacement\": 140.0}, {\"Weight\": 2226, \"Displacement\": 122.0}, {\"Weight\": 4274, \"Displacement\": 350.0}, {\"Weight\": 4385, \"Displacement\": 400.0}, {\"Weight\": 4135, \"Displacement\": 318.0}, {\"Weight\": 4129, \"Displacement\": 351.0}, {\"Weight\": 3672, \"Displacement\": 304.0}, {\"Weight\": 4633, \"Displacement\": 429.0}, {\"Weight\": 4502, \"Displacement\": 350.0}, {\"Weight\": 4456, \"Displacement\": 350.0}, {\"Weight\": 4422, \"Displacement\": 400.0}, {\"Weight\": 2330, \"Displacement\": 70.0}, {\"Weight\": 3892, \"Displacement\": 304.0}, {\"Weight\": 4098, \"Displacement\": 307.0}, {\"Weight\": 4294, \"Displacement\": 302.0}, {\"Weight\": 4077, \"Displacement\": 318.0}, {\"Weight\": 2933, \"Displacement\": 121.0}, {\"Weight\": 2511, \"Displacement\": 121.0}, {\"Weight\": 2979, \"Displacement\": 120.0}, {\"Weight\": 2189, \"Displacement\": 96.0}, {\"Weight\": 2395, \"Displacement\": 122.0}, {\"Weight\": 2288, \"Displacement\": 97.0}, {\"Weight\": 2506, \"Displacement\": 120.0}, {\"Weight\": 2164, \"Displacement\": 98.0}, {\"Weight\": 2100, \"Displacement\": 97.0}, {\"Weight\": 4100, \"Displacement\": 350.0}, {\"Weight\": 3672, \"Displacement\": 304.0}, {\"Weight\": 3988, \"Displacement\": 350.0}, {\"Weight\": 4042, \"Displacement\": 302.0}, {\"Weight\": 3777, \"Displacement\": 318.0}, {\"Weight\": 4952, \"Displacement\": 429.0}, {\"Weight\": 4464, \"Displacement\": 400.0}, {\"Weight\": 4363, \"Displacement\": 351.0}, {\"Weight\": 4237, \"Displacement\": 318.0}, {\"Weight\": 4735, \"Displacement\": 440.0}, {\"Weight\": 4951, \"Displacement\": 455.0}, {\"Weight\": 3821, \"Displacement\": 360.0}, {\"Weight\": 3121, \"Displacement\": 225.0}, {\"Weight\": 3278, \"Displacement\": 250.0}, {\"Weight\": 2945, \"Displacement\": 232.0}, {\"Weight\": 3021, \"Displacement\": 250.0}, {\"Weight\": 2904, \"Displacement\": 198.0}, {\"Weight\": 1950, \"Displacement\": 97.0}, {\"Weight\": 4997, \"Displacement\": 400.0}, {\"Weight\": 4906, \"Displacement\": 400.0}, {\"Weight\": 4654, \"Displacement\": 360.0}, {\"Weight\": 4499, \"Displacement\": 350.0}, {\"Weight\": 2789, \"Displacement\": 232.0}, {\"Weight\": 2279, \"Displacement\": 97.0}, {\"Weight\": 2401, \"Displacement\": 140.0}, {\"Weight\": 2379, \"Displacement\": 108.0}, {\"Weight\": 2124, \"Displacement\": 70.0}, {\"Weight\": 2310, \"Displacement\": 122.0}, {\"Weight\": 2472, \"Displacement\": 155.0}, {\"Weight\": 2265, \"Displacement\": 98.0}, {\"Weight\": 4082, \"Displacement\": 350.0}, {\"Weight\": 4278, \"Displacement\": 400.0}, {\"Weight\": 1867, \"Displacement\": 68.0}, {\"Weight\": 2158, \"Displacement\": 116.0}, {\"Weight\": 2582, \"Displacement\": 114.0}, {\"Weight\": 2868, \"Displacement\": 121.0}, {\"Weight\": 3399, \"Displacement\": 318.0}, {\"Weight\": 2660, \"Displacement\": 121.0}, {\"Weight\": 2807, \"Displacement\": 156.0}, {\"Weight\": 3664, \"Displacement\": 350.0}, {\"Weight\": 3102, \"Displacement\": 198.0}, {\"Weight\": 2901, \"Displacement\": 232.0}, {\"Weight\": 3336, \"Displacement\": 250.0}, {\"Weight\": 1950, \"Displacement\": 79.0}, {\"Weight\": 2451, \"Displacement\": 122.0}, {\"Weight\": 1836, \"Displacement\": 71.0}, {\"Weight\": 2542, \"Displacement\": 140.0}, {\"Weight\": 3781, \"Displacement\": 250.0}, {\"Weight\": 3632, \"Displacement\": 258.0}, {\"Weight\": 3613, \"Displacement\": 225.0}, {\"Weight\": 4141, \"Displacement\": 302.0}, {\"Weight\": 4699, \"Displacement\": 350.0}, {\"Weight\": 4457, \"Displacement\": 318.0}, {\"Weight\": 4638, \"Displacement\": 302.0}, {\"Weight\": 4257, \"Displacement\": 304.0}, {\"Weight\": 2219, \"Displacement\": 98.0}, {\"Weight\": 1963, \"Displacement\": 79.0}, {\"Weight\": 2300, \"Displacement\": 97.0}, {\"Weight\": 1649, \"Displacement\": 76.0}, {\"Weight\": 2003, \"Displacement\": 83.0}, {\"Weight\": 2125, \"Displacement\": 90.0}, {\"Weight\": 2108, \"Displacement\": 90.0}, {\"Weight\": 2246, \"Displacement\": 116.0}, {\"Weight\": 2489, \"Displacement\": 120.0}, {\"Weight\": 2391, \"Displacement\": 108.0}, {\"Weight\": 2000, \"Displacement\": 79.0}, {\"Weight\": 3264, \"Displacement\": 225.0}, {\"Weight\": 3459, \"Displacement\": 250.0}, {\"Weight\": 3432, \"Displacement\": 250.0}, {\"Weight\": 3158, \"Displacement\": 250.0}, {\"Weight\": 4668, \"Displacement\": 400.0}, {\"Weight\": 4440, \"Displacement\": 350.0}, {\"Weight\": 4498, \"Displacement\": 318.0}, {\"Weight\": 4657, \"Displacement\": 351.0}, {\"Weight\": 3907, \"Displacement\": 231.0}, {\"Weight\": 3897, \"Displacement\": 250.0}, {\"Weight\": 3730, \"Displacement\": 258.0}, {\"Weight\": 3785, \"Displacement\": 225.0}, {\"Weight\": 3039, \"Displacement\": 231.0}, {\"Weight\": 3221, \"Displacement\": 262.0}, {\"Weight\": 3169, \"Displacement\": 302.0}, {\"Weight\": 2171, \"Displacement\": 97.0}, {\"Weight\": 2639, \"Displacement\": 140.0}, {\"Weight\": 2914, \"Displacement\": 232.0}, {\"Weight\": 2592, \"Displacement\": 140.0}, {\"Weight\": 2702, \"Displacement\": 134.0}, {\"Weight\": 2223, \"Displacement\": 90.0}, {\"Weight\": 2545, \"Displacement\": 119.0}, {\"Weight\": 2984, \"Displacement\": 171.0}, {\"Weight\": 1937, \"Displacement\": 90.0}, {\"Weight\": 3211, \"Displacement\": 232.0}, {\"Weight\": 2694, \"Displacement\": 115.0}, {\"Weight\": 2957, \"Displacement\": 120.0}, {\"Weight\": 2945, \"Displacement\": 121.0}, {\"Weight\": 2671, \"Displacement\": 121.0}, {\"Weight\": 1795, \"Displacement\": 91.0}, {\"Weight\": 2464, \"Displacement\": 107.0}, {\"Weight\": 2220, \"Displacement\": 116.0}, {\"Weight\": 2572, \"Displacement\": 140.0}, {\"Weight\": 2255, \"Displacement\": 98.0}, {\"Weight\": 2202, \"Displacement\": 101.0}, {\"Weight\": 4215, \"Displacement\": 305.0}, {\"Weight\": 4190, \"Displacement\": 318.0}, {\"Weight\": 3962, \"Displacement\": 304.0}, {\"Weight\": 4215, \"Displacement\": 351.0}, {\"Weight\": 3233, \"Displacement\": 225.0}, {\"Weight\": 3353, \"Displacement\": 250.0}, {\"Weight\": 3012, \"Displacement\": 200.0}, {\"Weight\": 3085, \"Displacement\": 232.0}, {\"Weight\": 2035, \"Displacement\": 85.0}, {\"Weight\": 2164, \"Displacement\": 98.0}, {\"Weight\": 1937, \"Displacement\": 90.0}, {\"Weight\": 1795, \"Displacement\": 91.0}, {\"Weight\": 3651, \"Displacement\": 225.0}, {\"Weight\": 3574, \"Displacement\": 250.0}, {\"Weight\": 3645, \"Displacement\": 250.0}, {\"Weight\": 3193, \"Displacement\": 258.0}, {\"Weight\": 1825, \"Displacement\": 97.0}, {\"Weight\": 1990, \"Displacement\": 85.0}, {\"Weight\": 2155, \"Displacement\": 97.0}, {\"Weight\": 2565, \"Displacement\": 140.0}, {\"Weight\": 3150, \"Displacement\": 130.0}, {\"Weight\": 3940, \"Displacement\": 318.0}, {\"Weight\": 3270, \"Displacement\": 120.0}, {\"Weight\": 2930, \"Displacement\": 156.0}, {\"Weight\": 3820, \"Displacement\": 168.0}, {\"Weight\": 4380, \"Displacement\": 350.0}, {\"Weight\": 4055, \"Displacement\": 350.0}, {\"Weight\": 3870, \"Displacement\": 302.0}, {\"Weight\": 3755, \"Displacement\": 318.0}, {\"Weight\": 2045, \"Displacement\": 98.0}, {\"Weight\": 2155, \"Displacement\": 111.0}, {\"Weight\": 1825, \"Displacement\": 79.0}, {\"Weight\": 2300, \"Displacement\": 122.0}, {\"Weight\": 1945, \"Displacement\": 85.0}, {\"Weight\": 3880, \"Displacement\": 305.0}, {\"Weight\": 4060, \"Displacement\": 260.0}, {\"Weight\": 4140, \"Displacement\": 318.0}, {\"Weight\": 4295, \"Displacement\": 302.0}, {\"Weight\": 3520, \"Displacement\": 250.0}, {\"Weight\": 3425, \"Displacement\": 231.0}, {\"Weight\": 3630, \"Displacement\": 225.0}, {\"Weight\": 3525, \"Displacement\": 250.0}, {\"Weight\": 4220, \"Displacement\": 400.0}, {\"Weight\": 4165, \"Displacement\": 350.0}, {\"Weight\": 4325, \"Displacement\": 400.0}, {\"Weight\": 4335, \"Displacement\": 351.0}, {\"Weight\": 1940, \"Displacement\": 97.0}, {\"Weight\": 2740, \"Displacement\": 151.0}, {\"Weight\": 2265, \"Displacement\": 97.0}, {\"Weight\": 2755, \"Displacement\": 140.0}, {\"Weight\": 2051, \"Displacement\": 98.0}, {\"Weight\": 2075, \"Displacement\": 98.0}, {\"Weight\": 1985, \"Displacement\": 97.0}, {\"Weight\": 2190, \"Displacement\": 97.0}, {\"Weight\": 2815, \"Displacement\": 146.0}, {\"Weight\": 2600, \"Displacement\": 121.0}, {\"Weight\": 2720, \"Displacement\": 80.0}, {\"Weight\": 1985, \"Displacement\": 90.0}, {\"Weight\": 1800, \"Displacement\": 98.0}, {\"Weight\": 1985, \"Displacement\": 78.0}, {\"Weight\": 2070, \"Displacement\": 85.0}, {\"Weight\": 1800, \"Displacement\": 91.0}, {\"Weight\": 3365, \"Displacement\": 260.0}, {\"Weight\": 3735, \"Displacement\": 318.0}, {\"Weight\": 3570, \"Displacement\": 302.0}, {\"Weight\": 3535, \"Displacement\": 231.0}, {\"Weight\": 3155, \"Displacement\": 200.0}, {\"Weight\": 2965, \"Displacement\": 200.0}, {\"Weight\": 2720, \"Displacement\": 140.0}, {\"Weight\": 3430, \"Displacement\": 225.0}, {\"Weight\": 3210, \"Displacement\": 232.0}, {\"Weight\": 3380, \"Displacement\": 231.0}, {\"Weight\": 3070, \"Displacement\": 200.0}, {\"Weight\": 3620, \"Displacement\": 225.0}, {\"Weight\": 3410, \"Displacement\": 258.0}, {\"Weight\": 3425, \"Displacement\": 305.0}, {\"Weight\": 3445, \"Displacement\": 231.0}, {\"Weight\": 3205, \"Displacement\": 302.0}, {\"Weight\": 4080, \"Displacement\": 318.0}, {\"Weight\": 2155, \"Displacement\": 98.0}, {\"Weight\": 2560, \"Displacement\": 134.0}, {\"Weight\": 2300, \"Displacement\": 119.0}, {\"Weight\": 2230, \"Displacement\": 105.0}, {\"Weight\": 2515, \"Displacement\": 134.0}, {\"Weight\": 2745, \"Displacement\": 156.0}, {\"Weight\": 2855, \"Displacement\": 151.0}, {\"Weight\": 2405, \"Displacement\": 119.0}, {\"Weight\": 2830, \"Displacement\": 131.0}, {\"Weight\": 3140, \"Displacement\": 163.0}, {\"Weight\": 2795, \"Displacement\": 121.0}, {\"Weight\": 3410, \"Displacement\": 163.0}, {\"Weight\": 1990, \"Displacement\": 89.0}, {\"Weight\": 2135, \"Displacement\": 98.0}, {\"Weight\": 3245, \"Displacement\": 231.0}, {\"Weight\": 2990, \"Displacement\": 200.0}, {\"Weight\": 2890, \"Displacement\": 140.0}, {\"Weight\": 3265, \"Displacement\": 232.0}, {\"Weight\": 3360, \"Displacement\": 225.0}, {\"Weight\": 3840, \"Displacement\": 305.0}, {\"Weight\": 3725, \"Displacement\": 302.0}, {\"Weight\": 3955, \"Displacement\": 351.0}, {\"Weight\": 3830, \"Displacement\": 318.0}, {\"Weight\": 4360, \"Displacement\": 350.0}, {\"Weight\": 4054, \"Displacement\": 351.0}, {\"Weight\": 3605, \"Displacement\": 267.0}, {\"Weight\": 3940, \"Displacement\": 360.0}, {\"Weight\": 1925, \"Displacement\": 89.0}, {\"Weight\": 1975, \"Displacement\": 86.0}, {\"Weight\": 1915, \"Displacement\": 98.0}, {\"Weight\": 2670, \"Displacement\": 121.0}, {\"Weight\": 3530, \"Displacement\": 183.0}, {\"Weight\": 3900, \"Displacement\": 350.0}, {\"Weight\": 3190, \"Displacement\": 141.0}, {\"Weight\": 3420, \"Displacement\": 260.0}, {\"Weight\": 2200, \"Displacement\": 105.0}, {\"Weight\": 2150, \"Displacement\": 105.0}, {\"Weight\": 2020, \"Displacement\": 85.0}, {\"Weight\": 2130, \"Displacement\": 91.0}, {\"Weight\": 2670, \"Displacement\": 151.0}, {\"Weight\": 2595, \"Displacement\": 173.0}, {\"Weight\": 2700, \"Displacement\": 173.0}, {\"Weight\": 2556, \"Displacement\": 151.0}, {\"Weight\": 2144, \"Displacement\": 98.0}, {\"Weight\": 1968, \"Displacement\": 89.0}, {\"Weight\": 2120, \"Displacement\": 98.0}, {\"Weight\": 2019, \"Displacement\": 86.0}, {\"Weight\": 2678, \"Displacement\": 151.0}, {\"Weight\": 2870, \"Displacement\": 140.0}, {\"Weight\": 3003, \"Displacement\": 151.0}, {\"Weight\": 3381, \"Displacement\": 225.0}, {\"Weight\": 2188, \"Displacement\": 97.0}, {\"Weight\": 2711, \"Displacement\": 134.0}, {\"Weight\": 2542, \"Displacement\": 120.0}, {\"Weight\": 2434, \"Displacement\": 119.0}, {\"Weight\": 2265, \"Displacement\": 108.0}, {\"Weight\": 2110, \"Displacement\": 86.0}, {\"Weight\": 2800, \"Displacement\": 156.0}, {\"Weight\": 2110, \"Displacement\": 85.0}, {\"Weight\": 2085, \"Displacement\": 90.0}, {\"Weight\": 2335, \"Displacement\": 90.0}, {\"Weight\": 2950, \"Displacement\": 121.0}, {\"Weight\": 3250, \"Displacement\": 146.0}, {\"Weight\": 1850, \"Displacement\": 91.0}, {\"Weight\": 2145, \"Displacement\": 97.0}, {\"Weight\": 1845, \"Displacement\": 89.0}, {\"Weight\": 2910, \"Displacement\": 168.0}, {\"Weight\": 2420, \"Displacement\": 70.0}, {\"Weight\": 2500, \"Displacement\": 122.0}, {\"Weight\": 2290, \"Displacement\": 107.0}, {\"Weight\": 2490, \"Displacement\": 135.0}, {\"Weight\": 2635, \"Displacement\": 151.0}, {\"Weight\": 2620, \"Displacement\": 156.0}, {\"Weight\": 2725, \"Displacement\": 173.0}, {\"Weight\": 2385, \"Displacement\": 135.0}, {\"Weight\": 1755, \"Displacement\": 79.0}, {\"Weight\": 1875, \"Displacement\": 86.0}, {\"Weight\": 1760, \"Displacement\": 81.0}, {\"Weight\": 2065, \"Displacement\": 97.0}, {\"Weight\": 1975, \"Displacement\": 85.0}, {\"Weight\": 2050, \"Displacement\": 89.0}, {\"Weight\": 1985, \"Displacement\": 91.0}, {\"Weight\": 2215, \"Displacement\": 105.0}, {\"Weight\": 2045, \"Displacement\": 98.0}, {\"Weight\": 2380, \"Displacement\": 98.0}, {\"Weight\": 2190, \"Displacement\": 105.0}, {\"Weight\": 2210, \"Displacement\": 107.0}, {\"Weight\": 2350, \"Displacement\": 108.0}, {\"Weight\": 2615, \"Displacement\": 119.0}, {\"Weight\": 2635, \"Displacement\": 120.0}, {\"Weight\": 3230, \"Displacement\": 141.0}, {\"Weight\": 3160, \"Displacement\": 145.0}, {\"Weight\": 2900, \"Displacement\": 168.0}, {\"Weight\": 2930, \"Displacement\": 146.0}, {\"Weight\": 3415, \"Displacement\": 231.0}, {\"Weight\": 3725, \"Displacement\": 350.0}, {\"Weight\": 3060, \"Displacement\": 200.0}, {\"Weight\": 3465, \"Displacement\": 225.0}, {\"Weight\": 2605, \"Displacement\": 112.0}, {\"Weight\": 2640, \"Displacement\": 112.0}, {\"Weight\": 2395, \"Displacement\": 112.0}, {\"Weight\": 2575, \"Displacement\": 112.0}, {\"Weight\": 2525, \"Displacement\": 135.0}, {\"Weight\": 2735, \"Displacement\": 151.0}, {\"Weight\": 2865, \"Displacement\": 140.0}, {\"Weight\": 1980, \"Displacement\": 105.0}, {\"Weight\": 2025, \"Displacement\": 91.0}, {\"Weight\": 1970, \"Displacement\": 91.0}, {\"Weight\": 2125, \"Displacement\": 105.0}, {\"Weight\": 2125, \"Displacement\": 98.0}, {\"Weight\": 2160, \"Displacement\": 120.0}, {\"Weight\": 2205, \"Displacement\": 107.0}, {\"Weight\": 2245, \"Displacement\": 108.0}, {\"Weight\": 1965, \"Displacement\": 91.0}, {\"Weight\": 1965, \"Displacement\": 91.0}, {\"Weight\": 1995, \"Displacement\": 91.0}, {\"Weight\": 2945, \"Displacement\": 181.0}, {\"Weight\": 3015, \"Displacement\": 262.0}, {\"Weight\": 2585, \"Displacement\": 156.0}, {\"Weight\": 2835, \"Displacement\": 232.0}, {\"Weight\": 2665, \"Displacement\": 144.0}, {\"Weight\": 2370, \"Displacement\": 135.0}, {\"Weight\": 2950, \"Displacement\": 151.0}, {\"Weight\": 2790, \"Displacement\": 140.0}, {\"Weight\": 2130, \"Displacement\": 97.0}, {\"Weight\": 2295, \"Displacement\": 135.0}, {\"Weight\": 2625, \"Displacement\": 120.0}, {\"Weight\": 2720, \"Displacement\": 119.0}]}, \"vislib\": \"vegalite\"}, {\"config\": {\"view\": {\"continuousWidth\": 400, \"continuousHeight\": 300}, \"axis\": {\"labelColor\": \"#505050\", \"labelFont\": \"Helvetica Neue\", \"labelFontSize\": 9, \"labelFontWeight\": 400, \"titleFont\": \"Helvetica Neue\", \"titleFontSize\": 11, \"titleFontWeight\": 500}, \"legend\": {\"labelFont\": \"Helvetica Neue\", \"labelFontSize\": 9, \"labelFontWeight\": 400, \"titleFont\": \"Helvetica Neue\", \"titleFontSize\": 10, \"titleFontWeight\": 500}, \"mark\": {\"tooltip\": {\"content\": \"encoding\"}}, \"title\": {\"font\": \"Helvetica Neue\", \"fontSize\": 13, \"fontWeight\": 500}}, \"data\": {\"name\": \"data-14c8af54b3e76059f78152a04470fcb4\"}, \"mark\": \"circle\", \"encoding\": {\"x\": {\"type\": \"quantitative\", \"axis\": {\"title\": \"Horsepower\"}, \"field\": \"Horsepower\", \"scale\": {\"domain\": [46.0, 230.0]}}, \"y\": {\"type\": \"quantitative\", \"axis\": {\"title\": \"Displacement\"}, \"field\": \"Displacement\", \"scale\": {\"domain\": [68.0, 455.0]}}}, \"height\": 300.0, \"selection\": {\"selector002\": {\"type\": \"interval\", \"bind\": \"scales\", \"encodings\": [\"x\", \"y\"]}}, \"width\": 320.0, \"$schema\": \"https://vega.github.io/schema/vega-lite/v4.8.1.json\", \"datasets\": {\"data-14c8af54b3e76059f78152a04470fcb4\": [{\"Horsepower\": 130, \"Displacement\": 307.0}, {\"Horsepower\": 165, \"Displacement\": 350.0}, {\"Horsepower\": 150, \"Displacement\": 318.0}, {\"Horsepower\": 150, \"Displacement\": 304.0}, {\"Horsepower\": 140, \"Displacement\": 302.0}, {\"Horsepower\": 198, \"Displacement\": 429.0}, {\"Horsepower\": 220, \"Displacement\": 454.0}, {\"Horsepower\": 215, \"Displacement\": 440.0}, {\"Horsepower\": 225, \"Displacement\": 455.0}, {\"Horsepower\": 190, \"Displacement\": 390.0}, {\"Horsepower\": 170, \"Displacement\": 383.0}, {\"Horsepower\": 160, \"Displacement\": 340.0}, {\"Horsepower\": 150, \"Displacement\": 400.0}, {\"Horsepower\": 225, \"Displacement\": 455.0}, {\"Horsepower\": 95, \"Displacement\": 113.0}, {\"Horsepower\": 95, \"Displacement\": 198.0}, {\"Horsepower\": 97, \"Displacement\": 199.0}, {\"Horsepower\": 85, \"Displacement\": 200.0}, {\"Horsepower\": 88, \"Displacement\": 97.0}, {\"Horsepower\": 46, \"Displacement\": 97.0}, {\"Horsepower\": 87, \"Displacement\": 110.0}, {\"Horsepower\": 90, \"Displacement\": 107.0}, {\"Horsepower\": 95, \"Displacement\": 104.0}, {\"Horsepower\": 113, \"Displacement\": 121.0}, {\"Horsepower\": 90, \"Displacement\": 199.0}, {\"Horsepower\": 215, \"Displacement\": 360.0}, {\"Horsepower\": 200, \"Displacement\": 307.0}, {\"Horsepower\": 210, \"Displacement\": 318.0}, {\"Horsepower\": 193, \"Displacement\": 304.0}, {\"Horsepower\": 88, \"Displacement\": 97.0}, {\"Horsepower\": 90, \"Displacement\": 140.0}, {\"Horsepower\": 95, \"Displacement\": 113.0}, {\"Horsepower\": 100, \"Displacement\": 232.0}, {\"Horsepower\": 105, \"Displacement\": 225.0}, {\"Horsepower\": 100, \"Displacement\": 250.0}, {\"Horsepower\": 88, \"Displacement\": 250.0}, {\"Horsepower\": 100, \"Displacement\": 232.0}, {\"Horsepower\": 165, \"Displacement\": 350.0}, {\"Horsepower\": 175, \"Displacement\": 400.0}, {\"Horsepower\": 153, \"Displacement\": 351.0}, {\"Horsepower\": 150, \"Displacement\": 318.0}, {\"Horsepower\": 180, \"Displacement\": 383.0}, {\"Horsepower\": 170, \"Displacement\": 400.0}, {\"Horsepower\": 175, \"Displacement\": 400.0}, {\"Horsepower\": 110, \"Displacement\": 258.0}, {\"Horsepower\": 72, \"Displacement\": 140.0}, {\"Horsepower\": 100, \"Displacement\": 250.0}, {\"Horsepower\": 88, \"Displacement\": 250.0}, {\"Horsepower\": 86, \"Displacement\": 122.0}, {\"Horsepower\": 90, \"Displacement\": 116.0}, {\"Horsepower\": 70, \"Displacement\": 79.0}, {\"Horsepower\": 76, \"Displacement\": 88.0}, {\"Horsepower\": 65, \"Displacement\": 71.0}, {\"Horsepower\": 69, \"Displacement\": 72.0}, {\"Horsepower\": 60, \"Displacement\": 97.0}, {\"Horsepower\": 70, \"Displacement\": 91.0}, {\"Horsepower\": 95, \"Displacement\": 113.0}, {\"Horsepower\": 80, \"Displacement\": 97.5}, {\"Horsepower\": 54, \"Displacement\": 97.0}, {\"Horsepower\": 90, \"Displacement\": 140.0}, {\"Horsepower\": 86, \"Displacement\": 122.0}, {\"Horsepower\": 165, \"Displacement\": 350.0}, {\"Horsepower\": 175, \"Displacement\": 400.0}, {\"Horsepower\": 150, \"Displacement\": 318.0}, {\"Horsepower\": 153, \"Displacement\": 351.0}, {\"Horsepower\": 150, \"Displacement\": 304.0}, {\"Horsepower\": 208, \"Displacement\": 429.0}, {\"Horsepower\": 155, \"Displacement\": 350.0}, {\"Horsepower\": 160, \"Displacement\": 350.0}, {\"Horsepower\": 190, \"Displacement\": 400.0}, {\"Horsepower\": 97, \"Displacement\": 70.0}, {\"Horsepower\": 150, \"Displacement\": 304.0}, {\"Horsepower\": 130, \"Displacement\": 307.0}, {\"Horsepower\": 140, \"Displacement\": 302.0}, {\"Horsepower\": 150, \"Displacement\": 318.0}, {\"Horsepower\": 112, \"Displacement\": 121.0}, {\"Horsepower\": 76, \"Displacement\": 121.0}, {\"Horsepower\": 87, \"Displacement\": 120.0}, {\"Horsepower\": 69, \"Displacement\": 96.0}, {\"Horsepower\": 86, \"Displacement\": 122.0}, {\"Horsepower\": 92, \"Displacement\": 97.0}, {\"Horsepower\": 97, \"Displacement\": 120.0}, {\"Horsepower\": 80, \"Displacement\": 98.0}, {\"Horsepower\": 88, \"Displacement\": 97.0}, {\"Horsepower\": 175, \"Displacement\": 350.0}, {\"Horsepower\": 150, \"Displacement\": 304.0}, {\"Horsepower\": 145, \"Displacement\": 350.0}, {\"Horsepower\": 137, \"Displacement\": 302.0}, {\"Horsepower\": 150, \"Displacement\": 318.0}, {\"Horsepower\": 198, \"Displacement\": 429.0}, {\"Horsepower\": 150, \"Displacement\": 400.0}, {\"Horsepower\": 158, \"Displacement\": 351.0}, {\"Horsepower\": 150, \"Displacement\": 318.0}, {\"Horsepower\": 215, \"Displacement\": 440.0}, {\"Horsepower\": 225, \"Displacement\": 455.0}, {\"Horsepower\": 175, \"Displacement\": 360.0}, {\"Horsepower\": 105, \"Displacement\": 225.0}, {\"Horsepower\": 100, \"Displacement\": 250.0}, {\"Horsepower\": 100, \"Displacement\": 232.0}, {\"Horsepower\": 88, \"Displacement\": 250.0}, {\"Horsepower\": 95, \"Displacement\": 198.0}, {\"Horsepower\": 46, \"Displacement\": 97.0}, {\"Horsepower\": 150, \"Displacement\": 400.0}, {\"Horsepower\": 167, \"Displacement\": 400.0}, {\"Horsepower\": 170, \"Displacement\": 360.0}, {\"Horsepower\": 180, \"Displacement\": 350.0}, {\"Horsepower\": 100, \"Displacement\": 232.0}, {\"Horsepower\": 88, \"Displacement\": 97.0}, {\"Horsepower\": 72, \"Displacement\": 140.0}, {\"Horsepower\": 94, \"Displacement\": 108.0}, {\"Horsepower\": 90, \"Displacement\": 70.0}, {\"Horsepower\": 85, \"Displacement\": 122.0}, {\"Horsepower\": 107, \"Displacement\": 155.0}, {\"Horsepower\": 90, \"Displacement\": 98.0}, {\"Horsepower\": 145, \"Displacement\": 350.0}, {\"Horsepower\": 230, \"Displacement\": 400.0}, {\"Horsepower\": 49, \"Displacement\": 68.0}, {\"Horsepower\": 75, \"Displacement\": 116.0}, {\"Horsepower\": 91, \"Displacement\": 114.0}, {\"Horsepower\": 112, \"Displacement\": 121.0}, {\"Horsepower\": 150, \"Displacement\": 318.0}, {\"Horsepower\": 110, \"Displacement\": 121.0}, {\"Horsepower\": 122, \"Displacement\": 156.0}, {\"Horsepower\": 180, \"Displacement\": 350.0}, {\"Horsepower\": 95, \"Displacement\": 198.0}, {\"Horsepower\": 100, \"Displacement\": 232.0}, {\"Horsepower\": 100, \"Displacement\": 250.0}, {\"Horsepower\": 67, \"Displacement\": 79.0}, {\"Horsepower\": 80, \"Displacement\": 122.0}, {\"Horsepower\": 65, \"Displacement\": 71.0}, {\"Horsepower\": 75, \"Displacement\": 140.0}, {\"Horsepower\": 100, \"Displacement\": 250.0}, {\"Horsepower\": 110, \"Displacement\": 258.0}, {\"Horsepower\": 105, \"Displacement\": 225.0}, {\"Horsepower\": 140, \"Displacement\": 302.0}, {\"Horsepower\": 150, \"Displacement\": 350.0}, {\"Horsepower\": 150, \"Displacement\": 318.0}, {\"Horsepower\": 140, \"Displacement\": 302.0}, {\"Horsepower\": 150, \"Displacement\": 304.0}, {\"Horsepower\": 83, \"Displacement\": 98.0}, {\"Horsepower\": 67, \"Displacement\": 79.0}, {\"Horsepower\": 78, \"Displacement\": 97.0}, {\"Horsepower\": 52, \"Displacement\": 76.0}, {\"Horsepower\": 61, \"Displacement\": 83.0}, {\"Horsepower\": 75, \"Displacement\": 90.0}, {\"Horsepower\": 75, \"Displacement\": 90.0}, {\"Horsepower\": 75, \"Displacement\": 116.0}, {\"Horsepower\": 97, \"Displacement\": 120.0}, {\"Horsepower\": 93, \"Displacement\": 108.0}, {\"Horsepower\": 67, \"Displacement\": 79.0}, {\"Horsepower\": 95, \"Displacement\": 225.0}, {\"Horsepower\": 105, \"Displacement\": 250.0}, {\"Horsepower\": 72, \"Displacement\": 250.0}, {\"Horsepower\": 72, \"Displacement\": 250.0}, {\"Horsepower\": 170, \"Displacement\": 400.0}, {\"Horsepower\": 145, \"Displacement\": 350.0}, {\"Horsepower\": 150, \"Displacement\": 318.0}, {\"Horsepower\": 148, \"Displacement\": 351.0}, {\"Horsepower\": 110, \"Displacement\": 231.0}, {\"Horsepower\": 105, \"Displacement\": 250.0}, {\"Horsepower\": 110, \"Displacement\": 258.0}, {\"Horsepower\": 95, \"Displacement\": 225.0}, {\"Horsepower\": 110, \"Displacement\": 231.0}, {\"Horsepower\": 110, \"Displacement\": 262.0}, {\"Horsepower\": 129, \"Displacement\": 302.0}, {\"Horsepower\": 75, \"Displacement\": 97.0}, {\"Horsepower\": 83, \"Displacement\": 140.0}, {\"Horsepower\": 100, \"Displacement\": 232.0}, {\"Horsepower\": 78, \"Displacement\": 140.0}, {\"Horsepower\": 96, \"Displacement\": 134.0}, {\"Horsepower\": 71, \"Displacement\": 90.0}, {\"Horsepower\": 97, \"Displacement\": 119.0}, {\"Horsepower\": 97, \"Displacement\": 171.0}, {\"Horsepower\": 70, \"Displacement\": 90.0}, {\"Horsepower\": 90, \"Displacement\": 232.0}, {\"Horsepower\": 95, \"Displacement\": 115.0}, {\"Horsepower\": 88, \"Displacement\": 120.0}, {\"Horsepower\": 98, \"Displacement\": 121.0}, {\"Horsepower\": 115, \"Displacement\": 121.0}, {\"Horsepower\": 53, \"Displacement\": 91.0}, {\"Horsepower\": 86, \"Displacement\": 107.0}, {\"Horsepower\": 81, \"Displacement\": 116.0}, {\"Horsepower\": 92, \"Displacement\": 140.0}, {\"Horsepower\": 79, \"Displacement\": 98.0}, {\"Horsepower\": 83, \"Displacement\": 101.0}, {\"Horsepower\": 140, \"Displacement\": 305.0}, {\"Horsepower\": 150, \"Displacement\": 318.0}, {\"Horsepower\": 120, \"Displacement\": 304.0}, {\"Horsepower\": 152, \"Displacement\": 351.0}, {\"Horsepower\": 100, \"Displacement\": 225.0}, {\"Horsepower\": 105, \"Displacement\": 250.0}, {\"Horsepower\": 81, \"Displacement\": 200.0}, {\"Horsepower\": 90, \"Displacement\": 232.0}, {\"Horsepower\": 52, \"Displacement\": 85.0}, {\"Horsepower\": 60, \"Displacement\": 98.0}, {\"Horsepower\": 70, \"Displacement\": 90.0}, {\"Horsepower\": 53, \"Displacement\": 91.0}, {\"Horsepower\": 100, \"Displacement\": 225.0}, {\"Horsepower\": 78, \"Displacement\": 250.0}, {\"Horsepower\": 110, \"Displacement\": 250.0}, {\"Horsepower\": 95, \"Displacement\": 258.0}, {\"Horsepower\": 71, \"Displacement\": 97.0}, {\"Horsepower\": 70, \"Displacement\": 85.0}, {\"Horsepower\": 75, \"Displacement\": 97.0}, {\"Horsepower\": 72, \"Displacement\": 140.0}, {\"Horsepower\": 102, \"Displacement\": 130.0}, {\"Horsepower\": 150, \"Displacement\": 318.0}, {\"Horsepower\": 88, \"Displacement\": 120.0}, {\"Horsepower\": 108, \"Displacement\": 156.0}, {\"Horsepower\": 120, \"Displacement\": 168.0}, {\"Horsepower\": 180, \"Displacement\": 350.0}, {\"Horsepower\": 145, \"Displacement\": 350.0}, {\"Horsepower\": 130, \"Displacement\": 302.0}, {\"Horsepower\": 150, \"Displacement\": 318.0}, {\"Horsepower\": 68, \"Displacement\": 98.0}, {\"Horsepower\": 80, \"Displacement\": 111.0}, {\"Horsepower\": 58, \"Displacement\": 79.0}, {\"Horsepower\": 96, \"Displacement\": 122.0}, {\"Horsepower\": 70, \"Displacement\": 85.0}, {\"Horsepower\": 145, \"Displacement\": 305.0}, {\"Horsepower\": 110, \"Displacement\": 260.0}, {\"Horsepower\": 145, \"Displacement\": 318.0}, {\"Horsepower\": 130, \"Displacement\": 302.0}, {\"Horsepower\": 110, \"Displacement\": 250.0}, {\"Horsepower\": 105, \"Displacement\": 231.0}, {\"Horsepower\": 100, \"Displacement\": 225.0}, {\"Horsepower\": 98, \"Displacement\": 250.0}, {\"Horsepower\": 180, \"Displacement\": 400.0}, {\"Horsepower\": 170, \"Displacement\": 350.0}, {\"Horsepower\": 190, \"Displacement\": 400.0}, {\"Horsepower\": 149, \"Displacement\": 351.0}, {\"Horsepower\": 78, \"Displacement\": 97.0}, {\"Horsepower\": 88, \"Displacement\": 151.0}, {\"Horsepower\": 75, \"Displacement\": 97.0}, {\"Horsepower\": 89, \"Displacement\": 140.0}, {\"Horsepower\": 63, \"Displacement\": 98.0}, {\"Horsepower\": 83, \"Displacement\": 98.0}, {\"Horsepower\": 67, \"Displacement\": 97.0}, {\"Horsepower\": 78, \"Displacement\": 97.0}, {\"Horsepower\": 97, \"Displacement\": 146.0}, {\"Horsepower\": 110, \"Displacement\": 121.0}, {\"Horsepower\": 110, \"Displacement\": 80.0}, {\"Horsepower\": 48, \"Displacement\": 90.0}, {\"Horsepower\": 66, \"Displacement\": 98.0}, {\"Horsepower\": 52, \"Displacement\": 78.0}, {\"Horsepower\": 70, \"Displacement\": 85.0}, {\"Horsepower\": 60, \"Displacement\": 91.0}, {\"Horsepower\": 110, \"Displacement\": 260.0}, {\"Horsepower\": 140, \"Displacement\": 318.0}, {\"Horsepower\": 139, \"Displacement\": 302.0}, {\"Horsepower\": 105, \"Displacement\": 231.0}, {\"Horsepower\": 95, \"Displacement\": 200.0}, {\"Horsepower\": 85, \"Displacement\": 200.0}, {\"Horsepower\": 88, \"Displacement\": 140.0}, {\"Horsepower\": 100, \"Displacement\": 225.0}, {\"Horsepower\": 90, \"Displacement\": 232.0}, {\"Horsepower\": 105, \"Displacement\": 231.0}, {\"Horsepower\": 85, \"Displacement\": 200.0}, {\"Horsepower\": 110, \"Displacement\": 225.0}, {\"Horsepower\": 120, \"Displacement\": 258.0}, {\"Horsepower\": 145, \"Displacement\": 305.0}, {\"Horsepower\": 165, \"Displacement\": 231.0}, {\"Horsepower\": 139, \"Displacement\": 302.0}, {\"Horsepower\": 140, \"Displacement\": 318.0}, {\"Horsepower\": 68, \"Displacement\": 98.0}, {\"Horsepower\": 95, \"Displacement\": 134.0}, {\"Horsepower\": 97, \"Displacement\": 119.0}, {\"Horsepower\": 75, \"Displacement\": 105.0}, {\"Horsepower\": 95, \"Displacement\": 134.0}, {\"Horsepower\": 105, \"Displacement\": 156.0}, {\"Horsepower\": 85, \"Displacement\": 151.0}, {\"Horsepower\": 97, \"Displacement\": 119.0}, {\"Horsepower\": 103, \"Displacement\": 131.0}, {\"Horsepower\": 125, \"Displacement\": 163.0}, {\"Horsepower\": 115, \"Displacement\": 121.0}, {\"Horsepower\": 133, \"Displacement\": 163.0}, {\"Horsepower\": 71, \"Displacement\": 89.0}, {\"Horsepower\": 68, \"Displacement\": 98.0}, {\"Horsepower\": 115, \"Displacement\": 231.0}, {\"Horsepower\": 85, \"Displacement\": 200.0}, {\"Horsepower\": 88, \"Displacement\": 140.0}, {\"Horsepower\": 90, \"Displacement\": 232.0}, {\"Horsepower\": 110, \"Displacement\": 225.0}, {\"Horsepower\": 130, \"Displacement\": 305.0}, {\"Horsepower\": 129, \"Displacement\": 302.0}, {\"Horsepower\": 138, \"Displacement\": 351.0}, {\"Horsepower\": 135, \"Displacement\": 318.0}, {\"Horsepower\": 155, \"Displacement\": 350.0}, {\"Horsepower\": 142, \"Displacement\": 351.0}, {\"Horsepower\": 125, \"Displacement\": 267.0}, {\"Horsepower\": 150, \"Displacement\": 360.0}, {\"Horsepower\": 71, \"Displacement\": 89.0}, {\"Horsepower\": 65, \"Displacement\": 86.0}, {\"Horsepower\": 80, \"Displacement\": 98.0}, {\"Horsepower\": 80, \"Displacement\": 121.0}, {\"Horsepower\": 77, \"Displacement\": 183.0}, {\"Horsepower\": 125, \"Displacement\": 350.0}, {\"Horsepower\": 71, \"Displacement\": 141.0}, {\"Horsepower\": 90, \"Displacement\": 260.0}, {\"Horsepower\": 70, \"Displacement\": 105.0}, {\"Horsepower\": 70, \"Displacement\": 105.0}, {\"Horsepower\": 65, \"Displacement\": 85.0}, {\"Horsepower\": 69, \"Displacement\": 91.0}, {\"Horsepower\": 90, \"Displacement\": 151.0}, {\"Horsepower\": 115, \"Displacement\": 173.0}, {\"Horsepower\": 115, \"Displacement\": 173.0}, {\"Horsepower\": 90, \"Displacement\": 151.0}, {\"Horsepower\": 76, \"Displacement\": 98.0}, {\"Horsepower\": 60, \"Displacement\": 89.0}, {\"Horsepower\": 70, \"Displacement\": 98.0}, {\"Horsepower\": 65, \"Displacement\": 86.0}, {\"Horsepower\": 90, \"Displacement\": 151.0}, {\"Horsepower\": 88, \"Displacement\": 140.0}, {\"Horsepower\": 90, \"Displacement\": 151.0}, {\"Horsepower\": 90, \"Displacement\": 225.0}, {\"Horsepower\": 78, \"Displacement\": 97.0}, {\"Horsepower\": 90, \"Displacement\": 134.0}, {\"Horsepower\": 75, \"Displacement\": 120.0}, {\"Horsepower\": 92, \"Displacement\": 119.0}, {\"Horsepower\": 75, \"Displacement\": 108.0}, {\"Horsepower\": 65, \"Displacement\": 86.0}, {\"Horsepower\": 105, \"Displacement\": 156.0}, {\"Horsepower\": 65, \"Displacement\": 85.0}, {\"Horsepower\": 48, \"Displacement\": 90.0}, {\"Horsepower\": 48, \"Displacement\": 90.0}, {\"Horsepower\": 67, \"Displacement\": 121.0}, {\"Horsepower\": 67, \"Displacement\": 146.0}, {\"Horsepower\": 67, \"Displacement\": 91.0}, {\"Horsepower\": 67, \"Displacement\": 97.0}, {\"Horsepower\": 62, \"Displacement\": 89.0}, {\"Horsepower\": 132, \"Displacement\": 168.0}, {\"Horsepower\": 100, \"Displacement\": 70.0}, {\"Horsepower\": 88, \"Displacement\": 122.0}, {\"Horsepower\": 72, \"Displacement\": 107.0}, {\"Horsepower\": 84, \"Displacement\": 135.0}, {\"Horsepower\": 84, \"Displacement\": 151.0}, {\"Horsepower\": 92, \"Displacement\": 156.0}, {\"Horsepower\": 110, \"Displacement\": 173.0}, {\"Horsepower\": 84, \"Displacement\": 135.0}, {\"Horsepower\": 58, \"Displacement\": 79.0}, {\"Horsepower\": 64, \"Displacement\": 86.0}, {\"Horsepower\": 60, \"Displacement\": 81.0}, {\"Horsepower\": 67, \"Displacement\": 97.0}, {\"Horsepower\": 65, \"Displacement\": 85.0}, {\"Horsepower\": 62, \"Displacement\": 89.0}, {\"Horsepower\": 68, \"Displacement\": 91.0}, {\"Horsepower\": 63, \"Displacement\": 105.0}, {\"Horsepower\": 65, \"Displacement\": 98.0}, {\"Horsepower\": 65, \"Displacement\": 98.0}, {\"Horsepower\": 74, \"Displacement\": 105.0}, {\"Horsepower\": 75, \"Displacement\": 107.0}, {\"Horsepower\": 75, \"Displacement\": 108.0}, {\"Horsepower\": 100, \"Displacement\": 119.0}, {\"Horsepower\": 74, \"Displacement\": 120.0}, {\"Horsepower\": 80, \"Displacement\": 141.0}, {\"Horsepower\": 76, \"Displacement\": 145.0}, {\"Horsepower\": 116, \"Displacement\": 168.0}, {\"Horsepower\": 120, \"Displacement\": 146.0}, {\"Horsepower\": 110, \"Displacement\": 231.0}, {\"Horsepower\": 105, \"Displacement\": 350.0}, {\"Horsepower\": 88, \"Displacement\": 200.0}, {\"Horsepower\": 85, \"Displacement\": 225.0}, {\"Horsepower\": 88, \"Displacement\": 112.0}, {\"Horsepower\": 88, \"Displacement\": 112.0}, {\"Horsepower\": 88, \"Displacement\": 112.0}, {\"Horsepower\": 85, \"Displacement\": 112.0}, {\"Horsepower\": 84, \"Displacement\": 135.0}, {\"Horsepower\": 90, \"Displacement\": 151.0}, {\"Horsepower\": 92, \"Displacement\": 140.0}, {\"Horsepower\": 74, \"Displacement\": 105.0}, {\"Horsepower\": 68, \"Displacement\": 91.0}, {\"Horsepower\": 68, \"Displacement\": 91.0}, {\"Horsepower\": 63, \"Displacement\": 105.0}, {\"Horsepower\": 70, \"Displacement\": 98.0}, {\"Horsepower\": 88, \"Displacement\": 120.0}, {\"Horsepower\": 75, \"Displacement\": 107.0}, {\"Horsepower\": 70, \"Displacement\": 108.0}, {\"Horsepower\": 67, \"Displacement\": 91.0}, {\"Horsepower\": 67, \"Displacement\": 91.0}, {\"Horsepower\": 67, \"Displacement\": 91.0}, {\"Horsepower\": 110, \"Displacement\": 181.0}, {\"Horsepower\": 85, \"Displacement\": 262.0}, {\"Horsepower\": 92, \"Displacement\": 156.0}, {\"Horsepower\": 112, \"Displacement\": 232.0}, {\"Horsepower\": 96, \"Displacement\": 144.0}, {\"Horsepower\": 84, \"Displacement\": 135.0}, {\"Horsepower\": 90, \"Displacement\": 151.0}, {\"Horsepower\": 86, \"Displacement\": 140.0}, {\"Horsepower\": 52, \"Displacement\": 97.0}, {\"Horsepower\": 84, \"Displacement\": 135.0}, {\"Horsepower\": 79, \"Displacement\": 120.0}, {\"Horsepower\": 82, \"Displacement\": 119.0}]}, \"vislib\": \"vegalite\"}, {\"config\": {\"view\": {\"continuousWidth\": 400, \"continuousHeight\": 300}, \"axis\": {\"labelColor\": \"#505050\", \"labelFont\": \"Helvetica Neue\", \"labelFontSize\": 9, \"labelFontWeight\": 400, \"titleFont\": \"Helvetica Neue\", \"titleFontSize\": 11, \"titleFontWeight\": 500}, \"legend\": {\"labelFont\": \"Helvetica Neue\", \"labelFontSize\": 9, \"labelFontWeight\": 400, \"titleFont\": \"Helvetica Neue\", \"titleFontSize\": 10, \"titleFontWeight\": 500}, \"mark\": {\"tooltip\": {\"content\": \"encoding\"}}, \"title\": {\"font\": \"Helvetica Neue\", \"fontSize\": 13, \"fontWeight\": 500}}, \"data\": {\"name\": \"data-d51965f82237e6af22c157040d8a1068\"}, \"mark\": \"circle\", \"encoding\": {\"x\": {\"type\": \"quantitative\", \"axis\": {\"title\": \"Horsepower\"}, \"field\": \"Horsepower\", \"scale\": {\"domain\": [46.0, 230.0]}}, \"y\": {\"type\": \"quantitative\", \"axis\": {\"title\": \"Weight\"}, \"field\": \"Weight\", \"scale\": {\"domain\": [1613.0, 5140.0]}}}, \"height\": 300.0, \"selection\": {\"selector003\": {\"type\": \"interval\", \"bind\": \"scales\", \"encodings\": [\"x\", \"y\"]}}, \"width\": 320.0, \"$schema\": \"https://vega.github.io/schema/vega-lite/v4.8.1.json\", \"datasets\": {\"data-d51965f82237e6af22c157040d8a1068\": [{\"Weight\": 3504, \"Horsepower\": 130}, {\"Weight\": 3693, \"Horsepower\": 165}, {\"Weight\": 3436, \"Horsepower\": 150}, {\"Weight\": 3433, \"Horsepower\": 150}, {\"Weight\": 3449, \"Horsepower\": 140}, {\"Weight\": 4341, \"Horsepower\": 198}, {\"Weight\": 4354, \"Horsepower\": 220}, {\"Weight\": 4312, \"Horsepower\": 215}, {\"Weight\": 4425, \"Horsepower\": 225}, {\"Weight\": 3850, \"Horsepower\": 190}, {\"Weight\": 3563, \"Horsepower\": 170}, {\"Weight\": 3609, \"Horsepower\": 160}, {\"Weight\": 3761, \"Horsepower\": 150}, {\"Weight\": 3086, \"Horsepower\": 225}, {\"Weight\": 2372, \"Horsepower\": 95}, {\"Weight\": 2833, \"Horsepower\": 95}, {\"Weight\": 2774, \"Horsepower\": 97}, {\"Weight\": 2587, \"Horsepower\": 85}, {\"Weight\": 2130, \"Horsepower\": 88}, {\"Weight\": 1835, \"Horsepower\": 46}, {\"Weight\": 2672, \"Horsepower\": 87}, {\"Weight\": 2430, \"Horsepower\": 90}, {\"Weight\": 2375, \"Horsepower\": 95}, {\"Weight\": 2234, \"Horsepower\": 113}, {\"Weight\": 2648, \"Horsepower\": 90}, {\"Weight\": 4615, \"Horsepower\": 215}, {\"Weight\": 4376, \"Horsepower\": 200}, {\"Weight\": 4382, \"Horsepower\": 210}, {\"Weight\": 4732, \"Horsepower\": 193}, {\"Weight\": 2130, \"Horsepower\": 88}, {\"Weight\": 2264, \"Horsepower\": 90}, {\"Weight\": 2228, \"Horsepower\": 95}, {\"Weight\": 2634, \"Horsepower\": 100}, {\"Weight\": 3439, \"Horsepower\": 105}, {\"Weight\": 3329, \"Horsepower\": 100}, {\"Weight\": 3302, \"Horsepower\": 88}, {\"Weight\": 3288, \"Horsepower\": 100}, {\"Weight\": 4209, \"Horsepower\": 165}, {\"Weight\": 4464, \"Horsepower\": 175}, {\"Weight\": 4154, \"Horsepower\": 153}, {\"Weight\": 4096, \"Horsepower\": 150}, {\"Weight\": 4955, \"Horsepower\": 180}, {\"Weight\": 4746, \"Horsepower\": 170}, {\"Weight\": 5140, \"Horsepower\": 175}, {\"Weight\": 2962, \"Horsepower\": 110}, {\"Weight\": 2408, \"Horsepower\": 72}, {\"Weight\": 3282, \"Horsepower\": 100}, {\"Weight\": 3139, \"Horsepower\": 88}, {\"Weight\": 2220, \"Horsepower\": 86}, {\"Weight\": 2123, \"Horsepower\": 90}, {\"Weight\": 2074, \"Horsepower\": 70}, {\"Weight\": 2065, \"Horsepower\": 76}, {\"Weight\": 1773, \"Horsepower\": 65}, {\"Weight\": 1613, \"Horsepower\": 69}, {\"Weight\": 1834, \"Horsepower\": 60}, {\"Weight\": 1955, \"Horsepower\": 70}, {\"Weight\": 2278, \"Horsepower\": 95}, {\"Weight\": 2126, \"Horsepower\": 80}, {\"Weight\": 2254, \"Horsepower\": 54}, {\"Weight\": 2408, \"Horsepower\": 90}, {\"Weight\": 2226, \"Horsepower\": 86}, {\"Weight\": 4274, \"Horsepower\": 165}, {\"Weight\": 4385, \"Horsepower\": 175}, {\"Weight\": 4135, \"Horsepower\": 150}, {\"Weight\": 4129, \"Horsepower\": 153}, {\"Weight\": 3672, \"Horsepower\": 150}, {\"Weight\": 4633, \"Horsepower\": 208}, {\"Weight\": 4502, \"Horsepower\": 155}, {\"Weight\": 4456, \"Horsepower\": 160}, {\"Weight\": 4422, \"Horsepower\": 190}, {\"Weight\": 2330, \"Horsepower\": 97}, {\"Weight\": 3892, \"Horsepower\": 150}, {\"Weight\": 4098, \"Horsepower\": 130}, {\"Weight\": 4294, \"Horsepower\": 140}, {\"Weight\": 4077, \"Horsepower\": 150}, {\"Weight\": 2933, \"Horsepower\": 112}, {\"Weight\": 2511, \"Horsepower\": 76}, {\"Weight\": 2979, \"Horsepower\": 87}, {\"Weight\": 2189, \"Horsepower\": 69}, {\"Weight\": 2395, \"Horsepower\": 86}, {\"Weight\": 2288, \"Horsepower\": 92}, {\"Weight\": 2506, \"Horsepower\": 97}, {\"Weight\": 2164, \"Horsepower\": 80}, {\"Weight\": 2100, \"Horsepower\": 88}, {\"Weight\": 4100, \"Horsepower\": 175}, {\"Weight\": 3672, \"Horsepower\": 150}, {\"Weight\": 3988, \"Horsepower\": 145}, {\"Weight\": 4042, \"Horsepower\": 137}, {\"Weight\": 3777, \"Horsepower\": 150}, {\"Weight\": 4952, \"Horsepower\": 198}, {\"Weight\": 4464, \"Horsepower\": 150}, {\"Weight\": 4363, \"Horsepower\": 158}, {\"Weight\": 4237, \"Horsepower\": 150}, {\"Weight\": 4735, \"Horsepower\": 215}, {\"Weight\": 4951, \"Horsepower\": 225}, {\"Weight\": 3821, \"Horsepower\": 175}, {\"Weight\": 3121, \"Horsepower\": 105}, {\"Weight\": 3278, \"Horsepower\": 100}, {\"Weight\": 2945, \"Horsepower\": 100}, {\"Weight\": 3021, \"Horsepower\": 88}, {\"Weight\": 2904, \"Horsepower\": 95}, {\"Weight\": 1950, \"Horsepower\": 46}, {\"Weight\": 4997, \"Horsepower\": 150}, {\"Weight\": 4906, \"Horsepower\": 167}, {\"Weight\": 4654, \"Horsepower\": 170}, {\"Weight\": 4499, \"Horsepower\": 180}, {\"Weight\": 2789, \"Horsepower\": 100}, {\"Weight\": 2279, \"Horsepower\": 88}, {\"Weight\": 2401, \"Horsepower\": 72}, {\"Weight\": 2379, \"Horsepower\": 94}, {\"Weight\": 2124, \"Horsepower\": 90}, {\"Weight\": 2310, \"Horsepower\": 85}, {\"Weight\": 2472, \"Horsepower\": 107}, {\"Weight\": 2265, \"Horsepower\": 90}, {\"Weight\": 4082, \"Horsepower\": 145}, {\"Weight\": 4278, \"Horsepower\": 230}, {\"Weight\": 1867, \"Horsepower\": 49}, {\"Weight\": 2158, \"Horsepower\": 75}, {\"Weight\": 2582, \"Horsepower\": 91}, {\"Weight\": 2868, \"Horsepower\": 112}, {\"Weight\": 3399, \"Horsepower\": 150}, {\"Weight\": 2660, \"Horsepower\": 110}, {\"Weight\": 2807, \"Horsepower\": 122}, {\"Weight\": 3664, \"Horsepower\": 180}, {\"Weight\": 3102, \"Horsepower\": 95}, {\"Weight\": 2901, \"Horsepower\": 100}, {\"Weight\": 3336, \"Horsepower\": 100}, {\"Weight\": 1950, \"Horsepower\": 67}, {\"Weight\": 2451, \"Horsepower\": 80}, {\"Weight\": 1836, \"Horsepower\": 65}, {\"Weight\": 2542, \"Horsepower\": 75}, {\"Weight\": 3781, \"Horsepower\": 100}, {\"Weight\": 3632, \"Horsepower\": 110}, {\"Weight\": 3613, \"Horsepower\": 105}, {\"Weight\": 4141, \"Horsepower\": 140}, {\"Weight\": 4699, \"Horsepower\": 150}, {\"Weight\": 4457, \"Horsepower\": 150}, {\"Weight\": 4638, \"Horsepower\": 140}, {\"Weight\": 4257, \"Horsepower\": 150}, {\"Weight\": 2219, \"Horsepower\": 83}, {\"Weight\": 1963, \"Horsepower\": 67}, {\"Weight\": 2300, \"Horsepower\": 78}, {\"Weight\": 1649, \"Horsepower\": 52}, {\"Weight\": 2003, \"Horsepower\": 61}, {\"Weight\": 2125, \"Horsepower\": 75}, {\"Weight\": 2108, \"Horsepower\": 75}, {\"Weight\": 2246, \"Horsepower\": 75}, {\"Weight\": 2489, \"Horsepower\": 97}, {\"Weight\": 2391, \"Horsepower\": 93}, {\"Weight\": 2000, \"Horsepower\": 67}, {\"Weight\": 3264, \"Horsepower\": 95}, {\"Weight\": 3459, \"Horsepower\": 105}, {\"Weight\": 3432, \"Horsepower\": 72}, {\"Weight\": 3158, \"Horsepower\": 72}, {\"Weight\": 4668, \"Horsepower\": 170}, {\"Weight\": 4440, \"Horsepower\": 145}, {\"Weight\": 4498, \"Horsepower\": 150}, {\"Weight\": 4657, \"Horsepower\": 148}, {\"Weight\": 3907, \"Horsepower\": 110}, {\"Weight\": 3897, \"Horsepower\": 105}, {\"Weight\": 3730, \"Horsepower\": 110}, {\"Weight\": 3785, \"Horsepower\": 95}, {\"Weight\": 3039, \"Horsepower\": 110}, {\"Weight\": 3221, \"Horsepower\": 110}, {\"Weight\": 3169, \"Horsepower\": 129}, {\"Weight\": 2171, \"Horsepower\": 75}, {\"Weight\": 2639, \"Horsepower\": 83}, {\"Weight\": 2914, \"Horsepower\": 100}, {\"Weight\": 2592, \"Horsepower\": 78}, {\"Weight\": 2702, \"Horsepower\": 96}, {\"Weight\": 2223, \"Horsepower\": 71}, {\"Weight\": 2545, \"Horsepower\": 97}, {\"Weight\": 2984, \"Horsepower\": 97}, {\"Weight\": 1937, \"Horsepower\": 70}, {\"Weight\": 3211, \"Horsepower\": 90}, {\"Weight\": 2694, \"Horsepower\": 95}, {\"Weight\": 2957, \"Horsepower\": 88}, {\"Weight\": 2945, \"Horsepower\": 98}, {\"Weight\": 2671, \"Horsepower\": 115}, {\"Weight\": 1795, \"Horsepower\": 53}, {\"Weight\": 2464, \"Horsepower\": 86}, {\"Weight\": 2220, \"Horsepower\": 81}, {\"Weight\": 2572, \"Horsepower\": 92}, {\"Weight\": 2255, \"Horsepower\": 79}, {\"Weight\": 2202, \"Horsepower\": 83}, {\"Weight\": 4215, \"Horsepower\": 140}, {\"Weight\": 4190, \"Horsepower\": 150}, {\"Weight\": 3962, \"Horsepower\": 120}, {\"Weight\": 4215, \"Horsepower\": 152}, {\"Weight\": 3233, \"Horsepower\": 100}, {\"Weight\": 3353, \"Horsepower\": 105}, {\"Weight\": 3012, \"Horsepower\": 81}, {\"Weight\": 3085, \"Horsepower\": 90}, {\"Weight\": 2035, \"Horsepower\": 52}, {\"Weight\": 2164, \"Horsepower\": 60}, {\"Weight\": 1937, \"Horsepower\": 70}, {\"Weight\": 1795, \"Horsepower\": 53}, {\"Weight\": 3651, \"Horsepower\": 100}, {\"Weight\": 3574, \"Horsepower\": 78}, {\"Weight\": 3645, \"Horsepower\": 110}, {\"Weight\": 3193, \"Horsepower\": 95}, {\"Weight\": 1825, \"Horsepower\": 71}, {\"Weight\": 1990, \"Horsepower\": 70}, {\"Weight\": 2155, \"Horsepower\": 75}, {\"Weight\": 2565, \"Horsepower\": 72}, {\"Weight\": 3150, \"Horsepower\": 102}, {\"Weight\": 3940, \"Horsepower\": 150}, {\"Weight\": 3270, \"Horsepower\": 88}, {\"Weight\": 2930, \"Horsepower\": 108}, {\"Weight\": 3820, \"Horsepower\": 120}, {\"Weight\": 4380, \"Horsepower\": 180}, {\"Weight\": 4055, \"Horsepower\": 145}, {\"Weight\": 3870, \"Horsepower\": 130}, {\"Weight\": 3755, \"Horsepower\": 150}, {\"Weight\": 2045, \"Horsepower\": 68}, {\"Weight\": 2155, \"Horsepower\": 80}, {\"Weight\": 1825, \"Horsepower\": 58}, {\"Weight\": 2300, \"Horsepower\": 96}, {\"Weight\": 1945, \"Horsepower\": 70}, {\"Weight\": 3880, \"Horsepower\": 145}, {\"Weight\": 4060, \"Horsepower\": 110}, {\"Weight\": 4140, \"Horsepower\": 145}, {\"Weight\": 4295, \"Horsepower\": 130}, {\"Weight\": 3520, \"Horsepower\": 110}, {\"Weight\": 3425, \"Horsepower\": 105}, {\"Weight\": 3630, \"Horsepower\": 100}, {\"Weight\": 3525, \"Horsepower\": 98}, {\"Weight\": 4220, \"Horsepower\": 180}, {\"Weight\": 4165, \"Horsepower\": 170}, {\"Weight\": 4325, \"Horsepower\": 190}, {\"Weight\": 4335, \"Horsepower\": 149}, {\"Weight\": 1940, \"Horsepower\": 78}, {\"Weight\": 2740, \"Horsepower\": 88}, {\"Weight\": 2265, \"Horsepower\": 75}, {\"Weight\": 2755, \"Horsepower\": 89}, {\"Weight\": 2051, \"Horsepower\": 63}, {\"Weight\": 2075, \"Horsepower\": 83}, {\"Weight\": 1985, \"Horsepower\": 67}, {\"Weight\": 2190, \"Horsepower\": 78}, {\"Weight\": 2815, \"Horsepower\": 97}, {\"Weight\": 2600, \"Horsepower\": 110}, {\"Weight\": 2720, \"Horsepower\": 110}, {\"Weight\": 1985, \"Horsepower\": 48}, {\"Weight\": 1800, \"Horsepower\": 66}, {\"Weight\": 1985, \"Horsepower\": 52}, {\"Weight\": 2070, \"Horsepower\": 70}, {\"Weight\": 1800, \"Horsepower\": 60}, {\"Weight\": 3365, \"Horsepower\": 110}, {\"Weight\": 3735, \"Horsepower\": 140}, {\"Weight\": 3570, \"Horsepower\": 139}, {\"Weight\": 3535, \"Horsepower\": 105}, {\"Weight\": 3155, \"Horsepower\": 95}, {\"Weight\": 2965, \"Horsepower\": 85}, {\"Weight\": 2720, \"Horsepower\": 88}, {\"Weight\": 3430, \"Horsepower\": 100}, {\"Weight\": 3210, \"Horsepower\": 90}, {\"Weight\": 3380, \"Horsepower\": 105}, {\"Weight\": 3070, \"Horsepower\": 85}, {\"Weight\": 3620, \"Horsepower\": 110}, {\"Weight\": 3410, \"Horsepower\": 120}, {\"Weight\": 3425, \"Horsepower\": 145}, {\"Weight\": 3445, \"Horsepower\": 165}, {\"Weight\": 3205, \"Horsepower\": 139}, {\"Weight\": 4080, \"Horsepower\": 140}, {\"Weight\": 2155, \"Horsepower\": 68}, {\"Weight\": 2560, \"Horsepower\": 95}, {\"Weight\": 2300, \"Horsepower\": 97}, {\"Weight\": 2230, \"Horsepower\": 75}, {\"Weight\": 2515, \"Horsepower\": 95}, {\"Weight\": 2745, \"Horsepower\": 105}, {\"Weight\": 2855, \"Horsepower\": 85}, {\"Weight\": 2405, \"Horsepower\": 97}, {\"Weight\": 2830, \"Horsepower\": 103}, {\"Weight\": 3140, \"Horsepower\": 125}, {\"Weight\": 2795, \"Horsepower\": 115}, {\"Weight\": 3410, \"Horsepower\": 133}, {\"Weight\": 1990, \"Horsepower\": 71}, {\"Weight\": 2135, \"Horsepower\": 68}, {\"Weight\": 3245, \"Horsepower\": 115}, {\"Weight\": 2990, \"Horsepower\": 85}, {\"Weight\": 2890, \"Horsepower\": 88}, {\"Weight\": 3265, \"Horsepower\": 90}, {\"Weight\": 3360, \"Horsepower\": 110}, {\"Weight\": 3840, \"Horsepower\": 130}, {\"Weight\": 3725, \"Horsepower\": 129}, {\"Weight\": 3955, \"Horsepower\": 138}, {\"Weight\": 3830, \"Horsepower\": 135}, {\"Weight\": 4360, \"Horsepower\": 155}, {\"Weight\": 4054, \"Horsepower\": 142}, {\"Weight\": 3605, \"Horsepower\": 125}, {\"Weight\": 3940, \"Horsepower\": 150}, {\"Weight\": 1925, \"Horsepower\": 71}, {\"Weight\": 1975, \"Horsepower\": 65}, {\"Weight\": 1915, \"Horsepower\": 80}, {\"Weight\": 2670, \"Horsepower\": 80}, {\"Weight\": 3530, \"Horsepower\": 77}, {\"Weight\": 3900, \"Horsepower\": 125}, {\"Weight\": 3190, \"Horsepower\": 71}, {\"Weight\": 3420, \"Horsepower\": 90}, {\"Weight\": 2200, \"Horsepower\": 70}, {\"Weight\": 2150, \"Horsepower\": 70}, {\"Weight\": 2020, \"Horsepower\": 65}, {\"Weight\": 2130, \"Horsepower\": 69}, {\"Weight\": 2670, \"Horsepower\": 90}, {\"Weight\": 2595, \"Horsepower\": 115}, {\"Weight\": 2700, \"Horsepower\": 115}, {\"Weight\": 2556, \"Horsepower\": 90}, {\"Weight\": 2144, \"Horsepower\": 76}, {\"Weight\": 1968, \"Horsepower\": 60}, {\"Weight\": 2120, \"Horsepower\": 70}, {\"Weight\": 2019, \"Horsepower\": 65}, {\"Weight\": 2678, \"Horsepower\": 90}, {\"Weight\": 2870, \"Horsepower\": 88}, {\"Weight\": 3003, \"Horsepower\": 90}, {\"Weight\": 3381, \"Horsepower\": 90}, {\"Weight\": 2188, \"Horsepower\": 78}, {\"Weight\": 2711, \"Horsepower\": 90}, {\"Weight\": 2542, \"Horsepower\": 75}, {\"Weight\": 2434, \"Horsepower\": 92}, {\"Weight\": 2265, \"Horsepower\": 75}, {\"Weight\": 2110, \"Horsepower\": 65}, {\"Weight\": 2800, \"Horsepower\": 105}, {\"Weight\": 2110, \"Horsepower\": 65}, {\"Weight\": 2085, \"Horsepower\": 48}, {\"Weight\": 2335, \"Horsepower\": 48}, {\"Weight\": 2950, \"Horsepower\": 67}, {\"Weight\": 3250, \"Horsepower\": 67}, {\"Weight\": 1850, \"Horsepower\": 67}, {\"Weight\": 2145, \"Horsepower\": 67}, {\"Weight\": 1845, \"Horsepower\": 62}, {\"Weight\": 2910, \"Horsepower\": 132}, {\"Weight\": 2420, \"Horsepower\": 100}, {\"Weight\": 2500, \"Horsepower\": 88}, {\"Weight\": 2290, \"Horsepower\": 72}, {\"Weight\": 2490, \"Horsepower\": 84}, {\"Weight\": 2635, \"Horsepower\": 84}, {\"Weight\": 2620, \"Horsepower\": 92}, {\"Weight\": 2725, \"Horsepower\": 110}, {\"Weight\": 2385, \"Horsepower\": 84}, {\"Weight\": 1755, \"Horsepower\": 58}, {\"Weight\": 1875, \"Horsepower\": 64}, {\"Weight\": 1760, \"Horsepower\": 60}, {\"Weight\": 2065, \"Horsepower\": 67}, {\"Weight\": 1975, \"Horsepower\": 65}, {\"Weight\": 2050, \"Horsepower\": 62}, {\"Weight\": 1985, \"Horsepower\": 68}, {\"Weight\": 2215, \"Horsepower\": 63}, {\"Weight\": 2045, \"Horsepower\": 65}, {\"Weight\": 2380, \"Horsepower\": 65}, {\"Weight\": 2190, \"Horsepower\": 74}, {\"Weight\": 2210, \"Horsepower\": 75}, {\"Weight\": 2350, \"Horsepower\": 75}, {\"Weight\": 2615, \"Horsepower\": 100}, {\"Weight\": 2635, \"Horsepower\": 74}, {\"Weight\": 3230, \"Horsepower\": 80}, {\"Weight\": 3160, \"Horsepower\": 76}, {\"Weight\": 2900, \"Horsepower\": 116}, {\"Weight\": 2930, \"Horsepower\": 120}, {\"Weight\": 3415, \"Horsepower\": 110}, {\"Weight\": 3725, \"Horsepower\": 105}, {\"Weight\": 3060, \"Horsepower\": 88}, {\"Weight\": 3465, \"Horsepower\": 85}, {\"Weight\": 2605, \"Horsepower\": 88}, {\"Weight\": 2640, \"Horsepower\": 88}, {\"Weight\": 2395, \"Horsepower\": 88}, {\"Weight\": 2575, \"Horsepower\": 85}, {\"Weight\": 2525, \"Horsepower\": 84}, {\"Weight\": 2735, \"Horsepower\": 90}, {\"Weight\": 2865, \"Horsepower\": 92}, {\"Weight\": 1980, \"Horsepower\": 74}, {\"Weight\": 2025, \"Horsepower\": 68}, {\"Weight\": 1970, \"Horsepower\": 68}, {\"Weight\": 2125, \"Horsepower\": 63}, {\"Weight\": 2125, \"Horsepower\": 70}, {\"Weight\": 2160, \"Horsepower\": 88}, {\"Weight\": 2205, \"Horsepower\": 75}, {\"Weight\": 2245, \"Horsepower\": 70}, {\"Weight\": 1965, \"Horsepower\": 67}, {\"Weight\": 1965, \"Horsepower\": 67}, {\"Weight\": 1995, \"Horsepower\": 67}, {\"Weight\": 2945, \"Horsepower\": 110}, {\"Weight\": 3015, \"Horsepower\": 85}, {\"Weight\": 2585, \"Horsepower\": 92}, {\"Weight\": 2835, \"Horsepower\": 112}, {\"Weight\": 2665, \"Horsepower\": 96}, {\"Weight\": 2370, \"Horsepower\": 84}, {\"Weight\": 2950, \"Horsepower\": 90}, {\"Weight\": 2790, \"Horsepower\": 86}, {\"Weight\": 2130, \"Horsepower\": 52}, {\"Weight\": 2295, \"Horsepower\": 84}, {\"Weight\": 2625, \"Horsepower\": 79}, {\"Weight\": 2720, \"Horsepower\": 82}]}, \"vislib\": \"vegalite\"}, {\"config\": {\"view\": {\"continuousWidth\": 400, \"continuousHeight\": 300}, \"axis\": {\"labelColor\": \"#505050\", \"labelFont\": \"Helvetica Neue\", \"labelFontSize\": 9, \"labelFontWeight\": 400, \"titleFont\": \"Helvetica Neue\", \"titleFontSize\": 11, \"titleFontWeight\": 500}, \"legend\": {\"labelFont\": \"Helvetica Neue\", \"labelFontSize\": 9, \"labelFontWeight\": 400, \"titleFont\": \"Helvetica Neue\", \"titleFontSize\": 10, \"titleFontWeight\": 500}, \"mark\": {\"tooltip\": {\"content\": \"encoding\"}}, \"title\": {\"font\": \"Helvetica Neue\", \"fontSize\": 13, \"fontWeight\": 500}}, \"data\": {\"name\": \"data-2fd01560ff440e6aa7adec86663c4581\"}, \"mark\": \"circle\", \"encoding\": {\"x\": {\"type\": \"quantitative\", \"axis\": {\"title\": \"Weight\"}, \"field\": \"Weight\", \"scale\": {\"domain\": [1613.0, 5140.0]}}, \"y\": {\"type\": \"quantitative\", \"axis\": {\"title\": \"MilesPerGal\"}, \"field\": \"MilesPerGal\", \"scale\": {\"domain\": [9.0, 46.6]}}}, \"height\": 300.0, \"selection\": {\"selector004\": {\"type\": \"interval\", \"bind\": \"scales\", \"encodings\": [\"x\", \"y\"]}}, \"width\": 320.0, \"$schema\": \"https://vega.github.io/schema/vega-lite/v4.8.1.json\", \"datasets\": {\"data-2fd01560ff440e6aa7adec86663c4581\": [{\"MilesPerGal\": 18.0, \"Weight\": 3504}, {\"MilesPerGal\": 15.0, \"Weight\": 3693}, {\"MilesPerGal\": 18.0, \"Weight\": 3436}, {\"MilesPerGal\": 16.0, \"Weight\": 3433}, {\"MilesPerGal\": 17.0, \"Weight\": 3449}, {\"MilesPerGal\": 15.0, \"Weight\": 4341}, {\"MilesPerGal\": 14.0, \"Weight\": 4354}, {\"MilesPerGal\": 14.0, \"Weight\": 4312}, {\"MilesPerGal\": 14.0, \"Weight\": 4425}, {\"MilesPerGal\": 15.0, \"Weight\": 3850}, {\"MilesPerGal\": 15.0, \"Weight\": 3563}, {\"MilesPerGal\": 14.0, \"Weight\": 3609}, {\"MilesPerGal\": 15.0, \"Weight\": 3761}, {\"MilesPerGal\": 14.0, \"Weight\": 3086}, {\"MilesPerGal\": 24.0, \"Weight\": 2372}, {\"MilesPerGal\": 22.0, \"Weight\": 2833}, {\"MilesPerGal\": 18.0, \"Weight\": 2774}, {\"MilesPerGal\": 21.0, \"Weight\": 2587}, {\"MilesPerGal\": 27.0, \"Weight\": 2130}, {\"MilesPerGal\": 26.0, \"Weight\": 1835}, {\"MilesPerGal\": 25.0, \"Weight\": 2672}, {\"MilesPerGal\": 24.0, \"Weight\": 2430}, {\"MilesPerGal\": 25.0, \"Weight\": 2375}, {\"MilesPerGal\": 26.0, \"Weight\": 2234}, {\"MilesPerGal\": 21.0, \"Weight\": 2648}, {\"MilesPerGal\": 10.0, \"Weight\": 4615}, {\"MilesPerGal\": 10.0, \"Weight\": 4376}, {\"MilesPerGal\": 11.0, \"Weight\": 4382}, {\"MilesPerGal\": 9.0, \"Weight\": 4732}, {\"MilesPerGal\": 27.0, \"Weight\": 2130}, {\"MilesPerGal\": 28.0, \"Weight\": 2264}, {\"MilesPerGal\": 25.0, \"Weight\": 2228}, {\"MilesPerGal\": 19.0, \"Weight\": 2634}, {\"MilesPerGal\": 16.0, \"Weight\": 3439}, {\"MilesPerGal\": 17.0, \"Weight\": 3329}, {\"MilesPerGal\": 19.0, \"Weight\": 3302}, {\"MilesPerGal\": 18.0, \"Weight\": 3288}, {\"MilesPerGal\": 14.0, \"Weight\": 4209}, {\"MilesPerGal\": 14.0, \"Weight\": 4464}, {\"MilesPerGal\": 14.0, \"Weight\": 4154}, {\"MilesPerGal\": 14.0, \"Weight\": 4096}, {\"MilesPerGal\": 12.0, \"Weight\": 4955}, {\"MilesPerGal\": 13.0, \"Weight\": 4746}, {\"MilesPerGal\": 13.0, \"Weight\": 5140}, {\"MilesPerGal\": 18.0, \"Weight\": 2962}, {\"MilesPerGal\": 22.0, \"Weight\": 2408}, {\"MilesPerGal\": 19.0, \"Weight\": 3282}, {\"MilesPerGal\": 18.0, \"Weight\": 3139}, {\"MilesPerGal\": 23.0, \"Weight\": 2220}, {\"MilesPerGal\": 28.0, \"Weight\": 2123}, {\"MilesPerGal\": 30.0, \"Weight\": 2074}, {\"MilesPerGal\": 30.0, \"Weight\": 2065}, {\"MilesPerGal\": 31.0, \"Weight\": 1773}, {\"MilesPerGal\": 35.0, \"Weight\": 1613}, {\"MilesPerGal\": 27.0, \"Weight\": 1834}, {\"MilesPerGal\": 26.0, \"Weight\": 1955}, {\"MilesPerGal\": 24.0, \"Weight\": 2278}, {\"MilesPerGal\": 25.0, \"Weight\": 2126}, {\"MilesPerGal\": 23.0, \"Weight\": 2254}, {\"MilesPerGal\": 20.0, \"Weight\": 2408}, {\"MilesPerGal\": 21.0, \"Weight\": 2226}, {\"MilesPerGal\": 13.0, \"Weight\": 4274}, {\"MilesPerGal\": 14.0, \"Weight\": 4385}, {\"MilesPerGal\": 15.0, \"Weight\": 4135}, {\"MilesPerGal\": 14.0, \"Weight\": 4129}, {\"MilesPerGal\": 17.0, \"Weight\": 3672}, {\"MilesPerGal\": 11.0, \"Weight\": 4633}, {\"MilesPerGal\": 13.0, \"Weight\": 4502}, {\"MilesPerGal\": 12.0, \"Weight\": 4456}, {\"MilesPerGal\": 13.0, \"Weight\": 4422}, {\"MilesPerGal\": 19.0, \"Weight\": 2330}, {\"MilesPerGal\": 15.0, \"Weight\": 3892}, {\"MilesPerGal\": 13.0, \"Weight\": 4098}, {\"MilesPerGal\": 13.0, \"Weight\": 4294}, {\"MilesPerGal\": 14.0, \"Weight\": 4077}, {\"MilesPerGal\": 18.0, \"Weight\": 2933}, {\"MilesPerGal\": 22.0, \"Weight\": 2511}, {\"MilesPerGal\": 21.0, \"Weight\": 2979}, {\"MilesPerGal\": 26.0, \"Weight\": 2189}, {\"MilesPerGal\": 22.0, \"Weight\": 2395}, {\"MilesPerGal\": 28.0, \"Weight\": 2288}, {\"MilesPerGal\": 23.0, \"Weight\": 2506}, {\"MilesPerGal\": 28.0, \"Weight\": 2164}, {\"MilesPerGal\": 27.0, \"Weight\": 2100}, {\"MilesPerGal\": 13.0, \"Weight\": 4100}, {\"MilesPerGal\": 14.0, \"Weight\": 3672}, {\"MilesPerGal\": 13.0, \"Weight\": 3988}, {\"MilesPerGal\": 14.0, \"Weight\": 4042}, {\"MilesPerGal\": 15.0, \"Weight\": 3777}, {\"MilesPerGal\": 12.0, \"Weight\": 4952}, {\"MilesPerGal\": 13.0, \"Weight\": 4464}, {\"MilesPerGal\": 13.0, \"Weight\": 4363}, {\"MilesPerGal\": 14.0, \"Weight\": 4237}, {\"MilesPerGal\": 13.0, \"Weight\": 4735}, {\"MilesPerGal\": 12.0, \"Weight\": 4951}, {\"MilesPerGal\": 13.0, \"Weight\": 3821}, {\"MilesPerGal\": 18.0, \"Weight\": 3121}, {\"MilesPerGal\": 16.0, \"Weight\": 3278}, {\"MilesPerGal\": 18.0, \"Weight\": 2945}, {\"MilesPerGal\": 18.0, \"Weight\": 3021}, {\"MilesPerGal\": 23.0, \"Weight\": 2904}, {\"MilesPerGal\": 26.0, \"Weight\": 1950}, {\"MilesPerGal\": 11.0, \"Weight\": 4997}, {\"MilesPerGal\": 12.0, \"Weight\": 4906}, {\"MilesPerGal\": 13.0, \"Weight\": 4654}, {\"MilesPerGal\": 12.0, \"Weight\": 4499}, {\"MilesPerGal\": 18.0, \"Weight\": 2789}, {\"MilesPerGal\": 20.0, \"Weight\": 2279}, {\"MilesPerGal\": 21.0, \"Weight\": 2401}, {\"MilesPerGal\": 22.0, \"Weight\": 2379}, {\"MilesPerGal\": 18.0, \"Weight\": 2124}, {\"MilesPerGal\": 19.0, \"Weight\": 2310}, {\"MilesPerGal\": 21.0, \"Weight\": 2472}, {\"MilesPerGal\": 26.0, \"Weight\": 2265}, {\"MilesPerGal\": 15.0, \"Weight\": 4082}, {\"MilesPerGal\": 16.0, \"Weight\": 4278}, {\"MilesPerGal\": 29.0, \"Weight\": 1867}, {\"MilesPerGal\": 24.0, \"Weight\": 2158}, {\"MilesPerGal\": 20.0, \"Weight\": 2582}, {\"MilesPerGal\": 19.0, \"Weight\": 2868}, {\"MilesPerGal\": 15.0, \"Weight\": 3399}, {\"MilesPerGal\": 24.0, \"Weight\": 2660}, {\"MilesPerGal\": 20.0, \"Weight\": 2807}, {\"MilesPerGal\": 11.0, \"Weight\": 3664}, {\"MilesPerGal\": 20.0, \"Weight\": 3102}, {\"MilesPerGal\": 19.0, \"Weight\": 2901}, {\"MilesPerGal\": 15.0, \"Weight\": 3336}, {\"MilesPerGal\": 31.0, \"Weight\": 1950}, {\"MilesPerGal\": 26.0, \"Weight\": 2451}, {\"MilesPerGal\": 32.0, \"Weight\": 1836}, {\"MilesPerGal\": 25.0, \"Weight\": 2542}, {\"MilesPerGal\": 16.0, \"Weight\": 3781}, {\"MilesPerGal\": 16.0, \"Weight\": 3632}, {\"MilesPerGal\": 18.0, \"Weight\": 3613}, {\"MilesPerGal\": 16.0, \"Weight\": 4141}, {\"MilesPerGal\": 13.0, \"Weight\": 4699}, {\"MilesPerGal\": 14.0, \"Weight\": 4457}, {\"MilesPerGal\": 14.0, \"Weight\": 4638}, {\"MilesPerGal\": 14.0, \"Weight\": 4257}, {\"MilesPerGal\": 29.0, \"Weight\": 2219}, {\"MilesPerGal\": 26.0, \"Weight\": 1963}, {\"MilesPerGal\": 26.0, \"Weight\": 2300}, {\"MilesPerGal\": 31.0, \"Weight\": 1649}, {\"MilesPerGal\": 32.0, \"Weight\": 2003}, {\"MilesPerGal\": 28.0, \"Weight\": 2125}, {\"MilesPerGal\": 24.0, \"Weight\": 2108}, {\"MilesPerGal\": 26.0, \"Weight\": 2246}, {\"MilesPerGal\": 24.0, \"Weight\": 2489}, {\"MilesPerGal\": 26.0, \"Weight\": 2391}, {\"MilesPerGal\": 31.0, \"Weight\": 2000}, {\"MilesPerGal\": 19.0, \"Weight\": 3264}, {\"MilesPerGal\": 18.0, \"Weight\": 3459}, {\"MilesPerGal\": 15.0, \"Weight\": 3432}, {\"MilesPerGal\": 15.0, \"Weight\": 3158}, {\"MilesPerGal\": 16.0, \"Weight\": 4668}, {\"MilesPerGal\": 15.0, \"Weight\": 4440}, {\"MilesPerGal\": 16.0, \"Weight\": 4498}, {\"MilesPerGal\": 14.0, \"Weight\": 4657}, {\"MilesPerGal\": 17.0, \"Weight\": 3907}, {\"MilesPerGal\": 16.0, \"Weight\": 3897}, {\"MilesPerGal\": 15.0, \"Weight\": 3730}, {\"MilesPerGal\": 18.0, \"Weight\": 3785}, {\"MilesPerGal\": 21.0, \"Weight\": 3039}, {\"MilesPerGal\": 20.0, \"Weight\": 3221}, {\"MilesPerGal\": 13.0, \"Weight\": 3169}, {\"MilesPerGal\": 29.0, \"Weight\": 2171}, {\"MilesPerGal\": 23.0, \"Weight\": 2639}, {\"MilesPerGal\": 20.0, \"Weight\": 2914}, {\"MilesPerGal\": 23.0, \"Weight\": 2592}, {\"MilesPerGal\": 24.0, \"Weight\": 2702}, {\"MilesPerGal\": 25.0, \"Weight\": 2223}, {\"MilesPerGal\": 24.0, \"Weight\": 2545}, {\"MilesPerGal\": 18.0, \"Weight\": 2984}, {\"MilesPerGal\": 29.0, \"Weight\": 1937}, {\"MilesPerGal\": 19.0, \"Weight\": 3211}, {\"MilesPerGal\": 23.0, \"Weight\": 2694}, {\"MilesPerGal\": 23.0, \"Weight\": 2957}, {\"MilesPerGal\": 22.0, \"Weight\": 2945}, {\"MilesPerGal\": 25.0, \"Weight\": 2671}, {\"MilesPerGal\": 33.0, \"Weight\": 1795}, {\"MilesPerGal\": 28.0, \"Weight\": 2464}, {\"MilesPerGal\": 25.0, \"Weight\": 2220}, {\"MilesPerGal\": 25.0, \"Weight\": 2572}, {\"MilesPerGal\": 26.0, \"Weight\": 2255}, {\"MilesPerGal\": 27.0, \"Weight\": 2202}, {\"MilesPerGal\": 17.5, \"Weight\": 4215}, {\"MilesPerGal\": 16.0, \"Weight\": 4190}, {\"MilesPerGal\": 15.5, \"Weight\": 3962}, {\"MilesPerGal\": 14.5, \"Weight\": 4215}, {\"MilesPerGal\": 22.0, \"Weight\": 3233}, {\"MilesPerGal\": 22.0, \"Weight\": 3353}, {\"MilesPerGal\": 24.0, \"Weight\": 3012}, {\"MilesPerGal\": 22.5, \"Weight\": 3085}, {\"MilesPerGal\": 29.0, \"Weight\": 2035}, {\"MilesPerGal\": 24.5, \"Weight\": 2164}, {\"MilesPerGal\": 29.0, \"Weight\": 1937}, {\"MilesPerGal\": 33.0, \"Weight\": 1795}, {\"MilesPerGal\": 20.0, \"Weight\": 3651}, {\"MilesPerGal\": 18.0, \"Weight\": 3574}, {\"MilesPerGal\": 18.5, \"Weight\": 3645}, {\"MilesPerGal\": 17.5, \"Weight\": 3193}, {\"MilesPerGal\": 29.5, \"Weight\": 1825}, {\"MilesPerGal\": 32.0, \"Weight\": 1990}, {\"MilesPerGal\": 28.0, \"Weight\": 2155}, {\"MilesPerGal\": 26.5, \"Weight\": 2565}, {\"MilesPerGal\": 20.0, \"Weight\": 3150}, {\"MilesPerGal\": 13.0, \"Weight\": 3940}, {\"MilesPerGal\": 19.0, \"Weight\": 3270}, {\"MilesPerGal\": 19.0, \"Weight\": 2930}, {\"MilesPerGal\": 16.5, \"Weight\": 3820}, {\"MilesPerGal\": 16.5, \"Weight\": 4380}, {\"MilesPerGal\": 13.0, \"Weight\": 4055}, {\"MilesPerGal\": 13.0, \"Weight\": 3870}, {\"MilesPerGal\": 13.0, \"Weight\": 3755}, {\"MilesPerGal\": 31.5, \"Weight\": 2045}, {\"MilesPerGal\": 30.0, \"Weight\": 2155}, {\"MilesPerGal\": 36.0, \"Weight\": 1825}, {\"MilesPerGal\": 25.5, \"Weight\": 2300}, {\"MilesPerGal\": 33.5, \"Weight\": 1945}, {\"MilesPerGal\": 17.5, \"Weight\": 3880}, {\"MilesPerGal\": 17.0, \"Weight\": 4060}, {\"MilesPerGal\": 15.5, \"Weight\": 4140}, {\"MilesPerGal\": 15.0, \"Weight\": 4295}, {\"MilesPerGal\": 17.5, \"Weight\": 3520}, {\"MilesPerGal\": 20.5, \"Weight\": 3425}, {\"MilesPerGal\": 19.0, \"Weight\": 3630}, {\"MilesPerGal\": 18.5, \"Weight\": 3525}, {\"MilesPerGal\": 16.0, \"Weight\": 4220}, {\"MilesPerGal\": 15.5, \"Weight\": 4165}, {\"MilesPerGal\": 15.5, \"Weight\": 4325}, {\"MilesPerGal\": 16.0, \"Weight\": 4335}, {\"MilesPerGal\": 29.0, \"Weight\": 1940}, {\"MilesPerGal\": 24.5, \"Weight\": 2740}, {\"MilesPerGal\": 26.0, \"Weight\": 2265}, {\"MilesPerGal\": 25.5, \"Weight\": 2755}, {\"MilesPerGal\": 30.5, \"Weight\": 2051}, {\"MilesPerGal\": 33.5, \"Weight\": 2075}, {\"MilesPerGal\": 30.0, \"Weight\": 1985}, {\"MilesPerGal\": 30.5, \"Weight\": 2190}, {\"MilesPerGal\": 22.0, \"Weight\": 2815}, {\"MilesPerGal\": 21.5, \"Weight\": 2600}, {\"MilesPerGal\": 21.5, \"Weight\": 2720}, {\"MilesPerGal\": 43.1, \"Weight\": 1985}, {\"MilesPerGal\": 36.1, \"Weight\": 1800}, {\"MilesPerGal\": 32.8, \"Weight\": 1985}, {\"MilesPerGal\": 39.4, \"Weight\": 2070}, {\"MilesPerGal\": 36.1, \"Weight\": 1800}, {\"MilesPerGal\": 19.9, \"Weight\": 3365}, {\"MilesPerGal\": 19.4, \"Weight\": 3735}, {\"MilesPerGal\": 20.2, \"Weight\": 3570}, {\"MilesPerGal\": 19.2, \"Weight\": 3535}, {\"MilesPerGal\": 20.5, \"Weight\": 3155}, {\"MilesPerGal\": 20.2, \"Weight\": 2965}, {\"MilesPerGal\": 25.1, \"Weight\": 2720}, {\"MilesPerGal\": 20.5, \"Weight\": 3430}, {\"MilesPerGal\": 19.4, \"Weight\": 3210}, {\"MilesPerGal\": 20.6, \"Weight\": 3380}, {\"MilesPerGal\": 20.8, \"Weight\": 3070}, {\"MilesPerGal\": 18.6, \"Weight\": 3620}, {\"MilesPerGal\": 18.1, \"Weight\": 3410}, {\"MilesPerGal\": 19.2, \"Weight\": 3425}, {\"MilesPerGal\": 17.7, \"Weight\": 3445}, {\"MilesPerGal\": 18.1, \"Weight\": 3205}, {\"MilesPerGal\": 17.5, \"Weight\": 4080}, {\"MilesPerGal\": 30.0, \"Weight\": 2155}, {\"MilesPerGal\": 27.5, \"Weight\": 2560}, {\"MilesPerGal\": 27.2, \"Weight\": 2300}, {\"MilesPerGal\": 30.9, \"Weight\": 2230}, {\"MilesPerGal\": 21.1, \"Weight\": 2515}, {\"MilesPerGal\": 23.2, \"Weight\": 2745}, {\"MilesPerGal\": 23.8, \"Weight\": 2855}, {\"MilesPerGal\": 23.9, \"Weight\": 2405}, {\"MilesPerGal\": 20.3, \"Weight\": 2830}, {\"MilesPerGal\": 17.0, \"Weight\": 3140}, {\"MilesPerGal\": 21.6, \"Weight\": 2795}, {\"MilesPerGal\": 16.2, \"Weight\": 3410}, {\"MilesPerGal\": 31.5, \"Weight\": 1990}, {\"MilesPerGal\": 29.5, \"Weight\": 2135}, {\"MilesPerGal\": 21.5, \"Weight\": 3245}, {\"MilesPerGal\": 19.8, \"Weight\": 2990}, {\"MilesPerGal\": 22.3, \"Weight\": 2890}, {\"MilesPerGal\": 20.2, \"Weight\": 3265}, {\"MilesPerGal\": 20.6, \"Weight\": 3360}, {\"MilesPerGal\": 17.0, \"Weight\": 3840}, {\"MilesPerGal\": 17.6, \"Weight\": 3725}, {\"MilesPerGal\": 16.5, \"Weight\": 3955}, {\"MilesPerGal\": 18.2, \"Weight\": 3830}, {\"MilesPerGal\": 16.9, \"Weight\": 4360}, {\"MilesPerGal\": 15.5, \"Weight\": 4054}, {\"MilesPerGal\": 19.2, \"Weight\": 3605}, {\"MilesPerGal\": 18.5, \"Weight\": 3940}, {\"MilesPerGal\": 31.9, \"Weight\": 1925}, {\"MilesPerGal\": 34.1, \"Weight\": 1975}, {\"MilesPerGal\": 35.7, \"Weight\": 1915}, {\"MilesPerGal\": 27.4, \"Weight\": 2670}, {\"MilesPerGal\": 25.4, \"Weight\": 3530}, {\"MilesPerGal\": 23.0, \"Weight\": 3900}, {\"MilesPerGal\": 27.2, \"Weight\": 3190}, {\"MilesPerGal\": 23.9, \"Weight\": 3420}, {\"MilesPerGal\": 34.2, \"Weight\": 2200}, {\"MilesPerGal\": 34.5, \"Weight\": 2150}, {\"MilesPerGal\": 31.8, \"Weight\": 2020}, {\"MilesPerGal\": 37.3, \"Weight\": 2130}, {\"MilesPerGal\": 28.4, \"Weight\": 2670}, {\"MilesPerGal\": 28.8, \"Weight\": 2595}, {\"MilesPerGal\": 26.8, \"Weight\": 2700}, {\"MilesPerGal\": 33.5, \"Weight\": 2556}, {\"MilesPerGal\": 41.5, \"Weight\": 2144}, {\"MilesPerGal\": 38.1, \"Weight\": 1968}, {\"MilesPerGal\": 32.1, \"Weight\": 2120}, {\"MilesPerGal\": 37.2, \"Weight\": 2019}, {\"MilesPerGal\": 28.0, \"Weight\": 2678}, {\"MilesPerGal\": 26.4, \"Weight\": 2870}, {\"MilesPerGal\": 24.3, \"Weight\": 3003}, {\"MilesPerGal\": 19.1, \"Weight\": 3381}, {\"MilesPerGal\": 34.3, \"Weight\": 2188}, {\"MilesPerGal\": 29.8, \"Weight\": 2711}, {\"MilesPerGal\": 31.3, \"Weight\": 2542}, {\"MilesPerGal\": 37.0, \"Weight\": 2434}, {\"MilesPerGal\": 32.2, \"Weight\": 2265}, {\"MilesPerGal\": 46.6, \"Weight\": 2110}, {\"MilesPerGal\": 27.9, \"Weight\": 2800}, {\"MilesPerGal\": 40.8, \"Weight\": 2110}, {\"MilesPerGal\": 44.3, \"Weight\": 2085}, {\"MilesPerGal\": 43.4, \"Weight\": 2335}, {\"MilesPerGal\": 36.4, \"Weight\": 2950}, {\"MilesPerGal\": 30.0, \"Weight\": 3250}, {\"MilesPerGal\": 44.6, \"Weight\": 1850}, {\"MilesPerGal\": 33.8, \"Weight\": 2145}, {\"MilesPerGal\": 29.8, \"Weight\": 1845}, {\"MilesPerGal\": 32.7, \"Weight\": 2910}, {\"MilesPerGal\": 23.7, \"Weight\": 2420}, {\"MilesPerGal\": 35.0, \"Weight\": 2500}, {\"MilesPerGal\": 32.4, \"Weight\": 2290}, {\"MilesPerGal\": 27.2, \"Weight\": 2490}, {\"MilesPerGal\": 26.6, \"Weight\": 2635}, {\"MilesPerGal\": 25.8, \"Weight\": 2620}, {\"MilesPerGal\": 23.5, \"Weight\": 2725}, {\"MilesPerGal\": 30.0, \"Weight\": 2385}, {\"MilesPerGal\": 39.1, \"Weight\": 1755}, {\"MilesPerGal\": 39.0, \"Weight\": 1875}, {\"MilesPerGal\": 35.1, \"Weight\": 1760}, {\"MilesPerGal\": 32.3, \"Weight\": 2065}, {\"MilesPerGal\": 37.0, \"Weight\": 1975}, {\"MilesPerGal\": 37.7, \"Weight\": 2050}, {\"MilesPerGal\": 34.1, \"Weight\": 1985}, {\"MilesPerGal\": 34.7, \"Weight\": 2215}, {\"MilesPerGal\": 34.4, \"Weight\": 2045}, {\"MilesPerGal\": 29.9, \"Weight\": 2380}, {\"MilesPerGal\": 33.0, \"Weight\": 2190}, {\"MilesPerGal\": 33.7, \"Weight\": 2210}, {\"MilesPerGal\": 32.4, \"Weight\": 2350}, {\"MilesPerGal\": 32.9, \"Weight\": 2615}, {\"MilesPerGal\": 31.6, \"Weight\": 2635}, {\"MilesPerGal\": 28.1, \"Weight\": 3230}, {\"MilesPerGal\": 30.7, \"Weight\": 3160}, {\"MilesPerGal\": 25.4, \"Weight\": 2900}, {\"MilesPerGal\": 24.2, \"Weight\": 2930}, {\"MilesPerGal\": 22.4, \"Weight\": 3415}, {\"MilesPerGal\": 26.6, \"Weight\": 3725}, {\"MilesPerGal\": 20.2, \"Weight\": 3060}, {\"MilesPerGal\": 17.6, \"Weight\": 3465}, {\"MilesPerGal\": 28.0, \"Weight\": 2605}, {\"MilesPerGal\": 27.0, \"Weight\": 2640}, {\"MilesPerGal\": 34.0, \"Weight\": 2395}, {\"MilesPerGal\": 31.0, \"Weight\": 2575}, {\"MilesPerGal\": 29.0, \"Weight\": 2525}, {\"MilesPerGal\": 27.0, \"Weight\": 2735}, {\"MilesPerGal\": 24.0, \"Weight\": 2865}, {\"MilesPerGal\": 36.0, \"Weight\": 1980}, {\"MilesPerGal\": 37.0, \"Weight\": 2025}, {\"MilesPerGal\": 31.0, \"Weight\": 1970}, {\"MilesPerGal\": 38.0, \"Weight\": 2125}, {\"MilesPerGal\": 36.0, \"Weight\": 2125}, {\"MilesPerGal\": 36.0, \"Weight\": 2160}, {\"MilesPerGal\": 36.0, \"Weight\": 2205}, {\"MilesPerGal\": 34.0, \"Weight\": 2245}, {\"MilesPerGal\": 38.0, \"Weight\": 1965}, {\"MilesPerGal\": 32.0, \"Weight\": 1965}, {\"MilesPerGal\": 38.0, \"Weight\": 1995}, {\"MilesPerGal\": 25.0, \"Weight\": 2945}, {\"MilesPerGal\": 38.0, \"Weight\": 3015}, {\"MilesPerGal\": 26.0, \"Weight\": 2585}, {\"MilesPerGal\": 22.0, \"Weight\": 2835}, {\"MilesPerGal\": 32.0, \"Weight\": 2665}, {\"MilesPerGal\": 36.0, \"Weight\": 2370}, {\"MilesPerGal\": 27.0, \"Weight\": 2950}, {\"MilesPerGal\": 27.0, \"Weight\": 2790}, {\"MilesPerGal\": 44.0, \"Weight\": 2130}, {\"MilesPerGal\": 32.0, \"Weight\": 2295}, {\"MilesPerGal\": 28.0, \"Weight\": 2625}, {\"MilesPerGal\": 31.0, \"Weight\": 2720}]}, \"vislib\": \"vegalite\"}, {\"config\": {\"view\": {\"continuousWidth\": 400, \"continuousHeight\": 300}, \"axis\": {\"labelColor\": \"#505050\", \"labelFont\": \"Helvetica Neue\", \"labelFontSize\": 9, \"labelFontWeight\": 400, \"titleFont\": \"Helvetica Neue\", \"titleFontSize\": 11, \"titleFontWeight\": 500}, \"legend\": {\"labelFont\": \"Helvetica Neue\", \"labelFontSize\": 9, \"labelFontWeight\": 400, \"titleFont\": \"Helvetica Neue\", \"titleFontSize\": 10, \"titleFontWeight\": 500}, \"mark\": {\"tooltip\": {\"content\": \"encoding\"}}, \"title\": {\"font\": \"Helvetica Neue\", \"fontSize\": 13, \"fontWeight\": 500}}, \"data\": {\"name\": \"data-4af0f40b4126871fd462ab76b2170aad\"}, \"mark\": \"circle\", \"encoding\": {\"x\": {\"type\": \"quantitative\", \"axis\": {\"title\": \"Displacement\"}, \"field\": \"Displacement\", \"scale\": {\"domain\": [68.0, 455.0]}}, \"y\": {\"type\": \"quantitative\", \"axis\": {\"title\": \"MilesPerGal\"}, \"field\": \"MilesPerGal\", \"scale\": {\"domain\": [9.0, 46.6]}}}, \"height\": 300.0, \"selection\": {\"selector005\": {\"type\": \"interval\", \"bind\": \"scales\", \"encodings\": [\"x\", \"y\"]}}, \"width\": 320.0, \"$schema\": \"https://vega.github.io/schema/vega-lite/v4.8.1.json\", \"datasets\": {\"data-4af0f40b4126871fd462ab76b2170aad\": [{\"MilesPerGal\": 18.0, \"Displacement\": 307.0}, {\"MilesPerGal\": 15.0, \"Displacement\": 350.0}, {\"MilesPerGal\": 18.0, \"Displacement\": 318.0}, {\"MilesPerGal\": 16.0, \"Displacement\": 304.0}, {\"MilesPerGal\": 17.0, \"Displacement\": 302.0}, {\"MilesPerGal\": 15.0, \"Displacement\": 429.0}, {\"MilesPerGal\": 14.0, \"Displacement\": 454.0}, {\"MilesPerGal\": 14.0, \"Displacement\": 440.0}, {\"MilesPerGal\": 14.0, \"Displacement\": 455.0}, {\"MilesPerGal\": 15.0, \"Displacement\": 390.0}, {\"MilesPerGal\": 15.0, \"Displacement\": 383.0}, {\"MilesPerGal\": 14.0, \"Displacement\": 340.0}, {\"MilesPerGal\": 15.0, \"Displacement\": 400.0}, {\"MilesPerGal\": 14.0, \"Displacement\": 455.0}, {\"MilesPerGal\": 24.0, \"Displacement\": 113.0}, {\"MilesPerGal\": 22.0, \"Displacement\": 198.0}, {\"MilesPerGal\": 18.0, \"Displacement\": 199.0}, {\"MilesPerGal\": 21.0, \"Displacement\": 200.0}, {\"MilesPerGal\": 27.0, \"Displacement\": 97.0}, {\"MilesPerGal\": 26.0, \"Displacement\": 97.0}, {\"MilesPerGal\": 25.0, \"Displacement\": 110.0}, {\"MilesPerGal\": 24.0, \"Displacement\": 107.0}, {\"MilesPerGal\": 25.0, \"Displacement\": 104.0}, {\"MilesPerGal\": 26.0, \"Displacement\": 121.0}, {\"MilesPerGal\": 21.0, \"Displacement\": 199.0}, {\"MilesPerGal\": 10.0, \"Displacement\": 360.0}, {\"MilesPerGal\": 10.0, \"Displacement\": 307.0}, {\"MilesPerGal\": 11.0, \"Displacement\": 318.0}, {\"MilesPerGal\": 9.0, \"Displacement\": 304.0}, {\"MilesPerGal\": 27.0, \"Displacement\": 97.0}, {\"MilesPerGal\": 28.0, \"Displacement\": 140.0}, {\"MilesPerGal\": 25.0, \"Displacement\": 113.0}, {\"MilesPerGal\": 19.0, \"Displacement\": 232.0}, {\"MilesPerGal\": 16.0, \"Displacement\": 225.0}, {\"MilesPerGal\": 17.0, \"Displacement\": 250.0}, {\"MilesPerGal\": 19.0, \"Displacement\": 250.0}, {\"MilesPerGal\": 18.0, \"Displacement\": 232.0}, {\"MilesPerGal\": 14.0, \"Displacement\": 350.0}, {\"MilesPerGal\": 14.0, \"Displacement\": 400.0}, {\"MilesPerGal\": 14.0, \"Displacement\": 351.0}, {\"MilesPerGal\": 14.0, \"Displacement\": 318.0}, {\"MilesPerGal\": 12.0, \"Displacement\": 383.0}, {\"MilesPerGal\": 13.0, \"Displacement\": 400.0}, {\"MilesPerGal\": 13.0, \"Displacement\": 400.0}, {\"MilesPerGal\": 18.0, \"Displacement\": 258.0}, {\"MilesPerGal\": 22.0, \"Displacement\": 140.0}, {\"MilesPerGal\": 19.0, \"Displacement\": 250.0}, {\"MilesPerGal\": 18.0, \"Displacement\": 250.0}, {\"MilesPerGal\": 23.0, \"Displacement\": 122.0}, {\"MilesPerGal\": 28.0, \"Displacement\": 116.0}, {\"MilesPerGal\": 30.0, \"Displacement\": 79.0}, {\"MilesPerGal\": 30.0, \"Displacement\": 88.0}, {\"MilesPerGal\": 31.0, \"Displacement\": 71.0}, {\"MilesPerGal\": 35.0, \"Displacement\": 72.0}, {\"MilesPerGal\": 27.0, \"Displacement\": 97.0}, {\"MilesPerGal\": 26.0, \"Displacement\": 91.0}, {\"MilesPerGal\": 24.0, \"Displacement\": 113.0}, {\"MilesPerGal\": 25.0, \"Displacement\": 97.5}, {\"MilesPerGal\": 23.0, \"Displacement\": 97.0}, {\"MilesPerGal\": 20.0, \"Displacement\": 140.0}, {\"MilesPerGal\": 21.0, \"Displacement\": 122.0}, {\"MilesPerGal\": 13.0, \"Displacement\": 350.0}, {\"MilesPerGal\": 14.0, \"Displacement\": 400.0}, {\"MilesPerGal\": 15.0, \"Displacement\": 318.0}, {\"MilesPerGal\": 14.0, \"Displacement\": 351.0}, {\"MilesPerGal\": 17.0, \"Displacement\": 304.0}, {\"MilesPerGal\": 11.0, \"Displacement\": 429.0}, {\"MilesPerGal\": 13.0, \"Displacement\": 350.0}, {\"MilesPerGal\": 12.0, \"Displacement\": 350.0}, {\"MilesPerGal\": 13.0, \"Displacement\": 400.0}, {\"MilesPerGal\": 19.0, \"Displacement\": 70.0}, {\"MilesPerGal\": 15.0, \"Displacement\": 304.0}, {\"MilesPerGal\": 13.0, \"Displacement\": 307.0}, {\"MilesPerGal\": 13.0, \"Displacement\": 302.0}, {\"MilesPerGal\": 14.0, \"Displacement\": 318.0}, {\"MilesPerGal\": 18.0, \"Displacement\": 121.0}, {\"MilesPerGal\": 22.0, \"Displacement\": 121.0}, {\"MilesPerGal\": 21.0, \"Displacement\": 120.0}, {\"MilesPerGal\": 26.0, \"Displacement\": 96.0}, {\"MilesPerGal\": 22.0, \"Displacement\": 122.0}, {\"MilesPerGal\": 28.0, \"Displacement\": 97.0}, {\"MilesPerGal\": 23.0, \"Displacement\": 120.0}, {\"MilesPerGal\": 28.0, \"Displacement\": 98.0}, {\"MilesPerGal\": 27.0, \"Displacement\": 97.0}, {\"MilesPerGal\": 13.0, \"Displacement\": 350.0}, {\"MilesPerGal\": 14.0, \"Displacement\": 304.0}, {\"MilesPerGal\": 13.0, \"Displacement\": 350.0}, {\"MilesPerGal\": 14.0, \"Displacement\": 302.0}, {\"MilesPerGal\": 15.0, \"Displacement\": 318.0}, {\"MilesPerGal\": 12.0, \"Displacement\": 429.0}, {\"MilesPerGal\": 13.0, \"Displacement\": 400.0}, {\"MilesPerGal\": 13.0, \"Displacement\": 351.0}, {\"MilesPerGal\": 14.0, \"Displacement\": 318.0}, {\"MilesPerGal\": 13.0, \"Displacement\": 440.0}, {\"MilesPerGal\": 12.0, \"Displacement\": 455.0}, {\"MilesPerGal\": 13.0, \"Displacement\": 360.0}, {\"MilesPerGal\": 18.0, \"Displacement\": 225.0}, {\"MilesPerGal\": 16.0, \"Displacement\": 250.0}, {\"MilesPerGal\": 18.0, \"Displacement\": 232.0}, {\"MilesPerGal\": 18.0, \"Displacement\": 250.0}, {\"MilesPerGal\": 23.0, \"Displacement\": 198.0}, {\"MilesPerGal\": 26.0, \"Displacement\": 97.0}, {\"MilesPerGal\": 11.0, \"Displacement\": 400.0}, {\"MilesPerGal\": 12.0, \"Displacement\": 400.0}, {\"MilesPerGal\": 13.0, \"Displacement\": 360.0}, {\"MilesPerGal\": 12.0, \"Displacement\": 350.0}, {\"MilesPerGal\": 18.0, \"Displacement\": 232.0}, {\"MilesPerGal\": 20.0, \"Displacement\": 97.0}, {\"MilesPerGal\": 21.0, \"Displacement\": 140.0}, {\"MilesPerGal\": 22.0, \"Displacement\": 108.0}, {\"MilesPerGal\": 18.0, \"Displacement\": 70.0}, {\"MilesPerGal\": 19.0, \"Displacement\": 122.0}, {\"MilesPerGal\": 21.0, \"Displacement\": 155.0}, {\"MilesPerGal\": 26.0, \"Displacement\": 98.0}, {\"MilesPerGal\": 15.0, \"Displacement\": 350.0}, {\"MilesPerGal\": 16.0, \"Displacement\": 400.0}, {\"MilesPerGal\": 29.0, \"Displacement\": 68.0}, {\"MilesPerGal\": 24.0, \"Displacement\": 116.0}, {\"MilesPerGal\": 20.0, \"Displacement\": 114.0}, {\"MilesPerGal\": 19.0, \"Displacement\": 121.0}, {\"MilesPerGal\": 15.0, \"Displacement\": 318.0}, {\"MilesPerGal\": 24.0, \"Displacement\": 121.0}, {\"MilesPerGal\": 20.0, \"Displacement\": 156.0}, {\"MilesPerGal\": 11.0, \"Displacement\": 350.0}, {\"MilesPerGal\": 20.0, \"Displacement\": 198.0}, {\"MilesPerGal\": 19.0, \"Displacement\": 232.0}, {\"MilesPerGal\": 15.0, \"Displacement\": 250.0}, {\"MilesPerGal\": 31.0, \"Displacement\": 79.0}, {\"MilesPerGal\": 26.0, \"Displacement\": 122.0}, {\"MilesPerGal\": 32.0, \"Displacement\": 71.0}, {\"MilesPerGal\": 25.0, \"Displacement\": 140.0}, {\"MilesPerGal\": 16.0, \"Displacement\": 250.0}, {\"MilesPerGal\": 16.0, \"Displacement\": 258.0}, {\"MilesPerGal\": 18.0, \"Displacement\": 225.0}, {\"MilesPerGal\": 16.0, \"Displacement\": 302.0}, {\"MilesPerGal\": 13.0, \"Displacement\": 350.0}, {\"MilesPerGal\": 14.0, \"Displacement\": 318.0}, {\"MilesPerGal\": 14.0, \"Displacement\": 302.0}, {\"MilesPerGal\": 14.0, \"Displacement\": 304.0}, {\"MilesPerGal\": 29.0, \"Displacement\": 98.0}, {\"MilesPerGal\": 26.0, \"Displacement\": 79.0}, {\"MilesPerGal\": 26.0, \"Displacement\": 97.0}, {\"MilesPerGal\": 31.0, \"Displacement\": 76.0}, {\"MilesPerGal\": 32.0, \"Displacement\": 83.0}, {\"MilesPerGal\": 28.0, \"Displacement\": 90.0}, {\"MilesPerGal\": 24.0, \"Displacement\": 90.0}, {\"MilesPerGal\": 26.0, \"Displacement\": 116.0}, {\"MilesPerGal\": 24.0, \"Displacement\": 120.0}, {\"MilesPerGal\": 26.0, \"Displacement\": 108.0}, {\"MilesPerGal\": 31.0, \"Displacement\": 79.0}, {\"MilesPerGal\": 19.0, \"Displacement\": 225.0}, {\"MilesPerGal\": 18.0, \"Displacement\": 250.0}, {\"MilesPerGal\": 15.0, \"Displacement\": 250.0}, {\"MilesPerGal\": 15.0, \"Displacement\": 250.0}, {\"MilesPerGal\": 16.0, \"Displacement\": 400.0}, {\"MilesPerGal\": 15.0, \"Displacement\": 350.0}, {\"MilesPerGal\": 16.0, \"Displacement\": 318.0}, {\"MilesPerGal\": 14.0, \"Displacement\": 351.0}, {\"MilesPerGal\": 17.0, \"Displacement\": 231.0}, {\"MilesPerGal\": 16.0, \"Displacement\": 250.0}, {\"MilesPerGal\": 15.0, \"Displacement\": 258.0}, {\"MilesPerGal\": 18.0, \"Displacement\": 225.0}, {\"MilesPerGal\": 21.0, \"Displacement\": 231.0}, {\"MilesPerGal\": 20.0, \"Displacement\": 262.0}, {\"MilesPerGal\": 13.0, \"Displacement\": 302.0}, {\"MilesPerGal\": 29.0, \"Displacement\": 97.0}, {\"MilesPerGal\": 23.0, \"Displacement\": 140.0}, {\"MilesPerGal\": 20.0, \"Displacement\": 232.0}, {\"MilesPerGal\": 23.0, \"Displacement\": 140.0}, {\"MilesPerGal\": 24.0, \"Displacement\": 134.0}, {\"MilesPerGal\": 25.0, \"Displacement\": 90.0}, {\"MilesPerGal\": 24.0, \"Displacement\": 119.0}, {\"MilesPerGal\": 18.0, \"Displacement\": 171.0}, {\"MilesPerGal\": 29.0, \"Displacement\": 90.0}, {\"MilesPerGal\": 19.0, \"Displacement\": 232.0}, {\"MilesPerGal\": 23.0, \"Displacement\": 115.0}, {\"MilesPerGal\": 23.0, \"Displacement\": 120.0}, {\"MilesPerGal\": 22.0, \"Displacement\": 121.0}, {\"MilesPerGal\": 25.0, \"Displacement\": 121.0}, {\"MilesPerGal\": 33.0, \"Displacement\": 91.0}, {\"MilesPerGal\": 28.0, \"Displacement\": 107.0}, {\"MilesPerGal\": 25.0, \"Displacement\": 116.0}, {\"MilesPerGal\": 25.0, \"Displacement\": 140.0}, {\"MilesPerGal\": 26.0, \"Displacement\": 98.0}, {\"MilesPerGal\": 27.0, \"Displacement\": 101.0}, {\"MilesPerGal\": 17.5, \"Displacement\": 305.0}, {\"MilesPerGal\": 16.0, \"Displacement\": 318.0}, {\"MilesPerGal\": 15.5, \"Displacement\": 304.0}, {\"MilesPerGal\": 14.5, \"Displacement\": 351.0}, {\"MilesPerGal\": 22.0, \"Displacement\": 225.0}, {\"MilesPerGal\": 22.0, \"Displacement\": 250.0}, {\"MilesPerGal\": 24.0, \"Displacement\": 200.0}, {\"MilesPerGal\": 22.5, \"Displacement\": 232.0}, {\"MilesPerGal\": 29.0, \"Displacement\": 85.0}, {\"MilesPerGal\": 24.5, \"Displacement\": 98.0}, {\"MilesPerGal\": 29.0, \"Displacement\": 90.0}, {\"MilesPerGal\": 33.0, \"Displacement\": 91.0}, {\"MilesPerGal\": 20.0, \"Displacement\": 225.0}, {\"MilesPerGal\": 18.0, \"Displacement\": 250.0}, {\"MilesPerGal\": 18.5, \"Displacement\": 250.0}, {\"MilesPerGal\": 17.5, \"Displacement\": 258.0}, {\"MilesPerGal\": 29.5, \"Displacement\": 97.0}, {\"MilesPerGal\": 32.0, \"Displacement\": 85.0}, {\"MilesPerGal\": 28.0, \"Displacement\": 97.0}, {\"MilesPerGal\": 26.5, \"Displacement\": 140.0}, {\"MilesPerGal\": 20.0, \"Displacement\": 130.0}, {\"MilesPerGal\": 13.0, \"Displacement\": 318.0}, {\"MilesPerGal\": 19.0, \"Displacement\": 120.0}, {\"MilesPerGal\": 19.0, \"Displacement\": 156.0}, {\"MilesPerGal\": 16.5, \"Displacement\": 168.0}, {\"MilesPerGal\": 16.5, \"Displacement\": 350.0}, {\"MilesPerGal\": 13.0, \"Displacement\": 350.0}, {\"MilesPerGal\": 13.0, \"Displacement\": 302.0}, {\"MilesPerGal\": 13.0, \"Displacement\": 318.0}, {\"MilesPerGal\": 31.5, \"Displacement\": 98.0}, {\"MilesPerGal\": 30.0, \"Displacement\": 111.0}, {\"MilesPerGal\": 36.0, \"Displacement\": 79.0}, {\"MilesPerGal\": 25.5, \"Displacement\": 122.0}, {\"MilesPerGal\": 33.5, \"Displacement\": 85.0}, {\"MilesPerGal\": 17.5, \"Displacement\": 305.0}, {\"MilesPerGal\": 17.0, \"Displacement\": 260.0}, {\"MilesPerGal\": 15.5, \"Displacement\": 318.0}, {\"MilesPerGal\": 15.0, \"Displacement\": 302.0}, {\"MilesPerGal\": 17.5, \"Displacement\": 250.0}, {\"MilesPerGal\": 20.5, \"Displacement\": 231.0}, {\"MilesPerGal\": 19.0, \"Displacement\": 225.0}, {\"MilesPerGal\": 18.5, \"Displacement\": 250.0}, {\"MilesPerGal\": 16.0, \"Displacement\": 400.0}, {\"MilesPerGal\": 15.5, \"Displacement\": 350.0}, {\"MilesPerGal\": 15.5, \"Displacement\": 400.0}, {\"MilesPerGal\": 16.0, \"Displacement\": 351.0}, {\"MilesPerGal\": 29.0, \"Displacement\": 97.0}, {\"MilesPerGal\": 24.5, \"Displacement\": 151.0}, {\"MilesPerGal\": 26.0, \"Displacement\": 97.0}, {\"MilesPerGal\": 25.5, \"Displacement\": 140.0}, {\"MilesPerGal\": 30.5, \"Displacement\": 98.0}, {\"MilesPerGal\": 33.5, \"Displacement\": 98.0}, {\"MilesPerGal\": 30.0, \"Displacement\": 97.0}, {\"MilesPerGal\": 30.5, \"Displacement\": 97.0}, {\"MilesPerGal\": 22.0, \"Displacement\": 146.0}, {\"MilesPerGal\": 21.5, \"Displacement\": 121.0}, {\"MilesPerGal\": 21.5, \"Displacement\": 80.0}, {\"MilesPerGal\": 43.1, \"Displacement\": 90.0}, {\"MilesPerGal\": 36.1, \"Displacement\": 98.0}, {\"MilesPerGal\": 32.8, \"Displacement\": 78.0}, {\"MilesPerGal\": 39.4, \"Displacement\": 85.0}, {\"MilesPerGal\": 36.1, \"Displacement\": 91.0}, {\"MilesPerGal\": 19.9, \"Displacement\": 260.0}, {\"MilesPerGal\": 19.4, \"Displacement\": 318.0}, {\"MilesPerGal\": 20.2, \"Displacement\": 302.0}, {\"MilesPerGal\": 19.2, \"Displacement\": 231.0}, {\"MilesPerGal\": 20.5, \"Displacement\": 200.0}, {\"MilesPerGal\": 20.2, \"Displacement\": 200.0}, {\"MilesPerGal\": 25.1, \"Displacement\": 140.0}, {\"MilesPerGal\": 20.5, \"Displacement\": 225.0}, {\"MilesPerGal\": 19.4, \"Displacement\": 232.0}, {\"MilesPerGal\": 20.6, \"Displacement\": 231.0}, {\"MilesPerGal\": 20.8, \"Displacement\": 200.0}, {\"MilesPerGal\": 18.6, \"Displacement\": 225.0}, {\"MilesPerGal\": 18.1, \"Displacement\": 258.0}, {\"MilesPerGal\": 19.2, \"Displacement\": 305.0}, {\"MilesPerGal\": 17.7, \"Displacement\": 231.0}, {\"MilesPerGal\": 18.1, \"Displacement\": 302.0}, {\"MilesPerGal\": 17.5, \"Displacement\": 318.0}, {\"MilesPerGal\": 30.0, \"Displacement\": 98.0}, {\"MilesPerGal\": 27.5, \"Displacement\": 134.0}, {\"MilesPerGal\": 27.2, \"Displacement\": 119.0}, {\"MilesPerGal\": 30.9, \"Displacement\": 105.0}, {\"MilesPerGal\": 21.1, \"Displacement\": 134.0}, {\"MilesPerGal\": 23.2, \"Displacement\": 156.0}, {\"MilesPerGal\": 23.8, \"Displacement\": 151.0}, {\"MilesPerGal\": 23.9, \"Displacement\": 119.0}, {\"MilesPerGal\": 20.3, \"Displacement\": 131.0}, {\"MilesPerGal\": 17.0, \"Displacement\": 163.0}, {\"MilesPerGal\": 21.6, \"Displacement\": 121.0}, {\"MilesPerGal\": 16.2, \"Displacement\": 163.0}, {\"MilesPerGal\": 31.5, \"Displacement\": 89.0}, {\"MilesPerGal\": 29.5, \"Displacement\": 98.0}, {\"MilesPerGal\": 21.5, \"Displacement\": 231.0}, {\"MilesPerGal\": 19.8, \"Displacement\": 200.0}, {\"MilesPerGal\": 22.3, \"Displacement\": 140.0}, {\"MilesPerGal\": 20.2, \"Displacement\": 232.0}, {\"MilesPerGal\": 20.6, \"Displacement\": 225.0}, {\"MilesPerGal\": 17.0, \"Displacement\": 305.0}, {\"MilesPerGal\": 17.6, \"Displacement\": 302.0}, {\"MilesPerGal\": 16.5, \"Displacement\": 351.0}, {\"MilesPerGal\": 18.2, \"Displacement\": 318.0}, {\"MilesPerGal\": 16.9, \"Displacement\": 350.0}, {\"MilesPerGal\": 15.5, \"Displacement\": 351.0}, {\"MilesPerGal\": 19.2, \"Displacement\": 267.0}, {\"MilesPerGal\": 18.5, \"Displacement\": 360.0}, {\"MilesPerGal\": 31.9, \"Displacement\": 89.0}, {\"MilesPerGal\": 34.1, \"Displacement\": 86.0}, {\"MilesPerGal\": 35.7, \"Displacement\": 98.0}, {\"MilesPerGal\": 27.4, \"Displacement\": 121.0}, {\"MilesPerGal\": 25.4, \"Displacement\": 183.0}, {\"MilesPerGal\": 23.0, \"Displacement\": 350.0}, {\"MilesPerGal\": 27.2, \"Displacement\": 141.0}, {\"MilesPerGal\": 23.9, \"Displacement\": 260.0}, {\"MilesPerGal\": 34.2, \"Displacement\": 105.0}, {\"MilesPerGal\": 34.5, \"Displacement\": 105.0}, {\"MilesPerGal\": 31.8, \"Displacement\": 85.0}, {\"MilesPerGal\": 37.3, \"Displacement\": 91.0}, {\"MilesPerGal\": 28.4, \"Displacement\": 151.0}, {\"MilesPerGal\": 28.8, \"Displacement\": 173.0}, {\"MilesPerGal\": 26.8, \"Displacement\": 173.0}, {\"MilesPerGal\": 33.5, \"Displacement\": 151.0}, {\"MilesPerGal\": 41.5, \"Displacement\": 98.0}, {\"MilesPerGal\": 38.1, \"Displacement\": 89.0}, {\"MilesPerGal\": 32.1, \"Displacement\": 98.0}, {\"MilesPerGal\": 37.2, \"Displacement\": 86.0}, {\"MilesPerGal\": 28.0, \"Displacement\": 151.0}, {\"MilesPerGal\": 26.4, \"Displacement\": 140.0}, {\"MilesPerGal\": 24.3, \"Displacement\": 151.0}, {\"MilesPerGal\": 19.1, \"Displacement\": 225.0}, {\"MilesPerGal\": 34.3, \"Displacement\": 97.0}, {\"MilesPerGal\": 29.8, \"Displacement\": 134.0}, {\"MilesPerGal\": 31.3, \"Displacement\": 120.0}, {\"MilesPerGal\": 37.0, \"Displacement\": 119.0}, {\"MilesPerGal\": 32.2, \"Displacement\": 108.0}, {\"MilesPerGal\": 46.6, \"Displacement\": 86.0}, {\"MilesPerGal\": 27.9, \"Displacement\": 156.0}, {\"MilesPerGal\": 40.8, \"Displacement\": 85.0}, {\"MilesPerGal\": 44.3, \"Displacement\": 90.0}, {\"MilesPerGal\": 43.4, \"Displacement\": 90.0}, {\"MilesPerGal\": 36.4, \"Displacement\": 121.0}, {\"MilesPerGal\": 30.0, \"Displacement\": 146.0}, {\"MilesPerGal\": 44.6, \"Displacement\": 91.0}, {\"MilesPerGal\": 33.8, \"Displacement\": 97.0}, {\"MilesPerGal\": 29.8, \"Displacement\": 89.0}, {\"MilesPerGal\": 32.7, \"Displacement\": 168.0}, {\"MilesPerGal\": 23.7, \"Displacement\": 70.0}, {\"MilesPerGal\": 35.0, \"Displacement\": 122.0}, {\"MilesPerGal\": 32.4, \"Displacement\": 107.0}, {\"MilesPerGal\": 27.2, \"Displacement\": 135.0}, {\"MilesPerGal\": 26.6, \"Displacement\": 151.0}, {\"MilesPerGal\": 25.8, \"Displacement\": 156.0}, {\"MilesPerGal\": 23.5, \"Displacement\": 173.0}, {\"MilesPerGal\": 30.0, \"Displacement\": 135.0}, {\"MilesPerGal\": 39.1, \"Displacement\": 79.0}, {\"MilesPerGal\": 39.0, \"Displacement\": 86.0}, {\"MilesPerGal\": 35.1, \"Displacement\": 81.0}, {\"MilesPerGal\": 32.3, \"Displacement\": 97.0}, {\"MilesPerGal\": 37.0, \"Displacement\": 85.0}, {\"MilesPerGal\": 37.7, \"Displacement\": 89.0}, {\"MilesPerGal\": 34.1, \"Displacement\": 91.0}, {\"MilesPerGal\": 34.7, \"Displacement\": 105.0}, {\"MilesPerGal\": 34.4, \"Displacement\": 98.0}, {\"MilesPerGal\": 29.9, \"Displacement\": 98.0}, {\"MilesPerGal\": 33.0, \"Displacement\": 105.0}, {\"MilesPerGal\": 33.7, \"Displacement\": 107.0}, {\"MilesPerGal\": 32.4, \"Displacement\": 108.0}, {\"MilesPerGal\": 32.9, \"Displacement\": 119.0}, {\"MilesPerGal\": 31.6, \"Displacement\": 120.0}, {\"MilesPerGal\": 28.1, \"Displacement\": 141.0}, {\"MilesPerGal\": 30.7, \"Displacement\": 145.0}, {\"MilesPerGal\": 25.4, \"Displacement\": 168.0}, {\"MilesPerGal\": 24.2, \"Displacement\": 146.0}, {\"MilesPerGal\": 22.4, \"Displacement\": 231.0}, {\"MilesPerGal\": 26.6, \"Displacement\": 350.0}, {\"MilesPerGal\": 20.2, \"Displacement\": 200.0}, {\"MilesPerGal\": 17.6, \"Displacement\": 225.0}, {\"MilesPerGal\": 28.0, \"Displacement\": 112.0}, {\"MilesPerGal\": 27.0, \"Displacement\": 112.0}, {\"MilesPerGal\": 34.0, \"Displacement\": 112.0}, {\"MilesPerGal\": 31.0, \"Displacement\": 112.0}, {\"MilesPerGal\": 29.0, \"Displacement\": 135.0}, {\"MilesPerGal\": 27.0, \"Displacement\": 151.0}, {\"MilesPerGal\": 24.0, \"Displacement\": 140.0}, {\"MilesPerGal\": 36.0, \"Displacement\": 105.0}, {\"MilesPerGal\": 37.0, \"Displacement\": 91.0}, {\"MilesPerGal\": 31.0, \"Displacement\": 91.0}, {\"MilesPerGal\": 38.0, \"Displacement\": 105.0}, {\"MilesPerGal\": 36.0, \"Displacement\": 98.0}, {\"MilesPerGal\": 36.0, \"Displacement\": 120.0}, {\"MilesPerGal\": 36.0, \"Displacement\": 107.0}, {\"MilesPerGal\": 34.0, \"Displacement\": 108.0}, {\"MilesPerGal\": 38.0, \"Displacement\": 91.0}, {\"MilesPerGal\": 32.0, \"Displacement\": 91.0}, {\"MilesPerGal\": 38.0, \"Displacement\": 91.0}, {\"MilesPerGal\": 25.0, \"Displacement\": 181.0}, {\"MilesPerGal\": 38.0, \"Displacement\": 262.0}, {\"MilesPerGal\": 26.0, \"Displacement\": 156.0}, {\"MilesPerGal\": 22.0, \"Displacement\": 232.0}, {\"MilesPerGal\": 32.0, \"Displacement\": 144.0}, {\"MilesPerGal\": 36.0, \"Displacement\": 135.0}, {\"MilesPerGal\": 27.0, \"Displacement\": 151.0}, {\"MilesPerGal\": 27.0, \"Displacement\": 140.0}, {\"MilesPerGal\": 44.0, \"Displacement\": 97.0}, {\"MilesPerGal\": 32.0, \"Displacement\": 135.0}, {\"MilesPerGal\": 28.0, \"Displacement\": 120.0}, {\"MilesPerGal\": 31.0, \"Displacement\": 119.0}]}, \"vislib\": \"vegalite\"}, {\"config\": {\"view\": {\"continuousWidth\": 400, \"continuousHeight\": 300}, \"axis\": {\"labelColor\": \"#505050\", \"labelFont\": \"Helvetica Neue\", \"labelFontSize\": 9, \"labelFontWeight\": 400, \"titleFont\": \"Helvetica Neue\", \"titleFontSize\": 11, \"titleFontWeight\": 500}, \"legend\": {\"labelFont\": \"Helvetica Neue\", \"labelFontSize\": 9, \"labelFontWeight\": 400, \"titleFont\": \"Helvetica Neue\", \"titleFontSize\": 10, \"titleFontWeight\": 500}, \"mark\": {\"tooltip\": {\"content\": \"encoding\"}}, \"title\": {\"font\": \"Helvetica Neue\", \"fontSize\": 13, \"fontWeight\": 500}}, \"data\": {\"name\": \"data-e6cb2260eabcba2b8d8b15c46280f1b8\"}, \"mark\": \"circle\", \"encoding\": {\"x\": {\"type\": \"quantitative\", \"axis\": {\"title\": \"Horsepower\"}, \"field\": \"Horsepower\", \"scale\": {\"domain\": [46.0, 230.0]}}, \"y\": {\"type\": \"quantitative\", \"axis\": {\"title\": \"MilesPerGal\"}, \"field\": \"MilesPerGal\", \"scale\": {\"domain\": [9.0, 46.6]}}}, \"height\": 300.0, \"selection\": {\"selector006\": {\"type\": \"interval\", \"bind\": \"scales\", \"encodings\": [\"x\", \"y\"]}}, \"width\": 320.0, \"$schema\": \"https://vega.github.io/schema/vega-lite/v4.8.1.json\", \"datasets\": {\"data-e6cb2260eabcba2b8d8b15c46280f1b8\": [{\"MilesPerGal\": 18.0, \"Horsepower\": 130}, {\"MilesPerGal\": 15.0, \"Horsepower\": 165}, {\"MilesPerGal\": 18.0, \"Horsepower\": 150}, {\"MilesPerGal\": 16.0, \"Horsepower\": 150}, {\"MilesPerGal\": 17.0, \"Horsepower\": 140}, {\"MilesPerGal\": 15.0, \"Horsepower\": 198}, {\"MilesPerGal\": 14.0, \"Horsepower\": 220}, {\"MilesPerGal\": 14.0, \"Horsepower\": 215}, {\"MilesPerGal\": 14.0, \"Horsepower\": 225}, {\"MilesPerGal\": 15.0, \"Horsepower\": 190}, {\"MilesPerGal\": 15.0, \"Horsepower\": 170}, {\"MilesPerGal\": 14.0, \"Horsepower\": 160}, {\"MilesPerGal\": 15.0, \"Horsepower\": 150}, {\"MilesPerGal\": 14.0, \"Horsepower\": 225}, {\"MilesPerGal\": 24.0, \"Horsepower\": 95}, {\"MilesPerGal\": 22.0, \"Horsepower\": 95}, {\"MilesPerGal\": 18.0, \"Horsepower\": 97}, {\"MilesPerGal\": 21.0, \"Horsepower\": 85}, {\"MilesPerGal\": 27.0, \"Horsepower\": 88}, {\"MilesPerGal\": 26.0, \"Horsepower\": 46}, {\"MilesPerGal\": 25.0, \"Horsepower\": 87}, {\"MilesPerGal\": 24.0, \"Horsepower\": 90}, {\"MilesPerGal\": 25.0, \"Horsepower\": 95}, {\"MilesPerGal\": 26.0, \"Horsepower\": 113}, {\"MilesPerGal\": 21.0, \"Horsepower\": 90}, {\"MilesPerGal\": 10.0, \"Horsepower\": 215}, {\"MilesPerGal\": 10.0, \"Horsepower\": 200}, {\"MilesPerGal\": 11.0, \"Horsepower\": 210}, {\"MilesPerGal\": 9.0, \"Horsepower\": 193}, {\"MilesPerGal\": 27.0, \"Horsepower\": 88}, {\"MilesPerGal\": 28.0, \"Horsepower\": 90}, {\"MilesPerGal\": 25.0, \"Horsepower\": 95}, {\"MilesPerGal\": 19.0, \"Horsepower\": 100}, {\"MilesPerGal\": 16.0, \"Horsepower\": 105}, {\"MilesPerGal\": 17.0, \"Horsepower\": 100}, {\"MilesPerGal\": 19.0, \"Horsepower\": 88}, {\"MilesPerGal\": 18.0, \"Horsepower\": 100}, {\"MilesPerGal\": 14.0, \"Horsepower\": 165}, {\"MilesPerGal\": 14.0, \"Horsepower\": 175}, {\"MilesPerGal\": 14.0, \"Horsepower\": 153}, {\"MilesPerGal\": 14.0, \"Horsepower\": 150}, {\"MilesPerGal\": 12.0, \"Horsepower\": 180}, {\"MilesPerGal\": 13.0, \"Horsepower\": 170}, {\"MilesPerGal\": 13.0, \"Horsepower\": 175}, {\"MilesPerGal\": 18.0, \"Horsepower\": 110}, {\"MilesPerGal\": 22.0, \"Horsepower\": 72}, {\"MilesPerGal\": 19.0, \"Horsepower\": 100}, {\"MilesPerGal\": 18.0, \"Horsepower\": 88}, {\"MilesPerGal\": 23.0, \"Horsepower\": 86}, {\"MilesPerGal\": 28.0, \"Horsepower\": 90}, {\"MilesPerGal\": 30.0, \"Horsepower\": 70}, {\"MilesPerGal\": 30.0, \"Horsepower\": 76}, {\"MilesPerGal\": 31.0, \"Horsepower\": 65}, {\"MilesPerGal\": 35.0, \"Horsepower\": 69}, {\"MilesPerGal\": 27.0, \"Horsepower\": 60}, {\"MilesPerGal\": 26.0, \"Horsepower\": 70}, {\"MilesPerGal\": 24.0, \"Horsepower\": 95}, {\"MilesPerGal\": 25.0, \"Horsepower\": 80}, {\"MilesPerGal\": 23.0, \"Horsepower\": 54}, {\"MilesPerGal\": 20.0, \"Horsepower\": 90}, {\"MilesPerGal\": 21.0, \"Horsepower\": 86}, {\"MilesPerGal\": 13.0, \"Horsepower\": 165}, {\"MilesPerGal\": 14.0, \"Horsepower\": 175}, {\"MilesPerGal\": 15.0, \"Horsepower\": 150}, {\"MilesPerGal\": 14.0, \"Horsepower\": 153}, {\"MilesPerGal\": 17.0, \"Horsepower\": 150}, {\"MilesPerGal\": 11.0, \"Horsepower\": 208}, {\"MilesPerGal\": 13.0, \"Horsepower\": 155}, {\"MilesPerGal\": 12.0, \"Horsepower\": 160}, {\"MilesPerGal\": 13.0, \"Horsepower\": 190}, {\"MilesPerGal\": 19.0, \"Horsepower\": 97}, {\"MilesPerGal\": 15.0, \"Horsepower\": 150}, {\"MilesPerGal\": 13.0, \"Horsepower\": 130}, {\"MilesPerGal\": 13.0, \"Horsepower\": 140}, {\"MilesPerGal\": 14.0, \"Horsepower\": 150}, {\"MilesPerGal\": 18.0, \"Horsepower\": 112}, {\"MilesPerGal\": 22.0, \"Horsepower\": 76}, {\"MilesPerGal\": 21.0, \"Horsepower\": 87}, {\"MilesPerGal\": 26.0, \"Horsepower\": 69}, {\"MilesPerGal\": 22.0, \"Horsepower\": 86}, {\"MilesPerGal\": 28.0, \"Horsepower\": 92}, {\"MilesPerGal\": 23.0, \"Horsepower\": 97}, {\"MilesPerGal\": 28.0, \"Horsepower\": 80}, {\"MilesPerGal\": 27.0, \"Horsepower\": 88}, {\"MilesPerGal\": 13.0, \"Horsepower\": 175}, {\"MilesPerGal\": 14.0, \"Horsepower\": 150}, {\"MilesPerGal\": 13.0, \"Horsepower\": 145}, {\"MilesPerGal\": 14.0, \"Horsepower\": 137}, {\"MilesPerGal\": 15.0, \"Horsepower\": 150}, {\"MilesPerGal\": 12.0, \"Horsepower\": 198}, {\"MilesPerGal\": 13.0, \"Horsepower\": 150}, {\"MilesPerGal\": 13.0, \"Horsepower\": 158}, {\"MilesPerGal\": 14.0, \"Horsepower\": 150}, {\"MilesPerGal\": 13.0, \"Horsepower\": 215}, {\"MilesPerGal\": 12.0, \"Horsepower\": 225}, {\"MilesPerGal\": 13.0, \"Horsepower\": 175}, {\"MilesPerGal\": 18.0, \"Horsepower\": 105}, {\"MilesPerGal\": 16.0, \"Horsepower\": 100}, {\"MilesPerGal\": 18.0, \"Horsepower\": 100}, {\"MilesPerGal\": 18.0, \"Horsepower\": 88}, {\"MilesPerGal\": 23.0, \"Horsepower\": 95}, {\"MilesPerGal\": 26.0, \"Horsepower\": 46}, {\"MilesPerGal\": 11.0, \"Horsepower\": 150}, {\"MilesPerGal\": 12.0, \"Horsepower\": 167}, {\"MilesPerGal\": 13.0, \"Horsepower\": 170}, {\"MilesPerGal\": 12.0, \"Horsepower\": 180}, {\"MilesPerGal\": 18.0, \"Horsepower\": 100}, {\"MilesPerGal\": 20.0, \"Horsepower\": 88}, {\"MilesPerGal\": 21.0, \"Horsepower\": 72}, {\"MilesPerGal\": 22.0, \"Horsepower\": 94}, {\"MilesPerGal\": 18.0, \"Horsepower\": 90}, {\"MilesPerGal\": 19.0, \"Horsepower\": 85}, {\"MilesPerGal\": 21.0, \"Horsepower\": 107}, {\"MilesPerGal\": 26.0, \"Horsepower\": 90}, {\"MilesPerGal\": 15.0, \"Horsepower\": 145}, {\"MilesPerGal\": 16.0, \"Horsepower\": 230}, {\"MilesPerGal\": 29.0, \"Horsepower\": 49}, {\"MilesPerGal\": 24.0, \"Horsepower\": 75}, {\"MilesPerGal\": 20.0, \"Horsepower\": 91}, {\"MilesPerGal\": 19.0, \"Horsepower\": 112}, {\"MilesPerGal\": 15.0, \"Horsepower\": 150}, {\"MilesPerGal\": 24.0, \"Horsepower\": 110}, {\"MilesPerGal\": 20.0, \"Horsepower\": 122}, {\"MilesPerGal\": 11.0, \"Horsepower\": 180}, {\"MilesPerGal\": 20.0, \"Horsepower\": 95}, {\"MilesPerGal\": 19.0, \"Horsepower\": 100}, {\"MilesPerGal\": 15.0, \"Horsepower\": 100}, {\"MilesPerGal\": 31.0, \"Horsepower\": 67}, {\"MilesPerGal\": 26.0, \"Horsepower\": 80}, {\"MilesPerGal\": 32.0, \"Horsepower\": 65}, {\"MilesPerGal\": 25.0, \"Horsepower\": 75}, {\"MilesPerGal\": 16.0, \"Horsepower\": 100}, {\"MilesPerGal\": 16.0, \"Horsepower\": 110}, {\"MilesPerGal\": 18.0, \"Horsepower\": 105}, {\"MilesPerGal\": 16.0, \"Horsepower\": 140}, {\"MilesPerGal\": 13.0, \"Horsepower\": 150}, {\"MilesPerGal\": 14.0, \"Horsepower\": 150}, {\"MilesPerGal\": 14.0, \"Horsepower\": 140}, {\"MilesPerGal\": 14.0, \"Horsepower\": 150}, {\"MilesPerGal\": 29.0, \"Horsepower\": 83}, {\"MilesPerGal\": 26.0, \"Horsepower\": 67}, {\"MilesPerGal\": 26.0, \"Horsepower\": 78}, {\"MilesPerGal\": 31.0, \"Horsepower\": 52}, {\"MilesPerGal\": 32.0, \"Horsepower\": 61}, {\"MilesPerGal\": 28.0, \"Horsepower\": 75}, {\"MilesPerGal\": 24.0, \"Horsepower\": 75}, {\"MilesPerGal\": 26.0, \"Horsepower\": 75}, {\"MilesPerGal\": 24.0, \"Horsepower\": 97}, {\"MilesPerGal\": 26.0, \"Horsepower\": 93}, {\"MilesPerGal\": 31.0, \"Horsepower\": 67}, {\"MilesPerGal\": 19.0, \"Horsepower\": 95}, {\"MilesPerGal\": 18.0, \"Horsepower\": 105}, {\"MilesPerGal\": 15.0, \"Horsepower\": 72}, {\"MilesPerGal\": 15.0, \"Horsepower\": 72}, {\"MilesPerGal\": 16.0, \"Horsepower\": 170}, {\"MilesPerGal\": 15.0, \"Horsepower\": 145}, {\"MilesPerGal\": 16.0, \"Horsepower\": 150}, {\"MilesPerGal\": 14.0, \"Horsepower\": 148}, {\"MilesPerGal\": 17.0, \"Horsepower\": 110}, {\"MilesPerGal\": 16.0, \"Horsepower\": 105}, {\"MilesPerGal\": 15.0, \"Horsepower\": 110}, {\"MilesPerGal\": 18.0, \"Horsepower\": 95}, {\"MilesPerGal\": 21.0, \"Horsepower\": 110}, {\"MilesPerGal\": 20.0, \"Horsepower\": 110}, {\"MilesPerGal\": 13.0, \"Horsepower\": 129}, {\"MilesPerGal\": 29.0, \"Horsepower\": 75}, {\"MilesPerGal\": 23.0, \"Horsepower\": 83}, {\"MilesPerGal\": 20.0, \"Horsepower\": 100}, {\"MilesPerGal\": 23.0, \"Horsepower\": 78}, {\"MilesPerGal\": 24.0, \"Horsepower\": 96}, {\"MilesPerGal\": 25.0, \"Horsepower\": 71}, {\"MilesPerGal\": 24.0, \"Horsepower\": 97}, {\"MilesPerGal\": 18.0, \"Horsepower\": 97}, {\"MilesPerGal\": 29.0, \"Horsepower\": 70}, {\"MilesPerGal\": 19.0, \"Horsepower\": 90}, {\"MilesPerGal\": 23.0, \"Horsepower\": 95}, {\"MilesPerGal\": 23.0, \"Horsepower\": 88}, {\"MilesPerGal\": 22.0, \"Horsepower\": 98}, {\"MilesPerGal\": 25.0, \"Horsepower\": 115}, {\"MilesPerGal\": 33.0, \"Horsepower\": 53}, {\"MilesPerGal\": 28.0, \"Horsepower\": 86}, {\"MilesPerGal\": 25.0, \"Horsepower\": 81}, {\"MilesPerGal\": 25.0, \"Horsepower\": 92}, {\"MilesPerGal\": 26.0, \"Horsepower\": 79}, {\"MilesPerGal\": 27.0, \"Horsepower\": 83}, {\"MilesPerGal\": 17.5, \"Horsepower\": 140}, {\"MilesPerGal\": 16.0, \"Horsepower\": 150}, {\"MilesPerGal\": 15.5, \"Horsepower\": 120}, {\"MilesPerGal\": 14.5, \"Horsepower\": 152}, {\"MilesPerGal\": 22.0, \"Horsepower\": 100}, {\"MilesPerGal\": 22.0, \"Horsepower\": 105}, {\"MilesPerGal\": 24.0, \"Horsepower\": 81}, {\"MilesPerGal\": 22.5, \"Horsepower\": 90}, {\"MilesPerGal\": 29.0, \"Horsepower\": 52}, {\"MilesPerGal\": 24.5, \"Horsepower\": 60}, {\"MilesPerGal\": 29.0, \"Horsepower\": 70}, {\"MilesPerGal\": 33.0, \"Horsepower\": 53}, {\"MilesPerGal\": 20.0, \"Horsepower\": 100}, {\"MilesPerGal\": 18.0, \"Horsepower\": 78}, {\"MilesPerGal\": 18.5, \"Horsepower\": 110}, {\"MilesPerGal\": 17.5, \"Horsepower\": 95}, {\"MilesPerGal\": 29.5, \"Horsepower\": 71}, {\"MilesPerGal\": 32.0, \"Horsepower\": 70}, {\"MilesPerGal\": 28.0, \"Horsepower\": 75}, {\"MilesPerGal\": 26.5, \"Horsepower\": 72}, {\"MilesPerGal\": 20.0, \"Horsepower\": 102}, {\"MilesPerGal\": 13.0, \"Horsepower\": 150}, {\"MilesPerGal\": 19.0, \"Horsepower\": 88}, {\"MilesPerGal\": 19.0, \"Horsepower\": 108}, {\"MilesPerGal\": 16.5, \"Horsepower\": 120}, {\"MilesPerGal\": 16.5, \"Horsepower\": 180}, {\"MilesPerGal\": 13.0, \"Horsepower\": 145}, {\"MilesPerGal\": 13.0, \"Horsepower\": 130}, {\"MilesPerGal\": 13.0, \"Horsepower\": 150}, {\"MilesPerGal\": 31.5, \"Horsepower\": 68}, {\"MilesPerGal\": 30.0, \"Horsepower\": 80}, {\"MilesPerGal\": 36.0, \"Horsepower\": 58}, {\"MilesPerGal\": 25.5, \"Horsepower\": 96}, {\"MilesPerGal\": 33.5, \"Horsepower\": 70}, {\"MilesPerGal\": 17.5, \"Horsepower\": 145}, {\"MilesPerGal\": 17.0, \"Horsepower\": 110}, {\"MilesPerGal\": 15.5, \"Horsepower\": 145}, {\"MilesPerGal\": 15.0, \"Horsepower\": 130}, {\"MilesPerGal\": 17.5, \"Horsepower\": 110}, {\"MilesPerGal\": 20.5, \"Horsepower\": 105}, {\"MilesPerGal\": 19.0, \"Horsepower\": 100}, {\"MilesPerGal\": 18.5, \"Horsepower\": 98}, {\"MilesPerGal\": 16.0, \"Horsepower\": 180}, {\"MilesPerGal\": 15.5, \"Horsepower\": 170}, {\"MilesPerGal\": 15.5, \"Horsepower\": 190}, {\"MilesPerGal\": 16.0, \"Horsepower\": 149}, {\"MilesPerGal\": 29.0, \"Horsepower\": 78}, {\"MilesPerGal\": 24.5, \"Horsepower\": 88}, {\"MilesPerGal\": 26.0, \"Horsepower\": 75}, {\"MilesPerGal\": 25.5, \"Horsepower\": 89}, {\"MilesPerGal\": 30.5, \"Horsepower\": 63}, {\"MilesPerGal\": 33.5, \"Horsepower\": 83}, {\"MilesPerGal\": 30.0, \"Horsepower\": 67}, {\"MilesPerGal\": 30.5, \"Horsepower\": 78}, {\"MilesPerGal\": 22.0, \"Horsepower\": 97}, {\"MilesPerGal\": 21.5, \"Horsepower\": 110}, {\"MilesPerGal\": 21.5, \"Horsepower\": 110}, {\"MilesPerGal\": 43.1, \"Horsepower\": 48}, {\"MilesPerGal\": 36.1, \"Horsepower\": 66}, {\"MilesPerGal\": 32.8, \"Horsepower\": 52}, {\"MilesPerGal\": 39.4, \"Horsepower\": 70}, {\"MilesPerGal\": 36.1, \"Horsepower\": 60}, {\"MilesPerGal\": 19.9, \"Horsepower\": 110}, {\"MilesPerGal\": 19.4, \"Horsepower\": 140}, {\"MilesPerGal\": 20.2, \"Horsepower\": 139}, {\"MilesPerGal\": 19.2, \"Horsepower\": 105}, {\"MilesPerGal\": 20.5, \"Horsepower\": 95}, {\"MilesPerGal\": 20.2, \"Horsepower\": 85}, {\"MilesPerGal\": 25.1, \"Horsepower\": 88}, {\"MilesPerGal\": 20.5, \"Horsepower\": 100}, {\"MilesPerGal\": 19.4, \"Horsepower\": 90}, {\"MilesPerGal\": 20.6, \"Horsepower\": 105}, {\"MilesPerGal\": 20.8, \"Horsepower\": 85}, {\"MilesPerGal\": 18.6, \"Horsepower\": 110}, {\"MilesPerGal\": 18.1, \"Horsepower\": 120}, {\"MilesPerGal\": 19.2, \"Horsepower\": 145}, {\"MilesPerGal\": 17.7, \"Horsepower\": 165}, {\"MilesPerGal\": 18.1, \"Horsepower\": 139}, {\"MilesPerGal\": 17.5, \"Horsepower\": 140}, {\"MilesPerGal\": 30.0, \"Horsepower\": 68}, {\"MilesPerGal\": 27.5, \"Horsepower\": 95}, {\"MilesPerGal\": 27.2, \"Horsepower\": 97}, {\"MilesPerGal\": 30.9, \"Horsepower\": 75}, {\"MilesPerGal\": 21.1, \"Horsepower\": 95}, {\"MilesPerGal\": 23.2, \"Horsepower\": 105}, {\"MilesPerGal\": 23.8, \"Horsepower\": 85}, {\"MilesPerGal\": 23.9, \"Horsepower\": 97}, {\"MilesPerGal\": 20.3, \"Horsepower\": 103}, {\"MilesPerGal\": 17.0, \"Horsepower\": 125}, {\"MilesPerGal\": 21.6, \"Horsepower\": 115}, {\"MilesPerGal\": 16.2, \"Horsepower\": 133}, {\"MilesPerGal\": 31.5, \"Horsepower\": 71}, {\"MilesPerGal\": 29.5, \"Horsepower\": 68}, {\"MilesPerGal\": 21.5, \"Horsepower\": 115}, {\"MilesPerGal\": 19.8, \"Horsepower\": 85}, {\"MilesPerGal\": 22.3, \"Horsepower\": 88}, {\"MilesPerGal\": 20.2, \"Horsepower\": 90}, {\"MilesPerGal\": 20.6, \"Horsepower\": 110}, {\"MilesPerGal\": 17.0, \"Horsepower\": 130}, {\"MilesPerGal\": 17.6, \"Horsepower\": 129}, {\"MilesPerGal\": 16.5, \"Horsepower\": 138}, {\"MilesPerGal\": 18.2, \"Horsepower\": 135}, {\"MilesPerGal\": 16.9, \"Horsepower\": 155}, {\"MilesPerGal\": 15.5, \"Horsepower\": 142}, {\"MilesPerGal\": 19.2, \"Horsepower\": 125}, {\"MilesPerGal\": 18.5, \"Horsepower\": 150}, {\"MilesPerGal\": 31.9, \"Horsepower\": 71}, {\"MilesPerGal\": 34.1, \"Horsepower\": 65}, {\"MilesPerGal\": 35.7, \"Horsepower\": 80}, {\"MilesPerGal\": 27.4, \"Horsepower\": 80}, {\"MilesPerGal\": 25.4, \"Horsepower\": 77}, {\"MilesPerGal\": 23.0, \"Horsepower\": 125}, {\"MilesPerGal\": 27.2, \"Horsepower\": 71}, {\"MilesPerGal\": 23.9, \"Horsepower\": 90}, {\"MilesPerGal\": 34.2, \"Horsepower\": 70}, {\"MilesPerGal\": 34.5, \"Horsepower\": 70}, {\"MilesPerGal\": 31.8, \"Horsepower\": 65}, {\"MilesPerGal\": 37.3, \"Horsepower\": 69}, {\"MilesPerGal\": 28.4, \"Horsepower\": 90}, {\"MilesPerGal\": 28.8, \"Horsepower\": 115}, {\"MilesPerGal\": 26.8, \"Horsepower\": 115}, {\"MilesPerGal\": 33.5, \"Horsepower\": 90}, {\"MilesPerGal\": 41.5, \"Horsepower\": 76}, {\"MilesPerGal\": 38.1, \"Horsepower\": 60}, {\"MilesPerGal\": 32.1, \"Horsepower\": 70}, {\"MilesPerGal\": 37.2, \"Horsepower\": 65}, {\"MilesPerGal\": 28.0, \"Horsepower\": 90}, {\"MilesPerGal\": 26.4, \"Horsepower\": 88}, {\"MilesPerGal\": 24.3, \"Horsepower\": 90}, {\"MilesPerGal\": 19.1, \"Horsepower\": 90}, {\"MilesPerGal\": 34.3, \"Horsepower\": 78}, {\"MilesPerGal\": 29.8, \"Horsepower\": 90}, {\"MilesPerGal\": 31.3, \"Horsepower\": 75}, {\"MilesPerGal\": 37.0, \"Horsepower\": 92}, {\"MilesPerGal\": 32.2, \"Horsepower\": 75}, {\"MilesPerGal\": 46.6, \"Horsepower\": 65}, {\"MilesPerGal\": 27.9, \"Horsepower\": 105}, {\"MilesPerGal\": 40.8, \"Horsepower\": 65}, {\"MilesPerGal\": 44.3, \"Horsepower\": 48}, {\"MilesPerGal\": 43.4, \"Horsepower\": 48}, {\"MilesPerGal\": 36.4, \"Horsepower\": 67}, {\"MilesPerGal\": 30.0, \"Horsepower\": 67}, {\"MilesPerGal\": 44.6, \"Horsepower\": 67}, {\"MilesPerGal\": 33.8, \"Horsepower\": 67}, {\"MilesPerGal\": 29.8, \"Horsepower\": 62}, {\"MilesPerGal\": 32.7, \"Horsepower\": 132}, {\"MilesPerGal\": 23.7, \"Horsepower\": 100}, {\"MilesPerGal\": 35.0, \"Horsepower\": 88}, {\"MilesPerGal\": 32.4, \"Horsepower\": 72}, {\"MilesPerGal\": 27.2, \"Horsepower\": 84}, {\"MilesPerGal\": 26.6, \"Horsepower\": 84}, {\"MilesPerGal\": 25.8, \"Horsepower\": 92}, {\"MilesPerGal\": 23.5, \"Horsepower\": 110}, {\"MilesPerGal\": 30.0, \"Horsepower\": 84}, {\"MilesPerGal\": 39.1, \"Horsepower\": 58}, {\"MilesPerGal\": 39.0, \"Horsepower\": 64}, {\"MilesPerGal\": 35.1, \"Horsepower\": 60}, {\"MilesPerGal\": 32.3, \"Horsepower\": 67}, {\"MilesPerGal\": 37.0, \"Horsepower\": 65}, {\"MilesPerGal\": 37.7, \"Horsepower\": 62}, {\"MilesPerGal\": 34.1, \"Horsepower\": 68}, {\"MilesPerGal\": 34.7, \"Horsepower\": 63}, {\"MilesPerGal\": 34.4, \"Horsepower\": 65}, {\"MilesPerGal\": 29.9, \"Horsepower\": 65}, {\"MilesPerGal\": 33.0, \"Horsepower\": 74}, {\"MilesPerGal\": 33.7, \"Horsepower\": 75}, {\"MilesPerGal\": 32.4, \"Horsepower\": 75}, {\"MilesPerGal\": 32.9, \"Horsepower\": 100}, {\"MilesPerGal\": 31.6, \"Horsepower\": 74}, {\"MilesPerGal\": 28.1, \"Horsepower\": 80}, {\"MilesPerGal\": 30.7, \"Horsepower\": 76}, {\"MilesPerGal\": 25.4, \"Horsepower\": 116}, {\"MilesPerGal\": 24.2, \"Horsepower\": 120}, {\"MilesPerGal\": 22.4, \"Horsepower\": 110}, {\"MilesPerGal\": 26.6, \"Horsepower\": 105}, {\"MilesPerGal\": 20.2, \"Horsepower\": 88}, {\"MilesPerGal\": 17.6, \"Horsepower\": 85}, {\"MilesPerGal\": 28.0, \"Horsepower\": 88}, {\"MilesPerGal\": 27.0, \"Horsepower\": 88}, {\"MilesPerGal\": 34.0, \"Horsepower\": 88}, {\"MilesPerGal\": 31.0, \"Horsepower\": 85}, {\"MilesPerGal\": 29.0, \"Horsepower\": 84}, {\"MilesPerGal\": 27.0, \"Horsepower\": 90}, {\"MilesPerGal\": 24.0, \"Horsepower\": 92}, {\"MilesPerGal\": 36.0, \"Horsepower\": 74}, {\"MilesPerGal\": 37.0, \"Horsepower\": 68}, {\"MilesPerGal\": 31.0, \"Horsepower\": 68}, {\"MilesPerGal\": 38.0, \"Horsepower\": 63}, {\"MilesPerGal\": 36.0, \"Horsepower\": 70}, {\"MilesPerGal\": 36.0, \"Horsepower\": 88}, {\"MilesPerGal\": 36.0, \"Horsepower\": 75}, {\"MilesPerGal\": 34.0, \"Horsepower\": 70}, {\"MilesPerGal\": 38.0, \"Horsepower\": 67}, {\"MilesPerGal\": 32.0, \"Horsepower\": 67}, {\"MilesPerGal\": 38.0, \"Horsepower\": 67}, {\"MilesPerGal\": 25.0, \"Horsepower\": 110}, {\"MilesPerGal\": 38.0, \"Horsepower\": 85}, {\"MilesPerGal\": 26.0, \"Horsepower\": 92}, {\"MilesPerGal\": 22.0, \"Horsepower\": 112}, {\"MilesPerGal\": 32.0, \"Horsepower\": 96}, {\"MilesPerGal\": 36.0, \"Horsepower\": 84}, {\"MilesPerGal\": 27.0, \"Horsepower\": 90}, {\"MilesPerGal\": 27.0, \"Horsepower\": 86}, {\"MilesPerGal\": 44.0, \"Horsepower\": 52}, {\"MilesPerGal\": 32.0, \"Horsepower\": 84}, {\"MilesPerGal\": 28.0, \"Horsepower\": 79}, {\"MilesPerGal\": 31.0, \"Horsepower\": 82}]}, \"vislib\": \"vegalite\"}, {\"config\": {\"view\": {\"continuousWidth\": 400, \"continuousHeight\": 300}, \"axis\": {\"labelColor\": \"#505050\", \"labelFont\": \"Helvetica Neue\", \"labelFontSize\": 9, \"labelFontWeight\": 400, \"titleFont\": \"Helvetica Neue\", \"titleFontSize\": 11, \"titleFontWeight\": 500}, \"legend\": {\"labelFont\": \"Helvetica Neue\", \"labelFontSize\": 9, \"labelFontWeight\": 400, \"titleFont\": \"Helvetica Neue\", \"titleFontSize\": 10, \"titleFontWeight\": 500}, \"mark\": {\"tooltip\": {\"content\": \"encoding\"}}, \"title\": {\"font\": \"Helvetica Neue\", \"fontSize\": 13, \"fontWeight\": 500}}, \"data\": {\"name\": \"data-c378346e1f6b80d3c758310fddcd2636\"}, \"mark\": \"circle\", \"encoding\": {\"x\": {\"type\": \"quantitative\", \"axis\": {\"title\": \"Horsepower\"}, \"field\": \"Horsepower\", \"scale\": {\"domain\": [46.0, 230.0]}}, \"y\": {\"type\": \"quantitative\", \"axis\": {\"title\": \"Acceleration\"}, \"field\": \"Acceleration\", \"scale\": {\"domain\": [8.0, 24.8]}}}, \"height\": 300.0, \"selection\": {\"selector007\": {\"type\": \"interval\", \"bind\": \"scales\", \"encodings\": [\"x\", \"y\"]}}, \"width\": 320.0, \"$schema\": \"https://vega.github.io/schema/vega-lite/v4.8.1.json\", \"datasets\": {\"data-c378346e1f6b80d3c758310fddcd2636\": [{\"Acceleration\": 12.0, \"Horsepower\": 130}, {\"Acceleration\": 11.5, \"Horsepower\": 165}, {\"Acceleration\": 11.0, \"Horsepower\": 150}, {\"Acceleration\": 12.0, \"Horsepower\": 150}, {\"Acceleration\": 10.5, \"Horsepower\": 140}, {\"Acceleration\": 10.0, \"Horsepower\": 198}, {\"Acceleration\": 9.0, \"Horsepower\": 220}, {\"Acceleration\": 8.5, \"Horsepower\": 215}, {\"Acceleration\": 10.0, \"Horsepower\": 225}, {\"Acceleration\": 8.5, \"Horsepower\": 190}, {\"Acceleration\": 10.0, \"Horsepower\": 170}, {\"Acceleration\": 8.0, \"Horsepower\": 160}, {\"Acceleration\": 9.5, \"Horsepower\": 150}, {\"Acceleration\": 10.0, \"Horsepower\": 225}, {\"Acceleration\": 15.0, \"Horsepower\": 95}, {\"Acceleration\": 15.5, \"Horsepower\": 95}, {\"Acceleration\": 15.5, \"Horsepower\": 97}, {\"Acceleration\": 16.0, \"Horsepower\": 85}, {\"Acceleration\": 14.5, \"Horsepower\": 88}, {\"Acceleration\": 20.5, \"Horsepower\": 46}, {\"Acceleration\": 17.5, \"Horsepower\": 87}, {\"Acceleration\": 14.5, \"Horsepower\": 90}, {\"Acceleration\": 17.5, \"Horsepower\": 95}, {\"Acceleration\": 12.5, \"Horsepower\": 113}, {\"Acceleration\": 15.0, \"Horsepower\": 90}, {\"Acceleration\": 14.0, \"Horsepower\": 215}, {\"Acceleration\": 15.0, \"Horsepower\": 200}, {\"Acceleration\": 13.5, \"Horsepower\": 210}, {\"Acceleration\": 18.5, \"Horsepower\": 193}, {\"Acceleration\": 14.5, \"Horsepower\": 88}, {\"Acceleration\": 15.5, \"Horsepower\": 90}, {\"Acceleration\": 14.0, \"Horsepower\": 95}, {\"Acceleration\": 13.0, \"Horsepower\": 100}, {\"Acceleration\": 15.5, \"Horsepower\": 105}, {\"Acceleration\": 15.5, \"Horsepower\": 100}, {\"Acceleration\": 15.5, \"Horsepower\": 88}, {\"Acceleration\": 15.5, \"Horsepower\": 100}, {\"Acceleration\": 12.0, \"Horsepower\": 165}, {\"Acceleration\": 11.5, \"Horsepower\": 175}, {\"Acceleration\": 13.5, \"Horsepower\": 153}, {\"Acceleration\": 13.0, \"Horsepower\": 150}, {\"Acceleration\": 11.5, \"Horsepower\": 180}, {\"Acceleration\": 12.0, \"Horsepower\": 170}, {\"Acceleration\": 12.0, \"Horsepower\": 175}, {\"Acceleration\": 13.5, \"Horsepower\": 110}, {\"Acceleration\": 19.0, \"Horsepower\": 72}, {\"Acceleration\": 15.0, \"Horsepower\": 100}, {\"Acceleration\": 14.5, \"Horsepower\": 88}, {\"Acceleration\": 14.0, \"Horsepower\": 86}, {\"Acceleration\": 14.0, \"Horsepower\": 90}, {\"Acceleration\": 19.5, \"Horsepower\": 70}, {\"Acceleration\": 14.5, \"Horsepower\": 76}, {\"Acceleration\": 19.0, \"Horsepower\": 65}, {\"Acceleration\": 18.0, \"Horsepower\": 69}, {\"Acceleration\": 19.0, \"Horsepower\": 60}, {\"Acceleration\": 20.5, \"Horsepower\": 70}, {\"Acceleration\": 15.5, \"Horsepower\": 95}, {\"Acceleration\": 17.0, \"Horsepower\": 80}, {\"Acceleration\": 23.5, \"Horsepower\": 54}, {\"Acceleration\": 19.5, \"Horsepower\": 90}, {\"Acceleration\": 16.5, \"Horsepower\": 86}, {\"Acceleration\": 12.0, \"Horsepower\": 165}, {\"Acceleration\": 12.0, \"Horsepower\": 175}, {\"Acceleration\": 13.5, \"Horsepower\": 150}, {\"Acceleration\": 13.0, \"Horsepower\": 153}, {\"Acceleration\": 11.5, \"Horsepower\": 150}, {\"Acceleration\": 11.0, \"Horsepower\": 208}, {\"Acceleration\": 13.5, \"Horsepower\": 155}, {\"Acceleration\": 13.5, \"Horsepower\": 160}, {\"Acceleration\": 12.5, \"Horsepower\": 190}, {\"Acceleration\": 13.5, \"Horsepower\": 97}, {\"Acceleration\": 12.5, \"Horsepower\": 150}, {\"Acceleration\": 14.0, \"Horsepower\": 130}, {\"Acceleration\": 16.0, \"Horsepower\": 140}, {\"Acceleration\": 14.0, \"Horsepower\": 150}, {\"Acceleration\": 14.5, \"Horsepower\": 112}, {\"Acceleration\": 18.0, \"Horsepower\": 76}, {\"Acceleration\": 19.5, \"Horsepower\": 87}, {\"Acceleration\": 18.0, \"Horsepower\": 69}, {\"Acceleration\": 16.0, \"Horsepower\": 86}, {\"Acceleration\": 17.0, \"Horsepower\": 92}, {\"Acceleration\": 14.5, \"Horsepower\": 97}, {\"Acceleration\": 15.0, \"Horsepower\": 80}, {\"Acceleration\": 16.5, \"Horsepower\": 88}, {\"Acceleration\": 13.0, \"Horsepower\": 175}, {\"Acceleration\": 11.5, \"Horsepower\": 150}, {\"Acceleration\": 13.0, \"Horsepower\": 145}, {\"Acceleration\": 14.5, \"Horsepower\": 137}, {\"Acceleration\": 12.5, \"Horsepower\": 150}, {\"Acceleration\": 11.5, \"Horsepower\": 198}, {\"Acceleration\": 12.0, \"Horsepower\": 150}, {\"Acceleration\": 13.0, \"Horsepower\": 158}, {\"Acceleration\": 14.5, \"Horsepower\": 150}, {\"Acceleration\": 11.0, \"Horsepower\": 215}, {\"Acceleration\": 11.0, \"Horsepower\": 225}, {\"Acceleration\": 11.0, \"Horsepower\": 175}, {\"Acceleration\": 16.5, \"Horsepower\": 105}, {\"Acceleration\": 18.0, \"Horsepower\": 100}, {\"Acceleration\": 16.0, \"Horsepower\": 100}, {\"Acceleration\": 16.5, \"Horsepower\": 88}, {\"Acceleration\": 16.0, \"Horsepower\": 95}, {\"Acceleration\": 21.0, \"Horsepower\": 46}, {\"Acceleration\": 14.0, \"Horsepower\": 150}, {\"Acceleration\": 12.5, \"Horsepower\": 167}, {\"Acceleration\": 13.0, \"Horsepower\": 170}, {\"Acceleration\": 12.5, \"Horsepower\": 180}, {\"Acceleration\": 15.0, \"Horsepower\": 100}, {\"Acceleration\": 19.0, \"Horsepower\": 88}, {\"Acceleration\": 19.5, \"Horsepower\": 72}, {\"Acceleration\": 16.5, \"Horsepower\": 94}, {\"Acceleration\": 13.5, \"Horsepower\": 90}, {\"Acceleration\": 18.5, \"Horsepower\": 85}, {\"Acceleration\": 14.0, \"Horsepower\": 107}, {\"Acceleration\": 15.5, \"Horsepower\": 90}, {\"Acceleration\": 13.0, \"Horsepower\": 145}, {\"Acceleration\": 9.5, \"Horsepower\": 230}, {\"Acceleration\": 19.5, \"Horsepower\": 49}, {\"Acceleration\": 15.5, \"Horsepower\": 75}, {\"Acceleration\": 14.0, \"Horsepower\": 91}, {\"Acceleration\": 15.5, \"Horsepower\": 112}, {\"Acceleration\": 11.0, \"Horsepower\": 150}, {\"Acceleration\": 14.0, \"Horsepower\": 110}, {\"Acceleration\": 13.5, \"Horsepower\": 122}, {\"Acceleration\": 11.0, \"Horsepower\": 180}, {\"Acceleration\": 16.5, \"Horsepower\": 95}, {\"Acceleration\": 16.0, \"Horsepower\": 100}, {\"Acceleration\": 17.0, \"Horsepower\": 100}, {\"Acceleration\": 19.0, \"Horsepower\": 67}, {\"Acceleration\": 16.5, \"Horsepower\": 80}, {\"Acceleration\": 21.0, \"Horsepower\": 65}, {\"Acceleration\": 17.0, \"Horsepower\": 75}, {\"Acceleration\": 17.0, \"Horsepower\": 100}, {\"Acceleration\": 18.0, \"Horsepower\": 110}, {\"Acceleration\": 16.5, \"Horsepower\": 105}, {\"Acceleration\": 14.0, \"Horsepower\": 140}, {\"Acceleration\": 14.5, \"Horsepower\": 150}, {\"Acceleration\": 13.5, \"Horsepower\": 150}, {\"Acceleration\": 16.0, \"Horsepower\": 140}, {\"Acceleration\": 15.5, \"Horsepower\": 150}, {\"Acceleration\": 16.5, \"Horsepower\": 83}, {\"Acceleration\": 15.5, \"Horsepower\": 67}, {\"Acceleration\": 14.5, \"Horsepower\": 78}, {\"Acceleration\": 16.5, \"Horsepower\": 52}, {\"Acceleration\": 19.0, \"Horsepower\": 61}, {\"Acceleration\": 14.5, \"Horsepower\": 75}, {\"Acceleration\": 15.5, \"Horsepower\": 75}, {\"Acceleration\": 14.0, \"Horsepower\": 75}, {\"Acceleration\": 15.0, \"Horsepower\": 97}, {\"Acceleration\": 15.5, \"Horsepower\": 93}, {\"Acceleration\": 16.0, \"Horsepower\": 67}, {\"Acceleration\": 16.0, \"Horsepower\": 95}, {\"Acceleration\": 16.0, \"Horsepower\": 105}, {\"Acceleration\": 21.0, \"Horsepower\": 72}, {\"Acceleration\": 19.5, \"Horsepower\": 72}, {\"Acceleration\": 11.5, \"Horsepower\": 170}, {\"Acceleration\": 14.0, \"Horsepower\": 145}, {\"Acceleration\": 14.5, \"Horsepower\": 150}, {\"Acceleration\": 13.5, \"Horsepower\": 148}, {\"Acceleration\": 21.0, \"Horsepower\": 110}, {\"Acceleration\": 18.5, \"Horsepower\": 105}, {\"Acceleration\": 19.0, \"Horsepower\": 110}, {\"Acceleration\": 19.0, \"Horsepower\": 95}, {\"Acceleration\": 15.0, \"Horsepower\": 110}, {\"Acceleration\": 13.5, \"Horsepower\": 110}, {\"Acceleration\": 12.0, \"Horsepower\": 129}, {\"Acceleration\": 16.0, \"Horsepower\": 75}, {\"Acceleration\": 17.0, \"Horsepower\": 83}, {\"Acceleration\": 16.0, \"Horsepower\": 100}, {\"Acceleration\": 18.5, \"Horsepower\": 78}, {\"Acceleration\": 13.5, \"Horsepower\": 96}, {\"Acceleration\": 16.5, \"Horsepower\": 71}, {\"Acceleration\": 17.0, \"Horsepower\": 97}, {\"Acceleration\": 14.5, \"Horsepower\": 97}, {\"Acceleration\": 14.0, \"Horsepower\": 70}, {\"Acceleration\": 17.0, \"Horsepower\": 90}, {\"Acceleration\": 15.0, \"Horsepower\": 95}, {\"Acceleration\": 17.0, \"Horsepower\": 88}, {\"Acceleration\": 14.5, \"Horsepower\": 98}, {\"Acceleration\": 13.5, \"Horsepower\": 115}, {\"Acceleration\": 17.5, \"Horsepower\": 53}, {\"Acceleration\": 15.5, \"Horsepower\": 86}, {\"Acceleration\": 16.9, \"Horsepower\": 81}, {\"Acceleration\": 14.9, \"Horsepower\": 92}, {\"Acceleration\": 17.7, \"Horsepower\": 79}, {\"Acceleration\": 15.3, \"Horsepower\": 83}, {\"Acceleration\": 13.0, \"Horsepower\": 140}, {\"Acceleration\": 13.0, \"Horsepower\": 150}, {\"Acceleration\": 13.9, \"Horsepower\": 120}, {\"Acceleration\": 12.8, \"Horsepower\": 152}, {\"Acceleration\": 15.4, \"Horsepower\": 100}, {\"Acceleration\": 14.5, \"Horsepower\": 105}, {\"Acceleration\": 17.6, \"Horsepower\": 81}, {\"Acceleration\": 17.6, \"Horsepower\": 90}, {\"Acceleration\": 22.2, \"Horsepower\": 52}, {\"Acceleration\": 22.1, \"Horsepower\": 60}, {\"Acceleration\": 14.2, \"Horsepower\": 70}, {\"Acceleration\": 17.4, \"Horsepower\": 53}, {\"Acceleration\": 17.7, \"Horsepower\": 100}, {\"Acceleration\": 21.0, \"Horsepower\": 78}, {\"Acceleration\": 16.2, \"Horsepower\": 110}, {\"Acceleration\": 17.8, \"Horsepower\": 95}, {\"Acceleration\": 12.2, \"Horsepower\": 71}, {\"Acceleration\": 17.0, \"Horsepower\": 70}, {\"Acceleration\": 16.4, \"Horsepower\": 75}, {\"Acceleration\": 13.6, \"Horsepower\": 72}, {\"Acceleration\": 15.7, \"Horsepower\": 102}, {\"Acceleration\": 13.2, \"Horsepower\": 150}, {\"Acceleration\": 21.9, \"Horsepower\": 88}, {\"Acceleration\": 15.5, \"Horsepower\": 108}, {\"Acceleration\": 16.7, \"Horsepower\": 120}, {\"Acceleration\": 12.1, \"Horsepower\": 180}, {\"Acceleration\": 12.0, \"Horsepower\": 145}, {\"Acceleration\": 15.0, \"Horsepower\": 130}, {\"Acceleration\": 14.0, \"Horsepower\": 150}, {\"Acceleration\": 18.5, \"Horsepower\": 68}, {\"Acceleration\": 14.8, \"Horsepower\": 80}, {\"Acceleration\": 18.6, \"Horsepower\": 58}, {\"Acceleration\": 15.5, \"Horsepower\": 96}, {\"Acceleration\": 16.8, \"Horsepower\": 70}, {\"Acceleration\": 12.5, \"Horsepower\": 145}, {\"Acceleration\": 19.0, \"Horsepower\": 110}, {\"Acceleration\": 13.7, \"Horsepower\": 145}, {\"Acceleration\": 14.9, \"Horsepower\": 130}, {\"Acceleration\": 16.4, \"Horsepower\": 110}, {\"Acceleration\": 16.9, \"Horsepower\": 105}, {\"Acceleration\": 17.7, \"Horsepower\": 100}, {\"Acceleration\": 19.0, \"Horsepower\": 98}, {\"Acceleration\": 11.1, \"Horsepower\": 180}, {\"Acceleration\": 11.4, \"Horsepower\": 170}, {\"Acceleration\": 12.2, \"Horsepower\": 190}, {\"Acceleration\": 14.5, \"Horsepower\": 149}, {\"Acceleration\": 14.5, \"Horsepower\": 78}, {\"Acceleration\": 16.0, \"Horsepower\": 88}, {\"Acceleration\": 18.2, \"Horsepower\": 75}, {\"Acceleration\": 15.8, \"Horsepower\": 89}, {\"Acceleration\": 17.0, \"Horsepower\": 63}, {\"Acceleration\": 15.9, \"Horsepower\": 83}, {\"Acceleration\": 16.4, \"Horsepower\": 67}, {\"Acceleration\": 14.1, \"Horsepower\": 78}, {\"Acceleration\": 14.5, \"Horsepower\": 97}, {\"Acceleration\": 12.8, \"Horsepower\": 110}, {\"Acceleration\": 13.5, \"Horsepower\": 110}, {\"Acceleration\": 21.5, \"Horsepower\": 48}, {\"Acceleration\": 14.4, \"Horsepower\": 66}, {\"Acceleration\": 19.4, \"Horsepower\": 52}, {\"Acceleration\": 18.6, \"Horsepower\": 70}, {\"Acceleration\": 16.4, \"Horsepower\": 60}, {\"Acceleration\": 15.5, \"Horsepower\": 110}, {\"Acceleration\": 13.2, \"Horsepower\": 140}, {\"Acceleration\": 12.8, \"Horsepower\": 139}, {\"Acceleration\": 19.2, \"Horsepower\": 105}, {\"Acceleration\": 18.2, \"Horsepower\": 95}, {\"Acceleration\": 15.8, \"Horsepower\": 85}, {\"Acceleration\": 15.4, \"Horsepower\": 88}, {\"Acceleration\": 17.2, \"Horsepower\": 100}, {\"Acceleration\": 17.2, \"Horsepower\": 90}, {\"Acceleration\": 15.8, \"Horsepower\": 105}, {\"Acceleration\": 16.7, \"Horsepower\": 85}, {\"Acceleration\": 18.7, \"Horsepower\": 110}, {\"Acceleration\": 15.1, \"Horsepower\": 120}, {\"Acceleration\": 13.2, \"Horsepower\": 145}, {\"Acceleration\": 13.4, \"Horsepower\": 165}, {\"Acceleration\": 11.2, \"Horsepower\": 139}, {\"Acceleration\": 13.7, \"Horsepower\": 140}, {\"Acceleration\": 16.5, \"Horsepower\": 68}, {\"Acceleration\": 14.2, \"Horsepower\": 95}, {\"Acceleration\": 14.7, \"Horsepower\": 97}, {\"Acceleration\": 14.5, \"Horsepower\": 75}, {\"Acceleration\": 14.8, \"Horsepower\": 95}, {\"Acceleration\": 16.7, \"Horsepower\": 105}, {\"Acceleration\": 17.6, \"Horsepower\": 85}, {\"Acceleration\": 14.9, \"Horsepower\": 97}, {\"Acceleration\": 15.9, \"Horsepower\": 103}, {\"Acceleration\": 13.6, \"Horsepower\": 125}, {\"Acceleration\": 15.7, \"Horsepower\": 115}, {\"Acceleration\": 15.8, \"Horsepower\": 133}, {\"Acceleration\": 14.9, \"Horsepower\": 71}, {\"Acceleration\": 16.6, \"Horsepower\": 68}, {\"Acceleration\": 15.4, \"Horsepower\": 115}, {\"Acceleration\": 18.2, \"Horsepower\": 85}, {\"Acceleration\": 17.3, \"Horsepower\": 88}, {\"Acceleration\": 18.2, \"Horsepower\": 90}, {\"Acceleration\": 16.6, \"Horsepower\": 110}, {\"Acceleration\": 15.4, \"Horsepower\": 130}, {\"Acceleration\": 13.4, \"Horsepower\": 129}, {\"Acceleration\": 13.2, \"Horsepower\": 138}, {\"Acceleration\": 15.2, \"Horsepower\": 135}, {\"Acceleration\": 14.9, \"Horsepower\": 155}, {\"Acceleration\": 14.3, \"Horsepower\": 142}, {\"Acceleration\": 15.0, \"Horsepower\": 125}, {\"Acceleration\": 13.0, \"Horsepower\": 150}, {\"Acceleration\": 14.0, \"Horsepower\": 71}, {\"Acceleration\": 15.2, \"Horsepower\": 65}, {\"Acceleration\": 14.4, \"Horsepower\": 80}, {\"Acceleration\": 15.0, \"Horsepower\": 80}, {\"Acceleration\": 20.1, \"Horsepower\": 77}, {\"Acceleration\": 17.4, \"Horsepower\": 125}, {\"Acceleration\": 24.8, \"Horsepower\": 71}, {\"Acceleration\": 22.2, \"Horsepower\": 90}, {\"Acceleration\": 13.2, \"Horsepower\": 70}, {\"Acceleration\": 14.9, \"Horsepower\": 70}, {\"Acceleration\": 19.2, \"Horsepower\": 65}, {\"Acceleration\": 14.7, \"Horsepower\": 69}, {\"Acceleration\": 16.0, \"Horsepower\": 90}, {\"Acceleration\": 11.3, \"Horsepower\": 115}, {\"Acceleration\": 12.9, \"Horsepower\": 115}, {\"Acceleration\": 13.2, \"Horsepower\": 90}, {\"Acceleration\": 14.7, \"Horsepower\": 76}, {\"Acceleration\": 18.8, \"Horsepower\": 60}, {\"Acceleration\": 15.5, \"Horsepower\": 70}, {\"Acceleration\": 16.4, \"Horsepower\": 65}, {\"Acceleration\": 16.5, \"Horsepower\": 90}, {\"Acceleration\": 18.1, \"Horsepower\": 88}, {\"Acceleration\": 20.1, \"Horsepower\": 90}, {\"Acceleration\": 18.7, \"Horsepower\": 90}, {\"Acceleration\": 15.8, \"Horsepower\": 78}, {\"Acceleration\": 15.5, \"Horsepower\": 90}, {\"Acceleration\": 17.5, \"Horsepower\": 75}, {\"Acceleration\": 15.0, \"Horsepower\": 92}, {\"Acceleration\": 15.2, \"Horsepower\": 75}, {\"Acceleration\": 17.9, \"Horsepower\": 65}, {\"Acceleration\": 14.4, \"Horsepower\": 105}, {\"Acceleration\": 19.2, \"Horsepower\": 65}, {\"Acceleration\": 21.7, \"Horsepower\": 48}, {\"Acceleration\": 23.7, \"Horsepower\": 48}, {\"Acceleration\": 19.9, \"Horsepower\": 67}, {\"Acceleration\": 21.8, \"Horsepower\": 67}, {\"Acceleration\": 13.8, \"Horsepower\": 67}, {\"Acceleration\": 18.0, \"Horsepower\": 67}, {\"Acceleration\": 15.3, \"Horsepower\": 62}, {\"Acceleration\": 11.4, \"Horsepower\": 132}, {\"Acceleration\": 12.5, \"Horsepower\": 100}, {\"Acceleration\": 15.1, \"Horsepower\": 88}, {\"Acceleration\": 17.0, \"Horsepower\": 72}, {\"Acceleration\": 15.7, \"Horsepower\": 84}, {\"Acceleration\": 16.4, \"Horsepower\": 84}, {\"Acceleration\": 14.4, \"Horsepower\": 92}, {\"Acceleration\": 12.6, \"Horsepower\": 110}, {\"Acceleration\": 12.9, \"Horsepower\": 84}, {\"Acceleration\": 16.9, \"Horsepower\": 58}, {\"Acceleration\": 16.4, \"Horsepower\": 64}, {\"Acceleration\": 16.1, \"Horsepower\": 60}, {\"Acceleration\": 17.8, \"Horsepower\": 67}, {\"Acceleration\": 19.4, \"Horsepower\": 65}, {\"Acceleration\": 17.3, \"Horsepower\": 62}, {\"Acceleration\": 16.0, \"Horsepower\": 68}, {\"Acceleration\": 14.9, \"Horsepower\": 63}, {\"Acceleration\": 16.2, \"Horsepower\": 65}, {\"Acceleration\": 20.7, \"Horsepower\": 65}, {\"Acceleration\": 14.2, \"Horsepower\": 74}, {\"Acceleration\": 14.4, \"Horsepower\": 75}, {\"Acceleration\": 16.8, \"Horsepower\": 75}, {\"Acceleration\": 14.8, \"Horsepower\": 100}, {\"Acceleration\": 18.3, \"Horsepower\": 74}, {\"Acceleration\": 20.4, \"Horsepower\": 80}, {\"Acceleration\": 19.6, \"Horsepower\": 76}, {\"Acceleration\": 12.6, \"Horsepower\": 116}, {\"Acceleration\": 13.8, \"Horsepower\": 120}, {\"Acceleration\": 15.8, \"Horsepower\": 110}, {\"Acceleration\": 19.0, \"Horsepower\": 105}, {\"Acceleration\": 17.1, \"Horsepower\": 88}, {\"Acceleration\": 16.6, \"Horsepower\": 85}, {\"Acceleration\": 19.6, \"Horsepower\": 88}, {\"Acceleration\": 18.6, \"Horsepower\": 88}, {\"Acceleration\": 18.0, \"Horsepower\": 88}, {\"Acceleration\": 16.2, \"Horsepower\": 85}, {\"Acceleration\": 16.0, \"Horsepower\": 84}, {\"Acceleration\": 18.0, \"Horsepower\": 90}, {\"Acceleration\": 16.4, \"Horsepower\": 92}, {\"Acceleration\": 15.3, \"Horsepower\": 74}, {\"Acceleration\": 18.2, \"Horsepower\": 68}, {\"Acceleration\": 17.6, \"Horsepower\": 68}, {\"Acceleration\": 14.7, \"Horsepower\": 63}, {\"Acceleration\": 17.3, \"Horsepower\": 70}, {\"Acceleration\": 14.5, \"Horsepower\": 88}, {\"Acceleration\": 14.5, \"Horsepower\": 75}, {\"Acceleration\": 16.9, \"Horsepower\": 70}, {\"Acceleration\": 15.0, \"Horsepower\": 67}, {\"Acceleration\": 15.7, \"Horsepower\": 67}, {\"Acceleration\": 16.2, \"Horsepower\": 67}, {\"Acceleration\": 16.4, \"Horsepower\": 110}, {\"Acceleration\": 17.0, \"Horsepower\": 85}, {\"Acceleration\": 14.5, \"Horsepower\": 92}, {\"Acceleration\": 14.7, \"Horsepower\": 112}, {\"Acceleration\": 13.9, \"Horsepower\": 96}, {\"Acceleration\": 13.0, \"Horsepower\": 84}, {\"Acceleration\": 17.3, \"Horsepower\": 90}, {\"Acceleration\": 15.6, \"Horsepower\": 86}, {\"Acceleration\": 24.6, \"Horsepower\": 52}, {\"Acceleration\": 11.6, \"Horsepower\": 84}, {\"Acceleration\": 18.6, \"Horsepower\": 79}, {\"Acceleration\": 19.4, \"Horsepower\": 82}]}, \"vislib\": \"vegalite\"}, {\"config\": {\"view\": {\"continuousWidth\": 400, \"continuousHeight\": 300}, \"axis\": {\"labelColor\": \"#505050\", \"labelFont\": \"Helvetica Neue\", \"labelFontSize\": 9, \"labelFontWeight\": 400, \"titleFont\": \"Helvetica Neue\", \"titleFontSize\": 11, \"titleFontWeight\": 500}, \"legend\": {\"labelFont\": \"Helvetica Neue\", \"labelFontSize\": 9, \"labelFontWeight\": 400, \"titleFont\": \"Helvetica Neue\", \"titleFontSize\": 10, \"titleFontWeight\": 500}, \"mark\": {\"tooltip\": {\"content\": \"encoding\"}}, \"title\": {\"font\": \"Helvetica Neue\", \"fontSize\": 13, \"fontWeight\": 500}}, \"data\": {\"name\": \"data-0a5195a2bffca3be736cf60932ddcf93\"}, \"mark\": \"circle\", \"encoding\": {\"x\": {\"type\": \"quantitative\", \"axis\": {\"title\": \"Displacement\"}, \"field\": \"Displacement\", \"scale\": {\"domain\": [68.0, 455.0]}}, \"y\": {\"type\": \"quantitative\", \"axis\": {\"title\": \"Acceleration\"}, \"field\": \"Acceleration\", \"scale\": {\"domain\": [8.0, 24.8]}}}, \"height\": 300.0, \"selection\": {\"selector008\": {\"type\": \"interval\", \"bind\": \"scales\", \"encodings\": [\"x\", \"y\"]}}, \"width\": 320.0, \"$schema\": \"https://vega.github.io/schema/vega-lite/v4.8.1.json\", \"datasets\": {\"data-0a5195a2bffca3be736cf60932ddcf93\": [{\"Acceleration\": 12.0, \"Displacement\": 307.0}, {\"Acceleration\": 11.5, \"Displacement\": 350.0}, {\"Acceleration\": 11.0, \"Displacement\": 318.0}, {\"Acceleration\": 12.0, \"Displacement\": 304.0}, {\"Acceleration\": 10.5, \"Displacement\": 302.0}, {\"Acceleration\": 10.0, \"Displacement\": 429.0}, {\"Acceleration\": 9.0, \"Displacement\": 454.0}, {\"Acceleration\": 8.5, \"Displacement\": 440.0}, {\"Acceleration\": 10.0, \"Displacement\": 455.0}, {\"Acceleration\": 8.5, \"Displacement\": 390.0}, {\"Acceleration\": 10.0, \"Displacement\": 383.0}, {\"Acceleration\": 8.0, \"Displacement\": 340.0}, {\"Acceleration\": 9.5, \"Displacement\": 400.0}, {\"Acceleration\": 10.0, \"Displacement\": 455.0}, {\"Acceleration\": 15.0, \"Displacement\": 113.0}, {\"Acceleration\": 15.5, \"Displacement\": 198.0}, {\"Acceleration\": 15.5, \"Displacement\": 199.0}, {\"Acceleration\": 16.0, \"Displacement\": 200.0}, {\"Acceleration\": 14.5, \"Displacement\": 97.0}, {\"Acceleration\": 20.5, \"Displacement\": 97.0}, {\"Acceleration\": 17.5, \"Displacement\": 110.0}, {\"Acceleration\": 14.5, \"Displacement\": 107.0}, {\"Acceleration\": 17.5, \"Displacement\": 104.0}, {\"Acceleration\": 12.5, \"Displacement\": 121.0}, {\"Acceleration\": 15.0, \"Displacement\": 199.0}, {\"Acceleration\": 14.0, \"Displacement\": 360.0}, {\"Acceleration\": 15.0, \"Displacement\": 307.0}, {\"Acceleration\": 13.5, \"Displacement\": 318.0}, {\"Acceleration\": 18.5, \"Displacement\": 304.0}, {\"Acceleration\": 14.5, \"Displacement\": 97.0}, {\"Acceleration\": 15.5, \"Displacement\": 140.0}, {\"Acceleration\": 14.0, \"Displacement\": 113.0}, {\"Acceleration\": 13.0, \"Displacement\": 232.0}, {\"Acceleration\": 15.5, \"Displacement\": 225.0}, {\"Acceleration\": 15.5, \"Displacement\": 250.0}, {\"Acceleration\": 15.5, \"Displacement\": 250.0}, {\"Acceleration\": 15.5, \"Displacement\": 232.0}, {\"Acceleration\": 12.0, \"Displacement\": 350.0}, {\"Acceleration\": 11.5, \"Displacement\": 400.0}, {\"Acceleration\": 13.5, \"Displacement\": 351.0}, {\"Acceleration\": 13.0, \"Displacement\": 318.0}, {\"Acceleration\": 11.5, \"Displacement\": 383.0}, {\"Acceleration\": 12.0, \"Displacement\": 400.0}, {\"Acceleration\": 12.0, \"Displacement\": 400.0}, {\"Acceleration\": 13.5, \"Displacement\": 258.0}, {\"Acceleration\": 19.0, \"Displacement\": 140.0}, {\"Acceleration\": 15.0, \"Displacement\": 250.0}, {\"Acceleration\": 14.5, \"Displacement\": 250.0}, {\"Acceleration\": 14.0, \"Displacement\": 122.0}, {\"Acceleration\": 14.0, \"Displacement\": 116.0}, {\"Acceleration\": 19.5, \"Displacement\": 79.0}, {\"Acceleration\": 14.5, \"Displacement\": 88.0}, {\"Acceleration\": 19.0, \"Displacement\": 71.0}, {\"Acceleration\": 18.0, \"Displacement\": 72.0}, {\"Acceleration\": 19.0, \"Displacement\": 97.0}, {\"Acceleration\": 20.5, \"Displacement\": 91.0}, {\"Acceleration\": 15.5, \"Displacement\": 113.0}, {\"Acceleration\": 17.0, \"Displacement\": 97.5}, {\"Acceleration\": 23.5, \"Displacement\": 97.0}, {\"Acceleration\": 19.5, \"Displacement\": 140.0}, {\"Acceleration\": 16.5, \"Displacement\": 122.0}, {\"Acceleration\": 12.0, \"Displacement\": 350.0}, {\"Acceleration\": 12.0, \"Displacement\": 400.0}, {\"Acceleration\": 13.5, \"Displacement\": 318.0}, {\"Acceleration\": 13.0, \"Displacement\": 351.0}, {\"Acceleration\": 11.5, \"Displacement\": 304.0}, {\"Acceleration\": 11.0, \"Displacement\": 429.0}, {\"Acceleration\": 13.5, \"Displacement\": 350.0}, {\"Acceleration\": 13.5, \"Displacement\": 350.0}, {\"Acceleration\": 12.5, \"Displacement\": 400.0}, {\"Acceleration\": 13.5, \"Displacement\": 70.0}, {\"Acceleration\": 12.5, \"Displacement\": 304.0}, {\"Acceleration\": 14.0, \"Displacement\": 307.0}, {\"Acceleration\": 16.0, \"Displacement\": 302.0}, {\"Acceleration\": 14.0, \"Displacement\": 318.0}, {\"Acceleration\": 14.5, \"Displacement\": 121.0}, {\"Acceleration\": 18.0, \"Displacement\": 121.0}, {\"Acceleration\": 19.5, \"Displacement\": 120.0}, {\"Acceleration\": 18.0, \"Displacement\": 96.0}, {\"Acceleration\": 16.0, \"Displacement\": 122.0}, {\"Acceleration\": 17.0, \"Displacement\": 97.0}, {\"Acceleration\": 14.5, \"Displacement\": 120.0}, {\"Acceleration\": 15.0, \"Displacement\": 98.0}, {\"Acceleration\": 16.5, \"Displacement\": 97.0}, {\"Acceleration\": 13.0, \"Displacement\": 350.0}, {\"Acceleration\": 11.5, \"Displacement\": 304.0}, {\"Acceleration\": 13.0, \"Displacement\": 350.0}, {\"Acceleration\": 14.5, \"Displacement\": 302.0}, {\"Acceleration\": 12.5, \"Displacement\": 318.0}, {\"Acceleration\": 11.5, \"Displacement\": 429.0}, {\"Acceleration\": 12.0, \"Displacement\": 400.0}, {\"Acceleration\": 13.0, \"Displacement\": 351.0}, {\"Acceleration\": 14.5, \"Displacement\": 318.0}, {\"Acceleration\": 11.0, \"Displacement\": 440.0}, {\"Acceleration\": 11.0, \"Displacement\": 455.0}, {\"Acceleration\": 11.0, \"Displacement\": 360.0}, {\"Acceleration\": 16.5, \"Displacement\": 225.0}, {\"Acceleration\": 18.0, \"Displacement\": 250.0}, {\"Acceleration\": 16.0, \"Displacement\": 232.0}, {\"Acceleration\": 16.5, \"Displacement\": 250.0}, {\"Acceleration\": 16.0, \"Displacement\": 198.0}, {\"Acceleration\": 21.0, \"Displacement\": 97.0}, {\"Acceleration\": 14.0, \"Displacement\": 400.0}, {\"Acceleration\": 12.5, \"Displacement\": 400.0}, {\"Acceleration\": 13.0, \"Displacement\": 360.0}, {\"Acceleration\": 12.5, \"Displacement\": 350.0}, {\"Acceleration\": 15.0, \"Displacement\": 232.0}, {\"Acceleration\": 19.0, \"Displacement\": 97.0}, {\"Acceleration\": 19.5, \"Displacement\": 140.0}, {\"Acceleration\": 16.5, \"Displacement\": 108.0}, {\"Acceleration\": 13.5, \"Displacement\": 70.0}, {\"Acceleration\": 18.5, \"Displacement\": 122.0}, {\"Acceleration\": 14.0, \"Displacement\": 155.0}, {\"Acceleration\": 15.5, \"Displacement\": 98.0}, {\"Acceleration\": 13.0, \"Displacement\": 350.0}, {\"Acceleration\": 9.5, \"Displacement\": 400.0}, {\"Acceleration\": 19.5, \"Displacement\": 68.0}, {\"Acceleration\": 15.5, \"Displacement\": 116.0}, {\"Acceleration\": 14.0, \"Displacement\": 114.0}, {\"Acceleration\": 15.5, \"Displacement\": 121.0}, {\"Acceleration\": 11.0, \"Displacement\": 318.0}, {\"Acceleration\": 14.0, \"Displacement\": 121.0}, {\"Acceleration\": 13.5, \"Displacement\": 156.0}, {\"Acceleration\": 11.0, \"Displacement\": 350.0}, {\"Acceleration\": 16.5, \"Displacement\": 198.0}, {\"Acceleration\": 16.0, \"Displacement\": 232.0}, {\"Acceleration\": 17.0, \"Displacement\": 250.0}, {\"Acceleration\": 19.0, \"Displacement\": 79.0}, {\"Acceleration\": 16.5, \"Displacement\": 122.0}, {\"Acceleration\": 21.0, \"Displacement\": 71.0}, {\"Acceleration\": 17.0, \"Displacement\": 140.0}, {\"Acceleration\": 17.0, \"Displacement\": 250.0}, {\"Acceleration\": 18.0, \"Displacement\": 258.0}, {\"Acceleration\": 16.5, \"Displacement\": 225.0}, {\"Acceleration\": 14.0, \"Displacement\": 302.0}, {\"Acceleration\": 14.5, \"Displacement\": 350.0}, {\"Acceleration\": 13.5, \"Displacement\": 318.0}, {\"Acceleration\": 16.0, \"Displacement\": 302.0}, {\"Acceleration\": 15.5, \"Displacement\": 304.0}, {\"Acceleration\": 16.5, \"Displacement\": 98.0}, {\"Acceleration\": 15.5, \"Displacement\": 79.0}, {\"Acceleration\": 14.5, \"Displacement\": 97.0}, {\"Acceleration\": 16.5, \"Displacement\": 76.0}, {\"Acceleration\": 19.0, \"Displacement\": 83.0}, {\"Acceleration\": 14.5, \"Displacement\": 90.0}, {\"Acceleration\": 15.5, \"Displacement\": 90.0}, {\"Acceleration\": 14.0, \"Displacement\": 116.0}, {\"Acceleration\": 15.0, \"Displacement\": 120.0}, {\"Acceleration\": 15.5, \"Displacement\": 108.0}, {\"Acceleration\": 16.0, \"Displacement\": 79.0}, {\"Acceleration\": 16.0, \"Displacement\": 225.0}, {\"Acceleration\": 16.0, \"Displacement\": 250.0}, {\"Acceleration\": 21.0, \"Displacement\": 250.0}, {\"Acceleration\": 19.5, \"Displacement\": 250.0}, {\"Acceleration\": 11.5, \"Displacement\": 400.0}, {\"Acceleration\": 14.0, \"Displacement\": 350.0}, {\"Acceleration\": 14.5, \"Displacement\": 318.0}, {\"Acceleration\": 13.5, \"Displacement\": 351.0}, {\"Acceleration\": 21.0, \"Displacement\": 231.0}, {\"Acceleration\": 18.5, \"Displacement\": 250.0}, {\"Acceleration\": 19.0, \"Displacement\": 258.0}, {\"Acceleration\": 19.0, \"Displacement\": 225.0}, {\"Acceleration\": 15.0, \"Displacement\": 231.0}, {\"Acceleration\": 13.5, \"Displacement\": 262.0}, {\"Acceleration\": 12.0, \"Displacement\": 302.0}, {\"Acceleration\": 16.0, \"Displacement\": 97.0}, {\"Acceleration\": 17.0, \"Displacement\": 140.0}, {\"Acceleration\": 16.0, \"Displacement\": 232.0}, {\"Acceleration\": 18.5, \"Displacement\": 140.0}, {\"Acceleration\": 13.5, \"Displacement\": 134.0}, {\"Acceleration\": 16.5, \"Displacement\": 90.0}, {\"Acceleration\": 17.0, \"Displacement\": 119.0}, {\"Acceleration\": 14.5, \"Displacement\": 171.0}, {\"Acceleration\": 14.0, \"Displacement\": 90.0}, {\"Acceleration\": 17.0, \"Displacement\": 232.0}, {\"Acceleration\": 15.0, \"Displacement\": 115.0}, {\"Acceleration\": 17.0, \"Displacement\": 120.0}, {\"Acceleration\": 14.5, \"Displacement\": 121.0}, {\"Acceleration\": 13.5, \"Displacement\": 121.0}, {\"Acceleration\": 17.5, \"Displacement\": 91.0}, {\"Acceleration\": 15.5, \"Displacement\": 107.0}, {\"Acceleration\": 16.9, \"Displacement\": 116.0}, {\"Acceleration\": 14.9, \"Displacement\": 140.0}, {\"Acceleration\": 17.7, \"Displacement\": 98.0}, {\"Acceleration\": 15.3, \"Displacement\": 101.0}, {\"Acceleration\": 13.0, \"Displacement\": 305.0}, {\"Acceleration\": 13.0, \"Displacement\": 318.0}, {\"Acceleration\": 13.9, \"Displacement\": 304.0}, {\"Acceleration\": 12.8, \"Displacement\": 351.0}, {\"Acceleration\": 15.4, \"Displacement\": 225.0}, {\"Acceleration\": 14.5, \"Displacement\": 250.0}, {\"Acceleration\": 17.6, \"Displacement\": 200.0}, {\"Acceleration\": 17.6, \"Displacement\": 232.0}, {\"Acceleration\": 22.2, \"Displacement\": 85.0}, {\"Acceleration\": 22.1, \"Displacement\": 98.0}, {\"Acceleration\": 14.2, \"Displacement\": 90.0}, {\"Acceleration\": 17.4, \"Displacement\": 91.0}, {\"Acceleration\": 17.7, \"Displacement\": 225.0}, {\"Acceleration\": 21.0, \"Displacement\": 250.0}, {\"Acceleration\": 16.2, \"Displacement\": 250.0}, {\"Acceleration\": 17.8, \"Displacement\": 258.0}, {\"Acceleration\": 12.2, \"Displacement\": 97.0}, {\"Acceleration\": 17.0, \"Displacement\": 85.0}, {\"Acceleration\": 16.4, \"Displacement\": 97.0}, {\"Acceleration\": 13.6, \"Displacement\": 140.0}, {\"Acceleration\": 15.7, \"Displacement\": 130.0}, {\"Acceleration\": 13.2, \"Displacement\": 318.0}, {\"Acceleration\": 21.9, \"Displacement\": 120.0}, {\"Acceleration\": 15.5, \"Displacement\": 156.0}, {\"Acceleration\": 16.7, \"Displacement\": 168.0}, {\"Acceleration\": 12.1, \"Displacement\": 350.0}, {\"Acceleration\": 12.0, \"Displacement\": 350.0}, {\"Acceleration\": 15.0, \"Displacement\": 302.0}, {\"Acceleration\": 14.0, \"Displacement\": 318.0}, {\"Acceleration\": 18.5, \"Displacement\": 98.0}, {\"Acceleration\": 14.8, \"Displacement\": 111.0}, {\"Acceleration\": 18.6, \"Displacement\": 79.0}, {\"Acceleration\": 15.5, \"Displacement\": 122.0}, {\"Acceleration\": 16.8, \"Displacement\": 85.0}, {\"Acceleration\": 12.5, \"Displacement\": 305.0}, {\"Acceleration\": 19.0, \"Displacement\": 260.0}, {\"Acceleration\": 13.7, \"Displacement\": 318.0}, {\"Acceleration\": 14.9, \"Displacement\": 302.0}, {\"Acceleration\": 16.4, \"Displacement\": 250.0}, {\"Acceleration\": 16.9, \"Displacement\": 231.0}, {\"Acceleration\": 17.7, \"Displacement\": 225.0}, {\"Acceleration\": 19.0, \"Displacement\": 250.0}, {\"Acceleration\": 11.1, \"Displacement\": 400.0}, {\"Acceleration\": 11.4, \"Displacement\": 350.0}, {\"Acceleration\": 12.2, \"Displacement\": 400.0}, {\"Acceleration\": 14.5, \"Displacement\": 351.0}, {\"Acceleration\": 14.5, \"Displacement\": 97.0}, {\"Acceleration\": 16.0, \"Displacement\": 151.0}, {\"Acceleration\": 18.2, \"Displacement\": 97.0}, {\"Acceleration\": 15.8, \"Displacement\": 140.0}, {\"Acceleration\": 17.0, \"Displacement\": 98.0}, {\"Acceleration\": 15.9, \"Displacement\": 98.0}, {\"Acceleration\": 16.4, \"Displacement\": 97.0}, {\"Acceleration\": 14.1, \"Displacement\": 97.0}, {\"Acceleration\": 14.5, \"Displacement\": 146.0}, {\"Acceleration\": 12.8, \"Displacement\": 121.0}, {\"Acceleration\": 13.5, \"Displacement\": 80.0}, {\"Acceleration\": 21.5, \"Displacement\": 90.0}, {\"Acceleration\": 14.4, \"Displacement\": 98.0}, {\"Acceleration\": 19.4, \"Displacement\": 78.0}, {\"Acceleration\": 18.6, \"Displacement\": 85.0}, {\"Acceleration\": 16.4, \"Displacement\": 91.0}, {\"Acceleration\": 15.5, \"Displacement\": 260.0}, {\"Acceleration\": 13.2, \"Displacement\": 318.0}, {\"Acceleration\": 12.8, \"Displacement\": 302.0}, {\"Acceleration\": 19.2, \"Displacement\": 231.0}, {\"Acceleration\": 18.2, \"Displacement\": 200.0}, {\"Acceleration\": 15.8, \"Displacement\": 200.0}, {\"Acceleration\": 15.4, \"Displacement\": 140.0}, {\"Acceleration\": 17.2, \"Displacement\": 225.0}, {\"Acceleration\": 17.2, \"Displacement\": 232.0}, {\"Acceleration\": 15.8, \"Displacement\": 231.0}, {\"Acceleration\": 16.7, \"Displacement\": 200.0}, {\"Acceleration\": 18.7, \"Displacement\": 225.0}, {\"Acceleration\": 15.1, \"Displacement\": 258.0}, {\"Acceleration\": 13.2, \"Displacement\": 305.0}, {\"Acceleration\": 13.4, \"Displacement\": 231.0}, {\"Acceleration\": 11.2, \"Displacement\": 302.0}, {\"Acceleration\": 13.7, \"Displacement\": 318.0}, {\"Acceleration\": 16.5, \"Displacement\": 98.0}, {\"Acceleration\": 14.2, \"Displacement\": 134.0}, {\"Acceleration\": 14.7, \"Displacement\": 119.0}, {\"Acceleration\": 14.5, \"Displacement\": 105.0}, {\"Acceleration\": 14.8, \"Displacement\": 134.0}, {\"Acceleration\": 16.7, \"Displacement\": 156.0}, {\"Acceleration\": 17.6, \"Displacement\": 151.0}, {\"Acceleration\": 14.9, \"Displacement\": 119.0}, {\"Acceleration\": 15.9, \"Displacement\": 131.0}, {\"Acceleration\": 13.6, \"Displacement\": 163.0}, {\"Acceleration\": 15.7, \"Displacement\": 121.0}, {\"Acceleration\": 15.8, \"Displacement\": 163.0}, {\"Acceleration\": 14.9, \"Displacement\": 89.0}, {\"Acceleration\": 16.6, \"Displacement\": 98.0}, {\"Acceleration\": 15.4, \"Displacement\": 231.0}, {\"Acceleration\": 18.2, \"Displacement\": 200.0}, {\"Acceleration\": 17.3, \"Displacement\": 140.0}, {\"Acceleration\": 18.2, \"Displacement\": 232.0}, {\"Acceleration\": 16.6, \"Displacement\": 225.0}, {\"Acceleration\": 15.4, \"Displacement\": 305.0}, {\"Acceleration\": 13.4, \"Displacement\": 302.0}, {\"Acceleration\": 13.2, \"Displacement\": 351.0}, {\"Acceleration\": 15.2, \"Displacement\": 318.0}, {\"Acceleration\": 14.9, \"Displacement\": 350.0}, {\"Acceleration\": 14.3, \"Displacement\": 351.0}, {\"Acceleration\": 15.0, \"Displacement\": 267.0}, {\"Acceleration\": 13.0, \"Displacement\": 360.0}, {\"Acceleration\": 14.0, \"Displacement\": 89.0}, {\"Acceleration\": 15.2, \"Displacement\": 86.0}, {\"Acceleration\": 14.4, \"Displacement\": 98.0}, {\"Acceleration\": 15.0, \"Displacement\": 121.0}, {\"Acceleration\": 20.1, \"Displacement\": 183.0}, {\"Acceleration\": 17.4, \"Displacement\": 350.0}, {\"Acceleration\": 24.8, \"Displacement\": 141.0}, {\"Acceleration\": 22.2, \"Displacement\": 260.0}, {\"Acceleration\": 13.2, \"Displacement\": 105.0}, {\"Acceleration\": 14.9, \"Displacement\": 105.0}, {\"Acceleration\": 19.2, \"Displacement\": 85.0}, {\"Acceleration\": 14.7, \"Displacement\": 91.0}, {\"Acceleration\": 16.0, \"Displacement\": 151.0}, {\"Acceleration\": 11.3, \"Displacement\": 173.0}, {\"Acceleration\": 12.9, \"Displacement\": 173.0}, {\"Acceleration\": 13.2, \"Displacement\": 151.0}, {\"Acceleration\": 14.7, \"Displacement\": 98.0}, {\"Acceleration\": 18.8, \"Displacement\": 89.0}, {\"Acceleration\": 15.5, \"Displacement\": 98.0}, {\"Acceleration\": 16.4, \"Displacement\": 86.0}, {\"Acceleration\": 16.5, \"Displacement\": 151.0}, {\"Acceleration\": 18.1, \"Displacement\": 140.0}, {\"Acceleration\": 20.1, \"Displacement\": 151.0}, {\"Acceleration\": 18.7, \"Displacement\": 225.0}, {\"Acceleration\": 15.8, \"Displacement\": 97.0}, {\"Acceleration\": 15.5, \"Displacement\": 134.0}, {\"Acceleration\": 17.5, \"Displacement\": 120.0}, {\"Acceleration\": 15.0, \"Displacement\": 119.0}, {\"Acceleration\": 15.2, \"Displacement\": 108.0}, {\"Acceleration\": 17.9, \"Displacement\": 86.0}, {\"Acceleration\": 14.4, \"Displacement\": 156.0}, {\"Acceleration\": 19.2, \"Displacement\": 85.0}, {\"Acceleration\": 21.7, \"Displacement\": 90.0}, {\"Acceleration\": 23.7, \"Displacement\": 90.0}, {\"Acceleration\": 19.9, \"Displacement\": 121.0}, {\"Acceleration\": 21.8, \"Displacement\": 146.0}, {\"Acceleration\": 13.8, \"Displacement\": 91.0}, {\"Acceleration\": 18.0, \"Displacement\": 97.0}, {\"Acceleration\": 15.3, \"Displacement\": 89.0}, {\"Acceleration\": 11.4, \"Displacement\": 168.0}, {\"Acceleration\": 12.5, \"Displacement\": 70.0}, {\"Acceleration\": 15.1, \"Displacement\": 122.0}, {\"Acceleration\": 17.0, \"Displacement\": 107.0}, {\"Acceleration\": 15.7, \"Displacement\": 135.0}, {\"Acceleration\": 16.4, \"Displacement\": 151.0}, {\"Acceleration\": 14.4, \"Displacement\": 156.0}, {\"Acceleration\": 12.6, \"Displacement\": 173.0}, {\"Acceleration\": 12.9, \"Displacement\": 135.0}, {\"Acceleration\": 16.9, \"Displacement\": 79.0}, {\"Acceleration\": 16.4, \"Displacement\": 86.0}, {\"Acceleration\": 16.1, \"Displacement\": 81.0}, {\"Acceleration\": 17.8, \"Displacement\": 97.0}, {\"Acceleration\": 19.4, \"Displacement\": 85.0}, {\"Acceleration\": 17.3, \"Displacement\": 89.0}, {\"Acceleration\": 16.0, \"Displacement\": 91.0}, {\"Acceleration\": 14.9, \"Displacement\": 105.0}, {\"Acceleration\": 16.2, \"Displacement\": 98.0}, {\"Acceleration\": 20.7, \"Displacement\": 98.0}, {\"Acceleration\": 14.2, \"Displacement\": 105.0}, {\"Acceleration\": 14.4, \"Displacement\": 107.0}, {\"Acceleration\": 16.8, \"Displacement\": 108.0}, {\"Acceleration\": 14.8, \"Displacement\": 119.0}, {\"Acceleration\": 18.3, \"Displacement\": 120.0}, {\"Acceleration\": 20.4, \"Displacement\": 141.0}, {\"Acceleration\": 19.6, \"Displacement\": 145.0}, {\"Acceleration\": 12.6, \"Displacement\": 168.0}, {\"Acceleration\": 13.8, \"Displacement\": 146.0}, {\"Acceleration\": 15.8, \"Displacement\": 231.0}, {\"Acceleration\": 19.0, \"Displacement\": 350.0}, {\"Acceleration\": 17.1, \"Displacement\": 200.0}, {\"Acceleration\": 16.6, \"Displacement\": 225.0}, {\"Acceleration\": 19.6, \"Displacement\": 112.0}, {\"Acceleration\": 18.6, \"Displacement\": 112.0}, {\"Acceleration\": 18.0, \"Displacement\": 112.0}, {\"Acceleration\": 16.2, \"Displacement\": 112.0}, {\"Acceleration\": 16.0, \"Displacement\": 135.0}, {\"Acceleration\": 18.0, \"Displacement\": 151.0}, {\"Acceleration\": 16.4, \"Displacement\": 140.0}, {\"Acceleration\": 15.3, \"Displacement\": 105.0}, {\"Acceleration\": 18.2, \"Displacement\": 91.0}, {\"Acceleration\": 17.6, \"Displacement\": 91.0}, {\"Acceleration\": 14.7, \"Displacement\": 105.0}, {\"Acceleration\": 17.3, \"Displacement\": 98.0}, {\"Acceleration\": 14.5, \"Displacement\": 120.0}, {\"Acceleration\": 14.5, \"Displacement\": 107.0}, {\"Acceleration\": 16.9, \"Displacement\": 108.0}, {\"Acceleration\": 15.0, \"Displacement\": 91.0}, {\"Acceleration\": 15.7, \"Displacement\": 91.0}, {\"Acceleration\": 16.2, \"Displacement\": 91.0}, {\"Acceleration\": 16.4, \"Displacement\": 181.0}, {\"Acceleration\": 17.0, \"Displacement\": 262.0}, {\"Acceleration\": 14.5, \"Displacement\": 156.0}, {\"Acceleration\": 14.7, \"Displacement\": 232.0}, {\"Acceleration\": 13.9, \"Displacement\": 144.0}, {\"Acceleration\": 13.0, \"Displacement\": 135.0}, {\"Acceleration\": 17.3, \"Displacement\": 151.0}, {\"Acceleration\": 15.6, \"Displacement\": 140.0}, {\"Acceleration\": 24.6, \"Displacement\": 97.0}, {\"Acceleration\": 11.6, \"Displacement\": 135.0}, {\"Acceleration\": 18.6, \"Displacement\": 120.0}, {\"Acceleration\": 19.4, \"Displacement\": 119.0}]}, \"vislib\": \"vegalite\"}, {\"config\": {\"view\": {\"continuousWidth\": 400, \"continuousHeight\": 300}, \"axis\": {\"labelColor\": \"#505050\", \"labelFont\": \"Helvetica Neue\", \"labelFontSize\": 9, \"labelFontWeight\": 400, \"titleFont\": \"Helvetica Neue\", \"titleFontSize\": 11, \"titleFontWeight\": 500}, \"legend\": {\"labelFont\": \"Helvetica Neue\", \"labelFontSize\": 9, \"labelFontWeight\": 400, \"titleFont\": \"Helvetica Neue\", \"titleFontSize\": 10, \"titleFontWeight\": 500}, \"mark\": {\"tooltip\": {\"content\": \"encoding\"}}, \"title\": {\"font\": \"Helvetica Neue\", \"fontSize\": 13, \"fontWeight\": 500}}, \"data\": {\"name\": \"data-7366e7f71ea5f41186a9037c9e4971b6\"}, \"mark\": \"circle\", \"encoding\": {\"x\": {\"type\": \"quantitative\", \"axis\": {\"title\": \"MilesPerGal\"}, \"field\": \"MilesPerGal\", \"scale\": {\"domain\": [9.0, 46.6]}}, \"y\": {\"type\": \"quantitative\", \"axis\": {\"title\": \"Acceleration\"}, \"field\": \"Acceleration\", \"scale\": {\"domain\": [8.0, 24.8]}}}, \"height\": 300.0, \"selection\": {\"selector009\": {\"type\": \"interval\", \"bind\": \"scales\", \"encodings\": [\"x\", \"y\"]}}, \"width\": 320.0, \"$schema\": \"https://vega.github.io/schema/vega-lite/v4.8.1.json\", \"datasets\": {\"data-7366e7f71ea5f41186a9037c9e4971b6\": [{\"Acceleration\": 12.0, \"MilesPerGal\": 18.0}, {\"Acceleration\": 11.5, \"MilesPerGal\": 15.0}, {\"Acceleration\": 11.0, \"MilesPerGal\": 18.0}, {\"Acceleration\": 12.0, \"MilesPerGal\": 16.0}, {\"Acceleration\": 10.5, \"MilesPerGal\": 17.0}, {\"Acceleration\": 10.0, \"MilesPerGal\": 15.0}, {\"Acceleration\": 9.0, \"MilesPerGal\": 14.0}, {\"Acceleration\": 8.5, \"MilesPerGal\": 14.0}, {\"Acceleration\": 10.0, \"MilesPerGal\": 14.0}, {\"Acceleration\": 8.5, \"MilesPerGal\": 15.0}, {\"Acceleration\": 10.0, \"MilesPerGal\": 15.0}, {\"Acceleration\": 8.0, \"MilesPerGal\": 14.0}, {\"Acceleration\": 9.5, \"MilesPerGal\": 15.0}, {\"Acceleration\": 10.0, \"MilesPerGal\": 14.0}, {\"Acceleration\": 15.0, \"MilesPerGal\": 24.0}, {\"Acceleration\": 15.5, \"MilesPerGal\": 22.0}, {\"Acceleration\": 15.5, \"MilesPerGal\": 18.0}, {\"Acceleration\": 16.0, \"MilesPerGal\": 21.0}, {\"Acceleration\": 14.5, \"MilesPerGal\": 27.0}, {\"Acceleration\": 20.5, \"MilesPerGal\": 26.0}, {\"Acceleration\": 17.5, \"MilesPerGal\": 25.0}, {\"Acceleration\": 14.5, \"MilesPerGal\": 24.0}, {\"Acceleration\": 17.5, \"MilesPerGal\": 25.0}, {\"Acceleration\": 12.5, \"MilesPerGal\": 26.0}, {\"Acceleration\": 15.0, \"MilesPerGal\": 21.0}, {\"Acceleration\": 14.0, \"MilesPerGal\": 10.0}, {\"Acceleration\": 15.0, \"MilesPerGal\": 10.0}, {\"Acceleration\": 13.5, \"MilesPerGal\": 11.0}, {\"Acceleration\": 18.5, \"MilesPerGal\": 9.0}, {\"Acceleration\": 14.5, \"MilesPerGal\": 27.0}, {\"Acceleration\": 15.5, \"MilesPerGal\": 28.0}, {\"Acceleration\": 14.0, \"MilesPerGal\": 25.0}, {\"Acceleration\": 13.0, \"MilesPerGal\": 19.0}, {\"Acceleration\": 15.5, \"MilesPerGal\": 16.0}, {\"Acceleration\": 15.5, \"MilesPerGal\": 17.0}, {\"Acceleration\": 15.5, \"MilesPerGal\": 19.0}, {\"Acceleration\": 15.5, \"MilesPerGal\": 18.0}, {\"Acceleration\": 12.0, \"MilesPerGal\": 14.0}, {\"Acceleration\": 11.5, \"MilesPerGal\": 14.0}, {\"Acceleration\": 13.5, \"MilesPerGal\": 14.0}, {\"Acceleration\": 13.0, \"MilesPerGal\": 14.0}, {\"Acceleration\": 11.5, \"MilesPerGal\": 12.0}, {\"Acceleration\": 12.0, \"MilesPerGal\": 13.0}, {\"Acceleration\": 12.0, \"MilesPerGal\": 13.0}, {\"Acceleration\": 13.5, \"MilesPerGal\": 18.0}, {\"Acceleration\": 19.0, \"MilesPerGal\": 22.0}, {\"Acceleration\": 15.0, \"MilesPerGal\": 19.0}, {\"Acceleration\": 14.5, \"MilesPerGal\": 18.0}, {\"Acceleration\": 14.0, \"MilesPerGal\": 23.0}, {\"Acceleration\": 14.0, \"MilesPerGal\": 28.0}, {\"Acceleration\": 19.5, \"MilesPerGal\": 30.0}, {\"Acceleration\": 14.5, \"MilesPerGal\": 30.0}, {\"Acceleration\": 19.0, \"MilesPerGal\": 31.0}, {\"Acceleration\": 18.0, \"MilesPerGal\": 35.0}, {\"Acceleration\": 19.0, \"MilesPerGal\": 27.0}, {\"Acceleration\": 20.5, \"MilesPerGal\": 26.0}, {\"Acceleration\": 15.5, \"MilesPerGal\": 24.0}, {\"Acceleration\": 17.0, \"MilesPerGal\": 25.0}, {\"Acceleration\": 23.5, \"MilesPerGal\": 23.0}, {\"Acceleration\": 19.5, \"MilesPerGal\": 20.0}, {\"Acceleration\": 16.5, \"MilesPerGal\": 21.0}, {\"Acceleration\": 12.0, \"MilesPerGal\": 13.0}, {\"Acceleration\": 12.0, \"MilesPerGal\": 14.0}, {\"Acceleration\": 13.5, \"MilesPerGal\": 15.0}, {\"Acceleration\": 13.0, \"MilesPerGal\": 14.0}, {\"Acceleration\": 11.5, \"MilesPerGal\": 17.0}, {\"Acceleration\": 11.0, \"MilesPerGal\": 11.0}, {\"Acceleration\": 13.5, \"MilesPerGal\": 13.0}, {\"Acceleration\": 13.5, \"MilesPerGal\": 12.0}, {\"Acceleration\": 12.5, \"MilesPerGal\": 13.0}, {\"Acceleration\": 13.5, \"MilesPerGal\": 19.0}, {\"Acceleration\": 12.5, \"MilesPerGal\": 15.0}, {\"Acceleration\": 14.0, \"MilesPerGal\": 13.0}, {\"Acceleration\": 16.0, \"MilesPerGal\": 13.0}, {\"Acceleration\": 14.0, \"MilesPerGal\": 14.0}, {\"Acceleration\": 14.5, \"MilesPerGal\": 18.0}, {\"Acceleration\": 18.0, \"MilesPerGal\": 22.0}, {\"Acceleration\": 19.5, \"MilesPerGal\": 21.0}, {\"Acceleration\": 18.0, \"MilesPerGal\": 26.0}, {\"Acceleration\": 16.0, \"MilesPerGal\": 22.0}, {\"Acceleration\": 17.0, \"MilesPerGal\": 28.0}, {\"Acceleration\": 14.5, \"MilesPerGal\": 23.0}, {\"Acceleration\": 15.0, \"MilesPerGal\": 28.0}, {\"Acceleration\": 16.5, \"MilesPerGal\": 27.0}, {\"Acceleration\": 13.0, \"MilesPerGal\": 13.0}, {\"Acceleration\": 11.5, \"MilesPerGal\": 14.0}, {\"Acceleration\": 13.0, \"MilesPerGal\": 13.0}, {\"Acceleration\": 14.5, \"MilesPerGal\": 14.0}, {\"Acceleration\": 12.5, \"MilesPerGal\": 15.0}, {\"Acceleration\": 11.5, \"MilesPerGal\": 12.0}, {\"Acceleration\": 12.0, \"MilesPerGal\": 13.0}, {\"Acceleration\": 13.0, \"MilesPerGal\": 13.0}, {\"Acceleration\": 14.5, \"MilesPerGal\": 14.0}, {\"Acceleration\": 11.0, \"MilesPerGal\": 13.0}, {\"Acceleration\": 11.0, \"MilesPerGal\": 12.0}, {\"Acceleration\": 11.0, \"MilesPerGal\": 13.0}, {\"Acceleration\": 16.5, \"MilesPerGal\": 18.0}, {\"Acceleration\": 18.0, \"MilesPerGal\": 16.0}, {\"Acceleration\": 16.0, \"MilesPerGal\": 18.0}, {\"Acceleration\": 16.5, \"MilesPerGal\": 18.0}, {\"Acceleration\": 16.0, \"MilesPerGal\": 23.0}, {\"Acceleration\": 21.0, \"MilesPerGal\": 26.0}, {\"Acceleration\": 14.0, \"MilesPerGal\": 11.0}, {\"Acceleration\": 12.5, \"MilesPerGal\": 12.0}, {\"Acceleration\": 13.0, \"MilesPerGal\": 13.0}, {\"Acceleration\": 12.5, \"MilesPerGal\": 12.0}, {\"Acceleration\": 15.0, \"MilesPerGal\": 18.0}, {\"Acceleration\": 19.0, \"MilesPerGal\": 20.0}, {\"Acceleration\": 19.5, \"MilesPerGal\": 21.0}, {\"Acceleration\": 16.5, \"MilesPerGal\": 22.0}, {\"Acceleration\": 13.5, \"MilesPerGal\": 18.0}, {\"Acceleration\": 18.5, \"MilesPerGal\": 19.0}, {\"Acceleration\": 14.0, \"MilesPerGal\": 21.0}, {\"Acceleration\": 15.5, \"MilesPerGal\": 26.0}, {\"Acceleration\": 13.0, \"MilesPerGal\": 15.0}, {\"Acceleration\": 9.5, \"MilesPerGal\": 16.0}, {\"Acceleration\": 19.5, \"MilesPerGal\": 29.0}, {\"Acceleration\": 15.5, \"MilesPerGal\": 24.0}, {\"Acceleration\": 14.0, \"MilesPerGal\": 20.0}, {\"Acceleration\": 15.5, \"MilesPerGal\": 19.0}, {\"Acceleration\": 11.0, \"MilesPerGal\": 15.0}, {\"Acceleration\": 14.0, \"MilesPerGal\": 24.0}, {\"Acceleration\": 13.5, \"MilesPerGal\": 20.0}, {\"Acceleration\": 11.0, \"MilesPerGal\": 11.0}, {\"Acceleration\": 16.5, \"MilesPerGal\": 20.0}, {\"Acceleration\": 16.0, \"MilesPerGal\": 19.0}, {\"Acceleration\": 17.0, \"MilesPerGal\": 15.0}, {\"Acceleration\": 19.0, \"MilesPerGal\": 31.0}, {\"Acceleration\": 16.5, \"MilesPerGal\": 26.0}, {\"Acceleration\": 21.0, \"MilesPerGal\": 32.0}, {\"Acceleration\": 17.0, \"MilesPerGal\": 25.0}, {\"Acceleration\": 17.0, \"MilesPerGal\": 16.0}, {\"Acceleration\": 18.0, \"MilesPerGal\": 16.0}, {\"Acceleration\": 16.5, \"MilesPerGal\": 18.0}, {\"Acceleration\": 14.0, \"MilesPerGal\": 16.0}, {\"Acceleration\": 14.5, \"MilesPerGal\": 13.0}, {\"Acceleration\": 13.5, \"MilesPerGal\": 14.0}, {\"Acceleration\": 16.0, \"MilesPerGal\": 14.0}, {\"Acceleration\": 15.5, \"MilesPerGal\": 14.0}, {\"Acceleration\": 16.5, \"MilesPerGal\": 29.0}, {\"Acceleration\": 15.5, \"MilesPerGal\": 26.0}, {\"Acceleration\": 14.5, \"MilesPerGal\": 26.0}, {\"Acceleration\": 16.5, \"MilesPerGal\": 31.0}, {\"Acceleration\": 19.0, \"MilesPerGal\": 32.0}, {\"Acceleration\": 14.5, \"MilesPerGal\": 28.0}, {\"Acceleration\": 15.5, \"MilesPerGal\": 24.0}, {\"Acceleration\": 14.0, \"MilesPerGal\": 26.0}, {\"Acceleration\": 15.0, \"MilesPerGal\": 24.0}, {\"Acceleration\": 15.5, \"MilesPerGal\": 26.0}, {\"Acceleration\": 16.0, \"MilesPerGal\": 31.0}, {\"Acceleration\": 16.0, \"MilesPerGal\": 19.0}, {\"Acceleration\": 16.0, \"MilesPerGal\": 18.0}, {\"Acceleration\": 21.0, \"MilesPerGal\": 15.0}, {\"Acceleration\": 19.5, \"MilesPerGal\": 15.0}, {\"Acceleration\": 11.5, \"MilesPerGal\": 16.0}, {\"Acceleration\": 14.0, \"MilesPerGal\": 15.0}, {\"Acceleration\": 14.5, \"MilesPerGal\": 16.0}, {\"Acceleration\": 13.5, \"MilesPerGal\": 14.0}, {\"Acceleration\": 21.0, \"MilesPerGal\": 17.0}, {\"Acceleration\": 18.5, \"MilesPerGal\": 16.0}, {\"Acceleration\": 19.0, \"MilesPerGal\": 15.0}, {\"Acceleration\": 19.0, \"MilesPerGal\": 18.0}, {\"Acceleration\": 15.0, \"MilesPerGal\": 21.0}, {\"Acceleration\": 13.5, \"MilesPerGal\": 20.0}, {\"Acceleration\": 12.0, \"MilesPerGal\": 13.0}, {\"Acceleration\": 16.0, \"MilesPerGal\": 29.0}, {\"Acceleration\": 17.0, \"MilesPerGal\": 23.0}, {\"Acceleration\": 16.0, \"MilesPerGal\": 20.0}, {\"Acceleration\": 18.5, \"MilesPerGal\": 23.0}, {\"Acceleration\": 13.5, \"MilesPerGal\": 24.0}, {\"Acceleration\": 16.5, \"MilesPerGal\": 25.0}, {\"Acceleration\": 17.0, \"MilesPerGal\": 24.0}, {\"Acceleration\": 14.5, \"MilesPerGal\": 18.0}, {\"Acceleration\": 14.0, \"MilesPerGal\": 29.0}, {\"Acceleration\": 17.0, \"MilesPerGal\": 19.0}, {\"Acceleration\": 15.0, \"MilesPerGal\": 23.0}, {\"Acceleration\": 17.0, \"MilesPerGal\": 23.0}, {\"Acceleration\": 14.5, \"MilesPerGal\": 22.0}, {\"Acceleration\": 13.5, \"MilesPerGal\": 25.0}, {\"Acceleration\": 17.5, \"MilesPerGal\": 33.0}, {\"Acceleration\": 15.5, \"MilesPerGal\": 28.0}, {\"Acceleration\": 16.9, \"MilesPerGal\": 25.0}, {\"Acceleration\": 14.9, \"MilesPerGal\": 25.0}, {\"Acceleration\": 17.7, \"MilesPerGal\": 26.0}, {\"Acceleration\": 15.3, \"MilesPerGal\": 27.0}, {\"Acceleration\": 13.0, \"MilesPerGal\": 17.5}, {\"Acceleration\": 13.0, \"MilesPerGal\": 16.0}, {\"Acceleration\": 13.9, \"MilesPerGal\": 15.5}, {\"Acceleration\": 12.8, \"MilesPerGal\": 14.5}, {\"Acceleration\": 15.4, \"MilesPerGal\": 22.0}, {\"Acceleration\": 14.5, \"MilesPerGal\": 22.0}, {\"Acceleration\": 17.6, \"MilesPerGal\": 24.0}, {\"Acceleration\": 17.6, \"MilesPerGal\": 22.5}, {\"Acceleration\": 22.2, \"MilesPerGal\": 29.0}, {\"Acceleration\": 22.1, \"MilesPerGal\": 24.5}, {\"Acceleration\": 14.2, \"MilesPerGal\": 29.0}, {\"Acceleration\": 17.4, \"MilesPerGal\": 33.0}, {\"Acceleration\": 17.7, \"MilesPerGal\": 20.0}, {\"Acceleration\": 21.0, \"MilesPerGal\": 18.0}, {\"Acceleration\": 16.2, \"MilesPerGal\": 18.5}, {\"Acceleration\": 17.8, \"MilesPerGal\": 17.5}, {\"Acceleration\": 12.2, \"MilesPerGal\": 29.5}, {\"Acceleration\": 17.0, \"MilesPerGal\": 32.0}, {\"Acceleration\": 16.4, \"MilesPerGal\": 28.0}, {\"Acceleration\": 13.6, \"MilesPerGal\": 26.5}, {\"Acceleration\": 15.7, \"MilesPerGal\": 20.0}, {\"Acceleration\": 13.2, \"MilesPerGal\": 13.0}, {\"Acceleration\": 21.9, \"MilesPerGal\": 19.0}, {\"Acceleration\": 15.5, \"MilesPerGal\": 19.0}, {\"Acceleration\": 16.7, \"MilesPerGal\": 16.5}, {\"Acceleration\": 12.1, \"MilesPerGal\": 16.5}, {\"Acceleration\": 12.0, \"MilesPerGal\": 13.0}, {\"Acceleration\": 15.0, \"MilesPerGal\": 13.0}, {\"Acceleration\": 14.0, \"MilesPerGal\": 13.0}, {\"Acceleration\": 18.5, \"MilesPerGal\": 31.5}, {\"Acceleration\": 14.8, \"MilesPerGal\": 30.0}, {\"Acceleration\": 18.6, \"MilesPerGal\": 36.0}, {\"Acceleration\": 15.5, \"MilesPerGal\": 25.5}, {\"Acceleration\": 16.8, \"MilesPerGal\": 33.5}, {\"Acceleration\": 12.5, \"MilesPerGal\": 17.5}, {\"Acceleration\": 19.0, \"MilesPerGal\": 17.0}, {\"Acceleration\": 13.7, \"MilesPerGal\": 15.5}, {\"Acceleration\": 14.9, \"MilesPerGal\": 15.0}, {\"Acceleration\": 16.4, \"MilesPerGal\": 17.5}, {\"Acceleration\": 16.9, \"MilesPerGal\": 20.5}, {\"Acceleration\": 17.7, \"MilesPerGal\": 19.0}, {\"Acceleration\": 19.0, \"MilesPerGal\": 18.5}, {\"Acceleration\": 11.1, \"MilesPerGal\": 16.0}, {\"Acceleration\": 11.4, \"MilesPerGal\": 15.5}, {\"Acceleration\": 12.2, \"MilesPerGal\": 15.5}, {\"Acceleration\": 14.5, \"MilesPerGal\": 16.0}, {\"Acceleration\": 14.5, \"MilesPerGal\": 29.0}, {\"Acceleration\": 16.0, \"MilesPerGal\": 24.5}, {\"Acceleration\": 18.2, \"MilesPerGal\": 26.0}, {\"Acceleration\": 15.8, \"MilesPerGal\": 25.5}, {\"Acceleration\": 17.0, \"MilesPerGal\": 30.5}, {\"Acceleration\": 15.9, \"MilesPerGal\": 33.5}, {\"Acceleration\": 16.4, \"MilesPerGal\": 30.0}, {\"Acceleration\": 14.1, \"MilesPerGal\": 30.5}, {\"Acceleration\": 14.5, \"MilesPerGal\": 22.0}, {\"Acceleration\": 12.8, \"MilesPerGal\": 21.5}, {\"Acceleration\": 13.5, \"MilesPerGal\": 21.5}, {\"Acceleration\": 21.5, \"MilesPerGal\": 43.1}, {\"Acceleration\": 14.4, \"MilesPerGal\": 36.1}, {\"Acceleration\": 19.4, \"MilesPerGal\": 32.8}, {\"Acceleration\": 18.6, \"MilesPerGal\": 39.4}, {\"Acceleration\": 16.4, \"MilesPerGal\": 36.1}, {\"Acceleration\": 15.5, \"MilesPerGal\": 19.9}, {\"Acceleration\": 13.2, \"MilesPerGal\": 19.4}, {\"Acceleration\": 12.8, \"MilesPerGal\": 20.2}, {\"Acceleration\": 19.2, \"MilesPerGal\": 19.2}, {\"Acceleration\": 18.2, \"MilesPerGal\": 20.5}, {\"Acceleration\": 15.8, \"MilesPerGal\": 20.2}, {\"Acceleration\": 15.4, \"MilesPerGal\": 25.1}, {\"Acceleration\": 17.2, \"MilesPerGal\": 20.5}, {\"Acceleration\": 17.2, \"MilesPerGal\": 19.4}, {\"Acceleration\": 15.8, \"MilesPerGal\": 20.6}, {\"Acceleration\": 16.7, \"MilesPerGal\": 20.8}, {\"Acceleration\": 18.7, \"MilesPerGal\": 18.6}, {\"Acceleration\": 15.1, \"MilesPerGal\": 18.1}, {\"Acceleration\": 13.2, \"MilesPerGal\": 19.2}, {\"Acceleration\": 13.4, \"MilesPerGal\": 17.7}, {\"Acceleration\": 11.2, \"MilesPerGal\": 18.1}, {\"Acceleration\": 13.7, \"MilesPerGal\": 17.5}, {\"Acceleration\": 16.5, \"MilesPerGal\": 30.0}, {\"Acceleration\": 14.2, \"MilesPerGal\": 27.5}, {\"Acceleration\": 14.7, \"MilesPerGal\": 27.2}, {\"Acceleration\": 14.5, \"MilesPerGal\": 30.9}, {\"Acceleration\": 14.8, \"MilesPerGal\": 21.1}, {\"Acceleration\": 16.7, \"MilesPerGal\": 23.2}, {\"Acceleration\": 17.6, \"MilesPerGal\": 23.8}, {\"Acceleration\": 14.9, \"MilesPerGal\": 23.9}, {\"Acceleration\": 15.9, \"MilesPerGal\": 20.3}, {\"Acceleration\": 13.6, \"MilesPerGal\": 17.0}, {\"Acceleration\": 15.7, \"MilesPerGal\": 21.6}, {\"Acceleration\": 15.8, \"MilesPerGal\": 16.2}, {\"Acceleration\": 14.9, \"MilesPerGal\": 31.5}, {\"Acceleration\": 16.6, \"MilesPerGal\": 29.5}, {\"Acceleration\": 15.4, \"MilesPerGal\": 21.5}, {\"Acceleration\": 18.2, \"MilesPerGal\": 19.8}, {\"Acceleration\": 17.3, \"MilesPerGal\": 22.3}, {\"Acceleration\": 18.2, \"MilesPerGal\": 20.2}, {\"Acceleration\": 16.6, \"MilesPerGal\": 20.6}, {\"Acceleration\": 15.4, \"MilesPerGal\": 17.0}, {\"Acceleration\": 13.4, \"MilesPerGal\": 17.6}, {\"Acceleration\": 13.2, \"MilesPerGal\": 16.5}, {\"Acceleration\": 15.2, \"MilesPerGal\": 18.2}, {\"Acceleration\": 14.9, \"MilesPerGal\": 16.9}, {\"Acceleration\": 14.3, \"MilesPerGal\": 15.5}, {\"Acceleration\": 15.0, \"MilesPerGal\": 19.2}, {\"Acceleration\": 13.0, \"MilesPerGal\": 18.5}, {\"Acceleration\": 14.0, \"MilesPerGal\": 31.9}, {\"Acceleration\": 15.2, \"MilesPerGal\": 34.1}, {\"Acceleration\": 14.4, \"MilesPerGal\": 35.7}, {\"Acceleration\": 15.0, \"MilesPerGal\": 27.4}, {\"Acceleration\": 20.1, \"MilesPerGal\": 25.4}, {\"Acceleration\": 17.4, \"MilesPerGal\": 23.0}, {\"Acceleration\": 24.8, \"MilesPerGal\": 27.2}, {\"Acceleration\": 22.2, \"MilesPerGal\": 23.9}, {\"Acceleration\": 13.2, \"MilesPerGal\": 34.2}, {\"Acceleration\": 14.9, \"MilesPerGal\": 34.5}, {\"Acceleration\": 19.2, \"MilesPerGal\": 31.8}, {\"Acceleration\": 14.7, \"MilesPerGal\": 37.3}, {\"Acceleration\": 16.0, \"MilesPerGal\": 28.4}, {\"Acceleration\": 11.3, \"MilesPerGal\": 28.8}, {\"Acceleration\": 12.9, \"MilesPerGal\": 26.8}, {\"Acceleration\": 13.2, \"MilesPerGal\": 33.5}, {\"Acceleration\": 14.7, \"MilesPerGal\": 41.5}, {\"Acceleration\": 18.8, \"MilesPerGal\": 38.1}, {\"Acceleration\": 15.5, \"MilesPerGal\": 32.1}, {\"Acceleration\": 16.4, \"MilesPerGal\": 37.2}, {\"Acceleration\": 16.5, \"MilesPerGal\": 28.0}, {\"Acceleration\": 18.1, \"MilesPerGal\": 26.4}, {\"Acceleration\": 20.1, \"MilesPerGal\": 24.3}, {\"Acceleration\": 18.7, \"MilesPerGal\": 19.1}, {\"Acceleration\": 15.8, \"MilesPerGal\": 34.3}, {\"Acceleration\": 15.5, \"MilesPerGal\": 29.8}, {\"Acceleration\": 17.5, \"MilesPerGal\": 31.3}, {\"Acceleration\": 15.0, \"MilesPerGal\": 37.0}, {\"Acceleration\": 15.2, \"MilesPerGal\": 32.2}, {\"Acceleration\": 17.9, \"MilesPerGal\": 46.6}, {\"Acceleration\": 14.4, \"MilesPerGal\": 27.9}, {\"Acceleration\": 19.2, \"MilesPerGal\": 40.8}, {\"Acceleration\": 21.7, \"MilesPerGal\": 44.3}, {\"Acceleration\": 23.7, \"MilesPerGal\": 43.4}, {\"Acceleration\": 19.9, \"MilesPerGal\": 36.4}, {\"Acceleration\": 21.8, \"MilesPerGal\": 30.0}, {\"Acceleration\": 13.8, \"MilesPerGal\": 44.6}, {\"Acceleration\": 18.0, \"MilesPerGal\": 33.8}, {\"Acceleration\": 15.3, \"MilesPerGal\": 29.8}, {\"Acceleration\": 11.4, \"MilesPerGal\": 32.7}, {\"Acceleration\": 12.5, \"MilesPerGal\": 23.7}, {\"Acceleration\": 15.1, \"MilesPerGal\": 35.0}, {\"Acceleration\": 17.0, \"MilesPerGal\": 32.4}, {\"Acceleration\": 15.7, \"MilesPerGal\": 27.2}, {\"Acceleration\": 16.4, \"MilesPerGal\": 26.6}, {\"Acceleration\": 14.4, \"MilesPerGal\": 25.8}, {\"Acceleration\": 12.6, \"MilesPerGal\": 23.5}, {\"Acceleration\": 12.9, \"MilesPerGal\": 30.0}, {\"Acceleration\": 16.9, \"MilesPerGal\": 39.1}, {\"Acceleration\": 16.4, \"MilesPerGal\": 39.0}, {\"Acceleration\": 16.1, \"MilesPerGal\": 35.1}, {\"Acceleration\": 17.8, \"MilesPerGal\": 32.3}, {\"Acceleration\": 19.4, \"MilesPerGal\": 37.0}, {\"Acceleration\": 17.3, \"MilesPerGal\": 37.7}, {\"Acceleration\": 16.0, \"MilesPerGal\": 34.1}, {\"Acceleration\": 14.9, \"MilesPerGal\": 34.7}, {\"Acceleration\": 16.2, \"MilesPerGal\": 34.4}, {\"Acceleration\": 20.7, \"MilesPerGal\": 29.9}, {\"Acceleration\": 14.2, \"MilesPerGal\": 33.0}, {\"Acceleration\": 14.4, \"MilesPerGal\": 33.7}, {\"Acceleration\": 16.8, \"MilesPerGal\": 32.4}, {\"Acceleration\": 14.8, \"MilesPerGal\": 32.9}, {\"Acceleration\": 18.3, \"MilesPerGal\": 31.6}, {\"Acceleration\": 20.4, \"MilesPerGal\": 28.1}, {\"Acceleration\": 19.6, \"MilesPerGal\": 30.7}, {\"Acceleration\": 12.6, \"MilesPerGal\": 25.4}, {\"Acceleration\": 13.8, \"MilesPerGal\": 24.2}, {\"Acceleration\": 15.8, \"MilesPerGal\": 22.4}, {\"Acceleration\": 19.0, \"MilesPerGal\": 26.6}, {\"Acceleration\": 17.1, \"MilesPerGal\": 20.2}, {\"Acceleration\": 16.6, \"MilesPerGal\": 17.6}, {\"Acceleration\": 19.6, \"MilesPerGal\": 28.0}, {\"Acceleration\": 18.6, \"MilesPerGal\": 27.0}, {\"Acceleration\": 18.0, \"MilesPerGal\": 34.0}, {\"Acceleration\": 16.2, \"MilesPerGal\": 31.0}, {\"Acceleration\": 16.0, \"MilesPerGal\": 29.0}, {\"Acceleration\": 18.0, \"MilesPerGal\": 27.0}, {\"Acceleration\": 16.4, \"MilesPerGal\": 24.0}, {\"Acceleration\": 15.3, \"MilesPerGal\": 36.0}, {\"Acceleration\": 18.2, \"MilesPerGal\": 37.0}, {\"Acceleration\": 17.6, \"MilesPerGal\": 31.0}, {\"Acceleration\": 14.7, \"MilesPerGal\": 38.0}, {\"Acceleration\": 17.3, \"MilesPerGal\": 36.0}, {\"Acceleration\": 14.5, \"MilesPerGal\": 36.0}, {\"Acceleration\": 14.5, \"MilesPerGal\": 36.0}, {\"Acceleration\": 16.9, \"MilesPerGal\": 34.0}, {\"Acceleration\": 15.0, \"MilesPerGal\": 38.0}, {\"Acceleration\": 15.7, \"MilesPerGal\": 32.0}, {\"Acceleration\": 16.2, \"MilesPerGal\": 38.0}, {\"Acceleration\": 16.4, \"MilesPerGal\": 25.0}, {\"Acceleration\": 17.0, \"MilesPerGal\": 38.0}, {\"Acceleration\": 14.5, \"MilesPerGal\": 26.0}, {\"Acceleration\": 14.7, \"MilesPerGal\": 22.0}, {\"Acceleration\": 13.9, \"MilesPerGal\": 32.0}, {\"Acceleration\": 13.0, \"MilesPerGal\": 36.0}, {\"Acceleration\": 17.3, \"MilesPerGal\": 27.0}, {\"Acceleration\": 15.6, \"MilesPerGal\": 27.0}, {\"Acceleration\": 24.6, \"MilesPerGal\": 44.0}, {\"Acceleration\": 11.6, \"MilesPerGal\": 32.0}, {\"Acceleration\": 18.6, \"MilesPerGal\": 28.0}, {\"Acceleration\": 19.4, \"MilesPerGal\": 31.0}]}, \"vislib\": \"vegalite\"}, {\"config\": {\"view\": {\"continuousWidth\": 400, \"continuousHeight\": 300}, \"axis\": {\"labelColor\": \"#505050\", \"labelFont\": \"Helvetica Neue\", \"labelFontSize\": 9, \"labelFontWeight\": 400, \"titleFont\": \"Helvetica Neue\", \"titleFontSize\": 11, \"titleFontWeight\": 500}, \"legend\": {\"labelFont\": \"Helvetica Neue\", \"labelFontSize\": 9, \"labelFontWeight\": 400, \"titleFont\": \"Helvetica Neue\", \"titleFontSize\": 10, \"titleFontWeight\": 500}, \"mark\": {\"tooltip\": {\"content\": \"encoding\"}}, \"title\": {\"font\": \"Helvetica Neue\", \"fontSize\": 13, \"fontWeight\": 500}}, \"data\": {\"name\": \"data-201643b627c688a6ca095a3290792ad4\"}, \"mark\": \"circle\", \"encoding\": {\"x\": {\"type\": \"quantitative\", \"axis\": {\"title\": \"Weight\"}, \"field\": \"Weight\", \"scale\": {\"domain\": [1613.0, 5140.0]}}, \"y\": {\"type\": \"quantitative\", \"axis\": {\"title\": \"Acceleration\"}, \"field\": \"Acceleration\", \"scale\": {\"domain\": [8.0, 24.8]}}}, \"height\": 300.0, \"selection\": {\"selector010\": {\"type\": \"interval\", \"bind\": \"scales\", \"encodings\": [\"x\", \"y\"]}}, \"width\": 320.0, \"$schema\": \"https://vega.github.io/schema/vega-lite/v4.8.1.json\", \"datasets\": {\"data-201643b627c688a6ca095a3290792ad4\": [{\"Acceleration\": 12.0, \"Weight\": 3504}, {\"Acceleration\": 11.5, \"Weight\": 3693}, {\"Acceleration\": 11.0, \"Weight\": 3436}, {\"Acceleration\": 12.0, \"Weight\": 3433}, {\"Acceleration\": 10.5, \"Weight\": 3449}, {\"Acceleration\": 10.0, \"Weight\": 4341}, {\"Acceleration\": 9.0, \"Weight\": 4354}, {\"Acceleration\": 8.5, \"Weight\": 4312}, {\"Acceleration\": 10.0, \"Weight\": 4425}, {\"Acceleration\": 8.5, \"Weight\": 3850}, {\"Acceleration\": 10.0, \"Weight\": 3563}, {\"Acceleration\": 8.0, \"Weight\": 3609}, {\"Acceleration\": 9.5, \"Weight\": 3761}, {\"Acceleration\": 10.0, \"Weight\": 3086}, {\"Acceleration\": 15.0, \"Weight\": 2372}, {\"Acceleration\": 15.5, \"Weight\": 2833}, {\"Acceleration\": 15.5, \"Weight\": 2774}, {\"Acceleration\": 16.0, \"Weight\": 2587}, {\"Acceleration\": 14.5, \"Weight\": 2130}, {\"Acceleration\": 20.5, \"Weight\": 1835}, {\"Acceleration\": 17.5, \"Weight\": 2672}, {\"Acceleration\": 14.5, \"Weight\": 2430}, {\"Acceleration\": 17.5, \"Weight\": 2375}, {\"Acceleration\": 12.5, \"Weight\": 2234}, {\"Acceleration\": 15.0, \"Weight\": 2648}, {\"Acceleration\": 14.0, \"Weight\": 4615}, {\"Acceleration\": 15.0, \"Weight\": 4376}, {\"Acceleration\": 13.5, \"Weight\": 4382}, {\"Acceleration\": 18.5, \"Weight\": 4732}, {\"Acceleration\": 14.5, \"Weight\": 2130}, {\"Acceleration\": 15.5, \"Weight\": 2264}, {\"Acceleration\": 14.0, \"Weight\": 2228}, {\"Acceleration\": 13.0, \"Weight\": 2634}, {\"Acceleration\": 15.5, \"Weight\": 3439}, {\"Acceleration\": 15.5, \"Weight\": 3329}, {\"Acceleration\": 15.5, \"Weight\": 3302}, {\"Acceleration\": 15.5, \"Weight\": 3288}, {\"Acceleration\": 12.0, \"Weight\": 4209}, {\"Acceleration\": 11.5, \"Weight\": 4464}, {\"Acceleration\": 13.5, \"Weight\": 4154}, {\"Acceleration\": 13.0, \"Weight\": 4096}, {\"Acceleration\": 11.5, \"Weight\": 4955}, {\"Acceleration\": 12.0, \"Weight\": 4746}, {\"Acceleration\": 12.0, \"Weight\": 5140}, {\"Acceleration\": 13.5, \"Weight\": 2962}, {\"Acceleration\": 19.0, \"Weight\": 2408}, {\"Acceleration\": 15.0, \"Weight\": 3282}, {\"Acceleration\": 14.5, \"Weight\": 3139}, {\"Acceleration\": 14.0, \"Weight\": 2220}, {\"Acceleration\": 14.0, \"Weight\": 2123}, {\"Acceleration\": 19.5, \"Weight\": 2074}, {\"Acceleration\": 14.5, \"Weight\": 2065}, {\"Acceleration\": 19.0, \"Weight\": 1773}, {\"Acceleration\": 18.0, \"Weight\": 1613}, {\"Acceleration\": 19.0, \"Weight\": 1834}, {\"Acceleration\": 20.5, \"Weight\": 1955}, {\"Acceleration\": 15.5, \"Weight\": 2278}, {\"Acceleration\": 17.0, \"Weight\": 2126}, {\"Acceleration\": 23.5, \"Weight\": 2254}, {\"Acceleration\": 19.5, \"Weight\": 2408}, {\"Acceleration\": 16.5, \"Weight\": 2226}, {\"Acceleration\": 12.0, \"Weight\": 4274}, {\"Acceleration\": 12.0, \"Weight\": 4385}, {\"Acceleration\": 13.5, \"Weight\": 4135}, {\"Acceleration\": 13.0, \"Weight\": 4129}, {\"Acceleration\": 11.5, \"Weight\": 3672}, {\"Acceleration\": 11.0, \"Weight\": 4633}, {\"Acceleration\": 13.5, \"Weight\": 4502}, {\"Acceleration\": 13.5, \"Weight\": 4456}, {\"Acceleration\": 12.5, \"Weight\": 4422}, {\"Acceleration\": 13.5, \"Weight\": 2330}, {\"Acceleration\": 12.5, \"Weight\": 3892}, {\"Acceleration\": 14.0, \"Weight\": 4098}, {\"Acceleration\": 16.0, \"Weight\": 4294}, {\"Acceleration\": 14.0, \"Weight\": 4077}, {\"Acceleration\": 14.5, \"Weight\": 2933}, {\"Acceleration\": 18.0, \"Weight\": 2511}, {\"Acceleration\": 19.5, \"Weight\": 2979}, {\"Acceleration\": 18.0, \"Weight\": 2189}, {\"Acceleration\": 16.0, \"Weight\": 2395}, {\"Acceleration\": 17.0, \"Weight\": 2288}, {\"Acceleration\": 14.5, \"Weight\": 2506}, {\"Acceleration\": 15.0, \"Weight\": 2164}, {\"Acceleration\": 16.5, \"Weight\": 2100}, {\"Acceleration\": 13.0, \"Weight\": 4100}, {\"Acceleration\": 11.5, \"Weight\": 3672}, {\"Acceleration\": 13.0, \"Weight\": 3988}, {\"Acceleration\": 14.5, \"Weight\": 4042}, {\"Acceleration\": 12.5, \"Weight\": 3777}, {\"Acceleration\": 11.5, \"Weight\": 4952}, {\"Acceleration\": 12.0, \"Weight\": 4464}, {\"Acceleration\": 13.0, \"Weight\": 4363}, {\"Acceleration\": 14.5, \"Weight\": 4237}, {\"Acceleration\": 11.0, \"Weight\": 4735}, {\"Acceleration\": 11.0, \"Weight\": 4951}, {\"Acceleration\": 11.0, \"Weight\": 3821}, {\"Acceleration\": 16.5, \"Weight\": 3121}, {\"Acceleration\": 18.0, \"Weight\": 3278}, {\"Acceleration\": 16.0, \"Weight\": 2945}, {\"Acceleration\": 16.5, \"Weight\": 3021}, {\"Acceleration\": 16.0, \"Weight\": 2904}, {\"Acceleration\": 21.0, \"Weight\": 1950}, {\"Acceleration\": 14.0, \"Weight\": 4997}, {\"Acceleration\": 12.5, \"Weight\": 4906}, {\"Acceleration\": 13.0, \"Weight\": 4654}, {\"Acceleration\": 12.5, \"Weight\": 4499}, {\"Acceleration\": 15.0, \"Weight\": 2789}, {\"Acceleration\": 19.0, \"Weight\": 2279}, {\"Acceleration\": 19.5, \"Weight\": 2401}, {\"Acceleration\": 16.5, \"Weight\": 2379}, {\"Acceleration\": 13.5, \"Weight\": 2124}, {\"Acceleration\": 18.5, \"Weight\": 2310}, {\"Acceleration\": 14.0, \"Weight\": 2472}, {\"Acceleration\": 15.5, \"Weight\": 2265}, {\"Acceleration\": 13.0, \"Weight\": 4082}, {\"Acceleration\": 9.5, \"Weight\": 4278}, {\"Acceleration\": 19.5, \"Weight\": 1867}, {\"Acceleration\": 15.5, \"Weight\": 2158}, {\"Acceleration\": 14.0, \"Weight\": 2582}, {\"Acceleration\": 15.5, \"Weight\": 2868}, {\"Acceleration\": 11.0, \"Weight\": 3399}, {\"Acceleration\": 14.0, \"Weight\": 2660}, {\"Acceleration\": 13.5, \"Weight\": 2807}, {\"Acceleration\": 11.0, \"Weight\": 3664}, {\"Acceleration\": 16.5, \"Weight\": 3102}, {\"Acceleration\": 16.0, \"Weight\": 2901}, {\"Acceleration\": 17.0, \"Weight\": 3336}, {\"Acceleration\": 19.0, \"Weight\": 1950}, {\"Acceleration\": 16.5, \"Weight\": 2451}, {\"Acceleration\": 21.0, \"Weight\": 1836}, {\"Acceleration\": 17.0, \"Weight\": 2542}, {\"Acceleration\": 17.0, \"Weight\": 3781}, {\"Acceleration\": 18.0, \"Weight\": 3632}, {\"Acceleration\": 16.5, \"Weight\": 3613}, {\"Acceleration\": 14.0, \"Weight\": 4141}, {\"Acceleration\": 14.5, \"Weight\": 4699}, {\"Acceleration\": 13.5, \"Weight\": 4457}, {\"Acceleration\": 16.0, \"Weight\": 4638}, {\"Acceleration\": 15.5, \"Weight\": 4257}, {\"Acceleration\": 16.5, \"Weight\": 2219}, {\"Acceleration\": 15.5, \"Weight\": 1963}, {\"Acceleration\": 14.5, \"Weight\": 2300}, {\"Acceleration\": 16.5, \"Weight\": 1649}, {\"Acceleration\": 19.0, \"Weight\": 2003}, {\"Acceleration\": 14.5, \"Weight\": 2125}, {\"Acceleration\": 15.5, \"Weight\": 2108}, {\"Acceleration\": 14.0, \"Weight\": 2246}, {\"Acceleration\": 15.0, \"Weight\": 2489}, {\"Acceleration\": 15.5, \"Weight\": 2391}, {\"Acceleration\": 16.0, \"Weight\": 2000}, {\"Acceleration\": 16.0, \"Weight\": 3264}, {\"Acceleration\": 16.0, \"Weight\": 3459}, {\"Acceleration\": 21.0, \"Weight\": 3432}, {\"Acceleration\": 19.5, \"Weight\": 3158}, {\"Acceleration\": 11.5, \"Weight\": 4668}, {\"Acceleration\": 14.0, \"Weight\": 4440}, {\"Acceleration\": 14.5, \"Weight\": 4498}, {\"Acceleration\": 13.5, \"Weight\": 4657}, {\"Acceleration\": 21.0, \"Weight\": 3907}, {\"Acceleration\": 18.5, \"Weight\": 3897}, {\"Acceleration\": 19.0, \"Weight\": 3730}, {\"Acceleration\": 19.0, \"Weight\": 3785}, {\"Acceleration\": 15.0, \"Weight\": 3039}, {\"Acceleration\": 13.5, \"Weight\": 3221}, {\"Acceleration\": 12.0, \"Weight\": 3169}, {\"Acceleration\": 16.0, \"Weight\": 2171}, {\"Acceleration\": 17.0, \"Weight\": 2639}, {\"Acceleration\": 16.0, \"Weight\": 2914}, {\"Acceleration\": 18.5, \"Weight\": 2592}, {\"Acceleration\": 13.5, \"Weight\": 2702}, {\"Acceleration\": 16.5, \"Weight\": 2223}, {\"Acceleration\": 17.0, \"Weight\": 2545}, {\"Acceleration\": 14.5, \"Weight\": 2984}, {\"Acceleration\": 14.0, \"Weight\": 1937}, {\"Acceleration\": 17.0, \"Weight\": 3211}, {\"Acceleration\": 15.0, \"Weight\": 2694}, {\"Acceleration\": 17.0, \"Weight\": 2957}, {\"Acceleration\": 14.5, \"Weight\": 2945}, {\"Acceleration\": 13.5, \"Weight\": 2671}, {\"Acceleration\": 17.5, \"Weight\": 1795}, {\"Acceleration\": 15.5, \"Weight\": 2464}, {\"Acceleration\": 16.9, \"Weight\": 2220}, {\"Acceleration\": 14.9, \"Weight\": 2572}, {\"Acceleration\": 17.7, \"Weight\": 2255}, {\"Acceleration\": 15.3, \"Weight\": 2202}, {\"Acceleration\": 13.0, \"Weight\": 4215}, {\"Acceleration\": 13.0, \"Weight\": 4190}, {\"Acceleration\": 13.9, \"Weight\": 3962}, {\"Acceleration\": 12.8, \"Weight\": 4215}, {\"Acceleration\": 15.4, \"Weight\": 3233}, {\"Acceleration\": 14.5, \"Weight\": 3353}, {\"Acceleration\": 17.6, \"Weight\": 3012}, {\"Acceleration\": 17.6, \"Weight\": 3085}, {\"Acceleration\": 22.2, \"Weight\": 2035}, {\"Acceleration\": 22.1, \"Weight\": 2164}, {\"Acceleration\": 14.2, \"Weight\": 1937}, {\"Acceleration\": 17.4, \"Weight\": 1795}, {\"Acceleration\": 17.7, \"Weight\": 3651}, {\"Acceleration\": 21.0, \"Weight\": 3574}, {\"Acceleration\": 16.2, \"Weight\": 3645}, {\"Acceleration\": 17.8, \"Weight\": 3193}, {\"Acceleration\": 12.2, \"Weight\": 1825}, {\"Acceleration\": 17.0, \"Weight\": 1990}, {\"Acceleration\": 16.4, \"Weight\": 2155}, {\"Acceleration\": 13.6, \"Weight\": 2565}, {\"Acceleration\": 15.7, \"Weight\": 3150}, {\"Acceleration\": 13.2, \"Weight\": 3940}, {\"Acceleration\": 21.9, \"Weight\": 3270}, {\"Acceleration\": 15.5, \"Weight\": 2930}, {\"Acceleration\": 16.7, \"Weight\": 3820}, {\"Acceleration\": 12.1, \"Weight\": 4380}, {\"Acceleration\": 12.0, \"Weight\": 4055}, {\"Acceleration\": 15.0, \"Weight\": 3870}, {\"Acceleration\": 14.0, \"Weight\": 3755}, {\"Acceleration\": 18.5, \"Weight\": 2045}, {\"Acceleration\": 14.8, \"Weight\": 2155}, {\"Acceleration\": 18.6, \"Weight\": 1825}, {\"Acceleration\": 15.5, \"Weight\": 2300}, {\"Acceleration\": 16.8, \"Weight\": 1945}, {\"Acceleration\": 12.5, \"Weight\": 3880}, {\"Acceleration\": 19.0, \"Weight\": 4060}, {\"Acceleration\": 13.7, \"Weight\": 4140}, {\"Acceleration\": 14.9, \"Weight\": 4295}, {\"Acceleration\": 16.4, \"Weight\": 3520}, {\"Acceleration\": 16.9, \"Weight\": 3425}, {\"Acceleration\": 17.7, \"Weight\": 3630}, {\"Acceleration\": 19.0, \"Weight\": 3525}, {\"Acceleration\": 11.1, \"Weight\": 4220}, {\"Acceleration\": 11.4, \"Weight\": 4165}, {\"Acceleration\": 12.2, \"Weight\": 4325}, {\"Acceleration\": 14.5, \"Weight\": 4335}, {\"Acceleration\": 14.5, \"Weight\": 1940}, {\"Acceleration\": 16.0, \"Weight\": 2740}, {\"Acceleration\": 18.2, \"Weight\": 2265}, {\"Acceleration\": 15.8, \"Weight\": 2755}, {\"Acceleration\": 17.0, \"Weight\": 2051}, {\"Acceleration\": 15.9, \"Weight\": 2075}, {\"Acceleration\": 16.4, \"Weight\": 1985}, {\"Acceleration\": 14.1, \"Weight\": 2190}, {\"Acceleration\": 14.5, \"Weight\": 2815}, {\"Acceleration\": 12.8, \"Weight\": 2600}, {\"Acceleration\": 13.5, \"Weight\": 2720}, {\"Acceleration\": 21.5, \"Weight\": 1985}, {\"Acceleration\": 14.4, \"Weight\": 1800}, {\"Acceleration\": 19.4, \"Weight\": 1985}, {\"Acceleration\": 18.6, \"Weight\": 2070}, {\"Acceleration\": 16.4, \"Weight\": 1800}, {\"Acceleration\": 15.5, \"Weight\": 3365}, {\"Acceleration\": 13.2, \"Weight\": 3735}, {\"Acceleration\": 12.8, \"Weight\": 3570}, {\"Acceleration\": 19.2, \"Weight\": 3535}, {\"Acceleration\": 18.2, \"Weight\": 3155}, {\"Acceleration\": 15.8, \"Weight\": 2965}, {\"Acceleration\": 15.4, \"Weight\": 2720}, {\"Acceleration\": 17.2, \"Weight\": 3430}, {\"Acceleration\": 17.2, \"Weight\": 3210}, {\"Acceleration\": 15.8, \"Weight\": 3380}, {\"Acceleration\": 16.7, \"Weight\": 3070}, {\"Acceleration\": 18.7, \"Weight\": 3620}, {\"Acceleration\": 15.1, \"Weight\": 3410}, {\"Acceleration\": 13.2, \"Weight\": 3425}, {\"Acceleration\": 13.4, \"Weight\": 3445}, {\"Acceleration\": 11.2, \"Weight\": 3205}, {\"Acceleration\": 13.7, \"Weight\": 4080}, {\"Acceleration\": 16.5, \"Weight\": 2155}, {\"Acceleration\": 14.2, \"Weight\": 2560}, {\"Acceleration\": 14.7, \"Weight\": 2300}, {\"Acceleration\": 14.5, \"Weight\": 2230}, {\"Acceleration\": 14.8, \"Weight\": 2515}, {\"Acceleration\": 16.7, \"Weight\": 2745}, {\"Acceleration\": 17.6, \"Weight\": 2855}, {\"Acceleration\": 14.9, \"Weight\": 2405}, {\"Acceleration\": 15.9, \"Weight\": 2830}, {\"Acceleration\": 13.6, \"Weight\": 3140}, {\"Acceleration\": 15.7, \"Weight\": 2795}, {\"Acceleration\": 15.8, \"Weight\": 3410}, {\"Acceleration\": 14.9, \"Weight\": 1990}, {\"Acceleration\": 16.6, \"Weight\": 2135}, {\"Acceleration\": 15.4, \"Weight\": 3245}, {\"Acceleration\": 18.2, \"Weight\": 2990}, {\"Acceleration\": 17.3, \"Weight\": 2890}, {\"Acceleration\": 18.2, \"Weight\": 3265}, {\"Acceleration\": 16.6, \"Weight\": 3360}, {\"Acceleration\": 15.4, \"Weight\": 3840}, {\"Acceleration\": 13.4, \"Weight\": 3725}, {\"Acceleration\": 13.2, \"Weight\": 3955}, {\"Acceleration\": 15.2, \"Weight\": 3830}, {\"Acceleration\": 14.9, \"Weight\": 4360}, {\"Acceleration\": 14.3, \"Weight\": 4054}, {\"Acceleration\": 15.0, \"Weight\": 3605}, {\"Acceleration\": 13.0, \"Weight\": 3940}, {\"Acceleration\": 14.0, \"Weight\": 1925}, {\"Acceleration\": 15.2, \"Weight\": 1975}, {\"Acceleration\": 14.4, \"Weight\": 1915}, {\"Acceleration\": 15.0, \"Weight\": 2670}, {\"Acceleration\": 20.1, \"Weight\": 3530}, {\"Acceleration\": 17.4, \"Weight\": 3900}, {\"Acceleration\": 24.8, \"Weight\": 3190}, {\"Acceleration\": 22.2, \"Weight\": 3420}, {\"Acceleration\": 13.2, \"Weight\": 2200}, {\"Acceleration\": 14.9, \"Weight\": 2150}, {\"Acceleration\": 19.2, \"Weight\": 2020}, {\"Acceleration\": 14.7, \"Weight\": 2130}, {\"Acceleration\": 16.0, \"Weight\": 2670}, {\"Acceleration\": 11.3, \"Weight\": 2595}, {\"Acceleration\": 12.9, \"Weight\": 2700}, {\"Acceleration\": 13.2, \"Weight\": 2556}, {\"Acceleration\": 14.7, \"Weight\": 2144}, {\"Acceleration\": 18.8, \"Weight\": 1968}, {\"Acceleration\": 15.5, \"Weight\": 2120}, {\"Acceleration\": 16.4, \"Weight\": 2019}, {\"Acceleration\": 16.5, \"Weight\": 2678}, {\"Acceleration\": 18.1, \"Weight\": 2870}, {\"Acceleration\": 20.1, \"Weight\": 3003}, {\"Acceleration\": 18.7, \"Weight\": 3381}, {\"Acceleration\": 15.8, \"Weight\": 2188}, {\"Acceleration\": 15.5, \"Weight\": 2711}, {\"Acceleration\": 17.5, \"Weight\": 2542}, {\"Acceleration\": 15.0, \"Weight\": 2434}, {\"Acceleration\": 15.2, \"Weight\": 2265}, {\"Acceleration\": 17.9, \"Weight\": 2110}, {\"Acceleration\": 14.4, \"Weight\": 2800}, {\"Acceleration\": 19.2, \"Weight\": 2110}, {\"Acceleration\": 21.7, \"Weight\": 2085}, {\"Acceleration\": 23.7, \"Weight\": 2335}, {\"Acceleration\": 19.9, \"Weight\": 2950}, {\"Acceleration\": 21.8, \"Weight\": 3250}, {\"Acceleration\": 13.8, \"Weight\": 1850}, {\"Acceleration\": 18.0, \"Weight\": 2145}, {\"Acceleration\": 15.3, \"Weight\": 1845}, {\"Acceleration\": 11.4, \"Weight\": 2910}, {\"Acceleration\": 12.5, \"Weight\": 2420}, {\"Acceleration\": 15.1, \"Weight\": 2500}, {\"Acceleration\": 17.0, \"Weight\": 2290}, {\"Acceleration\": 15.7, \"Weight\": 2490}, {\"Acceleration\": 16.4, \"Weight\": 2635}, {\"Acceleration\": 14.4, \"Weight\": 2620}, {\"Acceleration\": 12.6, \"Weight\": 2725}, {\"Acceleration\": 12.9, \"Weight\": 2385}, {\"Acceleration\": 16.9, \"Weight\": 1755}, {\"Acceleration\": 16.4, \"Weight\": 1875}, {\"Acceleration\": 16.1, \"Weight\": 1760}, {\"Acceleration\": 17.8, \"Weight\": 2065}, {\"Acceleration\": 19.4, \"Weight\": 1975}, {\"Acceleration\": 17.3, \"Weight\": 2050}, {\"Acceleration\": 16.0, \"Weight\": 1985}, {\"Acceleration\": 14.9, \"Weight\": 2215}, {\"Acceleration\": 16.2, \"Weight\": 2045}, {\"Acceleration\": 20.7, \"Weight\": 2380}, {\"Acceleration\": 14.2, \"Weight\": 2190}, {\"Acceleration\": 14.4, \"Weight\": 2210}, {\"Acceleration\": 16.8, \"Weight\": 2350}, {\"Acceleration\": 14.8, \"Weight\": 2615}, {\"Acceleration\": 18.3, \"Weight\": 2635}, {\"Acceleration\": 20.4, \"Weight\": 3230}, {\"Acceleration\": 19.6, \"Weight\": 3160}, {\"Acceleration\": 12.6, \"Weight\": 2900}, {\"Acceleration\": 13.8, \"Weight\": 2930}, {\"Acceleration\": 15.8, \"Weight\": 3415}, {\"Acceleration\": 19.0, \"Weight\": 3725}, {\"Acceleration\": 17.1, \"Weight\": 3060}, {\"Acceleration\": 16.6, \"Weight\": 3465}, {\"Acceleration\": 19.6, \"Weight\": 2605}, {\"Acceleration\": 18.6, \"Weight\": 2640}, {\"Acceleration\": 18.0, \"Weight\": 2395}, {\"Acceleration\": 16.2, \"Weight\": 2575}, {\"Acceleration\": 16.0, \"Weight\": 2525}, {\"Acceleration\": 18.0, \"Weight\": 2735}, {\"Acceleration\": 16.4, \"Weight\": 2865}, {\"Acceleration\": 15.3, \"Weight\": 1980}, {\"Acceleration\": 18.2, \"Weight\": 2025}, {\"Acceleration\": 17.6, \"Weight\": 1970}, {\"Acceleration\": 14.7, \"Weight\": 2125}, {\"Acceleration\": 17.3, \"Weight\": 2125}, {\"Acceleration\": 14.5, \"Weight\": 2160}, {\"Acceleration\": 14.5, \"Weight\": 2205}, {\"Acceleration\": 16.9, \"Weight\": 2245}, {\"Acceleration\": 15.0, \"Weight\": 1965}, {\"Acceleration\": 15.7, \"Weight\": 1965}, {\"Acceleration\": 16.2, \"Weight\": 1995}, {\"Acceleration\": 16.4, \"Weight\": 2945}, {\"Acceleration\": 17.0, \"Weight\": 3015}, {\"Acceleration\": 14.5, \"Weight\": 2585}, {\"Acceleration\": 14.7, \"Weight\": 2835}, {\"Acceleration\": 13.9, \"Weight\": 2665}, {\"Acceleration\": 13.0, \"Weight\": 2370}, {\"Acceleration\": 17.3, \"Weight\": 2950}, {\"Acceleration\": 15.6, \"Weight\": 2790}, {\"Acceleration\": 24.6, \"Weight\": 2130}, {\"Acceleration\": 11.6, \"Weight\": 2295}, {\"Acceleration\": 18.6, \"Weight\": 2625}, {\"Acceleration\": 19.4, \"Weight\": 2720}]}, \"vislib\": \"vegalite\"}]}, {\"action\": \"Distribution\", \"description\": \"Show univariate histograms of <p class='highlight-descriptor'>quantitative</p>  attributes.\", \"long_description\": \"Distribution displays univariate histogram distributions of all quantitative attributes (e.g., MilesPerGal). Visualizations are ranked from most to least skewed.\", \"vspec\": [{\"config\": {\"view\": {\"continuousWidth\": 400, \"continuousHeight\": 300}, \"axis\": {\"labelColor\": \"#505050\", \"labelFont\": \"Helvetica Neue\", \"labelFontSize\": 9, \"labelFontWeight\": 400, \"titleFont\": \"Helvetica Neue\", \"titleFontSize\": 11, \"titleFontWeight\": 500}, \"legend\": {\"labelFont\": \"Helvetica Neue\", \"labelFontSize\": 9, \"labelFontWeight\": 400, \"titleFont\": \"Helvetica Neue\", \"titleFontSize\": 10, \"titleFontWeight\": 500}, \"title\": {\"font\": \"Helvetica Neue\", \"fontSize\": 13, \"fontWeight\": 500}}, \"data\": {\"name\": \"data-00de0f367a500a24d770b379e083a088\"}, \"mark\": \"bar\", \"encoding\": {\"x\": {\"type\": \"quantitative\", \"axis\": {\"title\": \"Horsepower (binned)\"}, \"bin\": {\"binned\": true, \"step\": 18.400000000000006}, \"field\": \"Horsepower\", \"scale\": {\"domain\": [46.0, 230.0]}, \"title\": \"Horsepower (binned)\"}, \"x2\": {\"field\": \"Horsepower_end\"}, \"y\": {\"type\": \"quantitative\", \"field\": \"Number of Records\"}}, \"height\": 300.0, \"width\": 320.0, \"$schema\": \"https://vega.github.io/schema/vega-lite/v4.8.1.json\", \"datasets\": {\"data-00de0f367a500a24d770b379e083a088\": [{\"Horsepower\": 46.0, \"Number of Records\": 27.0, \"Horsepower_end\": 65.32}, {\"Horsepower\": 64.4, \"Number of Records\": 95.0, \"Horsepower_end\": 83.72}, {\"Horsepower\": 82.8, \"Number of Records\": 120.0, \"Horsepower_end\": 102.12}, {\"Horsepower\": 101.19999999999999, \"Number of Records\": 44.0, \"Horsepower_end\": 120.51999999999998}, {\"Horsepower\": 119.6, \"Number of Records\": 19.0, \"Horsepower_end\": 138.92}, {\"Horsepower\": 138.0, \"Number of Records\": 47.0, \"Horsepower_end\": 157.32}, {\"Horsepower\": 156.39999999999998, \"Number of Records\": 13.0, \"Horsepower_end\": 175.71999999999997}, {\"Horsepower\": 174.79999999999998, \"Number of Records\": 14.0, \"Horsepower_end\": 194.11999999999998}, {\"Horsepower\": 193.2, \"Number of Records\": 5.0, \"Horsepower_end\": 212.51999999999998}, {\"Horsepower\": 211.6, \"Number of Records\": 8.0, \"Horsepower_end\": 230.92}]}, \"vislib\": \"vegalite\"}, {\"config\": {\"view\": {\"continuousWidth\": 400, \"continuousHeight\": 300}, \"axis\": {\"labelColor\": \"#505050\", \"labelFont\": \"Helvetica Neue\", \"labelFontSize\": 9, \"labelFontWeight\": 400, \"titleFont\": \"Helvetica Neue\", \"titleFontSize\": 11, \"titleFontWeight\": 500}, \"legend\": {\"labelFont\": \"Helvetica Neue\", \"labelFontSize\": 9, \"labelFontWeight\": 400, \"titleFont\": \"Helvetica Neue\", \"titleFontSize\": 10, \"titleFontWeight\": 500}, \"title\": {\"font\": \"Helvetica Neue\", \"fontSize\": 13, \"fontWeight\": 500}}, \"data\": {\"name\": \"data-41dc8c578d56fc9d5c7490fed3b7a973\"}, \"mark\": \"bar\", \"encoding\": {\"x\": {\"type\": \"quantitative\", \"axis\": {\"title\": \"Displacement (binned)\"}, \"bin\": {\"binned\": true, \"step\": 38.7}, \"field\": \"Displacement\", \"scale\": {\"domain\": [68.0, 455.0]}, \"title\": \"Displacement (binned)\"}, \"x2\": {\"field\": \"Displacement_end\"}, \"y\": {\"type\": \"quantitative\", \"field\": \"Number of Records\"}}, \"height\": 300.0, \"width\": 320.0, \"$schema\": \"https://vega.github.io/schema/vega-lite/v4.8.1.json\", \"datasets\": {\"data-41dc8c578d56fc9d5c7490fed3b7a973\": [{\"Displacement\": 68.0, \"Number of Records\": 104.0, \"Displacement_end\": 108.64}, {\"Displacement\": 106.7, \"Number of Records\": 88.0, \"Displacement_end\": 147.34}, {\"Displacement\": 145.4, \"Number of Records\": 30.0, \"Displacement_end\": 186.04000000000002}, {\"Displacement\": 184.10000000000002, \"Number of Records\": 12.0, \"Displacement_end\": 224.74}, {\"Displacement\": 222.8, \"Number of Records\": 57.0, \"Displacement_end\": 263.44}, {\"Displacement\": 261.5, \"Number of Records\": 3.0, \"Displacement_end\": 302.14}, {\"Displacement\": 300.20000000000005, \"Number of Records\": 42.0, \"Displacement_end\": 340.84000000000003}, {\"Displacement\": 338.90000000000003, \"Number of Records\": 31.0, \"Displacement_end\": 379.54}, {\"Displacement\": 377.6, \"Number of Records\": 16.0, \"Displacement_end\": 418.24}, {\"Displacement\": 416.3, \"Number of Records\": 9.0, \"Displacement_end\": 456.94}]}, \"vislib\": \"vegalite\"}, {\"config\": {\"view\": {\"continuousWidth\": 400, \"continuousHeight\": 300}, \"axis\": {\"labelColor\": \"#505050\", \"labelFont\": \"Helvetica Neue\", \"labelFontSize\": 9, \"labelFontWeight\": 400, \"titleFont\": \"Helvetica Neue\", \"titleFontSize\": 11, \"titleFontWeight\": 500}, \"legend\": {\"labelFont\": \"Helvetica Neue\", \"labelFontSize\": 9, \"labelFontWeight\": 400, \"titleFont\": \"Helvetica Neue\", \"titleFontSize\": 10, \"titleFontWeight\": 500}, \"title\": {\"font\": \"Helvetica Neue\", \"fontSize\": 13, \"fontWeight\": 500}}, \"data\": {\"name\": \"data-dbaaeaba98cff40a52a5a9f5fe926e1b\"}, \"mark\": \"bar\", \"encoding\": {\"x\": {\"type\": \"quantitative\", \"axis\": {\"title\": \"Weight (binned)\"}, \"bin\": {\"binned\": true, \"step\": 352.70000000000005}, \"field\": \"Weight\", \"scale\": {\"domain\": [1613.0, 5140.0]}, \"title\": \"Weight (binned)\"}, \"x2\": {\"field\": \"Weight_end\"}, \"y\": {\"type\": \"quantitative\", \"field\": \"Number of Records\"}}, \"height\": 300.0, \"width\": 320.0, \"$schema\": \"https://vega.github.io/schema/vega-lite/v4.8.1.json\", \"datasets\": {\"data-dbaaeaba98cff40a52a5a9f5fe926e1b\": [{\"Weight\": 1613.0, \"Number of Records\": 30.0, \"Weight_end\": 1983.34}, {\"Weight\": 1965.7, \"Number of Records\": 89.0, \"Weight_end\": 2336.04}, {\"Weight\": 2318.4, \"Number of Records\": 58.0, \"Weight_end\": 2688.7400000000002}, {\"Weight\": 2671.1, \"Number of Records\": 52.0, \"Weight_end\": 3041.44}, {\"Weight\": 3023.8, \"Number of Records\": 36.0, \"Weight_end\": 3394.1400000000003}, {\"Weight\": 3376.5, \"Number of Records\": 40.0, \"Weight_end\": 3746.84}, {\"Weight\": 3729.2, \"Number of Records\": 29.0, \"Weight_end\": 4099.54}, {\"Weight\": 4081.9, \"Number of Records\": 34.0, \"Weight_end\": 4452.24}, {\"Weight\": 4434.6, \"Number of Records\": 18.0, \"Weight_end\": 4804.9400000000005}, {\"Weight\": 4787.299999999999, \"Number of Records\": 6.0, \"Weight_end\": 5157.639999999999}]}, \"vislib\": \"vegalite\"}, {\"config\": {\"view\": {\"continuousWidth\": 400, \"continuousHeight\": 300}, \"axis\": {\"labelColor\": \"#505050\", \"labelFont\": \"Helvetica Neue\", \"labelFontSize\": 9, \"labelFontWeight\": 400, \"titleFont\": \"Helvetica Neue\", \"titleFontSize\": 11, \"titleFontWeight\": 500}, \"legend\": {\"labelFont\": \"Helvetica Neue\", \"labelFontSize\": 9, \"labelFontWeight\": 400, \"titleFont\": \"Helvetica Neue\", \"titleFontSize\": 10, \"titleFontWeight\": 500}, \"title\": {\"font\": \"Helvetica Neue\", \"fontSize\": 13, \"fontWeight\": 500}}, \"data\": {\"name\": \"data-3d97640f4991c7d2b561b5dbe443f032\"}, \"mark\": \"bar\", \"encoding\": {\"x\": {\"type\": \"quantitative\", \"axis\": {\"title\": \"Acceleration (binned)\"}, \"bin\": {\"binned\": true, \"step\": 1.6799999999999997}, \"field\": \"Acceleration\", \"scale\": {\"domain\": [8.0, 24.8]}, \"title\": \"Acceleration (binned)\"}, \"x2\": {\"field\": \"Acceleration_end\"}, \"y\": {\"type\": \"quantitative\", \"field\": \"Number of Records\"}}, \"height\": 300.0, \"width\": 320.0, \"$schema\": \"https://vega.github.io/schema/vega-lite/v4.8.1.json\", \"datasets\": {\"data-3d97640f4991c7d2b561b5dbe443f032\": [{\"Acceleration\": 8.0, \"Number of Records\": 6.0, \"Acceleration_end\": 9.76}, {\"Acceleration\": 9.68, \"Number of Records\": 15.0, \"Acceleration_end\": 11.44}, {\"Acceleration\": 11.36, \"Number of Records\": 50.0, \"Acceleration_end\": 13.12}, {\"Acceleration\": 13.040000000000001, \"Number of Records\": 85.0, \"Acceleration_end\": 14.8}, {\"Acceleration\": 14.72, \"Number of Records\": 91.0, \"Acceleration_end\": 16.48}, {\"Acceleration\": 16.4, \"Number of Records\": 78.0, \"Acceleration_end\": 18.16}, {\"Acceleration\": 18.080000000000002, \"Number of Records\": 44.0, \"Acceleration_end\": 19.840000000000003}, {\"Acceleration\": 19.76, \"Number of Records\": 12.0, \"Acceleration_end\": 21.520000000000003}, {\"Acceleration\": 21.44, \"Number of Records\": 7.0, \"Acceleration_end\": 23.200000000000003}, {\"Acceleration\": 23.12, \"Number of Records\": 4.0, \"Acceleration_end\": 24.880000000000003}]}, \"vislib\": \"vegalite\"}, {\"config\": {\"view\": {\"continuousWidth\": 400, \"continuousHeight\": 300}, \"axis\": {\"labelColor\": \"#505050\", \"labelFont\": \"Helvetica Neue\", \"labelFontSize\": 9, \"labelFontWeight\": 400, \"titleFont\": \"Helvetica Neue\", \"titleFontSize\": 11, \"titleFontWeight\": 500}, \"legend\": {\"labelFont\": \"Helvetica Neue\", \"labelFontSize\": 9, \"labelFontWeight\": 400, \"titleFont\": \"Helvetica Neue\", \"titleFontSize\": 10, \"titleFontWeight\": 500}, \"title\": {\"font\": \"Helvetica Neue\", \"fontSize\": 13, \"fontWeight\": 500}}, \"data\": {\"name\": \"data-d0556e40b884ee6b585d1475b5acad41\"}, \"mark\": \"bar\", \"encoding\": {\"x\": {\"type\": \"quantitative\", \"axis\": {\"title\": \"MilesPerGal (binned)\"}, \"bin\": {\"binned\": true, \"step\": 3.76}, \"field\": \"MilesPerGal\", \"scale\": {\"domain\": [9.0, 46.6]}, \"title\": \"MilesPerGal (binned)\"}, \"x2\": {\"field\": \"MilesPerGal_end\"}, \"y\": {\"type\": \"quantitative\", \"field\": \"Number of Records\"}}, \"height\": 300.0, \"width\": 320.0, \"$schema\": \"https://vega.github.io/schema/vega-lite/v4.8.1.json\", \"datasets\": {\"data-d0556e40b884ee6b585d1475b5acad41\": [{\"MilesPerGal\": 9.0, \"Number of Records\": 13.0, \"MilesPerGal_end\": 12.95}, {\"MilesPerGal\": 12.76, \"Number of Records\": 78.0, \"MilesPerGal_end\": 16.71}, {\"MilesPerGal\": 16.52, \"Number of Records\": 73.0, \"MilesPerGal_end\": 20.47}, {\"MilesPerGal\": 20.28, \"Number of Records\": 58.0, \"MilesPerGal_end\": 24.23}, {\"MilesPerGal\": 24.04, \"Number of Records\": 53.0, \"MilesPerGal_end\": 27.99}, {\"MilesPerGal\": 27.8, \"Number of Records\": 48.0, \"MilesPerGal_end\": 31.75}, {\"MilesPerGal\": 31.560000000000002, \"Number of Records\": 37.0, \"MilesPerGal_end\": 35.510000000000005}, {\"MilesPerGal\": 35.32, \"Number of Records\": 22.0, \"MilesPerGal_end\": 39.27}, {\"MilesPerGal\": 39.08, \"Number of Records\": 4.0, \"MilesPerGal_end\": 43.03}, {\"MilesPerGal\": 42.84, \"Number of Records\": 6.0, \"MilesPerGal_end\": 46.790000000000006}]}, \"vislib\": \"vegalite\"}]}, {\"action\": \"Occurrence\", \"description\": \"Show frequency of occurrence for <p class='highlight-descriptor'>categorical</p> attributes.\", \"long_description\": \"Occurence displays bar charts of counts for all categorical attributes (e.g., Name). Visualizations are ranked from most to least uneven across the bars. \", \"vspec\": [{\"config\": {\"view\": {\"continuousWidth\": 400, \"continuousHeight\": 300}, \"axis\": {\"labelColor\": \"#505050\", \"labelFont\": \"Helvetica Neue\", \"labelFontSize\": 9, \"labelFontWeight\": 400, \"titleFont\": \"Helvetica Neue\", \"titleFontSize\": 11, \"titleFontWeight\": 500}, \"legend\": {\"labelFont\": \"Helvetica Neue\", \"labelFontSize\": 9, \"labelFontWeight\": 400, \"titleFont\": \"Helvetica Neue\", \"titleFontSize\": 10, \"titleFontWeight\": 500}, \"mark\": {\"tooltip\": {\"content\": \"encoding\"}}, \"title\": {\"font\": \"Helvetica Neue\", \"fontSize\": 13, \"fontWeight\": 500}}, \"data\": {\"name\": \"data-0985ffa20e4510c8d0c036fc2a5cf644\"}, \"mark\": \"bar\", \"encoding\": {\"x\": {\"type\": \"quantitative\", \"axis\": {\"title\": \"Number of Records\"}, \"field\": \"Record\", \"title\": \"Number of Records\"}, \"y\": {\"type\": \"nominal\", \"axis\": {\"labelOverlap\": true, \"title\": \"Origin\"}, \"field\": \"Origin\"}}, \"height\": 300.0, \"width\": 320.0, \"$schema\": \"https://vega.github.io/schema/vega-lite/v4.8.1.json\", \"datasets\": {\"data-0985ffa20e4510c8d0c036fc2a5cf644\": [{\"Origin\": \"Europe\", \"Record\": 68}, {\"Origin\": \"Japan\", \"Record\": 79}, {\"Origin\": \"USA\", \"Record\": 245}]}, \"vislib\": \"vegalite\"}, {\"config\": {\"view\": {\"continuousWidth\": 400, \"continuousHeight\": 300}, \"axis\": {\"labelColor\": \"#505050\", \"labelFont\": \"Helvetica Neue\", \"labelFontSize\": 9, \"labelFontWeight\": 400, \"titleFont\": \"Helvetica Neue\", \"titleFontSize\": 11, \"titleFontWeight\": 500}, \"legend\": {\"labelFont\": \"Helvetica Neue\", \"labelFontSize\": 9, \"labelFontWeight\": 400, \"titleFont\": \"Helvetica Neue\", \"titleFontSize\": 10, \"titleFontWeight\": 500}, \"mark\": {\"tooltip\": {\"content\": \"encoding\"}}, \"title\": {\"font\": \"Helvetica Neue\", \"fontSize\": 13, \"fontWeight\": 500}}, \"data\": {\"name\": \"data-dce13a4266057e29cb85ebaf810dfe91\"}, \"mark\": \"bar\", \"encoding\": {\"x\": {\"type\": \"quantitative\", \"axis\": {\"title\": \"Number of Records\"}, \"field\": \"Record\", \"title\": \"Number of Records\"}, \"y\": {\"type\": \"nominal\", \"axis\": {\"labelOverlap\": true, \"title\": \"Cylinders\"}, \"field\": \"Cylinders\"}}, \"height\": 300.0, \"width\": 320.0, \"$schema\": \"https://vega.github.io/schema/vega-lite/v4.8.1.json\", \"datasets\": {\"data-dce13a4266057e29cb85ebaf810dfe91\": [{\"Cylinders\": 3, \"Record\": 4}, {\"Cylinders\": 4, \"Record\": 199}, {\"Cylinders\": 5, \"Record\": 3}, {\"Cylinders\": 6, \"Record\": 83}, {\"Cylinders\": 8, \"Record\": 103}]}, \"vislib\": \"vegalite\"}, {\"config\": {\"view\": {\"continuousWidth\": 400, \"continuousHeight\": 300}, \"axis\": {\"labelColor\": \"#505050\", \"labelFont\": \"Helvetica Neue\", \"labelFontSize\": 9, \"labelFontWeight\": 400, \"titleFont\": \"Helvetica Neue\", \"titleFontSize\": 11, \"titleFontWeight\": 500}, \"legend\": {\"labelFont\": \"Helvetica Neue\", \"labelFontSize\": 9, \"labelFontWeight\": 400, \"titleFont\": \"Helvetica Neue\", \"titleFontSize\": 10, \"titleFontWeight\": 500}, \"mark\": {\"tooltip\": {\"content\": \"encoding\"}}, \"title\": {\"font\": \"Helvetica Neue\", \"fontSize\": 13, \"fontWeight\": 500}}, \"layer\": [{\"data\": {\"name\": \"data-bda5c946a0f3c456d65b6a0ad150e044\"}, \"mark\": \"bar\", \"encoding\": {\"x\": {\"type\": \"quantitative\", \"axis\": {\"title\": \"Number of Records\"}, \"field\": \"Record\", \"title\": \"Number of Records\"}, \"y\": {\"type\": \"nominal\", \"axis\": {\"labelOverlap\": true, \"title\": \"Brand\"}, \"field\": \"Brand\", \"sort\": \"-x\"}}}, {\"data\": {\"name\": \"data-bda5c946a0f3c456d65b6a0ad150e044\"}, \"mark\": {\"type\": \"text\", \"align\": \"right\", \"color\": \"#ff8e04\", \"fontSize\": 11, \"text\": \"+ 19 more ...\", \"x\": 310.0, \"y\": 284.0}}], \"height\": 300.0, \"width\": 320.0, \"$schema\": \"https://vega.github.io/schema/vega-lite/v4.8.1.json\", \"datasets\": {\"data-bda5c946a0f3c456d65b6a0ad150e044\": [{\"Brand\": \"ford\", \"Record\": 49}, {\"Brand\": \"chevrolet\", \"Record\": 47}, {\"Brand\": \"plymouth\", \"Record\": 31}, {\"Brand\": \"dodge\", \"Record\": 28}, {\"Brand\": \"amc\", \"Record\": 27}, {\"Brand\": \"toyota\", \"Record\": 26}, {\"Brand\": \"datsun\", \"Record\": 23}, {\"Brand\": \"volkswagen\", \"Record\": 22}, {\"Brand\": \"buick\", \"Record\": 17}, {\"Brand\": \"pontiac\", \"Record\": 16}]}, \"vislib\": \"vegalite\"}, {\"config\": {\"view\": {\"continuousWidth\": 400, \"continuousHeight\": 300}, \"axis\": {\"labelColor\": \"#505050\", \"labelFont\": \"Helvetica Neue\", \"labelFontSize\": 9, \"labelFontWeight\": 400, \"titleFont\": \"Helvetica Neue\", \"titleFontSize\": 11, \"titleFontWeight\": 500}, \"legend\": {\"labelFont\": \"Helvetica Neue\", \"labelFontSize\": 9, \"labelFontWeight\": 400, \"titleFont\": \"Helvetica Neue\", \"titleFontSize\": 10, \"titleFontWeight\": 500}, \"mark\": {\"tooltip\": {\"content\": \"encoding\"}}, \"title\": {\"font\": \"Helvetica Neue\", \"fontSize\": 13, \"fontWeight\": 500}}, \"layer\": [{\"data\": {\"name\": \"data-6dc91d0c6d454601fa559907253af08f\"}, \"mark\": \"bar\", \"encoding\": {\"x\": {\"type\": \"quantitative\", \"axis\": {\"title\": \"Number of Records\"}, \"field\": \"Record\", \"title\": \"Number of Records\"}, \"y\": {\"type\": \"nominal\", \"axis\": {\"labelOverlap\": true, \"title\": \"Name\"}, \"field\": \"Name\", \"sort\": \"-x\"}}}, {\"data\": {\"name\": \"data-6dc91d0c6d454601fa559907253af08f\"}, \"mark\": {\"type\": \"text\", \"align\": \"right\", \"color\": \"#ff8e04\", \"fontSize\": 11, \"text\": \"+ 290 more ...\", \"x\": 310.0, \"y\": 284.0}}], \"height\": 300.0, \"width\": 320.0, \"$schema\": \"https://vega.github.io/schema/vega-lite/v4.8.1.json\", \"datasets\": {\"data-6dc91d0c6d454601fa559907253af08f\": [{\"Name\": \"amc matador\", \"Record\": 5}, {\"Name\": \"ford pinto\", \"Record\": 5}, {\"Name\": \"toyota corolla\", \"Record\": 5}, {\"Name\": \"amc gremlin\", \"Record\": 4}, {\"Name\": \"amc hornet\", \"Record\": 4}, {\"Name\": \"chevrolet chevette\", \"Record\": 4}, {\"Name\": \"chevrolet impala\", \"Record\": 4}, {\"Name\": \"ford maverick\", \"Record\": 4}, {\"Name\": \"peugeot 504\", \"Record\": 4}, {\"Name\": \"toyota corona\", \"Record\": 4}]}, \"vislib\": \"vegalite\"}]}, {\"action\": \"Temporal\", \"description\": \"Show trends over <p class='highlight-descriptor'>time-related</p> attributes.\", \"long_description\": \"Temporal displays line charts for all attributes related to datetimes in the dataframe.\", \"vspec\": [{\"config\": {\"view\": {\"continuousWidth\": 400, \"continuousHeight\": 300}, \"axis\": {\"labelColor\": \"#505050\", \"labelFont\": \"Helvetica Neue\", \"labelFontSize\": 9, \"labelFontWeight\": 400, \"titleFont\": \"Helvetica Neue\", \"titleFontSize\": 11, \"titleFontWeight\": 500}, \"legend\": {\"labelFont\": \"Helvetica Neue\", \"labelFontSize\": 9, \"labelFontWeight\": 400, \"titleFont\": \"Helvetica Neue\", \"titleFontSize\": 10, \"titleFontWeight\": 500}, \"title\": {\"font\": \"Helvetica Neue\", \"fontSize\": 13, \"fontWeight\": 500}}, \"data\": {\"name\": \"data-ac44db2291f29ee64910ba95c02a0d6f\"}, \"mark\": \"line\", \"encoding\": {\"x\": {\"type\": \"temporal\", \"axis\": {\"title\": \"Year\"}, \"field\": \"Year\"}, \"y\": {\"type\": \"quantitative\", \"axis\": {\"title\": \"Record\"}, \"field\": \"Record\", \"title\": \"Number of Records\"}}, \"height\": 300.0, \"selection\": {\"selector011\": {\"type\": \"interval\", \"bind\": \"scales\", \"encodings\": [\"x\", \"y\"]}}, \"width\": 320.0, \"$schema\": \"https://vega.github.io/schema/vega-lite/v4.8.1.json\", \"datasets\": {\"data-ac44db2291f29ee64910ba95c02a0d6f\": [{\"Year\": \"1970-01-01T00:00:00\", \"Record\": 29}, {\"Year\": \"1971-01-01T00:00:00\", \"Record\": 27}, {\"Year\": \"1972-01-01T00:00:00\", \"Record\": 28}, {\"Year\": \"1973-01-01T00:00:00\", \"Record\": 40}, {\"Year\": \"1974-01-01T00:00:00\", \"Record\": 26}, {\"Year\": \"1975-01-01T00:00:00\", \"Record\": 30}, {\"Year\": \"1976-01-01T00:00:00\", \"Record\": 34}, {\"Year\": \"1977-01-01T00:00:00\", \"Record\": 28}, {\"Year\": \"1978-01-01T00:00:00\", \"Record\": 36}, {\"Year\": \"1979-01-01T00:00:00\", \"Record\": 29}, {\"Year\": \"1980-01-01T00:00:00\", \"Record\": 27}, {\"Year\": \"1982-01-01T00:00:00\", \"Record\": 58}]}, \"vislib\": \"vegalite\"}]}], \"selectedIntentIndex\": {}}}}}\n",
      "Saved HTML to bob.html\n"
     ]
    },
    {
     "data": {
      "application/vnd.jupyter.widget-view+json": {
       "model_id": "3218805f66ec412fa201132a8522ad1b",
       "version_major": 2,
       "version_minor": 0
      },
      "text/plain": [
       "Button(description='Toggle Pandas/Lux', layout=Layout(top='5px', width='140px'), style=ButtonStyle())"
      ]
     },
     "metadata": {},
     "output_type": "display_data"
    },
    {
     "data": {
      "application/vnd.jupyter.widget-view+json": {
       "model_id": "e062f85b88dc4424946562a7a1217c89",
       "version_major": 2,
       "version_minor": 0
      },
      "text/plain": [
       "Output()"
      ]
     },
     "metadata": {},
     "output_type": "display_data"
    }
   ],
   "source": [
    "import lux\n",
    "import pandas as pd\n",
    "lux.config.default_display = \"lux\"\n",
    "lux.config.plotting_backend = \"altair\"\n",
    "\n",
    "df = pd.read_csv(\"https://github.com/lux-org/lux-datasets/blob/master/data/car.csv?raw=True\")\n",
    "lux.config.plotting_scale  = 2\n",
    "df['Year'] = pd.to_datetime(df['Year'], format='%Y')\n",
    "df.save_as_html(\"bob.html\")\n",
    "df"
   ]
  },
  {
   "cell_type": "code",
   "execution_count": 8,
   "metadata": {},
   "outputs": [
    {
     "data": {
      "text/html": [
       "\n",
       "<div id=\"altair-viz-4df5249b31704963944ab17cab5e5ecb\"></div>\n",
       "<script type=\"text/javascript\">\n",
       "  (function(spec, embedOpt){\n",
       "    let outputDiv = document.currentScript.previousElementSibling;\n",
       "    if (outputDiv.id !== \"altair-viz-4df5249b31704963944ab17cab5e5ecb\") {\n",
       "      outputDiv = document.getElementById(\"altair-viz-4df5249b31704963944ab17cab5e5ecb\");\n",
       "    }\n",
       "    const paths = {\n",
       "      \"vega\": \"https://cdn.jsdelivr.net/npm//vega@5?noext\",\n",
       "      \"vega-lib\": \"https://cdn.jsdelivr.net/npm//vega-lib?noext\",\n",
       "      \"vega-lite\": \"https://cdn.jsdelivr.net/npm//vega-lite@4.8.1?noext\",\n",
       "      \"vega-embed\": \"https://cdn.jsdelivr.net/npm//vega-embed@6?noext\",\n",
       "    };\n",
       "\n",
       "    function loadScript(lib) {\n",
       "      return new Promise(function(resolve, reject) {\n",
       "        var s = document.createElement('script');\n",
       "        s.src = paths[lib];\n",
       "        s.async = true;\n",
       "        s.onload = () => resolve(paths[lib]);\n",
       "        s.onerror = () => reject(`Error loading script: ${paths[lib]}`);\n",
       "        document.getElementsByTagName(\"head\")[0].appendChild(s);\n",
       "      });\n",
       "    }\n",
       "\n",
       "    function showError(err) {\n",
       "      outputDiv.innerHTML = `<div class=\"error\" style=\"color:red;\">${err}</div>`;\n",
       "      throw err;\n",
       "    }\n",
       "\n",
       "    function displayChart(vegaEmbed) {\n",
       "      vegaEmbed(outputDiv, spec, embedOpt)\n",
       "        .catch(err => showError(`Javascript Error: ${err.message}<br>This usually means there's a typo in your chart specification. See the javascript console for the full traceback.`));\n",
       "    }\n",
       "\n",
       "    if(typeof define === \"function\" && define.amd) {\n",
       "      requirejs.config({paths});\n",
       "      require([\"vega-embed\"], displayChart, err => showError(`Error loading script: ${err.message}`));\n",
       "    } else if (typeof vegaEmbed === \"function\") {\n",
       "      displayChart(vegaEmbed);\n",
       "    } else {\n",
       "      loadScript(\"vega\")\n",
       "        .then(() => loadScript(\"vega-lite\"))\n",
       "        .then(() => loadScript(\"vega-embed\"))\n",
       "        .catch(showError)\n",
       "        .then(() => displayChart(vegaEmbed));\n",
       "    }\n",
       "  })({\"config\": {\"view\": {\"continuousWidth\": 400, \"continuousHeight\": 300}, \"axis\": {\"labelColor\": \"#505050\", \"labelFont\": \"Helvetica Neue\", \"labelFontSize\": 8, \"labelFontWeight\": 400, \"titleFont\": \"Helvetica Neue\", \"titleFontSize\": 11, \"titleFontWeight\": 500}, \"legend\": {\"labelFont\": \"Helvetica Neue\", \"labelFontSize\": 8, \"labelFontWeight\": 400, \"titleFont\": \"Helvetica Neue\", \"titleFontSize\": 10, \"titleFontWeight\": 500}, \"title\": {\"font\": \"Helvetica Neue\", \"fontSize\": 13, \"fontWeight\": 500}}, \"data\": {\"name\": \"data-41dc8c578d56fc9d5c7490fed3b7a973\"}, \"mark\": \"bar\", \"encoding\": {\"x\": {\"type\": \"quantitative\", \"axis\": {\"labelOverlap\": true, \"title\": \"Displacement (binned)\"}, \"bin\": {\"binned\": true, \"step\": 38.7}, \"field\": \"Displacement\", \"scale\": {\"domain\": [68.0, 455.0]}, \"title\": \"Displacement (binned)\"}, \"x2\": {\"field\": \"Displacement_end\"}, \"y\": {\"type\": \"quantitative\", \"field\": \"Number of Records\"}}, \"height\": 150, \"width\": 160, \"$schema\": \"https://vega.github.io/schema/vega-lite/v4.8.1.json\", \"datasets\": {\"data-41dc8c578d56fc9d5c7490fed3b7a973\": [{\"Displacement\": 68.0, \"Number of Records\": 104.0, \"Displacement_end\": 108.64}, {\"Displacement\": 106.7, \"Number of Records\": 88.0, \"Displacement_end\": 147.34}, {\"Displacement\": 145.4, \"Number of Records\": 30.0, \"Displacement_end\": 186.04000000000002}, {\"Displacement\": 184.10000000000002, \"Number of Records\": 12.0, \"Displacement_end\": 224.74}, {\"Displacement\": 222.8, \"Number of Records\": 57.0, \"Displacement_end\": 263.44}, {\"Displacement\": 261.5, \"Number of Records\": 3.0, \"Displacement_end\": 302.14}, {\"Displacement\": 300.20000000000005, \"Number of Records\": 42.0, \"Displacement_end\": 340.84000000000003}, {\"Displacement\": 338.90000000000003, \"Number of Records\": 31.0, \"Displacement_end\": 379.54}, {\"Displacement\": 377.6, \"Number of Records\": 16.0, \"Displacement_end\": 418.24}, {\"Displacement\": 416.3, \"Number of Records\": 9.0, \"Displacement_end\": 456.94}]}}, {\"mode\": \"vega-lite\"});\n",
       "</script>"
      ],
      "text/plain": [
       "alt.Chart(...)"
      ]
     },
     "execution_count": 8,
     "metadata": {},
     "output_type": "execute_result"
    }
   ],
   "source": [
    "import altair as alt\n",
    "visData = pd.DataFrame({'Displacement': {0: 68.0, 1: 106.7, 2: 145.4, 3: 184.10000000000002, 4: 222.8, 5: 261.5, 6: 300.20000000000005, 7: 338.90000000000003, 8: 377.6, 9: 416.3}, 'Number of Records': {0: 104.0, 1: 88.0, 2: 30.0, 3: 12.0, 4: 57.0, 5: 3.0, 6: 42.0, 7: 31.0, 8: 16.0, 9: 9.0}, 'Displacement_end': {0: 108.64, 1: 147.34, 2: 186.04000000000002, 3: 224.74, 4: 263.44, 5: 302.14, 6: 340.84000000000003, 7: 379.54, 8: 418.24, 9: 456.94}})\n",
    "\n",
    "chart = alt.Chart(visData).mark_bar().encode(\n",
    "    x=alt.X('Displacement', title='Displacement (binned)',bin=alt.Bin(binned=True, step=38.7), type='quantitative', axis=alt.Axis(labelOverlap=True, title='Displacement (binned)'), scale=alt.Scale(domain=(68.0, 455.0))),\n",
    "            x2='Displacement_end',\n",
    "    y=alt.Y(\"Number of Records\", type=\"quantitative\")\n",
    ")\n",
    "\n",
    "chart = chart.configure_title(fontWeight=500,fontSize=13,font='Helvetica Neue')\n",
    "chart = chart.configure_axis(titleFontWeight=500,titleFontSize=11,titleFont='Helvetica Neue',\n",
    "\t\t\tlabelFontWeight=400,labelFontSize=8,labelFont='Helvetica Neue',labelColor='#505050')\n",
    "chart = chart.configure_legend(titleFontWeight=500,titleFontSize=10,titleFont='Helvetica Neue',\n",
    "\t\t\tlabelFontWeight=400,labelFontSize=8,labelFont='Helvetica Neue')\n",
    "chart = chart.properties(width=160,height=150)\n",
    "\n",
    "chart"
   ]
  },
  {
   "cell_type": "code",
   "execution_count": null,
   "metadata": {},
   "outputs": [],
   "source": []
  },
  {
   "cell_type": "code",
   "execution_count": 8,
   "metadata": {},
   "outputs": [
    {
     "name": "stderr",
     "output_type": "stream",
     "text": [
      "/Users/micahyong/Desktop/lux/lux/lux/executor/PandasExecutor.py:401: UserWarning:\n",
      "Lux detects that the attribute 'last_review' may be temporal.\n",
      "To display visualizations for these attributes accurately, please convert temporal attributes to Pandas Datetime objects using the pd.to_datetime function and provide a 'format' parameter to specify the datetime format of the attribute.\n",
      "For example, you can convert a year-only attribute (e.g., 1998, 1971, 1982) to Datetime type by specifying the `format` as '%Y'.\n",
      "\n",
      "Here is a starter template that you can use for converting the temporal fields:\n",
      "\tdf['last_review'] = pd.to_datetime(df['last_review'], format='<replace-with-datetime-format>')\n",
      "\n",
      "See more at: https://pandas.pydata.org/pandas-docs/stable/reference/api/pandas.to_datetime.html\n",
      "If last_review is not a temporal attribute, please use override Lux's automatically detected type:\n",
      "\tdf.set_data_type({'last_review':'quantitative'})\n"
     ]
    },
    {
     "data": {
      "application/vnd.jupyter.widget-view+json": {
       "model_id": "83e27bbfca894dd689056b63efeac332",
       "version_major": 2,
       "version_minor": 0
      },
      "text/plain": [
       "Button(description='Toggle Pandas/Lux', layout=Layout(top='5px', width='140px'), style=ButtonStyle())"
      ]
     },
     "metadata": {},
     "output_type": "display_data"
    },
    {
     "data": {
      "application/vnd.jupyter.widget-view+json": {
       "model_id": "0ff5b98113af418f9608204ca2d34c90",
       "version_major": 2,
       "version_minor": 0
      },
      "text/plain": [
       "Output()"
      ]
     },
     "metadata": {},
     "output_type": "display_data"
    },
    {
     "data": {
      "text/plain": []
     },
     "execution_count": 8,
     "metadata": {},
     "output_type": "execute_result"
    }
   ],
   "source": [
    "df = pd.read_csv(\"https://github.com/lux-org/lux-datasets/blob/master/data/airbnb_nyc.csv?raw=true\")\n",
    "df"
   ]
  },
  {
   "cell_type": "code",
   "execution_count": 3,
   "metadata": {},
   "outputs": [
    {
     "name": "stderr",
     "output_type": "stream",
     "text": [
      "/Users/micahyong/Desktop/lux/lux/lux/executor/PandasExecutor.py:403: UserWarning:\n",
      "Lux detects that the attribute 'Year' may be temporal.\n",
      "To display visualizations for these attributes accurately, please convert temporal attributes to Pandas Datetime objects using the pd.to_datetime function and provide a 'format' parameter to specify the datetime format of the attribute.\n",
      "For example, you can convert a year-only attribute (e.g., 1998, 1971, 1982) to Datetime type by specifying the `format` as '%Y'.\n",
      "\n",
      "Here is a starter template that you can use for converting the temporal fields:\n",
      "\tdf['Year'] = pd.to_datetime(df['Year'], format='<replace-with-datetime-format>')\n",
      "\n",
      "See more at: https://pandas.pydata.org/pandas-docs/stable/reference/api/pandas.to_datetime.html\n",
      "If Year is not a temporal attribute, please use override Lux's automatically detected type:\n",
      "\tdf.set_data_type({'Year':'quantitative'})\n"
     ]
    },
    {
     "data": {
      "application/vnd.jupyter.widget-view+json": {
       "model_id": "9543693b6e904ae8845be041e6fe62e4",
       "version_major": 2,
       "version_minor": 0
      },
      "text/plain": [
       "Button(description='Toggle Pandas/Lux', layout=Layout(top='5px', width='140px'), style=ButtonStyle())"
      ]
     },
     "metadata": {},
     "output_type": "display_data"
    },
    {
     "data": {
      "application/vnd.jupyter.widget-view+json": {
       "model_id": "772c43eb1b064cfe95aa7bb21633b461",
       "version_major": 2,
       "version_minor": 0
      },
      "text/plain": [
       "Output()"
      ]
     },
     "metadata": {},
     "output_type": "display_data"
    },
    {
     "data": {
      "text/plain": []
     },
     "execution_count": 3,
     "metadata": {},
     "output_type": "execute_result"
    }
   ],
   "source": [
    "import lux\n",
    "import pandas as pd\n",
    "\n",
    "df = pd.read_csv(\"https://github.com/lux-org/lux-datasets/blob/master/data/olympic.csv?raw=True\")\n",
    "# df.intent=[\"Height\"]\n",
    "lux.config.default_display = \"lux\"\n",
    "df"
   ]
  },
  {
   "cell_type": "code",
   "execution_count": null,
   "metadata": {},
   "outputs": [],
   "source": []
  },
  {
   "cell_type": "code",
   "execution_count": null,
   "metadata": {},
   "outputs": [],
   "source": []
  },
  {
   "cell_type": "code",
   "execution_count": null,
   "metadata": {},
   "outputs": [],
   "source": []
  },
  {
   "cell_type": "code",
   "execution_count": null,
   "metadata": {},
   "outputs": [],
   "source": []
  },
  {
   "cell_type": "code",
   "execution_count": null,
   "metadata": {},
   "outputs": [],
   "source": []
  },
  {
   "cell_type": "code",
   "execution_count": null,
   "metadata": {},
   "outputs": [],
   "source": []
  },
  {
   "cell_type": "code",
   "execution_count": null,
   "metadata": {},
   "outputs": [],
   "source": []
  },
  {
   "cell_type": "code",
   "execution_count": null,
   "metadata": {},
   "outputs": [],
   "source": []
  },
  {
   "cell_type": "code",
   "execution_count": 15,
   "metadata": {},
   "outputs": [
    {
     "data": {
      "text/plain": [
       "(<Vis  (x: BIN(severityScore), y: COUNT(Record)) mark: histogram, score: 0.0 >,\n",
       " 4.08)"
      ]
     },
     "execution_count": 15,
     "metadata": {},
     "output_type": "execute_result"
    }
   ],
   "source": [
    "vis = Vis([\"severityScore\"], df)\n",
    "bin_size = get_bin_size(vis.data[\"severityScore\"])\n",
    "\n",
    "vis, bin_size"
   ]
  },
  {
   "cell_type": "code",
   "execution_count": 2,
   "metadata": {
    "scrolled": true
   },
   "outputs": [
    {
     "data": {
      "application/vnd.jupyter.widget-view+json": {
       "model_id": "47cc7101c16b41b99f58827a63838660",
       "version_major": 2,
       "version_minor": 0
      },
      "text/plain": [
       "Button(description='Toggle Pandas/Lux', layout=Layout(top='5px', width='140px'), style=ButtonStyle())"
      ]
     },
     "metadata": {},
     "output_type": "display_data"
    },
    {
     "data": {
      "application/vnd.jupyter.widget-view+json": {
       "model_id": "377525d27d0a4d25917921ad41a10634",
       "version_major": 2,
       "version_minor": 0
      },
      "text/plain": [
       "Output()"
      ]
     },
     "metadata": {},
     "output_type": "display_data"
    },
    {
     "data": {
      "text/plain": []
     },
     "execution_count": 2,
     "metadata": {},
     "output_type": "execute_result"
    }
   ],
   "source": [
    "import lux\n",
    "import pandas as pd\n",
    "import numpy as np\n",
    "df = pd.read_csv(\n",
    "\"https://raw.githubusercontent.com/altair-viz/vega_datasets/master/vega_datasets/_data/airports.csv\"\n",
    ")\n",
    "df['magnitude'] = np.random.randint(0,20, size=len(df))\n",
    "lux.config.default_display = \"lux\"\n",
    "df"
   ]
  },
  {
   "cell_type": "code",
   "execution_count": null,
   "metadata": {},
   "outputs": [],
   "source": []
  },
  {
   "cell_type": "code",
   "execution_count": null,
   "metadata": {},
   "outputs": [],
   "source": [
    "\n",
    "\n",
    "\n",
    "\n",
    "\n",
    "\n"
   ]
  },
  {
   "cell_type": "code",
   "execution_count": 3,
   "metadata": {},
   "outputs": [
    {
     "data": {
      "text/plain": [
       "UrlData({\n",
       "  format: TopoDataFormat({\n",
       "    feature: 'states',\n",
       "    type: 'topojson'\n",
       "  }),\n",
       "  url: 'https://cdn.jsdelivr.net/npm/vega-datasets@v1.29.0/data/us-10m.json'\n",
       "})"
      ]
     },
     "execution_count": 3,
     "metadata": {},
     "output_type": "execute_result"
    }
   ],
   "source": [
    "import altair as alt\n",
    "from vega_datasets import data\n",
    "\n",
    "data.us_10m.url\n",
    "states = alt.topo_feature('https://cdn.jsdelivr.net/npm/vega-datasets@v1.29.0/data/us-10m.json', feature='states')\n",
    "states"
   ]
  },
  {
   "cell_type": "code",
   "execution_count": 14,
   "metadata": {},
   "outputs": [
    {
     "name": "stderr",
     "output_type": "stream",
     "text": [
      "/Users/micahyong/Desktop/lux/lux/lux/executor/PandasExecutor.py:401: UserWarning:\n",
      "Lux detects that attributes ['time', 'updated'] may be temporal.\n",
      "To display visualizations for these attributes accurately, please convert temporal attributes to Pandas Datetime objects using the pd.to_datetime function and provide a 'format' parameter to specify the datetime format of the attribute.\n",
      "For example, you can convert a year-only attribute (e.g., 1998, 1971, 1982) to Datetime type by specifying the `format` as '%Y'.\n",
      "\n",
      "Here is a starter template that you can use for converting the temporal fields:\n",
      "\tdf['time'] = pd.to_datetime(df['time'], format='<replace-with-datetime-format>')\n",
      "\tdf['updated'] = pd.to_datetime(df['updated'], format='<replace-with-datetime-format>')\n",
      "\n",
      "See more at: https://pandas.pydata.org/pandas-docs/stable/reference/api/pandas.to_datetime.html\n",
      "If updated is not a temporal attribute, please use override Lux's automatically detected type:\n",
      "\tdf.set_data_type({'updated':'quantitative'})\n"
     ]
    },
    {
     "data": {
      "application/vnd.jupyter.widget-view+json": {
       "model_id": "49791683b13c4a8e814153b8c0da9a40",
       "version_major": 2,
       "version_minor": 0
      },
      "text/plain": [
       "Button(description='Toggle Pandas/Lux', layout=Layout(top='5px', width='140px'), style=ButtonStyle())"
      ]
     },
     "metadata": {},
     "output_type": "display_data"
    },
    {
     "data": {
      "application/vnd.jupyter.widget-view+json": {
       "model_id": "0691102b39334acfa934c3818a03c31b",
       "version_major": 2,
       "version_minor": 0
      },
      "text/plain": [
       "Output()"
      ]
     },
     "metadata": {},
     "output_type": "display_data"
    },
    {
     "data": {
      "text/plain": []
     },
     "execution_count": 14,
     "metadata": {},
     "output_type": "execute_result"
    }
   ],
   "source": [
    "df = pd.read_csv(\"~/Downloads/all_month.csv\")\n",
    "df "
   ]
  },
  {
   "cell_type": "code",
   "execution_count": 30,
   "metadata": {},
   "outputs": [
    {
     "name": "stderr",
     "output_type": "stream",
     "text": [
      "/Users/micahyong/Desktop/lux/lux/lux/executor/PandasExecutor.py:401: UserWarning:\n",
      "Lux detects that attributes ['time', 'updated'] may be temporal.\n",
      "To display visualizations for these attributes accurately, please convert temporal attributes to Pandas Datetime objects using the pd.to_datetime function and provide a 'format' parameter to specify the datetime format of the attribute.\n",
      "For example, you can convert a year-only attribute (e.g., 1998, 1971, 1982) to Datetime type by specifying the `format` as '%Y'.\n",
      "\n",
      "Here is a starter template that you can use for converting the temporal fields:\n",
      "\tdf['time'] = pd.to_datetime(df['time'], format='<replace-with-datetime-format>')\n",
      "\tdf['updated'] = pd.to_datetime(df['updated'], format='<replace-with-datetime-format>')\n",
      "\n",
      "See more at: https://pandas.pydata.org/pandas-docs/stable/reference/api/pandas.to_datetime.html\n",
      "If updated is not a temporal attribute, please use override Lux's automatically detected type:\n",
      "\tdf.set_data_type({'updated':'quantitative'})\n"
     ]
    },
    {
     "data": {
      "application/vnd.jupyter.widget-view+json": {
       "model_id": "f377dd264a2d4c99a62fc74c2d8589dd",
       "version_major": 2,
       "version_minor": 0
      },
      "text/plain": [
       "Button(description='Toggle Pandas/Lux', layout=Layout(top='5px', width='140px'), style=ButtonStyle())"
      ]
     },
     "metadata": {},
     "output_type": "display_data"
    },
    {
     "data": {
      "application/vnd.jupyter.widget-view+json": {
       "model_id": "fd771c9f458741e4b63046c88e6b015e",
       "version_major": 2,
       "version_minor": 0
      },
      "text/plain": [
       "Output()"
      ]
     },
     "metadata": {},
     "output_type": "display_data"
    },
    {
     "data": {
      "text/plain": []
     },
     "execution_count": 30,
     "metadata": {},
     "output_type": "execute_result"
    }
   ],
   "source": [
    "df['state'] = df['place'].str.extract(r'([^(, )]*$)', expand=True)\n",
    "df"
   ]
  },
  {
   "cell_type": "code",
   "execution_count": null,
   "metadata": {},
   "outputs": [],
   "source": [
    "\n",
    "\n",
    "\n",
    "\n",
    "\n",
    "\n",
    "\n",
    "\n",
    "\n"
   ]
  },
  {
   "cell_type": "code",
   "execution_count": 3,
   "metadata": {},
   "outputs": [
    {
     "name": "stdout",
     "output_type": "stream",
     "text": [
      "<Vis  (x: BIN(rate), y: COUNT(Record)) mark: histogram, score: 0.0 >\n",
      "\n"
     ]
    },
    {
     "data": {
      "application/vnd.jupyter.widget-view+json": {
       "model_id": "91458995cc834122a93e82e8c14d269f",
       "version_major": 2,
       "version_minor": 0
      },
      "text/plain": [
       "Button(description='Toggle Pandas/Lux', layout=Layout(top='5px', width='140px'), style=ButtonStyle())"
      ]
     },
     "metadata": {},
     "output_type": "display_data"
    },
    {
     "data": {
      "application/vnd.jupyter.widget-view+json": {
       "model_id": "8fe3e59385bc41b2b2ee8200a6f38b49",
       "version_major": 2,
       "version_minor": 0
      },
      "text/plain": [
       "Output()"
      ]
     },
     "metadata": {},
     "output_type": "display_data"
    },
    {
     "data": {
      "text/plain": []
     },
     "execution_count": 3,
     "metadata": {},
     "output_type": "execute_result"
    }
   ],
   "source": [
    "import altair as alt\n",
    "from vega_datasets import data\n",
    "\n",
    "counties = alt.topo_feature(data.us_10m.url, 'counties')\n",
    "source = data.unemployment.url\n",
    "\n",
    "pts = alt.Chart(counties).mark_geoshape().encode(\n",
    "    color='rate:Q'\n",
    ").transform_lookup(\n",
    "    lookup='id',\n",
    "    from_=alt.LookupData(source, 'id', ['rate'])\n",
    ").project(\n",
    "    type='albersUsa'\n",
    ").properties(\n",
    "    width=500,\n",
    "    height=300\n",
    ")\n",
    "\n",
    "data.unemployment()"
   ]
  },
  {
   "cell_type": "code",
   "execution_count": 2,
   "metadata": {},
   "outputs": [
    {
     "name": "stderr",
     "output_type": "stream",
     "text": [
      "/Users/micahyong/Desktop/lux/lux/lux/executor/PandasExecutor.py:401: UserWarning:\n",
      "Lux detects that the attribute 'Date' may be temporal.\n",
      "To display visualizations for these attributes accurately, please convert temporal attributes to Pandas Datetime objects using the pd.to_datetime function and provide a 'format' parameter to specify the datetime format of the attribute.\n",
      "For example, you can convert a year-only attribute (e.g., 1998, 1971, 1982) to Datetime type by specifying the `format` as '%Y'.\n",
      "\n",
      "Here is a starter template that you can use for converting the temporal fields:\n",
      "\tdf['Date'] = pd.to_datetime(df['Date'], format='<replace-with-datetime-format>')\n",
      "\n",
      "See more at: https://pandas.pydata.org/pandas-docs/stable/reference/api/pandas.to_datetime.html\n",
      "If Date is not a temporal attribute, please use override Lux's automatically detected type:\n",
      "\tdf.set_data_type({'Date':'quantitative'})\n"
     ]
    },
    {
     "data": {
      "application/vnd.jupyter.widget-view+json": {
       "model_id": "51cc448c1c464e2f8a1d34e60b180081",
       "version_major": 2,
       "version_minor": 0
      },
      "text/plain": [
       "Button(description='Toggle Pandas/Lux', layout=Layout(top='5px', width='140px'), style=ButtonStyle())"
      ]
     },
     "metadata": {},
     "output_type": "display_data"
    },
    {
     "data": {
      "application/vnd.jupyter.widget-view+json": {
       "model_id": "a239fa063ec442d39b94bf8aada528bf",
       "version_major": 2,
       "version_minor": 0
      },
      "text/plain": [
       "Output()"
      ]
     },
     "metadata": {},
     "output_type": "display_data"
    },
    {
     "data": {
      "text/plain": []
     },
     "execution_count": 2,
     "metadata": {},
     "output_type": "execute_result"
    }
   ],
   "source": [
    "import lux\n",
    "import pandas as pd\n",
    "import numpy as np\n",
    "\n",
    "df = pd.read_csv(\n",
    "        \"https://github.com/lux-org/lux-datasets/blob/master/data/state_timeseries.csv?raw=true\"\n",
    "    )\n",
    "df.maintain_metadata()\n",
    "df"
   ]
  },
  {
   "cell_type": "code",
   "execution_count": 2,
   "metadata": {},
   "outputs": [
    {
     "data": {
      "text/plain": [
       "{'Date': 'temporal', 'State': 'geographical', 'Value': 'quantitative'}"
      ]
     },
     "execution_count": 2,
     "metadata": {},
     "output_type": "execute_result"
    }
   ],
   "source": [
    "df.data_type"
   ]
  },
  {
   "cell_type": "code",
   "execution_count": 39,
   "metadata": {},
   "outputs": [
    {
     "name": "stdout",
     "output_type": "stream",
     "text": [
      "<Vis  (x: COUNT(Record), y: fips) mark: bar, score: 0.0 >\n",
      "<Vis  (x: COUNT(Record), y: st) mark: bar, score: 0.0 >\n",
      "\n"
     ]
    },
    {
     "name": "stderr",
     "output_type": "stream",
     "text": [
      "/Users/micahyong/.local/lib/python3.8/site-packages/IPython/core/formatters.py:345: UserWarning:\n",
      "Lux defaults to Pandas when there are no valid actions defined.\n"
     ]
    },
    {
     "data": {
      "text/html": [
       "<div>\n",
       "<style scoped>\n",
       "    .dataframe tbody tr th:only-of-type {\n",
       "        vertical-align: middle;\n",
       "    }\n",
       "\n",
       "    .dataframe tbody tr th {\n",
       "        vertical-align: top;\n",
       "    }\n",
       "\n",
       "    .dataframe thead th {\n",
       "        text-align: right;\n",
       "    }\n",
       "</style>\n",
       "<table border=\"1\" class=\"dataframe\">\n",
       "  <thead>\n",
       "    <tr style=\"text-align: right;\">\n",
       "      <th></th>\n",
       "      <th>st</th>\n",
       "      <th>value</th>\n",
       "      <th>fips</th>\n",
       "    </tr>\n",
       "  </thead>\n",
       "  <tbody>\n",
       "    <tr>\n",
       "      <th>0</th>\n",
       "      <td>NY</td>\n",
       "      <td>22</td>\n",
       "      <td>36</td>\n",
       "    </tr>\n",
       "  </tbody>\n",
       "</table>\n",
       "</div>"
      ],
      "text/plain": [
       "   st  value fips\n",
       "0  NY     22   36"
      ]
     },
     "metadata": {},
     "output_type": "display_data"
    },
    {
     "data": {
      "text/plain": []
     },
     "execution_count": 39,
     "metadata": {},
     "output_type": "execute_result"
    }
   ],
   "source": [
    "import us\n",
    "\n",
    "data = {'st':  [\"NY\"],\n",
    "        'value': [22]\n",
    "        }\n",
    "\n",
    "test_df = pd.DataFrame(data, columns = ['st', 'value'])\n",
    "test_df['fips'] = test_df['st'].apply(lambda x: us.states.lookup(x).fips)\n",
    "\n",
    "test_df"
   ]
  },
  {
   "cell_type": "code",
   "execution_count": 17,
   "metadata": {},
   "outputs": [
    {
     "data": {
      "text/html": [
       "\n",
       "<div id=\"altair-viz-783bf46646a74857a0b0f41ddffa5a48\"></div>\n",
       "<script type=\"text/javascript\">\n",
       "  (function(spec, embedOpt){\n",
       "    let outputDiv = document.currentScript.previousElementSibling;\n",
       "    if (outputDiv.id !== \"altair-viz-783bf46646a74857a0b0f41ddffa5a48\") {\n",
       "      outputDiv = document.getElementById(\"altair-viz-783bf46646a74857a0b0f41ddffa5a48\");\n",
       "    }\n",
       "    const paths = {\n",
       "      \"vega\": \"https://cdn.jsdelivr.net/npm//vega@5?noext\",\n",
       "      \"vega-lib\": \"https://cdn.jsdelivr.net/npm//vega-lib?noext\",\n",
       "      \"vega-lite\": \"https://cdn.jsdelivr.net/npm//vega-lite@4.8.1?noext\",\n",
       "      \"vega-embed\": \"https://cdn.jsdelivr.net/npm//vega-embed@6?noext\",\n",
       "    };\n",
       "\n",
       "    function loadScript(lib) {\n",
       "      return new Promise(function(resolve, reject) {\n",
       "        var s = document.createElement('script');\n",
       "        s.src = paths[lib];\n",
       "        s.async = true;\n",
       "        s.onload = () => resolve(paths[lib]);\n",
       "        s.onerror = () => reject(`Error loading script: ${paths[lib]}`);\n",
       "        document.getElementsByTagName(\"head\")[0].appendChild(s);\n",
       "      });\n",
       "    }\n",
       "\n",
       "    function showError(err) {\n",
       "      outputDiv.innerHTML = `<div class=\"error\" style=\"color:red;\">${err}</div>`;\n",
       "      throw err;\n",
       "    }\n",
       "\n",
       "    function displayChart(vegaEmbed) {\n",
       "      vegaEmbed(outputDiv, spec, embedOpt)\n",
       "        .catch(err => showError(`Javascript Error: ${err.message}<br>This usually means there's a typo in your chart specification. See the javascript console for the full traceback.`));\n",
       "    }\n",
       "\n",
       "    if(typeof define === \"function\" && define.amd) {\n",
       "      requirejs.config({paths});\n",
       "      require([\"vega-embed\"], displayChart, err => showError(`Error loading script: ${err.message}`));\n",
       "    } else if (typeof vegaEmbed === \"function\") {\n",
       "      displayChart(vegaEmbed);\n",
       "    } else {\n",
       "      loadScript(\"vega\")\n",
       "        .then(() => loadScript(\"vega-lite\"))\n",
       "        .then(() => loadScript(\"vega-embed\"))\n",
       "        .catch(showError)\n",
       "        .then(() => displayChart(vegaEmbed));\n",
       "    }\n",
       "  })({\"config\": {\"view\": {\"continuousWidth\": 400, \"continuousHeight\": 300}}, \"data\": {\"url\": \"https://cdn.jsdelivr.net/npm/vega-datasets@v1.29.0/data/us-10m.json\", \"format\": {\"feature\": \"states\", \"type\": \"topojson\"}}, \"mark\": \"geoshape\", \"encoding\": {\"color\": {\"type\": \"quantitative\", \"field\": \"rate\"}}, \"height\": 300, \"projection\": {\"type\": \"albersUsa\"}, \"transform\": [{\"lookup\": \"id\", \"from\": {\"data\": {\"url\": \"https://cdn.jsdelivr.net/npm/vega-datasets@v1.29.0/data/unemployment.tsv\"}, \"key\": \"id\", \"fields\": [\"rate\"]}}], \"width\": 500, \"$schema\": \"https://vega.github.io/schema/vega-lite/v4.8.1.json\"}, {\"mode\": \"vega-lite\"});\n",
       "</script>"
      ],
      "text/plain": [
       "alt.Chart(...)"
      ]
     },
     "execution_count": 17,
     "metadata": {},
     "output_type": "execute_result"
    }
   ],
   "source": [
    "import altair as alt\n",
    "from vega_datasets import data\n",
    "\n",
    "states = alt.topo_feature(data.us_10m.url, 'states')\n",
    "source = data.unemployment.url\n",
    "\n",
    "alt.Chart(states).mark_geoshape().encode(\n",
    "    color='rate:Q'\n",
    ").transform_lookup(\n",
    "    lookup='id',\n",
    "    from_=alt.LookupData(source, 'id', ['rate'])\n",
    ").project(\n",
    "    type='albersUsa'\n",
    ").properties(\n",
    "    width=500,\n",
    "    height=300\n",
    ")"
   ]
  },
  {
   "cell_type": "code",
   "execution_count": 12,
   "metadata": {},
   "outputs": [
    {
     "data": {
      "text/html": [
       "\n",
       "<div id=\"altair-viz-15d4435af49247fea536c7ea6768230d\"></div>\n",
       "<script type=\"text/javascript\">\n",
       "  (function(spec, embedOpt){\n",
       "    let outputDiv = document.currentScript.previousElementSibling;\n",
       "    if (outputDiv.id !== \"altair-viz-15d4435af49247fea536c7ea6768230d\") {\n",
       "      outputDiv = document.getElementById(\"altair-viz-15d4435af49247fea536c7ea6768230d\");\n",
       "    }\n",
       "    const paths = {\n",
       "      \"vega\": \"https://cdn.jsdelivr.net/npm//vega@5?noext\",\n",
       "      \"vega-lib\": \"https://cdn.jsdelivr.net/npm//vega-lib?noext\",\n",
       "      \"vega-lite\": \"https://cdn.jsdelivr.net/npm//vega-lite@4.8.1?noext\",\n",
       "      \"vega-embed\": \"https://cdn.jsdelivr.net/npm//vega-embed@6?noext\",\n",
       "    };\n",
       "\n",
       "    function loadScript(lib) {\n",
       "      return new Promise(function(resolve, reject) {\n",
       "        var s = document.createElement('script');\n",
       "        s.src = paths[lib];\n",
       "        s.async = true;\n",
       "        s.onload = () => resolve(paths[lib]);\n",
       "        s.onerror = () => reject(`Error loading script: ${paths[lib]}`);\n",
       "        document.getElementsByTagName(\"head\")[0].appendChild(s);\n",
       "      });\n",
       "    }\n",
       "\n",
       "    function showError(err) {\n",
       "      outputDiv.innerHTML = `<div class=\"error\" style=\"color:red;\">${err}</div>`;\n",
       "      throw err;\n",
       "    }\n",
       "\n",
       "    function displayChart(vegaEmbed) {\n",
       "      vegaEmbed(outputDiv, spec, embedOpt)\n",
       "        .catch(err => showError(`Javascript Error: ${err.message}<br>This usually means there's a typo in your chart specification. See the javascript console for the full traceback.`));\n",
       "    }\n",
       "\n",
       "    if(typeof define === \"function\" && define.amd) {\n",
       "      requirejs.config({paths});\n",
       "      require([\"vega-embed\"], displayChart, err => showError(`Error loading script: ${err.message}`));\n",
       "    } else if (typeof vegaEmbed === \"function\") {\n",
       "      displayChart(vegaEmbed);\n",
       "    } else {\n",
       "      loadScript(\"vega\")\n",
       "        .then(() => loadScript(\"vega-lite\"))\n",
       "        .then(() => loadScript(\"vega-embed\"))\n",
       "        .catch(showError)\n",
       "        .then(() => displayChart(vegaEmbed));\n",
       "    }\n",
       "  })({\"config\": {\"view\": {\"continuousWidth\": 400, \"continuousHeight\": 300}}, \"layer\": [{\"data\": {\"url\": \"https://cdn.jsdelivr.net/npm/vega-datasets@v1.29.0/data/us-10m.json\", \"format\": {\"feature\": \"states\", \"type\": \"topojson\"}}, \"mark\": {\"type\": \"geoshape\", \"fill\": \"lightgray\", \"stroke\": \"white\"}, \"height\": 300, \"projection\": {\"type\": \"albersUsa\"}, \"width\": 500}, {\"data\": {\"name\": \"data-0e0a00c1ac8b157b57fe15d09e51d3d2\"}, \"mark\": \"circle\", \"encoding\": {\"color\": {\"value\": \"steelblue\"}, \"latitude\": {\"field\": \"latitude\", \"type\": \"quantitative\"}, \"longitude\": {\"field\": \"longitude\", \"type\": \"quantitative\"}, \"size\": {\"type\": \"quantitative\", \"field\": \"value\", \"title\": \"Magnitude\"}, \"tooltip\": [{\"type\": \"nominal\", \"field\": \"st\"}, {\"type\": \"quantitative\", \"field\": \"value\"}]}, \"title\": \"Number of airports in US\"}], \"$schema\": \"https://vega.github.io/schema/vega-lite/v4.8.1.json\", \"datasets\": {\"data-0e0a00c1ac8b157b57fe15d09e51d3d2\": [{\"st\": \"MS\", \"value\": 22}, {\"st\": \"TX\", \"value\": 12}, {\"st\": \"CA\", \"value\": 5}, {\"st\": \"NY\", \"value\": 77}, {\"st\": \"OH\", \"value\": 41}, {\"st\": \"NC\", \"value\": 4}]}}, {\"mode\": \"vega-lite\"});\n",
       "</script>"
      ],
      "text/plain": [
       "alt.LayerChart(...)"
      ]
     },
     "execution_count": 12,
     "metadata": {},
     "output_type": "execute_result"
    }
   ],
   "source": [
    "import altair as alt\n",
    "from vega_datasets import data\n",
    "\n",
    "airports = data.airports.url\n",
    "states = alt.topo_feature(data.us_10m.url, feature='states')\n",
    "\n",
    "background = alt.Chart(states).mark_geoshape(\n",
    "    fill='lightgray',\n",
    "    stroke='white'\n",
    ").properties(\n",
    "    width=500,\n",
    "    height=300\n",
    ").project('albersUsa')\n",
    "\n",
    "# airport positions on background\n",
    "points = alt.Chart(test_df).mark_circle().encode(\n",
    "    size=alt.Size('value:Q', title='Magnitude'),\n",
    "    color=alt.value('steelblue'),\n",
    "    tooltip=['st:N','value:Q']\n",
    ").properties(\n",
    "    title='Number of airports in US'\n",
    ")\n",
    "\n",
    "background + points"
   ]
  },
  {
   "cell_type": "code",
   "execution_count": null,
   "metadata": {},
   "outputs": [],
   "source": [
    "\n",
    "\n",
    "\n",
    "\n",
    "\n",
    "\n",
    "\n",
    "\n",
    "\n",
    "\n",
    "\n",
    "\n",
    "\n",
    "\n"
   ]
  },
  {
   "cell_type": "code",
   "execution_count": 2,
   "metadata": {},
   "outputs": [],
   "source": [
    "import lux\n",
    "import pandas as pd\n",
    "lux.config.default_display = \"lux\"\n",
    "lux.config.plotting_backend = \"vegalite\""
   ]
  },
  {
   "cell_type": "code",
   "execution_count": 3,
   "metadata": {},
   "outputs": [
    {
     "data": {
      "application/vnd.jupyter.widget-view+json": {
       "model_id": "0c2526e6e6db4068a60cca7674c802f5",
       "version_major": 2,
       "version_minor": 0
      },
      "text/plain": [
       "Button(description='Toggle Pandas/Lux', layout=Layout(top='5px', width='140px'), style=ButtonStyle())"
      ]
     },
     "metadata": {},
     "output_type": "display_data"
    },
    {
     "data": {
      "application/vnd.jupyter.widget-view+json": {
       "model_id": "e5651c8a0d5445ce8fd167bcb74343c5",
       "version_major": 2,
       "version_minor": 0
      },
      "text/plain": [
       "Output()"
      ]
     },
     "metadata": {},
     "output_type": "display_data"
    },
    {
     "data": {
      "text/plain": []
     },
     "execution_count": 3,
     "metadata": {},
     "output_type": "execute_result"
    }
   ],
   "source": [
    "df = pd.read_csv(\"https://github.com/lux-org/lux-datasets/blob/master/data/car.csv?raw=True\")\n",
    "df['Year'] = pd.to_datetime(df['Year'], format='%Y')\n",
    "df"
   ]
  },
  {
   "cell_type": "code",
   "execution_count": 4,
   "metadata": {},
   "outputs": [
    {
     "data": {
      "application/vnd.jupyter.widget-view+json": {
       "model_id": "38d6bf9ba52941b8950e138e05bc8f09",
       "version_major": 2,
       "version_minor": 0
      },
      "text/plain": [
       "Button(description='Toggle Pandas/Lux', layout=Layout(top='5px', width='140px'), style=ButtonStyle())"
      ]
     },
     "metadata": {},
     "output_type": "display_data"
    },
    {
     "data": {
      "application/vnd.jupyter.widget-view+json": {
       "model_id": "f3570f54e5324e4d813958464cac25e4",
       "version_major": 2,
       "version_minor": 0
      },
      "text/plain": [
       "Output()"
      ]
     },
     "metadata": {},
     "output_type": "display_data"
    },
    {
     "data": {
      "text/plain": []
     },
     "execution_count": 4,
     "metadata": {},
     "output_type": "execute_result"
    }
   ],
   "source": [
    "df.intent=[\"Acceleration\"]\n",
    "df"
   ]
  },
  {
   "cell_type": "code",
   "execution_count": null,
   "metadata": {},
   "outputs": [],
   "source": [
    "\n",
    "\n",
    "\n",
    "\n",
    "\n",
    "\n",
    "\n",
    "\n",
    "\n",
    "\n",
    "\n",
    "\n",
    "\n",
    "\n",
    "\n",
    "\n",
    "\n",
    "\n",
    "\n",
    "\n",
    "\n",
    "\n",
    "\n",
    "\n",
    "\n",
    "\n",
    "\n",
    "\n",
    "\n",
    "\n",
    "\n",
    "\n",
    "\n",
    "\n",
    "\n",
    "\n",
    "\n",
    "\n",
    "\n",
    "\n",
    "\n",
    "\n",
    "\n",
    "\n",
    "\n",
    "\n",
    "\n",
    "\n",
    "\n",
    "\n",
    "\n"
   ]
  }
 ],
 "metadata": {
  "kernelspec": {
   "display_name": "Python 3",
   "language": "python",
   "name": "python3"
  },
  "language_info": {
   "codemirror_mode": {
    "name": "ipython",
    "version": 3
   },
   "file_extension": ".py",
   "mimetype": "text/x-python",
   "name": "python",
   "nbconvert_exporter": "python",
   "pygments_lexer": "ipython3",
   "version": "3.8.7"
  }
 },
 "nbformat": 4,
 "nbformat_minor": 4
}

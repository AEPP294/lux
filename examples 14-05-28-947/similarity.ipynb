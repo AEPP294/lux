{
 "cells": [
  {
   "cell_type": "code",
   "execution_count": 7,
   "metadata": {},
   "outputs": [
    {
     "name": "stderr",
     "output_type": "stream",
     "text": [
      "<ipython-input-7-6e94ebfcb4e4>:7: UserWarning:Unsupported vislib type. Vislib should either be `vegalite` or `matplotlib`.\n"
     ]
    },
    {
     "data": {
      "application/vnd.jupyter.widget-view+json": {
       "model_id": "a0a89d7b43c5463687e9fd50e07f9d99",
       "version_major": 2,
       "version_minor": 0
      },
      "text/plain": [
       "Button(description='Toggle Pandas/Lux', layout=Layout(top='5px', width='140px'), style=ButtonStyle())"
      ]
     },
     "metadata": {},
     "output_type": "display_data"
    },
    {
     "data": {
      "application/vnd.jupyter.widget-view+json": {
       "model_id": "c95247e675264cd6a9616e9d2ccb89c8",
       "version_major": 2,
       "version_minor": 0
      },
      "text/plain": [
       "Output()"
      ]
     },
     "metadata": {},
     "output_type": "display_data"
    },
    {
     "data": {
      "text/plain": []
     },
     "execution_count": 7,
     "metadata": {},
     "output_type": "execute_result"
    }
   ],
   "source": [
    "import pandas as pd\n",
    "import lux\n",
    "from lux.vis.Clause import Clause\n",
    "from lux.utils.utils import get_filter_specs\n",
    "\n",
    "lux.config.default_display = \"lux\"\n",
    "lux.config.set_vislib = \"notvegalite\"\n",
    "df"
   ]
  },
  {
   "cell_type": "code",
   "execution_count": 2,
   "metadata": {},
   "outputs": [
    {
     "name": "stderr",
     "output_type": "stream",
     "text": [
      "/opt/anaconda3/lib/python3.8/site-packages/lux_api-0.2.1.2-py3.8.egg/lux/vislib/matplotlib/MatplotlibRenderer.py:70: RuntimeWarning:More than 20 figures have been opened. Figures created through the pyplot interface (`matplotlib.pyplot.figure`) are retained until explicitly closed and may consume too much memory. (To control this warning, see the rcParam `figure.max_open_warning`).\n"
     ]
    },
    {
     "data": {
      "application/vnd.jupyter.widget-view+json": {
       "model_id": "27fe38798a344b27b76cb88c3f4919cc",
       "version_major": 2,
       "version_minor": 0
      },
      "text/plain": [
       "Button(description='Toggle Pandas/Lux', layout=Layout(top='5px', width='140px'), style=ButtonStyle())"
      ]
     },
     "metadata": {},
     "output_type": "display_data"
    },
    {
     "data": {
      "application/vnd.jupyter.widget-view+json": {
       "model_id": "04e49a90bcea4bbc81118fa950fbffee",
       "version_major": 2,
       "version_minor": 0
      },
      "text/plain": [
       "Output()"
      ]
     },
     "metadata": {},
     "output_type": "display_data"
    },
    {
     "data": {
      "text/plain": []
     },
     "execution_count": 2,
     "metadata": {},
     "output_type": "execute_result"
    }
   ],
   "source": [
    "df = pd.read_csv(\"https://raw.githubusercontent.com/lux-org/lux-datasets/master/data/airbnb_nyc.csv\")\n",
    "df['last_review'] = pd.to_datetime(df['last_review'], format='%Y-%m-%d')\n",
    "df"
   ]
  },
  {
   "cell_type": "code",
   "execution_count": 4,
   "metadata": {},
   "outputs": [
    {
     "data": {
      "application/vnd.jupyter.widget-view+json": {
       "model_id": "9bf0c73814a7465b9871d1f488eb7094",
       "version_major": 2,
       "version_minor": 0
      },
      "text/plain": [
       "Button(description='Toggle Pandas/Lux', layout=Layout(top='5px', width='140px'), style=ButtonStyle())"
      ]
     },
     "metadata": {},
     "output_type": "display_data"
    },
    {
     "data": {
      "application/vnd.jupyter.widget-view+json": {
       "model_id": "9e38c1d91f0044078f969e5ea974b568",
       "version_major": 2,
       "version_minor": 0
      },
      "text/plain": [
       "Output()"
      ]
     },
     "metadata": {},
     "output_type": "display_data"
    },
    {
     "data": {
      "text/plain": []
     },
     "execution_count": 4,
     "metadata": {},
     "output_type": "execute_result"
    }
   ],
   "source": [
    "df = pd.read_csv(\"../lux/data/car.csv\")\n",
    "df[\"Year\"] = pd.to_datetime(df[\"Year\"], format='%Y') # change pandas dtype for the column \"Year\" to datetype\n",
    "\n",
    "# df.set_intent([lux.Clause(\"Displacement\",channel=\"x\")])\n",
    "# df.set_intent([lux.Clause(\"Year\",channel=\"x\"), \n",
    "#                lux.Clause(\"Displacement\",channel=\"y\"), \n",
    "#                lux.Clause(\"Origin=USA\")])\n",
    "\n",
    "# df.current_vis[0].mark\n",
    "# len(get_filter_specs(df.intent))\n",
    "df"
   ]
  },
  {
   "cell_type": "code",
   "execution_count": 5,
   "metadata": {},
   "outputs": [
    {
     "data": {
      "text/plain": [
       "(16, 16)"
      ]
     },
     "execution_count": 5,
     "metadata": {},
     "output_type": "execute_result"
    }
   ],
   "source": [
    "import numpy as np\n",
    "np.random.random((16, 16)).shape"
   ]
  },
  {
   "cell_type": "code",
   "execution_count": 13,
   "metadata": {},
   "outputs": [
    {
     "data": {
      "text/plain": [
       "\"import altair as alt\\nvisData = pd.DataFrame({'Origin': {0: 'Europe', 1: 'Japan', 2: 'USA'}, 'Record': {0: 68, 1: 79, 2: 245}})\\n\\nchart = alt.Chart(visData).mark_bar().encode(\\n    y = alt.Y('Origin', type= 'nominal', axis=alt.Axis(labelOverlap=True, title='Origin')),\\n    x = alt.X('Record', type= 'quantitative', title='Number of Records', axis=alt.Axis(title='Number of Records')),\\n)\\nchart = chart.configure_mark(tooltip=alt.TooltipContent('encoding'))\\nchart = chart.configure_title(fontWeight=500,fontSize=13,font='Helvetica Neue')\\nchart = chart.configure_axis(titleFontWeight=500,titleFontSize=11,titleFont='Helvetica Neue',\\n\\t\\t\\tlabelFontWeight=400,labelFontSize=8,labelFont='Helvetica Neue',labelColor='#505050')\\nchart = chart.configure_legend(titleFontWeight=500,titleFontSize=10,titleFont='Helvetica Neue',\\n\\t\\t\\tlabelFontWeight=400,labelFontSize=8,labelFont='Helvetica Neue')\\nchart = chart.properties(width=160,height=150)\\n\\nchart\""
      ]
     },
     "execution_count": 13,
     "metadata": {},
     "output_type": "execute_result"
    }
   ],
   "source": [
    "df.recommendation['Occurrence'][0].to_Altair()"
   ]
  },
  {
   "cell_type": "code",
   "execution_count": 14,
   "metadata": {},
   "outputs": [
    {
     "ename": "SyntaxError",
     "evalue": "unexpected character after line continuation character (<ipython-input-14-8385311e8f18>, line 1)",
     "output_type": "error",
     "traceback": [
      "\u001b[0;36m  File \u001b[0;32m\"<ipython-input-14-8385311e8f18>\"\u001b[0;36m, line \u001b[0;32m1\u001b[0m\n\u001b[0;31m    import altair as alt\\nvisData = pd.DataFrame({'Origin': {0: 'Europe', 1: 'Japan', 2: 'USA'}, 'Record': {0: 68, 1: 79, 2: 245}})\\n\\nchart = alt.Chart(visData).mark_bar().encode(\\n    y = alt.Y('Origin', type= 'nominal', axis=alt.Axis(labelOverlap=True, title='Origin')),\\n    x = alt.X('Record', type= 'quantitative', title='Number of Records', axis=alt.Axis(title='Number of Records')),\\n)\\nchart = chart.configure_mark(tooltip=alt.TooltipContent('encoding'))\\nchart = chart.configure_title(fontWeight=500,fontSize=13,font='Helvetica Neue')\\nchart = chart.configure_axis(titleFontWeight=500,titleFontSize=11,titleFont='Helvetica Neue',\\n\\t\\t\\tlabelFontWeight=400,labelFontSize=8,labelFont='Helvetica Neue',labelColor='#505050')\\nchart = chart.configure_legend(titleFontWeight=500,titleFontSize=10,titleFont='Helvetica Neue',\\n\\t\\t\\tlabelFontWeight=400,labelFontSize=8,labelFont='Helvetica Neue')\\nchart = chart.properties(width=160,height=150)\\n\\nchart\u001b[0m\n\u001b[0m                                                                                                                                                                                                                                                                                                                                                                                                                                                                                                                                                                                                                                                                                                                                                                                                                                                                                                                                                                                            ^\u001b[0m\n\u001b[0;31mSyntaxError\u001b[0m\u001b[0;31m:\u001b[0m unexpected character after line continuation character\n"
     ]
    }
   ],
   "source": [
    "import altair as alt\n",
    "visData = pd.DataFrame({'Origin': {0: 'Europe', 1: 'Japan', 2: 'USA'}, 'Record': {0: 68, 1: 79, 2: 245}})\\n\\nchart = alt.Chart(visData).mark_bar().encode(\n",
    "    y = alt.Y('Origin', type= 'nominal', axis=alt.Axis(labelOverlap=True, title='Origin')),\\n    x = alt.X('Record', type= 'quantitative', title='Number of Records', axis=alt.Axis(title='Number of Records')),\\n)\\nchart = chart.configure_mark(tooltip=alt.TooltipContent('encoding'))\\nchart = chart.configure_title(fontWeight=500,fontSize=13,font='Helvetica Neue')\\nchart = chart.configure_axis(titleFontWeight=500,titleFontSize=11,titleFont='Helvetica Neue',\\n\\t\\t\\tlabelFontWeight=400,labelFontSize=8,labelFont='Helvetica Neue',labelColor='#505050')\\nchart = chart.configure_legend(titleFontWeight=500,titleFontSize=10,titleFont='Helvetica Neue',\\n\\t\\t\\tlabelFontWeight=400,labelFontSize=8,labelFont='Helvetica Neue')\\nchart = chart.properties(width=160,height=150)\\n\\nchart"
   ]
  },
  {
   "cell_type": "raw",
   "metadata": {},
   "source": [
    "from lux.vis.Vis import Vis\n",
    "\n",
    "dataset = [\n",
    "        {\"normal\": \"USA\", \"long_var\": 3},\n",
    "        {\"normal\": \"Europe\", \"long_var\": 3},\n",
    "        {\"normal\": \"USA\", \"long_var\": 2},\n",
    "        {\"normal\": \"Europe\", \"long_var\": 4},\n",
    "    ]\n",
    "test = pd.DataFrame(dataset)\n",
    "vis = Vis([\"long_var\", \"normal\"], test)\n",
    "vis"
   ]
  },
  {
   "cell_type": "code",
   "execution_count": null,
   "metadata": {},
   "outputs": [],
   "source": [
    "one_current_vis = lambda ldf: ldf.current_vis is not None and len(ldf.current_vis) == 1"
   ]
  },
  {
   "cell_type": "code",
   "execution_count": null,
   "metadata": {},
   "outputs": [],
   "source": []
  },
  {
   "cell_type": "code",
   "execution_count": null,
   "metadata": {},
   "outputs": [],
   "source": [
    "df = pd.read_csv(\"../lux/data/car.csv\")\n",
    "df[\"Year\"] = pd.to_datetime(df[\"Year\"], format='%Y') # change pandas dtype for the column \"Year\" to datetype\n",
    "# df[\"Month\"] = pd.to_datetime(df[\"Month\"], format='%M') # change pandas dtype for the column \"Year\" to datetype\n",
    "\n",
    "df.set_intent([lux.Clause(\"Year\",channel=\"x\"), \n",
    "               lux.Clause(\"Displacement\",channel=\"y\"), \n",
    "               lux.Clause(\"Origin=USA\")])\n",
    "# last = get_filter_specs(df.intent)[-1]\n",
    "# query = df.intent.copy()[0:-1]\n",
    "# # array of possible values for attribute\n",
    "# arr = df[last.attribute].unique().tolist()\n",
    "# query.append(lux.Clause(last.attribute, last.attribute, arr))\n",
    "# query_vc = VisList(query,df)     \n",
    "# query_vc\n",
    "\n",
    "# search_space_vc = VisList(df.current_vis,df)\n",
    "        \n",
    "# preprocess(query_vis)\n",
    "# #for loop to create assign euclidean distance\n",
    "# recommendation = {\"action\":\"Similarity\",\n",
    "#                                \"description\":\"Show other charts that are visually similar to the Current vis.\"}\n",
    "# for vis in search_space_vc:\n",
    "#     preprocess(vis)\n",
    "#     vis.score = euclidean_dist(query_vis, vis)\n",
    "# search_space_vc.normalize_score(invert_order=True)"
   ]
  },
  {
   "cell_type": "code",
   "execution_count": null,
   "metadata": {},
   "outputs": [],
   "source": [
    "lux.register_action(\"similarity\", similar_pattern, one_current_vis)"
   ]
  },
  {
   "cell_type": "code",
   "execution_count": null,
   "metadata": {},
   "outputs": [],
   "source": [
    "df"
   ]
  },
  {
   "cell_type": "code",
   "execution_count": null,
   "metadata": {},
   "outputs": [],
   "source": [
    "df.current_vis"
   ]
  },
  {
   "cell_type": "code",
   "execution_count": null,
   "metadata": {},
   "outputs": [],
   "source": []
  }
 ],
 "metadata": {
  "kernelspec": {
   "display_name": "Python 3",
   "language": "python",
   "name": "python3"
  },
  "language_info": {
   "codemirror_mode": {
    "name": "ipython",
    "version": 3
   },
   "file_extension": ".py",
   "mimetype": "text/x-python",
   "name": "python",
   "nbconvert_exporter": "python",
   "pygments_lexer": "ipython3",
   "version": "3.8.5"
  }
 },
 "nbformat": 4,
 "nbformat_minor": 4
}

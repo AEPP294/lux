{
 "cells": [
  {
   "cell_type": "code",
   "execution_count": 1,
   "metadata": {},
   "outputs": [
    {
     "name": "stdout",
     "output_type": "stream",
     "text": [
      "Register default actions\n"
     ]
    }
   ],
   "source": [
    "import pandas as pd\n",
    "import lux\n",
    "from lux.vis.Clause import Clause\n",
    "from lux.utils.utils import get_filter_specs\n",
    "\n",
    "lux.config.default_display = \"lux\""
   ]
  },
  {
   "cell_type": "code",
   "execution_count": 2,
   "metadata": {},
   "outputs": [
    {
     "name": "stderr",
     "output_type": "stream",
     "text": [
      "/opt/anaconda3/lib/python3.8/site-packages/IPython/core/formatters.py:345: UserWarning:\n",
      "Unexpected error in rendering Lux widget and recommendations. Falling back to Pandas display.\n",
      "Please report the following issue on Github: https://github.com/lux-org/lux/issues \n",
      "\n",
      "/opt/anaconda3/lib/python3.8/site-packages/lux_api-0.2.1.2-py3.8.egg/lux/core/frame.py:661: UserWarning:Traceback (most recent call last):\n",
      "  File \"/opt/anaconda3/lib/python3.8/site-packages/numpy/lib/histograms.py\", line 419, in _get_bin_edges\n",
      "    n_equal_bins = operator.index(bins)\n",
      "TypeError: 'float' object cannot be interpreted as an integer\n",
      "\n",
      "The above exception was the direct cause of the following exception:\n",
      "\n",
      "Traceback (most recent call last):\n",
      "  File \"/opt/anaconda3/lib/python3.8/site-packages/lux_api-0.2.1.2-py3.8.egg/lux/core/frame.py\", line 613, in _repr_html_\n",
      "    self.maintain_recs()\n",
      "  File \"/opt/anaconda3/lib/python3.8/site-packages/lux_api-0.2.1.2-py3.8.egg/lux/core/frame.py\", line 457, in maintain_recs\n",
      "    self._widget = rec_df.render_widget()\n",
      "  File \"/opt/anaconda3/lib/python3.8/site-packages/lux_api-0.2.1.2-py3.8.egg/lux/core/frame.py\", line 697, in render_widget\n",
      "    widgetJSON = self.to_JSON(self._rec_info, input_current_vis=input_current_vis)\n",
      "  File \"/opt/anaconda3/lib/python3.8/site-packages/lux_api-0.2.1.2-py3.8.egg/lux/core/frame.py\", line 736, in to_JSON\n",
      "    recCollection = LuxDataFrame.rec_to_JSON(rec_infolist)\n",
      "  File \"/opt/anaconda3/lib/python3.8/site-packages/lux_api-0.2.1.2-py3.8.egg/lux/core/frame.py\", line 760, in rec_to_JSON\n",
      "    chart = vis.to_code(language=\"matplotlib\", prettyOutput=False)\n",
      "  File \"/opt/anaconda3/lib/python3.8/site-packages/lux_api-0.2.1.2-py3.8.egg/lux/vis/Vis.py\", line 300, in to_code\n",
      "    return self.to_Matplotlib()\n",
      "  File \"/opt/anaconda3/lib/python3.8/site-packages/lux_api-0.2.1.2-py3.8.egg/lux/vis/Vis.py\", line 256, in to_Matplotlib\n",
      "    self._code = renderer.create_vis(self, standalone)\n",
      "  File \"/opt/anaconda3/lib/python3.8/site-packages/lux_api-0.2.1.2-py3.8.egg/lux/vislib/matplotlib/MatplotlibRenderer.py\", line 77, in create_vis\n",
      "    chart = Histogram(vis)\n",
      "  File \"/opt/anaconda3/lib/python3.8/site-packages/lux_api-0.2.1.2-py3.8.egg/lux/vislib/matplotlib/Histogram.py\", line 32, in __init__\n",
      "    super().__init__(vis)\n",
      "  File \"/opt/anaconda3/lib/python3.8/site-packages/lux_api-0.2.1.2-py3.8.egg/lux/vislib/matplotlib/MatplotlibChart.py\", line 36, in __init__\n",
      "    self.chart = self.initialize_chart()\n",
      "  File \"/opt/anaconda3/lib/python3.8/site-packages/lux_api-0.2.1.2-py3.8.egg/lux/vislib/matplotlib/Histogram.py\", line 61, in initialize_chart\n",
      "    ax.hist(objects, bins=markbar, density=True, range=(x_min, x_max))\n",
      "  File \"/opt/anaconda3/lib/python3.8/site-packages/matplotlib/__init__.py\", line 1438, in inner\n",
      "    return func(ax, *map(sanitize_sequence, args), **kwargs)\n",
      "  File \"/opt/anaconda3/lib/python3.8/site-packages/matplotlib/axes/_axes.py\", line 6656, in hist\n",
      "    m, bins = np.histogram(x[i], bins, weights=w[i], **hist_kwargs)\n",
      "  File \"<__array_function__ internals>\", line 5, in histogram\n",
      "  File \"/opt/anaconda3/lib/python3.8/site-packages/numpy/lib/histograms.py\", line 792, in histogram\n",
      "    bin_edges, uniform_bins = _get_bin_edges(a, bins, range, weights)\n",
      "  File \"/opt/anaconda3/lib/python3.8/site-packages/numpy/lib/histograms.py\", line 421, in _get_bin_edges\n",
      "    raise TypeError(\n",
      "TypeError: `bins` must be an integer, a string, or an array\n",
      "\n"
     ]
    },
    {
     "data": {
      "text/html": [
       "<div>\n",
       "<style scoped>\n",
       "    .dataframe tbody tr th:only-of-type {\n",
       "        vertical-align: middle;\n",
       "    }\n",
       "\n",
       "    .dataframe tbody tr th {\n",
       "        vertical-align: top;\n",
       "    }\n",
       "\n",
       "    .dataframe thead th {\n",
       "        text-align: right;\n",
       "    }\n",
       "</style>\n",
       "<table border=\"1\" class=\"dataframe\">\n",
       "  <thead>\n",
       "    <tr style=\"text-align: right;\">\n",
       "      <th></th>\n",
       "      <th>Name</th>\n",
       "      <th>MilesPerGal</th>\n",
       "      <th>Cylinders</th>\n",
       "      <th>Displacement</th>\n",
       "      <th>Horsepower</th>\n",
       "      <th>Weight</th>\n",
       "      <th>Acceleration</th>\n",
       "      <th>Year</th>\n",
       "      <th>Origin</th>\n",
       "      <th>Brand</th>\n",
       "    </tr>\n",
       "  </thead>\n",
       "  <tbody>\n",
       "    <tr>\n",
       "      <th>0</th>\n",
       "      <td>chevrolet chevelle malibu</td>\n",
       "      <td>18.0</td>\n",
       "      <td>8</td>\n",
       "      <td>307.0</td>\n",
       "      <td>130</td>\n",
       "      <td>3504</td>\n",
       "      <td>12.0</td>\n",
       "      <td>1970-01-01</td>\n",
       "      <td>USA</td>\n",
       "      <td>chevrolet</td>\n",
       "    </tr>\n",
       "    <tr>\n",
       "      <th>1</th>\n",
       "      <td>buick skylark 320</td>\n",
       "      <td>15.0</td>\n",
       "      <td>8</td>\n",
       "      <td>350.0</td>\n",
       "      <td>165</td>\n",
       "      <td>3693</td>\n",
       "      <td>11.5</td>\n",
       "      <td>1970-01-01</td>\n",
       "      <td>USA</td>\n",
       "      <td>buick</td>\n",
       "    </tr>\n",
       "    <tr>\n",
       "      <th>2</th>\n",
       "      <td>plymouth satellite</td>\n",
       "      <td>18.0</td>\n",
       "      <td>8</td>\n",
       "      <td>318.0</td>\n",
       "      <td>150</td>\n",
       "      <td>3436</td>\n",
       "      <td>11.0</td>\n",
       "      <td>1970-01-01</td>\n",
       "      <td>USA</td>\n",
       "      <td>plymouth</td>\n",
       "    </tr>\n",
       "    <tr>\n",
       "      <th>3</th>\n",
       "      <td>amc rebel sst</td>\n",
       "      <td>16.0</td>\n",
       "      <td>8</td>\n",
       "      <td>304.0</td>\n",
       "      <td>150</td>\n",
       "      <td>3433</td>\n",
       "      <td>12.0</td>\n",
       "      <td>1970-01-01</td>\n",
       "      <td>USA</td>\n",
       "      <td>amc</td>\n",
       "    </tr>\n",
       "    <tr>\n",
       "      <th>4</th>\n",
       "      <td>ford torino</td>\n",
       "      <td>17.0</td>\n",
       "      <td>8</td>\n",
       "      <td>302.0</td>\n",
       "      <td>140</td>\n",
       "      <td>3449</td>\n",
       "      <td>10.5</td>\n",
       "      <td>1970-01-01</td>\n",
       "      <td>USA</td>\n",
       "      <td>ford</td>\n",
       "    </tr>\n",
       "    <tr>\n",
       "      <th>...</th>\n",
       "      <td>...</td>\n",
       "      <td>...</td>\n",
       "      <td>...</td>\n",
       "      <td>...</td>\n",
       "      <td>...</td>\n",
       "      <td>...</td>\n",
       "      <td>...</td>\n",
       "      <td>...</td>\n",
       "      <td>...</td>\n",
       "      <td>...</td>\n",
       "    </tr>\n",
       "    <tr>\n",
       "      <th>387</th>\n",
       "      <td>ford mustang gl</td>\n",
       "      <td>27.0</td>\n",
       "      <td>4</td>\n",
       "      <td>140.0</td>\n",
       "      <td>86</td>\n",
       "      <td>2790</td>\n",
       "      <td>15.6</td>\n",
       "      <td>1982-01-01</td>\n",
       "      <td>USA</td>\n",
       "      <td>ford</td>\n",
       "    </tr>\n",
       "    <tr>\n",
       "      <th>388</th>\n",
       "      <td>vw pickup</td>\n",
       "      <td>44.0</td>\n",
       "      <td>4</td>\n",
       "      <td>97.0</td>\n",
       "      <td>52</td>\n",
       "      <td>2130</td>\n",
       "      <td>24.6</td>\n",
       "      <td>1982-01-01</td>\n",
       "      <td>Europe</td>\n",
       "      <td>volkswagen</td>\n",
       "    </tr>\n",
       "    <tr>\n",
       "      <th>389</th>\n",
       "      <td>dodge rampage</td>\n",
       "      <td>32.0</td>\n",
       "      <td>4</td>\n",
       "      <td>135.0</td>\n",
       "      <td>84</td>\n",
       "      <td>2295</td>\n",
       "      <td>11.6</td>\n",
       "      <td>1982-01-01</td>\n",
       "      <td>USA</td>\n",
       "      <td>dodge</td>\n",
       "    </tr>\n",
       "    <tr>\n",
       "      <th>390</th>\n",
       "      <td>ford ranger</td>\n",
       "      <td>28.0</td>\n",
       "      <td>4</td>\n",
       "      <td>120.0</td>\n",
       "      <td>79</td>\n",
       "      <td>2625</td>\n",
       "      <td>18.6</td>\n",
       "      <td>1982-01-01</td>\n",
       "      <td>USA</td>\n",
       "      <td>ford</td>\n",
       "    </tr>\n",
       "    <tr>\n",
       "      <th>391</th>\n",
       "      <td>chevy s-10</td>\n",
       "      <td>31.0</td>\n",
       "      <td>4</td>\n",
       "      <td>119.0</td>\n",
       "      <td>82</td>\n",
       "      <td>2720</td>\n",
       "      <td>19.4</td>\n",
       "      <td>1982-01-01</td>\n",
       "      <td>USA</td>\n",
       "      <td>chevrolet</td>\n",
       "    </tr>\n",
       "  </tbody>\n",
       "</table>\n",
       "<p>392 rows × 10 columns</p>\n",
       "</div>"
      ],
      "text/plain": [
       "                          Name  MilesPerGal  Cylinders  Displacement  \\\n",
       "0    chevrolet chevelle malibu         18.0          8         307.0   \n",
       "1            buick skylark 320         15.0          8         350.0   \n",
       "2           plymouth satellite         18.0          8         318.0   \n",
       "3                amc rebel sst         16.0          8         304.0   \n",
       "4                  ford torino         17.0          8         302.0   \n",
       "..                         ...          ...        ...           ...   \n",
       "387            ford mustang gl         27.0          4         140.0   \n",
       "388                  vw pickup         44.0          4          97.0   \n",
       "389              dodge rampage         32.0          4         135.0   \n",
       "390                ford ranger         28.0          4         120.0   \n",
       "391                 chevy s-10         31.0          4         119.0   \n",
       "\n",
       "     Horsepower  Weight  Acceleration       Year  Origin       Brand  \n",
       "0           130    3504          12.0 1970-01-01     USA   chevrolet  \n",
       "1           165    3693          11.5 1970-01-01     USA       buick  \n",
       "2           150    3436          11.0 1970-01-01     USA    plymouth  \n",
       "3           150    3433          12.0 1970-01-01     USA         amc  \n",
       "4           140    3449          10.5 1970-01-01     USA        ford  \n",
       "..          ...     ...           ...        ...     ...         ...  \n",
       "387          86    2790          15.6 1982-01-01     USA        ford  \n",
       "388          52    2130          24.6 1982-01-01  Europe  volkswagen  \n",
       "389          84    2295          11.6 1982-01-01     USA       dodge  \n",
       "390          79    2625          18.6 1982-01-01     USA        ford  \n",
       "391          82    2720          19.4 1982-01-01     USA   chevrolet  \n",
       "\n",
       "[392 rows x 10 columns]"
      ]
     },
     "metadata": {},
     "output_type": "display_data"
    },
    {
     "data": {
      "text/plain": []
     },
     "execution_count": 2,
     "metadata": {},
     "output_type": "execute_result"
    },
    {
     "data": {
      "image/png": "[encoded data removed]",
      "text/plain": [
       "<Figure size 432x288 with 1 Axes>"
      ]
     },
     "metadata": {
      "needs_background": "light"
     },
     "output_type": "display_data"
    },
    {
     "data": {
      "image/png": "[encoded data removed]",
      "text/plain": [
       "<Figure size 432x288 with 1 Axes>"
      ]
     },
     "metadata": {
      "needs_background": "light"
     },
     "output_type": "display_data"
    },
    {
     "data": {
      "image/png": "[encoded data removed]",
      "text/plain": [
       "<Figure size 432x288 with 1 Axes>"
      ]
     },
     "metadata": {
      "needs_background": "light"
     },
     "output_type": "display_data"
    },
    {
     "data": {
      "image/png": "[encoded data removed]",
      "text/plain": [
       "<Figure size 432x288 with 1 Axes>"
      ]
     },
     "metadata": {
      "needs_background": "light"
     },
     "output_type": "display_data"
    },
    {
     "data": {
      "image/png": "[encoded data removed]",
      "text/plain": [
       "<Figure size 432x288 with 1 Axes>"
      ]
     },
     "metadata": {
      "needs_background": "light"
     },
     "output_type": "display_data"
    },
    {
     "data": {
      "image/png": "[encoded data removed]",
      "text/plain": [
       "<Figure size 432x288 with 1 Axes>"
      ]
     },
     "metadata": {
      "needs_background": "light"
     },
     "output_type": "display_data"
    },
    {
     "data": {
      "image/png": "[encoded data removed]",
      "text/plain": [
       "<Figure size 432x288 with 1 Axes>"
      ]
     },
     "metadata": {
      "needs_background": "light"
     },
     "output_type": "display_data"
    },
    {
     "data": {
      "image/png": "[encoded data removed]",
      "text/plain": [
       "<Figure size 432x288 with 1 Axes>"
      ]
     },
     "metadata": {
      "needs_background": "light"
     },
     "output_type": "display_data"
    },
    {
     "data": {
      "image/png": "[encoded data removed]",
      "text/plain": [
       "<Figure size 432x288 with 1 Axes>"
      ]
     },
     "metadata": {
      "needs_background": "light"
     },
     "output_type": "display_data"
    },
    {
     "data": {
      "image/png": "[encoded data removed]",
      "text/plain": [
       "<Figure size 432x288 with 1 Axes>"
      ]
     },
     "metadata": {
      "needs_background": "light"
     },
     "output_type": "display_data"
    },
    {
     "data": {
      "image/png": "[encoded data removed]",
      "text/plain": [
       "<Figure size 432x288 with 1 Axes>"
      ]
     },
     "metadata": {
      "needs_background": "light"
     },
     "output_type": "display_data"
    }
   ],
   "source": [
    "df = pd.read_csv(\"../lux/data/car.csv\")\n",
    "df[\"Year\"] = pd.to_datetime(df[\"Year\"], format='%Y') # change pandas dtype for the column \"Year\" to datetype\n",
    "\n",
    "# df.set_intent([lux.Clause(\"Displacement\",channel=\"x\")])\n",
    "# df.set_intent([lux.Clause(\"Year\",channel=\"x\"), \n",
    "#                lux.Clause(\"Displacement\",channel=\"y\"), \n",
    "#                lux.Clause(\"Origin=USA\")])\n",
    "\n",
    "# df.current_vis[0].mark\n",
    "# len(get_filter_specs(df.intent))\n",
    "df"
   ]
  },
  {
   "cell_type": "raw",
   "metadata": {},
   "source": [
    "from lux.vis.Vis import Vis\n",
    "\n",
    "dataset = [\n",
    "        {\"normal\": \"USA\", \"long_var\": 3},\n",
    "        {\"normal\": \"Europe\", \"long_var\": 3},\n",
    "        {\"normal\": \"USA\", \"long_var\": 2},\n",
    "        {\"normal\": \"Europe\", \"long_var\": 4},\n",
    "    ]\n",
    "test = pd.DataFrame(dataset)\n",
    "vis = Vis([\"long_var\", \"normal\"], test)\n",
    "vis"
   ]
  },
  {
   "cell_type": "code",
   "execution_count": null,
   "metadata": {},
   "outputs": [],
   "source": [
    "one_current_vis = lambda ldf: ldf.current_vis is not None and len(ldf.current_vis) == 1"
   ]
  },
  {
   "cell_type": "code",
   "execution_count": null,
   "metadata": {},
   "outputs": [],
   "source": []
  },
  {
   "cell_type": "code",
   "execution_count": null,
   "metadata": {},
   "outputs": [],
   "source": [
    "df = pd.read_csv(\"../lux/data/car.csv\")\n",
    "df[\"Year\"] = pd.to_datetime(df[\"Year\"], format='%Y') # change pandas dtype for the column \"Year\" to datetype\n",
    "# df[\"Month\"] = pd.to_datetime(df[\"Month\"], format='%M') # change pandas dtype for the column \"Year\" to datetype\n",
    "\n",
    "df.set_intent([lux.Clause(\"Year\",channel=\"x\"), \n",
    "               lux.Clause(\"Displacement\",channel=\"y\"), \n",
    "               lux.Clause(\"Origin=USA\")])\n",
    "# last = get_filter_specs(df.intent)[-1]\n",
    "# query = df.intent.copy()[0:-1]\n",
    "# # array of possible values for attribute\n",
    "# arr = df[last.attribute].unique().tolist()\n",
    "# query.append(lux.Clause(last.attribute, last.attribute, arr))\n",
    "# query_vc = VisList(query,df)     \n",
    "# query_vc\n",
    "\n",
    "# search_space_vc = VisList(df.current_vis,df)\n",
    "        \n",
    "# preprocess(query_vis)\n",
    "# #for loop to create assign euclidean distance\n",
    "# recommendation = {\"action\":\"Similarity\",\n",
    "#                                \"description\":\"Show other charts that are visually similar to the Current vis.\"}\n",
    "# for vis in search_space_vc:\n",
    "#     preprocess(vis)\n",
    "#     vis.score = euclidean_dist(query_vis, vis)\n",
    "# search_space_vc.normalize_score(invert_order=True)"
   ]
  },
  {
   "cell_type": "code",
   "execution_count": null,
   "metadata": {},
   "outputs": [],
   "source": [
    "lux.register_action(\"similarity\", similar_pattern, one_current_vis)"
   ]
  },
  {
   "cell_type": "code",
   "execution_count": null,
   "metadata": {},
   "outputs": [],
   "source": [
    "df"
   ]
  },
  {
   "cell_type": "code",
   "execution_count": null,
   "metadata": {},
   "outputs": [],
   "source": [
    "df.current_vis"
   ]
  },
  {
   "cell_type": "code",
   "execution_count": null,
   "metadata": {},
   "outputs": [],
   "source": []
  }
 ],
 "metadata": {
  "kernelspec": {
   "display_name": "Python 3",
   "language": "python",
   "name": "python3"
  },
  "language_info": {
   "codemirror_mode": {
    "name": "ipython",
    "version": 3
   },
   "file_extension": ".py",
   "mimetype": "text/x-python",
   "name": "python",
   "nbconvert_exporter": "python",
   "pygments_lexer": "ipython3",
   "version": "3.8.5"
  }
 },
 "nbformat": 4,
 "nbformat_minor": 4
}

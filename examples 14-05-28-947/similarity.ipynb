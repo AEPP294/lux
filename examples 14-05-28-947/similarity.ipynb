{
 "cells": [
  {
   "cell_type": "code",
   "execution_count": 2,
   "metadata": {},
   "outputs": [],
   "source": [
    "import pandas as pd\n",
    "import lux\n",
    "from lux.vis.Clause import Clause\n",
    "from lux.utils.utils import get_filter_specs\n",
    "import matplotlib.pyplot as plt\n",
    "\n",
    "lux.config.default_display = \"lux\"\n",
    "lux.config.plotting_backend = \"vegalite\"\n",
    "\n",
    "# def change_color_make_transparent_add_title(fig, ax):\n",
    "#     ax.set_title(\"Test Title\")\n",
    "#     return fig, ax\n",
    "# lux.config.plot_config = change_color_make_transparent_add_title"
   ]
  },
  {
   "cell_type": "code",
   "execution_count": 3,
   "metadata": {},
   "outputs": [],
   "source": [
    "df = pd.read_csv(\"https://github.com/chiphuyen/just-pandas-things/blob/master/data/interviews.csv?raw=True\")\n",
    "df['Date'] = pd.to_datetime(df['Date'], format='%b %d, %Y')\n"
   ]
  },
  {
   "cell_type": "code",
   "execution_count": 4,
   "metadata": {},
   "outputs": [
    {
     "data": {
      "application/vnd.jupyter.widget-view+json": {
       "model_id": "38d9f5c9b2f8452ba5b759811eb2f858",
       "version_major": 2,
       "version_minor": 0
      },
      "text/plain": [
       "Button(description='Toggle Pandas/Lux', layout=Layout(top='5px', width='140px'), style=ButtonStyle())"
      ]
     },
     "metadata": {},
     "output_type": "display_data"
    },
    {
     "data": {
      "application/vnd.jupyter.widget-view+json": {
       "model_id": "264178e567744c17b0ea1accc8a19669",
       "version_major": 2,
       "version_minor": 0
      },
      "text/plain": [
       "Output()"
      ]
     },
     "metadata": {},
     "output_type": "display_data"
    },
    {
     "data": {
      "text/plain": []
     },
     "execution_count": 4,
     "metadata": {},
     "output_type": "execute_result"
    }
   ],
   "source": [
    "# df = pd.read_csv(\"https://raw.githubusercontent.com/lux-org/lux-datasets/master/data/airbnb_nyc.csv\")\n",
    "# df['last_review'] = pd.to_datetime(df['last_review'], format='%Y-%m-%d')\n",
    "\n",
    "# df.set_intent([lux.Clause(\"price\",channel=\"x\"), \n",
    "#                lux.Clause(\"availability_365\",channel=\"y\"), \n",
    "#                lux.Clause(\"longitude\")])\n",
    "df"
   ]
  },
  {
   "cell_type": "code",
   "execution_count": 3,
   "metadata": {},
   "outputs": [
    {
     "data": {
      "application/vnd.jupyter.widget-view+json": {
       "model_id": "7963193ea6d541b88485bd4457912a87",
       "version_major": 2,
       "version_minor": 0
      },
      "text/plain": [
       "Button(description='Toggle Pandas/Lux', layout=Layout(top='5px', width='140px'), style=ButtonStyle())"
      ]
     },
     "metadata": {},
     "output_type": "display_data"
    },
    {
     "data": {
      "application/vnd.jupyter.widget-view+json": {
       "model_id": "b90867ed3dc1413abecc5c23ca80eb69",
       "version_major": 2,
       "version_minor": 0
      },
      "text/plain": [
       "Output()"
      ]
     },
     "metadata": {},
     "output_type": "display_data"
    },
    {
     "data": {
      "text/plain": []
     },
     "execution_count": 3,
     "metadata": {},
     "output_type": "execute_result"
    }
   ],
   "source": [
    "df = pd.read_csv(\"../lux/data/car.csv\")\n",
    "df[\"Year\"] = pd.to_datetime(df[\"Year\"], format='%Y') # change pandas dtype for the column \"Year\" to datetype\n",
    "\n",
    "# df.set_intent([lux.Clause(\"Displacement\",channel=\"x\")])\n",
    "#               lux.Clause(\"Origin\",channel=\"y\")])\n",
    "# df.set_intent([lux.Clause(\"Displacement\",channel=\"x\"), \n",
    "#                lux.Clause(\"Acceleration\", channel=\"y\"), \n",
    "#                lux.Clause(\"Origin\")])\n",
    "\n",
    "# df.current_vis[0].mark\n",
    "# len(get_filter_specs(df.intent))\n",
    "df"
   ]
  },
  {
   "cell_type": "code",
   "execution_count": 3,
   "metadata": {},
   "outputs": [
    {
     "data": {
      "application/vnd.jupyter.widget-view+json": {
       "model_id": "d8c074cdb9064748b1861b918a5596fc",
       "version_major": 2,
       "version_minor": 0
      },
      "text/plain": [
       "Button(description='Toggle Pandas/Lux', layout=Layout(top='5px', width='140px'), style=ButtonStyle())"
      ]
     },
     "metadata": {},
     "output_type": "display_data"
    },
    {
     "data": {
      "application/vnd.jupyter.widget-view+json": {
       "model_id": "66d002f7b6e7452e8018a61ba074de61",
       "version_major": 2,
       "version_minor": 0
      },
      "text/plain": [
       "Output()"
      ]
     },
     "metadata": {},
     "output_type": "display_data"
    },
    {
     "data": {
      "text/plain": []
     },
     "execution_count": 3,
     "metadata": {},
     "output_type": "execute_result"
    }
   ],
   "source": [
    "lux.config.plotting_backend = \"vegalite\"\n",
    "\n",
    "df = pd.read_csv(\"../lux/data/car.csv\")\n",
    "df[\"Year\"] = pd.to_datetime(df[\"Year\"], format='%Y') # change pandas dtype for the column \"Year\" to datetype\n",
    "\n",
    "df.set_intent([lux.Clause(\"Displacement\",channel=\"x\")])\n",
    "#               lux.Clause(\"Origin\",channel=\"y\")])\n",
    "# df.set_intent([lux.Clause(\"Displacement\",channel=\"x\"), \n",
    "#                lux.Clause(\"Acceleration\", channel=\"y\"), \n",
    "#                lux.Clause(\"Origin\")])\n",
    "\n",
    "# df.current_vis[0].mark\n",
    "# len(get_filter_specs(df.intent))\n",
    "df"
   ]
  },
  {
   "cell_type": "code",
   "execution_count": 7,
   "metadata": {},
   "outputs": [],
   "source": [
    "vis = df.exported[0]"
   ]
  },
  {
   "cell_type": "code",
   "execution_count": 8,
   "metadata": {},
   "outputs": [
    {
     "name": "stdout",
     "output_type": "stream",
     "text": [
      "plt.rcParams.update(\n",
      "            {\n",
      "                \"axes.titlesize\": 20,\n",
      "                \"axes.titleweight\": \"bold\",\n",
      "                \"axes.labelweight\": \"bold\",\n",
      "                \"axes.labelsize\": 16,\n",
      "                \"legend.fontsize\": 14,\n",
      "                \"legend.title_fontsize\": 15,\n",
      "                # \"font.family\": \"DejaVu Sans\",\n",
      "                \"xtick.labelsize\": 13,\n",
      "                \"ytick.labelsize\": 13,\n",
      "            }\n",
      "        )\n",
      "import matplotlib.pyplot as plt\n",
      "import numpy as np\n",
      "from math import nan\n",
      "from matplotlib.cm import ScalarMappable\n",
      "fig, ax = plt.subplots()\n",
      "x_pts = df['Displacement']\n",
      "y_pts = df['Acceleration']\n",
      "colors = df['Origin'].values\n",
      "scatter = ax.scatter(x_pts, y_pts, c=[2, 2, 2, 2, 2, 2, 2, 2, 2, 2, 2, 2, 2, 2, 0, 2, 2, 2, 0, 1, 1, 1, 1, 1, 2, 2, 2, 2, 2, 0, 2, 0, 2, 2, 2, 2, 2, 2, 2, 2, 2, 2, 2, 2, 2, 2, 2, 2, 2, 1, 1, 1, 0, 0, 1, 2, 0, 2, 1, 2, 2, 2, 2, 2, 2, 2, 2, 2, 2, 2, 0, 2, 2, 2, 2, 1, 1, 1, 1, 2, 0, 0, 2, 0, 2, 2, 2, 2, 2, 2, 2, 2, 2, 2, 2, 2, 2, 2, 2, 2, 2, 1, 2, 2, 2, 2, 2, 0, 2, 0, 0, 2, 2, 1, 2, 2, 1, 1, 1, 1, 2, 1, 0, 2, 2, 2, 2, 0, 2, 0, 2, 2, 2, 2, 2, 2, 2, 2, 2, 1, 1, 1, 0, 0, 2, 1, 1, 0, 0, 1, 2, 2, 2, 2, 2, 2, 2, 2, 2, 2, 2, 2, 2, 2, 2, 0, 2, 2, 2, 0, 1, 0, 2, 1, 2, 1, 1, 1, 1, 0, 1, 1, 2, 2, 1, 2, 2, 2, 2, 2, 2, 2, 2, 2, 2, 1, 0, 2, 2, 2, 2, 1, 0, 0, 2, 1, 2, 1, 0, 1, 2, 2, 2, 2, 0, 2, 1, 2, 0, 2, 2, 2, 2, 2, 2, 2, 2, 2, 2, 2, 2, 1, 2, 0, 2, 2, 2, 0, 1, 0, 1, 0, 1, 2, 0, 0, 0, 2, 2, 2, 2, 2, 2, 2, 2, 2, 2, 2, 2, 2, 2, 2, 2, 2, 2, 0, 0, 2, 0, 2, 2, 0, 1, 1, 1, 1, 1, 0, 2, 2, 2, 2, 2, 2, 2, 2, 2, 2, 2, 2, 2, 1, 0, 2, 2, 1, 2, 1, 2, 2, 2, 0, 1, 2, 2, 2, 2, 1, 0, 2, 0, 2, 2, 2, 2, 1, 0, 0, 0, 0, 0, 2, 0, 1, 1, 1, 1, 0, 0, 1, 0, 0, 1, 0, 2, 2, 2, 2, 2, 0, 2, 0, 0, 0, 0, 0, 2, 2, 2, 1, 0, 0, 0, 0, 1, 1, 0, 0, 2, 2, 2, 2, 2, 2, 2, 2, 2, 2, 2, 1, 0, 0, 2, 2, 0, 0, 0, 0, 0, 0, 2, 2, 2, 2, 0, 2, 2, 2, 1, 2, 2, 2], cmap='Set1')\n",
      "ax.legend(\n",
      "                    handles=scatter.legend_elements(num=range(0, len(['Japan', 'Europe', 'USA'])))[0],\n",
      "                    labels=['Japan', 'Europe', 'USA'],\n",
      "                    title='Origin', \n",
      "                    markerscale=2.,\n",
      "                    bbox_to_anchor=(1.05, 1), \n",
      "                    loc='upper left', \n",
      "                    ncol=1, \n",
      "                    frameon=False,)\n",
      "scatter.set_alpha(0.5)\n",
      "ax.set_xlabel('Displacement')\n",
      "ax.set_ylabel('Acceleration')\n",
      "\n",
      "fig\n"
     ]
    },
    {
     "data": {
      "application/vnd.jupyter.widget-view+json": {
       "model_id": "6d05ebab8e154455a5876164eb962d14",
       "version_major": 2,
       "version_minor": 0
      },
      "text/plain": [
       "LuxWidget(current_vis={'config': 'iVBORw0KGgoAAAANSUhEUgAAAdQAAAFoCAYAAADuLwpiAAAAOXRFWHRTb2Z0d2FyZQBNYXRwbG90…"
      ]
     },
     "metadata": {},
     "output_type": "display_data"
    },
    {
     "data": {
      "text/plain": [
       "<Vis  (x: Displacement, y: Acceleration, color: Origin) mark: scatter, score: 0.0 >"
      ]
     },
     "execution_count": 8,
     "metadata": {},
     "output_type": "execute_result"
    }
   ],
   "source": [
    "print(vis.to_matplotlib_code())\n",
    "vis"
   ]
  },
  {
   "cell_type": "code",
   "execution_count": 11,
   "metadata": {},
   "outputs": [
    {
     "data": {
      "image/png": "[encoded data removed]",
      "text/plain": [
       "<Figure size 432x288 with 1 Axes>"
      ]
     },
     "execution_count": 11,
     "metadata": {},
     "output_type": "execute_result"
    }
   ],
   "source": [
    "plt.rcParams.update(\n",
    "            {\n",
    "                \"axes.titlesize\": 20,\n",
    "                \"axes.titleweight\": \"bold\",\n",
    "                \"axes.labelweight\": \"bold\",\n",
    "                \"axes.labelsize\": 16,\n",
    "                \"legend.fontsize\": 14,\n",
    "                \"legend.title_fontsize\": 15,\n",
    "                # \"font.family\": \"DejaVu Sans\",\n",
    "                \"xtick.labelsize\": 13,\n",
    "                \"ytick.labelsize\": 13,\n",
    "            }\n",
    "        )\n",
    "import matplotlib.pyplot as plt\n",
    "import numpy as np\n",
    "from math import nan\n",
    "df = pd.DataFrame({'count': {0: 3, 1: 2, 80: 2, 120: 1, 124: 1, 160: 2, 200: 9, 240: 10, 241: 1, 280: 9, 320: 16, 360: 18, 361: 1, 400: 14, 440: 55, 441: 1, 459: 1, 480: 66, 481: 1, 520: 10, 521: 1, 522: 1, 523: 1, 600: 20, 640: 107, 641: 3, 642: 1, 643: 1, 647: 1, 656: 1, 680: 582, 681: 145, 682: 17, 683: 7, 684: 2, 685: 3, 687: 3, 689: 1, 694: 1, 705: 1, 709: 1, 720: 2203, 721: 493, 722: 56, 723: 41, 724: 6, 725: 7, 726: 2, 727: 2, 728: 2, 729: 3, 730: 1, 731: 5, 732: 1, 735: 1, 736: 1, 740: 1, 743: 1, 747: 1, 760: 3748, 761: 690, 762: 73, 763: 49, 764: 7, 765: 6, 766: 2, 767: 5, 768: 1, 769: 1, 770: 2, 771: 2, 774: 1, 780: 1, 785: 1, 799: 1, 800: 2223, 801: 360, 802: 56, 803: 23, 804: 11, 805: 3, 806: 3, 807: 2, 809: 1, 811: 2, 814: 3, 815: 1, 823: 1, 840: 4202, 841: 358, 842: 37, 843: 19, 844: 4, 845: 5, 846: 1, 849: 2, 851: 1, 856: 1, 857: 1, 859: 1, 865: 1, 870: 1, 880: 5097, 881: 256, 882: 38, 883: 12, 884: 3, 885: 3, 886: 1, 887: 3, 890: 1, 892: 1, 899: 1, 920: 2615, 921: 99, 922: 6, 923: 2, 927: 1, 960: 2087, 961: 42, 962: 5, 963: 1, 967: 1, 969: 1, 979: 1, 999: 1, 1000: 1288, 1001: 25, 1002: 5, 1003: 1, 1007: 1, 1040: 474, 1041: 8, 1043: 1, 1080: 331, 1081: 4, 1120: 272, 1121: 10, 1160: 242, 1161: 11, 1162: 1, 1163: 1, 1200: 119, 1201: 7, 1209: 1, 1240: 232, 1241: 1, 1280: 199, 1281: 6, 1282: 1, 1283: 1, 1320: 109, 1321: 10, 1323: 1, 1325: 1, 1360: 123, 1361: 10, 1362: 2, 1400: 88, 1401: 5, 1402: 1, 1410: 1, 1440: 93, 1441: 3, 1480: 79, 1481: 3, 1482: 1, 1483: 1, 1520: 61, 1521: 2, 1523: 1, 1560: 22}, 'xBinStart': {0: -74.243, 1: -74.243, 80: -74.217, 120: -74.203, 124: -74.203, 160: -74.19, 200: -74.177, 240: -74.164, 241: -74.164, 280: -74.151, 320: -74.138, 360: -74.125, 361: -74.125, 400: -74.111, 440: -74.098, 441: -74.098, 459: -74.098, 480: -74.085, 481: -74.085, 520: -74.072, 521: -74.072, 522: -74.072, 523: -74.072, 600: -74.046, 640: -74.032, 641: -74.032, 642: -74.032, 643: -74.032, 647: -74.032, 656: -74.032, 680: -74.019, 681: -74.019, 682: -74.019, 683: -74.019, 684: -74.019, 685: -74.019, 687: -74.019, 689: -74.019, 694: -74.019, 705: -74.019, 709: -74.019, 720: -74.006, 721: -74.006, 722: -74.006, 723: -74.006, 724: -74.006, 725: -74.006, 726: -74.006, 727: -74.006, 728: -74.006, 729: -74.006, 730: -74.006, 731: -74.006, 732: -74.006, 735: -74.006, 736: -74.006, 740: -74.006, 743: -74.006, 747: -74.006, 760: -73.993, 761: -73.993, 762: -73.993, 763: -73.993, 764: -73.993, 765: -73.993, 766: -73.993, 767: -73.993, 768: -73.993, 769: -73.993, 770: -73.993, 771: -73.993, 774: -73.993, 780: -73.993, 785: -73.993, 799: -73.993, 800: -73.98, 801: -73.98, 802: -73.98, 803: -73.98, 804: -73.98, 805: -73.98, 806: -73.98, 807: -73.98, 809: -73.98, 811: -73.98, 814: -73.98, 815: -73.98, 823: -73.98, 840: -73.967, 841: -73.967, 842: -73.967, 843: -73.967, 844: -73.967, 845: -73.967, 846: -73.967, 849: -73.967, 851: -73.967, 856: -73.967, 857: -73.967, 859: -73.967, 865: -73.967, 870: -73.967, 880: -73.954, 881: -73.954, 882: -73.954, 883: -73.954, 884: -73.954, 885: -73.954, 886: -73.954, 887: -73.954, 890: -73.954, 892: -73.954, 899: -73.954, 920: -73.94, 921: -73.94, 922: -73.94, 923: -73.94, 927: -73.94, 960: -73.927, 961: -73.927, 962: -73.927, 963: -73.927, 967: -73.927, 969: -73.927, 979: -73.927, 999: -73.927, 1000: -73.914, 1001: -73.914, 1002: -73.914, 1003: -73.914, 1007: -73.914, 1040: -73.901, 1041: -73.901, 1043: -73.901, 1080: -73.888, 1081: -73.888, 1120: -73.875, 1121: -73.875, 1160: -73.862, 1161: -73.862, 1162: -73.862, 1163: -73.862, 1200: -73.848, 1201: -73.848, 1209: -73.848, 1240: -73.835, 1241: -73.835, 1280: -73.822, 1281: -73.822, 1282: -73.822, 1283: -73.822, 1320: -73.809, 1321: -73.809, 1323: -73.809, 1325: -73.809, 1360: -73.796, 1361: -73.796, 1362: -73.796, 1400: -73.783, 1401: -73.783, 1402: -73.783, 1410: -73.783, 1440: -73.769, 1441: -73.769, 1480: -73.756, 1481: -73.756, 1482: -73.756, 1483: -73.756, 1520: -73.743, 1521: -73.743, 1523: -73.743, 1560: -73.73}, 'xBinEnd': {0: -74.23, 1: -74.23, 80: -74.203, 120: -74.19, 124: -74.19, 160: -74.177, 200: -74.164, 240: -74.151, 241: -74.151, 280: -74.138, 320: -74.125, 360: -74.111, 361: -74.111, 400: -74.098, 440: -74.085, 441: -74.085, 459: -74.085, 480: -74.072, 481: -74.072, 520: -74.059, 521: -74.059, 522: -74.059, 523: -74.059, 600: -74.032, 640: -74.019, 641: -74.019, 642: -74.019, 643: -74.019, 647: -74.019, 656: -74.019, 680: -74.006, 681: -74.006, 682: -74.006, 683: -74.006, 684: -74.006, 685: -74.006, 687: -74.006, 689: -74.006, 694: -74.006, 705: -74.006, 709: -74.006, 720: -73.993, 721: -73.993, 722: -73.993, 723: -73.993, 724: -73.993, 725: -73.993, 726: -73.993, 727: -73.993, 728: -73.993, 729: -73.993, 730: -73.993, 731: -73.993, 732: -73.993, 735: -73.993, 736: -73.993, 740: -73.993, 743: -73.993, 747: -73.993, 760: -73.98, 761: -73.98, 762: -73.98, 763: -73.98, 764: -73.98, 765: -73.98, 766: -73.98, 767: -73.98, 768: -73.98, 769: -73.98, 770: -73.98, 771: -73.98, 774: -73.98, 780: -73.98, 785: -73.98, 799: -73.98, 800: -73.967, 801: -73.967, 802: -73.967, 803: -73.967, 804: -73.967, 805: -73.967, 806: -73.967, 807: -73.967, 809: -73.967, 811: -73.967, 814: -73.967, 815: -73.967, 823: -73.967, 840: -73.954, 841: -73.954, 842: -73.954, 843: -73.954, 844: -73.954, 845: -73.954, 846: -73.954, 849: -73.954, 851: -73.954, 856: -73.954, 857: -73.954, 859: -73.954, 865: -73.954, 870: -73.954, 880: -73.94, 881: -73.94, 882: -73.94, 883: -73.94, 884: -73.94, 885: -73.94, 886: -73.94, 887: -73.94, 890: -73.94, 892: -73.94, 899: -73.94, 920: -73.927, 921: -73.927, 922: -73.927, 923: -73.927, 927: -73.927, 960: -73.914, 961: -73.914, 962: -73.914, 963: -73.914, 967: -73.914, 969: -73.914, 979: -73.914, 999: -73.914, 1000: -73.901, 1001: -73.901, 1002: -73.901, 1003: -73.901, 1007: -73.901, 1040: -73.888, 1041: -73.888, 1043: -73.888, 1080: -73.875, 1081: -73.875, 1120: -73.862, 1121: -73.862, 1160: -73.848, 1161: -73.848, 1162: -73.848, 1163: -73.848, 1200: -73.835, 1201: -73.835, 1209: -73.835, 1240: -73.822, 1241: -73.822, 1280: -73.809, 1281: -73.809, 1282: -73.809, 1283: -73.809, 1320: -73.796, 1321: -73.796, 1323: -73.796, 1325: -73.796, 1360: -73.783, 1361: -73.783, 1362: -73.783, 1400: -73.769, 1401: -73.769, 1402: -73.769, 1410: -73.769, 1440: -73.756, 1441: -73.756, 1480: -73.743, 1481: -73.743, 1482: -73.743, 1483: -73.743, 1520: -73.73, 1521: -73.73, 1523: -73.73, 1560: -73.717}, 'yBinStart': {0: -10.0, 1: 250.0, 80: -10.0, 120: -10.0, 124: 1000.0, 160: -10.0, 200: -10.0, 240: -10.0, 241: 250.0, 280: -10.0, 320: -10.0, 360: -10.0, 361: 250.0, 400: -10.0, 440: -10.0, 441: 250.0, 459: 4750.0, 480: -10.0, 481: 250.0, 520: -10.0, 521: 250.0, 522: 500.0, 523: 750.0, 600: -10.0, 640: -10.0, 641: 250.0, 642: 500.0, 643: 750.0, 647: 1750.0, 656: 4000.0, 680: -10.0, 681: 250.0, 682: 500.0, 683: 750.0, 684: 1000.0, 685: 1250.0, 687: 1750.0, 689: 2250.0, 694: 3500.0, 705: 6250.0, 709: 7250.0, 720: -10.0, 721: 250.0, 722: 500.0, 723: 750.0, 724: 1000.0, 725: 1250.0, 726: 1500.0, 727: 1750.0, 728: 2000.0, 729: 2250.0, 730: 2500.0, 731: 2750.0, 732: 3000.0, 735: 3750.0, 736: 4000.0, 740: 5000.0, 743: 5750.0, 747: 6750.0, 760: -10.0, 761: 250.0, 762: 500.0, 763: 750.0, 764: 1000.0, 765: 1250.0, 766: 1500.0, 767: 1750.0, 768: 2000.0, 769: 2250.0, 770: 2500.0, 771: 2750.0, 774: 3500.0, 780: 5000.0, 785: 6250.0, 799: 9750.0, 800: -10.0, 801: 250.0, 802: 500.0, 803: 750.0, 804: 1000.0, 805: 1250.0, 806: 1500.0, 807: 1750.0, 809: 2250.0, 811: 2750.0, 814: 3500.0, 815: 3750.0, 823: 5750.0, 840: -10.0, 841: 250.0, 842: 500.0, 843: 750.0, 844: 1000.0, 845: 1250.0, 846: 1500.0, 849: 2250.0, 851: 2750.0, 856: 4000.0, 857: 4250.0, 859: 4750.0, 865: 6250.0, 870: 7500.0, 880: -10.0, 881: 250.0, 882: 500.0, 883: 750.0, 884: 1000.0, 885: 1250.0, 886: 1500.0, 887: 1750.0, 890: 2500.0, 892: 3000.0, 899: 4750.0, 920: -10.0, 921: 250.0, 922: 500.0, 923: 750.0, 927: 1750.0, 960: -10.0, 961: 250.0, 962: 500.0, 963: 750.0, 967: 1750.0, 969: 2250.0, 979: 4750.0, 999: 9750.0, 1000: -10.0, 1001: 250.0, 1002: 500.0, 1003: 750.0, 1007: 1750.0, 1040: -10.0, 1041: 250.0, 1043: 750.0, 1080: -10.0, 1081: 250.0, 1120: -10.0, 1121: 250.0, 1160: -10.0, 1161: 250.0, 1162: 500.0, 1163: 750.0, 1200: -10.0, 1201: 250.0, 1209: 2250.0, 1240: -10.0, 1241: 250.0, 1280: -10.0, 1281: 250.0, 1282: 500.0, 1283: 750.0, 1320: -10.0, 1321: 250.0, 1323: 750.0, 1325: 1250.0, 1360: -10.0, 1361: 250.0, 1362: 500.0, 1400: -10.0, 1401: 250.0, 1402: 500.0, 1410: 2500.0, 1440: -10.0, 1441: 250.0, 1480: -10.0, 1481: 250.0, 1482: 500.0, 1483: 750.0, 1520: -10.0, 1521: 250.0, 1523: 750.0, 1560: -10.0}, 'yBinEnd': {0: 250.0, 1: 500.0, 80: 250.0, 120: 250.0, 124: 1250.0, 160: 250.0, 200: 250.0, 240: 250.0, 241: 500.0, 280: 250.0, 320: 250.0, 360: 250.0, 361: 500.0, 400: 250.0, 440: 250.0, 441: 500.0, 459: 5000.0, 480: 250.0, 481: 500.0, 520: 250.0, 521: 500.0, 522: 750.0, 523: 1000.0, 600: 250.0, 640: 250.0, 641: 500.0, 642: 750.0, 643: 1000.0, 647: 2000.0, 656: 4250.0, 680: 250.0, 681: 500.0, 682: 750.0, 683: 1000.0, 684: 1250.0, 685: 1500.0, 687: 2000.0, 689: 2500.0, 694: 3750.0, 705: 6500.0, 709: 7500.0, 720: 250.0, 721: 500.0, 722: 750.0, 723: 1000.0, 724: 1250.0, 725: 1500.0, 726: 1750.0, 727: 2000.0, 728: 2250.0, 729: 2500.0, 730: 2750.0, 731: 3000.0, 732: 3250.0, 735: 4000.0, 736: 4250.0, 740: 5250.0, 743: 6000.0, 747: 7000.0, 760: 250.0, 761: 500.0, 762: 750.0, 763: 1000.0, 764: 1250.0, 765: 1500.0, 766: 1750.0, 767: 2000.0, 768: 2250.0, 769: 2500.0, 770: 2750.0, 771: 3000.0, 774: 3750.0, 780: 5250.0, 785: 6500.0, 799: 10000.0, 800: 250.0, 801: 500.0, 802: 750.0, 803: 1000.0, 804: 1250.0, 805: 1500.0, 806: 1750.0, 807: 2000.0, 809: 2500.0, 811: 3000.0, 814: 3750.0, 815: 4000.0, 823: 6000.0, 840: 250.0, 841: 500.0, 842: 750.0, 843: 1000.0, 844: 1250.0, 845: 1500.0, 846: 1750.0, 849: 2500.0, 851: 3000.0, 856: 4250.0, 857: 4500.0, 859: 5000.0, 865: 6500.0, 870: 7750.0, 880: 250.0, 881: 500.0, 882: 750.0, 883: 1000.0, 884: 1250.0, 885: 1500.0, 886: 1750.0, 887: 2000.0, 890: 2750.0, 892: 3250.0, 899: 5000.0, 920: 250.0, 921: 500.0, 922: 750.0, 923: 1000.0, 927: 2000.0, 960: 250.0, 961: 500.0, 962: 750.0, 963: 1000.0, 967: 2000.0, 969: 2500.0, 979: 5000.0, 999: 10000.0, 1000: 250.0, 1001: 500.0, 1002: 750.0, 1003: 1000.0, 1007: 2000.0, 1040: 250.0, 1041: 500.0, 1043: 1000.0, 1080: 250.0, 1081: 500.0, 1120: 250.0, 1121: 500.0, 1160: 250.0, 1161: 500.0, 1162: 750.0, 1163: 1000.0, 1200: 250.0, 1201: 500.0, 1209: 2500.0, 1240: 250.0, 1241: 500.0, 1280: 250.0, 1281: 500.0, 1282: 750.0, 1283: 1000.0, 1320: 250.0, 1321: 500.0, 1323: 1000.0, 1325: 1500.0, 1360: 250.0, 1361: 500.0, 1362: 750.0, 1400: 250.0, 1401: 500.0, 1402: 750.0, 1410: 2750.0, 1440: 250.0, 1441: 500.0, 1480: 250.0, 1481: 500.0, 1482: 750.0, 1483: 1000.0, 1520: 250.0, 1521: 500.0, 1523: 1000.0, 1560: 250.0}})\n",
    "df = pd.pivot_table(\n",
    "                    df, \n",
    "                    index='xBinStart', \n",
    "                    values='count', \n",
    "                    columns='yBinStart')\n",
    "df = df.apply(lambda x: np.log(x), axis=1)\n",
    "df = df.values\n",
    "fig, ax = plt.subplots()\n",
    "plt.imshow(df, cmap='Blues')\n",
    "ax.set_aspect('auto')\n",
    "plt.gca().invert_yaxis()\n",
    "ax.set_xlabel('longitude')\n",
    "ax.set_ylabel('price')\n",
    "ax.grid(False)\n",
    "\n",
    "fig"
   ]
  },
  {
   "cell_type": "code",
   "execution_count": null,
   "metadata": {},
   "outputs": [],
   "source": [
    "df.recommendation['Occurrence'][0].to_Altair()"
   ]
  },
  {
   "cell_type": "code",
   "execution_count": null,
   "metadata": {},
   "outputs": [],
   "source": [
    "import altair as alt\n",
    "visData = pd.DataFrame({'Origin': {0: 'Europe', 1: 'Japan', 2: 'USA'}, 'Record': {0: 68, 1: 79, 2: 245}})\\n\\nchart = alt.Chart(visData).mark_bar().encode(\n",
    "    y = alt.Y('Origin', type= 'nominal', axis=alt.Axis(labelOverlap=True, title='Origin')),\\n    x = alt.X('Record', type= 'quantitative', title='Number of Records', axis=alt.Axis(title='Number of Records')),\\n)\\nchart = chart.configure_mark(tooltip=alt.TooltipContent('encoding'))\\nchart = chart.configure_title(fontWeight=500,fontSize=13,font='Helvetica Neue')\\nchart = chart.configure_axis(titleFontWeight=500,titleFontSize=11,titleFont='Helvetica Neue',\\n\\t\\t\\tlabelFontWeight=400,labelFontSize=8,labelFont='Helvetica Neue',labelColor='#505050')\\nchart = chart.configure_legend(titleFontWeight=500,titleFontSize=10,titleFont='Helvetica Neue',\\n\\t\\t\\tlabelFontWeight=400,labelFontSize=8,labelFont='Helvetica Neue')\\nchart = chart.properties(width=160,height=150)\\n\\nchart"
   ]
  },
  {
   "cell_type": "raw",
   "metadata": {},
   "source": [
    "from lux.vis.Vis import Vis\n",
    "\n",
    "dataset = [\n",
    "        {\"normal\": \"USA\", \"long_var\": 3},\n",
    "        {\"normal\": \"Europe\", \"long_var\": 3},\n",
    "        {\"normal\": \"USA\", \"long_var\": 2},\n",
    "        {\"normal\": \"Europe\", \"long_var\": 4},\n",
    "    ]\n",
    "test = pd.DataFrame(dataset)\n",
    "vis = Vis([\"long_var\", \"normal\"], test)\n",
    "vis"
   ]
  },
  {
   "cell_type": "code",
   "execution_count": null,
   "metadata": {},
   "outputs": [],
   "source": [
    "one_current_vis = lambda ldf: ldf.current_vis is not None and len(ldf.current_vis) == 1"
   ]
  },
  {
   "cell_type": "code",
   "execution_count": null,
   "metadata": {},
   "outputs": [],
   "source": []
  },
  {
   "cell_type": "code",
   "execution_count": null,
   "metadata": {},
   "outputs": [],
   "source": [
    "df = pd.read_csv(\"../lux/data/car.csv\")\n",
    "df[\"Year\"] = pd.to_datetime(df[\"Year\"], format='%Y') # change pandas dtype for the column \"Year\" to datetype\n",
    "# df[\"Month\"] = pd.to_datetime(df[\"Month\"], format='%M') # change pandas dtype for the column \"Year\" to datetype\n",
    "\n",
    "df.set_intent([lux.Clause(\"Year\",channel=\"x\"), \n",
    "               lux.Clause(\"Displacement\",channel=\"y\"), \n",
    "               lux.Clause(\"Origin=USA\")])\n",
    "# last = get_filter_specs(df.intent)[-1]\n",
    "# query = df.intent.copy()[0:-1]\n",
    "# # array of possible values for attribute\n",
    "# arr = df[last.attribute].unique().tolist()\n",
    "# query.append(lux.Clause(last.attribute, last.attribute, arr))\n",
    "# query_vc = VisList(query,df)     \n",
    "# query_vc\n",
    "\n",
    "# search_space_vc = VisList(df.current_vis,df)\n",
    "        \n",
    "# preprocess(query_vis)\n",
    "# #for loop to create assign euclidean distance\n",
    "# recommendation = {\"action\":\"Similarity\",\n",
    "#                                \"description\":\"Show other charts that are visually similar to the Current vis.\"}\n",
    "# for vis in search_space_vc:\n",
    "#     preprocess(vis)\n",
    "#     vis.score = euclidean_dist(query_vis, vis)\n",
    "# search_space_vc.normalize_score(invert_order=True)"
   ]
  },
  {
   "cell_type": "code",
   "execution_count": null,
   "metadata": {},
   "outputs": [],
   "source": [
    "lux.register_action(\"similarity\", similar_pattern, one_current_vis)"
   ]
  },
  {
   "cell_type": "code",
   "execution_count": null,
   "metadata": {},
   "outputs": [],
   "source": [
    "df"
   ]
  },
  {
   "cell_type": "code",
   "execution_count": null,
   "metadata": {},
   "outputs": [],
   "source": [
    "df.current_vis"
   ]
  },
  {
   "cell_type": "code",
   "execution_count": null,
   "metadata": {},
   "outputs": [],
   "source": []
  }
 ],
 "metadata": {
  "kernelspec": {
   "display_name": "Python 3",
   "language": "python",
   "name": "python3"
  },
  "language_info": {
   "codemirror_mode": {
    "name": "ipython",
    "version": 3
   },
   "file_extension": ".py",
   "mimetype": "text/x-python",
   "name": "python",
   "nbconvert_exporter": "python",
   "pygments_lexer": "ipython3",
   "version": "3.8.2"
  }
 },
 "nbformat": 4,
 "nbformat_minor": 4
}

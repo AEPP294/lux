{
 "cells": [
  {
   "cell_type": "code",
   "execution_count": 1,
   "metadata": {},
   "outputs": [
    {
     "name": "stdout",
     "output_type": "stream",
     "text": [
      "Register default actions\n",
      "HEREEEEE\n",
      "{'correlation': RegisteredOption(name='correlation', action=<function correlation at 0x7fc981cd21f0>, display_condition=<function register_default_actions.<locals>.<lambda> at 0x7fc981cd8700>, args=()), 'distribution': RegisteredOption(name='distribution', action=<function univariate at 0x7fc981cd8040>, display_condition=<function register_default_actions.<locals>.<lambda> at 0x7fc981cd8700>, args=('quantitative',)), 'occurrence': RegisteredOption(name='occurrence', action=<function univariate at 0x7fc981cd8040>, display_condition=<function register_default_actions.<locals>.<lambda> at 0x7fc981cd8700>, args=('nominal',)), 'temporal': RegisteredOption(name='temporal', action=<function univariate at 0x7fc981cd8040>, display_condition=<function register_default_actions.<locals>.<lambda> at 0x7fc981cd8700>, args=('temporal',)), 'Enhance': RegisteredOption(name='Enhance', action=<function enhance at 0x7fc981cd81f0>, display_condition=<function register_default_actions.<locals>.<lambda> at 0x7fc981cd8790>, args=()), 'Filter': RegisteredOption(name='Filter', action=<function add_filter at 0x7fc981cd83a0>, display_condition=<function register_default_actions.<locals>.<lambda> at 0x7fc981cd8790>, args=()), 'Generalize': RegisteredOption(name='Generalize', action=<function generalize at 0x7fc981cd8550>, display_condition=<function register_default_actions.<locals>.<lambda> at 0x7fc981cd8790>, args=()), 'Custom': RegisteredOption(name='Custom', action=<function custom at 0x7fc981891ca0>, display_condition=<function register_default_actions.<locals>.<lambda> at 0x7fc981cd8820>, args=())}\n"
     ]
    }
   ],
   "source": [
    "import pandas as pd\n",
    "import lux\n",
    "from lux.vis.Clause import Clause\n",
    "from lux.utils.utils import get_filter_specs\n",
    "\n",
    "lux.config.default_display = \"lux\""
   ]
  },
  {
   "cell_type": "code",
   "execution_count": 2,
   "metadata": {},
   "outputs": [
    {
     "data": {
      "application/vnd.jupyter.widget-view+json": {
       "model_id": "7522251692534eb1a04e100bbc895649",
       "version_major": 2,
       "version_minor": 0
      },
      "text/plain": [
       "Button(description='Toggle Pandas/Lux', layout=Layout(top='5px', width='140px'), style=ButtonStyle())"
      ]
     },
     "metadata": {},
     "output_type": "display_data"
    },
    {
     "data": {
      "application/vnd.jupyter.widget-view+json": {
       "model_id": "95bf3f4f9d9e487b9942e309704603f0",
       "version_major": 2,
       "version_minor": 0
      },
      "text/plain": [
       "Output()"
      ]
     },
     "metadata": {},
     "output_type": "display_data"
    }
   ],
   "source": [
    "df = pd.read_csv(\"../lux/data/car.csv\")\n",
    "df[\"Year\"] = pd.to_datetime(df[\"Year\"], format='%Y') # change pandas dtype for the column \"Year\" to datetype\n",
    "\n",
    "# df.set_intent([lux.Clause(\"Year\",channel=\"x\"), \n",
    "#                lux.Clause(\"Displacement\",channel=\"y\"), \n",
    "#                lux.Clause(\"Origin=USA\")])\n",
    "# df.set_intent([lux.Clause(\"SATAverage\",channel=\"x\"), \n",
    "#                lux.Clause(\"AdmissionRate\",channel=\"y\"), \n",
    "#                lux.Clause(\"HighestDegree=Graduate\")])\n",
    "\n",
    "# df.current_vis[0].mark\n",
    "# len(get_filter_specs(df.intent))\n",
    "df._repr_html_()"
   ]
  },
  {
   "cell_type": "code",
   "execution_count": 4,
   "metadata": {},
   "outputs": [
    {
     "data": {
      "application/vnd.jupyter.widget-view+json": {
       "model_id": "44c99a0c45594417b4bf2d174e852112",
       "version_major": 2,
       "version_minor": 0
      },
      "text/plain": [
       "Button(description='Toggle Pandas/Lux', layout=Layout(top='5px', width='140px'), style=ButtonStyle())"
      ]
     },
     "metadata": {},
     "output_type": "display_data"
    },
    {
     "data": {
      "application/vnd.jupyter.widget-view+json": {
       "model_id": "f8295d350f1b44aea3ee495f9cc5d737",
       "version_major": 2,
       "version_minor": 0
      },
      "text/plain": [
       "Output()"
      ]
     },
     "metadata": {},
     "output_type": "display_data"
    },
    {
     "data": {
      "text/plain": [
       "'import altair as alt\\n\\nchart = alt.Chart(df).mark_circle().encode(\\n    x=alt.X(\\'Weight\\',scale=alt.Scale(domain=(1613, 5140)),type=\\'quantitative\\', axis=alt.Axis(title=\\'Weight\\')),\\n    y=alt.Y(\\'Displacement\\',scale=alt.Scale(domain=(68.0, 455.0)),type=\\'quantitative\\', axis=alt.Axis(title=\\'Displacement\\'))\\n)\\nchart = chart.configure_mark(tooltip=alt.TooltipContent(\\'encoding\\')) # Setting tooltip as non-null\\nchart = chart.interactive() # Enable Zooming and Panning\\n\\nchart = chart.configure_title(fontWeight=500,fontSize=13,font=\\'Helvetica Neue\\')\\nchart = chart.configure_axis(titleFontWeight=500,titleFontSize=11,titleFont=\\'Helvetica Neue\\',\\n\\t\\t\\tlabelFontWeight=400,labelFontSize=8,labelFont=\\'Helvetica Neue\\',labelColor=\\'#505050\\')\\nchart = chart.configure_legend(titleFontWeight=500,titleFontSize=10,titleFont=\\'Helvetica Neue\\',\\n\\t\\t\\tlabelFontWeight=400,labelFontSize=8,labelFont=\\'Helvetica Neue\\')\\nchart = chart.properties(width=160,height=150)\\n    chart = chart.configure_mark(color=\"green\", opacity=0.2)\\n    chart.title = \"Test Title\"\\nchart'"
      ]
     },
     "execution_count": 4,
     "metadata": {},
     "output_type": "execute_result"
    }
   ],
   "source": [
    "def change_color_make_transparent_add_title(chart):\n",
    "        chart = chart.configure_mark(color=\"green\", opacity=0.2)\n",
    "        chart.title = \"Test Title\"\n",
    "        return chart\n",
    "\n",
    "lux.plot_config = change_color_make_transparent_add_title\n",
    "df._repr_html_()\n",
    "config_mark_addition = 'chart = chart.configure_mark(color=\"green\", opacity=0.2)'\n",
    "title_addition = 'chart.title = \"Test Title\"'\n",
    "exported_code_str = df.recommendation[\"Correlation\"][0].to_Altair()\n",
    "exported_code_str"
   ]
  },
  {
   "cell_type": "code",
   "execution_count": null,
   "metadata": {},
   "outputs": [],
   "source": [
    "one_current_vis = lambda ldf: ldf.current_vis is not None and len(ldf.current_vis) == 1"
   ]
  },
  {
   "cell_type": "code",
   "execution_count": null,
   "metadata": {},
   "outputs": [],
   "source": []
  },
  {
   "cell_type": "code",
   "execution_count": null,
   "metadata": {},
   "outputs": [],
   "source": [
    "df = pd.read_csv(\"../lux/data/car.csv\")\n",
    "df[\"Year\"] = pd.to_datetime(df[\"Year\"], format='%Y') # change pandas dtype for the column \"Year\" to datetype\n",
    "# df[\"Month\"] = pd.to_datetime(df[\"Month\"], format='%M') # change pandas dtype for the column \"Year\" to datetype\n",
    "\n",
    "df.set_intent([lux.Clause(\"Year\",channel=\"x\"), \n",
    "               lux.Clause(\"Displacement\",channel=\"y\"), \n",
    "               lux.Clause(\"Origin=USA\")])\n",
    "# last = get_filter_specs(df.intent)[-1]\n",
    "# query = df.intent.copy()[0:-1]\n",
    "# # array of possible values for attribute\n",
    "# arr = df[last.attribute].unique().tolist()\n",
    "# query.append(lux.Clause(last.attribute, last.attribute, arr))\n",
    "# query_vc = VisList(query,df)     \n",
    "# query_vc\n",
    "\n",
    "# search_space_vc = VisList(df.current_vis,df)\n",
    "        \n",
    "# preprocess(query_vis)\n",
    "# #for loop to create assign euclidean distance\n",
    "# recommendation = {\"action\":\"Similarity\",\n",
    "#                                \"description\":\"Show other charts that are visually similar to the Current vis.\"}\n",
    "# for vis in search_space_vc:\n",
    "#     preprocess(vis)\n",
    "#     vis.score = euclidean_dist(query_vis, vis)\n",
    "# search_space_vc.normalize_score(invert_order=True)"
   ]
  },
  {
   "cell_type": "code",
   "execution_count": null,
   "metadata": {},
   "outputs": [],
   "source": [
    "lux.register_action(\"similarity\", similar_pattern, one_current_vis)"
   ]
  },
  {
   "cell_type": "code",
   "execution_count": null,
   "metadata": {},
   "outputs": [],
   "source": [
    "df"
   ]
  },
  {
   "cell_type": "code",
   "execution_count": null,
   "metadata": {},
   "outputs": [],
   "source": [
    "df.current_vis"
   ]
  },
  {
   "cell_type": "code",
   "execution_count": null,
   "metadata": {},
   "outputs": [],
   "source": []
  }
 ],
 "metadata": {
  "kernelspec": {
   "display_name": "Python 3",
   "language": "python",
   "name": "python3"
  },
  "language_info": {
   "codemirror_mode": {
    "name": "ipython",
    "version": 3
   },
   "file_extension": ".py",
   "mimetype": "text/x-python",
   "name": "python",
   "nbconvert_exporter": "python",
   "pygments_lexer": "ipython3",
   "version": "3.8.5"
  }
 },
 "nbformat": 4,
 "nbformat_minor": 4
}

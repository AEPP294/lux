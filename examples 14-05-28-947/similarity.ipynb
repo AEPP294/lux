{
 "cells": [
  {
   "cell_type": "code",
   "execution_count": 1,
   "metadata": {},
   "outputs": [
    {
     "name": "stdout",
     "output_type": "stream",
     "text": [
      "Register default actions\n"
     ]
    }
   ],
   "source": [
    "import pandas as pd\n",
    "import lux\n",
    "from lux.vis.Clause import Clause\n",
    "from lux.utils.utils import get_filter_specs\n",
    "\n",
    "lux.config.default_display = \"lux\""
   ]
  },
  {
   "cell_type": "code",
   "execution_count": 2,
   "metadata": {},
   "outputs": [
    {
     "name": "stderr",
     "output_type": "stream",
     "text": [
      "/opt/anaconda3/lib/python3.8/site-packages/lux_api-0.2.1.2-py3.8.egg/lux/executor/PandasExecutor.py:379: UserWarning:\n",
      "Lux detects that the attribute 'last_review' may be temporal.\n",
      "To display visualizations for these attributes accurately, please convert temporal attributes to Pandas Datetime objects using the pd.to_datetime function and provide a 'format' parameter to specify the datetime format of the attribute.\n",
      "For example, you can convert a year-only attribute (e.g., 1998, 1971, 1982) to Datetime type by specifying the `format` as '%Y'.\n",
      "\n",
      "Here is a starter template that you can use for converting the temporal fields:\n",
      "\tdf['last_review'] = pd.to_datetime(df['last_review'], format='<replace-with-datetime-format>')\n",
      "\n",
      "See more at: https://pandas.pydata.org/pandas-docs/stable/reference/api/pandas.to_datetime.html\n",
      "/opt/anaconda3/lib/python3.8/site-packages/lux_api-0.2.1.2-py3.8.egg/lux/vislib/matplotlib/Histogram.py:60: RuntimeWarning:More than 20 figures have been opened. Figures created through the pyplot interface (`matplotlib.pyplot.figure`) are retained until explicitly closed and may consume too much memory. (To control this warning, see the rcParam `figure.max_open_warning`).\n"
     ]
    },
    {
     "name": "stdout",
     "output_type": "stream",
     "text": [
      "object\n",
      "object\n",
      "object\n",
      "object\n"
     ]
    },
    {
     "name": "stderr",
     "output_type": "stream",
     "text": [
      "/opt/anaconda3/lib/python3.8/site-packages/IPython/core/formatters.py:345: UserWarning:\n",
      "Unexpected error in rendering Lux widget and recommendations. Falling back to Pandas display.\n",
      "Please report the following issue on Github: https://github.com/lux-org/lux/issues \n",
      "\n",
      "/opt/anaconda3/lib/python3.8/site-packages/lux_api-0.2.1.2-py3.8.egg/lux/core/frame.py:661: UserWarning:Traceback (most recent call last):\n",
      "  File \"/opt/anaconda3/lib/python3.8/site-packages/lux_api-0.2.1.2-py3.8.egg/lux/core/frame.py\", line 613, in _repr_html_\n",
      "    self.maintain_recs()\n",
      "  File \"/opt/anaconda3/lib/python3.8/site-packages/lux_api-0.2.1.2-py3.8.egg/lux/core/frame.py\", line 457, in maintain_recs\n",
      "    self._widget = rec_df.render_widget()\n",
      "  File \"/opt/anaconda3/lib/python3.8/site-packages/lux_api-0.2.1.2-py3.8.egg/lux/core/frame.py\", line 697, in render_widget\n",
      "    widgetJSON = self.to_JSON(self._rec_info, input_current_vis=input_current_vis)\n",
      "  File \"/opt/anaconda3/lib/python3.8/site-packages/lux_api-0.2.1.2-py3.8.egg/lux/core/frame.py\", line 736, in to_JSON\n",
      "    recCollection = LuxDataFrame.rec_to_JSON(rec_infolist)\n",
      "  File \"/opt/anaconda3/lib/python3.8/site-packages/lux_api-0.2.1.2-py3.8.egg/lux/core/frame.py\", line 760, in rec_to_JSON\n",
      "    chart = vis.to_code(language=\"matplotlib\", prettyOutput=False)\n",
      "  File \"/opt/anaconda3/lib/python3.8/site-packages/lux_api-0.2.1.2-py3.8.egg/lux/vis/Vis.py\", line 320, in to_code\n",
      "    return self.to_Matplotlib()\n",
      "  File \"/opt/anaconda3/lib/python3.8/site-packages/lux_api-0.2.1.2-py3.8.egg/lux/vis/Vis.py\", line 256, in to_Matplotlib\n",
      "    self._code = renderer.create_vis(self, standalone)\n",
      "  File \"/opt/anaconda3/lib/python3.8/site-packages/lux_api-0.2.1.2-py3.8.egg/lux/vislib/matplotlib/MatplotlibRenderer.py\", line 75, in create_vis\n",
      "    chart = BarChart(vis)\n",
      "  File \"/opt/anaconda3/lib/python3.8/site-packages/lux_api-0.2.1.2-py3.8.egg/lux/vislib/matplotlib/BarChart.py\", line 33, in __init__\n",
      "    super().__init__(dobj)\n",
      "  File \"/opt/anaconda3/lib/python3.8/site-packages/lux_api-0.2.1.2-py3.8.egg/lux/vislib/matplotlib/MatplotlibChart.py\", line 36, in __init__\n",
      "    self.chart = self.initialize_chart()\n",
      "  File \"/opt/anaconda3/lib/python3.8/site-packages/lux_api-0.2.1.2-py3.8.egg/lux/vislib/matplotlib/BarChart.py\", line 68, in initialize_chart\n",
      "    ax.barh(objects, performance, align='center', alpha=0.5)\n",
      "  File \"/opt/anaconda3/lib/python3.8/site-packages/matplotlib/axes/_axes.py\", line 2630, in barh\n",
      "    patches = self.bar(x=left, height=height, width=width, bottom=y,\n",
      "  File \"/opt/anaconda3/lib/python3.8/site-packages/matplotlib/__init__.py\", line 1438, in inner\n",
      "    return func(ax, *map(sanitize_sequence, args), **kwargs)\n",
      "  File \"/opt/anaconda3/lib/python3.8/site-packages/matplotlib/axes/_axes.py\", line 2411, in bar\n",
      "    self._process_unit_info(xdata=width, ydata=y, kwargs=kwargs)\n",
      "  File \"/opt/anaconda3/lib/python3.8/site-packages/matplotlib/axes/_base.py\", line 2190, in _process_unit_info\n",
      "    kwargs = _process_single_axis(ydata, self.yaxis, 'yunits', kwargs)\n",
      "  File \"/opt/anaconda3/lib/python3.8/site-packages/matplotlib/axes/_base.py\", line 2172, in _process_single_axis\n",
      "    axis.update_units(data)\n",
      "  File \"/opt/anaconda3/lib/python3.8/site-packages/matplotlib/axis.py\", line 1463, in update_units\n",
      "    default = self.converter.default_units(data, self)\n",
      "  File \"/opt/anaconda3/lib/python3.8/site-packages/matplotlib/category.py\", line 107, in default_units\n",
      "    axis.set_units(UnitData(data))\n",
      "  File \"/opt/anaconda3/lib/python3.8/site-packages/matplotlib/category.py\", line 176, in __init__\n",
      "    self.update(data)\n",
      "  File \"/opt/anaconda3/lib/python3.8/site-packages/matplotlib/category.py\", line 211, in update\n",
      "    cbook._check_isinstance((str, bytes), value=val)\n",
      "  File \"/opt/anaconda3/lib/python3.8/site-packages/matplotlib/cbook/__init__.py\", line 2246, in _check_isinstance\n",
      "    raise TypeError(\n",
      "TypeError: 'value' must be an instance of str or bytes, not a float\n",
      "\n"
     ]
    },
    {
     "data": {
      "text/html": [
       "<div>\n",
       "<style scoped>\n",
       "    .dataframe tbody tr th:only-of-type {\n",
       "        vertical-align: middle;\n",
       "    }\n",
       "\n",
       "    .dataframe tbody tr th {\n",
       "        vertical-align: top;\n",
       "    }\n",
       "\n",
       "    .dataframe thead th {\n",
       "        text-align: right;\n",
       "    }\n",
       "</style>\n",
       "<table border=\"1\" class=\"dataframe\">\n",
       "  <thead>\n",
       "    <tr style=\"text-align: right;\">\n",
       "      <th></th>\n",
       "      <th>id</th>\n",
       "      <th>name</th>\n",
       "      <th>host_id</th>\n",
       "      <th>host_name</th>\n",
       "      <th>neighbourhood_group</th>\n",
       "      <th>neighbourhood</th>\n",
       "      <th>latitude</th>\n",
       "      <th>longitude</th>\n",
       "      <th>room_type</th>\n",
       "      <th>price</th>\n",
       "      <th>minimum_nights</th>\n",
       "      <th>number_of_reviews</th>\n",
       "      <th>last_review</th>\n",
       "      <th>reviews_per_month</th>\n",
       "      <th>calculated_host_listings_count</th>\n",
       "      <th>availability_365</th>\n",
       "    </tr>\n",
       "  </thead>\n",
       "  <tbody>\n",
       "    <tr>\n",
       "      <th>0</th>\n",
       "      <td>2539</td>\n",
       "      <td>Clean &amp; quiet apt home by the park</td>\n",
       "      <td>2787</td>\n",
       "      <td>John</td>\n",
       "      <td>Brooklyn</td>\n",
       "      <td>Kensington</td>\n",
       "      <td>40.64749</td>\n",
       "      <td>-73.97237</td>\n",
       "      <td>Private room</td>\n",
       "      <td>149</td>\n",
       "      <td>1</td>\n",
       "      <td>9</td>\n",
       "      <td>2018-10-19</td>\n",
       "      <td>0.21</td>\n",
       "      <td>6</td>\n",
       "      <td>365</td>\n",
       "    </tr>\n",
       "    <tr>\n",
       "      <th>1</th>\n",
       "      <td>2595</td>\n",
       "      <td>Skylit Midtown Castle</td>\n",
       "      <td>2845</td>\n",
       "      <td>Jennifer</td>\n",
       "      <td>Manhattan</td>\n",
       "      <td>Midtown</td>\n",
       "      <td>40.75362</td>\n",
       "      <td>-73.98377</td>\n",
       "      <td>Entire home/apt</td>\n",
       "      <td>225</td>\n",
       "      <td>1</td>\n",
       "      <td>45</td>\n",
       "      <td>2019-05-21</td>\n",
       "      <td>0.38</td>\n",
       "      <td>2</td>\n",
       "      <td>355</td>\n",
       "    </tr>\n",
       "    <tr>\n",
       "      <th>2</th>\n",
       "      <td>3647</td>\n",
       "      <td>THE VILLAGE OF HARLEM....NEW YORK !</td>\n",
       "      <td>4632</td>\n",
       "      <td>Elisabeth</td>\n",
       "      <td>Manhattan</td>\n",
       "      <td>Harlem</td>\n",
       "      <td>40.80902</td>\n",
       "      <td>-73.94190</td>\n",
       "      <td>Private room</td>\n",
       "      <td>150</td>\n",
       "      <td>3</td>\n",
       "      <td>0</td>\n",
       "      <td>NaN</td>\n",
       "      <td>NaN</td>\n",
       "      <td>1</td>\n",
       "      <td>365</td>\n",
       "    </tr>\n",
       "    <tr>\n",
       "      <th>3</th>\n",
       "      <td>3831</td>\n",
       "      <td>Cozy Entire Floor of Brownstone</td>\n",
       "      <td>4869</td>\n",
       "      <td>LisaRoxanne</td>\n",
       "      <td>Brooklyn</td>\n",
       "      <td>Clinton Hill</td>\n",
       "      <td>40.68514</td>\n",
       "      <td>-73.95976</td>\n",
       "      <td>Entire home/apt</td>\n",
       "      <td>89</td>\n",
       "      <td>1</td>\n",
       "      <td>270</td>\n",
       "      <td>2019-07-05</td>\n",
       "      <td>4.64</td>\n",
       "      <td>1</td>\n",
       "      <td>194</td>\n",
       "    </tr>\n",
       "    <tr>\n",
       "      <th>4</th>\n",
       "      <td>5022</td>\n",
       "      <td>Entire Apt: Spacious Studio/Loft by central park</td>\n",
       "      <td>7192</td>\n",
       "      <td>Laura</td>\n",
       "      <td>Manhattan</td>\n",
       "      <td>East Harlem</td>\n",
       "      <td>40.79851</td>\n",
       "      <td>-73.94399</td>\n",
       "      <td>Entire home/apt</td>\n",
       "      <td>80</td>\n",
       "      <td>10</td>\n",
       "      <td>9</td>\n",
       "      <td>2018-11-19</td>\n",
       "      <td>0.10</td>\n",
       "      <td>1</td>\n",
       "      <td>0</td>\n",
       "    </tr>\n",
       "    <tr>\n",
       "      <th>...</th>\n",
       "      <td>...</td>\n",
       "      <td>...</td>\n",
       "      <td>...</td>\n",
       "      <td>...</td>\n",
       "      <td>...</td>\n",
       "      <td>...</td>\n",
       "      <td>...</td>\n",
       "      <td>...</td>\n",
       "      <td>...</td>\n",
       "      <td>...</td>\n",
       "      <td>...</td>\n",
       "      <td>...</td>\n",
       "      <td>...</td>\n",
       "      <td>...</td>\n",
       "      <td>...</td>\n",
       "      <td>...</td>\n",
       "    </tr>\n",
       "    <tr>\n",
       "      <th>48890</th>\n",
       "      <td>36484665</td>\n",
       "      <td>Charming one bedroom - newly renovated rowhouse</td>\n",
       "      <td>8232441</td>\n",
       "      <td>Sabrina</td>\n",
       "      <td>Brooklyn</td>\n",
       "      <td>Bedford-Stuyvesant</td>\n",
       "      <td>40.67853</td>\n",
       "      <td>-73.94995</td>\n",
       "      <td>Private room</td>\n",
       "      <td>70</td>\n",
       "      <td>2</td>\n",
       "      <td>0</td>\n",
       "      <td>NaN</td>\n",
       "      <td>NaN</td>\n",
       "      <td>2</td>\n",
       "      <td>9</td>\n",
       "    </tr>\n",
       "    <tr>\n",
       "      <th>48891</th>\n",
       "      <td>36485057</td>\n",
       "      <td>Affordable room in Bushwick/East Williamsburg</td>\n",
       "      <td>6570630</td>\n",
       "      <td>Marisol</td>\n",
       "      <td>Brooklyn</td>\n",
       "      <td>Bushwick</td>\n",
       "      <td>40.70184</td>\n",
       "      <td>-73.93317</td>\n",
       "      <td>Private room</td>\n",
       "      <td>40</td>\n",
       "      <td>4</td>\n",
       "      <td>0</td>\n",
       "      <td>NaN</td>\n",
       "      <td>NaN</td>\n",
       "      <td>2</td>\n",
       "      <td>36</td>\n",
       "    </tr>\n",
       "    <tr>\n",
       "      <th>48892</th>\n",
       "      <td>36485431</td>\n",
       "      <td>Sunny Studio at Historical Neighborhood</td>\n",
       "      <td>23492952</td>\n",
       "      <td>Ilgar &amp; Aysel</td>\n",
       "      <td>Manhattan</td>\n",
       "      <td>Harlem</td>\n",
       "      <td>40.81475</td>\n",
       "      <td>-73.94867</td>\n",
       "      <td>Entire home/apt</td>\n",
       "      <td>115</td>\n",
       "      <td>10</td>\n",
       "      <td>0</td>\n",
       "      <td>NaN</td>\n",
       "      <td>NaN</td>\n",
       "      <td>1</td>\n",
       "      <td>27</td>\n",
       "    </tr>\n",
       "    <tr>\n",
       "      <th>48893</th>\n",
       "      <td>36485609</td>\n",
       "      <td>43rd St. Time Square-cozy single bed</td>\n",
       "      <td>30985759</td>\n",
       "      <td>Taz</td>\n",
       "      <td>Manhattan</td>\n",
       "      <td>Hell's Kitchen</td>\n",
       "      <td>40.75751</td>\n",
       "      <td>-73.99112</td>\n",
       "      <td>Shared room</td>\n",
       "      <td>55</td>\n",
       "      <td>1</td>\n",
       "      <td>0</td>\n",
       "      <td>NaN</td>\n",
       "      <td>NaN</td>\n",
       "      <td>6</td>\n",
       "      <td>2</td>\n",
       "    </tr>\n",
       "    <tr>\n",
       "      <th>48894</th>\n",
       "      <td>36487245</td>\n",
       "      <td>Trendy duplex in the very heart of Hell's Kitchen</td>\n",
       "      <td>68119814</td>\n",
       "      <td>Christophe</td>\n",
       "      <td>Manhattan</td>\n",
       "      <td>Hell's Kitchen</td>\n",
       "      <td>40.76404</td>\n",
       "      <td>-73.98933</td>\n",
       "      <td>Private room</td>\n",
       "      <td>90</td>\n",
       "      <td>7</td>\n",
       "      <td>0</td>\n",
       "      <td>NaN</td>\n",
       "      <td>NaN</td>\n",
       "      <td>1</td>\n",
       "      <td>23</td>\n",
       "    </tr>\n",
       "  </tbody>\n",
       "</table>\n",
       "<p>48895 rows × 16 columns</p>\n",
       "</div>"
      ],
      "text/plain": [
       "             id                                               name   host_id  \\\n",
       "0          2539                 Clean & quiet apt home by the park      2787   \n",
       "1          2595                              Skylit Midtown Castle      2845   \n",
       "2          3647                THE VILLAGE OF HARLEM....NEW YORK !      4632   \n",
       "3          3831                    Cozy Entire Floor of Brownstone      4869   \n",
       "4          5022   Entire Apt: Spacious Studio/Loft by central park      7192   \n",
       "...         ...                                                ...       ...   \n",
       "48890  36484665    Charming one bedroom - newly renovated rowhouse   8232441   \n",
       "48891  36485057      Affordable room in Bushwick/East Williamsburg   6570630   \n",
       "48892  36485431            Sunny Studio at Historical Neighborhood  23492952   \n",
       "48893  36485609               43rd St. Time Square-cozy single bed  30985759   \n",
       "48894  36487245  Trendy duplex in the very heart of Hell's Kitchen  68119814   \n",
       "\n",
       "           host_name neighbourhood_group       neighbourhood  latitude  \\\n",
       "0               John            Brooklyn          Kensington  40.64749   \n",
       "1           Jennifer           Manhattan             Midtown  40.75362   \n",
       "2          Elisabeth           Manhattan              Harlem  40.80902   \n",
       "3        LisaRoxanne            Brooklyn        Clinton Hill  40.68514   \n",
       "4              Laura           Manhattan         East Harlem  40.79851   \n",
       "...              ...                 ...                 ...       ...   \n",
       "48890        Sabrina            Brooklyn  Bedford-Stuyvesant  40.67853   \n",
       "48891        Marisol            Brooklyn            Bushwick  40.70184   \n",
       "48892  Ilgar & Aysel           Manhattan              Harlem  40.81475   \n",
       "48893            Taz           Manhattan      Hell's Kitchen  40.75751   \n",
       "48894     Christophe           Manhattan      Hell's Kitchen  40.76404   \n",
       "\n",
       "       longitude        room_type  price  minimum_nights  number_of_reviews  \\\n",
       "0      -73.97237     Private room    149               1                  9   \n",
       "1      -73.98377  Entire home/apt    225               1                 45   \n",
       "2      -73.94190     Private room    150               3                  0   \n",
       "3      -73.95976  Entire home/apt     89               1                270   \n",
       "4      -73.94399  Entire home/apt     80              10                  9   \n",
       "...          ...              ...    ...             ...                ...   \n",
       "48890  -73.94995     Private room     70               2                  0   \n",
       "48891  -73.93317     Private room     40               4                  0   \n",
       "48892  -73.94867  Entire home/apt    115              10                  0   \n",
       "48893  -73.99112      Shared room     55               1                  0   \n",
       "48894  -73.98933     Private room     90               7                  0   \n",
       "\n",
       "      last_review  reviews_per_month  calculated_host_listings_count  \\\n",
       "0      2018-10-19               0.21                               6   \n",
       "1      2019-05-21               0.38                               2   \n",
       "2             NaN                NaN                               1   \n",
       "3      2019-07-05               4.64                               1   \n",
       "4      2018-11-19               0.10                               1   \n",
       "...           ...                ...                             ...   \n",
       "48890         NaN                NaN                               2   \n",
       "48891         NaN                NaN                               2   \n",
       "48892         NaN                NaN                               1   \n",
       "48893         NaN                NaN                               6   \n",
       "48894         NaN                NaN                               1   \n",
       "\n",
       "       availability_365  \n",
       "0                   365  \n",
       "1                   355  \n",
       "2                   365  \n",
       "3                   194  \n",
       "4                     0  \n",
       "...                 ...  \n",
       "48890                 9  \n",
       "48891                36  \n",
       "48892                27  \n",
       "48893                 2  \n",
       "48894                23  \n",
       "\n",
       "[48895 rows x 16 columns]"
      ]
     },
     "metadata": {},
     "output_type": "display_data"
    },
    {
     "data": {
      "text/plain": []
     },
     "execution_count": 2,
     "metadata": {},
     "output_type": "execute_result"
    }
   ],
   "source": [
    "df = pd.read_csv(\"https://raw.githubusercontent.com/lux-org/lux-datasets/master/data/airbnb_nyc.csv\")\n",
    "\n",
    "df"
   ]
  },
  {
   "cell_type": "code",
   "execution_count": 3,
   "metadata": {},
   "outputs": [
    {
     "data": {
      "application/vnd.jupyter.widget-view+json": {
       "model_id": "77533c5f342e4dc6b48df431bafb6d13",
       "version_major": 2,
       "version_minor": 0
      },
      "text/plain": [
       "Button(description='Toggle Pandas/Lux', layout=Layout(top='5px', width='140px'), style=ButtonStyle())"
      ]
     },
     "metadata": {},
     "output_type": "display_data"
    },
    {
     "data": {
      "application/vnd.jupyter.widget-view+json": {
       "model_id": "74808fa389504a5eb5a903d00a7ef0a5",
       "version_major": 2,
       "version_minor": 0
      },
      "text/plain": [
       "Output()"
      ]
     },
     "metadata": {},
     "output_type": "display_data"
    },
    {
     "data": {
      "text/plain": []
     },
     "execution_count": 3,
     "metadata": {},
     "output_type": "execute_result"
    }
   ],
   "source": [
    "df = pd.read_csv(\"../lux/data/car.csv\")\n",
    "df[\"Year\"] = pd.to_datetime(df[\"Year\"], format='%Y') # change pandas dtype for the column \"Year\" to datetype\n",
    "\n",
    "# df.set_intent([lux.Clause(\"Displacement\",channel=\"x\")])\n",
    "# df.set_intent([lux.Clause(\"Year\",channel=\"x\"), \n",
    "#                lux.Clause(\"Displacement\",channel=\"y\"), \n",
    "#                lux.Clause(\"Origin=USA\")])\n",
    "\n",
    "# df.current_vis[0].mark\n",
    "# len(get_filter_specs(df.intent))\n",
    "df"
   ]
  },
  {
   "cell_type": "code",
   "execution_count": 5,
   "metadata": {},
   "outputs": [
    {
     "data": {
      "text/plain": [
       "(16, 16)"
      ]
     },
     "execution_count": 5,
     "metadata": {},
     "output_type": "execute_result"
    }
   ],
   "source": [
    "import numpy as np\n",
    "np.random.random((16, 16)).shape"
   ]
  },
  {
   "cell_type": "code",
   "execution_count": 13,
   "metadata": {},
   "outputs": [
    {
     "data": {
      "text/plain": [
       "\"import altair as alt\\nvisData = pd.DataFrame({'Origin': {0: 'Europe', 1: 'Japan', 2: 'USA'}, 'Record': {0: 68, 1: 79, 2: 245}})\\n\\nchart = alt.Chart(visData).mark_bar().encode(\\n    y = alt.Y('Origin', type= 'nominal', axis=alt.Axis(labelOverlap=True, title='Origin')),\\n    x = alt.X('Record', type= 'quantitative', title='Number of Records', axis=alt.Axis(title='Number of Records')),\\n)\\nchart = chart.configure_mark(tooltip=alt.TooltipContent('encoding'))\\nchart = chart.configure_title(fontWeight=500,fontSize=13,font='Helvetica Neue')\\nchart = chart.configure_axis(titleFontWeight=500,titleFontSize=11,titleFont='Helvetica Neue',\\n\\t\\t\\tlabelFontWeight=400,labelFontSize=8,labelFont='Helvetica Neue',labelColor='#505050')\\nchart = chart.configure_legend(titleFontWeight=500,titleFontSize=10,titleFont='Helvetica Neue',\\n\\t\\t\\tlabelFontWeight=400,labelFontSize=8,labelFont='Helvetica Neue')\\nchart = chart.properties(width=160,height=150)\\n\\nchart\""
      ]
     },
     "execution_count": 13,
     "metadata": {},
     "output_type": "execute_result"
    }
   ],
   "source": [
    "df.recommendation['Occurrence'][0].to_Altair()"
   ]
  },
  {
   "cell_type": "code",
   "execution_count": 14,
   "metadata": {},
   "outputs": [
    {
     "ename": "SyntaxError",
     "evalue": "unexpected character after line continuation character (<ipython-input-14-8385311e8f18>, line 1)",
     "output_type": "error",
     "traceback": [
      "\u001b[0;36m  File \u001b[0;32m\"<ipython-input-14-8385311e8f18>\"\u001b[0;36m, line \u001b[0;32m1\u001b[0m\n\u001b[0;31m    import altair as alt\\nvisData = pd.DataFrame({'Origin': {0: 'Europe', 1: 'Japan', 2: 'USA'}, 'Record': {0: 68, 1: 79, 2: 245}})\\n\\nchart = alt.Chart(visData).mark_bar().encode(\\n    y = alt.Y('Origin', type= 'nominal', axis=alt.Axis(labelOverlap=True, title='Origin')),\\n    x = alt.X('Record', type= 'quantitative', title='Number of Records', axis=alt.Axis(title='Number of Records')),\\n)\\nchart = chart.configure_mark(tooltip=alt.TooltipContent('encoding'))\\nchart = chart.configure_title(fontWeight=500,fontSize=13,font='Helvetica Neue')\\nchart = chart.configure_axis(titleFontWeight=500,titleFontSize=11,titleFont='Helvetica Neue',\\n\\t\\t\\tlabelFontWeight=400,labelFontSize=8,labelFont='Helvetica Neue',labelColor='#505050')\\nchart = chart.configure_legend(titleFontWeight=500,titleFontSize=10,titleFont='Helvetica Neue',\\n\\t\\t\\tlabelFontWeight=400,labelFontSize=8,labelFont='Helvetica Neue')\\nchart = chart.properties(width=160,height=150)\\n\\nchart\u001b[0m\n\u001b[0m                                                                                                                                                                                                                                                                                                                                                                                                                                                                                                                                                                                                                                                                                                                                                                                                                                                                                                                                                                                            ^\u001b[0m\n\u001b[0;31mSyntaxError\u001b[0m\u001b[0;31m:\u001b[0m unexpected character after line continuation character\n"
     ]
    }
   ],
   "source": [
    "import altair as alt\n",
    "visData = pd.DataFrame({'Origin': {0: 'Europe', 1: 'Japan', 2: 'USA'}, 'Record': {0: 68, 1: 79, 2: 245}})\\n\\nchart = alt.Chart(visData).mark_bar().encode(\n",
    "    y = alt.Y('Origin', type= 'nominal', axis=alt.Axis(labelOverlap=True, title='Origin')),\\n    x = alt.X('Record', type= 'quantitative', title='Number of Records', axis=alt.Axis(title='Number of Records')),\\n)\\nchart = chart.configure_mark(tooltip=alt.TooltipContent('encoding'))\\nchart = chart.configure_title(fontWeight=500,fontSize=13,font='Helvetica Neue')\\nchart = chart.configure_axis(titleFontWeight=500,titleFontSize=11,titleFont='Helvetica Neue',\\n\\t\\t\\tlabelFontWeight=400,labelFontSize=8,labelFont='Helvetica Neue',labelColor='#505050')\\nchart = chart.configure_legend(titleFontWeight=500,titleFontSize=10,titleFont='Helvetica Neue',\\n\\t\\t\\tlabelFontWeight=400,labelFontSize=8,labelFont='Helvetica Neue')\\nchart = chart.properties(width=160,height=150)\\n\\nchart"
   ]
  },
  {
   "cell_type": "raw",
   "metadata": {},
   "source": [
    "from lux.vis.Vis import Vis\n",
    "\n",
    "dataset = [\n",
    "        {\"normal\": \"USA\", \"long_var\": 3},\n",
    "        {\"normal\": \"Europe\", \"long_var\": 3},\n",
    "        {\"normal\": \"USA\", \"long_var\": 2},\n",
    "        {\"normal\": \"Europe\", \"long_var\": 4},\n",
    "    ]\n",
    "test = pd.DataFrame(dataset)\n",
    "vis = Vis([\"long_var\", \"normal\"], test)\n",
    "vis"
   ]
  },
  {
   "cell_type": "code",
   "execution_count": null,
   "metadata": {},
   "outputs": [],
   "source": [
    "one_current_vis = lambda ldf: ldf.current_vis is not None and len(ldf.current_vis) == 1"
   ]
  },
  {
   "cell_type": "code",
   "execution_count": null,
   "metadata": {},
   "outputs": [],
   "source": []
  },
  {
   "cell_type": "code",
   "execution_count": null,
   "metadata": {},
   "outputs": [],
   "source": [
    "df = pd.read_csv(\"../lux/data/car.csv\")\n",
    "df[\"Year\"] = pd.to_datetime(df[\"Year\"], format='%Y') # change pandas dtype for the column \"Year\" to datetype\n",
    "# df[\"Month\"] = pd.to_datetime(df[\"Month\"], format='%M') # change pandas dtype for the column \"Year\" to datetype\n",
    "\n",
    "df.set_intent([lux.Clause(\"Year\",channel=\"x\"), \n",
    "               lux.Clause(\"Displacement\",channel=\"y\"), \n",
    "               lux.Clause(\"Origin=USA\")])\n",
    "# last = get_filter_specs(df.intent)[-1]\n",
    "# query = df.intent.copy()[0:-1]\n",
    "# # array of possible values for attribute\n",
    "# arr = df[last.attribute].unique().tolist()\n",
    "# query.append(lux.Clause(last.attribute, last.attribute, arr))\n",
    "# query_vc = VisList(query,df)     \n",
    "# query_vc\n",
    "\n",
    "# search_space_vc = VisList(df.current_vis,df)\n",
    "        \n",
    "# preprocess(query_vis)\n",
    "# #for loop to create assign euclidean distance\n",
    "# recommendation = {\"action\":\"Similarity\",\n",
    "#                                \"description\":\"Show other charts that are visually similar to the Current vis.\"}\n",
    "# for vis in search_space_vc:\n",
    "#     preprocess(vis)\n",
    "#     vis.score = euclidean_dist(query_vis, vis)\n",
    "# search_space_vc.normalize_score(invert_order=True)"
   ]
  },
  {
   "cell_type": "code",
   "execution_count": null,
   "metadata": {},
   "outputs": [],
   "source": [
    "lux.register_action(\"similarity\", similar_pattern, one_current_vis)"
   ]
  },
  {
   "cell_type": "code",
   "execution_count": null,
   "metadata": {},
   "outputs": [],
   "source": [
    "df"
   ]
  },
  {
   "cell_type": "code",
   "execution_count": null,
   "metadata": {},
   "outputs": [],
   "source": [
    "df.current_vis"
   ]
  },
  {
   "cell_type": "code",
   "execution_count": null,
   "metadata": {},
   "outputs": [],
   "source": []
  }
 ],
 "metadata": {
  "kernelspec": {
   "display_name": "Python 3",
   "language": "python",
   "name": "python3"
  },
  "language_info": {
   "codemirror_mode": {
    "name": "ipython",
    "version": 3
   },
   "file_extension": ".py",
   "mimetype": "text/x-python",
   "name": "python",
   "nbconvert_exporter": "python",
   "pygments_lexer": "ipython3",
   "version": "3.8.5"
  }
 },
 "nbformat": 4,
 "nbformat_minor": 4
}

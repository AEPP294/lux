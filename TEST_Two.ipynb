{
 "cells": [
  {
   "cell_type": "code",
   "execution_count": 1,
   "id": "missing-description",
   "metadata": {},
   "outputs": [],
   "source": [
    "import lux\n",
    "import pandas as pd\n",
    "from vega_datasets import data\n",
    "from lux.vis.Vis import Vis\n",
    "from lux.vis.VisList import VisList\n",
    "\n",
    "# lux.config.default_display = \"lux\"\n",
    "from IPython.core.debugger import set_trace\n",
    "\n",
    "df = data.cars()"
   ]
  },
  {
   "cell_type": "code",
   "execution_count": 2,
   "id": "reduced-artist",
   "metadata": {},
   "outputs": [],
   "source": [
    "l = df[\"Cylinders\"]\n",
    "l = df[\"Acceleration\"]\n",
    "l = df[\"Cylinders\"]"
   ]
  },
  {
   "cell_type": "code",
   "execution_count": 3,
   "id": "mysterious-proportion",
   "metadata": {},
   "outputs": [
    {
     "name": "stdout",
     "output_type": "stream",
     "text": [
      "Finalize yo\n"
     ]
    }
   ],
   "source": [
    "df_2 = df[[\"Origin\"]]"
   ]
  },
  {
   "cell_type": "code",
   "execution_count": 4,
   "id": "geographic-hollywood",
   "metadata": {},
   "outputs": [
    {
     "name": "stdout",
     "output_type": "stream",
     "text": [
      "Finalize yo\n",
      "Finalize yo\n",
      "Finalize yo\n",
      "Finalize yo\n",
      "Finalize yo\n",
      "Finalize yo\n",
      "Finalize yo\n",
      "Finalize yo\n",
      "Finalize yo\n",
      "Finalize yo\n",
      "Finalize yo\n",
      "Finalize yo\n",
      "Finalize yo\n",
      "Finalize yo\n",
      "Finalize yo\n",
      "Finalize yo\n",
      "Finalize yo\n",
      "Finalize yo\n",
      "Finalize yo\n",
      "Finalize yo\n",
      "Finalize yo\n",
      "Finalize yo\n",
      "Finalize yo\n"
     ]
    },
    {
     "name": "stderr",
     "output_type": "stream",
     "text": [
      "/Users/wepperso/opt/anaconda3/envs/lux_workspace/lib/python3.9/site-packages/IPython/core/formatters.py:345: UserWarning:\n",
      "Unexpected error in rendering Lux widget and recommendations. Falling back to Pandas display.\n",
      "Please report the following issue on Github: https://github.com/lux-org/lux/issues \n",
      "\n",
      "/Users/wepperso/Documents/Research/Projects/Notebook_Vis_Rec_Projects/lux/lux/core/frame.py:781: UserWarning:Traceback (most recent call last):\n",
      "  File \"/Users/wepperso/Documents/Research/Projects/Notebook_Vis_Rec_Projects/lux/lux/core/frame.py\", line 731, in _repr_html_\n",
      "    self.maintain_recs()\n",
      "  File \"/Users/wepperso/Documents/Research/Projects/Notebook_Vis_Rec_Projects/lux/lux/core/frame.py\", line 552, in maintain_recs\n",
      "    custom_action_collection = custom_actions(rec_df)\n",
      "  File \"/Users/wepperso/Documents/Research/Projects/Notebook_Vis_Rec_Projects/lux/lux/action/custom.py\", line 76, in custom_actions\n",
      "    recommendation = lux.config.actions[action_name].action(ldf)\n",
      "  File \"/Users/wepperso/Documents/Research/Projects/Notebook_Vis_Rec_Projects/lux/lux/action/implicit_tab.py\", line 41, in implicit_tab\n",
      "    most_recent_event, col_list = ldf.history.get_implicit_intent(ldf.columns)\n",
      "  File \"/Users/wepperso/Documents/Research/Projects/Notebook_Vis_Rec_Projects/lux/lux/history/history.py\", line 109, in get_implicit_intent\n",
      "    mre_cols = [item for item in most_recent_signal.cols if item in valid_cols]\n",
      "AttributeError: 'NoneType' object has no attribute 'cols'\n",
      "\n"
     ]
    },
    {
     "data": {
      "text/html": [
       "<div>\n",
       "<style scoped>\n",
       "    .dataframe tbody tr th:only-of-type {\n",
       "        vertical-align: middle;\n",
       "    }\n",
       "\n",
       "    .dataframe tbody tr th {\n",
       "        vertical-align: top;\n",
       "    }\n",
       "\n",
       "    .dataframe thead th {\n",
       "        text-align: right;\n",
       "    }\n",
       "</style>\n",
       "<table border=\"1\" class=\"dataframe\">\n",
       "  <thead>\n",
       "    <tr style=\"text-align: right;\">\n",
       "      <th></th>\n",
       "      <th>Origin</th>\n",
       "    </tr>\n",
       "  </thead>\n",
       "  <tbody>\n",
       "    <tr>\n",
       "      <th>0</th>\n",
       "      <td>USA</td>\n",
       "    </tr>\n",
       "    <tr>\n",
       "      <th>1</th>\n",
       "      <td>USA</td>\n",
       "    </tr>\n",
       "    <tr>\n",
       "      <th>2</th>\n",
       "      <td>USA</td>\n",
       "    </tr>\n",
       "    <tr>\n",
       "      <th>3</th>\n",
       "      <td>USA</td>\n",
       "    </tr>\n",
       "    <tr>\n",
       "      <th>4</th>\n",
       "      <td>USA</td>\n",
       "    </tr>\n",
       "    <tr>\n",
       "      <th>...</th>\n",
       "      <td>...</td>\n",
       "    </tr>\n",
       "    <tr>\n",
       "      <th>401</th>\n",
       "      <td>USA</td>\n",
       "    </tr>\n",
       "    <tr>\n",
       "      <th>402</th>\n",
       "      <td>Europe</td>\n",
       "    </tr>\n",
       "    <tr>\n",
       "      <th>403</th>\n",
       "      <td>USA</td>\n",
       "    </tr>\n",
       "    <tr>\n",
       "      <th>404</th>\n",
       "      <td>USA</td>\n",
       "    </tr>\n",
       "    <tr>\n",
       "      <th>405</th>\n",
       "      <td>USA</td>\n",
       "    </tr>\n",
       "  </tbody>\n",
       "</table>\n",
       "<p>406 rows × 1 columns</p>\n",
       "</div>"
      ],
      "text/plain": [
       "     Origin\n",
       "0       USA\n",
       "1       USA\n",
       "2       USA\n",
       "3       USA\n",
       "4       USA\n",
       "..      ...\n",
       "401     USA\n",
       "402  Europe\n",
       "403     USA\n",
       "404     USA\n",
       "405     USA\n",
       "\n",
       "[406 rows x 1 columns]"
      ]
     },
     "metadata": {},
     "output_type": "display_data"
    },
    {
     "data": {
      "text/plain": []
     },
     "execution_count": 4,
     "metadata": {},
     "output_type": "execute_result"
    }
   ],
   "source": [
    "df_2"
   ]
  },
  {
   "cell_type": "code",
   "execution_count": 4,
   "id": "therapeutic-penalty",
   "metadata": {},
   "outputs": [
    {
     "data": {
      "text/plain": [
       "[<Event: col_ref, weight: 0.7290000000000001, ex_count: 0, cols=['Cylinders']>,\n",
       "<Event: col_ref, weight: 0.81, ex_count: 1, cols=['Acceleration']>,\n",
       "<Event: col_ref, weight: 0.9, ex_count: 2, cols=['Cylinders']>,\n",
       "<Event: col_ref, weight: 1, ex_count: 3, cols=['Origin']>]"
      ]
     },
     "execution_count": 4,
     "metadata": {},
     "output_type": "execute_result"
    }
   ],
   "source": [
    "df.history"
   ]
  },
  {
   "cell_type": "code",
   "execution_count": 9,
   "id": "separate-jacket",
   "metadata": {},
   "outputs": [],
   "source": [
    "l = df_2[\"Origin\"]"
   ]
  },
  {
   "cell_type": "code",
   "execution_count": 5,
   "id": "actual-hampshire",
   "metadata": {},
   "outputs": [
    {
     "data": {
      "text/plain": [
       "[<Event: col_ref, weight: 0.7290000000000001, ex_count: 0, cols=['Cylinders']>,\n",
       "<Event: col_ref, weight: 0.81, ex_count: 1, cols=['Acceleration']>,\n",
       "<Event: col_ref, weight: 0.9, ex_count: 2, cols=['Cylinders']>,\n",
       "<Event: col_ref, weight: 1, ex_count: 3, cols=['Origin']>]"
      ]
     },
     "execution_count": 5,
     "metadata": {},
     "output_type": "execute_result"
    }
   ],
   "source": [
    "df_2.history"
   ]
  },
  {
   "cell_type": "code",
   "execution_count": 12,
   "id": "funded-ferry",
   "metadata": {},
   "outputs": [
    {
     "data": {
      "text/plain": [
       "140218472801712"
      ]
     },
     "execution_count": 12,
     "metadata": {},
     "output_type": "execute_result"
    }
   ],
   "source": [
    "id(df)"
   ]
  },
  {
   "cell_type": "code",
   "execution_count": null,
   "id": "convinced-planet",
   "metadata": {},
   "outputs": [],
   "source": [
    "def run():\n",
    "    set_trace()\n",
    "    _ret = df[[\"Origin\"]]\n",
    "    return _ret"
   ]
  },
  {
   "cell_type": "code",
   "execution_count": null,
   "id": "current-commissioner",
   "metadata": {},
   "outputs": [],
   "source": [
    "r = run()"
   ]
  },
  {
   "cell_type": "code",
   "execution_count": null,
   "id": "featured-hobby",
   "metadata": {},
   "outputs": [],
   "source": [
    "df.history"
   ]
  },
  {
   "cell_type": "code",
   "execution_count": null,
   "id": "ceramic-paste",
   "metadata": {},
   "outputs": [],
   "source": [
    "df"
   ]
  },
  {
   "cell_type": "code",
   "execution_count": null,
   "id": "executive-blame",
   "metadata": {},
   "outputs": [],
   "source": []
  },
  {
   "cell_type": "markdown",
   "id": "complex-education",
   "metadata": {},
   "source": [
    "### Filter (broken)"
   ]
  },
  {
   "cell_type": "code",
   "execution_count": null,
   "id": "radio-roads",
   "metadata": {},
   "outputs": [],
   "source": [
    "s = df[\"Origin\"]"
   ]
  },
  {
   "cell_type": "code",
   "execution_count": null,
   "id": "prescription-status",
   "metadata": {},
   "outputs": [],
   "source": [
    "s.history"
   ]
  },
  {
   "cell_type": "code",
   "execution_count": null,
   "id": "distinguished-richards",
   "metadata": {},
   "outputs": [],
   "source": [
    "id(df)"
   ]
  },
  {
   "cell_type": "code",
   "execution_count": null,
   "id": "gorgeous-translation",
   "metadata": {},
   "outputs": [],
   "source": [
    "id(s)"
   ]
  },
  {
   "cell_type": "code",
   "execution_count": null,
   "id": "north-acrylic",
   "metadata": {},
   "outputs": [],
   "source": [
    "id(df.history)"
   ]
  },
  {
   "cell_type": "code",
   "execution_count": null,
   "id": "accepted-pregnancy",
   "metadata": {},
   "outputs": [],
   "source": [
    "id(s.history)"
   ]
  },
  {
   "cell_type": "code",
   "execution_count": null,
   "id": "fatty-sharp",
   "metadata": {},
   "outputs": [],
   "source": [
    "df.history"
   ]
  },
  {
   "cell_type": "code",
   "execution_count": null,
   "id": "apart-reality",
   "metadata": {},
   "outputs": [],
   "source": [
    "df['Cylinders'] #'Cylinders', 'Displacement', 'Horsepower','Weight_in_lbs', 'Acceleration', 'Year', 'Origin']]"
   ]
  },
  {
   "cell_type": "code",
   "execution_count": null,
   "id": "dental-virginia",
   "metadata": {},
   "outputs": [],
   "source": [
    "df.history"
   ]
  },
  {
   "cell_type": "code",
   "execution_count": null,
   "id": "humanitarian-naples",
   "metadata": {},
   "outputs": [],
   "source": [
    "def run():\n",
    "    set_trace()\n",
    "    r = df[[\"Cylinders\", \"Acceleration\"]]\n",
    "    return r\n",
    "     "
   ]
  },
  {
   "cell_type": "code",
   "execution_count": null,
   "id": "entitled-council",
   "metadata": {},
   "outputs": [],
   "source": [
    "_r = run()"
   ]
  },
  {
   "cell_type": "code",
   "execution_count": null,
   "id": "nasty-chicago",
   "metadata": {},
   "outputs": [],
   "source": [
    "id(df) #140183708817296"
   ]
  },
  {
   "cell_type": "code",
   "execution_count": null,
   "id": "cutting-jordan",
   "metadata": {},
   "outputs": [],
   "source": [
    "_r"
   ]
  },
  {
   "cell_type": "code",
   "execution_count": null,
   "id": "based-price",
   "metadata": {},
   "outputs": [],
   "source": []
  }
 ],
 "metadata": {
  "kernelspec": {
   "display_name": "Python 3",
   "language": "python",
   "name": "python3"
  },
  "language_info": {
   "codemirror_mode": {
    "name": "ipython",
    "version": 3
   },
   "file_extension": ".py",
   "mimetype": "text/x-python",
   "name": "python",
   "nbconvert_exporter": "python",
   "pygments_lexer": "ipython3",
   "version": "3.9.1"
  }
 },
 "nbformat": 4,
 "nbformat_minor": 5
}

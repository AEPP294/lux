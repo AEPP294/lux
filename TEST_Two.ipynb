{
 "cells": [
  {
   "cell_type": "code",
   "execution_count": 1,
   "id": "indian-virtue",
   "metadata": {},
   "outputs": [],
   "source": [
    "import lux\n",
    "import pandas as pd\n",
    "from vega_datasets import data\n",
    "from lux.vis.Vis import Vis\n",
    "from lux.vis.VisList import VisList\n",
    "\n",
    "# lux.config.default_display = \"lux\"\n",
    "from IPython.core.debugger import set_trace\n",
    "\n",
    "df = data.cars()"
   ]
  },
  {
   "cell_type": "code",
   "execution_count": 12,
   "id": "changing-discretion",
   "metadata": {},
   "outputs": [
    {
     "data": {
      "application/vnd.jupyter.widget-view+json": {
       "model_id": "d34ba34ad091405b94f72a6ccb9da768",
       "version_major": 2,
       "version_minor": 0
      },
      "text/plain": [
       "Button(description='Toggle Pandas/Lux', layout=Layout(top='5px', width='140px'), style=ButtonStyle())"
      ]
     },
     "metadata": {},
     "output_type": "display_data"
    },
    {
     "data": {
      "application/vnd.jupyter.widget-view+json": {
       "model_id": "63e8f71bfb794f3dbcf7d998d6217dc5",
       "version_major": 2,
       "version_minor": 0
      },
      "text/plain": [
       "Output()"
      ]
     },
     "metadata": {},
     "output_type": "display_data"
    },
    {
     "data": {
      "text/plain": []
     },
     "execution_count": 12,
     "metadata": {},
     "output_type": "execute_result"
    }
   ],
   "source": [
    "df.groupby(\"Cylinders\").agg({\"Displacement\": \"mean\", \"Horsepower\": \"mean\",})"
   ]
  },
  {
   "cell_type": "code",
   "execution_count": 13,
   "id": "dietary-wheat",
   "metadata": {},
   "outputs": [
    {
     "data": {
      "text/plain": [
       "[<Event: col_ref, cols=['Cylinders']>,\n",
       "<Event: col_ref, cols=['Cylinders', 'Origin']>,\n",
       "<Event: col_ref, cols=['Name', 'Miles_per_Gallon', 'Cylinders', 'Displacement', 'Horsepower', 'Weight_in_lbs', 'Acceleration', 'Year', 'Origin']>,\n",
       "<Event: col_ref, cols=['Origin']>,\n",
       "<Event: col_ref, cols=['Cylinders']>,\n",
       "<Event: col_ref, cols=['Cylinders']>,\n",
       "<Event: col_ref, cols=['Displacement']>,\n",
       "<Event: col_ref, cols=['Horsepower']>]"
      ]
     },
     "execution_count": 13,
     "metadata": {},
     "output_type": "execute_result"
    }
   ],
   "source": [
    "df.history"
   ]
  },
  {
   "cell_type": "code",
   "execution_count": null,
   "id": "meaning-student",
   "metadata": {},
   "outputs": [],
   "source": [
    "df.history"
   ]
  },
  {
   "cell_type": "code",
   "execution_count": null,
   "id": "acceptable-darwin",
   "metadata": {},
   "outputs": [],
   "source": [
    "df['Cylinders'] #'Cylinders', 'Displacement', 'Horsepower','Weight_in_lbs', 'Acceleration', 'Year', 'Origin']]"
   ]
  },
  {
   "cell_type": "code",
   "execution_count": null,
   "id": "suspected-minute",
   "metadata": {},
   "outputs": [],
   "source": [
    "df.history"
   ]
  },
  {
   "cell_type": "code",
   "execution_count": null,
   "id": "double-treat",
   "metadata": {},
   "outputs": [],
   "source": [
    "def run():\n",
    "    #set_trace()\n",
    "    df[[\"Horsepower\"]]\n",
    "    return r\n",
    "     "
   ]
  },
  {
   "cell_type": "code",
   "execution_count": null,
   "id": "constitutional-alias",
   "metadata": {},
   "outputs": [],
   "source": [
    "_r = run()"
   ]
  },
  {
   "cell_type": "code",
   "execution_count": null,
   "id": "weird-agenda",
   "metadata": {},
   "outputs": [],
   "source": [
    "df.history"
   ]
  },
  {
   "cell_type": "code",
   "execution_count": null,
   "id": "satisfied-savage",
   "metadata": {},
   "outputs": [],
   "source": []
  }
 ],
 "metadata": {
  "kernelspec": {
   "display_name": "Python 3",
   "language": "python",
   "name": "python3"
  },
  "language_info": {
   "codemirror_mode": {
    "name": "ipython",
    "version": 3
   },
   "file_extension": ".py",
   "mimetype": "text/x-python",
   "name": "python",
   "nbconvert_exporter": "python",
   "pygments_lexer": "ipython3",
   "version": "3.9.1"
  }
 },
 "nbformat": 4,
 "nbformat_minor": 5
}

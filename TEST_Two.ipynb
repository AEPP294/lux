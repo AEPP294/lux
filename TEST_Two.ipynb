{
 "cells": [
  {
   "cell_type": "code",
   "execution_count": null,
   "id": "herbal-wells",
   "metadata": {},
   "outputs": [],
   "source": [
    "import lux\n",
    "import pandas as pd\n",
    "from vega_datasets import data\n",
    "from lux.vis.Vis import Vis\n",
    "from lux.vis.VisList import VisList\n",
    "\n",
    "# lux.config.default_display = \"lux\"\n",
    "from IPython.core.debugger import set_trace\n",
    "\n",
    "df = data.cars()\n",
    "# df = pd.read_csv(\"TEST_data.csv\")"
   ]
  },
  {
   "cell_type": "code",
   "execution_count": null,
   "id": "collective-thickness",
   "metadata": {},
   "outputs": [],
   "source": [
    "df[(df.Origin == \"USA\")]"
   ]
  },
  {
   "cell_type": "code",
   "execution_count": null,
   "id": "developmental-vanilla",
   "metadata": {},
   "outputs": [],
   "source": [
    "c = lux.vis.CustomVis.CustomVis(\"hi\")"
   ]
  },
  {
   "cell_type": "code",
   "execution_count": null,
   "id": "interpreted-canvas",
   "metadata": {},
   "outputs": [],
   "source": [
    "print(lux.config.plotting_style)"
   ]
  },
  {
   "cell_type": "code",
   "execution_count": null,
   "id": "excellent-asbestos",
   "metadata": {},
   "outputs": [],
   "source": []
  },
  {
   "cell_type": "code",
   "execution_count": null,
   "id": "phantom-queensland",
   "metadata": {},
   "outputs": [],
   "source": []
  },
  {
   "cell_type": "code",
   "execution_count": null,
   "id": "cellular-flash",
   "metadata": {},
   "outputs": [],
   "source": [
    "df_2.history"
   ]
  },
  {
   "cell_type": "code",
   "execution_count": null,
   "id": "chemical-tucson",
   "metadata": {},
   "outputs": [],
   "source": [
    "id(df_2._parent_df)"
   ]
  },
  {
   "cell_type": "code",
   "execution_count": null,
   "id": "requested-encyclopedia",
   "metadata": {},
   "outputs": [],
   "source": [
    "df_2 = df.describe()"
   ]
  },
  {
   "cell_type": "code",
   "execution_count": null,
   "id": "mobile-transformation",
   "metadata": {},
   "outputs": [],
   "source": [
    "df[(df.Cylinders > 5)]"
   ]
  },
  {
   "cell_type": "code",
   "execution_count": null,
   "id": "revolutionary-characterization",
   "metadata": {},
   "outputs": [],
   "source": [
    "df.groupby(\"Origin\").agg(\n",
    "{\"Miles_per_Gallon\": \"mean\", \"Horsepower\": \"median\"}\n",
    ")\n"
   ]
  },
  {
   "cell_type": "code",
   "execution_count": null,
   "id": "imperial-possible",
   "metadata": {},
   "outputs": [],
   "source": [
    "df"
   ]
  },
  {
   "cell_type": "code",
   "execution_count": null,
   "id": "above-living",
   "metadata": {},
   "outputs": [],
   "source": [
    "df[\"new_col\"] = df.Cylinders * 11"
   ]
  },
  {
   "cell_type": "code",
   "execution_count": null,
   "id": "relative-cookbook",
   "metadata": {},
   "outputs": [],
   "source": [
    "df.history"
   ]
  },
  {
   "cell_type": "code",
   "execution_count": null,
   "id": "appreciated-limit",
   "metadata": {},
   "outputs": [],
   "source": []
  },
  {
   "cell_type": "code",
   "execution_count": null,
   "id": "trained-thinking",
   "metadata": {},
   "outputs": [],
   "source": [
    "filt_df_2 = df.query(\"Cylinders > 4 & Origin == 'USA'\")"
   ]
  },
  {
   "cell_type": "code",
   "execution_count": null,
   "id": "tracked-jesus",
   "metadata": {},
   "outputs": [],
   "source": [
    "filt_df_2"
   ]
  },
  {
   "cell_type": "code",
   "execution_count": null,
   "id": "spread-moscow",
   "metadata": {},
   "outputs": [],
   "source": [
    "filt_df_2._history"
   ]
  },
  {
   "cell_type": "code",
   "execution_count": null,
   "id": "republican-prairie",
   "metadata": {},
   "outputs": [],
   "source": [
    "df._history"
   ]
  },
  {
   "cell_type": "code",
   "execution_count": null,
   "id": "outside-island",
   "metadata": {},
   "outputs": [],
   "source": [
    "filt_df._history._events[-1].kwargs[\"filt_key\"]"
   ]
  },
  {
   "cell_type": "code",
   "execution_count": null,
   "id": "mysterious-tourist",
   "metadata": {},
   "outputs": [],
   "source": [
    "len(df)"
   ]
  },
  {
   "cell_type": "markdown",
   "id": "thrown-influence",
   "metadata": {},
   "source": [
    "# For refs\n"
   ]
  },
  {
   "cell_type": "code",
   "execution_count": null,
   "id": "endless-particle",
   "metadata": {},
   "outputs": [],
   "source": [
    "def run():\n",
    "    set_trace()\n",
    "    r = df[(df.Cylinders > 3) & (df.Origin == \"USA\") & (df.Miles_per_Gallon < 15)]\n",
    "    return r"
   ]
  },
  {
   "cell_type": "code",
   "execution_count": null,
   "id": "fabulous-manchester",
   "metadata": {},
   "outputs": [],
   "source": [
    "r = run()"
   ]
  },
  {
   "cell_type": "markdown",
   "id": "internal-semiconductor",
   "metadata": {},
   "source": [
    "# IDS\n",
    "\n",
    "In the box function thing\n",
    "ipdb>  id(self) frame\n",
    "140413758896016\n",
    "ipdb>  id(self._history) frame\n",
    "140413758896064\n",
    "ipdb>  id(s)\n",
    "140414833158128\n",
    "ipdb>  id(s._history)\n",
    "140414833258400\n",
    "\n",
    "In finalize\n",
    "self is the series, other is the frame"
   ]
  },
  {
   "cell_type": "code",
   "execution_count": null,
   "id": "settled-theater",
   "metadata": {},
   "outputs": [],
   "source": [
    "df._history"
   ]
  },
  {
   "cell_type": "code",
   "execution_count": null,
   "id": "parliamentary-intelligence",
   "metadata": {},
   "outputs": [],
   "source": [
    "l = df[\"Cylinders\"]\n",
    "l = df[\"Acceleration\"]\n",
    "l = df[\"Cylinders\"]\n",
    "\n",
    "# df_2 = df[[\"Origin\"]]"
   ]
  },
  {
   "cell_type": "code",
   "execution_count": null,
   "id": "controlling-drill",
   "metadata": {},
   "outputs": [],
   "source": [
    "df.Origin.unique()"
   ]
  },
  {
   "cell_type": "code",
   "execution_count": null,
   "id": "noticed-denver",
   "metadata": {},
   "outputs": [],
   "source": []
  }
 ],
 "metadata": {
  "kernelspec": {
   "display_name": "Python 3",
   "language": "python",
   "name": "python3"
  },
  "language_info": {
   "codemirror_mode": {
    "name": "ipython",
    "version": 3
   },
   "file_extension": ".py",
   "mimetype": "text/x-python",
   "name": "python",
   "nbconvert_exporter": "python",
   "pygments_lexer": "ipython3",
   "version": "3.9.1"
  }
 },
 "nbformat": 4,
 "nbformat_minor": 5
}

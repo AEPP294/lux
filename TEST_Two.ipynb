{
 "cells": [
  {
   "cell_type": "code",
   "execution_count": 1,
   "id": "married-render",
   "metadata": {},
   "outputs": [],
   "source": [
    "import lux\n",
    "import pandas as pd\n",
    "from vega_datasets import data\n",
    "from lux.vis.Vis import Vis\n",
    "from lux.vis.VisList import VisList\n",
    "\n",
    "# lux.config.default_display = \"lux\"\n",
    "from IPython.core.debugger import set_trace\n",
    "\n",
    "df = data.cars()\n",
    "# df = pd.read_csv(\"TEST_data.csv\")"
   ]
  },
  {
   "cell_type": "code",
   "execution_count": 2,
   "id": "fatty-judges",
   "metadata": {},
   "outputs": [
    {
     "data": {
      "application/vnd.jupyter.widget-view+json": {
       "model_id": "18b8b7b3cca743f5abc18b63db5202b9",
       "version_major": 2,
       "version_minor": 0
      },
      "text/plain": [
       "Button(description='Toggle Pandas/Lux', layout=Layout(top='5px', width='140px'), style=ButtonStyle())"
      ]
     },
     "metadata": {},
     "output_type": "display_data"
    },
    {
     "data": {
      "application/vnd.jupyter.widget-view+json": {
       "model_id": "89ac5a5731584eaaba69c5cd2a48847f",
       "version_major": 2,
       "version_minor": 0
      },
      "text/plain": [
       "Output()"
      ]
     },
     "metadata": {},
     "output_type": "display_data"
    },
    {
     "data": {
      "text/plain": []
     },
     "execution_count": 2,
     "metadata": {},
     "output_type": "execute_result"
    }
   ],
   "source": [
    "df.describe()"
   ]
  },
  {
   "cell_type": "code",
   "execution_count": null,
   "id": "champion-harris",
   "metadata": {},
   "outputs": [],
   "source": []
  },
  {
   "cell_type": "code",
   "execution_count": null,
   "id": "wound-student",
   "metadata": {},
   "outputs": [],
   "source": []
  },
  {
   "cell_type": "code",
   "execution_count": null,
   "id": "pursuant-discovery",
   "metadata": {},
   "outputs": [],
   "source": []
  },
  {
   "cell_type": "markdown",
   "id": "complimentary-magnet",
   "metadata": {},
   "source": [
    "# Filter"
   ]
  },
  {
   "cell_type": "code",
   "execution_count": null,
   "id": "nasty-roman",
   "metadata": {},
   "outputs": [],
   "source": [
    "df[(df.Origin == \"USA\")]"
   ]
  },
  {
   "cell_type": "code",
   "execution_count": null,
   "id": "gothic-combining",
   "metadata": {},
   "outputs": [],
   "source": []
  },
  {
   "cell_type": "code",
   "execution_count": null,
   "id": "disabled-archive",
   "metadata": {},
   "outputs": [],
   "source": []
  },
  {
   "cell_type": "code",
   "execution_count": null,
   "id": "ranking-resort",
   "metadata": {},
   "outputs": [],
   "source": [
    "df_2.history"
   ]
  },
  {
   "cell_type": "code",
   "execution_count": null,
   "id": "alone-horizontal",
   "metadata": {},
   "outputs": [],
   "source": [
    "id(df_2._parent_df)"
   ]
  },
  {
   "cell_type": "code",
   "execution_count": null,
   "id": "dress-transfer",
   "metadata": {},
   "outputs": [],
   "source": [
    "df_2 = df.describe()"
   ]
  },
  {
   "cell_type": "code",
   "execution_count": null,
   "id": "scientific-columbia",
   "metadata": {},
   "outputs": [],
   "source": [
    "df[(df.Cylinders > 5)]"
   ]
  },
  {
   "cell_type": "code",
   "execution_count": null,
   "id": "stone-lloyd",
   "metadata": {},
   "outputs": [],
   "source": [
    "df.groupby(\"Origin\").agg(\n",
    "{\"Miles_per_Gallon\": \"mean\", \"Horsepower\": \"median\"}\n",
    ")\n"
   ]
  },
  {
   "cell_type": "markdown",
   "id": "prospective-drama",
   "metadata": {},
   "source": [
    "# New col"
   ]
  },
  {
   "cell_type": "code",
   "execution_count": null,
   "id": "demonstrated-nation",
   "metadata": {},
   "outputs": [],
   "source": [
    "df"
   ]
  },
  {
   "cell_type": "code",
   "execution_count": null,
   "id": "awful-verification",
   "metadata": {},
   "outputs": [],
   "source": [
    "df[\"new_col\"] = df.Cylinders * 11"
   ]
  },
  {
   "cell_type": "code",
   "execution_count": null,
   "id": "worth-savage",
   "metadata": {},
   "outputs": [],
   "source": [
    "df.history"
   ]
  },
  {
   "cell_type": "markdown",
   "id": "important-essence",
   "metadata": {},
   "source": [
    "# Query"
   ]
  },
  {
   "cell_type": "code",
   "execution_count": null,
   "id": "ranking-principal",
   "metadata": {},
   "outputs": [],
   "source": [
    "filt_df_2 = df.query(\"Cylinders > 4 & Origin == 'USA'\")"
   ]
  },
  {
   "cell_type": "code",
   "execution_count": null,
   "id": "statewide-cliff",
   "metadata": {},
   "outputs": [],
   "source": [
    "filt_df_2"
   ]
  },
  {
   "cell_type": "code",
   "execution_count": null,
   "id": "informational-offset",
   "metadata": {},
   "outputs": [],
   "source": [
    "filt_df_2._history"
   ]
  },
  {
   "cell_type": "code",
   "execution_count": null,
   "id": "mechanical-alexandria",
   "metadata": {},
   "outputs": [],
   "source": [
    "df._history"
   ]
  },
  {
   "cell_type": "code",
   "execution_count": null,
   "id": "worth-relaxation",
   "metadata": {},
   "outputs": [],
   "source": [
    "filt_df._history._events[-1].kwargs[\"filt_key\"]"
   ]
  },
  {
   "cell_type": "code",
   "execution_count": null,
   "id": "raised-inspiration",
   "metadata": {},
   "outputs": [],
   "source": [
    "len(df)"
   ]
  },
  {
   "cell_type": "markdown",
   "id": "enclosed-influence",
   "metadata": {},
   "source": [
    "# For refs\n"
   ]
  },
  {
   "cell_type": "code",
   "execution_count": null,
   "id": "seventh-traffic",
   "metadata": {},
   "outputs": [],
   "source": [
    "def run():\n",
    "    set_trace()\n",
    "    r = df[(df.Cylinders > 3) & (df.Origin == \"USA\") & (df.Miles_per_Gallon < 15)]\n",
    "    return r"
   ]
  },
  {
   "cell_type": "code",
   "execution_count": null,
   "id": "therapeutic-bunny",
   "metadata": {},
   "outputs": [],
   "source": [
    "r = run()"
   ]
  },
  {
   "cell_type": "markdown",
   "id": "greenhouse-eight",
   "metadata": {},
   "source": [
    "# IDS\n",
    "\n",
    "In the box function thing\n",
    "ipdb>  id(self) frame\n",
    "140413758896016\n",
    "ipdb>  id(self._history) frame\n",
    "140413758896064\n",
    "ipdb>  id(s)\n",
    "140414833158128\n",
    "ipdb>  id(s._history)\n",
    "140414833258400\n",
    "\n",
    "In finalize\n",
    "self is the series, other is the frame"
   ]
  },
  {
   "cell_type": "code",
   "execution_count": null,
   "id": "brilliant-excess",
   "metadata": {},
   "outputs": [],
   "source": [
    "df._history"
   ]
  },
  {
   "cell_type": "code",
   "execution_count": null,
   "id": "aggressive-context",
   "metadata": {},
   "outputs": [],
   "source": [
    "l = df[\"Cylinders\"]\n",
    "l = df[\"Acceleration\"]\n",
    "l = df[\"Cylinders\"]\n",
    "\n",
    "# df_2 = df[[\"Origin\"]]"
   ]
  },
  {
   "cell_type": "code",
   "execution_count": null,
   "id": "searching-exemption",
   "metadata": {},
   "outputs": [],
   "source": [
    "df.Origin.unique()"
   ]
  },
  {
   "cell_type": "code",
   "execution_count": null,
   "id": "hydraulic-column",
   "metadata": {},
   "outputs": [],
   "source": []
  }
 ],
 "metadata": {
  "kernelspec": {
   "display_name": "Python 3",
   "language": "python",
   "name": "python3"
  },
  "language_info": {
   "codemirror_mode": {
    "name": "ipython",
    "version": 3
   },
   "file_extension": ".py",
   "mimetype": "text/x-python",
   "name": "python",
   "nbconvert_exporter": "python",
   "pygments_lexer": "ipython3",
   "version": "3.9.1"
  }
 },
 "nbformat": 4,
 "nbformat_minor": 5
}

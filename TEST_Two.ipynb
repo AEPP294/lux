{
 "cells": [
  {
   "cell_type": "code",
   "execution_count": 1,
   "id": "talented-secretary",
   "metadata": {},
   "outputs": [],
   "source": [
    "import lux\n",
    "import pandas as pd\n",
    "from vega_datasets import data\n",
    "from lux.vis.Vis import Vis\n",
    "from lux.vis.VisList import VisList\n",
    "\n",
    "# lux.config.default_display = \"lux\"\n",
    "from IPython.core.debugger import set_trace\n",
    "\n",
    "df = data.cars()\n",
    "# df = pd.read_csv(\"TEST_data.csv\")"
   ]
  },
  {
   "cell_type": "code",
   "execution_count": 3,
   "id": "republican-southwest",
   "metadata": {},
   "outputs": [
    {
     "data": {
      "application/vnd.jupyter.widget-view+json": {
       "model_id": "7d73716576fd4d64b247c94f3b1d22be",
       "version_major": 2,
       "version_minor": 0
      },
      "text/plain": [
       "Button(description='Toggle Pandas/Lux', layout=Layout(top='5px', width='140px'), style=ButtonStyle())"
      ]
     },
     "metadata": {},
     "output_type": "display_data"
    },
    {
     "data": {
      "application/vnd.jupyter.widget-view+json": {
       "model_id": "c2ccc11599e64a0c8b54c408ab68d12a",
       "version_major": 2,
       "version_minor": 0
      },
      "text/plain": [
       "Output()"
      ]
     },
     "metadata": {},
     "output_type": "display_data"
    },
    {
     "data": {
      "text/plain": []
     },
     "execution_count": 3,
     "metadata": {},
     "output_type": "execute_result"
    }
   ],
   "source": [
    "df[(df.Cylinders > 5)]"
   ]
  },
  {
   "cell_type": "code",
   "execution_count": 4,
   "id": "front-leeds",
   "metadata": {},
   "outputs": [
    {
     "data": {
      "application/vnd.jupyter.widget-view+json": {
       "model_id": "fc504658fe7b4854890faaa16f43ceab",
       "version_major": 2,
       "version_minor": 0
      },
      "text/plain": [
       "Button(description='Toggle Pandas/Lux', layout=Layout(top='5px', width='140px'), style=ButtonStyle())"
      ]
     },
     "metadata": {},
     "output_type": "display_data"
    },
    {
     "data": {
      "application/vnd.jupyter.widget-view+json": {
       "model_id": "4950ee0a21c14c9fbd73be9783c383df",
       "version_major": 2,
       "version_minor": 0
      },
      "text/plain": [
       "Output()"
      ]
     },
     "metadata": {},
     "output_type": "display_data"
    },
    {
     "data": {
      "text/plain": []
     },
     "execution_count": 4,
     "metadata": {},
     "output_type": "execute_result"
    }
   ],
   "source": [
    "df"
   ]
  },
  {
   "cell_type": "code",
   "execution_count": null,
   "id": "cathedral-bracket",
   "metadata": {},
   "outputs": [],
   "source": []
  },
  {
   "cell_type": "code",
   "execution_count": null,
   "id": "pointed-fraction",
   "metadata": {},
   "outputs": [],
   "source": []
  },
  {
   "cell_type": "code",
   "execution_count": null,
   "id": "bizarre-following",
   "metadata": {},
   "outputs": [],
   "source": [
    "filt_df_2 = df.query(\"Cylinders > 4 & Origin == 'USA'\")"
   ]
  },
  {
   "cell_type": "code",
   "execution_count": null,
   "id": "remarkable-jersey",
   "metadata": {},
   "outputs": [],
   "source": [
    "filt_df_2"
   ]
  },
  {
   "cell_type": "code",
   "execution_count": null,
   "id": "cloudy-paint",
   "metadata": {},
   "outputs": [],
   "source": [
    "filt_df_2._history"
   ]
  },
  {
   "cell_type": "code",
   "execution_count": null,
   "id": "cooked-array",
   "metadata": {},
   "outputs": [],
   "source": [
    "df._history"
   ]
  },
  {
   "cell_type": "code",
   "execution_count": null,
   "id": "communist-interstate",
   "metadata": {},
   "outputs": [],
   "source": [
    "filt_df._history._events[-1].kwargs[\"filt_key\"]"
   ]
  },
  {
   "cell_type": "code",
   "execution_count": null,
   "id": "italic-constitution",
   "metadata": {},
   "outputs": [],
   "source": [
    "len(df)"
   ]
  },
  {
   "cell_type": "markdown",
   "id": "loving-hungarian",
   "metadata": {},
   "source": [
    "# For refs\n"
   ]
  },
  {
   "cell_type": "code",
   "execution_count": null,
   "id": "marked-field",
   "metadata": {},
   "outputs": [],
   "source": [
    "def run():\n",
    "    set_trace()\n",
    "    r = df[(df.Cylinders > 3) & (df.Origin == \"USA\") & (df.Miles_per_Gallon < 15)]\n",
    "    return r"
   ]
  },
  {
   "cell_type": "code",
   "execution_count": null,
   "id": "physical-catholic",
   "metadata": {},
   "outputs": [],
   "source": [
    "r = run()"
   ]
  },
  {
   "cell_type": "markdown",
   "id": "baking-texture",
   "metadata": {},
   "source": [
    "# IDS\n",
    "\n",
    "In the box function thing\n",
    "ipdb>  id(self) frame\n",
    "140413758896016\n",
    "ipdb>  id(self._history) frame\n",
    "140413758896064\n",
    "ipdb>  id(s)\n",
    "140414833158128\n",
    "ipdb>  id(s._history)\n",
    "140414833258400\n",
    "\n",
    "In finalize\n",
    "self is the series, other is the frame"
   ]
  },
  {
   "cell_type": "code",
   "execution_count": null,
   "id": "minus-wright",
   "metadata": {},
   "outputs": [],
   "source": [
    "df._history"
   ]
  },
  {
   "cell_type": "code",
   "execution_count": null,
   "id": "arbitrary-singles",
   "metadata": {},
   "outputs": [],
   "source": [
    "l = df[\"Cylinders\"]\n",
    "l = df[\"Acceleration\"]\n",
    "l = df[\"Cylinders\"]\n",
    "\n",
    "# df_2 = df[[\"Origin\"]]"
   ]
  },
  {
   "cell_type": "code",
   "execution_count": null,
   "id": "trained-witness",
   "metadata": {},
   "outputs": [],
   "source": [
    "df.Origin.unique()"
   ]
  },
  {
   "cell_type": "code",
   "execution_count": null,
   "id": "tested-preserve",
   "metadata": {},
   "outputs": [],
   "source": []
  }
 ],
 "metadata": {
  "kernelspec": {
   "display_name": "Python 3",
   "language": "python",
   "name": "python3"
  },
  "language_info": {
   "codemirror_mode": {
    "name": "ipython",
    "version": 3
   },
   "file_extension": ".py",
   "mimetype": "text/x-python",
   "name": "python",
   "nbconvert_exporter": "python",
   "pygments_lexer": "ipython3",
   "version": "3.9.1"
  }
 },
 "nbformat": 4,
 "nbformat_minor": 5
}

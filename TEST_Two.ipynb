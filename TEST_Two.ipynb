{
 "cells": [
  {
   "cell_type": "code",
   "execution_count": 1,
   "id": "centered-confusion",
   "metadata": {},
   "outputs": [],
   "source": [
    "import lux\n",
    "import pandas as pd\n",
    "from vega_datasets import data\n",
    "from lux.vis.Vis import Vis\n",
    "from lux.vis.VisList import VisList\n",
    "\n",
    "# lux.config.default_display = \"lux\"\n",
    "from IPython.core.debugger import set_trace\n",
    "\n",
    "df = data.cars()"
   ]
  },
  {
   "cell_type": "markdown",
   "id": "dated-coverage",
   "metadata": {},
   "source": [
    "Whats calling finalize"
   ]
  },
  {
   "cell_type": "code",
   "execution_count": null,
   "id": "extraordinary-peoples",
   "metadata": {},
   "outputs": [],
   "source": [
    "df = pd.read_csv(\"TEST_data.csv\")"
   ]
  },
  {
   "cell_type": "code",
   "execution_count": null,
   "id": "nutritional-madison",
   "metadata": {},
   "outputs": [],
   "source": [
    "df"
   ]
  },
  {
   "cell_type": "code",
   "execution_count": null,
   "id": "minor-collins",
   "metadata": {},
   "outputs": [],
   "source": []
  },
  {
   "cell_type": "code",
   "execution_count": null,
   "id": "composite-plasma",
   "metadata": {},
   "outputs": [],
   "source": []
  },
  {
   "cell_type": "code",
   "execution_count": null,
   "id": "proved-holocaust",
   "metadata": {},
   "outputs": [],
   "source": []
  },
  {
   "cell_type": "code",
   "execution_count": 2,
   "id": "hidden-lebanon",
   "metadata": {},
   "outputs": [],
   "source": [
    "l = df[\"Cylinders\"]\n",
    "l = df[\"Acceleration\"]\n",
    "l = df[\"Cylinders\"]"
   ]
  },
  {
   "cell_type": "code",
   "execution_count": 3,
   "id": "extensive-length",
   "metadata": {},
   "outputs": [],
   "source": [
    "df_2 = df[[\"Origin\"]]"
   ]
  },
  {
   "cell_type": "code",
   "execution_count": null,
   "id": "seasonal-skill",
   "metadata": {},
   "outputs": [],
   "source": [
    "df = pd.read_csv(\"TEST_data.csv\")"
   ]
  },
  {
   "cell_type": "code",
   "execution_count": 7,
   "id": "technological-pound",
   "metadata": {},
   "outputs": [
    {
     "data": {
      "text/plain": [
       "[<Event(140543683246832): col_ref, weight: 0.7290000000000001, ex_count: 0, cols=['Cylinders']>,\n",
       "<Event(140543683246208): col_ref, weight: 0.81, ex_count: 1, cols=['Acceleration']>,\n",
       "<Event(140543683244912): col_ref, weight: 0.9, ex_count: 2, cols=['Cylinders']>,\n",
       "<Event(140542474536320): col_ref, weight: 1, ex_count: 3, cols=['Origin']>]"
      ]
     },
     "execution_count": 7,
     "metadata": {},
     "output_type": "execute_result"
    }
   ],
   "source": [
    "df.history"
   ]
  },
  {
   "cell_type": "code",
   "execution_count": 6,
   "id": "exciting-outside",
   "metadata": {},
   "outputs": [
    {
     "data": {
      "text/plain": [
       "[<Event(140542474536368): col_ref, weight: 0.81, ex_count: 0, cols=['Cylinders']>,\n",
       "<Event(140542474538384): col_ref, weight: 0.9, ex_count: 1, cols=['Acceleration']>,\n",
       "<Event(140542474538432): col_ref, weight: 1, ex_count: 2, cols=['Cylinders']>]"
      ]
     },
     "execution_count": 6,
     "metadata": {},
     "output_type": "execute_result"
    }
   ],
   "source": [
    "df_2.history"
   ]
  },
  {
   "cell_type": "code",
   "execution_count": null,
   "id": "complex-mounting",
   "metadata": {},
   "outputs": [],
   "source": []
  },
  {
   "cell_type": "code",
   "execution_count": null,
   "id": "liquid-brother",
   "metadata": {},
   "outputs": [],
   "source": []
  },
  {
   "cell_type": "code",
   "execution_count": null,
   "id": "precious-deposit",
   "metadata": {},
   "outputs": [],
   "source": [
    "type(df)"
   ]
  },
  {
   "cell_type": "code",
   "execution_count": null,
   "id": "hearing-border",
   "metadata": {},
   "outputs": [],
   "source": [
    "df.history"
   ]
  },
  {
   "cell_type": "code",
   "execution_count": null,
   "id": "requested-alert",
   "metadata": {},
   "outputs": [],
   "source": [
    "l = df_2[\"Origin\"]"
   ]
  },
  {
   "cell_type": "code",
   "execution_count": null,
   "id": "demonstrated-mustang",
   "metadata": {},
   "outputs": [],
   "source": [
    "df_2.history"
   ]
  },
  {
   "cell_type": "code",
   "execution_count": null,
   "id": "motivated-verification",
   "metadata": {},
   "outputs": [],
   "source": []
  },
  {
   "cell_type": "code",
   "execution_count": null,
   "id": "approved-evanescence",
   "metadata": {},
   "outputs": [],
   "source": [
    "id(df)"
   ]
  },
  {
   "cell_type": "code",
   "execution_count": null,
   "id": "centered-restoration",
   "metadata": {},
   "outputs": [],
   "source": [
    "def run():\n",
    "    set_trace()\n",
    "    _ret = df[[\"Origin\"]]\n",
    "    return _ret"
   ]
  },
  {
   "cell_type": "code",
   "execution_count": null,
   "id": "completed-specification",
   "metadata": {},
   "outputs": [],
   "source": [
    "r = run()"
   ]
  },
  {
   "cell_type": "code",
   "execution_count": null,
   "id": "spanish-southeast",
   "metadata": {},
   "outputs": [],
   "source": [
    "df.history"
   ]
  },
  {
   "cell_type": "code",
   "execution_count": null,
   "id": "mathematical-roads",
   "metadata": {},
   "outputs": [],
   "source": [
    "df"
   ]
  },
  {
   "cell_type": "code",
   "execution_count": null,
   "id": "impossible-burke",
   "metadata": {},
   "outputs": [],
   "source": []
  },
  {
   "cell_type": "markdown",
   "id": "qualified-worship",
   "metadata": {},
   "source": [
    "### Filter (broken)"
   ]
  },
  {
   "cell_type": "code",
   "execution_count": null,
   "id": "devoted-february",
   "metadata": {},
   "outputs": [],
   "source": [
    "s = df[\"Origin\"]"
   ]
  },
  {
   "cell_type": "code",
   "execution_count": null,
   "id": "choice-counter",
   "metadata": {},
   "outputs": [],
   "source": [
    "s.history"
   ]
  },
  {
   "cell_type": "code",
   "execution_count": null,
   "id": "bacterial-reality",
   "metadata": {},
   "outputs": [],
   "source": [
    "id(df)"
   ]
  },
  {
   "cell_type": "code",
   "execution_count": null,
   "id": "golden-swaziland",
   "metadata": {},
   "outputs": [],
   "source": [
    "id(s)"
   ]
  },
  {
   "cell_type": "code",
   "execution_count": null,
   "id": "careful-lancaster",
   "metadata": {},
   "outputs": [],
   "source": [
    "id(df.history)"
   ]
  },
  {
   "cell_type": "code",
   "execution_count": null,
   "id": "useful-wisconsin",
   "metadata": {},
   "outputs": [],
   "source": [
    "id(s.history)"
   ]
  },
  {
   "cell_type": "code",
   "execution_count": null,
   "id": "subjective-kingston",
   "metadata": {},
   "outputs": [],
   "source": [
    "df.history"
   ]
  },
  {
   "cell_type": "code",
   "execution_count": null,
   "id": "insured-steering",
   "metadata": {},
   "outputs": [],
   "source": [
    "df['Cylinders'] #'Cylinders', 'Displacement', 'Horsepower','Weight_in_lbs', 'Acceleration', 'Year', 'Origin']]"
   ]
  },
  {
   "cell_type": "code",
   "execution_count": null,
   "id": "complicated-archives",
   "metadata": {},
   "outputs": [],
   "source": [
    "df.history"
   ]
  },
  {
   "cell_type": "code",
   "execution_count": null,
   "id": "medieval-hospital",
   "metadata": {},
   "outputs": [],
   "source": [
    "def run():\n",
    "    set_trace()\n",
    "    r = df[[\"Cylinders\", \"Acceleration\"]]\n",
    "    return r\n",
    "     "
   ]
  },
  {
   "cell_type": "code",
   "execution_count": null,
   "id": "floating-incentive",
   "metadata": {},
   "outputs": [],
   "source": [
    "_r = run()"
   ]
  },
  {
   "cell_type": "code",
   "execution_count": null,
   "id": "compressed-contemporary",
   "metadata": {},
   "outputs": [],
   "source": [
    "id(df) #140183708817296"
   ]
  },
  {
   "cell_type": "code",
   "execution_count": null,
   "id": "sized-edinburgh",
   "metadata": {},
   "outputs": [],
   "source": [
    "_r"
   ]
  },
  {
   "cell_type": "code",
   "execution_count": null,
   "id": "steady-marks",
   "metadata": {},
   "outputs": [],
   "source": []
  }
 ],
 "metadata": {
  "kernelspec": {
   "display_name": "Python 3",
   "language": "python",
   "name": "python3"
  },
  "language_info": {
   "codemirror_mode": {
    "name": "ipython",
    "version": 3
   },
   "file_extension": ".py",
   "mimetype": "text/x-python",
   "name": "python",
   "nbconvert_exporter": "python",
   "pygments_lexer": "ipython3",
   "version": "3.9.1"
  }
 },
 "nbformat": 4,
 "nbformat_minor": 5
}

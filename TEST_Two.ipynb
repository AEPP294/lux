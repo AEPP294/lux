{
 "cells": [
  {
   "cell_type": "code",
   "execution_count": 4,
   "id": "variable-segment",
   "metadata": {},
   "outputs": [],
   "source": [
    "import lux\n",
    "import pandas as pd\n",
    "from vega_datasets import data\n",
    "from lux.vis.Vis import Vis\n",
    "from lux.vis.VisList import VisList\n",
    "\n",
    "# lux.config.default_display = \"lux\"\n",
    "from IPython.core.debugger import set_trace\n",
    "\n",
    "df = data.cars()"
   ]
  },
  {
   "cell_type": "code",
   "execution_count": 5,
   "id": "american-philippines",
   "metadata": {},
   "outputs": [],
   "source": [
    "l = df[\"Cylinders\"]\n",
    "l = df[\"Acceleration\"]\n",
    "l = df[\"Cylinders\"]"
   ]
  },
  {
   "cell_type": "code",
   "execution_count": 6,
   "id": "smoking-integration",
   "metadata": {},
   "outputs": [
    {
     "name": "stdout",
     "output_type": "stream",
     "text": [
      "Finalize yo\n"
     ]
    }
   ],
   "source": [
    "df_2 = df[[\"Origin\"]]"
   ]
  },
  {
   "cell_type": "code",
   "execution_count": 10,
   "id": "improved-graduation",
   "metadata": {},
   "outputs": [
    {
     "data": {
      "text/plain": [
       "[<Event: col_ref, weight: 0.6561000000000001, ex_count: 0, cols=['Cylinders']>,\n",
       "<Event: col_ref, weight: 0.7290000000000001, ex_count: 1, cols=['Acceleration']>,\n",
       "<Event: col_ref, weight: 0.81, ex_count: 2, cols=['Cylinders']>,\n",
       "<Event: col_ref, weight: 0.9, ex_count: 3, cols=['Origin']>,\n",
       "<Event: col_ref, weight: 1, ex_count: 4, cols=['Origin']>]"
      ]
     },
     "execution_count": 10,
     "metadata": {},
     "output_type": "execute_result"
    }
   ],
   "source": [
    "df.history"
   ]
  },
  {
   "cell_type": "code",
   "execution_count": 9,
   "id": "wanted-stuart",
   "metadata": {},
   "outputs": [],
   "source": [
    "l = df_2[\"Origin\"]"
   ]
  },
  {
   "cell_type": "code",
   "execution_count": 11,
   "id": "integrated-jaguar",
   "metadata": {},
   "outputs": [
    {
     "data": {
      "text/plain": [
       "[<Event: col_ref, weight: 0.6561000000000001, ex_count: 0, cols=['Cylinders']>,\n",
       "<Event: col_ref, weight: 0.7290000000000001, ex_count: 1, cols=['Acceleration']>,\n",
       "<Event: col_ref, weight: 0.81, ex_count: 2, cols=['Cylinders']>,\n",
       "<Event: col_ref, weight: 0.9, ex_count: 3, cols=['Origin']>,\n",
       "<Event: col_ref, weight: 1, ex_count: 4, cols=['Origin']>]"
      ]
     },
     "execution_count": 11,
     "metadata": {},
     "output_type": "execute_result"
    }
   ],
   "source": [
    "df_2.history"
   ]
  },
  {
   "cell_type": "code",
   "execution_count": 12,
   "id": "respective-seminar",
   "metadata": {},
   "outputs": [
    {
     "data": {
      "text/plain": [
       "140218472801712"
      ]
     },
     "execution_count": 12,
     "metadata": {},
     "output_type": "execute_result"
    }
   ],
   "source": [
    "id(df)"
   ]
  },
  {
   "cell_type": "code",
   "execution_count": null,
   "id": "present-assembly",
   "metadata": {},
   "outputs": [],
   "source": [
    "def run():\n",
    "    set_trace()\n",
    "    _ret = df[[\"Origin\"]]\n",
    "    return _ret"
   ]
  },
  {
   "cell_type": "code",
   "execution_count": null,
   "id": "brutal-livestock",
   "metadata": {},
   "outputs": [],
   "source": [
    "r = run()"
   ]
  },
  {
   "cell_type": "code",
   "execution_count": null,
   "id": "rotary-console",
   "metadata": {},
   "outputs": [],
   "source": [
    "df.history"
   ]
  },
  {
   "cell_type": "code",
   "execution_count": null,
   "id": "incident-ontario",
   "metadata": {},
   "outputs": [],
   "source": [
    "df"
   ]
  },
  {
   "cell_type": "code",
   "execution_count": null,
   "id": "solid-nickel",
   "metadata": {},
   "outputs": [],
   "source": []
  },
  {
   "cell_type": "markdown",
   "id": "interior-harvey",
   "metadata": {},
   "source": [
    "### Filter (broken)"
   ]
  },
  {
   "cell_type": "code",
   "execution_count": null,
   "id": "compliant-davis",
   "metadata": {},
   "outputs": [],
   "source": [
    "s = df[\"Origin\"]"
   ]
  },
  {
   "cell_type": "code",
   "execution_count": null,
   "id": "interstate-backup",
   "metadata": {},
   "outputs": [],
   "source": [
    "s.history"
   ]
  },
  {
   "cell_type": "code",
   "execution_count": null,
   "id": "smoking-british",
   "metadata": {},
   "outputs": [],
   "source": [
    "id(df)"
   ]
  },
  {
   "cell_type": "code",
   "execution_count": null,
   "id": "adapted-ownership",
   "metadata": {},
   "outputs": [],
   "source": [
    "id(s)"
   ]
  },
  {
   "cell_type": "code",
   "execution_count": null,
   "id": "packed-european",
   "metadata": {},
   "outputs": [],
   "source": [
    "id(df.history)"
   ]
  },
  {
   "cell_type": "code",
   "execution_count": null,
   "id": "eight-abortion",
   "metadata": {},
   "outputs": [],
   "source": [
    "id(s.history)"
   ]
  },
  {
   "cell_type": "code",
   "execution_count": null,
   "id": "senior-columbus",
   "metadata": {},
   "outputs": [],
   "source": [
    "df.history"
   ]
  },
  {
   "cell_type": "code",
   "execution_count": null,
   "id": "incorporated-glossary",
   "metadata": {},
   "outputs": [],
   "source": [
    "df['Cylinders'] #'Cylinders', 'Displacement', 'Horsepower','Weight_in_lbs', 'Acceleration', 'Year', 'Origin']]"
   ]
  },
  {
   "cell_type": "code",
   "execution_count": null,
   "id": "twenty-scoop",
   "metadata": {},
   "outputs": [],
   "source": [
    "df.history"
   ]
  },
  {
   "cell_type": "code",
   "execution_count": null,
   "id": "handmade-armstrong",
   "metadata": {},
   "outputs": [],
   "source": [
    "def run():\n",
    "    set_trace()\n",
    "    r = df[[\"Cylinders\", \"Acceleration\"]]\n",
    "    return r\n",
    "     "
   ]
  },
  {
   "cell_type": "code",
   "execution_count": null,
   "id": "patient-growing",
   "metadata": {},
   "outputs": [],
   "source": [
    "_r = run()"
   ]
  },
  {
   "cell_type": "code",
   "execution_count": null,
   "id": "atlantic-subscriber",
   "metadata": {},
   "outputs": [],
   "source": [
    "id(df) #140183708817296"
   ]
  },
  {
   "cell_type": "code",
   "execution_count": null,
   "id": "burning-sword",
   "metadata": {},
   "outputs": [],
   "source": [
    "_r"
   ]
  },
  {
   "cell_type": "code",
   "execution_count": null,
   "id": "human-exemption",
   "metadata": {},
   "outputs": [],
   "source": []
  }
 ],
 "metadata": {
  "kernelspec": {
   "display_name": "Python 3",
   "language": "python",
   "name": "python3"
  },
  "language_info": {
   "codemirror_mode": {
    "name": "ipython",
    "version": 3
   },
   "file_extension": ".py",
   "mimetype": "text/x-python",
   "name": "python",
   "nbconvert_exporter": "python",
   "pygments_lexer": "ipython3",
   "version": "3.9.1"
  }
 },
 "nbformat": 4,
 "nbformat_minor": 5
}

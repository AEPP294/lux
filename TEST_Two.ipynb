{
 "cells": [
  {
   "cell_type": "code",
   "execution_count": 1,
   "id": "moving-durham",
   "metadata": {},
   "outputs": [],
   "source": [
    "import lux\n",
    "import pandas as pd\n",
    "from vega_datasets import data\n",
    "from lux.vis.Vis import Vis\n",
    "from lux.vis.VisList import VisList\n",
    "\n",
    "# lux.config.default_display = \"lux\"\n",
    "from IPython.core.debugger import set_trace\n",
    "\n",
    "df = data.cars()"
   ]
  },
  {
   "cell_type": "markdown",
   "id": "tropical-assumption",
   "metadata": {},
   "source": [
    "Whats calling finalize"
   ]
  },
  {
   "cell_type": "code",
   "execution_count": null,
   "id": "peripheral-dictionary",
   "metadata": {},
   "outputs": [],
   "source": [
    "df = pd.read_csv(\"TEST_data.csv\")"
   ]
  },
  {
   "cell_type": "code",
   "execution_count": null,
   "id": "naked-particle",
   "metadata": {},
   "outputs": [],
   "source": [
    "df"
   ]
  },
  {
   "cell_type": "code",
   "execution_count": 8,
   "id": "sustained-memorabilia",
   "metadata": {},
   "outputs": [],
   "source": [
    "from IPython import get_ipython\n",
    "\n",
    "kernel = get_ipython()"
   ]
  },
  {
   "cell_type": "code",
   "execution_count": 11,
   "id": "yellow-suggestion",
   "metadata": {},
   "outputs": [
    {
     "data": {
      "text/plain": [
       "11"
      ]
     },
     "execution_count": 11,
     "metadata": {},
     "output_type": "execute_result"
    }
   ],
   "source": [
    "kernel.execution_count"
   ]
  },
  {
   "cell_type": "code",
   "execution_count": null,
   "id": "smooth-george",
   "metadata": {},
   "outputs": [],
   "source": []
  },
  {
   "cell_type": "code",
   "execution_count": 2,
   "id": "international-thomas",
   "metadata": {},
   "outputs": [],
   "source": [
    "l = df[\"Cylinders\"]\n",
    "l = df[\"Acceleration\"]\n",
    "l = df[\"Cylinders\"]"
   ]
  },
  {
   "cell_type": "code",
   "execution_count": 3,
   "id": "composed-thompson",
   "metadata": {},
   "outputs": [],
   "source": [
    "df_2 = df[[\"Origin\"]]"
   ]
  },
  {
   "cell_type": "code",
   "execution_count": null,
   "id": "qualified-importance",
   "metadata": {},
   "outputs": [],
   "source": [
    "df = pd.read_csv(\"TEST_data.csv\")"
   ]
  },
  {
   "cell_type": "code",
   "execution_count": 7,
   "id": "retired-grade",
   "metadata": {},
   "outputs": [
    {
     "data": {
      "text/plain": [
       "[<Event(140543683246832): col_ref, weight: 0.7290000000000001, ex_count: 0, cols=['Cylinders']>,\n",
       "<Event(140543683246208): col_ref, weight: 0.81, ex_count: 1, cols=['Acceleration']>,\n",
       "<Event(140543683244912): col_ref, weight: 0.9, ex_count: 2, cols=['Cylinders']>,\n",
       "<Event(140542474536320): col_ref, weight: 1, ex_count: 3, cols=['Origin']>]"
      ]
     },
     "execution_count": 7,
     "metadata": {},
     "output_type": "execute_result"
    }
   ],
   "source": [
    "df.history"
   ]
  },
  {
   "cell_type": "code",
   "execution_count": 6,
   "id": "educational-baseline",
   "metadata": {},
   "outputs": [
    {
     "data": {
      "text/plain": [
       "[<Event(140542474536368): col_ref, weight: 0.81, ex_count: 0, cols=['Cylinders']>,\n",
       "<Event(140542474538384): col_ref, weight: 0.9, ex_count: 1, cols=['Acceleration']>,\n",
       "<Event(140542474538432): col_ref, weight: 1, ex_count: 2, cols=['Cylinders']>]"
      ]
     },
     "execution_count": 6,
     "metadata": {},
     "output_type": "execute_result"
    }
   ],
   "source": [
    "df_2.history"
   ]
  },
  {
   "cell_type": "code",
   "execution_count": null,
   "id": "fifty-dating",
   "metadata": {},
   "outputs": [],
   "source": []
  },
  {
   "cell_type": "code",
   "execution_count": null,
   "id": "vocational-stereo",
   "metadata": {},
   "outputs": [],
   "source": []
  },
  {
   "cell_type": "code",
   "execution_count": null,
   "id": "composed-civilization",
   "metadata": {},
   "outputs": [],
   "source": [
    "type(df)"
   ]
  },
  {
   "cell_type": "code",
   "execution_count": null,
   "id": "internal-motion",
   "metadata": {},
   "outputs": [],
   "source": [
    "df.history"
   ]
  },
  {
   "cell_type": "code",
   "execution_count": null,
   "id": "fitted-spoke",
   "metadata": {},
   "outputs": [],
   "source": [
    "l = df_2[\"Origin\"]"
   ]
  },
  {
   "cell_type": "code",
   "execution_count": null,
   "id": "secret-adams",
   "metadata": {},
   "outputs": [],
   "source": [
    "df_2.history"
   ]
  },
  {
   "cell_type": "code",
   "execution_count": null,
   "id": "vocal-spectacular",
   "metadata": {},
   "outputs": [],
   "source": []
  },
  {
   "cell_type": "code",
   "execution_count": null,
   "id": "nutritional-worst",
   "metadata": {},
   "outputs": [],
   "source": [
    "id(df)"
   ]
  },
  {
   "cell_type": "code",
   "execution_count": null,
   "id": "exceptional-baseline",
   "metadata": {},
   "outputs": [],
   "source": [
    "def run():\n",
    "    set_trace()\n",
    "    _ret = df[[\"Origin\"]]\n",
    "    return _ret"
   ]
  },
  {
   "cell_type": "code",
   "execution_count": null,
   "id": "infrared-swimming",
   "metadata": {},
   "outputs": [],
   "source": [
    "r = run()"
   ]
  },
  {
   "cell_type": "code",
   "execution_count": null,
   "id": "accurate-agent",
   "metadata": {},
   "outputs": [],
   "source": [
    "df.history"
   ]
  },
  {
   "cell_type": "code",
   "execution_count": null,
   "id": "interracial-pacific",
   "metadata": {},
   "outputs": [],
   "source": [
    "df"
   ]
  },
  {
   "cell_type": "code",
   "execution_count": null,
   "id": "furnished-reporter",
   "metadata": {},
   "outputs": [],
   "source": []
  },
  {
   "cell_type": "markdown",
   "id": "parental-spank",
   "metadata": {},
   "source": [
    "### Filter (broken)"
   ]
  },
  {
   "cell_type": "code",
   "execution_count": null,
   "id": "medium-thomson",
   "metadata": {},
   "outputs": [],
   "source": [
    "s = df[\"Origin\"]"
   ]
  },
  {
   "cell_type": "code",
   "execution_count": null,
   "id": "confused-denmark",
   "metadata": {},
   "outputs": [],
   "source": [
    "s.history"
   ]
  },
  {
   "cell_type": "code",
   "execution_count": null,
   "id": "graduate-debut",
   "metadata": {},
   "outputs": [],
   "source": [
    "id(df)"
   ]
  },
  {
   "cell_type": "code",
   "execution_count": null,
   "id": "atmospheric-property",
   "metadata": {},
   "outputs": [],
   "source": [
    "id(s)"
   ]
  },
  {
   "cell_type": "code",
   "execution_count": null,
   "id": "tight-military",
   "metadata": {},
   "outputs": [],
   "source": [
    "id(df.history)"
   ]
  },
  {
   "cell_type": "code",
   "execution_count": null,
   "id": "middle-paint",
   "metadata": {},
   "outputs": [],
   "source": [
    "id(s.history)"
   ]
  },
  {
   "cell_type": "code",
   "execution_count": null,
   "id": "honey-method",
   "metadata": {},
   "outputs": [],
   "source": [
    "df.history"
   ]
  },
  {
   "cell_type": "code",
   "execution_count": null,
   "id": "aboriginal-tiger",
   "metadata": {},
   "outputs": [],
   "source": [
    "df['Cylinders'] #'Cylinders', 'Displacement', 'Horsepower','Weight_in_lbs', 'Acceleration', 'Year', 'Origin']]"
   ]
  },
  {
   "cell_type": "code",
   "execution_count": null,
   "id": "urban-rescue",
   "metadata": {},
   "outputs": [],
   "source": [
    "df.history"
   ]
  },
  {
   "cell_type": "code",
   "execution_count": null,
   "id": "reduced-drama",
   "metadata": {},
   "outputs": [],
   "source": [
    "def run():\n",
    "    set_trace()\n",
    "    r = df[[\"Cylinders\", \"Acceleration\"]]\n",
    "    return r\n",
    "     "
   ]
  },
  {
   "cell_type": "code",
   "execution_count": null,
   "id": "aquatic-slope",
   "metadata": {},
   "outputs": [],
   "source": [
    "_r = run()"
   ]
  },
  {
   "cell_type": "code",
   "execution_count": null,
   "id": "gross-schema",
   "metadata": {},
   "outputs": [],
   "source": [
    "id(df) #140183708817296"
   ]
  },
  {
   "cell_type": "code",
   "execution_count": null,
   "id": "weird-outdoors",
   "metadata": {},
   "outputs": [],
   "source": [
    "_r"
   ]
  },
  {
   "cell_type": "code",
   "execution_count": null,
   "id": "amazing-divide",
   "metadata": {},
   "outputs": [],
   "source": []
  }
 ],
 "metadata": {
  "kernelspec": {
   "display_name": "Python 3",
   "language": "python",
   "name": "python3"
  },
  "language_info": {
   "codemirror_mode": {
    "name": "ipython",
    "version": 3
   },
   "file_extension": ".py",
   "mimetype": "text/x-python",
   "name": "python",
   "nbconvert_exporter": "python",
   "pygments_lexer": "ipython3",
   "version": "3.9.1"
  }
 },
 "nbformat": 4,
 "nbformat_minor": 5
}

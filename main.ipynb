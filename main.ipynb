{
 "cells": [
  {
   "cell_type": "code",
   "execution_count": null,
   "id": "75f06658",
   "metadata": {},
   "outputs": [],
   "source": [
    "from global_backend import backend\n",
    "backend.set_back = \"holoviews\"\n",
    "import lux\n",
    "import pandas as pd\n",
    "import cudf"
   ]
  },
  {
   "cell_type": "code",
   "execution_count": null,
   "id": "e76d3cb7",
   "metadata": {},
   "outputs": [],
   "source": [
    "if backend.set_back == \"holoviews\":\n",
    "    lux.config.sampling = False\n",
    "    df = cudf.read_csv(\"lux/data/hpi.csv\")\n",
    "    df=df.dropna(axis=0)\n",
    "    # df['tpep_dropoff_datetime']= cudf.to_datetime(df['tpep_dropoff_datetime'].values_host)\n",
    "    # df['tpep_pickup_datetime']= cudf.to_datetime(df['tpep_pickup_datetime'].values_host)\n",
    "#     df['YEAR']= cudf.to_datetime(df['YEAR'].values_host)\n",
    "#     df['DAY']= cudf.to_datetime(df['DAY'].values_host)\n",
    "#     df['MONTH']= cudf.to_datetime(df['MONTH'].values_host)\n",
    "    # df= df.drop(columns=['Unnamed: 0'], axis=1)\n",
    "    # df['Start_date']= cudf.to_datetime(df['Start_date'].values_host)\n",
    "    # df['End_date']= cudf.to_datetime(df['End_date'].values_host)\n",
    "else:\n",
    "    df=pd.read_csv(\"lux/data/bike_shared.csv\")\n",
    "    #df['Year'] = pd.to_datetime(df['Year'])\n",
    "    df['Start_date'] = pd.to_datetime(df['Start_date'])\n",
    "    df['End_date'] = pd.to_datetime(df['End_date'])\n",
    "#df['tpep_dropoff_datetime']= cudf.to_datetime(df['tpep_dropoff_datetime'].values_host)"
   ]
  },
  {
   "cell_type": "code",
   "execution_count": null,
   "id": "2901005d",
   "metadata": {},
   "outputs": [],
   "source": [
    "df.maintain_recs()"
   ]
  }
 ],
 "metadata": {
  "kernelspec": {
   "display_name": "Python 3 (ipykernel)",
   "language": "python",
   "name": "python3"
  },
  "language_info": {
   "codemirror_mode": {
    "name": "ipython",
    "version": 3
   },
   "file_extension": ".py",
   "mimetype": "text/x-python",
   "name": "python",
   "nbconvert_exporter": "python",
   "pygments_lexer": "ipython3",
   "version": "3.9.13"
  },
  "vscode": {
   "interpreter": {
    "hash": "11938c6bc6919ae2720b4d5011047913343b08a43b18698fd82dedb0d4417594"
   }
  }
 },
 "nbformat": 4,
 "nbformat_minor": 5
}

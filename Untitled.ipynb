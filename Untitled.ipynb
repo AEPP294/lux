{
 "cells": [
  {
   "cell_type": "code",
   "execution_count": 1,
   "metadata": {},
   "outputs": [],
   "source": [
    "DB_CONNECT_STRING = \"host=localhost dbname=postgres user=postgres password=Postgres2021_\"\n"
   ]
  },
  {
   "cell_type": "code",
   "execution_count": null,
   "metadata": {},
   "outputs": [],
   "source": []
  },
  {
   "cell_type": "code",
   "execution_count": 2,
   "metadata": {},
   "outputs": [],
   "source": [
    "import lux\n",
    "import psycopg2\n",
    "import pandas as pd\n",
    "\n",
    "connection =  psycopg2.connect(DB_CONNECT_STRING)\n",
    "sql_df = lux.LuxDataFrame()\n",
    "lux.config.set_SQL_connection(connection)\n",
    "sql_df.set_SQL_table(\"cars\")\n"
   ]
  },
  {
   "cell_type": "code",
   "execution_count": 3,
   "metadata": {},
   "outputs": [
    {
     "data": {
      "text/plain": [
       "{'measure': ['milespergal',\n",
       "  'displacement',\n",
       "  'horsepower',\n",
       "  'weight',\n",
       "  'acceleration'],\n",
       " 'dimension': ['cylinders', 'brand', 'origin', 'name', 'year']}"
      ]
     },
     "execution_count": 3,
     "metadata": {},
     "output_type": "execute_result"
    }
   ],
   "source": [
    "sql_df.data_model"
   ]
  },
  {
   "cell_type": "code",
   "execution_count": 4,
   "metadata": {},
   "outputs": [
    {
     "data": {
      "application/vnd.jupyter.widget-view+json": {
       "model_id": "3c789aca1dbf41df83c0a2133f8fad60",
       "version_major": 2,
       "version_minor": 0
      },
      "text/plain": [
       "Button(description='Toggle Pandas/Lux', layout=Layout(top='5px', width='140px'), style=ButtonStyle())"
      ]
     },
     "metadata": {},
     "output_type": "display_data"
    },
    {
     "data": {
      "application/vnd.jupyter.widget-view+json": {
       "model_id": "3442920762ad49f6b9c09ed21e08e03f",
       "version_major": 2,
       "version_minor": 0
      },
      "text/plain": [
       "Output()"
      ]
     },
     "metadata": {},
     "output_type": "display_data"
    },
    {
     "data": {
      "text/plain": []
     },
     "execution_count": 4,
     "metadata": {},
     "output_type": "execute_result"
    }
   ],
   "source": [
    "sql_df"
   ]
  },
  {
   "cell_type": "code",
   "execution_count": 5,
   "metadata": {},
   "outputs": [
    {
     "data": {
      "application/vnd.jupyter.widget-view+json": {
       "model_id": "108cfeb96b804c22a4ac8f6c5046094e",
       "version_major": 2,
       "version_minor": 0
      },
      "text/plain": [
       "Button(description='Toggle Pandas/Lux', layout=Layout(top='5px', width='140px'), style=ButtonStyle())"
      ]
     },
     "metadata": {},
     "output_type": "display_data"
    },
    {
     "data": {
      "application/vnd.jupyter.widget-view+json": {
       "model_id": "afef1c5da8db4e4ba54763739b644f2d",
       "version_major": 2,
       "version_minor": 0
      },
      "text/plain": [
       "Output()"
      ]
     },
     "metadata": {},
     "output_type": "display_data"
    },
    {
     "data": {
      "text/plain": []
     },
     "execution_count": 5,
     "metadata": {},
     "output_type": "execute_result"
    }
   ],
   "source": [
    "\n",
    "\n",
    "#you can specify intents just the same as the default Lux system\n",
    "from lux.vis import Clause\n",
    "\n",
    "#here we specify that we are interested in a graph containing the variables 'milespergal' and 'cylinders'\n",
    "#we also specify that we want to apply a filter 'horsepower > 150' to this visualization\n",
    "sql_df.set_intent([\"milespergal\", 'cylinders', Clause(attribute =\"horsepower\", filter_op=\">\", value=150)])\n",
    "sql_df\n",
    "\n"
   ]
  },
  {
   "cell_type": "code",
   "execution_count": 6,
   "metadata": {},
   "outputs": [
    {
     "data": {
      "application/vnd.jupyter.widget-view+json": {
       "model_id": "142d29da6702424a943b67ba7de7c0ef",
       "version_major": 2,
       "version_minor": 0
      },
      "text/plain": [
       "LuxWidget(current_vis={'config': {'view': {'continuousWidth': 400, 'continuousHeight': 300}, 'axis': {'labelCo…"
      ]
     },
     "metadata": {},
     "output_type": "display_data"
    },
    {
     "data": {
      "text/plain": [
       "<Vis  (x: acceleration, y: milespergal, color: cylinders -- [origin=USA]) mark: scatter, score: 0.0 >"
      ]
     },
     "execution_count": 6,
     "metadata": {},
     "output_type": "execute_result"
    }
   ],
   "source": [
    "from lux.vis.Vis import Vis\n",
    "from lux.vis.Vis import Clause\n",
    "\n",
    "#Create a new Lux Clause for each variable you want to use in your graph\n",
    "#Specify how you want to use the variable in the graph via the channel parameter.\n",
    "#The channel parameter will specify whether or not a variable is used on the x or y axis, or used to color datapoints\n",
    "x_clause = Clause(attribute = \"acceleration\", channel = \"x\")\n",
    "y_clause = Clause(attribute = \"milespergal\", channel = \"y\")\n",
    "color_clause = Clause(attribute = 'cylinders', channel = \"color\")\n",
    "\n",
    "#you can also create filters on your data using Lux Clauses like so\n",
    "filter_clause = Clause(attribute =\"origin\", filter_op=\"=\", value='USA')\n",
    "\n",
    "#to create the graph, create a Lux Vis object with the list of your Clauses as the parameter\n",
    "new_vis = Vis([x_clause, y_clause, color_clause, filter_clause])\n",
    "\n",
    "#to fetch the data necessary for the graph, use the refresh_source function.\n",
    "#the refresh_source function takes in a Lux DataFrame, in this case you can specify the one connected to your database table\n",
    "new_vis.refresh_source(sql_df)\n",
    "new_vis"
   ]
  },
  {
   "cell_type": "code",
   "execution_count": 7,
   "metadata": {},
   "outputs": [
    {
     "name": "stderr",
     "output_type": "stream",
     "text": [
      "c:\\users\\dheeraj\\appdata\\local\\programs\\python\\python37\\lib\\site-packages\\IPython\\core\\formatters.py:345: UserWarning:\n",
      "Unexpected error in rendering Lux widget and recommendations. Falling back to Pandas display.\n",
      "Please report the following issue on Github: https://github.com/lux-org/lux/issues \n",
      "\n",
      "C:\\Users\\Dheeraj\\UC Berkeley\\Sem4\\lux\\lux\\core\\frame.py:599: UserWarning:Traceback (most recent call last):\n",
      "  File \"c:\\users\\dheeraj\\appdata\\local\\programs\\python\\python37\\lib\\site-packages\\pandas\\io\\sql.py\", line 1681, in execute\n",
      "    cur.execute(*args, **kwargs)\n",
      "psycopg2.errors.SyntaxError: syntax error at end of input\n",
      "LINE 1: SELECT COUNT(*) as length FROM \n",
      "                                       ^\n",
      "\n",
      "\n",
      "The above exception was the direct cause of the following exception:\n",
      "\n",
      "Traceback (most recent call last):\n",
      "  File \"C:\\Users\\Dheeraj\\UC Berkeley\\Sem4\\lux\\lux\\core\\frame.py\", line 538, in _repr_html_\n",
      "    self.maintain_metadata()\n",
      "  File \"C:\\Users\\Dheeraj\\UC Berkeley\\Sem4\\lux\\lux\\core\\frame.py\", line 126, in maintain_metadata\n",
      "    lux.config.executor.compute_stats(self)\n",
      "  File \"C:\\Users\\Dheeraj\\UC Berkeley\\Sem4\\lux\\lux\\executor\\SQLExecutor.py\", line 620, in compute_stats\n",
      "    lux.config.SQLconnection,\n",
      "  File \"c:\\users\\dheeraj\\appdata\\local\\programs\\python\\python37\\lib\\site-packages\\pandas\\io\\sql.py\", line 489, in read_sql\n",
      "    chunksize=chunksize,\n",
      "  File \"c:\\users\\dheeraj\\appdata\\local\\programs\\python\\python37\\lib\\site-packages\\pandas\\io\\sql.py\", line 1727, in read_query\n",
      "    cursor = self.execute(*args)\n",
      "  File \"c:\\users\\dheeraj\\appdata\\local\\programs\\python\\python37\\lib\\site-packages\\pandas\\io\\sql.py\", line 1693, in execute\n",
      "    raise ex from exc\n",
      "pandas.io.sql.DatabaseError: Execution failed on sql 'SELECT COUNT(*) as length FROM ': syntax error at end of input\n",
      "LINE 1: SELECT COUNT(*) as length FROM \n",
      "                                       ^\n",
      "\n",
      "\n"
     ]
    },
    {
     "data": {
      "text/html": [
       "<div>\n",
       "<style scoped>\n",
       "    .dataframe tbody tr th:only-of-type {\n",
       "        vertical-align: middle;\n",
       "    }\n",
       "\n",
       "    .dataframe tbody tr th {\n",
       "        vertical-align: top;\n",
       "    }\n",
       "\n",
       "    .dataframe thead th {\n",
       "        text-align: right;\n",
       "    }\n",
       "</style>\n",
       "<table border=\"1\" class=\"dataframe\">\n",
       "  <thead>\n",
       "    <tr style=\"text-align: right;\">\n",
       "      <th></th>\n",
       "      <th>cylinders</th>\n",
       "      <th>acceleration</th>\n",
       "      <th>origin</th>\n",
       "      <th>milespergal</th>\n",
       "    </tr>\n",
       "  </thead>\n",
       "  <tbody>\n",
       "    <tr>\n",
       "      <th>0</th>\n",
       "      <td>8</td>\n",
       "      <td>12.0</td>\n",
       "      <td>USA</td>\n",
       "      <td>18.0</td>\n",
       "    </tr>\n",
       "    <tr>\n",
       "      <th>1</th>\n",
       "      <td>8</td>\n",
       "      <td>11.5</td>\n",
       "      <td>USA</td>\n",
       "      <td>15.0</td>\n",
       "    </tr>\n",
       "    <tr>\n",
       "      <th>2</th>\n",
       "      <td>8</td>\n",
       "      <td>11.0</td>\n",
       "      <td>USA</td>\n",
       "      <td>18.0</td>\n",
       "    </tr>\n",
       "    <tr>\n",
       "      <th>3</th>\n",
       "      <td>8</td>\n",
       "      <td>12.0</td>\n",
       "      <td>USA</td>\n",
       "      <td>16.0</td>\n",
       "    </tr>\n",
       "    <tr>\n",
       "      <th>4</th>\n",
       "      <td>8</td>\n",
       "      <td>10.5</td>\n",
       "      <td>USA</td>\n",
       "      <td>17.0</td>\n",
       "    </tr>\n",
       "    <tr>\n",
       "      <th>...</th>\n",
       "      <td>...</td>\n",
       "      <td>...</td>\n",
       "      <td>...</td>\n",
       "      <td>...</td>\n",
       "    </tr>\n",
       "    <tr>\n",
       "      <th>240</th>\n",
       "      <td>4</td>\n",
       "      <td>17.3</td>\n",
       "      <td>USA</td>\n",
       "      <td>27.0</td>\n",
       "    </tr>\n",
       "    <tr>\n",
       "      <th>241</th>\n",
       "      <td>4</td>\n",
       "      <td>15.6</td>\n",
       "      <td>USA</td>\n",
       "      <td>27.0</td>\n",
       "    </tr>\n",
       "    <tr>\n",
       "      <th>242</th>\n",
       "      <td>4</td>\n",
       "      <td>11.6</td>\n",
       "      <td>USA</td>\n",
       "      <td>32.0</td>\n",
       "    </tr>\n",
       "    <tr>\n",
       "      <th>243</th>\n",
       "      <td>4</td>\n",
       "      <td>18.6</td>\n",
       "      <td>USA</td>\n",
       "      <td>28.0</td>\n",
       "    </tr>\n",
       "    <tr>\n",
       "      <th>244</th>\n",
       "      <td>4</td>\n",
       "      <td>19.4</td>\n",
       "      <td>USA</td>\n",
       "      <td>31.0</td>\n",
       "    </tr>\n",
       "  </tbody>\n",
       "</table>\n",
       "<p>245 rows × 4 columns</p>\n",
       "</div>"
      ],
      "text/plain": [
       "     cylinders  acceleration origin  milespergal\n",
       "0            8          12.0    USA         18.0\n",
       "1            8          11.5    USA         15.0\n",
       "2            8          11.0    USA         18.0\n",
       "3            8          12.0    USA         16.0\n",
       "4            8          10.5    USA         17.0\n",
       "..         ...           ...    ...          ...\n",
       "240          4          17.3    USA         27.0\n",
       "241          4          15.6    USA         27.0\n",
       "242          4          11.6    USA         32.0\n",
       "243          4          18.6    USA         28.0\n",
       "244          4          19.4    USA         31.0\n",
       "\n",
       "[245 rows x 4 columns]"
      ]
     },
     "metadata": {},
     "output_type": "display_data"
    },
    {
     "data": {
      "text/plain": []
     },
     "execution_count": 7,
     "metadata": {},
     "output_type": "execute_result"
    }
   ],
   "source": [
    "new_vis.data"
   ]
  },
  {
   "cell_type": "code",
   "execution_count": null,
   "metadata": {},
   "outputs": [],
   "source": []
  }
 ],
 "metadata": {
  "kernelspec": {
   "display_name": "Python 3",
   "language": "python",
   "name": "python3"
  },
  "language_info": {
   "codemirror_mode": {
    "name": "ipython",
    "version": 3
   },
   "file_extension": ".py",
   "mimetype": "text/x-python",
   "name": "python",
   "nbconvert_exporter": "python",
   "pygments_lexer": "ipython3",
   "version": "3.7.5"
  }
 },
 "nbformat": 4,
 "nbformat_minor": 2
}

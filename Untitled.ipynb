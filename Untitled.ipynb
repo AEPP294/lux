{
 "cells": [
  {
   "cell_type": "code",
   "execution_count": 1,
   "id": "4f1fcae3-d43e-4d48-bfc5-e83927fe977f",
   "metadata": {},
   "outputs": [],
   "source": [
    "import lux\n",
    "from vega_datasets import data"
   ]
  },
  {
   "cell_type": "code",
   "execution_count": 2,
   "id": "0981ce96-79a0-423e-8214-5d02a64ce621",
   "metadata": {},
   "outputs": [],
   "source": [
    "df = data.cars()"
   ]
  },
  {
   "cell_type": "code",
   "execution_count": 3,
   "id": "e4cf0a61-d00e-491c-b1a6-c6ca34e5d341",
   "metadata": {},
   "outputs": [
    {
     "data": {
      "text/plain": [
       "[\n",
       "<Event (id: 140654684851216) @[3]: \u001b[1mcol_ref\u001b[0m, cols=['Origin']> with weight 0.475,\n",
       "<Event (id: 140655903059824) @[3]: \u001b[1mdescribe\u001b[0m, cols=['Miles_per_Gallon', 'Cylinders', 'Displacement', 'Horsepower', 'Weight_in_lbs', 'Acceleration']> with weight 1.0\n",
       "]"
      ]
     },
     "execution_count": 3,
     "metadata": {},
     "output_type": "execute_result"
    }
   ],
   "source": [
    "_ = df.Origin\n",
    "_ = df.describe()\n",
    "df.history"
   ]
  },
  {
   "cell_type": "code",
   "execution_count": 4,
   "id": "8a3b49bb-b55f-41bb-83d1-91b3fa583b48",
   "metadata": {},
   "outputs": [
    {
     "data": {
      "application/vnd.jupyter.widget-view+json": {
       "model_id": "f0d05e8833754cd585a3deee063d4e3e",
       "version_major": 2,
       "version_minor": 0
      },
      "text/plain": [
       "Button(description='Toggle Pandas/Lux', layout=Layout(top='5px', width='140px'), style=ButtonStyle())"
      ]
     },
     "metadata": {},
     "output_type": "display_data"
    },
    {
     "data": {
      "application/vnd.jupyter.widget-view+json": {
       "model_id": "30538f73f05b482d86f6e6bf8a9951e3",
       "version_major": 2,
       "version_minor": 0
      },
      "text/plain": [
       "Output()"
      ]
     },
     "metadata": {},
     "output_type": "display_data"
    }
   ],
   "source": [
    "df"
   ]
  },
  {
   "cell_type": "code",
   "execution_count": 14,
   "id": "633628a4-b39b-4535-8625-abf5e465c470",
   "metadata": {},
   "outputs": [],
   "source": [
    "d = {\"A\": 1, \"B\": 2}\n",
    "dd = {**d, \"C\":3}"
   ]
  },
  {
   "cell_type": "code",
   "execution_count": 15,
   "id": "f2e88b4e-ab18-40bf-96f7-ef9ee46721d7",
   "metadata": {},
   "outputs": [
    {
     "data": {
      "text/plain": [
       "{'A': 1, 'B': 2, 'C': 3}"
      ]
     },
     "execution_count": 15,
     "metadata": {},
     "output_type": "execute_result"
    }
   ],
   "source": [
    "dd"
   ]
  },
  {
   "cell_type": "code",
   "execution_count": null,
   "id": "1db0f7e4-d3f8-426a-b7e0-e1866bd4a140",
   "metadata": {},
   "outputs": [],
   "source": []
  }
 ],
 "metadata": {
  "kernelspec": {
   "display_name": "Python 3",
   "language": "python",
   "name": "python3"
  },
  "language_info": {
   "codemirror_mode": {
    "name": "ipython",
    "version": 3
   },
   "file_extension": ".py",
   "mimetype": "text/x-python",
   "name": "python",
   "nbconvert_exporter": "python",
   "pygments_lexer": "ipython3",
   "version": "3.9.1"
  }
 },
 "nbformat": 4,
 "nbformat_minor": 5
}

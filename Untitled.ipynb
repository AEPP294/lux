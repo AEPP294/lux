{
 "cells": [
  {
   "cell_type": "code",
   "execution_count": 1,
   "metadata": {},
   "outputs": [],
   "source": [
    "%load_ext autoreload\n",
    "%autoreload 2\n",
    "from lux.view.ViewCollection import ViewCollection\n",
    "from lux.view.View import View\n",
    "import lux"
   ]
  },
  {
   "cell_type": "code",
   "execution_count": 4,
   "metadata": {},
   "outputs": [],
   "source": [
    "vc = ViewCollection([View([lux.Spec(attribute=\"Horsepower\"),\n",
    "                           lux.Spec(attribute=\"MilesPerGal\"),\n",
    "                           lux.Spec(attribute=\"Origin\",filterOp=\"=\",value=\"USA\")]),\n",
    "                    View([lux.Spec(attribute=\"Horsepower\"),\n",
    "                           lux.Spec(attribute=\"MilesPerGal\"),\n",
    "                           lux.Spec(attribute=\"Origin\",filterOp=\"=\",value=\"Japan\")])])"
   ]
  },
  {
   "cell_type": "code",
   "execution_count": 5,
   "metadata": {},
   "outputs": [
    {
     "data": {
      "text/plain": [
       "<ViewCollection: [<View: [Spec < description:,attribute:Horsepower,value:,attributeGroup:[]>valueGroup:[]>, Spec < description:,attribute:MilesPerGal,value:,attributeGroup:[]>valueGroup:[]>, Spec < description:,attribute:Origin,value:USA,attributeGroup:[]>valueGroup:[]>]>, <View: [Spec < description:,attribute:Horsepower,value:,attributeGroup:[]>valueGroup:[]>, Spec < description:,attribute:MilesPerGal,value:,attributeGroup:[]>valueGroup:[]>, Spec < description:,attribute:Origin,value:Japan,attributeGroup:[]>valueGroup:[]>]>]>"
      ]
     },
     "execution_count": 5,
     "metadata": {},
     "output_type": "execute_result"
    }
   ],
   "source": [
    "vc"
   ]
  },
  {
   "cell_type": "code",
   "execution_count": 7,
   "metadata": {},
   "outputs": [],
   "source": [
    "import pandas as pd\n",
    "ldf = pd.read_csv(\"lux/data/car.csv\")"
   ]
  },
  {
   "cell_type": "code",
   "execution_count": 12,
   "metadata": {},
   "outputs": [
    {
     "name": "stdout",
     "output_type": "stream",
     "text": [
      "<View: [Spec < description:,attribute:Horsepower,value:>, Spec < description:,attribute:MilesPerGal,value:>, Spec < description:,attribute:Origin,value:USA>]>\n",
      "<View: [Spec < description:,attribute:Horsepower,value:>, Spec < description:,attribute:MilesPerGal,value:>, Spec < description:,attribute:Origin,value:Japan>]>\n"
     ]
    }
   ],
   "source": [
    "for v in vc:\n",
    "    print (v)"
   ]
  },
  {
   "cell_type": "code",
   "execution_count": null,
   "metadata": {},
   "outputs": [],
   "source": []
  }
 ],
 "metadata": {
  "kernelspec": {
   "display_name": "Python 3",
   "language": "python",
   "name": "python3"
  },
  "language_info": {
   "codemirror_mode": {
    "name": "ipython",
    "version": 3
   },
   "file_extension": ".py",
   "mimetype": "text/x-python",
   "name": "python",
   "nbconvert_exporter": "python",
   "pygments_lexer": "ipython3",
   "version": "3.7.5"
  }
 },
 "nbformat": 4,
 "nbformat_minor": 2
}

{
 "cells": [
  {
   "cell_type": "code",
   "execution_count": 1,
   "metadata": {},
   "outputs": [],
   "source": [
    "import pandas as pd\n",
    "import lux"
   ]
  },
  {
   "cell_type": "code",
   "execution_count": 2,
   "metadata": {},
   "outputs": [],
   "source": [
    "df = pd.read_csv(\"lux/data/car.csv\")"
   ]
  },
  {
   "cell_type": "code",
   "execution_count": 16,
   "metadata": {},
   "outputs": [
    {
     "name": "stdout",
     "output_type": "stream",
     "text": [
      "[Spec < description:,channel:,attribute:Horsepower,aggregation:,value:>dataModel:,dataType:,binSize:0, Spec < description:,channel:,attribute:MilesPerGal,aggregation:,value:>dataModel:,dataType:,binSize:0]\n"
     ]
    },
    {
     "name": "stderr",
     "output_type": "stream",
     "text": [
      "/Users/dorislee/Desktop/Research/lux/lux/lux/compiler/Validator.py:32: FutureWarning: elementwise comparison failed; returning scalar instead, but in the future will perform elementwise comparison\n",
      "  checkValExists = spec.attribute and spec.value in uniqueVals[spec.attribute]\n"
     ]
    }
   ],
   "source": [
    "df.setContext([lux.Spec(attribute =  \"Horsepower\"),lux.Spec(attribute = \"MilesPerGal\")])"
   ]
  },
  {
   "cell_type": "code",
   "execution_count": 4,
   "metadata": {
    "scrolled": true
   },
   "outputs": [
    {
     "data": {
      "application/vnd.jupyter.widget-view+json": {
       "model_id": "873acfb085e6477589045a7e649b72fc",
       "version_major": 2,
       "version_minor": 0
      },
      "text/plain": [
       "LuxWidget(current_view={'config': {'view': {'continuousWidth': 400, 'continuousHeight': 300}, 'mark': {'toolti…"
      ]
     },
     "metadata": {},
     "output_type": "display_data"
    },
    {
     "data": {
      "text/plain": []
     },
     "execution_count": 4,
     "metadata": {},
     "output_type": "execute_result"
    }
   ],
   "source": [
    "df"
   ]
  },
  {
   "cell_type": "code",
   "execution_count": 15,
   "metadata": {},
   "outputs": [
    {
     "data": {
      "text/html": [
       "<div>\n",
       "<style scoped>\n",
       "    .dataframe tbody tr th:only-of-type {\n",
       "        vertical-align: middle;\n",
       "    }\n",
       "\n",
       "    .dataframe tbody tr th {\n",
       "        vertical-align: top;\n",
       "    }\n",
       "\n",
       "    .dataframe thead th {\n",
       "        text-align: right;\n",
       "    }\n",
       "</style>\n",
       "<table border=\"1\" class=\"dataframe\">\n",
       "  <thead>\n",
       "    <tr style=\"text-align: right;\">\n",
       "      <th></th>\n",
       "      <th>MilesPerGal</th>\n",
       "      <th>Count of Records (binned)</th>\n",
       "    </tr>\n",
       "  </thead>\n",
       "  <tbody>\n",
       "    <tr>\n",
       "      <th>0</th>\n",
       "      <td>10.88</td>\n",
       "      <td>13.0</td>\n",
       "    </tr>\n",
       "    <tr>\n",
       "      <th>1</th>\n",
       "      <td>14.64</td>\n",
       "      <td>78.0</td>\n",
       "    </tr>\n",
       "    <tr>\n",
       "      <th>2</th>\n",
       "      <td>18.40</td>\n",
       "      <td>73.0</td>\n",
       "    </tr>\n",
       "    <tr>\n",
       "      <th>3</th>\n",
       "      <td>22.16</td>\n",
       "      <td>58.0</td>\n",
       "    </tr>\n",
       "    <tr>\n",
       "      <th>4</th>\n",
       "      <td>25.92</td>\n",
       "      <td>53.0</td>\n",
       "    </tr>\n",
       "    <tr>\n",
       "      <th>5</th>\n",
       "      <td>29.68</td>\n",
       "      <td>48.0</td>\n",
       "    </tr>\n",
       "    <tr>\n",
       "      <th>6</th>\n",
       "      <td>33.44</td>\n",
       "      <td>37.0</td>\n",
       "    </tr>\n",
       "    <tr>\n",
       "      <th>7</th>\n",
       "      <td>37.20</td>\n",
       "      <td>22.0</td>\n",
       "    </tr>\n",
       "    <tr>\n",
       "      <th>8</th>\n",
       "      <td>40.96</td>\n",
       "      <td>4.0</td>\n",
       "    </tr>\n",
       "    <tr>\n",
       "      <th>9</th>\n",
       "      <td>44.72</td>\n",
       "      <td>6.0</td>\n",
       "    </tr>\n",
       "  </tbody>\n",
       "</table>\n",
       "</div>"
      ],
      "text/plain": [
       "   MilesPerGal  Count of Records (binned)\n",
       "0        10.88                       13.0\n",
       "1        14.64                       78.0\n",
       "2        18.40                       73.0\n",
       "3        22.16                       58.0\n",
       "4        25.92                       53.0\n",
       "5        29.68                       48.0\n",
       "6        33.44                       37.0\n",
       "7        37.20                       22.0\n",
       "8        40.96                        4.0\n",
       "9        44.72                        6.0"
      ]
     },
     "execution_count": 15,
     "metadata": {},
     "output_type": "execute_result"
    }
   ],
   "source": [
    "df.recommendation[0][\"collection\"][0].data.toPandas()"
   ]
  },
  {
   "cell_type": "code",
   "execution_count": 21,
   "metadata": {},
   "outputs": [
    {
     "name": "stdout",
     "output_type": "stream",
     "text": [
      "[Spec < description:,channel:,attribute:Horsepower,aggregation:,value:>dataModel:,dataType:,binSize:0, Spec < description:,channel:,attribute:Year,aggregation:,value:>dataModel:,dataType:,binSize:0]\n"
     ]
    }
   ],
   "source": [
    "df = pd.read_csv(\"lux/data/car.csv\")\n",
    "df[\"Year\"] = pd.to_datetime(df[\"Year\"], format='%Y') # change pandas dtype for the column \"Year\" to datetype\n",
    "df.setContext([lux.Spec(attribute = \"Horsepower\"),lux.Spec(attribute = \"Year\")])"
   ]
  },
  {
   "cell_type": "code",
   "execution_count": 22,
   "metadata": {},
   "outputs": [
    {
     "data": {
      "application/vnd.jupyter.widget-view+json": {
       "model_id": "a3806a28cd9b44c58b888014b31e2b37",
       "version_major": 2,
       "version_minor": 0
      },
      "text/plain": [
       "LuxWidget(current_view={'config': {'view': {'continuousWidth': 400, 'continuousHeight': 300}}, 'data': {'name'…"
      ]
     },
     "metadata": {},
     "output_type": "display_data"
    },
    {
     "data": {
      "text/plain": []
     },
     "execution_count": 22,
     "metadata": {},
     "output_type": "execute_result"
    }
   ],
   "source": [
    "df"
   ]
  },
  {
   "cell_type": "code",
   "execution_count": 23,
   "metadata": {},
   "outputs": [
    {
     "data": {
      "text/html": [
       "<div>\n",
       "<style scoped>\n",
       "    .dataframe tbody tr th:only-of-type {\n",
       "        vertical-align: middle;\n",
       "    }\n",
       "\n",
       "    .dataframe tbody tr th {\n",
       "        vertical-align: top;\n",
       "    }\n",
       "\n",
       "    .dataframe thead th {\n",
       "        text-align: right;\n",
       "    }\n",
       "</style>\n",
       "<table border=\"1\" class=\"dataframe\">\n",
       "  <thead>\n",
       "    <tr style=\"text-align: right;\">\n",
       "      <th></th>\n",
       "      <th>Year</th>\n",
       "      <th>Horsepower</th>\n",
       "    </tr>\n",
       "  </thead>\n",
       "  <tbody>\n",
       "    <tr>\n",
       "      <th>0</th>\n",
       "      <td>1970-01-01</td>\n",
       "      <td>147.827586</td>\n",
       "    </tr>\n",
       "    <tr>\n",
       "      <th>1</th>\n",
       "      <td>1971-01-01</td>\n",
       "      <td>107.037037</td>\n",
       "    </tr>\n",
       "    <tr>\n",
       "      <th>2</th>\n",
       "      <td>1972-01-01</td>\n",
       "      <td>120.178571</td>\n",
       "    </tr>\n",
       "    <tr>\n",
       "      <th>3</th>\n",
       "      <td>1973-01-01</td>\n",
       "      <td>130.475000</td>\n",
       "    </tr>\n",
       "    <tr>\n",
       "      <th>4</th>\n",
       "      <td>1974-01-01</td>\n",
       "      <td>94.230769</td>\n",
       "    </tr>\n",
       "    <tr>\n",
       "      <th>5</th>\n",
       "      <td>1975-01-01</td>\n",
       "      <td>101.066667</td>\n",
       "    </tr>\n",
       "    <tr>\n",
       "      <th>6</th>\n",
       "      <td>1976-01-01</td>\n",
       "      <td>101.117647</td>\n",
       "    </tr>\n",
       "    <tr>\n",
       "      <th>7</th>\n",
       "      <td>1977-01-01</td>\n",
       "      <td>105.071429</td>\n",
       "    </tr>\n",
       "    <tr>\n",
       "      <th>8</th>\n",
       "      <td>1978-01-01</td>\n",
       "      <td>99.694444</td>\n",
       "    </tr>\n",
       "    <tr>\n",
       "      <th>9</th>\n",
       "      <td>1979-01-01</td>\n",
       "      <td>101.206897</td>\n",
       "    </tr>\n",
       "    <tr>\n",
       "      <th>10</th>\n",
       "      <td>1980-01-01</td>\n",
       "      <td>77.481481</td>\n",
       "    </tr>\n",
       "    <tr>\n",
       "      <th>11</th>\n",
       "      <td>1982-01-01</td>\n",
       "      <td>81.258621</td>\n",
       "    </tr>\n",
       "  </tbody>\n",
       "</table>\n",
       "</div>"
      ],
      "text/plain": [
       "         Year  Horsepower\n",
       "0  1970-01-01  147.827586\n",
       "1  1971-01-01  107.037037\n",
       "2  1972-01-01  120.178571\n",
       "3  1973-01-01  130.475000\n",
       "4  1974-01-01   94.230769\n",
       "5  1975-01-01  101.066667\n",
       "6  1976-01-01  101.117647\n",
       "7  1977-01-01  105.071429\n",
       "8  1978-01-01   99.694444\n",
       "9  1979-01-01  101.206897\n",
       "10 1980-01-01   77.481481\n",
       "11 1982-01-01   81.258621"
      ]
     },
     "execution_count": 23,
     "metadata": {},
     "output_type": "execute_result"
    }
   ],
   "source": [
    "df.viewCollection[0].data.toPandas()"
   ]
  },
  {
   "cell_type": "code",
   "execution_count": 25,
   "metadata": {},
   "outputs": [
    {
     "data": {
      "text/plain": [
       "0    1970-01-01\n",
       "1    1971-01-01\n",
       "2    1972-01-01\n",
       "3    1973-01-01\n",
       "4    1974-01-01\n",
       "5    1975-01-01\n",
       "6    1976-01-01\n",
       "7    1977-01-01\n",
       "8    1978-01-01\n",
       "9    1979-01-01\n",
       "10   1980-01-01\n",
       "11   1982-01-01\n",
       "Name: Year, dtype: datetime64[ns]"
      ]
     },
     "execution_count": 25,
     "metadata": {},
     "output_type": "execute_result"
    }
   ],
   "source": [
    "df.viewCollection[0].data.toPandas()[\"Year\"]"
   ]
  },
  {
   "cell_type": "code",
   "execution_count": 2,
   "metadata": {},
   "outputs": [],
   "source": [
    "import pandas as pd"
   ]
  },
  {
   "cell_type": "code",
   "execution_count": 33,
   "metadata": {},
   "outputs": [],
   "source": [
    "df = pd.read_csv(\"lux/data/car.csv\")\n",
    "df.reset_index(level=0, inplace=True)\n",
    "countSeries = df.groupby(\"Origin\").count().iloc[:,0]"
   ]
  },
  {
   "cell_type": "code",
   "execution_count": 36,
   "metadata": {},
   "outputs": [
    {
     "data": {
      "text/html": [
       "<div>\n",
       "<style scoped>\n",
       "    .dataframe tbody tr th:only-of-type {\n",
       "        vertical-align: middle;\n",
       "    }\n",
       "\n",
       "    .dataframe tbody tr th {\n",
       "        vertical-align: top;\n",
       "    }\n",
       "\n",
       "    .dataframe thead th {\n",
       "        text-align: right;\n",
       "    }\n",
       "</style>\n",
       "<table border=\"1\" class=\"dataframe\">\n",
       "  <thead>\n",
       "    <tr style=\"text-align: right;\">\n",
       "      <th></th>\n",
       "      <th>index</th>\n",
       "      <th>Name</th>\n",
       "      <th>MilesPerGal</th>\n",
       "      <th>Cylinders</th>\n",
       "      <th>Displacement</th>\n",
       "      <th>Horsepower</th>\n",
       "      <th>Weight</th>\n",
       "      <th>Acceleration</th>\n",
       "      <th>Year</th>\n",
       "    </tr>\n",
       "    <tr>\n",
       "      <th>Origin</th>\n",
       "      <th></th>\n",
       "      <th></th>\n",
       "      <th></th>\n",
       "      <th></th>\n",
       "      <th></th>\n",
       "      <th></th>\n",
       "      <th></th>\n",
       "      <th></th>\n",
       "      <th></th>\n",
       "    </tr>\n",
       "  </thead>\n",
       "  <tbody>\n",
       "    <tr>\n",
       "      <th>Europe</th>\n",
       "      <td>68</td>\n",
       "      <td>68</td>\n",
       "      <td>68</td>\n",
       "      <td>68</td>\n",
       "      <td>68</td>\n",
       "      <td>68</td>\n",
       "      <td>68</td>\n",
       "      <td>68</td>\n",
       "      <td>68</td>\n",
       "    </tr>\n",
       "    <tr>\n",
       "      <th>Japan</th>\n",
       "      <td>79</td>\n",
       "      <td>79</td>\n",
       "      <td>79</td>\n",
       "      <td>79</td>\n",
       "      <td>79</td>\n",
       "      <td>79</td>\n",
       "      <td>79</td>\n",
       "      <td>79</td>\n",
       "      <td>79</td>\n",
       "    </tr>\n",
       "    <tr>\n",
       "      <th>USA</th>\n",
       "      <td>245</td>\n",
       "      <td>245</td>\n",
       "      <td>245</td>\n",
       "      <td>245</td>\n",
       "      <td>245</td>\n",
       "      <td>245</td>\n",
       "      <td>245</td>\n",
       "      <td>245</td>\n",
       "      <td>245</td>\n",
       "    </tr>\n",
       "  </tbody>\n",
       "</table>\n",
       "</div>"
      ],
      "text/plain": [
       "        index  Name  MilesPerGal  Cylinders  Displacement  Horsepower  Weight  \\\n",
       "Origin                                                                          \n",
       "Europe     68    68           68         68            68          68      68   \n",
       "Japan      79    79           79         79            79          79      79   \n",
       "USA       245   245          245        245           245         245     245   \n",
       "\n",
       "        Acceleration  Year  \n",
       "Origin                      \n",
       "Europe            68    68  \n",
       "Japan             79    79  \n",
       "USA              245   245  "
      ]
     },
     "execution_count": 36,
     "metadata": {},
     "output_type": "execute_result"
    }
   ],
   "source": [
    "df.groupby(\"Origin\").count()"
   ]
  },
  {
   "cell_type": "code",
   "execution_count": 35,
   "metadata": {},
   "outputs": [
    {
     "data": {
      "text/html": [
       "<div>\n",
       "<style scoped>\n",
       "    .dataframe tbody tr th:only-of-type {\n",
       "        vertical-align: middle;\n",
       "    }\n",
       "\n",
       "    .dataframe tbody tr th {\n",
       "        vertical-align: top;\n",
       "    }\n",
       "\n",
       "    .dataframe thead th {\n",
       "        text-align: right;\n",
       "    }\n",
       "</style>\n",
       "<table border=\"1\" class=\"dataframe\">\n",
       "  <thead>\n",
       "    <tr style=\"text-align: right;\">\n",
       "      <th></th>\n",
       "      <th>Origin</th>\n",
       "      <th>Record</th>\n",
       "    </tr>\n",
       "  </thead>\n",
       "  <tbody>\n",
       "    <tr>\n",
       "      <th>0</th>\n",
       "      <td>Europe</td>\n",
       "      <td>68</td>\n",
       "    </tr>\n",
       "    <tr>\n",
       "      <th>1</th>\n",
       "      <td>Japan</td>\n",
       "      <td>79</td>\n",
       "    </tr>\n",
       "    <tr>\n",
       "      <th>2</th>\n",
       "      <td>USA</td>\n",
       "      <td>245</td>\n",
       "    </tr>\n",
       "  </tbody>\n",
       "</table>\n",
       "</div>"
      ],
      "text/plain": [
       "   Origin  Record\n",
       "0  Europe      68\n",
       "1   Japan      79\n",
       "2     USA     245"
      ]
     },
     "execution_count": 35,
     "metadata": {},
     "output_type": "execute_result"
    }
   ],
   "source": [
    "countSeries.name = \"Record\"\n",
    "\n",
    "countSeries.to_frame().reset_index()"
   ]
  },
  {
   "cell_type": "code",
   "execution_count": 1,
   "metadata": {},
   "outputs": [
    {
     "name": "stderr",
     "output_type": "stream",
     "text": [
      "/Users/dorislee/Desktop/Research/lux/lux/lux/compiler/Validator.py:32: FutureWarning: elementwise comparison failed; returning scalar instead, but in the future will perform elementwise comparison\n",
      "  checkValExists = spec.attribute and spec.value in uniqueVals[spec.attribute]\n"
     ]
    }
   ],
   "source": [
    "import lux\n",
    "import pandas as pd\n",
    "from lux.executor.ExecutionEngine import ExecutionEngine\n",
    "df = pd.read_csv(\"lux/data/car.csv\")\n",
    "df[\"Year\"] = pd.to_datetime(df[\"Year\"], format='%Y') # change pandas dtype for the column \"Year\" to datetype\n",
    "df.setContext([lux.Spec(attribute = \"Horsepower\",aggregation=\"max\"),lux.Spec(attribute = \"Year\")])"
   ]
  },
  {
   "cell_type": "code",
   "execution_count": 2,
   "metadata": {},
   "outputs": [],
   "source": [
    "# df.setContext([lux.Spec(attribute = \"MilesPerGal\")])\n",
    "# df.viewCollection[0]"
   ]
  },
  {
   "cell_type": "code",
   "execution_count": 3,
   "metadata": {},
   "outputs": [
    {
     "name": "stdout",
     "output_type": "stream",
     "text": [
      "0\n",
      "inside\n"
     ]
    },
    {
     "data": {
      "application/vnd.jupyter.widget-view+json": {
       "model_id": "0ded14c0622a4d80918828ad5a255cd9",
       "version_major": 2,
       "version_minor": 0
      },
      "text/plain": [
       "LuxWidget(current_view={'config': {'view': {'continuousWidth': 400, 'continuousHeight': 300}}, 'data': {'name'…"
      ]
     },
     "metadata": {},
     "output_type": "display_data"
    },
    {
     "data": {
      "text/plain": []
     },
     "execution_count": 3,
     "metadata": {},
     "output_type": "execute_result"
    }
   ],
   "source": [
    "df"
   ]
  },
  {
   "cell_type": "code",
   "execution_count": 4,
   "metadata": {},
   "outputs": [
    {
     "name": "stderr",
     "output_type": "stream",
     "text": [
      "/Users/dorislee/Desktop/Research/lux/lux/lux/compiler/Validator.py:32: FutureWarning: elementwise comparison failed; returning scalar instead, but in the future will perform elementwise comparison\n",
      "  checkValExists = spec.attribute and spec.value in uniqueVals[spec.attribute]\n"
     ]
    }
   ],
   "source": [
    "df = pd.read_csv(\"lux/data/car.csv\")\n",
    "df.setContext([lux.Spec(attribute = \"Displacement\"),lux.Spec(attribute = \"Origin\")])"
   ]
  },
  {
   "cell_type": "code",
   "execution_count": 5,
   "metadata": {},
   "outputs": [
    {
     "name": "stdout",
     "output_type": "stream",
     "text": [
      "0\n",
      "inside\n"
     ]
    },
    {
     "data": {
      "application/vnd.jupyter.widget-view+json": {
       "model_id": "ae64c630bcef4ba2a3bf4ef59954eebf",
       "version_major": 2,
       "version_minor": 0
      },
      "text/plain": [
       "LuxWidget(current_view={'config': {'view': {'continuousWidth': 400, 'continuousHeight': 300}, 'mark': {'toolti…"
      ]
     },
     "metadata": {},
     "output_type": "display_data"
    },
    {
     "data": {
      "text/plain": []
     },
     "execution_count": 5,
     "metadata": {},
     "output_type": "execute_result"
    }
   ],
   "source": [
    "df"
   ]
  },
  {
   "cell_type": "code",
   "execution_count": 12,
   "metadata": {},
   "outputs": [],
   "source": [
    "import numpy as np"
   ]
  },
  {
   "cell_type": "code",
   "execution_count": 13,
   "metadata": {},
   "outputs": [
    {
     "data": {
      "text/plain": [
       "(array([ 27,  95, 120,  44,  19,  47,  13,  14,   5,   8]),\n",
       " array([ 46. ,  64.4,  82.8, 101.2, 119.6, 138. , 156.4, 174.8, 193.2,\n",
       "        211.6, 230. ]))"
      ]
     },
     "execution_count": 13,
     "metadata": {},
     "output_type": "execute_result"
    }
   ],
   "source": [
    "np.histogram(df[\"Horsepower\"],bins=10)"
   ]
  },
  {
   "cell_type": "code",
   "execution_count": 1,
   "metadata": {},
   "outputs": [
    {
     "name": "stdout",
     "output_type": "stream",
     "text": [
      "0\n",
      "inside\n"
     ]
    },
    {
     "name": "stderr",
     "output_type": "stream",
     "text": [
      "/Users/dorislee/Desktop/Research/lux/lux/lux/compiler/Validator.py:32: FutureWarning: elementwise comparison failed; returning scalar instead, but in the future will perform elementwise comparison\n",
      "  checkValExists = spec.attribute and spec.value in uniqueVals[spec.attribute]\n"
     ]
    }
   ],
   "source": [
    "import lux\n",
    "import pandas as pd\n",
    "from lux.executor.ExecutionEngine import ExecutionEngine\n",
    "ldf = pd.read_csv(\"lux/data/car.csv\")\n",
    "ldf.setContext([lux.Spec(attribute = \"Horsepower\")])"
   ]
  },
  {
   "cell_type": "code",
   "execution_count": 2,
   "metadata": {},
   "outputs": [],
   "source": [
    "view = ldf.viewCollection[0]"
   ]
  },
  {
   "cell_type": "code",
   "execution_count": 3,
   "metadata": {},
   "outputs": [
    {
     "data": {
      "text/plain": [
       "<View: Mark: histogram, Specs: [Spec < description:,channel:x,attribute:Horsepower,aggregation:,value:>dataModel:measure,dataType:quantitative,binSize:10, Spec < description:,channel:y,attribute:Record,aggregation:count,value:>dataModel:measure,dataType:,binSize:0], Score:0.0>"
      ]
     },
     "execution_count": 3,
     "metadata": {},
     "output_type": "execute_result"
    }
   ],
   "source": [
    "view"
   ]
  },
  {
   "cell_type": "code",
   "execution_count": 4,
   "metadata": {},
   "outputs": [],
   "source": [
    "binAttribute = list(filter(lambda x: x.binSize!=0,view.specLst))[0]"
   ]
  },
  {
   "cell_type": "code",
   "execution_count": 117,
   "metadata": {},
   "outputs": [],
   "source": [
    "import numpy as np\n",
    "\n",
    "counts,binEdges = np.histogram(ldf[binAttribute.attribute],bins=binAttribute.binSize)\n",
    "#binEdges of size N+1, so need to compute binCenter as the bin location\n",
    "binCenter = np.mean(np.vstack([binEdges[0:-1],binEdges[1:]]), axis=0)\n",
    "\n",
    "resultDf = pd.DataFrame(np.array([binCenter,counts]).T,columns=[\"Horsepower\", \"Count of Records (binned)\"])"
   ]
  },
  {
   "cell_type": "code",
   "execution_count": 93,
   "metadata": {},
   "outputs": [
    {
     "data": {
      "text/html": [
       "<div>\n",
       "<style scoped>\n",
       "    .dataframe tbody tr th:only-of-type {\n",
       "        vertical-align: middle;\n",
       "    }\n",
       "\n",
       "    .dataframe tbody tr th {\n",
       "        vertical-align: top;\n",
       "    }\n",
       "\n",
       "    .dataframe thead th {\n",
       "        text-align: right;\n",
       "    }\n",
       "</style>\n",
       "<table border=\"1\" class=\"dataframe\">\n",
       "  <thead>\n",
       "    <tr style=\"text-align: right;\">\n",
       "      <th></th>\n",
       "      <th>Horsepower</th>\n",
       "      <th>Count of Records (binned)</th>\n",
       "    </tr>\n",
       "  </thead>\n",
       "  <tbody>\n",
       "    <tr>\n",
       "      <th>0</th>\n",
       "      <td>55.2</td>\n",
       "      <td>27.0</td>\n",
       "    </tr>\n",
       "    <tr>\n",
       "      <th>1</th>\n",
       "      <td>73.6</td>\n",
       "      <td>95.0</td>\n",
       "    </tr>\n",
       "    <tr>\n",
       "      <th>2</th>\n",
       "      <td>92.0</td>\n",
       "      <td>120.0</td>\n",
       "    </tr>\n",
       "    <tr>\n",
       "      <th>3</th>\n",
       "      <td>110.4</td>\n",
       "      <td>44.0</td>\n",
       "    </tr>\n",
       "    <tr>\n",
       "      <th>4</th>\n",
       "      <td>128.8</td>\n",
       "      <td>19.0</td>\n",
       "    </tr>\n",
       "    <tr>\n",
       "      <th>5</th>\n",
       "      <td>147.2</td>\n",
       "      <td>47.0</td>\n",
       "    </tr>\n",
       "    <tr>\n",
       "      <th>6</th>\n",
       "      <td>165.6</td>\n",
       "      <td>13.0</td>\n",
       "    </tr>\n",
       "    <tr>\n",
       "      <th>7</th>\n",
       "      <td>184.0</td>\n",
       "      <td>14.0</td>\n",
       "    </tr>\n",
       "    <tr>\n",
       "      <th>8</th>\n",
       "      <td>202.4</td>\n",
       "      <td>5.0</td>\n",
       "    </tr>\n",
       "    <tr>\n",
       "      <th>9</th>\n",
       "      <td>220.8</td>\n",
       "      <td>8.0</td>\n",
       "    </tr>\n",
       "  </tbody>\n",
       "</table>\n",
       "</div>"
      ],
      "text/plain": []
     },
     "execution_count": 93,
     "metadata": {},
     "output_type": "execute_result"
    }
   ],
   "source": [
    "resultDf"
   ]
  },
  {
   "cell_type": "code",
   "execution_count": 109,
   "metadata": {},
   "outputs": [
    {
     "data": {
      "text/plain": [
       "<matplotlib.axes._subplots.AxesSubplot at 0x12a098910>"
      ]
     },
     "execution_count": 109,
     "metadata": {},
     "output_type": "execute_result"
    },
    {
     "data": {
      "image/png": "[encoded data removed]",
      "text/plain": [
       "<Figure size 432x288 with 1 Axes>"
      ]
     },
     "metadata": {
      "needs_background": "light"
     },
     "output_type": "display_data"
    }
   ],
   "source": [
    "ldf[\"Horsepower\"].hist(bins=10)"
   ]
  },
  {
   "cell_type": "code",
   "execution_count": 116,
   "metadata": {},
   "outputs": [
    {
     "data": {
      "text/html": [
       "\n",
       "<div id=\"altair-viz-15\"></div>\n",
       "<script type=\"text/javascript\">\n",
       "  (function(spec, embedOpt){\n",
       "    const outputDiv = document.getElementById(\"altair-viz-15\");\n",
       "    const paths = {\n",
       "      \"vega\": \"https://cdn.jsdelivr.net/npm//vega@5?noext\",\n",
       "      \"vega-lib\": \"https://cdn.jsdelivr.net/npm//vega-lib?noext\",\n",
       "      \"vega-lite\": \"https://cdn.jsdelivr.net/npm//vega-lite@4.0.0?noext\",\n",
       "      \"vega-embed\": \"https://cdn.jsdelivr.net/npm//vega-embed@6?noext\",\n",
       "    };\n",
       "\n",
       "    function loadScript(lib) {\n",
       "      return new Promise(function(resolve, reject) {\n",
       "        var s = document.createElement('script');\n",
       "        s.src = paths[lib];\n",
       "        s.async = true;\n",
       "        s.onload = () => resolve(paths[lib]);\n",
       "        s.onerror = () => reject(`Error loading script: ${paths[lib]}`);\n",
       "        document.getElementsByTagName(\"head\")[0].appendChild(s);\n",
       "      });\n",
       "    }\n",
       "\n",
       "    function showError(err) {\n",
       "      outputDiv.innerHTML = `<div class=\"error\" style=\"color:red;\">${err}</div>`;\n",
       "      throw err;\n",
       "    }\n",
       "\n",
       "    function displayChart(vegaEmbed) {\n",
       "      vegaEmbed(outputDiv, spec, embedOpt)\n",
       "        .catch(err => showError(`Javascript Error: ${err.message}<br>This usually means there's a typo in your chart specification. See the javascript console for the full traceback.`));\n",
       "    }\n",
       "\n",
       "    if(typeof define === \"function\" && define.amd) {\n",
       "      requirejs.config({paths});\n",
       "      require([\"vega-embed\"], displayChart, err => showError(`Error loading script: ${err.message}`));\n",
       "    } else if (typeof vegaEmbed === \"function\") {\n",
       "      displayChart(vegaEmbed);\n",
       "    } else {\n",
       "      loadScript(\"vega\")\n",
       "        .then(() => loadScript(\"vega-lite\"))\n",
       "        .then(() => loadScript(\"vega-embed\"))\n",
       "        .catch(showError)\n",
       "        .then(() => displayChart(vegaEmbed));\n",
       "    }\n",
       "  })({\"config\": {\"view\": {\"continuousWidth\": 400, \"continuousHeight\": 300}}, \"data\": {\"name\": \"data-44d806db919d3b308f8834495a370c95\"}, \"mark\": {\"type\": \"bar\", \"size\": 35}, \"encoding\": {\"x\": {\"type\": \"quantitative\", \"field\": \"Horsepower\"}, \"y\": {\"type\": \"quantitative\", \"field\": \"Count of Records (binned)\"}}, \"$schema\": \"https://vega.github.io/schema/vega-lite/v4.0.0.json\", \"datasets\": {\"data-44d806db919d3b308f8834495a370c95\": [{\"Horsepower\": 55.2, \"Count of Records (binned)\": 27.0}, {\"Horsepower\": 73.6, \"Count of Records (binned)\": 95.0}, {\"Horsepower\": 92.0, \"Count of Records (binned)\": 120.0}, {\"Horsepower\": 110.39999999999999, \"Count of Records (binned)\": 44.0}, {\"Horsepower\": 128.8, \"Count of Records (binned)\": 19.0}, {\"Horsepower\": 147.2, \"Count of Records (binned)\": 47.0}, {\"Horsepower\": 165.59999999999997, \"Count of Records (binned)\": 13.0}, {\"Horsepower\": 184.0, \"Count of Records (binned)\": 14.0}, {\"Horsepower\": 202.39999999999998, \"Count of Records (binned)\": 5.0}, {\"Horsepower\": 220.8, \"Count of Records (binned)\": 8.0}]}}, {\"mode\": \"vega-lite\"});\n",
       "</script>"
      ],
      "text/plain": [
       "alt.Chart(...)"
      ]
     },
     "execution_count": 116,
     "metadata": {},
     "output_type": "execute_result"
    }
   ],
   "source": [
    "import altair as alt\n",
    "alt.Chart(resultDf).mark_bar(size=35).encode(\n",
    "    x = \"Horsepower\",\n",
    "    y = \"Count of Records (binned)\"\n",
    ")"
   ]
  },
  {
   "cell_type": "code",
   "execution_count": 107,
   "metadata": {},
   "outputs": [
    {
     "data": {
      "text/html": [
       "\n",
       "<div id=\"altair-viz-8\"></div>\n",
       "<script type=\"text/javascript\">\n",
       "  (function(spec, embedOpt){\n",
       "    const outputDiv = document.getElementById(\"altair-viz-8\");\n",
       "    const paths = {\n",
       "      \"vega\": \"https://cdn.jsdelivr.net/npm//vega@5?noext\",\n",
       "      \"vega-lib\": \"https://cdn.jsdelivr.net/npm//vega-lib?noext\",\n",
       "      \"vega-lite\": \"https://cdn.jsdelivr.net/npm//vega-lite@4.0.0?noext\",\n",
       "      \"vega-embed\": \"https://cdn.jsdelivr.net/npm//vega-embed@6?noext\",\n",
       "    };\n",
       "\n",
       "    function loadScript(lib) {\n",
       "      return new Promise(function(resolve, reject) {\n",
       "        var s = document.createElement('script');\n",
       "        s.src = paths[lib];\n",
       "        s.async = true;\n",
       "        s.onload = () => resolve(paths[lib]);\n",
       "        s.onerror = () => reject(`Error loading script: ${paths[lib]}`);\n",
       "        document.getElementsByTagName(\"head\")[0].appendChild(s);\n",
       "      });\n",
       "    }\n",
       "\n",
       "    function showError(err) {\n",
       "      outputDiv.innerHTML = `<div class=\"error\" style=\"color:red;\">${err}</div>`;\n",
       "      throw err;\n",
       "    }\n",
       "\n",
       "    function displayChart(vegaEmbed) {\n",
       "      vegaEmbed(outputDiv, spec, embedOpt)\n",
       "        .catch(err => showError(`Javascript Error: ${err.message}<br>This usually means there's a typo in your chart specification. See the javascript console for the full traceback.`));\n",
       "    }\n",
       "\n",
       "    if(typeof define === \"function\" && define.amd) {\n",
       "      requirejs.config({paths});\n",
       "      require([\"vega-embed\"], displayChart, err => showError(`Error loading script: ${err.message}`));\n",
       "    } else if (typeof vegaEmbed === \"function\") {\n",
       "      displayChart(vegaEmbed);\n",
       "    } else {\n",
       "      loadScript(\"vega\")\n",
       "        .then(() => loadScript(\"vega-lite\"))\n",
       "        .then(() => loadScript(\"vega-embed\"))\n",
       "        .catch(showError)\n",
       "        .then(() => displayChart(vegaEmbed));\n",
       "    }\n",
       "  })({\"config\": {\"view\": {\"continuousWidth\": 400, \"continuousHeight\": 300}}, \"data\": {\"name\": \"data-4be989792ea17d04c3de3351ea5b6c9a\"}, \"mark\": \"bar\", \"encoding\": {\"x\": {\"type\": \"quantitative\", \"bin\": {\"maxbins\": 10}, \"field\": \"Horsepower\"}, \"y\": {\"type\": \"quantitative\", \"aggregate\": \"count\"}}, \"$schema\": \"https://vega.github.io/schema/vega-lite/v4.0.0.json\", \"datasets\": {\"data-4be989792ea17d04c3de3351ea5b6c9a\": [{\"Name\": \"chevrolet chevelle malibu\", \"MilesPerGal\": 18.0, \"Cylinders\": 8, \"Displacement\": 307.0, \"Horsepower\": 130, \"Weight\": 3504, \"Acceleration\": 12.0, \"Year\": 1970, \"Origin\": \"USA\"}, {\"Name\": \"buick skylark 320\", \"MilesPerGal\": 15.0, \"Cylinders\": 8, \"Displacement\": 350.0, \"Horsepower\": 165, \"Weight\": 3693, \"Acceleration\": 11.5, \"Year\": 1970, \"Origin\": \"USA\"}, {\"Name\": \"plymouth satellite\", \"MilesPerGal\": 18.0, \"Cylinders\": 8, \"Displacement\": 318.0, \"Horsepower\": 150, \"Weight\": 3436, \"Acceleration\": 11.0, \"Year\": 1970, \"Origin\": \"USA\"}, {\"Name\": \"amc rebel sst\", \"MilesPerGal\": 16.0, \"Cylinders\": 8, \"Displacement\": 304.0, \"Horsepower\": 150, \"Weight\": 3433, \"Acceleration\": 12.0, \"Year\": 1970, \"Origin\": \"USA\"}, {\"Name\": \"ford torino\", \"MilesPerGal\": 17.0, \"Cylinders\": 8, \"Displacement\": 302.0, \"Horsepower\": 140, \"Weight\": 3449, \"Acceleration\": 10.5, \"Year\": 1970, \"Origin\": \"USA\"}, {\"Name\": \"ford galaxie 500\", \"MilesPerGal\": 15.0, \"Cylinders\": 8, \"Displacement\": 429.0, \"Horsepower\": 198, \"Weight\": 4341, \"Acceleration\": 10.0, \"Year\": 1970, \"Origin\": \"USA\"}, {\"Name\": \"chevrolet impala\", \"MilesPerGal\": 14.0, \"Cylinders\": 8, \"Displacement\": 454.0, \"Horsepower\": 220, \"Weight\": 4354, \"Acceleration\": 9.0, \"Year\": 1970, \"Origin\": \"USA\"}, {\"Name\": \"plymouth fury iii\", \"MilesPerGal\": 14.0, \"Cylinders\": 8, \"Displacement\": 440.0, \"Horsepower\": 215, \"Weight\": 4312, \"Acceleration\": 8.5, \"Year\": 1970, \"Origin\": \"USA\"}, {\"Name\": \"pontiac catalina\", \"MilesPerGal\": 14.0, \"Cylinders\": 8, \"Displacement\": 455.0, \"Horsepower\": 225, \"Weight\": 4425, \"Acceleration\": 10.0, \"Year\": 1970, \"Origin\": \"USA\"}, {\"Name\": \"amc ambassador dpl\", \"MilesPerGal\": 15.0, \"Cylinders\": 8, \"Displacement\": 390.0, \"Horsepower\": 190, \"Weight\": 3850, \"Acceleration\": 8.5, \"Year\": 1970, \"Origin\": \"USA\"}, {\"Name\": \"dodge challenger se\", \"MilesPerGal\": 15.0, \"Cylinders\": 8, \"Displacement\": 383.0, \"Horsepower\": 170, \"Weight\": 3563, \"Acceleration\": 10.0, \"Year\": 1970, \"Origin\": \"USA\"}, {\"Name\": \"plymouth 'cuda 340\", \"MilesPerGal\": 14.0, \"Cylinders\": 8, \"Displacement\": 340.0, \"Horsepower\": 160, \"Weight\": 3609, \"Acceleration\": 8.0, \"Year\": 1970, \"Origin\": \"USA\"}, {\"Name\": \"chevrolet monte carlo\", \"MilesPerGal\": 15.0, \"Cylinders\": 8, \"Displacement\": 400.0, \"Horsepower\": 150, \"Weight\": 3761, \"Acceleration\": 9.5, \"Year\": 1970, \"Origin\": \"USA\"}, {\"Name\": \"buick estate wagon (sw)\", \"MilesPerGal\": 14.0, \"Cylinders\": 8, \"Displacement\": 455.0, \"Horsepower\": 225, \"Weight\": 3086, \"Acceleration\": 10.0, \"Year\": 1970, \"Origin\": \"USA\"}, {\"Name\": \"toyota corona mark ii\", \"MilesPerGal\": 24.0, \"Cylinders\": 4, \"Displacement\": 113.0, \"Horsepower\": 95, \"Weight\": 2372, \"Acceleration\": 15.0, \"Year\": 1970, \"Origin\": \"Japan\"}, {\"Name\": \"plymouth duster\", \"MilesPerGal\": 22.0, \"Cylinders\": 6, \"Displacement\": 198.0, \"Horsepower\": 95, \"Weight\": 2833, \"Acceleration\": 15.5, \"Year\": 1970, \"Origin\": \"USA\"}, {\"Name\": \"amc hornet\", \"MilesPerGal\": 18.0, \"Cylinders\": 6, \"Displacement\": 199.0, \"Horsepower\": 97, \"Weight\": 2774, \"Acceleration\": 15.5, \"Year\": 1970, \"Origin\": \"USA\"}, {\"Name\": \"ford maverick\", \"MilesPerGal\": 21.0, \"Cylinders\": 6, \"Displacement\": 200.0, \"Horsepower\": 85, \"Weight\": 2587, \"Acceleration\": 16.0, \"Year\": 1970, \"Origin\": \"USA\"}, {\"Name\": \"datsun pl510\", \"MilesPerGal\": 27.0, \"Cylinders\": 4, \"Displacement\": 97.0, \"Horsepower\": 88, \"Weight\": 2130, \"Acceleration\": 14.5, \"Year\": 1970, \"Origin\": \"Japan\"}, {\"Name\": \"volkswagen 1131 deluxe sedan\", \"MilesPerGal\": 26.0, \"Cylinders\": 4, \"Displacement\": 97.0, \"Horsepower\": 46, \"Weight\": 1835, \"Acceleration\": 20.5, \"Year\": 1970, \"Origin\": \"Europe\"}, {\"Name\": \"peugeot 504\", \"MilesPerGal\": 25.0, \"Cylinders\": 4, \"Displacement\": 110.0, \"Horsepower\": 87, \"Weight\": 2672, \"Acceleration\": 17.5, \"Year\": 1970, \"Origin\": \"Europe\"}, {\"Name\": \"audi 100 ls\", \"MilesPerGal\": 24.0, \"Cylinders\": 4, \"Displacement\": 107.0, \"Horsepower\": 90, \"Weight\": 2430, \"Acceleration\": 14.5, \"Year\": 1970, \"Origin\": \"Europe\"}, {\"Name\": \"saab 99e\", \"MilesPerGal\": 25.0, \"Cylinders\": 4, \"Displacement\": 104.0, \"Horsepower\": 95, \"Weight\": 2375, \"Acceleration\": 17.5, \"Year\": 1970, \"Origin\": \"Europe\"}, {\"Name\": \"bmw 2002\", \"MilesPerGal\": 26.0, \"Cylinders\": 4, \"Displacement\": 121.0, \"Horsepower\": 113, \"Weight\": 2234, \"Acceleration\": 12.5, \"Year\": 1970, \"Origin\": \"Europe\"}, {\"Name\": \"amc gremlin\", \"MilesPerGal\": 21.0, \"Cylinders\": 6, \"Displacement\": 199.0, \"Horsepower\": 90, \"Weight\": 2648, \"Acceleration\": 15.0, \"Year\": 1970, \"Origin\": \"USA\"}, {\"Name\": \"ford f250\", \"MilesPerGal\": 10.0, \"Cylinders\": 8, \"Displacement\": 360.0, \"Horsepower\": 215, \"Weight\": 4615, \"Acceleration\": 14.0, \"Year\": 1970, \"Origin\": \"USA\"}, {\"Name\": \"chevy c20\", \"MilesPerGal\": 10.0, \"Cylinders\": 8, \"Displacement\": 307.0, \"Horsepower\": 200, \"Weight\": 4376, \"Acceleration\": 15.0, \"Year\": 1970, \"Origin\": \"USA\"}, {\"Name\": \"dodge d200\", \"MilesPerGal\": 11.0, \"Cylinders\": 8, \"Displacement\": 318.0, \"Horsepower\": 210, \"Weight\": 4382, \"Acceleration\": 13.5, \"Year\": 1970, \"Origin\": \"USA\"}, {\"Name\": \"hi 1200d\", \"MilesPerGal\": 9.0, \"Cylinders\": 8, \"Displacement\": 304.0, \"Horsepower\": 193, \"Weight\": 4732, \"Acceleration\": 18.5, \"Year\": 1970, \"Origin\": \"USA\"}, {\"Name\": \"datsun pl510\", \"MilesPerGal\": 27.0, \"Cylinders\": 4, \"Displacement\": 97.0, \"Horsepower\": 88, \"Weight\": 2130, \"Acceleration\": 14.5, \"Year\": 1971, \"Origin\": \"Japan\"}, {\"Name\": \"chevrolet vega 2300\", \"MilesPerGal\": 28.0, \"Cylinders\": 4, \"Displacement\": 140.0, \"Horsepower\": 90, \"Weight\": 2264, \"Acceleration\": 15.5, \"Year\": 1971, \"Origin\": \"USA\"}, {\"Name\": \"toyota corona\", \"MilesPerGal\": 25.0, \"Cylinders\": 4, \"Displacement\": 113.0, \"Horsepower\": 95, \"Weight\": 2228, \"Acceleration\": 14.0, \"Year\": 1971, \"Origin\": \"Japan\"}, {\"Name\": \"amc gremlin\", \"MilesPerGal\": 19.0, \"Cylinders\": 6, \"Displacement\": 232.0, \"Horsepower\": 100, \"Weight\": 2634, \"Acceleration\": 13.0, \"Year\": 1971, \"Origin\": \"USA\"}, {\"Name\": \"plymouth satellite custom\", \"MilesPerGal\": 16.0, \"Cylinders\": 6, \"Displacement\": 225.0, \"Horsepower\": 105, \"Weight\": 3439, \"Acceleration\": 15.5, \"Year\": 1971, \"Origin\": \"USA\"}, {\"Name\": \"chevrolet chevelle malibu\", \"MilesPerGal\": 17.0, \"Cylinders\": 6, \"Displacement\": 250.0, \"Horsepower\": 100, \"Weight\": 3329, \"Acceleration\": 15.5, \"Year\": 1971, \"Origin\": \"USA\"}, {\"Name\": \"ford torino 500\", \"MilesPerGal\": 19.0, \"Cylinders\": 6, \"Displacement\": 250.0, \"Horsepower\": 88, \"Weight\": 3302, \"Acceleration\": 15.5, \"Year\": 1971, \"Origin\": \"USA\"}, {\"Name\": \"amc matador\", \"MilesPerGal\": 18.0, \"Cylinders\": 6, \"Displacement\": 232.0, \"Horsepower\": 100, \"Weight\": 3288, \"Acceleration\": 15.5, \"Year\": 1971, \"Origin\": \"USA\"}, {\"Name\": \"chevrolet impala\", \"MilesPerGal\": 14.0, \"Cylinders\": 8, \"Displacement\": 350.0, \"Horsepower\": 165, \"Weight\": 4209, \"Acceleration\": 12.0, \"Year\": 1971, \"Origin\": \"USA\"}, {\"Name\": \"pontiac catalina brougham\", \"MilesPerGal\": 14.0, \"Cylinders\": 8, \"Displacement\": 400.0, \"Horsepower\": 175, \"Weight\": 4464, \"Acceleration\": 11.5, \"Year\": 1971, \"Origin\": \"USA\"}, {\"Name\": \"ford galaxie 500\", \"MilesPerGal\": 14.0, \"Cylinders\": 8, \"Displacement\": 351.0, \"Horsepower\": 153, \"Weight\": 4154, \"Acceleration\": 13.5, \"Year\": 1971, \"Origin\": \"USA\"}, {\"Name\": \"plymouth fury iii\", \"MilesPerGal\": 14.0, \"Cylinders\": 8, \"Displacement\": 318.0, \"Horsepower\": 150, \"Weight\": 4096, \"Acceleration\": 13.0, \"Year\": 1971, \"Origin\": \"USA\"}, {\"Name\": \"dodge monaco (sw)\", \"MilesPerGal\": 12.0, \"Cylinders\": 8, \"Displacement\": 383.0, \"Horsepower\": 180, \"Weight\": 4955, \"Acceleration\": 11.5, \"Year\": 1971, \"Origin\": \"USA\"}, {\"Name\": \"ford country squire (sw)\", \"MilesPerGal\": 13.0, \"Cylinders\": 8, \"Displacement\": 400.0, \"Horsepower\": 170, \"Weight\": 4746, \"Acceleration\": 12.0, \"Year\": 1971, \"Origin\": \"USA\"}, {\"Name\": \"pontiac safari (sw)\", \"MilesPerGal\": 13.0, \"Cylinders\": 8, \"Displacement\": 400.0, \"Horsepower\": 175, \"Weight\": 5140, \"Acceleration\": 12.0, \"Year\": 1971, \"Origin\": \"USA\"}, {\"Name\": \"amc hornet sportabout (sw)\", \"MilesPerGal\": 18.0, \"Cylinders\": 6, \"Displacement\": 258.0, \"Horsepower\": 110, \"Weight\": 2962, \"Acceleration\": 13.5, \"Year\": 1971, \"Origin\": \"USA\"}, {\"Name\": \"chevrolet vega (sw)\", \"MilesPerGal\": 22.0, \"Cylinders\": 4, \"Displacement\": 140.0, \"Horsepower\": 72, \"Weight\": 2408, \"Acceleration\": 19.0, \"Year\": 1971, \"Origin\": \"USA\"}, {\"Name\": \"pontiac firebird\", \"MilesPerGal\": 19.0, \"Cylinders\": 6, \"Displacement\": 250.0, \"Horsepower\": 100, \"Weight\": 3282, \"Acceleration\": 15.0, \"Year\": 1971, \"Origin\": \"USA\"}, {\"Name\": \"ford mustang\", \"MilesPerGal\": 18.0, \"Cylinders\": 6, \"Displacement\": 250.0, \"Horsepower\": 88, \"Weight\": 3139, \"Acceleration\": 14.5, \"Year\": 1971, \"Origin\": \"USA\"}, {\"Name\": \"mercury capri 2000\", \"MilesPerGal\": 23.0, \"Cylinders\": 4, \"Displacement\": 122.0, \"Horsepower\": 86, \"Weight\": 2220, \"Acceleration\": 14.0, \"Year\": 1971, \"Origin\": \"USA\"}, {\"Name\": \"opel 1900\", \"MilesPerGal\": 28.0, \"Cylinders\": 4, \"Displacement\": 116.0, \"Horsepower\": 90, \"Weight\": 2123, \"Acceleration\": 14.0, \"Year\": 1971, \"Origin\": \"Europe\"}, {\"Name\": \"peugeot 304\", \"MilesPerGal\": 30.0, \"Cylinders\": 4, \"Displacement\": 79.0, \"Horsepower\": 70, \"Weight\": 2074, \"Acceleration\": 19.5, \"Year\": 1971, \"Origin\": \"Europe\"}, {\"Name\": \"fiat 124b\", \"MilesPerGal\": 30.0, \"Cylinders\": 4, \"Displacement\": 88.0, \"Horsepower\": 76, \"Weight\": 2065, \"Acceleration\": 14.5, \"Year\": 1971, \"Origin\": \"Europe\"}, {\"Name\": \"toyota corolla 1200\", \"MilesPerGal\": 31.0, \"Cylinders\": 4, \"Displacement\": 71.0, \"Horsepower\": 65, \"Weight\": 1773, \"Acceleration\": 19.0, \"Year\": 1971, \"Origin\": \"Japan\"}, {\"Name\": \"datsun 1200\", \"MilesPerGal\": 35.0, \"Cylinders\": 4, \"Displacement\": 72.0, \"Horsepower\": 69, \"Weight\": 1613, \"Acceleration\": 18.0, \"Year\": 1971, \"Origin\": \"Japan\"}, {\"Name\": \"volkswagen model 111\", \"MilesPerGal\": 27.0, \"Cylinders\": 4, \"Displacement\": 97.0, \"Horsepower\": 60, \"Weight\": 1834, \"Acceleration\": 19.0, \"Year\": 1971, \"Origin\": \"Europe\"}, {\"Name\": \"plymouth cricket\", \"MilesPerGal\": 26.0, \"Cylinders\": 4, \"Displacement\": 91.0, \"Horsepower\": 70, \"Weight\": 1955, \"Acceleration\": 20.5, \"Year\": 1971, \"Origin\": \"USA\"}, {\"Name\": \"toyota corona hardtop\", \"MilesPerGal\": 24.0, \"Cylinders\": 4, \"Displacement\": 113.0, \"Horsepower\": 95, \"Weight\": 2278, \"Acceleration\": 15.5, \"Year\": 1972, \"Origin\": \"Japan\"}, {\"Name\": \"dodge colt hardtop\", \"MilesPerGal\": 25.0, \"Cylinders\": 4, \"Displacement\": 97.5, \"Horsepower\": 80, \"Weight\": 2126, \"Acceleration\": 17.0, \"Year\": 1972, \"Origin\": \"USA\"}, {\"Name\": \"volkswagen type 3\", \"MilesPerGal\": 23.0, \"Cylinders\": 4, \"Displacement\": 97.0, \"Horsepower\": 54, \"Weight\": 2254, \"Acceleration\": 23.5, \"Year\": 1972, \"Origin\": \"Europe\"}, {\"Name\": \"chevrolet vega\", \"MilesPerGal\": 20.0, \"Cylinders\": 4, \"Displacement\": 140.0, \"Horsepower\": 90, \"Weight\": 2408, \"Acceleration\": 19.5, \"Year\": 1972, \"Origin\": \"USA\"}, {\"Name\": \"ford pinto runabout\", \"MilesPerGal\": 21.0, \"Cylinders\": 4, \"Displacement\": 122.0, \"Horsepower\": 86, \"Weight\": 2226, \"Acceleration\": 16.5, \"Year\": 1972, \"Origin\": \"USA\"}, {\"Name\": \"chevrolet impala\", \"MilesPerGal\": 13.0, \"Cylinders\": 8, \"Displacement\": 350.0, \"Horsepower\": 165, \"Weight\": 4274, \"Acceleration\": 12.0, \"Year\": 1972, \"Origin\": \"USA\"}, {\"Name\": \"pontiac catalina\", \"MilesPerGal\": 14.0, \"Cylinders\": 8, \"Displacement\": 400.0, \"Horsepower\": 175, \"Weight\": 4385, \"Acceleration\": 12.0, \"Year\": 1972, \"Origin\": \"USA\"}, {\"Name\": \"plymouth fury iii\", \"MilesPerGal\": 15.0, \"Cylinders\": 8, \"Displacement\": 318.0, \"Horsepower\": 150, \"Weight\": 4135, \"Acceleration\": 13.5, \"Year\": 1972, \"Origin\": \"USA\"}, {\"Name\": \"ford galaxie 500\", \"MilesPerGal\": 14.0, \"Cylinders\": 8, \"Displacement\": 351.0, \"Horsepower\": 153, \"Weight\": 4129, \"Acceleration\": 13.0, \"Year\": 1972, \"Origin\": \"USA\"}, {\"Name\": \"amc ambassador sst\", \"MilesPerGal\": 17.0, \"Cylinders\": 8, \"Displacement\": 304.0, \"Horsepower\": 150, \"Weight\": 3672, \"Acceleration\": 11.5, \"Year\": 1972, \"Origin\": \"USA\"}, {\"Name\": \"mercury marquis\", \"MilesPerGal\": 11.0, \"Cylinders\": 8, \"Displacement\": 429.0, \"Horsepower\": 208, \"Weight\": 4633, \"Acceleration\": 11.0, \"Year\": 1972, \"Origin\": \"USA\"}, {\"Name\": \"buick lesabre custom\", \"MilesPerGal\": 13.0, \"Cylinders\": 8, \"Displacement\": 350.0, \"Horsepower\": 155, \"Weight\": 4502, \"Acceleration\": 13.5, \"Year\": 1972, \"Origin\": \"USA\"}, {\"Name\": \"oldsmobile delta 88 royale\", \"MilesPerGal\": 12.0, \"Cylinders\": 8, \"Displacement\": 350.0, \"Horsepower\": 160, \"Weight\": 4456, \"Acceleration\": 13.5, \"Year\": 1972, \"Origin\": \"USA\"}, {\"Name\": \"chrysler newport royal\", \"MilesPerGal\": 13.0, \"Cylinders\": 8, \"Displacement\": 400.0, \"Horsepower\": 190, \"Weight\": 4422, \"Acceleration\": 12.5, \"Year\": 1972, \"Origin\": \"USA\"}, {\"Name\": \"mazda rx2 coupe\", \"MilesPerGal\": 19.0, \"Cylinders\": 3, \"Displacement\": 70.0, \"Horsepower\": 97, \"Weight\": 2330, \"Acceleration\": 13.5, \"Year\": 1972, \"Origin\": \"Japan\"}, {\"Name\": \"amc matador (sw)\", \"MilesPerGal\": 15.0, \"Cylinders\": 8, \"Displacement\": 304.0, \"Horsepower\": 150, \"Weight\": 3892, \"Acceleration\": 12.5, \"Year\": 1972, \"Origin\": \"USA\"}, {\"Name\": \"chevrolet chevelle concours (sw)\", \"MilesPerGal\": 13.0, \"Cylinders\": 8, \"Displacement\": 307.0, \"Horsepower\": 130, \"Weight\": 4098, \"Acceleration\": 14.0, \"Year\": 1972, \"Origin\": \"USA\"}, {\"Name\": \"ford gran torino (sw)\", \"MilesPerGal\": 13.0, \"Cylinders\": 8, \"Displacement\": 302.0, \"Horsepower\": 140, \"Weight\": 4294, \"Acceleration\": 16.0, \"Year\": 1972, \"Origin\": \"USA\"}, {\"Name\": \"plymouth satellite custom (sw)\", \"MilesPerGal\": 14.0, \"Cylinders\": 8, \"Displacement\": 318.0, \"Horsepower\": 150, \"Weight\": 4077, \"Acceleration\": 14.0, \"Year\": 1972, \"Origin\": \"USA\"}, {\"Name\": \"volvo 145e (sw)\", \"MilesPerGal\": 18.0, \"Cylinders\": 4, \"Displacement\": 121.0, \"Horsepower\": 112, \"Weight\": 2933, \"Acceleration\": 14.5, \"Year\": 1972, \"Origin\": \"Europe\"}, {\"Name\": \"volkswagen 411 (sw)\", \"MilesPerGal\": 22.0, \"Cylinders\": 4, \"Displacement\": 121.0, \"Horsepower\": 76, \"Weight\": 2511, \"Acceleration\": 18.0, \"Year\": 1972, \"Origin\": \"Europe\"}, {\"Name\": \"peugeot 504 (sw)\", \"MilesPerGal\": 21.0, \"Cylinders\": 4, \"Displacement\": 120.0, \"Horsepower\": 87, \"Weight\": 2979, \"Acceleration\": 19.5, \"Year\": 1972, \"Origin\": \"Europe\"}, {\"Name\": \"renault 12 (sw)\", \"MilesPerGal\": 26.0, \"Cylinders\": 4, \"Displacement\": 96.0, \"Horsepower\": 69, \"Weight\": 2189, \"Acceleration\": 18.0, \"Year\": 1972, \"Origin\": \"Europe\"}, {\"Name\": \"ford pinto (sw)\", \"MilesPerGal\": 22.0, \"Cylinders\": 4, \"Displacement\": 122.0, \"Horsepower\": 86, \"Weight\": 2395, \"Acceleration\": 16.0, \"Year\": 1972, \"Origin\": \"USA\"}, {\"Name\": \"datsun 510 (sw)\", \"MilesPerGal\": 28.0, \"Cylinders\": 4, \"Displacement\": 97.0, \"Horsepower\": 92, \"Weight\": 2288, \"Acceleration\": 17.0, \"Year\": 1972, \"Origin\": \"Japan\"}, {\"Name\": \"toyouta corona mark ii (sw)\", \"MilesPerGal\": 23.0, \"Cylinders\": 4, \"Displacement\": 120.0, \"Horsepower\": 97, \"Weight\": 2506, \"Acceleration\": 14.5, \"Year\": 1972, \"Origin\": \"Japan\"}, {\"Name\": \"dodge colt (sw)\", \"MilesPerGal\": 28.0, \"Cylinders\": 4, \"Displacement\": 98.0, \"Horsepower\": 80, \"Weight\": 2164, \"Acceleration\": 15.0, \"Year\": 1972, \"Origin\": \"USA\"}, {\"Name\": \"toyota corolla 1600 (sw)\", \"MilesPerGal\": 27.0, \"Cylinders\": 4, \"Displacement\": 97.0, \"Horsepower\": 88, \"Weight\": 2100, \"Acceleration\": 16.5, \"Year\": 1972, \"Origin\": \"Japan\"}, {\"Name\": \"buick century 350\", \"MilesPerGal\": 13.0, \"Cylinders\": 8, \"Displacement\": 350.0, \"Horsepower\": 175, \"Weight\": 4100, \"Acceleration\": 13.0, \"Year\": 1973, \"Origin\": \"USA\"}, {\"Name\": \"amc matador\", \"MilesPerGal\": 14.0, \"Cylinders\": 8, \"Displacement\": 304.0, \"Horsepower\": 150, \"Weight\": 3672, \"Acceleration\": 11.5, \"Year\": 1973, \"Origin\": \"USA\"}, {\"Name\": \"chevrolet malibu\", \"MilesPerGal\": 13.0, \"Cylinders\": 8, \"Displacement\": 350.0, \"Horsepower\": 145, \"Weight\": 3988, \"Acceleration\": 13.0, \"Year\": 1973, \"Origin\": \"USA\"}, {\"Name\": \"ford gran torino\", \"MilesPerGal\": 14.0, \"Cylinders\": 8, \"Displacement\": 302.0, \"Horsepower\": 137, \"Weight\": 4042, \"Acceleration\": 14.5, \"Year\": 1973, \"Origin\": \"USA\"}, {\"Name\": \"dodge coronet custom\", \"MilesPerGal\": 15.0, \"Cylinders\": 8, \"Displacement\": 318.0, \"Horsepower\": 150, \"Weight\": 3777, \"Acceleration\": 12.5, \"Year\": 1973, \"Origin\": \"USA\"}, {\"Name\": \"mercury marquis brougham\", \"MilesPerGal\": 12.0, \"Cylinders\": 8, \"Displacement\": 429.0, \"Horsepower\": 198, \"Weight\": 4952, \"Acceleration\": 11.5, \"Year\": 1973, \"Origin\": \"USA\"}, {\"Name\": \"chevrolet caprice classic\", \"MilesPerGal\": 13.0, \"Cylinders\": 8, \"Displacement\": 400.0, \"Horsepower\": 150, \"Weight\": 4464, \"Acceleration\": 12.0, \"Year\": 1973, \"Origin\": \"USA\"}, {\"Name\": \"ford ltd\", \"MilesPerGal\": 13.0, \"Cylinders\": 8, \"Displacement\": 351.0, \"Horsepower\": 158, \"Weight\": 4363, \"Acceleration\": 13.0, \"Year\": 1973, \"Origin\": \"USA\"}, {\"Name\": \"plymouth fury gran sedan\", \"MilesPerGal\": 14.0, \"Cylinders\": 8, \"Displacement\": 318.0, \"Horsepower\": 150, \"Weight\": 4237, \"Acceleration\": 14.5, \"Year\": 1973, \"Origin\": \"USA\"}, {\"Name\": \"chrysler new yorker brougham\", \"MilesPerGal\": 13.0, \"Cylinders\": 8, \"Displacement\": 440.0, \"Horsepower\": 215, \"Weight\": 4735, \"Acceleration\": 11.0, \"Year\": 1973, \"Origin\": \"USA\"}, {\"Name\": \"buick electra 225 custom\", \"MilesPerGal\": 12.0, \"Cylinders\": 8, \"Displacement\": 455.0, \"Horsepower\": 225, \"Weight\": 4951, \"Acceleration\": 11.0, \"Year\": 1973, \"Origin\": \"USA\"}, {\"Name\": \"amc ambassador brougham\", \"MilesPerGal\": 13.0, \"Cylinders\": 8, \"Displacement\": 360.0, \"Horsepower\": 175, \"Weight\": 3821, \"Acceleration\": 11.0, \"Year\": 1973, \"Origin\": \"USA\"}, {\"Name\": \"plymouth valiant\", \"MilesPerGal\": 18.0, \"Cylinders\": 6, \"Displacement\": 225.0, \"Horsepower\": 105, \"Weight\": 3121, \"Acceleration\": 16.5, \"Year\": 1973, \"Origin\": \"USA\"}, {\"Name\": \"chevrolet nova custom\", \"MilesPerGal\": 16.0, \"Cylinders\": 6, \"Displacement\": 250.0, \"Horsepower\": 100, \"Weight\": 3278, \"Acceleration\": 18.0, \"Year\": 1973, \"Origin\": \"USA\"}, {\"Name\": \"amc hornet\", \"MilesPerGal\": 18.0, \"Cylinders\": 6, \"Displacement\": 232.0, \"Horsepower\": 100, \"Weight\": 2945, \"Acceleration\": 16.0, \"Year\": 1973, \"Origin\": \"USA\"}, {\"Name\": \"ford maverick\", \"MilesPerGal\": 18.0, \"Cylinders\": 6, \"Displacement\": 250.0, \"Horsepower\": 88, \"Weight\": 3021, \"Acceleration\": 16.5, \"Year\": 1973, \"Origin\": \"USA\"}, {\"Name\": \"plymouth duster\", \"MilesPerGal\": 23.0, \"Cylinders\": 6, \"Displacement\": 198.0, \"Horsepower\": 95, \"Weight\": 2904, \"Acceleration\": 16.0, \"Year\": 1973, \"Origin\": \"USA\"}, {\"Name\": \"volkswagen super beetle\", \"MilesPerGal\": 26.0, \"Cylinders\": 4, \"Displacement\": 97.0, \"Horsepower\": 46, \"Weight\": 1950, \"Acceleration\": 21.0, \"Year\": 1973, \"Origin\": \"Europe\"}, {\"Name\": \"chevrolet impala\", \"MilesPerGal\": 11.0, \"Cylinders\": 8, \"Displacement\": 400.0, \"Horsepower\": 150, \"Weight\": 4997, \"Acceleration\": 14.0, \"Year\": 1973, \"Origin\": \"USA\"}, {\"Name\": \"ford country\", \"MilesPerGal\": 12.0, \"Cylinders\": 8, \"Displacement\": 400.0, \"Horsepower\": 167, \"Weight\": 4906, \"Acceleration\": 12.5, \"Year\": 1973, \"Origin\": \"USA\"}, {\"Name\": \"plymouth custom suburb\", \"MilesPerGal\": 13.0, \"Cylinders\": 8, \"Displacement\": 360.0, \"Horsepower\": 170, \"Weight\": 4654, \"Acceleration\": 13.0, \"Year\": 1973, \"Origin\": \"USA\"}, {\"Name\": \"oldsmobile vista cruiser\", \"MilesPerGal\": 12.0, \"Cylinders\": 8, \"Displacement\": 350.0, \"Horsepower\": 180, \"Weight\": 4499, \"Acceleration\": 12.5, \"Year\": 1973, \"Origin\": \"USA\"}, {\"Name\": \"amc gremlin\", \"MilesPerGal\": 18.0, \"Cylinders\": 6, \"Displacement\": 232.0, \"Horsepower\": 100, \"Weight\": 2789, \"Acceleration\": 15.0, \"Year\": 1973, \"Origin\": \"USA\"}, {\"Name\": \"toyota carina\", \"MilesPerGal\": 20.0, \"Cylinders\": 4, \"Displacement\": 97.0, \"Horsepower\": 88, \"Weight\": 2279, \"Acceleration\": 19.0, \"Year\": 1973, \"Origin\": \"Japan\"}, {\"Name\": \"chevrolet vega\", \"MilesPerGal\": 21.0, \"Cylinders\": 4, \"Displacement\": 140.0, \"Horsepower\": 72, \"Weight\": 2401, \"Acceleration\": 19.5, \"Year\": 1973, \"Origin\": \"USA\"}, {\"Name\": \"datsun 610\", \"MilesPerGal\": 22.0, \"Cylinders\": 4, \"Displacement\": 108.0, \"Horsepower\": 94, \"Weight\": 2379, \"Acceleration\": 16.5, \"Year\": 1973, \"Origin\": \"Japan\"}, {\"Name\": \"maxda rx3\", \"MilesPerGal\": 18.0, \"Cylinders\": 3, \"Displacement\": 70.0, \"Horsepower\": 90, \"Weight\": 2124, \"Acceleration\": 13.5, \"Year\": 1973, \"Origin\": \"Japan\"}, {\"Name\": \"ford pinto\", \"MilesPerGal\": 19.0, \"Cylinders\": 4, \"Displacement\": 122.0, \"Horsepower\": 85, \"Weight\": 2310, \"Acceleration\": 18.5, \"Year\": 1973, \"Origin\": \"USA\"}, {\"Name\": \"mercury capri v6\", \"MilesPerGal\": 21.0, \"Cylinders\": 6, \"Displacement\": 155.0, \"Horsepower\": 107, \"Weight\": 2472, \"Acceleration\": 14.0, \"Year\": 1973, \"Origin\": \"USA\"}, {\"Name\": \"fiat 124 sport coupe\", \"MilesPerGal\": 26.0, \"Cylinders\": 4, \"Displacement\": 98.0, \"Horsepower\": 90, \"Weight\": 2265, \"Acceleration\": 15.5, \"Year\": 1973, \"Origin\": \"Europe\"}, {\"Name\": \"chevrolet monte carlo s\", \"MilesPerGal\": 15.0, \"Cylinders\": 8, \"Displacement\": 350.0, \"Horsepower\": 145, \"Weight\": 4082, \"Acceleration\": 13.0, \"Year\": 1973, \"Origin\": \"USA\"}, {\"Name\": \"pontiac grand prix\", \"MilesPerGal\": 16.0, \"Cylinders\": 8, \"Displacement\": 400.0, \"Horsepower\": 230, \"Weight\": 4278, \"Acceleration\": 9.5, \"Year\": 1973, \"Origin\": \"USA\"}, {\"Name\": \"fiat 128\", \"MilesPerGal\": 29.0, \"Cylinders\": 4, \"Displacement\": 68.0, \"Horsepower\": 49, \"Weight\": 1867, \"Acceleration\": 19.5, \"Year\": 1973, \"Origin\": \"Europe\"}, {\"Name\": \"opel manta\", \"MilesPerGal\": 24.0, \"Cylinders\": 4, \"Displacement\": 116.0, \"Horsepower\": 75, \"Weight\": 2158, \"Acceleration\": 15.5, \"Year\": 1973, \"Origin\": \"Europe\"}, {\"Name\": \"audi 100ls\", \"MilesPerGal\": 20.0, \"Cylinders\": 4, \"Displacement\": 114.0, \"Horsepower\": 91, \"Weight\": 2582, \"Acceleration\": 14.0, \"Year\": 1973, \"Origin\": \"Europe\"}, {\"Name\": \"volvo 144ea\", \"MilesPerGal\": 19.0, \"Cylinders\": 4, \"Displacement\": 121.0, \"Horsepower\": 112, \"Weight\": 2868, \"Acceleration\": 15.5, \"Year\": 1973, \"Origin\": \"Europe\"}, {\"Name\": \"dodge dart custom\", \"MilesPerGal\": 15.0, \"Cylinders\": 8, \"Displacement\": 318.0, \"Horsepower\": 150, \"Weight\": 3399, \"Acceleration\": 11.0, \"Year\": 1973, \"Origin\": \"USA\"}, {\"Name\": \"saab 99le\", \"MilesPerGal\": 24.0, \"Cylinders\": 4, \"Displacement\": 121.0, \"Horsepower\": 110, \"Weight\": 2660, \"Acceleration\": 14.0, \"Year\": 1973, \"Origin\": \"Europe\"}, {\"Name\": \"toyota mark ii\", \"MilesPerGal\": 20.0, \"Cylinders\": 6, \"Displacement\": 156.0, \"Horsepower\": 122, \"Weight\": 2807, \"Acceleration\": 13.5, \"Year\": 1973, \"Origin\": \"Japan\"}, {\"Name\": \"oldsmobile omega\", \"MilesPerGal\": 11.0, \"Cylinders\": 8, \"Displacement\": 350.0, \"Horsepower\": 180, \"Weight\": 3664, \"Acceleration\": 11.0, \"Year\": 1973, \"Origin\": \"USA\"}, {\"Name\": \"plymouth duster\", \"MilesPerGal\": 20.0, \"Cylinders\": 6, \"Displacement\": 198.0, \"Horsepower\": 95, \"Weight\": 3102, \"Acceleration\": 16.5, \"Year\": 1974, \"Origin\": \"USA\"}, {\"Name\": \"amc hornet\", \"MilesPerGal\": 19.0, \"Cylinders\": 6, \"Displacement\": 232.0, \"Horsepower\": 100, \"Weight\": 2901, \"Acceleration\": 16.0, \"Year\": 1974, \"Origin\": \"USA\"}, {\"Name\": \"chevrolet nova\", \"MilesPerGal\": 15.0, \"Cylinders\": 6, \"Displacement\": 250.0, \"Horsepower\": 100, \"Weight\": 3336, \"Acceleration\": 17.0, \"Year\": 1974, \"Origin\": \"USA\"}, {\"Name\": \"datsun b210\", \"MilesPerGal\": 31.0, \"Cylinders\": 4, \"Displacement\": 79.0, \"Horsepower\": 67, \"Weight\": 1950, \"Acceleration\": 19.0, \"Year\": 1974, \"Origin\": \"Japan\"}, {\"Name\": \"ford pinto\", \"MilesPerGal\": 26.0, \"Cylinders\": 4, \"Displacement\": 122.0, \"Horsepower\": 80, \"Weight\": 2451, \"Acceleration\": 16.5, \"Year\": 1974, \"Origin\": \"USA\"}, {\"Name\": \"toyota corolla 1200\", \"MilesPerGal\": 32.0, \"Cylinders\": 4, \"Displacement\": 71.0, \"Horsepower\": 65, \"Weight\": 1836, \"Acceleration\": 21.0, \"Year\": 1974, \"Origin\": \"Japan\"}, {\"Name\": \"chevrolet vega\", \"MilesPerGal\": 25.0, \"Cylinders\": 4, \"Displacement\": 140.0, \"Horsepower\": 75, \"Weight\": 2542, \"Acceleration\": 17.0, \"Year\": 1974, \"Origin\": \"USA\"}, {\"Name\": \"chevrolet chevelle malibu classic\", \"MilesPerGal\": 16.0, \"Cylinders\": 6, \"Displacement\": 250.0, \"Horsepower\": 100, \"Weight\": 3781, \"Acceleration\": 17.0, \"Year\": 1974, \"Origin\": \"USA\"}, {\"Name\": \"amc matador\", \"MilesPerGal\": 16.0, \"Cylinders\": 6, \"Displacement\": 258.0, \"Horsepower\": 110, \"Weight\": 3632, \"Acceleration\": 18.0, \"Year\": 1974, \"Origin\": \"USA\"}, {\"Name\": \"plymouth satellite sebring\", \"MilesPerGal\": 18.0, \"Cylinders\": 6, \"Displacement\": 225.0, \"Horsepower\": 105, \"Weight\": 3613, \"Acceleration\": 16.5, \"Year\": 1974, \"Origin\": \"USA\"}, {\"Name\": \"ford gran torino\", \"MilesPerGal\": 16.0, \"Cylinders\": 8, \"Displacement\": 302.0, \"Horsepower\": 140, \"Weight\": 4141, \"Acceleration\": 14.0, \"Year\": 1974, \"Origin\": \"USA\"}, {\"Name\": \"buick century luxus (sw)\", \"MilesPerGal\": 13.0, \"Cylinders\": 8, \"Displacement\": 350.0, \"Horsepower\": 150, \"Weight\": 4699, \"Acceleration\": 14.5, \"Year\": 1974, \"Origin\": \"USA\"}, {\"Name\": \"dodge coronet custom (sw)\", \"MilesPerGal\": 14.0, \"Cylinders\": 8, \"Displacement\": 318.0, \"Horsepower\": 150, \"Weight\": 4457, \"Acceleration\": 13.5, \"Year\": 1974, \"Origin\": \"USA\"}, {\"Name\": \"ford gran torino (sw)\", \"MilesPerGal\": 14.0, \"Cylinders\": 8, \"Displacement\": 302.0, \"Horsepower\": 140, \"Weight\": 4638, \"Acceleration\": 16.0, \"Year\": 1974, \"Origin\": \"USA\"}, {\"Name\": \"amc matador (sw)\", \"MilesPerGal\": 14.0, \"Cylinders\": 8, \"Displacement\": 304.0, \"Horsepower\": 150, \"Weight\": 4257, \"Acceleration\": 15.5, \"Year\": 1974, \"Origin\": \"USA\"}, {\"Name\": \"audi fox\", \"MilesPerGal\": 29.0, \"Cylinders\": 4, \"Displacement\": 98.0, \"Horsepower\": 83, \"Weight\": 2219, \"Acceleration\": 16.5, \"Year\": 1974, \"Origin\": \"Europe\"}, {\"Name\": \"volkswagen dasher\", \"MilesPerGal\": 26.0, \"Cylinders\": 4, \"Displacement\": 79.0, \"Horsepower\": 67, \"Weight\": 1963, \"Acceleration\": 15.5, \"Year\": 1974, \"Origin\": \"Europe\"}, {\"Name\": \"opel manta\", \"MilesPerGal\": 26.0, \"Cylinders\": 4, \"Displacement\": 97.0, \"Horsepower\": 78, \"Weight\": 2300, \"Acceleration\": 14.5, \"Year\": 1974, \"Origin\": \"Europe\"}, {\"Name\": \"toyota corona\", \"MilesPerGal\": 31.0, \"Cylinders\": 4, \"Displacement\": 76.0, \"Horsepower\": 52, \"Weight\": 1649, \"Acceleration\": 16.5, \"Year\": 1974, \"Origin\": \"Japan\"}, {\"Name\": \"datsun 710\", \"MilesPerGal\": 32.0, \"Cylinders\": 4, \"Displacement\": 83.0, \"Horsepower\": 61, \"Weight\": 2003, \"Acceleration\": 19.0, \"Year\": 1974, \"Origin\": \"Japan\"}, {\"Name\": \"dodge colt\", \"MilesPerGal\": 28.0, \"Cylinders\": 4, \"Displacement\": 90.0, \"Horsepower\": 75, \"Weight\": 2125, \"Acceleration\": 14.5, \"Year\": 1974, \"Origin\": \"USA\"}, {\"Name\": \"fiat 128\", \"MilesPerGal\": 24.0, \"Cylinders\": 4, \"Displacement\": 90.0, \"Horsepower\": 75, \"Weight\": 2108, \"Acceleration\": 15.5, \"Year\": 1974, \"Origin\": \"Europe\"}, {\"Name\": \"fiat 124 tc\", \"MilesPerGal\": 26.0, \"Cylinders\": 4, \"Displacement\": 116.0, \"Horsepower\": 75, \"Weight\": 2246, \"Acceleration\": 14.0, \"Year\": 1974, \"Origin\": \"Europe\"}, {\"Name\": \"honda civic\", \"MilesPerGal\": 24.0, \"Cylinders\": 4, \"Displacement\": 120.0, \"Horsepower\": 97, \"Weight\": 2489, \"Acceleration\": 15.0, \"Year\": 1974, \"Origin\": \"Japan\"}, {\"Name\": \"subaru\", \"MilesPerGal\": 26.0, \"Cylinders\": 4, \"Displacement\": 108.0, \"Horsepower\": 93, \"Weight\": 2391, \"Acceleration\": 15.5, \"Year\": 1974, \"Origin\": \"Japan\"}, {\"Name\": \"fiat x1.9\", \"MilesPerGal\": 31.0, \"Cylinders\": 4, \"Displacement\": 79.0, \"Horsepower\": 67, \"Weight\": 2000, \"Acceleration\": 16.0, \"Year\": 1974, \"Origin\": \"Europe\"}, {\"Name\": \"plymouth valiant custom\", \"MilesPerGal\": 19.0, \"Cylinders\": 6, \"Displacement\": 225.0, \"Horsepower\": 95, \"Weight\": 3264, \"Acceleration\": 16.0, \"Year\": 1975, \"Origin\": \"USA\"}, {\"Name\": \"chevrolet nova\", \"MilesPerGal\": 18.0, \"Cylinders\": 6, \"Displacement\": 250.0, \"Horsepower\": 105, \"Weight\": 3459, \"Acceleration\": 16.0, \"Year\": 1975, \"Origin\": \"USA\"}, {\"Name\": \"mercury monarch\", \"MilesPerGal\": 15.0, \"Cylinders\": 6, \"Displacement\": 250.0, \"Horsepower\": 72, \"Weight\": 3432, \"Acceleration\": 21.0, \"Year\": 1975, \"Origin\": \"USA\"}, {\"Name\": \"ford maverick\", \"MilesPerGal\": 15.0, \"Cylinders\": 6, \"Displacement\": 250.0, \"Horsepower\": 72, \"Weight\": 3158, \"Acceleration\": 19.5, \"Year\": 1975, \"Origin\": \"USA\"}, {\"Name\": \"pontiac catalina\", \"MilesPerGal\": 16.0, \"Cylinders\": 8, \"Displacement\": 400.0, \"Horsepower\": 170, \"Weight\": 4668, \"Acceleration\": 11.5, \"Year\": 1975, \"Origin\": \"USA\"}, {\"Name\": \"chevrolet bel air\", \"MilesPerGal\": 15.0, \"Cylinders\": 8, \"Displacement\": 350.0, \"Horsepower\": 145, \"Weight\": 4440, \"Acceleration\": 14.0, \"Year\": 1975, \"Origin\": \"USA\"}, {\"Name\": \"plymouth grand fury\", \"MilesPerGal\": 16.0, \"Cylinders\": 8, \"Displacement\": 318.0, \"Horsepower\": 150, \"Weight\": 4498, \"Acceleration\": 14.5, \"Year\": 1975, \"Origin\": \"USA\"}, {\"Name\": \"ford ltd\", \"MilesPerGal\": 14.0, \"Cylinders\": 8, \"Displacement\": 351.0, \"Horsepower\": 148, \"Weight\": 4657, \"Acceleration\": 13.5, \"Year\": 1975, \"Origin\": \"USA\"}, {\"Name\": \"buick century\", \"MilesPerGal\": 17.0, \"Cylinders\": 6, \"Displacement\": 231.0, \"Horsepower\": 110, \"Weight\": 3907, \"Acceleration\": 21.0, \"Year\": 1975, \"Origin\": \"USA\"}, {\"Name\": \"chevroelt chevelle malibu\", \"MilesPerGal\": 16.0, \"Cylinders\": 6, \"Displacement\": 250.0, \"Horsepower\": 105, \"Weight\": 3897, \"Acceleration\": 18.5, \"Year\": 1975, \"Origin\": \"USA\"}, {\"Name\": \"amc matador\", \"MilesPerGal\": 15.0, \"Cylinders\": 6, \"Displacement\": 258.0, \"Horsepower\": 110, \"Weight\": 3730, \"Acceleration\": 19.0, \"Year\": 1975, \"Origin\": \"USA\"}, {\"Name\": \"plymouth fury\", \"MilesPerGal\": 18.0, \"Cylinders\": 6, \"Displacement\": 225.0, \"Horsepower\": 95, \"Weight\": 3785, \"Acceleration\": 19.0, \"Year\": 1975, \"Origin\": \"USA\"}, {\"Name\": \"buick skyhawk\", \"MilesPerGal\": 21.0, \"Cylinders\": 6, \"Displacement\": 231.0, \"Horsepower\": 110, \"Weight\": 3039, \"Acceleration\": 15.0, \"Year\": 1975, \"Origin\": \"USA\"}, {\"Name\": \"chevrolet monza 2+2\", \"MilesPerGal\": 20.0, \"Cylinders\": 8, \"Displacement\": 262.0, \"Horsepower\": 110, \"Weight\": 3221, \"Acceleration\": 13.5, \"Year\": 1975, \"Origin\": \"USA\"}, {\"Name\": \"ford mustang ii\", \"MilesPerGal\": 13.0, \"Cylinders\": 8, \"Displacement\": 302.0, \"Horsepower\": 129, \"Weight\": 3169, \"Acceleration\": 12.0, \"Year\": 1975, \"Origin\": \"USA\"}, {\"Name\": \"toyota corolla\", \"MilesPerGal\": 29.0, \"Cylinders\": 4, \"Displacement\": 97.0, \"Horsepower\": 75, \"Weight\": 2171, \"Acceleration\": 16.0, \"Year\": 1975, \"Origin\": \"Japan\"}, {\"Name\": \"ford pinto\", \"MilesPerGal\": 23.0, \"Cylinders\": 4, \"Displacement\": 140.0, \"Horsepower\": 83, \"Weight\": 2639, \"Acceleration\": 17.0, \"Year\": 1975, \"Origin\": \"USA\"}, {\"Name\": \"amc gremlin\", \"MilesPerGal\": 20.0, \"Cylinders\": 6, \"Displacement\": 232.0, \"Horsepower\": 100, \"Weight\": 2914, \"Acceleration\": 16.0, \"Year\": 1975, \"Origin\": \"USA\"}, {\"Name\": \"pontiac astro\", \"MilesPerGal\": 23.0, \"Cylinders\": 4, \"Displacement\": 140.0, \"Horsepower\": 78, \"Weight\": 2592, \"Acceleration\": 18.5, \"Year\": 1975, \"Origin\": \"USA\"}, {\"Name\": \"toyota corona\", \"MilesPerGal\": 24.0, \"Cylinders\": 4, \"Displacement\": 134.0, \"Horsepower\": 96, \"Weight\": 2702, \"Acceleration\": 13.5, \"Year\": 1975, \"Origin\": \"Japan\"}, {\"Name\": \"volkswagen dasher\", \"MilesPerGal\": 25.0, \"Cylinders\": 4, \"Displacement\": 90.0, \"Horsepower\": 71, \"Weight\": 2223, \"Acceleration\": 16.5, \"Year\": 1975, \"Origin\": \"Europe\"}, {\"Name\": \"datsun 710\", \"MilesPerGal\": 24.0, \"Cylinders\": 4, \"Displacement\": 119.0, \"Horsepower\": 97, \"Weight\": 2545, \"Acceleration\": 17.0, \"Year\": 1975, \"Origin\": \"Japan\"}, {\"Name\": \"ford pinto\", \"MilesPerGal\": 18.0, \"Cylinders\": 6, \"Displacement\": 171.0, \"Horsepower\": 97, \"Weight\": 2984, \"Acceleration\": 14.5, \"Year\": 1975, \"Origin\": \"USA\"}, {\"Name\": \"volkswagen rabbit\", \"MilesPerGal\": 29.0, \"Cylinders\": 4, \"Displacement\": 90.0, \"Horsepower\": 70, \"Weight\": 1937, \"Acceleration\": 14.0, \"Year\": 1975, \"Origin\": \"Europe\"}, {\"Name\": \"amc pacer\", \"MilesPerGal\": 19.0, \"Cylinders\": 6, \"Displacement\": 232.0, \"Horsepower\": 90, \"Weight\": 3211, \"Acceleration\": 17.0, \"Year\": 1975, \"Origin\": \"USA\"}, {\"Name\": \"audi 100ls\", \"MilesPerGal\": 23.0, \"Cylinders\": 4, \"Displacement\": 115.0, \"Horsepower\": 95, \"Weight\": 2694, \"Acceleration\": 15.0, \"Year\": 1975, \"Origin\": \"Europe\"}, {\"Name\": \"peugeot 504\", \"MilesPerGal\": 23.0, \"Cylinders\": 4, \"Displacement\": 120.0, \"Horsepower\": 88, \"Weight\": 2957, \"Acceleration\": 17.0, \"Year\": 1975, \"Origin\": \"Europe\"}, {\"Name\": \"volvo 244dl\", \"MilesPerGal\": 22.0, \"Cylinders\": 4, \"Displacement\": 121.0, \"Horsepower\": 98, \"Weight\": 2945, \"Acceleration\": 14.5, \"Year\": 1975, \"Origin\": \"Europe\"}, {\"Name\": \"saab 99le\", \"MilesPerGal\": 25.0, \"Cylinders\": 4, \"Displacement\": 121.0, \"Horsepower\": 115, \"Weight\": 2671, \"Acceleration\": 13.5, \"Year\": 1975, \"Origin\": \"Europe\"}, {\"Name\": \"honda civic cvcc\", \"MilesPerGal\": 33.0, \"Cylinders\": 4, \"Displacement\": 91.0, \"Horsepower\": 53, \"Weight\": 1795, \"Acceleration\": 17.5, \"Year\": 1975, \"Origin\": \"Japan\"}, {\"Name\": \"fiat 131\", \"MilesPerGal\": 28.0, \"Cylinders\": 4, \"Displacement\": 107.0, \"Horsepower\": 86, \"Weight\": 2464, \"Acceleration\": 15.5, \"Year\": 1976, \"Origin\": \"Europe\"}, {\"Name\": \"opel 1900\", \"MilesPerGal\": 25.0, \"Cylinders\": 4, \"Displacement\": 116.0, \"Horsepower\": 81, \"Weight\": 2220, \"Acceleration\": 16.9, \"Year\": 1976, \"Origin\": \"Europe\"}, {\"Name\": \"capri ii\", \"MilesPerGal\": 25.0, \"Cylinders\": 4, \"Displacement\": 140.0, \"Horsepower\": 92, \"Weight\": 2572, \"Acceleration\": 14.9, \"Year\": 1976, \"Origin\": \"USA\"}, {\"Name\": \"dodge colt\", \"MilesPerGal\": 26.0, \"Cylinders\": 4, \"Displacement\": 98.0, \"Horsepower\": 79, \"Weight\": 2255, \"Acceleration\": 17.7, \"Year\": 1976, \"Origin\": \"USA\"}, {\"Name\": \"renault 12tl\", \"MilesPerGal\": 27.0, \"Cylinders\": 4, \"Displacement\": 101.0, \"Horsepower\": 83, \"Weight\": 2202, \"Acceleration\": 15.3, \"Year\": 1976, \"Origin\": \"Europe\"}, {\"Name\": \"chevrolet chevelle malibu classic\", \"MilesPerGal\": 17.5, \"Cylinders\": 8, \"Displacement\": 305.0, \"Horsepower\": 140, \"Weight\": 4215, \"Acceleration\": 13.0, \"Year\": 1976, \"Origin\": \"USA\"}, {\"Name\": \"dodge coronet brougham\", \"MilesPerGal\": 16.0, \"Cylinders\": 8, \"Displacement\": 318.0, \"Horsepower\": 150, \"Weight\": 4190, \"Acceleration\": 13.0, \"Year\": 1976, \"Origin\": \"USA\"}, {\"Name\": \"amc matador\", \"MilesPerGal\": 15.5, \"Cylinders\": 8, \"Displacement\": 304.0, \"Horsepower\": 120, \"Weight\": 3962, \"Acceleration\": 13.9, \"Year\": 1976, \"Origin\": \"USA\"}, {\"Name\": \"ford gran torino\", \"MilesPerGal\": 14.5, \"Cylinders\": 8, \"Displacement\": 351.0, \"Horsepower\": 152, \"Weight\": 4215, \"Acceleration\": 12.8, \"Year\": 1976, \"Origin\": \"USA\"}, {\"Name\": \"plymouth valiant\", \"MilesPerGal\": 22.0, \"Cylinders\": 6, \"Displacement\": 225.0, \"Horsepower\": 100, \"Weight\": 3233, \"Acceleration\": 15.4, \"Year\": 1976, \"Origin\": \"USA\"}, {\"Name\": \"chevrolet nova\", \"MilesPerGal\": 22.0, \"Cylinders\": 6, \"Displacement\": 250.0, \"Horsepower\": 105, \"Weight\": 3353, \"Acceleration\": 14.5, \"Year\": 1976, \"Origin\": \"USA\"}, {\"Name\": \"ford maverick\", \"MilesPerGal\": 24.0, \"Cylinders\": 6, \"Displacement\": 200.0, \"Horsepower\": 81, \"Weight\": 3012, \"Acceleration\": 17.6, \"Year\": 1976, \"Origin\": \"USA\"}, {\"Name\": \"amc hornet\", \"MilesPerGal\": 22.5, \"Cylinders\": 6, \"Displacement\": 232.0, \"Horsepower\": 90, \"Weight\": 3085, \"Acceleration\": 17.6, \"Year\": 1976, \"Origin\": \"USA\"}, {\"Name\": \"chevrolet chevette\", \"MilesPerGal\": 29.0, \"Cylinders\": 4, \"Displacement\": 85.0, \"Horsepower\": 52, \"Weight\": 2035, \"Acceleration\": 22.2, \"Year\": 1976, \"Origin\": \"USA\"}, {\"Name\": \"chevrolet woody\", \"MilesPerGal\": 24.5, \"Cylinders\": 4, \"Displacement\": 98.0, \"Horsepower\": 60, \"Weight\": 2164, \"Acceleration\": 22.1, \"Year\": 1976, \"Origin\": \"USA\"}, {\"Name\": \"vw rabbit\", \"MilesPerGal\": 29.0, \"Cylinders\": 4, \"Displacement\": 90.0, \"Horsepower\": 70, \"Weight\": 1937, \"Acceleration\": 14.2, \"Year\": 1976, \"Origin\": \"Europe\"}, {\"Name\": \"honda civic\", \"MilesPerGal\": 33.0, \"Cylinders\": 4, \"Displacement\": 91.0, \"Horsepower\": 53, \"Weight\": 1795, \"Acceleration\": 17.4, \"Year\": 1976, \"Origin\": \"Japan\"}, {\"Name\": \"dodge aspen se\", \"MilesPerGal\": 20.0, \"Cylinders\": 6, \"Displacement\": 225.0, \"Horsepower\": 100, \"Weight\": 3651, \"Acceleration\": 17.7, \"Year\": 1976, \"Origin\": \"USA\"}, {\"Name\": \"ford granada ghia\", \"MilesPerGal\": 18.0, \"Cylinders\": 6, \"Displacement\": 250.0, \"Horsepower\": 78, \"Weight\": 3574, \"Acceleration\": 21.0, \"Year\": 1976, \"Origin\": \"USA\"}, {\"Name\": \"pontiac ventura sj\", \"MilesPerGal\": 18.5, \"Cylinders\": 6, \"Displacement\": 250.0, \"Horsepower\": 110, \"Weight\": 3645, \"Acceleration\": 16.2, \"Year\": 1976, \"Origin\": \"USA\"}, {\"Name\": \"amc pacer d/l\", \"MilesPerGal\": 17.5, \"Cylinders\": 6, \"Displacement\": 258.0, \"Horsepower\": 95, \"Weight\": 3193, \"Acceleration\": 17.8, \"Year\": 1976, \"Origin\": \"USA\"}, {\"Name\": \"volkswagen rabbit\", \"MilesPerGal\": 29.5, \"Cylinders\": 4, \"Displacement\": 97.0, \"Horsepower\": 71, \"Weight\": 1825, \"Acceleration\": 12.2, \"Year\": 1976, \"Origin\": \"Europe\"}, {\"Name\": \"datsun b-210\", \"MilesPerGal\": 32.0, \"Cylinders\": 4, \"Displacement\": 85.0, \"Horsepower\": 70, \"Weight\": 1990, \"Acceleration\": 17.0, \"Year\": 1976, \"Origin\": \"Japan\"}, {\"Name\": \"toyota corolla\", \"MilesPerGal\": 28.0, \"Cylinders\": 4, \"Displacement\": 97.0, \"Horsepower\": 75, \"Weight\": 2155, \"Acceleration\": 16.4, \"Year\": 1976, \"Origin\": \"Japan\"}, {\"Name\": \"ford pinto\", \"MilesPerGal\": 26.5, \"Cylinders\": 4, \"Displacement\": 140.0, \"Horsepower\": 72, \"Weight\": 2565, \"Acceleration\": 13.6, \"Year\": 1976, \"Origin\": \"USA\"}, {\"Name\": \"volvo 245\", \"MilesPerGal\": 20.0, \"Cylinders\": 4, \"Displacement\": 130.0, \"Horsepower\": 102, \"Weight\": 3150, \"Acceleration\": 15.7, \"Year\": 1976, \"Origin\": \"Europe\"}, {\"Name\": \"plymouth volare premier v8\", \"MilesPerGal\": 13.0, \"Cylinders\": 8, \"Displacement\": 318.0, \"Horsepower\": 150, \"Weight\": 3940, \"Acceleration\": 13.2, \"Year\": 1976, \"Origin\": \"USA\"}, {\"Name\": \"peugeot 504\", \"MilesPerGal\": 19.0, \"Cylinders\": 4, \"Displacement\": 120.0, \"Horsepower\": 88, \"Weight\": 3270, \"Acceleration\": 21.9, \"Year\": 1976, \"Origin\": \"Europe\"}, {\"Name\": \"toyota mark ii\", \"MilesPerGal\": 19.0, \"Cylinders\": 6, \"Displacement\": 156.0, \"Horsepower\": 108, \"Weight\": 2930, \"Acceleration\": 15.5, \"Year\": 1976, \"Origin\": \"Japan\"}, {\"Name\": \"mercedes-benz 280s\", \"MilesPerGal\": 16.5, \"Cylinders\": 6, \"Displacement\": 168.0, \"Horsepower\": 120, \"Weight\": 3820, \"Acceleration\": 16.7, \"Year\": 1976, \"Origin\": \"Europe\"}, {\"Name\": \"cadillac seville\", \"MilesPerGal\": 16.5, \"Cylinders\": 8, \"Displacement\": 350.0, \"Horsepower\": 180, \"Weight\": 4380, \"Acceleration\": 12.1, \"Year\": 1976, \"Origin\": \"USA\"}, {\"Name\": \"chevy c10\", \"MilesPerGal\": 13.0, \"Cylinders\": 8, \"Displacement\": 350.0, \"Horsepower\": 145, \"Weight\": 4055, \"Acceleration\": 12.0, \"Year\": 1976, \"Origin\": \"USA\"}, {\"Name\": \"ford f108\", \"MilesPerGal\": 13.0, \"Cylinders\": 8, \"Displacement\": 302.0, \"Horsepower\": 130, \"Weight\": 3870, \"Acceleration\": 15.0, \"Year\": 1976, \"Origin\": \"USA\"}, {\"Name\": \"dodge d100\", \"MilesPerGal\": 13.0, \"Cylinders\": 8, \"Displacement\": 318.0, \"Horsepower\": 150, \"Weight\": 3755, \"Acceleration\": 14.0, \"Year\": 1976, \"Origin\": \"USA\"}, {\"Name\": \"honda Accelerationord cvcc\", \"MilesPerGal\": 31.5, \"Cylinders\": 4, \"Displacement\": 98.0, \"Horsepower\": 68, \"Weight\": 2045, \"Acceleration\": 18.5, \"Year\": 1977, \"Origin\": \"Japan\"}, {\"Name\": \"buick opel isuzu deluxe\", \"MilesPerGal\": 30.0, \"Cylinders\": 4, \"Displacement\": 111.0, \"Horsepower\": 80, \"Weight\": 2155, \"Acceleration\": 14.8, \"Year\": 1977, \"Origin\": \"USA\"}, {\"Name\": \"renault 5 gtl\", \"MilesPerGal\": 36.0, \"Cylinders\": 4, \"Displacement\": 79.0, \"Horsepower\": 58, \"Weight\": 1825, \"Acceleration\": 18.6, \"Year\": 1977, \"Origin\": \"Europe\"}, {\"Name\": \"plymouth arrow gs\", \"MilesPerGal\": 25.5, \"Cylinders\": 4, \"Displacement\": 122.0, \"Horsepower\": 96, \"Weight\": 2300, \"Acceleration\": 15.5, \"Year\": 1977, \"Origin\": \"USA\"}, {\"Name\": \"datsun f-10 hatchback\", \"MilesPerGal\": 33.5, \"Cylinders\": 4, \"Displacement\": 85.0, \"Horsepower\": 70, \"Weight\": 1945, \"Acceleration\": 16.8, \"Year\": 1977, \"Origin\": \"Japan\"}, {\"Name\": \"chevrolet caprice classic\", \"MilesPerGal\": 17.5, \"Cylinders\": 8, \"Displacement\": 305.0, \"Horsepower\": 145, \"Weight\": 3880, \"Acceleration\": 12.5, \"Year\": 1977, \"Origin\": \"USA\"}, {\"Name\": \"oldsmobile cutlass supreme\", \"MilesPerGal\": 17.0, \"Cylinders\": 8, \"Displacement\": 260.0, \"Horsepower\": 110, \"Weight\": 4060, \"Acceleration\": 19.0, \"Year\": 1977, \"Origin\": \"USA\"}, {\"Name\": \"dodge monaco brougham\", \"MilesPerGal\": 15.5, \"Cylinders\": 8, \"Displacement\": 318.0, \"Horsepower\": 145, \"Weight\": 4140, \"Acceleration\": 13.7, \"Year\": 1977, \"Origin\": \"USA\"}, {\"Name\": \"mercury cougar brougham\", \"MilesPerGal\": 15.0, \"Cylinders\": 8, \"Displacement\": 302.0, \"Horsepower\": 130, \"Weight\": 4295, \"Acceleration\": 14.9, \"Year\": 1977, \"Origin\": \"USA\"}, {\"Name\": \"chevrolet concours\", \"MilesPerGal\": 17.5, \"Cylinders\": 6, \"Displacement\": 250.0, \"Horsepower\": 110, \"Weight\": 3520, \"Acceleration\": 16.4, \"Year\": 1977, \"Origin\": \"USA\"}, {\"Name\": \"buick skylark\", \"MilesPerGal\": 20.5, \"Cylinders\": 6, \"Displacement\": 231.0, \"Horsepower\": 105, \"Weight\": 3425, \"Acceleration\": 16.9, \"Year\": 1977, \"Origin\": \"USA\"}, {\"Name\": \"plymouth volare custom\", \"MilesPerGal\": 19.0, \"Cylinders\": 6, \"Displacement\": 225.0, \"Horsepower\": 100, \"Weight\": 3630, \"Acceleration\": 17.7, \"Year\": 1977, \"Origin\": \"USA\"}, {\"Name\": \"ford granada\", \"MilesPerGal\": 18.5, \"Cylinders\": 6, \"Displacement\": 250.0, \"Horsepower\": 98, \"Weight\": 3525, \"Acceleration\": 19.0, \"Year\": 1977, \"Origin\": \"USA\"}, {\"Name\": \"pontiac grand prix lj\", \"MilesPerGal\": 16.0, \"Cylinders\": 8, \"Displacement\": 400.0, \"Horsepower\": 180, \"Weight\": 4220, \"Acceleration\": 11.1, \"Year\": 1977, \"Origin\": \"USA\"}, {\"Name\": \"chevrolet monte carlo landau\", \"MilesPerGal\": 15.5, \"Cylinders\": 8, \"Displacement\": 350.0, \"Horsepower\": 170, \"Weight\": 4165, \"Acceleration\": 11.4, \"Year\": 1977, \"Origin\": \"USA\"}, {\"Name\": \"chrysler cordoba\", \"MilesPerGal\": 15.5, \"Cylinders\": 8, \"Displacement\": 400.0, \"Horsepower\": 190, \"Weight\": 4325, \"Acceleration\": 12.2, \"Year\": 1977, \"Origin\": \"USA\"}, {\"Name\": \"ford thunderbird\", \"MilesPerGal\": 16.0, \"Cylinders\": 8, \"Displacement\": 351.0, \"Horsepower\": 149, \"Weight\": 4335, \"Acceleration\": 14.5, \"Year\": 1977, \"Origin\": \"USA\"}, {\"Name\": \"volkswagen rabbit custom\", \"MilesPerGal\": 29.0, \"Cylinders\": 4, \"Displacement\": 97.0, \"Horsepower\": 78, \"Weight\": 1940, \"Acceleration\": 14.5, \"Year\": 1977, \"Origin\": \"Europe\"}, {\"Name\": \"pontiac sunbird coupe\", \"MilesPerGal\": 24.5, \"Cylinders\": 4, \"Displacement\": 151.0, \"Horsepower\": 88, \"Weight\": 2740, \"Acceleration\": 16.0, \"Year\": 1977, \"Origin\": \"USA\"}, {\"Name\": \"toyota corolla liftback\", \"MilesPerGal\": 26.0, \"Cylinders\": 4, \"Displacement\": 97.0, \"Horsepower\": 75, \"Weight\": 2265, \"Acceleration\": 18.2, \"Year\": 1977, \"Origin\": \"Japan\"}, {\"Name\": \"ford mustang ii 2+2\", \"MilesPerGal\": 25.5, \"Cylinders\": 4, \"Displacement\": 140.0, \"Horsepower\": 89, \"Weight\": 2755, \"Acceleration\": 15.8, \"Year\": 1977, \"Origin\": \"USA\"}, {\"Name\": \"chevrolet chevette\", \"MilesPerGal\": 30.5, \"Cylinders\": 4, \"Displacement\": 98.0, \"Horsepower\": 63, \"Weight\": 2051, \"Acceleration\": 17.0, \"Year\": 1977, \"Origin\": \"USA\"}, {\"Name\": \"dodge colt m/m\", \"MilesPerGal\": 33.5, \"Cylinders\": 4, \"Displacement\": 98.0, \"Horsepower\": 83, \"Weight\": 2075, \"Acceleration\": 15.9, \"Year\": 1977, \"Origin\": \"USA\"}, {\"Name\": \"subaru dl\", \"MilesPerGal\": 30.0, \"Cylinders\": 4, \"Displacement\": 97.0, \"Horsepower\": 67, \"Weight\": 1985, \"Acceleration\": 16.4, \"Year\": 1977, \"Origin\": \"Japan\"}, {\"Name\": \"volkswagen dasher\", \"MilesPerGal\": 30.5, \"Cylinders\": 4, \"Displacement\": 97.0, \"Horsepower\": 78, \"Weight\": 2190, \"Acceleration\": 14.1, \"Year\": 1977, \"Origin\": \"Europe\"}, {\"Name\": \"datsun 810\", \"MilesPerGal\": 22.0, \"Cylinders\": 6, \"Displacement\": 146.0, \"Horsepower\": 97, \"Weight\": 2815, \"Acceleration\": 14.5, \"Year\": 1977, \"Origin\": \"Japan\"}, {\"Name\": \"bmw 320i\", \"MilesPerGal\": 21.5, \"Cylinders\": 4, \"Displacement\": 121.0, \"Horsepower\": 110, \"Weight\": 2600, \"Acceleration\": 12.8, \"Year\": 1977, \"Origin\": \"Europe\"}, {\"Name\": \"mazda rx-4\", \"MilesPerGal\": 21.5, \"Cylinders\": 3, \"Displacement\": 80.0, \"Horsepower\": 110, \"Weight\": 2720, \"Acceleration\": 13.5, \"Year\": 1977, \"Origin\": \"Japan\"}, {\"Name\": \"volkswagen rabbit custom diesel\", \"MilesPerGal\": 43.1, \"Cylinders\": 4, \"Displacement\": 90.0, \"Horsepower\": 48, \"Weight\": 1985, \"Acceleration\": 21.5, \"Year\": 1978, \"Origin\": \"Europe\"}, {\"Name\": \"ford fiesta\", \"MilesPerGal\": 36.1, \"Cylinders\": 4, \"Displacement\": 98.0, \"Horsepower\": 66, \"Weight\": 1800, \"Acceleration\": 14.4, \"Year\": 1978, \"Origin\": \"USA\"}, {\"Name\": \"mazda glc deluxe\", \"MilesPerGal\": 32.8, \"Cylinders\": 4, \"Displacement\": 78.0, \"Horsepower\": 52, \"Weight\": 1985, \"Acceleration\": 19.4, \"Year\": 1978, \"Origin\": \"Japan\"}, {\"Name\": \"datsun b210 gx\", \"MilesPerGal\": 39.4, \"Cylinders\": 4, \"Displacement\": 85.0, \"Horsepower\": 70, \"Weight\": 2070, \"Acceleration\": 18.6, \"Year\": 1978, \"Origin\": \"Japan\"}, {\"Name\": \"honda civic cvcc\", \"MilesPerGal\": 36.1, \"Cylinders\": 4, \"Displacement\": 91.0, \"Horsepower\": 60, \"Weight\": 1800, \"Acceleration\": 16.4, \"Year\": 1978, \"Origin\": \"Japan\"}, {\"Name\": \"oldsmobile cutlass salon brougham\", \"MilesPerGal\": 19.9, \"Cylinders\": 8, \"Displacement\": 260.0, \"Horsepower\": 110, \"Weight\": 3365, \"Acceleration\": 15.5, \"Year\": 1978, \"Origin\": \"USA\"}, {\"Name\": \"dodge diplomat\", \"MilesPerGal\": 19.4, \"Cylinders\": 8, \"Displacement\": 318.0, \"Horsepower\": 140, \"Weight\": 3735, \"Acceleration\": 13.2, \"Year\": 1978, \"Origin\": \"USA\"}, {\"Name\": \"mercury monarch ghia\", \"MilesPerGal\": 20.2, \"Cylinders\": 8, \"Displacement\": 302.0, \"Horsepower\": 139, \"Weight\": 3570, \"Acceleration\": 12.8, \"Year\": 1978, \"Origin\": \"USA\"}, {\"Name\": \"pontiac phoenix lj\", \"MilesPerGal\": 19.2, \"Cylinders\": 6, \"Displacement\": 231.0, \"Horsepower\": 105, \"Weight\": 3535, \"Acceleration\": 19.2, \"Year\": 1978, \"Origin\": \"USA\"}, {\"Name\": \"chevrolet malibu\", \"MilesPerGal\": 20.5, \"Cylinders\": 6, \"Displacement\": 200.0, \"Horsepower\": 95, \"Weight\": 3155, \"Acceleration\": 18.2, \"Year\": 1978, \"Origin\": \"USA\"}, {\"Name\": \"ford fairmont (auto)\", \"MilesPerGal\": 20.2, \"Cylinders\": 6, \"Displacement\": 200.0, \"Horsepower\": 85, \"Weight\": 2965, \"Acceleration\": 15.8, \"Year\": 1978, \"Origin\": \"USA\"}, {\"Name\": \"ford fairmont (man)\", \"MilesPerGal\": 25.1, \"Cylinders\": 4, \"Displacement\": 140.0, \"Horsepower\": 88, \"Weight\": 2720, \"Acceleration\": 15.4, \"Year\": 1978, \"Origin\": \"USA\"}, {\"Name\": \"plymouth volare\", \"MilesPerGal\": 20.5, \"Cylinders\": 6, \"Displacement\": 225.0, \"Horsepower\": 100, \"Weight\": 3430, \"Acceleration\": 17.2, \"Year\": 1978, \"Origin\": \"USA\"}, {\"Name\": \"amc concord\", \"MilesPerGal\": 19.4, \"Cylinders\": 6, \"Displacement\": 232.0, \"Horsepower\": 90, \"Weight\": 3210, \"Acceleration\": 17.2, \"Year\": 1978, \"Origin\": \"USA\"}, {\"Name\": \"buick century special\", \"MilesPerGal\": 20.6, \"Cylinders\": 6, \"Displacement\": 231.0, \"Horsepower\": 105, \"Weight\": 3380, \"Acceleration\": 15.8, \"Year\": 1978, \"Origin\": \"USA\"}, {\"Name\": \"mercury zephyr\", \"MilesPerGal\": 20.8, \"Cylinders\": 6, \"Displacement\": 200.0, \"Horsepower\": 85, \"Weight\": 3070, \"Acceleration\": 16.7, \"Year\": 1978, \"Origin\": \"USA\"}, {\"Name\": \"dodge aspen\", \"MilesPerGal\": 18.6, \"Cylinders\": 6, \"Displacement\": 225.0, \"Horsepower\": 110, \"Weight\": 3620, \"Acceleration\": 18.7, \"Year\": 1978, \"Origin\": \"USA\"}, {\"Name\": \"amc concord d/l\", \"MilesPerGal\": 18.1, \"Cylinders\": 6, \"Displacement\": 258.0, \"Horsepower\": 120, \"Weight\": 3410, \"Acceleration\": 15.1, \"Year\": 1978, \"Origin\": \"USA\"}, {\"Name\": \"chevrolet monte carlo landau\", \"MilesPerGal\": 19.2, \"Cylinders\": 8, \"Displacement\": 305.0, \"Horsepower\": 145, \"Weight\": 3425, \"Acceleration\": 13.2, \"Year\": 1978, \"Origin\": \"USA\"}, {\"Name\": \"buick regal sport coupe (turbo)\", \"MilesPerGal\": 17.7, \"Cylinders\": 6, \"Displacement\": 231.0, \"Horsepower\": 165, \"Weight\": 3445, \"Acceleration\": 13.4, \"Year\": 1978, \"Origin\": \"USA\"}, {\"Name\": \"ford futura\", \"MilesPerGal\": 18.1, \"Cylinders\": 8, \"Displacement\": 302.0, \"Horsepower\": 139, \"Weight\": 3205, \"Acceleration\": 11.2, \"Year\": 1978, \"Origin\": \"USA\"}, {\"Name\": \"dodge magnum xe\", \"MilesPerGal\": 17.5, \"Cylinders\": 8, \"Displacement\": 318.0, \"Horsepower\": 140, \"Weight\": 4080, \"Acceleration\": 13.7, \"Year\": 1978, \"Origin\": \"USA\"}, {\"Name\": \"chevrolet chevette\", \"MilesPerGal\": 30.0, \"Cylinders\": 4, \"Displacement\": 98.0, \"Horsepower\": 68, \"Weight\": 2155, \"Acceleration\": 16.5, \"Year\": 1978, \"Origin\": \"USA\"}, {\"Name\": \"toyota corona\", \"MilesPerGal\": 27.5, \"Cylinders\": 4, \"Displacement\": 134.0, \"Horsepower\": 95, \"Weight\": 2560, \"Acceleration\": 14.2, \"Year\": 1978, \"Origin\": \"Japan\"}, {\"Name\": \"datsun 510\", \"MilesPerGal\": 27.2, \"Cylinders\": 4, \"Displacement\": 119.0, \"Horsepower\": 97, \"Weight\": 2300, \"Acceleration\": 14.7, \"Year\": 1978, \"Origin\": \"Japan\"}, {\"Name\": \"dodge omni\", \"MilesPerGal\": 30.9, \"Cylinders\": 4, \"Displacement\": 105.0, \"Horsepower\": 75, \"Weight\": 2230, \"Acceleration\": 14.5, \"Year\": 1978, \"Origin\": \"USA\"}, {\"Name\": \"toyota celica gt liftback\", \"MilesPerGal\": 21.1, \"Cylinders\": 4, \"Displacement\": 134.0, \"Horsepower\": 95, \"Weight\": 2515, \"Acceleration\": 14.8, \"Year\": 1978, \"Origin\": \"Japan\"}, {\"Name\": \"plymouth sapporo\", \"MilesPerGal\": 23.2, \"Cylinders\": 4, \"Displacement\": 156.0, \"Horsepower\": 105, \"Weight\": 2745, \"Acceleration\": 16.7, \"Year\": 1978, \"Origin\": \"USA\"}, {\"Name\": \"oldsmobile starfire sx\", \"MilesPerGal\": 23.8, \"Cylinders\": 4, \"Displacement\": 151.0, \"Horsepower\": 85, \"Weight\": 2855, \"Acceleration\": 17.6, \"Year\": 1978, \"Origin\": \"USA\"}, {\"Name\": \"datsun 200-sx\", \"MilesPerGal\": 23.9, \"Cylinders\": 4, \"Displacement\": 119.0, \"Horsepower\": 97, \"Weight\": 2405, \"Acceleration\": 14.9, \"Year\": 1978, \"Origin\": \"Japan\"}, {\"Name\": \"audi 5000\", \"MilesPerGal\": 20.3, \"Cylinders\": 5, \"Displacement\": 131.0, \"Horsepower\": 103, \"Weight\": 2830, \"Acceleration\": 15.9, \"Year\": 1978, \"Origin\": \"Europe\"}, {\"Name\": \"volvo 264gl\", \"MilesPerGal\": 17.0, \"Cylinders\": 6, \"Displacement\": 163.0, \"Horsepower\": 125, \"Weight\": 3140, \"Acceleration\": 13.6, \"Year\": 1978, \"Origin\": \"Europe\"}, {\"Name\": \"saab 99gle\", \"MilesPerGal\": 21.6, \"Cylinders\": 4, \"Displacement\": 121.0, \"Horsepower\": 115, \"Weight\": 2795, \"Acceleration\": 15.7, \"Year\": 1978, \"Origin\": \"Europe\"}, {\"Name\": \"peugeot 604sl\", \"MilesPerGal\": 16.2, \"Cylinders\": 6, \"Displacement\": 163.0, \"Horsepower\": 133, \"Weight\": 3410, \"Acceleration\": 15.8, \"Year\": 1978, \"Origin\": \"Europe\"}, {\"Name\": \"volkswagen scirocco\", \"MilesPerGal\": 31.5, \"Cylinders\": 4, \"Displacement\": 89.0, \"Horsepower\": 71, \"Weight\": 1990, \"Acceleration\": 14.9, \"Year\": 1978, \"Origin\": \"Europe\"}, {\"Name\": \"honda Accelerationord lx\", \"MilesPerGal\": 29.5, \"Cylinders\": 4, \"Displacement\": 98.0, \"Horsepower\": 68, \"Weight\": 2135, \"Acceleration\": 16.6, \"Year\": 1978, \"Origin\": \"Japan\"}, {\"Name\": \"pontiac lemans v6\", \"MilesPerGal\": 21.5, \"Cylinders\": 6, \"Displacement\": 231.0, \"Horsepower\": 115, \"Weight\": 3245, \"Acceleration\": 15.4, \"Year\": 1979, \"Origin\": \"USA\"}, {\"Name\": \"mercury zephyr 6\", \"MilesPerGal\": 19.8, \"Cylinders\": 6, \"Displacement\": 200.0, \"Horsepower\": 85, \"Weight\": 2990, \"Acceleration\": 18.2, \"Year\": 1979, \"Origin\": \"USA\"}, {\"Name\": \"ford fairmont 4\", \"MilesPerGal\": 22.3, \"Cylinders\": 4, \"Displacement\": 140.0, \"Horsepower\": 88, \"Weight\": 2890, \"Acceleration\": 17.3, \"Year\": 1979, \"Origin\": \"USA\"}, {\"Name\": \"amc concord dl 6\", \"MilesPerGal\": 20.2, \"Cylinders\": 6, \"Displacement\": 232.0, \"Horsepower\": 90, \"Weight\": 3265, \"Acceleration\": 18.2, \"Year\": 1979, \"Origin\": \"USA\"}, {\"Name\": \"dodge aspen 6\", \"MilesPerGal\": 20.6, \"Cylinders\": 6, \"Displacement\": 225.0, \"Horsepower\": 110, \"Weight\": 3360, \"Acceleration\": 16.6, \"Year\": 1979, \"Origin\": \"USA\"}, {\"Name\": \"chevrolet caprice classic\", \"MilesPerGal\": 17.0, \"Cylinders\": 8, \"Displacement\": 305.0, \"Horsepower\": 130, \"Weight\": 3840, \"Acceleration\": 15.4, \"Year\": 1979, \"Origin\": \"USA\"}, {\"Name\": \"ford ltd landau\", \"MilesPerGal\": 17.6, \"Cylinders\": 8, \"Displacement\": 302.0, \"Horsepower\": 129, \"Weight\": 3725, \"Acceleration\": 13.4, \"Year\": 1979, \"Origin\": \"USA\"}, {\"Name\": \"mercury grand marquis\", \"MilesPerGal\": 16.5, \"Cylinders\": 8, \"Displacement\": 351.0, \"Horsepower\": 138, \"Weight\": 3955, \"Acceleration\": 13.2, \"Year\": 1979, \"Origin\": \"USA\"}, {\"Name\": \"dodge st. regis\", \"MilesPerGal\": 18.2, \"Cylinders\": 8, \"Displacement\": 318.0, \"Horsepower\": 135, \"Weight\": 3830, \"Acceleration\": 15.2, \"Year\": 1979, \"Origin\": \"USA\"}, {\"Name\": \"buick estate wagon (sw)\", \"MilesPerGal\": 16.9, \"Cylinders\": 8, \"Displacement\": 350.0, \"Horsepower\": 155, \"Weight\": 4360, \"Acceleration\": 14.9, \"Year\": 1979, \"Origin\": \"USA\"}, {\"Name\": \"ford country squire (sw)\", \"MilesPerGal\": 15.5, \"Cylinders\": 8, \"Displacement\": 351.0, \"Horsepower\": 142, \"Weight\": 4054, \"Acceleration\": 14.3, \"Year\": 1979, \"Origin\": \"USA\"}, {\"Name\": \"chevrolet malibu classic (sw)\", \"MilesPerGal\": 19.2, \"Cylinders\": 8, \"Displacement\": 267.0, \"Horsepower\": 125, \"Weight\": 3605, \"Acceleration\": 15.0, \"Year\": 1979, \"Origin\": \"USA\"}, {\"Name\": \"chrysler lebaron town @ country (sw)\", \"MilesPerGal\": 18.5, \"Cylinders\": 8, \"Displacement\": 360.0, \"Horsepower\": 150, \"Weight\": 3940, \"Acceleration\": 13.0, \"Year\": 1979, \"Origin\": \"USA\"}, {\"Name\": \"vw rabbit custom\", \"MilesPerGal\": 31.9, \"Cylinders\": 4, \"Displacement\": 89.0, \"Horsepower\": 71, \"Weight\": 1925, \"Acceleration\": 14.0, \"Year\": 1979, \"Origin\": \"Europe\"}, {\"Name\": \"maxda glc deluxe\", \"MilesPerGal\": 34.1, \"Cylinders\": 4, \"Displacement\": 86.0, \"Horsepower\": 65, \"Weight\": 1975, \"Acceleration\": 15.2, \"Year\": 1979, \"Origin\": \"Japan\"}, {\"Name\": \"dodge colt hatchback custom\", \"MilesPerGal\": 35.7, \"Cylinders\": 4, \"Displacement\": 98.0, \"Horsepower\": 80, \"Weight\": 1915, \"Acceleration\": 14.4, \"Year\": 1979, \"Origin\": \"USA\"}, {\"Name\": \"amc spirit dl\", \"MilesPerGal\": 27.4, \"Cylinders\": 4, \"Displacement\": 121.0, \"Horsepower\": 80, \"Weight\": 2670, \"Acceleration\": 15.0, \"Year\": 1979, \"Origin\": \"USA\"}, {\"Name\": \"mercedes benz 300d\", \"MilesPerGal\": 25.4, \"Cylinders\": 5, \"Displacement\": 183.0, \"Horsepower\": 77, \"Weight\": 3530, \"Acceleration\": 20.1, \"Year\": 1979, \"Origin\": \"Europe\"}, {\"Name\": \"cadillac eldorado\", \"MilesPerGal\": 23.0, \"Cylinders\": 8, \"Displacement\": 350.0, \"Horsepower\": 125, \"Weight\": 3900, \"Acceleration\": 17.4, \"Year\": 1979, \"Origin\": \"USA\"}, {\"Name\": \"peugeot 504\", \"MilesPerGal\": 27.2, \"Cylinders\": 4, \"Displacement\": 141.0, \"Horsepower\": 71, \"Weight\": 3190, \"Acceleration\": 24.8, \"Year\": 1979, \"Origin\": \"Europe\"}, {\"Name\": \"oldsmobile cutlass salon brougham\", \"MilesPerGal\": 23.9, \"Cylinders\": 8, \"Displacement\": 260.0, \"Horsepower\": 90, \"Weight\": 3420, \"Acceleration\": 22.2, \"Year\": 1979, \"Origin\": \"USA\"}, {\"Name\": \"plymouth horizon\", \"MilesPerGal\": 34.2, \"Cylinders\": 4, \"Displacement\": 105.0, \"Horsepower\": 70, \"Weight\": 2200, \"Acceleration\": 13.2, \"Year\": 1979, \"Origin\": \"USA\"}, {\"Name\": \"plymouth horizon tc3\", \"MilesPerGal\": 34.5, \"Cylinders\": 4, \"Displacement\": 105.0, \"Horsepower\": 70, \"Weight\": 2150, \"Acceleration\": 14.9, \"Year\": 1979, \"Origin\": \"USA\"}, {\"Name\": \"datsun 210\", \"MilesPerGal\": 31.8, \"Cylinders\": 4, \"Displacement\": 85.0, \"Horsepower\": 65, \"Weight\": 2020, \"Acceleration\": 19.2, \"Year\": 1979, \"Origin\": \"Japan\"}, {\"Name\": \"fiat strada custom\", \"MilesPerGal\": 37.3, \"Cylinders\": 4, \"Displacement\": 91.0, \"Horsepower\": 69, \"Weight\": 2130, \"Acceleration\": 14.7, \"Year\": 1979, \"Origin\": \"Europe\"}, {\"Name\": \"buick skylark limited\", \"MilesPerGal\": 28.4, \"Cylinders\": 4, \"Displacement\": 151.0, \"Horsepower\": 90, \"Weight\": 2670, \"Acceleration\": 16.0, \"Year\": 1979, \"Origin\": \"USA\"}, {\"Name\": \"chevrolet citation\", \"MilesPerGal\": 28.8, \"Cylinders\": 6, \"Displacement\": 173.0, \"Horsepower\": 115, \"Weight\": 2595, \"Acceleration\": 11.3, \"Year\": 1979, \"Origin\": \"USA\"}, {\"Name\": \"oldsmobile omega brougham\", \"MilesPerGal\": 26.8, \"Cylinders\": 6, \"Displacement\": 173.0, \"Horsepower\": 115, \"Weight\": 2700, \"Acceleration\": 12.9, \"Year\": 1979, \"Origin\": \"USA\"}, {\"Name\": \"pontiac phoenix\", \"MilesPerGal\": 33.5, \"Cylinders\": 4, \"Displacement\": 151.0, \"Horsepower\": 90, \"Weight\": 2556, \"Acceleration\": 13.2, \"Year\": 1979, \"Origin\": \"USA\"}, {\"Name\": \"vw rabbit\", \"MilesPerGal\": 41.5, \"Cylinders\": 4, \"Displacement\": 98.0, \"Horsepower\": 76, \"Weight\": 2144, \"Acceleration\": 14.7, \"Year\": 1980, \"Origin\": \"Europe\"}, {\"Name\": \"toyota corolla tercel\", \"MilesPerGal\": 38.1, \"Cylinders\": 4, \"Displacement\": 89.0, \"Horsepower\": 60, \"Weight\": 1968, \"Acceleration\": 18.8, \"Year\": 1980, \"Origin\": \"Japan\"}, {\"Name\": \"chevrolet chevette\", \"MilesPerGal\": 32.1, \"Cylinders\": 4, \"Displacement\": 98.0, \"Horsepower\": 70, \"Weight\": 2120, \"Acceleration\": 15.5, \"Year\": 1980, \"Origin\": \"USA\"}, {\"Name\": \"datsun 310\", \"MilesPerGal\": 37.2, \"Cylinders\": 4, \"Displacement\": 86.0, \"Horsepower\": 65, \"Weight\": 2019, \"Acceleration\": 16.4, \"Year\": 1980, \"Origin\": \"Japan\"}, {\"Name\": \"chevrolet citation\", \"MilesPerGal\": 28.0, \"Cylinders\": 4, \"Displacement\": 151.0, \"Horsepower\": 90, \"Weight\": 2678, \"Acceleration\": 16.5, \"Year\": 1980, \"Origin\": \"USA\"}, {\"Name\": \"ford fairmont\", \"MilesPerGal\": 26.4, \"Cylinders\": 4, \"Displacement\": 140.0, \"Horsepower\": 88, \"Weight\": 2870, \"Acceleration\": 18.1, \"Year\": 1980, \"Origin\": \"USA\"}, {\"Name\": \"amc concord\", \"MilesPerGal\": 24.3, \"Cylinders\": 4, \"Displacement\": 151.0, \"Horsepower\": 90, \"Weight\": 3003, \"Acceleration\": 20.1, \"Year\": 1980, \"Origin\": \"USA\"}, {\"Name\": \"dodge aspen\", \"MilesPerGal\": 19.1, \"Cylinders\": 6, \"Displacement\": 225.0, \"Horsepower\": 90, \"Weight\": 3381, \"Acceleration\": 18.7, \"Year\": 1980, \"Origin\": \"USA\"}, {\"Name\": \"audi 4000\", \"MilesPerGal\": 34.3, \"Cylinders\": 4, \"Displacement\": 97.0, \"Horsepower\": 78, \"Weight\": 2188, \"Acceleration\": 15.8, \"Year\": 1980, \"Origin\": \"Europe\"}, {\"Name\": \"toyota corona liftback\", \"MilesPerGal\": 29.8, \"Cylinders\": 4, \"Displacement\": 134.0, \"Horsepower\": 90, \"Weight\": 2711, \"Acceleration\": 15.5, \"Year\": 1980, \"Origin\": \"Japan\"}, {\"Name\": \"mazda 626\", \"MilesPerGal\": 31.3, \"Cylinders\": 4, \"Displacement\": 120.0, \"Horsepower\": 75, \"Weight\": 2542, \"Acceleration\": 17.5, \"Year\": 1980, \"Origin\": \"Japan\"}, {\"Name\": \"datsun 510 hatchback\", \"MilesPerGal\": 37.0, \"Cylinders\": 4, \"Displacement\": 119.0, \"Horsepower\": 92, \"Weight\": 2434, \"Acceleration\": 15.0, \"Year\": 1980, \"Origin\": \"Japan\"}, {\"Name\": \"toyota corolla\", \"MilesPerGal\": 32.2, \"Cylinders\": 4, \"Displacement\": 108.0, \"Horsepower\": 75, \"Weight\": 2265, \"Acceleration\": 15.2, \"Year\": 1980, \"Origin\": \"Japan\"}, {\"Name\": \"mazda glc\", \"MilesPerGal\": 46.6, \"Cylinders\": 4, \"Displacement\": 86.0, \"Horsepower\": 65, \"Weight\": 2110, \"Acceleration\": 17.9, \"Year\": 1980, \"Origin\": \"Japan\"}, {\"Name\": \"dodge colt\", \"MilesPerGal\": 27.9, \"Cylinders\": 4, \"Displacement\": 156.0, \"Horsepower\": 105, \"Weight\": 2800, \"Acceleration\": 14.4, \"Year\": 1980, \"Origin\": \"USA\"}, {\"Name\": \"datsun 210\", \"MilesPerGal\": 40.8, \"Cylinders\": 4, \"Displacement\": 85.0, \"Horsepower\": 65, \"Weight\": 2110, \"Acceleration\": 19.2, \"Year\": 1980, \"Origin\": \"Japan\"}, {\"Name\": \"vw rabbit c (diesel)\", \"MilesPerGal\": 44.3, \"Cylinders\": 4, \"Displacement\": 90.0, \"Horsepower\": 48, \"Weight\": 2085, \"Acceleration\": 21.7, \"Year\": 1980, \"Origin\": \"Europe\"}, {\"Name\": \"vw dasher (diesel)\", \"MilesPerGal\": 43.4, \"Cylinders\": 4, \"Displacement\": 90.0, \"Horsepower\": 48, \"Weight\": 2335, \"Acceleration\": 23.7, \"Year\": 1980, \"Origin\": \"Europe\"}, {\"Name\": \"audi 5000s (diesel)\", \"MilesPerGal\": 36.4, \"Cylinders\": 5, \"Displacement\": 121.0, \"Horsepower\": 67, \"Weight\": 2950, \"Acceleration\": 19.9, \"Year\": 1980, \"Origin\": \"Europe\"}, {\"Name\": \"mercedes-benz 240d\", \"MilesPerGal\": 30.0, \"Cylinders\": 4, \"Displacement\": 146.0, \"Horsepower\": 67, \"Weight\": 3250, \"Acceleration\": 21.8, \"Year\": 1980, \"Origin\": \"Europe\"}, {\"Name\": \"honda civic 1500 gl\", \"MilesPerGal\": 44.6, \"Cylinders\": 4, \"Displacement\": 91.0, \"Horsepower\": 67, \"Weight\": 1850, \"Acceleration\": 13.8, \"Year\": 1980, \"Origin\": \"Japan\"}, {\"Name\": \"subaru dl\", \"MilesPerGal\": 33.8, \"Cylinders\": 4, \"Displacement\": 97.0, \"Horsepower\": 67, \"Weight\": 2145, \"Acceleration\": 18.0, \"Year\": 1980, \"Origin\": \"Japan\"}, {\"Name\": \"vokswagen rabbit\", \"MilesPerGal\": 29.8, \"Cylinders\": 4, \"Displacement\": 89.0, \"Horsepower\": 62, \"Weight\": 1845, \"Acceleration\": 15.3, \"Year\": 1980, \"Origin\": \"Europe\"}, {\"Name\": \"datsun 280-zx\", \"MilesPerGal\": 32.7, \"Cylinders\": 6, \"Displacement\": 168.0, \"Horsepower\": 132, \"Weight\": 2910, \"Acceleration\": 11.4, \"Year\": 1980, \"Origin\": \"Japan\"}, {\"Name\": \"mazda rx-7 gs\", \"MilesPerGal\": 23.7, \"Cylinders\": 3, \"Displacement\": 70.0, \"Horsepower\": 100, \"Weight\": 2420, \"Acceleration\": 12.5, \"Year\": 1980, \"Origin\": \"Japan\"}, {\"Name\": \"triumph tr7 coupe\", \"MilesPerGal\": 35.0, \"Cylinders\": 4, \"Displacement\": 122.0, \"Horsepower\": 88, \"Weight\": 2500, \"Acceleration\": 15.1, \"Year\": 1980, \"Origin\": \"Europe\"}, {\"Name\": \"honda Accelerationord\", \"MilesPerGal\": 32.4, \"Cylinders\": 4, \"Displacement\": 107.0, \"Horsepower\": 72, \"Weight\": 2290, \"Acceleration\": 17.0, \"Year\": 1980, \"Origin\": \"Japan\"}, {\"Name\": \"plymouth reliant\", \"MilesPerGal\": 27.2, \"Cylinders\": 4, \"Displacement\": 135.0, \"Horsepower\": 84, \"Weight\": 2490, \"Acceleration\": 15.7, \"Year\": 1982, \"Origin\": \"USA\"}, {\"Name\": \"buick skylark\", \"MilesPerGal\": 26.6, \"Cylinders\": 4, \"Displacement\": 151.0, \"Horsepower\": 84, \"Weight\": 2635, \"Acceleration\": 16.4, \"Year\": 1982, \"Origin\": \"USA\"}, {\"Name\": \"dodge aries wagon (sw)\", \"MilesPerGal\": 25.8, \"Cylinders\": 4, \"Displacement\": 156.0, \"Horsepower\": 92, \"Weight\": 2620, \"Acceleration\": 14.4, \"Year\": 1982, \"Origin\": \"USA\"}, {\"Name\": \"chevrolet citation\", \"MilesPerGal\": 23.5, \"Cylinders\": 6, \"Displacement\": 173.0, \"Horsepower\": 110, \"Weight\": 2725, \"Acceleration\": 12.6, \"Year\": 1982, \"Origin\": \"USA\"}, {\"Name\": \"plymouth reliant\", \"MilesPerGal\": 30.0, \"Cylinders\": 4, \"Displacement\": 135.0, \"Horsepower\": 84, \"Weight\": 2385, \"Acceleration\": 12.9, \"Year\": 1982, \"Origin\": \"USA\"}, {\"Name\": \"toyota starlet\", \"MilesPerGal\": 39.1, \"Cylinders\": 4, \"Displacement\": 79.0, \"Horsepower\": 58, \"Weight\": 1755, \"Acceleration\": 16.9, \"Year\": 1982, \"Origin\": \"Japan\"}, {\"Name\": \"plymouth champ\", \"MilesPerGal\": 39.0, \"Cylinders\": 4, \"Displacement\": 86.0, \"Horsepower\": 64, \"Weight\": 1875, \"Acceleration\": 16.4, \"Year\": 1982, \"Origin\": \"USA\"}, {\"Name\": \"honda civic 1300\", \"MilesPerGal\": 35.1, \"Cylinders\": 4, \"Displacement\": 81.0, \"Horsepower\": 60, \"Weight\": 1760, \"Acceleration\": 16.1, \"Year\": 1982, \"Origin\": \"Japan\"}, {\"Name\": \"subaru\", \"MilesPerGal\": 32.3, \"Cylinders\": 4, \"Displacement\": 97.0, \"Horsepower\": 67, \"Weight\": 2065, \"Acceleration\": 17.8, \"Year\": 1982, \"Origin\": \"Japan\"}, {\"Name\": \"datsun 210\", \"MilesPerGal\": 37.0, \"Cylinders\": 4, \"Displacement\": 85.0, \"Horsepower\": 65, \"Weight\": 1975, \"Acceleration\": 19.4, \"Year\": 1982, \"Origin\": \"Japan\"}, {\"Name\": \"toyota tercel\", \"MilesPerGal\": 37.7, \"Cylinders\": 4, \"Displacement\": 89.0, \"Horsepower\": 62, \"Weight\": 2050, \"Acceleration\": 17.3, \"Year\": 1982, \"Origin\": \"Japan\"}, {\"Name\": \"mazda glc 4\", \"MilesPerGal\": 34.1, \"Cylinders\": 4, \"Displacement\": 91.0, \"Horsepower\": 68, \"Weight\": 1985, \"Acceleration\": 16.0, \"Year\": 1982, \"Origin\": \"Japan\"}, {\"Name\": \"plymouth horizon 4\", \"MilesPerGal\": 34.7, \"Cylinders\": 4, \"Displacement\": 105.0, \"Horsepower\": 63, \"Weight\": 2215, \"Acceleration\": 14.9, \"Year\": 1982, \"Origin\": \"USA\"}, {\"Name\": \"ford escort 4w\", \"MilesPerGal\": 34.4, \"Cylinders\": 4, \"Displacement\": 98.0, \"Horsepower\": 65, \"Weight\": 2045, \"Acceleration\": 16.2, \"Year\": 1982, \"Origin\": \"USA\"}, {\"Name\": \"ford escort 2h\", \"MilesPerGal\": 29.9, \"Cylinders\": 4, \"Displacement\": 98.0, \"Horsepower\": 65, \"Weight\": 2380, \"Acceleration\": 20.7, \"Year\": 1982, \"Origin\": \"USA\"}, {\"Name\": \"volkswagen jetta\", \"MilesPerGal\": 33.0, \"Cylinders\": 4, \"Displacement\": 105.0, \"Horsepower\": 74, \"Weight\": 2190, \"Acceleration\": 14.2, \"Year\": 1982, \"Origin\": \"Europe\"}, {\"Name\": \"honda prelude\", \"MilesPerGal\": 33.7, \"Cylinders\": 4, \"Displacement\": 107.0, \"Horsepower\": 75, \"Weight\": 2210, \"Acceleration\": 14.4, \"Year\": 1982, \"Origin\": \"Japan\"}, {\"Name\": \"toyota corolla\", \"MilesPerGal\": 32.4, \"Cylinders\": 4, \"Displacement\": 108.0, \"Horsepower\": 75, \"Weight\": 2350, \"Acceleration\": 16.8, \"Year\": 1982, \"Origin\": \"Japan\"}, {\"Name\": \"datsun 200sx\", \"MilesPerGal\": 32.9, \"Cylinders\": 4, \"Displacement\": 119.0, \"Horsepower\": 100, \"Weight\": 2615, \"Acceleration\": 14.8, \"Year\": 1982, \"Origin\": \"Japan\"}, {\"Name\": \"mazda 626\", \"MilesPerGal\": 31.6, \"Cylinders\": 4, \"Displacement\": 120.0, \"Horsepower\": 74, \"Weight\": 2635, \"Acceleration\": 18.3, \"Year\": 1982, \"Origin\": \"Japan\"}, {\"Name\": \"peugeot 505s turbo diesel\", \"MilesPerGal\": 28.1, \"Cylinders\": 4, \"Displacement\": 141.0, \"Horsepower\": 80, \"Weight\": 3230, \"Acceleration\": 20.4, \"Year\": 1982, \"Origin\": \"Europe\"}, {\"Name\": \"volvo diesel\", \"MilesPerGal\": 30.7, \"Cylinders\": 6, \"Displacement\": 145.0, \"Horsepower\": 76, \"Weight\": 3160, \"Acceleration\": 19.6, \"Year\": 1982, \"Origin\": \"Europe\"}, {\"Name\": \"toyota cressida\", \"MilesPerGal\": 25.4, \"Cylinders\": 6, \"Displacement\": 168.0, \"Horsepower\": 116, \"Weight\": 2900, \"Acceleration\": 12.6, \"Year\": 1982, \"Origin\": \"Japan\"}, {\"Name\": \"datsun 810 maxima\", \"MilesPerGal\": 24.2, \"Cylinders\": 6, \"Displacement\": 146.0, \"Horsepower\": 120, \"Weight\": 2930, \"Acceleration\": 13.8, \"Year\": 1982, \"Origin\": \"Japan\"}, {\"Name\": \"buick century\", \"MilesPerGal\": 22.4, \"Cylinders\": 6, \"Displacement\": 231.0, \"Horsepower\": 110, \"Weight\": 3415, \"Acceleration\": 15.8, \"Year\": 1982, \"Origin\": \"USA\"}, {\"Name\": \"oldsmobile cutlass ls\", \"MilesPerGal\": 26.6, \"Cylinders\": 8, \"Displacement\": 350.0, \"Horsepower\": 105, \"Weight\": 3725, \"Acceleration\": 19.0, \"Year\": 1982, \"Origin\": \"USA\"}, {\"Name\": \"ford granada gl\", \"MilesPerGal\": 20.2, \"Cylinders\": 6, \"Displacement\": 200.0, \"Horsepower\": 88, \"Weight\": 3060, \"Acceleration\": 17.1, \"Year\": 1982, \"Origin\": \"USA\"}, {\"Name\": \"chrysler lebaron salon\", \"MilesPerGal\": 17.6, \"Cylinders\": 6, \"Displacement\": 225.0, \"Horsepower\": 85, \"Weight\": 3465, \"Acceleration\": 16.6, \"Year\": 1982, \"Origin\": \"USA\"}, {\"Name\": \"chevrolet cavalier\", \"MilesPerGal\": 28.0, \"Cylinders\": 4, \"Displacement\": 112.0, \"Horsepower\": 88, \"Weight\": 2605, \"Acceleration\": 19.6, \"Year\": 1982, \"Origin\": \"USA\"}, {\"Name\": \"chevrolet cavalier wagon\", \"MilesPerGal\": 27.0, \"Cylinders\": 4, \"Displacement\": 112.0, \"Horsepower\": 88, \"Weight\": 2640, \"Acceleration\": 18.6, \"Year\": 1982, \"Origin\": \"USA\"}, {\"Name\": \"chevrolet cavalier 2-door\", \"MilesPerGal\": 34.0, \"Cylinders\": 4, \"Displacement\": 112.0, \"Horsepower\": 88, \"Weight\": 2395, \"Acceleration\": 18.0, \"Year\": 1982, \"Origin\": \"USA\"}, {\"Name\": \"pontiac j2000 se hatchback\", \"MilesPerGal\": 31.0, \"Cylinders\": 4, \"Displacement\": 112.0, \"Horsepower\": 85, \"Weight\": 2575, \"Acceleration\": 16.2, \"Year\": 1982, \"Origin\": \"USA\"}, {\"Name\": \"dodge aries se\", \"MilesPerGal\": 29.0, \"Cylinders\": 4, \"Displacement\": 135.0, \"Horsepower\": 84, \"Weight\": 2525, \"Acceleration\": 16.0, \"Year\": 1982, \"Origin\": \"USA\"}, {\"Name\": \"pontiac phoenix\", \"MilesPerGal\": 27.0, \"Cylinders\": 4, \"Displacement\": 151.0, \"Horsepower\": 90, \"Weight\": 2735, \"Acceleration\": 18.0, \"Year\": 1982, \"Origin\": \"USA\"}, {\"Name\": \"ford fairmont futura\", \"MilesPerGal\": 24.0, \"Cylinders\": 4, \"Displacement\": 140.0, \"Horsepower\": 92, \"Weight\": 2865, \"Acceleration\": 16.4, \"Year\": 1982, \"Origin\": \"USA\"}, {\"Name\": \"volkswagen rabbit l\", \"MilesPerGal\": 36.0, \"Cylinders\": 4, \"Displacement\": 105.0, \"Horsepower\": 74, \"Weight\": 1980, \"Acceleration\": 15.3, \"Year\": 1982, \"Origin\": \"Europe\"}, {\"Name\": \"mazda glc custom l\", \"MilesPerGal\": 37.0, \"Cylinders\": 4, \"Displacement\": 91.0, \"Horsepower\": 68, \"Weight\": 2025, \"Acceleration\": 18.2, \"Year\": 1982, \"Origin\": \"Japan\"}, {\"Name\": \"mazda glc custom\", \"MilesPerGal\": 31.0, \"Cylinders\": 4, \"Displacement\": 91.0, \"Horsepower\": 68, \"Weight\": 1970, \"Acceleration\": 17.6, \"Year\": 1982, \"Origin\": \"Japan\"}, {\"Name\": \"plymouth horizon miser\", \"MilesPerGal\": 38.0, \"Cylinders\": 4, \"Displacement\": 105.0, \"Horsepower\": 63, \"Weight\": 2125, \"Acceleration\": 14.7, \"Year\": 1982, \"Origin\": \"USA\"}, {\"Name\": \"mercury lynx l\", \"MilesPerGal\": 36.0, \"Cylinders\": 4, \"Displacement\": 98.0, \"Horsepower\": 70, \"Weight\": 2125, \"Acceleration\": 17.3, \"Year\": 1982, \"Origin\": \"USA\"}, {\"Name\": \"nissan stanza xe\", \"MilesPerGal\": 36.0, \"Cylinders\": 4, \"Displacement\": 120.0, \"Horsepower\": 88, \"Weight\": 2160, \"Acceleration\": 14.5, \"Year\": 1982, \"Origin\": \"Japan\"}, {\"Name\": \"honda Accelerationord\", \"MilesPerGal\": 36.0, \"Cylinders\": 4, \"Displacement\": 107.0, \"Horsepower\": 75, \"Weight\": 2205, \"Acceleration\": 14.5, \"Year\": 1982, \"Origin\": \"Japan\"}, {\"Name\": \"toyota corolla\", \"MilesPerGal\": 34.0, \"Cylinders\": 4, \"Displacement\": 108.0, \"Horsepower\": 70, \"Weight\": 2245, \"Acceleration\": 16.9, \"Year\": 1982, \"Origin\": \"Japan\"}, {\"Name\": \"honda civic\", \"MilesPerGal\": 38.0, \"Cylinders\": 4, \"Displacement\": 91.0, \"Horsepower\": 67, \"Weight\": 1965, \"Acceleration\": 15.0, \"Year\": 1982, \"Origin\": \"Japan\"}, {\"Name\": \"honda civic (auto)\", \"MilesPerGal\": 32.0, \"Cylinders\": 4, \"Displacement\": 91.0, \"Horsepower\": 67, \"Weight\": 1965, \"Acceleration\": 15.7, \"Year\": 1982, \"Origin\": \"Japan\"}, {\"Name\": \"datsun 310 gx\", \"MilesPerGal\": 38.0, \"Cylinders\": 4, \"Displacement\": 91.0, \"Horsepower\": 67, \"Weight\": 1995, \"Acceleration\": 16.2, \"Year\": 1982, \"Origin\": \"Japan\"}, {\"Name\": \"buick century limited\", \"MilesPerGal\": 25.0, \"Cylinders\": 6, \"Displacement\": 181.0, \"Horsepower\": 110, \"Weight\": 2945, \"Acceleration\": 16.4, \"Year\": 1982, \"Origin\": \"USA\"}, {\"Name\": \"oldsmobile cutlass ciera (diesel)\", \"MilesPerGal\": 38.0, \"Cylinders\": 6, \"Displacement\": 262.0, \"Horsepower\": 85, \"Weight\": 3015, \"Acceleration\": 17.0, \"Year\": 1982, \"Origin\": \"USA\"}, {\"Name\": \"chrysler lebaron medallion\", \"MilesPerGal\": 26.0, \"Cylinders\": 4, \"Displacement\": 156.0, \"Horsepower\": 92, \"Weight\": 2585, \"Acceleration\": 14.5, \"Year\": 1982, \"Origin\": \"USA\"}, {\"Name\": \"ford granada l\", \"MilesPerGal\": 22.0, \"Cylinders\": 6, \"Displacement\": 232.0, \"Horsepower\": 112, \"Weight\": 2835, \"Acceleration\": 14.7, \"Year\": 1982, \"Origin\": \"USA\"}, {\"Name\": \"toyota celica gt\", \"MilesPerGal\": 32.0, \"Cylinders\": 4, \"Displacement\": 144.0, \"Horsepower\": 96, \"Weight\": 2665, \"Acceleration\": 13.9, \"Year\": 1982, \"Origin\": \"Japan\"}, {\"Name\": \"dodge charger 2.2\", \"MilesPerGal\": 36.0, \"Cylinders\": 4, \"Displacement\": 135.0, \"Horsepower\": 84, \"Weight\": 2370, \"Acceleration\": 13.0, \"Year\": 1982, \"Origin\": \"USA\"}, {\"Name\": \"chevrolet camaro\", \"MilesPerGal\": 27.0, \"Cylinders\": 4, \"Displacement\": 151.0, \"Horsepower\": 90, \"Weight\": 2950, \"Acceleration\": 17.3, \"Year\": 1982, \"Origin\": \"USA\"}, {\"Name\": \"ford mustang gl\", \"MilesPerGal\": 27.0, \"Cylinders\": 4, \"Displacement\": 140.0, \"Horsepower\": 86, \"Weight\": 2790, \"Acceleration\": 15.6, \"Year\": 1982, \"Origin\": \"USA\"}, {\"Name\": \"vw pickup\", \"MilesPerGal\": 44.0, \"Cylinders\": 4, \"Displacement\": 97.0, \"Horsepower\": 52, \"Weight\": 2130, \"Acceleration\": 24.6, \"Year\": 1982, \"Origin\": \"Europe\"}, {\"Name\": \"dodge rampage\", \"MilesPerGal\": 32.0, \"Cylinders\": 4, \"Displacement\": 135.0, \"Horsepower\": 84, \"Weight\": 2295, \"Acceleration\": 11.6, \"Year\": 1982, \"Origin\": \"USA\"}, {\"Name\": \"ford ranger\", \"MilesPerGal\": 28.0, \"Cylinders\": 4, \"Displacement\": 120.0, \"Horsepower\": 79, \"Weight\": 2625, \"Acceleration\": 18.6, \"Year\": 1982, \"Origin\": \"USA\"}, {\"Name\": \"chevy s-10\", \"MilesPerGal\": 31.0, \"Cylinders\": 4, \"Displacement\": 119.0, \"Horsepower\": 82, \"Weight\": 2720, \"Acceleration\": 19.4, \"Year\": 1982, \"Origin\": \"USA\"}]}}, {\"mode\": \"vega-lite\"});\n",
       "</script>"
      ],
      "text/plain": [
       "alt.Chart(...)"
      ]
     },
     "execution_count": 107,
     "metadata": {},
     "output_type": "execute_result"
    }
   ],
   "source": [
    "import altair as alt\n",
    "alt.Chart(ldf).mark_bar().encode(\n",
    "    alt.X(\"Horsepower\", type=\"quantitative\", bin=alt.Bin(maxbins=10)),\n",
    "    y='count()'\n",
    ")"
   ]
  },
  {
   "cell_type": "code",
   "execution_count": 17,
   "metadata": {},
   "outputs": [
    {
     "data": {
      "text/plain": [
       "<View: Mark: histogram, Specs: [Spec < description:,channel:x,attribute:Horsepower,aggregation:,value:>dataModel:measure,dataType:quantitativebinSize:10, Spec < description:,channel:y,attribute:Record,aggregation:count,value:>dataModel:measure,dataType:binSize:0], Score:0.0>"
      ]
     },
     "execution_count": 17,
     "metadata": {},
     "output_type": "execute_result"
    }
   ],
   "source": [
    "view"
   ]
  },
  {
   "cell_type": "code",
   "execution_count": null,
   "metadata": {},
   "outputs": [],
   "source": []
  }
 ],
 "metadata": {
  "kernelspec": {
   "display_name": "Python 3",
   "language": "python",
   "name": "python3"
  },
  "language_info": {
   "codemirror_mode": {
    "name": "ipython",
    "version": 3
   },
   "file_extension": ".py",
   "mimetype": "text/x-python",
   "name": "python",
   "nbconvert_exporter": "python",
   "pygments_lexer": "ipython3",
   "version": "3.7.5"
  }
 },
 "nbformat": 4,
 "nbformat_minor": 2
}

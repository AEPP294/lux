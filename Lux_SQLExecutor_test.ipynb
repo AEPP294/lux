{
 "cells": [
  {
   "cell_type": "code",
   "execution_count": 1,
   "metadata": {},
   "outputs": [],
   "source": [
    "import psycopg2"
   ]
  },
  {
   "cell_type": "code",
   "execution_count": 2,
   "metadata": {},
   "outputs": [],
   "source": [
    "from lux.executor.PandasExecutor import PandasExecutor\n",
    "from lux.executor.SQLExecutor import SQLExecutor\n",
    "from lux.utils import utils"
   ]
  },
  {
   "cell_type": "code",
   "execution_count": 3,
   "metadata": {},
   "outputs": [],
   "source": [
    "conn = psycopg2.connect(\"dbname=adventureworks user=postgres password=dbadmin\")"
   ]
  },
  {
   "cell_type": "code",
   "execution_count": 4,
   "metadata": {},
   "outputs": [
    {
     "data": {
      "text/plain": [
       "<connection object at 0x06748030; dsn: 'user=postgres password=xxx dbname=adventureworks', closed: 0>"
      ]
     },
     "execution_count": 4,
     "metadata": {},
     "output_type": "execute_result"
    }
   ],
   "source": [
    "conn"
   ]
  },
  {
   "cell_type": "code",
   "execution_count": 5,
   "metadata": {},
   "outputs": [],
   "source": [
    "import pandas as pd\n",
    "import lux"
   ]
  },
  {
   "cell_type": "code",
   "execution_count": 6,
   "metadata": {},
   "outputs": [],
   "source": [
    "test_df2 = pd.DataFrame()\n",
    "test_df2.setExecutorType(\"SQL\")"
   ]
  },
  {
   "cell_type": "code",
   "execution_count": 7,
   "metadata": {},
   "outputs": [],
   "source": [
    "test_df2.setSQLConnection(conn, \"HumanResources.employee\")"
   ]
  },
  {
   "cell_type": "code",
   "execution_count": 8,
   "metadata": {},
   "outputs": [
    {
     "data": {
      "text/plain": [
       "<connection object at 0x06748030; dsn: 'user=postgres password=xxx dbname=adventureworks', closed: 0>"
      ]
     },
     "execution_count": 8,
     "metadata": {},
     "output_type": "execute_result"
    }
   ],
   "source": [
    "test_df2.SQLconnection"
   ]
  },
  {
   "cell_type": "code",
   "execution_count": 9,
   "metadata": {},
   "outputs": [
    {
     "data": {
      "text/plain": [
       "['M', 'F']"
      ]
     },
     "execution_count": 9,
     "metadata": {},
     "output_type": "execute_result"
    }
   ],
   "source": [
    "test_df2.uniqueValues['gender']"
   ]
  },
  {
   "cell_type": "code",
   "execution_count": 10,
   "metadata": {},
   "outputs": [
    {
     "data": {
      "text/plain": [
       "[Spec < description:,channel:,attribute:['vacationhours', 'sickleavehours'],aggregation:,value:>dataModel:,dataType:,binSize:0,\n",
       " Spec < description:,channel:,attribute:gender,aggregation:,value:['M', 'F']>dataModel:,dataType:,binSize:0]"
      ]
     },
     "execution_count": 10,
     "metadata": {},
     "output_type": "execute_result"
    }
   ],
   "source": [
    "test_df2.setContext(['vacationhours|sickleavehours', 'gender=M|F'])\n",
    "test_df2.context"
   ]
  },
  {
   "cell_type": "code",
   "execution_count": 11,
   "metadata": {},
   "outputs": [
    {
     "data": {
      "text/plain": [
       "[Spec < description:,channel:,attribute:['vacationhours', 'sickleavehours'],aggregation:,value:>dataModel:,dataType:,binSize:0,\n",
       " Spec < description:,channel:,attribute:gender,aggregation:,value:M>dataModel:,dataType:,binSize:0]"
      ]
     },
     "execution_count": 11,
     "metadata": {},
     "output_type": "execute_result"
    }
   ],
   "source": [
    "test_df2.setContext([['vacationhours', 'sickleavehours'], 'gender=M'])\n",
    "test_df2.context"
   ]
  },
  {
   "cell_type": "code",
   "execution_count": 12,
   "metadata": {},
   "outputs": [
    {
     "data": {
      "text/plain": [
       "[Spec < description:,channel:,attribute:vacationhours,aggregation:,value:>dataModel:,dataType:,binSize:0,\n",
       " Spec < description:,channel:,attribute:maritalstatus,aggregation:,value:['M', 'S']>dataModel:,dataType:,binSize:0]"
      ]
     },
     "execution_count": 12,
     "metadata": {},
     "output_type": "execute_result"
    }
   ],
   "source": [
    "test_df2.setContext(['vacationhours', 'maritalstatus=?'])\n",
    "test_df2.context"
   ]
  },
  {
   "cell_type": "code",
   "execution_count": 13,
   "metadata": {},
   "outputs": [
    {
     "data": {
      "text/plain": [
       "Index(['businessentityid', 'nationalidnumber', 'loginid', 'jobtitle',\n",
       "       'birthdate', 'maritalstatus', 'gender', 'hiredate', 'salariedflag',\n",
       "       'vacationhours', 'sickleavehours', 'currentflag', 'rowguid',\n",
       "       'modifieddate', 'organizationnode'],\n",
       "      dtype='object')"
      ]
     },
     "execution_count": 13,
     "metadata": {},
     "output_type": "execute_result"
    }
   ],
   "source": [
    "test_df2.columns"
   ]
  },
  {
   "cell_type": "code",
   "execution_count": 14,
   "metadata": {},
   "outputs": [],
   "source": [
    "test_df2.setContext(['sickleavehours', 'maritalstatus=?'])\n",
    "test_view = test_df2.viewCollection[0]\n",
    "SQLExecutor.executeBinning(test_view, test_df2)"
   ]
  },
  {
   "cell_type": "code",
   "execution_count": 15,
   "metadata": {},
   "outputs": [],
   "source": [
    "test_df3 = pd.DataFrame()\n",
    "test_df3.setExecutorType(\"SQL\")\n",
    "test_df3.setSQLConnection(conn, \"HumanResources.employee\")"
   ]
  },
  {
   "cell_type": "code",
   "execution_count": 16,
   "metadata": {},
   "outputs": [
    {
     "data": {
      "text/plain": [
       "<ViewCollection: [<View: Mark: bar, Specs: [Spec < description:,channel:x,attribute:vacationhours,aggregation:mean,value:>dataModel:measure,dataType:quantitative,binSize:0, Spec < description:,channel:y,attribute:maritalstatus,aggregation:,value:>dataModel:dimension,dataType:nominal,binSize:0], Score:0.0>]>"
      ]
     },
     "execution_count": 16,
     "metadata": {},
     "output_type": "execute_result"
    }
   ],
   "source": [
    "test_df3.setContext(['maritalstatus', 'vacationhours'])\n",
    "test_df3.viewCollection"
   ]
  },
  {
   "cell_type": "code",
   "execution_count": 17,
   "metadata": {},
   "outputs": [
    {
     "data": {
      "text/plain": [
       "<ViewCollection: [<View: Mark: bar, Specs: [Spec < description:,channel:x,attribute:vacationhours,aggregation:mean,value:>dataModel:measure,dataType:quantitative,binSize:0, Spec < description:,channel:y,attribute:maritalstatus,aggregation:,value:>dataModel:dimension,dataType:nominal,binSize:0], Score:0.0>]>"
      ]
     },
     "execution_count": 17,
     "metadata": {},
     "output_type": "execute_result"
    }
   ],
   "source": [
    "test_df3.setContext(['maritalstatus', 'vacationhours'])\n",
    "test_df3.viewCollection"
   ]
  },
  {
   "cell_type": "code",
   "execution_count": 18,
   "metadata": {},
   "outputs": [],
   "source": [
    "SQLExecutor.executeAggregate(test_df3.viewCollection[0], test_df3)"
   ]
  },
  {
   "cell_type": "code",
   "execution_count": 19,
   "metadata": {},
   "outputs": [
    {
     "data": {
      "text/plain": [
       "Index(['businessentityid', 'nationalidnumber', 'loginid', 'jobtitle',\n",
       "       'birthdate', 'maritalstatus', 'gender', 'hiredate', 'salariedflag',\n",
       "       'vacationhours', 'sickleavehours', 'currentflag', 'rowguid',\n",
       "       'modifieddate', 'organizationnode'],\n",
       "      dtype='object')"
      ]
     },
     "execution_count": 19,
     "metadata": {},
     "output_type": "execute_result"
    }
   ],
   "source": [
    "test_df3.columns"
   ]
  },
  {
   "cell_type": "code",
   "execution_count": 20,
   "metadata": {},
   "outputs": [],
   "source": [
    "test_df3.setContext(['vacationhours'])\n",
    "SQLExecutor.execute(test_df3.viewCollection, test_df3)"
   ]
  },
  {
   "cell_type": "code",
   "execution_count": 21,
   "metadata": {},
   "outputs": [
    {
     "data": {
      "text/plain": [
       "{'businessentityid': 'quantitative',\n",
       " 'nationalidnumber': 'nominal',\n",
       " 'loginid': 'nominal',\n",
       " 'jobtitle': 'nominal',\n",
       " 'birthdate': 'temporal',\n",
       " 'maritalstatus': 'nominal',\n",
       " 'gender': 'nominal',\n",
       " 'hiredate': 'temporal',\n",
       " 'salariedflag': 'nominal',\n",
       " 'vacationhours': 'quantitative',\n",
       " 'sickleavehours': 'quantitative',\n",
       " 'currentflag': 'nominal',\n",
       " 'rowguid': 'nominal',\n",
       " 'modifieddate': 'temporal',\n",
       " 'organizationnode': 'nominal'}"
      ]
     },
     "execution_count": 21,
     "metadata": {},
     "output_type": "execute_result"
    }
   ],
   "source": [
    "test_df3.dataTypeLookup"
   ]
  },
  {
   "cell_type": "code",
   "execution_count": 22,
   "metadata": {},
   "outputs": [
    {
     "data": {
      "text/html": [
       "<div>\n",
       "<style scoped>\n",
       "    .dataframe tbody tr th:only-of-type {\n",
       "        vertical-align: middle;\n",
       "    }\n",
       "\n",
       "    .dataframe tbody tr th {\n",
       "        vertical-align: top;\n",
       "    }\n",
       "\n",
       "    .dataframe thead th {\n",
       "        text-align: right;\n",
       "    }\n",
       "</style>\n",
       "<table border=\"1\" class=\"dataframe\">\n",
       "  <thead>\n",
       "    <tr style=\"text-align: right;\">\n",
       "      <th></th>\n",
       "      <th>vacationhours</th>\n",
       "      <th>Count of Records (binned)</th>\n",
       "    </tr>\n",
       "  </thead>\n",
       "  <tbody>\n",
       "    <tr>\n",
       "      <th>0</th>\n",
       "      <td>5.0</td>\n",
       "      <td>31.0</td>\n",
       "    </tr>\n",
       "    <tr>\n",
       "      <th>1</th>\n",
       "      <td>15.0</td>\n",
       "      <td>30.0</td>\n",
       "    </tr>\n",
       "    <tr>\n",
       "      <th>2</th>\n",
       "      <td>25.0</td>\n",
       "      <td>30.0</td>\n",
       "    </tr>\n",
       "    <tr>\n",
       "      <th>3</th>\n",
       "      <td>35.0</td>\n",
       "      <td>28.0</td>\n",
       "    </tr>\n",
       "    <tr>\n",
       "      <th>4</th>\n",
       "      <td>45.0</td>\n",
       "      <td>30.0</td>\n",
       "    </tr>\n",
       "    <tr>\n",
       "      <th>5</th>\n",
       "      <td>55.0</td>\n",
       "      <td>30.0</td>\n",
       "    </tr>\n",
       "    <tr>\n",
       "      <th>6</th>\n",
       "      <td>65.0</td>\n",
       "      <td>28.0</td>\n",
       "    </tr>\n",
       "    <tr>\n",
       "      <th>7</th>\n",
       "      <td>75.0</td>\n",
       "      <td>23.0</td>\n",
       "    </tr>\n",
       "    <tr>\n",
       "      <th>8</th>\n",
       "      <td>85.0</td>\n",
       "      <td>30.0</td>\n",
       "    </tr>\n",
       "    <tr>\n",
       "      <th>9</th>\n",
       "      <td>95.0</td>\n",
       "      <td>30.0</td>\n",
       "    </tr>\n",
       "  </tbody>\n",
       "</table>\n",
       "</div>"
      ],
      "text/plain": [
       "   vacationhours  Count of Records (binned)\n",
       "0            5.0                       31.0\n",
       "1           15.0                       30.0\n",
       "2           25.0                       30.0\n",
       "3           35.0                       28.0\n",
       "4           45.0                       30.0\n",
       "5           55.0                       30.0\n",
       "6           65.0                       28.0\n",
       "7           75.0                       23.0\n",
       "8           85.0                       30.0\n",
       "9           95.0                       30.0"
      ]
     },
     "execution_count": 22,
     "metadata": {},
     "output_type": "execute_result"
    }
   ],
   "source": [
    "test_df3.viewCollection[0].data.toPandas()"
   ]
  }
 ],
 "metadata": {
  "kernelspec": {
   "display_name": "Python 3",
   "language": "python",
   "name": "python3"
  },
  "language_info": {
   "codemirror_mode": {
    "name": "ipython",
    "version": 3
   },
   "file_extension": ".py",
   "mimetype": "text/x-python",
   "name": "python",
   "nbconvert_exporter": "python",
   "pygments_lexer": "ipython3",
   "version": "3.6.3"
  }
 },
 "nbformat": 4,
 "nbformat_minor": 2
}

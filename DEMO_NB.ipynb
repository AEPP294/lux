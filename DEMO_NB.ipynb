{
 "cells": [
  {
   "cell_type": "markdown",
   "id": "spare-trick",
   "metadata": {},
   "source": [
    "# Demo"
   ]
  },
  {
   "cell_type": "code",
   "execution_count": null,
   "id": "rational-daisy",
   "metadata": {},
   "outputs": [],
   "source": [
    "import lux\n",
    "from vega_datasets import data\n",
    "import numpy as np\n",
    "import pandas as pd\n",
    "from IPython.core.debugger import set_trace\n",
    "\n",
    "lux.config.default_display = \"lux\"\n",
    "\n",
    "df = data.cars()\n",
    "id(df)"
   ]
  },
  {
   "cell_type": "code",
   "execution_count": null,
   "id": "nervous-cocktail",
   "metadata": {},
   "outputs": [],
   "source": [
    "df"
   ]
  },
  {
   "cell_type": "markdown",
   "id": "important-clone",
   "metadata": {},
   "source": [
    "## Column manipulations"
   ]
  },
  {
   "cell_type": "code",
   "execution_count": null,
   "id": "relative-financing",
   "metadata": {},
   "outputs": [],
   "source": [
    "df[\"Name\"] = df[\"Name\"].map(lambda a:a.split()[0])\n",
    "df[\"new_col\"] = np.random.randint(0, 100, size=len(df))\n"
   ]
  },
  {
   "cell_type": "code",
   "execution_count": null,
   "id": "sitting-flour",
   "metadata": {},
   "outputs": [],
   "source": [
    "df"
   ]
  },
  {
   "cell_type": "markdown",
   "id": "elegant-theater",
   "metadata": {},
   "source": [
    "## Describe"
   ]
  },
  {
   "cell_type": "code",
   "execution_count": null,
   "id": "enhanced-cedar",
   "metadata": {},
   "outputs": [],
   "source": [
    "df.describe()"
   ]
  },
  {
   "cell_type": "markdown",
   "id": "automated-restoration",
   "metadata": {},
   "source": [
    "## Explicit input"
   ]
  },
  {
   "cell_type": "code",
   "execution_count": null,
   "id": "configured-donna",
   "metadata": {},
   "outputs": [],
   "source": [
    "df.intent = [\"Miles_per_Gallon\"]\n",
    "df"
   ]
  },
  {
   "cell_type": "code",
   "execution_count": null,
   "id": "caring-ticket",
   "metadata": {},
   "outputs": [],
   "source": [
    "df.intent = [\"Weight_in_lbs\"]\n",
    "df"
   ]
  },
  {
   "cell_type": "code",
   "execution_count": null,
   "id": "motivated-quarter",
   "metadata": {},
   "outputs": [],
   "source": []
  },
  {
   "cell_type": "markdown",
   "id": "careful-calculator",
   "metadata": {},
   "source": [
    "## Filters"
   ]
  },
  {
   "cell_type": "code",
   "execution_count": null,
   "id": "minute-actor",
   "metadata": {},
   "outputs": [],
   "source": [
    "df = data.cars()\n",
    "# id(df)"
   ]
  },
  {
   "cell_type": "code",
   "execution_count": null,
   "id": "prescribed-friendly",
   "metadata": {},
   "outputs": [],
   "source": [
    "r = df.Origin.value_counts()\n",
    "r = df.Displacement.value_counts()"
   ]
  },
  {
   "cell_type": "code",
   "execution_count": null,
   "id": "bright-compilation",
   "metadata": {},
   "outputs": [],
   "source": [
    "df[df.Cylinders > 4]"
   ]
  },
  {
   "cell_type": "code",
   "execution_count": null,
   "id": "hollywood-arthritis",
   "metadata": {},
   "outputs": [],
   "source": [
    "df_2 = df[(df.Weight_in_lbs < 2800) & (df.Acceleration > 12)]\n",
    "\n",
    "df_3 = ..."
   ]
  },
  {
   "cell_type": "markdown",
   "id": "innovative-horizon",
   "metadata": {},
   "source": [
    "# Groupby"
   ]
  },
  {
   "cell_type": "markdown",
   "id": "opposite-correlation",
   "metadata": {},
   "source": [
    "df aggs"
   ]
  },
  {
   "cell_type": "code",
   "execution_count": null,
   "id": "presidential-glossary",
   "metadata": {},
   "outputs": [],
   "source": [
    "df.mean()"
   ]
  },
  {
   "cell_type": "code",
   "execution_count": null,
   "id": "attached-tonight",
   "metadata": {},
   "outputs": [],
   "source": [
    "df.groupby(\"Cylinders\").agg({\"Miles_per_Gallon\": \"mean\", \"Horsepower\": \"median\", \"Displacement\": \"min\"})\n",
    "\n"
   ]
  },
  {
   "cell_type": "code",
   "execution_count": null,
   "id": "expired-confusion",
   "metadata": {},
   "outputs": [],
   "source": [
    "df"
   ]
  },
  {
   "cell_type": "code",
   "execution_count": null,
   "id": "475f5d27-1518-4178-9060-7cf818a9c101",
   "metadata": {},
   "outputs": [],
   "source": [
    "df.exported[0]"
   ]
  },
  {
   "cell_type": "code",
   "execution_count": null,
   "id": "93c71b2c-5f6f-4e7c-a98a-fd75d605545d",
   "metadata": {},
   "outputs": [],
   "source": [
    "df"
   ]
  },
  {
   "cell_type": "code",
   "execution_count": null,
   "id": "bfbc43fb-d61a-41dd-8d46-6acf7f049e2d",
   "metadata": {},
   "outputs": [],
   "source": []
  }
 ],
 "metadata": {
  "kernelspec": {
   "display_name": "Python 3",
   "language": "python",
   "name": "python3"
  },
  "language_info": {
   "codemirror_mode": {
    "name": "ipython",
    "version": 3
   },
   "file_extension": ".py",
   "mimetype": "text/x-python",
   "name": "python",
   "nbconvert_exporter": "python",
   "pygments_lexer": "ipython3",
   "version": "3.9.1"
  }
 },
 "nbformat": 4,
 "nbformat_minor": 5
}

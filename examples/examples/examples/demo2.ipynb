{
 "cells": [
  {
   "cell_type": "code",
   "execution_count": null,
   "metadata": {},
   "outputs": [],
   "source": [
    "cd .."
   ]
  },
  {
   "cell_type": "code",
   "execution_count": null,
   "metadata": {},
   "outputs": [],
   "source": [
    "ls"
   ]
  },
  {
   "cell_type": "code",
   "execution_count": 1,
   "metadata": {},
   "outputs": [],
   "source": [
    "import pandas as pd\n",
    "import lux"
   ]
  },
  {
   "cell_type": "code",
   "execution_count": 2,
   "metadata": {},
   "outputs": [],
   "source": [
    "lux.config.default_display=\"lux\"\n",
    "lux.config.plotting_backend=\"matplotlib\""
   ]
  },
  {
   "cell_type": "markdown",
   "metadata": {},
   "source": [
    "- tested short column header \"A\", \"B\", working as expected"
   ]
  },
  {
   "cell_type": "code",
   "execution_count": 3,
   "metadata": {
    "scrolled": true
   },
   "outputs": [
    {
     "data": {
      "application/vnd.jupyter.widget-view+json": {
       "model_id": "a4a856f081284b7fba390e48f934d9d7",
       "version_major": 2,
       "version_minor": 0
      },
      "text/plain": [
       "Button(description='Toggle Pandas/Lux', layout=Layout(top='5px', width='140px'), style=ButtonStyle())"
      ]
     },
     "metadata": {},
     "output_type": "display_data"
    },
    {
     "data": {
      "application/vnd.jupyter.widget-view+json": {
       "model_id": "6e087ce9e0d942f0b33b1e76c9feddb1",
       "version_major": 2,
       "version_minor": 0
      },
      "text/plain": [
       "Output()"
      ]
     },
     "metadata": {},
     "output_type": "display_data"
    }
   ],
   "source": [
    "tmax = pd.read_csv('https://raw.githubusercontent.com/koldunovn/python_for_geosciences/master/DelhiTmax.txt', delimiter=r\"\\s+\", parse_dates=[[0,1,2]], header=None)\n",
    "tmax.columns = ['Date', 'Temp']\n",
    "tmax\n",
    "# tmax.columns\n",
    "\n",
    "# from lux.vis.VisList import VisList\n",
    "# vis = VisList([i for i in tmax.columns], tmax)\n",
    "# vis"
   ]
  },
  {
   "cell_type": "code",
   "execution_count": null,
   "metadata": {},
   "outputs": [],
   "source": [
    "df = pd.read_csv(\"https://raw.githubusercontent.com/lux-org/lux-datasets/master/data/real_estate_tutorial.csv\")\n",
    "df[\"Month\"] = pd.to_datetime(df[\"Month\"], format=\"%m\")\n",
    "df[\"Year\"] = pd.to_datetime(df[\"Year\"], format=\"%Y\")\n",
    "df.intent = [\n",
    "    lux.Clause(\"Year\"),\n",
    "    lux.Clause(\"PctForeclosured\"),\n",
    "    lux.Clause(\"City=Crofton\"),\n",
    "]\n",
    "vis = df.recommendation[\"Similarity\"][0]\n",
    "# df.intent\n",
    "vis.data\n",
    "# vis"
   ]
  },
  {
   "cell_type": "code",
   "execution_count": null,
   "metadata": {},
   "outputs": [],
   "source": [
    "df = pd.read_csv(\"https://raw.githubusercontent.com/lux-org/lux-datasets/master/data/real_estate_tutorial.csv\")\n",
    "df[\"Month\"] = pd.to_datetime(df[\"Month\"], format=\"%m\")\n",
    "df[\"Year\"] = pd.to_datetime(df[\"Year\"], format=\"%Y\")\n",
    "df.intent = [\n",
    "    lux.Clause(\"Year\"),\n",
    "    lux.Clause(\"PctForeclosured\"),\n",
    "    lux.Clause(\"City=Crofton\"),\n",
    "]\n",
    "df\n",
    "# vis = df.recommendation[\"Similarity\"][0]\n",
    "# vis\n",
    "# vis.data"
   ]
  },
  {
   "cell_type": "code",
   "execution_count": null,
   "metadata": {},
   "outputs": [],
   "source": [
    "df = pd.DataFrame({'nPts': {0: 49999, 1: 71174, 2: 101317, 3: 144224, 4: 205303, 5: 292249, 6: 416016, 7: 592198, 8: 842993, 9: 1200000}, 't_heatmap': {0: 0.15121674537658691, 1: 0.1811518669128418, 2: 0.2179429531097412, 3: 0.2787730693817139, 4: 0.3973350524902344, 5: 0.4233138561248779, 6: 0.580251932144165, 7: 0.7928099632263184, 8: 1.0876789093017578, 9: 1.6242818832397459}, 't_color_heatmap': {0: 0.14242982864379886, 1: 0.18866705894470212, 2: 0.1566781997680664, 3: 0.16737699508666992, 4: 0.19900894165039065, 5: 0.2701129913330078, 6: 0.2533812522888184, 7: 0.37183785438537603, 8: 0.3830866813659668, 9: 0.39321017265319824}, 't_bar': {0: 0.01940608024597168, 1: 0.02618718147277832, 2: 0.024693727493286133, 3: 0.029685020446777344, 4: 0.03471803665161133, 5: 0.04173588752746582, 6: 0.04706382751464844, 7: 0.0667569637298584, 8: 0.08260798454284668, 9: 0.1006929874420166}, 't_cbar': {0: 0.04185795783996582, 1: 0.050965070724487305, 2: 0.052091121673583984, 3: 0.0610501766204834, 4: 0.07504606246948242, 5: 0.09924101829528807, 6: 0.10392117500305176, 7: 0.13044309616088867, 8: 0.18137121200561526, 9: 0.2069528102874756}, 't_hist': {0: 0.01846003532409668, 1: 0.018136978149414062, 2: 0.018748998641967773, 3: 0.01876473426818848, 4: 0.02434706687927246, 5: 0.025368213653564453, 6: 0.02530217170715332, 7: 0.02823114395141602, 8: 0.029034852981567383, 9: 0.034781217575073235}, 't_scatter': {0: 0.8179378509521484, 1: 1.0982017517089844, 2: 1.4875690937042236, 3: 2.146117925643921, 4: 3.1123709678649902, 5: 3.92416787147522, 6: 6.097048044204713, 7: 8.803220987319945, 8: 12.054464101791382, 9: 17.740845680236816}, 't_color_scatter': {0: 1.3474130630493164, 1: 1.7953579425811768, 2: 2.6268541812896733, 3: 3.646371126174927, 4: 4.901940107345581, 5: 6.974237203598023, 6: 10.197483777999876, 7: 14.134275913238525, 8: 21.13951110839844, 9: 27.127063989639282}})\n",
    "# df['time'] = pd.to_datetime(df['time'], format='')\n",
    "# df.set_data_type({'time':'quantitative'})\n",
    "\n",
    "pdf = df.melt(id_vars=[\"nPts\"],value_vars=['t_heatmap', 't_color_heatmap', 't_bar', 't_cbar', 't_hist','t_scatter', 't_color_scatter'], var_name=\"type\", value_name='t')\n",
    "pdf\n",
    "# pdf.dtypes\n",
    "pdf.set_data_type({'time':'quantitative'})\n",
    "pdf\n",
    "# pdf.columns\n",
    "# from lux.vis.VisList import VisList\n",
    "# vis = VisList([i for i in pdf.columns], pdf)\n",
    "# vis"
   ]
  },
  {
   "cell_type": "code",
   "execution_count": 4,
   "metadata": {},
   "outputs": [
    {
     "name": "stderr",
     "output_type": "stream",
     "text": [
      "/opt/anaconda3/lib/python3.8/site-packages/IPython/core/formatters.py:918: UserWarning:\n",
      "Unexpected error in rendering Lux widget and recommendations. Falling back to Pandas display.\n",
      "Please report the following issue on Github: https://github.com/lux-org/lux/issues \n",
      "\n",
      "/opt/anaconda3/lib/python3.8/site-packages/lux_api-0.2.3-py3.8.egg/lux/core/frame.py:613: UserWarning:Traceback (most recent call last):\n",
      "  File \"/opt/anaconda3/lib/python3.8/site-packages/lux_api-0.2.3-py3.8.egg/lux/core/frame.py\", line 576, in _ipython_display_\n",
      "    self.maintain_recs()\n",
      "  File \"/opt/anaconda3/lib/python3.8/site-packages/lux_api-0.2.3-py3.8.egg/lux/core/frame.py\", line 435, in maintain_recs\n",
      "    self._widget = rec_df.render_widget()\n",
      "  File \"/opt/anaconda3/lib/python3.8/site-packages/lux_api-0.2.3-py3.8.egg/lux/core/frame.py\", line 663, in render_widget\n",
      "    return luxwidget.LuxWidget(\n",
      "  File \"/opt/anaconda3/lib/python3.8/site-packages/luxwidget/widget.py\", line 29, in __init__\n",
      "    self.current_vis = currentVis\n",
      "  File \"/opt/anaconda3/lib/python3.8/site-packages/traitlets/traitlets.py\", line 604, in __set__\n",
      "    self.set(obj, value)\n",
      "  File \"/opt/anaconda3/lib/python3.8/site-packages/traitlets/traitlets.py\", line 578, in set\n",
      "    new_value = self._validate(obj, value)\n",
      "  File \"/opt/anaconda3/lib/python3.8/site-packages/traitlets/traitlets.py\", line 610, in _validate\n",
      "    value = self.validate(obj, value)\n",
      "  File \"/opt/anaconda3/lib/python3.8/site-packages/traitlets/traitlets.py\", line 2951, in validate\n",
      "    value = super(Dict, self).validate(obj, value)\n",
      "  File \"/opt/anaconda3/lib/python3.8/site-packages/traitlets/traitlets.py\", line 1845, in validate\n",
      "    self.error(obj, value)\n",
      "  File \"/opt/anaconda3/lib/python3.8/site-packages/traitlets/traitlets.py\", line 690, in error\n",
      "    raise TraitError(e)\n",
      "traitlets.traitlets.TraitError: The 'current_vis' trait of a LuxWidget instance expected a dict, not the NoneType None.\n",
      "\n"
     ]
    },
    {
     "data": {
      "text/html": [
       "<div>\n",
       "<style scoped>\n",
       "    .dataframe tbody tr th:only-of-type {\n",
       "        vertical-align: middle;\n",
       "    }\n",
       "\n",
       "    .dataframe tbody tr th {\n",
       "        vertical-align: top;\n",
       "    }\n",
       "\n",
       "    .dataframe thead th {\n",
       "        text-align: right;\n",
       "    }\n",
       "</style>\n",
       "<table border=\"1\" class=\"dataframe\">\n",
       "  <thead>\n",
       "    <tr style=\"text-align: right;\">\n",
       "      <th></th>\n",
       "      <th>AdmissionRate</th>\n",
       "      <th>ACTMedian</th>\n",
       "      <th>SATAverage</th>\n",
       "      <th>AverageCost</th>\n",
       "      <th>Expenditure</th>\n",
       "      <th>AverageFacultySalary</th>\n",
       "      <th>MedianDebt</th>\n",
       "      <th>AverageAgeofEntry</th>\n",
       "      <th>MedianFamilyIncome</th>\n",
       "      <th>MedianEarnings</th>\n",
       "    </tr>\n",
       "    <tr>\n",
       "      <th>Region</th>\n",
       "      <th></th>\n",
       "      <th></th>\n",
       "      <th></th>\n",
       "      <th></th>\n",
       "      <th></th>\n",
       "      <th></th>\n",
       "      <th></th>\n",
       "      <th></th>\n",
       "      <th></th>\n",
       "      <th></th>\n",
       "    </tr>\n",
       "  </thead>\n",
       "  <tbody>\n",
       "    <tr>\n",
       "      <th>Far West</th>\n",
       "      <td>71.8240</td>\n",
       "      <td>2796</td>\n",
       "      <td>127833</td>\n",
       "      <td>4266361</td>\n",
       "      <td>1493468</td>\n",
       "      <td>1049785</td>\n",
       "      <td>2027591.0</td>\n",
       "      <td>2642.530001</td>\n",
       "      <td>6056908.5</td>\n",
       "      <td>5010500</td>\n",
       "    </tr>\n",
       "    <tr>\n",
       "      <th>Great Lakes</th>\n",
       "      <td>146.6519</td>\n",
       "      <td>5047</td>\n",
       "      <td>230591</td>\n",
       "      <td>7139583</td>\n",
       "      <td>2135624</td>\n",
       "      <td>1535641</td>\n",
       "      <td>4088725.0</td>\n",
       "      <td>4827.380002</td>\n",
       "      <td>13754205.5</td>\n",
       "      <td>8241700</td>\n",
       "    </tr>\n",
       "    <tr>\n",
       "      <th>Great Plains</th>\n",
       "      <td>103.4594</td>\n",
       "      <td>3496</td>\n",
       "      <td>159868</td>\n",
       "      <td>4650422</td>\n",
       "      <td>1318285</td>\n",
       "      <td>987455</td>\n",
       "      <td>2613421.5</td>\n",
       "      <td>3307.630002</td>\n",
       "      <td>9260956.5</td>\n",
       "      <td>5532400</td>\n",
       "    </tr>\n",
       "    <tr>\n",
       "      <th>Mid-Atlantic</th>\n",
       "      <td>143.5166</td>\n",
       "      <td>5359</td>\n",
       "      <td>244029</td>\n",
       "      <td>8576547</td>\n",
       "      <td>2682305</td>\n",
       "      <td>1870441</td>\n",
       "      <td>4540801.5</td>\n",
       "      <td>4863.769985</td>\n",
       "      <td>15588469.0</td>\n",
       "      <td>10042700</td>\n",
       "    </tr>\n",
       "    <tr>\n",
       "      <th>New England</th>\n",
       "      <td>58.6137</td>\n",
       "      <td>2339</td>\n",
       "      <td>106550</td>\n",
       "      <td>3844821</td>\n",
       "      <td>1295818</td>\n",
       "      <td>873393</td>\n",
       "      <td>1857967.0</td>\n",
       "      <td>2062.410002</td>\n",
       "      <td>7039452.5</td>\n",
       "      <td>4371500</td>\n",
       "    </tr>\n",
       "    <tr>\n",
       "      <th>Rocky Mountains</th>\n",
       "      <td>27.0699</td>\n",
       "      <td>830</td>\n",
       "      <td>37832</td>\n",
       "      <td>851746</td>\n",
       "      <td>313560</td>\n",
       "      <td>262063</td>\n",
       "      <td>512864.5</td>\n",
       "      <td>801.000004</td>\n",
       "      <td>1643557.5</td>\n",
       "      <td>1313600</td>\n",
       "    </tr>\n",
       "    <tr>\n",
       "      <th>Southeast</th>\n",
       "      <td>222.2242</td>\n",
       "      <td>8002</td>\n",
       "      <td>369224</td>\n",
       "      <td>10164652</td>\n",
       "      <td>3059051</td>\n",
       "      <td>2399075</td>\n",
       "      <td>5770297.5</td>\n",
       "      <td>8101.919992</td>\n",
       "      <td>17715552.5</td>\n",
       "      <td>12410900</td>\n",
       "    </tr>\n",
       "    <tr>\n",
       "      <th>Southwest</th>\n",
       "      <td>61.9740</td>\n",
       "      <td>2107</td>\n",
       "      <td>97219</td>\n",
       "      <td>2534375</td>\n",
       "      <td>805715</td>\n",
       "      <td>682366</td>\n",
       "      <td>1395714.5</td>\n",
       "      <td>2154.990007</td>\n",
       "      <td>4216426.5</td>\n",
       "      <td>3545100</td>\n",
       "    </tr>\n",
       "  </tbody>\n",
       "</table>\n",
       "</div>"
      ],
      "text/plain": [
       "                 AdmissionRate  ACTMedian  SATAverage  AverageCost  \\\n",
       "Region                                                               \n",
       "Far West               71.8240       2796      127833      4266361   \n",
       "Great Lakes           146.6519       5047      230591      7139583   \n",
       "Great Plains          103.4594       3496      159868      4650422   \n",
       "Mid-Atlantic          143.5166       5359      244029      8576547   \n",
       "New England            58.6137       2339      106550      3844821   \n",
       "Rocky Mountains        27.0699        830       37832       851746   \n",
       "Southeast             222.2242       8002      369224     10164652   \n",
       "Southwest              61.9740       2107       97219      2534375   \n",
       "\n",
       "                 Expenditure  AverageFacultySalary  MedianDebt  \\\n",
       "Region                                                           \n",
       "Far West             1493468               1049785   2027591.0   \n",
       "Great Lakes          2135624               1535641   4088725.0   \n",
       "Great Plains         1318285                987455   2613421.5   \n",
       "Mid-Atlantic         2682305               1870441   4540801.5   \n",
       "New England          1295818                873393   1857967.0   \n",
       "Rocky Mountains       313560                262063    512864.5   \n",
       "Southeast            3059051               2399075   5770297.5   \n",
       "Southwest             805715                682366   1395714.5   \n",
       "\n",
       "                 AverageAgeofEntry  MedianFamilyIncome  MedianEarnings  \n",
       "Region                                                                  \n",
       "Far West               2642.530001           6056908.5         5010500  \n",
       "Great Lakes            4827.380002          13754205.5         8241700  \n",
       "Great Plains           3307.630002           9260956.5         5532400  \n",
       "Mid-Atlantic           4863.769985          15588469.0        10042700  \n",
       "New England            2062.410002           7039452.5         4371500  \n",
       "Rocky Mountains         801.000004           1643557.5         1313600  \n",
       "Southeast              8101.919992          17715552.5        12410900  \n",
       "Southwest              2154.990007           4216426.5         3545100  "
      ]
     },
     "metadata": {},
     "output_type": "display_data"
    }
   ],
   "source": [
    "df = pd.read_csv(\"../lux/data/college.csv\")\n",
    "# df.set_intent([\"Horsepower\", \"Displacement\"])\n",
    "# df = df.select_dtypes(exclude=['string', 'object']).columns\n",
    "# [i for i in df.dtypes if i != 'O']\n",
    "\n",
    "# df = pd.DataFrame({\n",
    "#     'a': ['a','b','c','d'], \n",
    "#     'b': [1, 'b', 'c', 2], \n",
    "#     'c': [1, 2, 3, 4], \n",
    "#     'd': ['A', 'B', 'B', 'A'], \n",
    "#     'e': pd.to_datetime('today')})\n",
    "# [i for i in df.dtypes if i != 'str']\n",
    "# df = df[[\"Year\", \"Displacement\"]]\n",
    "# df.intent = [\"Year\"]\n",
    "# df\n",
    "# df.current_vis[0].to_matplotlib_code()\n",
    "# len(df.columns)\n",
    "\n",
    "groupbyResult = df.groupby(\"Region\").sum()\n",
    "groupbyResult"
   ]
  },
  {
   "cell_type": "code",
   "execution_count": null,
   "metadata": {},
   "outputs": [],
   "source": [
    "df.recommendation"
   ]
  },
  {
   "cell_type": "code",
   "execution_count": null,
   "metadata": {},
   "outputs": [],
   "source": [
    "df"
   ]
  },
  {
   "cell_type": "code",
   "execution_count": null,
   "metadata": {},
   "outputs": [],
   "source": [
    "df.exported[0].to_matplotlib_code()"
   ]
  },
  {
   "cell_type": "code",
   "execution_count": 12,
   "metadata": {},
   "outputs": [
    {
     "data": {
      "text/html": [
       "\n",
       "<div id=\"altair-viz-1c9e3a187a084ab5a3c1eb9eae335972\"></div>\n",
       "<script type=\"text/javascript\">\n",
       "  (function(spec, embedOpt){\n",
       "    let outputDiv = document.currentScript.previousElementSibling;\n",
       "    if (outputDiv.id !== \"altair-viz-1c9e3a187a084ab5a3c1eb9eae335972\") {\n",
       "      outputDiv = document.getElementById(\"altair-viz-1c9e3a187a084ab5a3c1eb9eae335972\");\n",
       "    }\n",
       "    const paths = {\n",
       "      \"vega\": \"https://cdn.jsdelivr.net/npm//vega@5?noext\",\n",
       "      \"vega-lib\": \"https://cdn.jsdelivr.net/npm//vega-lib?noext\",\n",
       "      \"vega-lite\": \"https://cdn.jsdelivr.net/npm//vega-lite@4.8.1?noext\",\n",
       "      \"vega-embed\": \"https://cdn.jsdelivr.net/npm//vega-embed@6?noext\",\n",
       "    };\n",
       "\n",
       "    function loadScript(lib) {\n",
       "      return new Promise(function(resolve, reject) {\n",
       "        var s = document.createElement('script');\n",
       "        s.src = paths[lib];\n",
       "        s.async = true;\n",
       "        s.onload = () => resolve(paths[lib]);\n",
       "        s.onerror = () => reject(`Error loading script: ${paths[lib]}`);\n",
       "        document.getElementsByTagName(\"head\")[0].appendChild(s);\n",
       "      });\n",
       "    }\n",
       "\n",
       "    function showError(err) {\n",
       "      outputDiv.innerHTML = `<div class=\"error\" style=\"color:red;\">${err}</div>`;\n",
       "      throw err;\n",
       "    }\n",
       "\n",
       "    function displayChart(vegaEmbed) {\n",
       "      vegaEmbed(outputDiv, spec, embedOpt)\n",
       "        .catch(err => showError(`Javascript Error: ${err.message}<br>This usually means there's a typo in your chart specification. See the javascript console for the full traceback.`));\n",
       "    }\n",
       "\n",
       "    if(typeof define === \"function\" && define.amd) {\n",
       "      requirejs.config({paths});\n",
       "      require([\"vega-embed\"], displayChart, err => showError(`Error loading script: ${err.message}`));\n",
       "    } else if (typeof vegaEmbed === \"function\") {\n",
       "      displayChart(vegaEmbed);\n",
       "    } else {\n",
       "      loadScript(\"vega\")\n",
       "        .then(() => loadScript(\"vega-lite\"))\n",
       "        .then(() => loadScript(\"vega-embed\"))\n",
       "        .catch(showError)\n",
       "        .then(() => displayChart(vegaEmbed));\n",
       "    }\n",
       "  })({\"config\": {\"view\": {\"continuousWidth\": 400, \"continuousHeight\": 300}}, \"data\": {\"name\": \"data-c2a3e89ba9d5d1687d5e8c28d630a033\"}, \"mark\": \"bar\", \"encoding\": {\"x\": {\"type\": \"nominal\", \"axis\": {\"labelOverlap\": true, \"title\": \"a...\"}, \"field\": \"a\"}, \"y\": {\"type\": \"quantitative\", \"field\": \"b\"}}, \"$schema\": \"https://vega.github.io/schema/vega-lite/v4.8.1.json\", \"datasets\": {\"data-c2a3e89ba9d5d1687d5e8c28d630a033\": [{\"a\": \"A\", \"b\": 28}, {\"a\": \"B\", \"b\": 55}, {\"a\": \"C\", \"b\": 43}, {\"a\": \"D\", \"b\": 91}, {\"a\": \"E\", \"b\": 81}, {\"a\": \"F\", \"b\": 53}, {\"a\": \"G\", \"b\": 19}, {\"a\": \"H\", \"b\": 87}, {\"a\": \"I\", \"b\": 52}]}}, {\"mode\": \"vega-lite\"});\n",
       "</script>"
      ],
      "text/plain": [
       "alt.Chart(...)"
      ]
     },
     "execution_count": 12,
     "metadata": {},
     "output_type": "execute_result"
    }
   ],
   "source": [
    "\n",
    "# import altair as alt\n",
    "# alt.Chart(df).mark_bar().encode(\n",
    "#     x=alt.X(longtitle, axis=alt.Axis(title=longtitle)),\n",
    "#     y=alt.Y(df., axis=alt.Axis(title=\"Record\"))\n",
    "# )\n",
    "import altair as alt\n",
    "import pandas as pd\n",
    "source = pd.DataFrame({\n",
    "    'a': ['A', 'B', 'C', 'D', 'E', 'F', 'G', 'H', 'I'],\n",
    "    'b': [28, 55, 43, 91, 81, 53, 19, 87, 52]\n",
    "})\n",
    "chart = alt.Chart(source).mark_bar().encode(\n",
    "    x=alt.X('a', axis=alt.Axis(labelOverlap=True)),\n",
    "    y=alt.Y('b')\n",
    ")\n",
    "chart.encoding.x.axis.title = 'a...'\n",
    "chart"
   ]
  },
  {
   "cell_type": "code",
   "execution_count": null,
   "metadata": {},
   "outputs": [],
   "source": [
    "longtitle = 'Students across social identities have meaningful opportunities to demonstrate or access the above learning opportunities.'\n",
    "longtitle2 = 'The teacher provides supports, encouragement, and opportunities equally well for all students in the class, across all sub-groups.'"
   ]
  },
  {
   "cell_type": "code",
   "execution_count": null,
   "metadata": {},
   "outputs": [],
   "source": [
    "df.columns = df.columns.str.replace(\".\",\"\")"
   ]
  },
  {
   "cell_type": "code",
   "execution_count": null,
   "metadata": {},
   "outputs": [],
   "source": [
    "df"
   ]
  },
  {
   "cell_type": "code",
   "execution_count": null,
   "metadata": {},
   "outputs": [],
   "source": [
    "df.rename(columns={longtitle:longtitle[:-1],longtitle2:longtitle2[:-1]})"
   ]
  },
  {
   "cell_type": "code",
   "execution_count": null,
   "metadata": {},
   "outputs": [],
   "source": [
    "df.data_model"
   ]
  },
  {
   "cell_type": "code",
   "execution_count": null,
   "metadata": {},
   "outputs": [],
   "source": []
  }
 ],
 "metadata": {
  "kernelspec": {
   "display_name": "Python 3",
   "language": "python",
   "name": "python3"
  },
  "language_info": {
   "codemirror_mode": {
    "name": "ipython",
    "version": 3
   },
   "file_extension": ".py",
   "mimetype": "text/x-python",
   "name": "python",
   "nbconvert_exporter": "python",
   "pygments_lexer": "ipython3",
   "version": "3.8.5"
  }
 },
 "nbformat": 4,
 "nbformat_minor": 4
}

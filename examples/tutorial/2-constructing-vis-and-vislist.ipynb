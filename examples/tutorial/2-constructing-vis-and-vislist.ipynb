{
 "cells": [
  {
   "cell_type": "code",
   "execution_count": 1,
   "metadata": {},
   "outputs": [],
   "source": [
    "import pandas as pd\n",
    "import lux\n",
    "\n",
    "df = pd.read_csv(\"../../lux/data/olympic.csv\")\n",
    "df[\"Year\"] = pd.to_datetime(df[\"Year\"], format='%Y') # change pandas dtype for the column \"Year\" to datetype"
   ]
  },
  {
   "cell_type": "markdown",
   "metadata": {},
   "source": [
    "# Specifying Visualizations"
   ]
  },
  {
   "cell_type": "markdown",
   "metadata": {},
   "source": [
    "Vis objects represents individual visualizations displayed in Lux. Lists of visualizations are stored as VisList objects. visualizations can either be automatically generated in Lux or defined by the user.\n"
   ]
  },
  {
   "cell_type": "code",
   "execution_count": 2,
   "metadata": {},
   "outputs": [],
   "source": [
    "from lux.vis.Vis import Vis\n",
    "intent = [\"Weight\"]\n",
    "vis = Vis(intent,df)"
   ]
  },
  {
   "cell_type": "markdown",
   "metadata": {},
   "source": [
    "To render the visualization, we need to attach the vis to data via the `load` function."
   ]
  },
  {
   "cell_type": "code",
   "execution_count": 3,
   "metadata": {},
   "outputs": [
    {
     "data": {
      "application/vnd.jupyter.widget-view+json": {
       "model_id": "263242fe6f9a4a408a14bb81965fba18",
       "version_major": 2,
       "version_minor": 0
      },
      "text/plain": [
       "LuxWidget(current_vis={'config': {'view': {'continuousWidth': 400, 'continuousHeight': 300}, 'axis': {'labelCo…"
      ]
     },
     "metadata": {},
     "output_type": "display_data"
    },
    {
     "data": {
      "text/plain": [
       "<Vis  (x: BIN(Weight), y: COUNT(Record)) mark: histogram, score: 0.0 >"
      ]
     },
     "execution_count": 3,
     "metadata": {},
     "output_type": "execute_result"
    }
   ],
   "source": [
    "vis"
   ]
  },
  {
   "cell_type": "code",
   "execution_count": null,
   "metadata": {},
   "outputs": [],
   "source": [
    "vis.set_intent([\"\"])"
   ]
  },
  {
   "cell_type": "markdown",
   "metadata": {},
   "source": [
    "The decoupling of the vis and its associated data is useful for making quick comparisons. \n",
    "We can very easily swap out the vis's data without changing the vis definition, which is useful for comparing differences across different datasets with the same schema. For example, we might be interested in the same Weight distribution but plotted only on the subset of data with female athletes."
   ]
  },
  {
   "cell_type": "code",
   "execution_count": 8,
   "metadata": {},
   "outputs": [
    {
     "data": {
      "application/vnd.jupyter.widget-view+json": {
       "model_id": "4dbf409ed2334bf6b5581a93d55da8d1",
       "version_major": 2,
       "version_minor": 0
      },
      "text/plain": [
       "LuxWidget(current_vis={'config': {'view': {'continuousWidth': 400, 'continuousHeight': 300}, 'axis': {'labelCo…"
      ]
     },
     "metadata": {},
     "output_type": "display_data"
    },
    {
     "data": {
      "text/plain": [
       "<Vis  (x: BIN(Weight), y: COUNT(Record)) mark: histogram, score: 0.0 >"
      ]
     },
     "execution_count": 8,
     "metadata": {},
     "output_type": "execute_result"
    }
   ],
   "source": [
    "vis.refresh_source(df[df[\"Sex\"]=='F'])\n",
    "vis"
   ]
  },
  {
   "cell_type": "code",
   "execution_count": 5,
   "metadata": {},
   "outputs": [
    {
     "name": "stdout",
     "output_type": "stream",
     "text": [
      "import altair as alt\n",
      "visData = pd.DataFrame({'Weight': {0: 34.9, 1: 44.7, 2: 54.5, 3: 64.30000000000001, 4: 74.1, 5: 83.9, 6: 93.70000000000002, 7: 103.5, 8: 113.30000000000001, 9: 123.1}, 'Count of Records': {0: 13.0, 1: 108.0, 2: 475.0, 3: 613.0, 4: 313.0, 5: 59.0, 6: 16.0, 7: 11.0, 8: 2.0, 9: 2.0}})\n",
      "\n",
      "chart = alt.Chart(visData).mark_bar(size=7.957894736842105).encode(\n",
      "    alt.X('Weight', title='Weight (binned)',bin=alt.Bin(binned=True), type='quantitative', axis=alt.Axis(labelOverlap=True), scale=alt.Scale(domain=(30.0, 163.0))),\n",
      "    alt.Y(\"Count of Records\", type=\"quantitative\")\n",
      ")\n",
      "chart = chart.configure_title(fontWeight=500,fontSize=13,font='Helvetica Neue')\n",
      "chart = chart.configure_axis(titleFontWeight=500,titleFontSize=11,titleFont='Helvetica Neue',\n",
      "\t\t\tlabelFontWeight=400,labelFontSize=8,labelFont='Helvetica Neue',labelColor='#505050')\n",
      "chart = chart.configure_legend(titleFontWeight=500,titleFontSize=10,titleFont='Helvetica Neue',\n",
      "\t\t\tlabelFontWeight=400,labelFontSize=8,labelFont='Helvetica Neue')\n",
      "chart = chart.properties(width=160,height=150)\n",
      "chart\n"
     ]
    }
   ],
   "source": [
    "print(vis.to_Altair())"
   ]
  },
  {
   "cell_type": "code",
   "execution_count": 6,
   "metadata": {},
   "outputs": [
    {
     "data": {
      "text/html": [
       "\n",
       "<div id=\"altair-viz-1234fe1b235d459c8962d95dfc6dcced\"></div>\n",
       "<script type=\"text/javascript\">\n",
       "  (function(spec, embedOpt){\n",
       "    let outputDiv = document.currentScript.previousElementSibling;\n",
       "    if (outputDiv.id !== \"altair-viz-1234fe1b235d459c8962d95dfc6dcced\") {\n",
       "      outputDiv = document.getElementById(\"altair-viz-1234fe1b235d459c8962d95dfc6dcced\");\n",
       "    }\n",
       "    const paths = {\n",
       "      \"vega\": \"https://cdn.jsdelivr.net/npm//vega@5?noext\",\n",
       "      \"vega-lib\": \"https://cdn.jsdelivr.net/npm//vega-lib?noext\",\n",
       "      \"vega-lite\": \"https://cdn.jsdelivr.net/npm//vega-lite@4.8.1?noext\",\n",
       "      \"vega-embed\": \"https://cdn.jsdelivr.net/npm//vega-embed@6?noext\",\n",
       "    };\n",
       "\n",
       "    function loadScript(lib) {\n",
       "      return new Promise(function(resolve, reject) {\n",
       "        var s = document.createElement('script');\n",
       "        s.src = paths[lib];\n",
       "        s.async = true;\n",
       "        s.onload = () => resolve(paths[lib]);\n",
       "        s.onerror = () => reject(`Error loading script: ${paths[lib]}`);\n",
       "        document.getElementsByTagName(\"head\")[0].appendChild(s);\n",
       "      });\n",
       "    }\n",
       "\n",
       "    function showError(err) {\n",
       "      outputDiv.innerHTML = `<div class=\"error\" style=\"color:red;\">${err}</div>`;\n",
       "      throw err;\n",
       "    }\n",
       "\n",
       "    function displayChart(vegaEmbed) {\n",
       "      vegaEmbed(outputDiv, spec, embedOpt)\n",
       "        .catch(err => showError(`Javascript Error: ${err.message}<br>This usually means there's a typo in your chart specification. See the javascript console for the full traceback.`));\n",
       "    }\n",
       "\n",
       "    if(typeof define === \"function\" && define.amd) {\n",
       "      requirejs.config({paths});\n",
       "      require([\"vega-embed\"], displayChart, err => showError(`Error loading script: ${err.message}`));\n",
       "    } else if (typeof vegaEmbed === \"function\") {\n",
       "      displayChart(vegaEmbed);\n",
       "    } else {\n",
       "      loadScript(\"vega\")\n",
       "        .then(() => loadScript(\"vega-lite\"))\n",
       "        .then(() => loadScript(\"vega-embed\"))\n",
       "        .catch(showError)\n",
       "        .then(() => displayChart(vegaEmbed));\n",
       "    }\n",
       "  })({\"config\": {\"view\": {\"continuousWidth\": 400, \"continuousHeight\": 300}, \"axis\": {\"labelColor\": \"#505050\", \"labelFont\": \"Helvetica Neue\", \"labelFontSize\": 8, \"labelFontWeight\": 400, \"titleFont\": \"Helvetica Neue\", \"titleFontSize\": 11, \"titleFontWeight\": 500}, \"legend\": {\"labelFont\": \"Helvetica Neue\", \"labelFontSize\": 8, \"labelFontWeight\": 400, \"titleFont\": \"Helvetica Neue\", \"titleFontSize\": 10, \"titleFontWeight\": 500}, \"title\": {\"font\": \"Helvetica Neue\", \"fontSize\": 13, \"fontWeight\": 500}}, \"data\": {\"name\": \"data-c1ecf1be337515e2ee9f5fca46431940\"}, \"mark\": {\"type\": \"bar\", \"size\": 7.957894736842105}, \"encoding\": {\"x\": {\"type\": \"quantitative\", \"axis\": {\"labelOverlap\": true}, \"bin\": {\"binned\": true}, \"field\": \"Weight\", \"scale\": {\"domain\": [30.0, 163.0]}, \"title\": \"Weight (binned)\"}, \"y\": {\"type\": \"quantitative\", \"field\": \"Count of Records\"}}, \"height\": 150, \"width\": 160, \"$schema\": \"https://vega.github.io/schema/vega-lite/v4.8.1.json\", \"datasets\": {\"data-c1ecf1be337515e2ee9f5fca46431940\": [{\"Weight\": 34.9, \"Count of Records\": 13.0}, {\"Weight\": 44.7, \"Count of Records\": 108.0}, {\"Weight\": 54.5, \"Count of Records\": 475.0}, {\"Weight\": 64.30000000000001, \"Count of Records\": 613.0}, {\"Weight\": 74.1, \"Count of Records\": 313.0}, {\"Weight\": 83.9, \"Count of Records\": 59.0}, {\"Weight\": 93.70000000000002, \"Count of Records\": 16.0}, {\"Weight\": 103.5, \"Count of Records\": 11.0}, {\"Weight\": 113.30000000000001, \"Count of Records\": 2.0}, {\"Weight\": 123.1, \"Count of Records\": 2.0}]}}, {\"mode\": \"vega-lite\"});\n",
       "</script>"
      ],
      "text/plain": [
       "alt.Chart(...)"
      ]
     },
     "execution_count": 6,
     "metadata": {},
     "output_type": "execute_result"
    }
   ],
   "source": [
    "import altair as alt\n",
    "visData = pd.DataFrame({'Weight': {0: 34.9, 1: 44.7, 2: 54.5, 3: 64.30000000000001, 4: 74.1, 5: 83.9, 6: 93.70000000000002, 7: 103.5, 8: 113.30000000000001, 9: 123.1}, 'Count of Records': {0: 13.0, 1: 108.0, 2: 475.0, 3: 613.0, 4: 313.0, 5: 59.0, 6: 16.0, 7: 11.0, 8: 2.0, 9: 2.0}})\n",
    "\n",
    "chart = alt.Chart(visData).mark_bar(size=7.957894736842105).encode(\n",
    "    alt.X('Weight', title='Weight (binned)',bin=alt.Bin(binned=True), type='quantitative', axis=alt.Axis(labelOverlap=True), scale=alt.Scale(domain=(30.0, 163.0))),\n",
    "    alt.Y(\"Count of Records\", type=\"quantitative\")\n",
    ")\n",
    "chart = chart.configure_title(fontWeight=500,fontSize=13,font='Helvetica Neue')\n",
    "chart = chart.configure_axis(titleFontWeight=500,titleFontSize=11,titleFont='Helvetica Neue',\n",
    "\t\t\tlabelFontWeight=400,labelFontSize=8,labelFont='Helvetica Neue',labelColor='#505050')\n",
    "chart = chart.configure_legend(titleFontWeight=500,titleFontSize=10,titleFont='Helvetica Neue',\n",
    "\t\t\tlabelFontWeight=400,labelFontSize=8,labelFont='Helvetica Neue')\n",
    "chart = chart.properties(width=160,height=150)\n",
    "chart"
   ]
  },
  {
   "cell_type": "markdown",
   "metadata": {},
   "source": [
    "# Specifying Vis Lists"
   ]
  },
  {
   "cell_type": "markdown",
   "metadata": {},
   "source": [
    "There are two different ways to specify lists of visualization in Lux: 1) via Query or 2) via manual Vis construction.\n",
    "\n",
    "First, we see an example of a vis collection created in a similiar procedure as visualizations through the Query syntax. Here, we create a vis collection of `Weight` with respect to all other attributes."
   ]
  },
  {
   "cell_type": "markdown",
   "metadata": {},
   "source": [
    "Using the Query syntax, we can make use of wildcards:"
   ]
  },
  {
   "cell_type": "code",
   "execution_count": 7,
   "metadata": {},
   "outputs": [
    {
     "data": {
      "application/vnd.jupyter.widget-view+json": {
       "model_id": "b62ffd2bd28045f086a6511e4066fa3f",
       "version_major": 2,
       "version_minor": 0
      },
      "text/plain": [
       "LuxWidget(recommendations=[{'action': 'Vis List', 'description': 'Shows a vis list defined by the intent', 'vs…"
      ]
     },
     "metadata": {},
     "output_type": "display_data"
    },
    {
     "data": {
      "text/plain": [
       "[<Vis  (x: Weight      , y: Age           ) mark: scatter, score: 0.00 >,\n",
       " <Vis  (x: Weight      , y: Height        ) mark: scatter, score: 0.00 >,\n",
       " <Vis  (x: MEAN(Weight), y: SportType     ) mark: bar    , score: 0.00 >,\n",
       " <Vis  (x: Year        , y: MEAN(Weight)  ) mark: line   , score: 0.00 >,\n",
       " <Vis  (x: MEAN(Weight), y: Sport         ) mark: bar    , score: 0.00 >,\n",
       " <Vis  (x: MEAN(Weight), y: MedalType     ) mark: bar    , score: 0.00 >,\n",
       " <Vis  (x: MEAN(Weight), y: Season        ) mark: bar    , score: 0.00 >,\n",
       " <Vis  (x: MEAN(Weight), y: Sex           ) mark: bar    , score: 0.00 >,\n",
       " <Vis  (x: MEAN(Weight), y: HostRegion    ) mark: bar    , score: 0.00 >,\n",
       " <Vis  (x: MEAN(Weight), y: AthleteRegion ) mark: bar    , score: 0.00 >,\n",
       " <Vis  (x: MEAN(Weight), y: HostCity      ) mark: bar    , score: 0.00 >,\n",
       " <Vis  (x: MEAN(Weight), y: AthleteCountry) mark: bar    , score: 0.00 >]"
      ]
     },
     "execution_count": 7,
     "metadata": {},
     "output_type": "execute_result"
    }
   ],
   "source": [
    "from lux.vis.VisList import VisList\n",
    "vc = VisList([\"Weight\",\"?\"],df)\n",
    "vc"
   ]
  },
  {
   "cell_type": "markdown",
   "metadata": {},
   "source": [
    "Or specify desired attributes via a list: "
   ]
  },
  {
   "cell_type": "code",
   "execution_count": 8,
   "metadata": {
    "scrolled": false
   },
   "outputs": [
    {
     "data": {
      "application/vnd.jupyter.widget-view+json": {
       "model_id": "8de65bd55bb14b869cc621ea568f3207",
       "version_major": 2,
       "version_minor": 0
      },
      "text/plain": [
       "LuxWidget(recommendations=[{'action': 'Vis List', 'description': 'Shows a vis list defined by the intent', 'vs…"
      ]
     },
     "metadata": {},
     "output_type": "display_data"
    },
    {
     "data": {
      "text/plain": [
       "[<Vis  (x: MEAN(Weight), y: Sport       ) mark: bar    , score: 0.00 >,\n",
       " <Vis  (x: Year        , y: MEAN(Weight)) mark: line   , score: 0.00 >,\n",
       " <Vis  (x: Weight      , y: Height      ) mark: scatter, score: 0.00 >,\n",
       " <Vis  (x: MEAN(Weight), y: HostRegion  ) mark: bar    , score: 0.00 >,\n",
       " <Vis  (x: MEAN(Weight), y: SportType   ) mark: bar    , score: 0.00 >]"
      ]
     },
     "execution_count": 8,
     "metadata": {},
     "output_type": "execute_result"
    }
   ],
   "source": [
    "vc = VisList([\"Weight\",['Sport','Year','Height','HostRegion','SportType']],df)\n",
    "vc"
   ]
  },
  {
   "cell_type": "markdown",
   "metadata": {},
   "source": [
    "Alternatively, vis collections can be manually constructed by individually specifying the content of each vis."
   ]
  },
  {
   "cell_type": "code",
   "execution_count": 9,
   "metadata": {},
   "outputs": [],
   "source": [
    "from lux.vis.VisList import VisList\n",
    "\n",
    "vcLst = []\n",
    "for attribute in ['Sport','Year','Height','HostRegion','SportType']: \n",
    "    vis = Vis([lux.Clause(\"Weight\"), lux.Clause(attribute)])\n",
    "    vcLst.append(vis)\n",
    "vc = VisList(vcLst,df)"
   ]
  },
  {
   "cell_type": "code",
   "execution_count": 10,
   "metadata": {},
   "outputs": [
    {
     "data": {
      "application/vnd.jupyter.widget-view+json": {
       "model_id": "58e9174e515c411bbd3c9ddf97d85bda",
       "version_major": 2,
       "version_minor": 0
      },
      "text/plain": [
       "LuxWidget(recommendations=[{'action': 'Vis List', 'description': 'Shows a vis list defined by the intent', 'vs…"
      ]
     },
     "metadata": {},
     "output_type": "display_data"
    },
    {
     "data": {
      "text/plain": [
       "[<Vis  (x: MEAN(Weight), y: Sport       ) mark: bar    , score: 0.00 >,\n",
       " <Vis  (x: Year        , y: MEAN(Weight)) mark: line   , score: 0.00 >,\n",
       " <Vis  (x: Weight      , y: Height      ) mark: scatter, score: 0.00 >,\n",
       " <Vis  (x: MEAN(Weight), y: HostRegion  ) mark: bar    , score: 0.00 >,\n",
       " <Vis  (x: MEAN(Weight), y: SportType   ) mark: bar    , score: 0.00 >]"
      ]
     },
     "execution_count": 10,
     "metadata": {},
     "output_type": "execute_result"
    }
   ],
   "source": [
    "vc"
   ]
  },
  {
   "cell_type": "code",
   "execution_count": null,
   "metadata": {},
   "outputs": [],
   "source": []
  }
 ],
 "metadata": {
  "history": [
   {
    "time": "2020-07-22T07:57:15.318Z",
    "type": "kernelReady"
   },
   {
    "time": "2020-07-22T08:31:29.656Z",
    "type": "kernelReady"
   },
   {
    "code": "# Specifying visualizations",
    "id": "7beb732dadcc44978ccfc1157a23726f",
    "order_count": 2,
    "time": "2020-07-22T08:31:32.615Z",
    "type": "selectMarkdownCell"
   },
   {
    "code": "# Specifying visualizations",
    "id": "7beb732dadcc44978ccfc1157a23726f",
    "order_count": 2,
    "time": "2020-07-22T08:31:32.803Z",
    "type": "selectMarkdownCell"
   },
   {
    "code": "# Specifying visualizations",
    "id": "7beb732dadcc44978ccfc1157a23726f",
    "order_count": 2,
    "time": "2020-07-22T08:31:33.551Z",
    "type": "editMarkdownCell"
   },
   {
    "code": "# Specifying visualizations",
    "id": "7beb732dadcc44978ccfc1157a23726f",
    "order_count": 2,
    "time": "2020-07-22T08:31:33.959Z",
    "type": "selectMarkdownCell"
   },
   {
    "code": "Vis objects represents individual visualizations displayed in Lux. Lists of visualizations are stored as VisList objects. visualizations can either be automatically generated in Lux or defined by the user.\n",
    "id": "a8353b127475432986a519f31b767e58",
    "order_count": 3,
    "time": "2020-07-22T08:31:38.691Z",
    "type": "selectMarkdownCell"
   },
   {
    "code": "# Specifying Vis Collections",
    "id": "0c6ad49c981e4cdd8e247c60e303a1dd",
    "order_count": 9,
    "time": "2020-07-22T08:31:41.126Z",
    "type": "selectMarkdownCell"
   },
   {
    "code": "# Specifying Vis Collections",
    "id": "0c6ad49c981e4cdd8e247c60e303a1dd",
    "order_count": 9,
    "time": "2020-07-22T08:31:41.276Z",
    "type": "selectMarkdownCell"
   },
   {
    "code": "# Specifying Vis Collections",
    "id": "0c6ad49c981e4cdd8e247c60e303a1dd",
    "order_count": 9,
    "time": "2020-07-22T08:31:41.957Z",
    "type": "editMarkdownCell"
   },
   {
    "code": "# Specifying Vis Collections",
    "id": "0c6ad49c981e4cdd8e247c60e303a1dd",
    "order_count": 9,
    "time": "2020-07-22T08:31:42.495Z",
    "type": "selectMarkdownCell"
   },
   {
    "code": "There are two different ways to specify vis collections in Lux: 1) via Query or 2) via manual Vis construction.\n\nFirst, we see an example of a vis collection created in a similiar procedure as visualizations through the Query syntax. Here, we create a vis collection of `Weight` with respect to all other attributes.",
    "id": "f66167de4c96431fb571baa8f1131a28",
    "order_count": 10,
    "time": "2020-07-22T08:31:47.872Z",
    "type": "selectMarkdownCell"
   },
   {
    "code": "There are two different ways to specify vis collections in Lux: 1) via Query or 2) via manual Vis construction.\n\nFirst, we see an example of a vis collection created in a similiar procedure as visualizations through the Query syntax. Here, we create a vis collection of `Weight` with respect to all other attributes.",
    "id": "f66167de4c96431fb571baa8f1131a28",
    "order_count": 10,
    "time": "2020-07-22T08:31:49.036Z",
    "type": "selectMarkdownCell"
   },
   {
    "code": "There are two different ways to specify vis collections in Lux: 1) via Query or 2) via manual Vis construction.\n\nFirst, we see an example of a vis collection created in a similiar procedure as visualizations through the Query syntax. Here, we create a vis collection of `Weight` with respect to all other attributes.",
    "id": "f66167de4c96431fb571baa8f1131a28",
    "order_count": 10,
    "time": "2020-07-22T08:31:49.205Z",
    "type": "selectMarkdownCell"
   },
   {
    "code": "There are two different ways to specify vis collections in Lux: 1) via Query or 2) via manual Vis construction.\n\nFirst, we see an example of a vis collection created in a similiar procedure as visualizations through the Query syntax. Here, we create a vis collection of `Weight` with respect to all other attributes.",
    "id": "f66167de4c96431fb571baa8f1131a28",
    "order_count": 10,
    "time": "2020-07-22T08:31:50.317Z",
    "type": "editMarkdownCell"
   },
   {
    "code": "There are two different ways to specify vis collections in Lux: 1) via Query or 2) via manual Vis construction.\n\nFirst, we see an example of a vis collection created in a similiar procedure as visualizations through the Query syntax. Here, we create a vis collection of `Weight` with respect to all other attributes.",
    "id": "f66167de4c96431fb571baa8f1131a28",
    "order_count": 10,
    "time": "2020-07-22T08:31:52.048Z",
    "type": "selectMarkdownCell"
   },
   {
    "code": "Using the Query syntax, we can make use of wildcards:",
    "id": "32586c7ef8d14b3982d51df0933e72a8",
    "order_count": 11,
    "time": "2020-07-22T08:32:03.689Z",
    "type": "selectMarkdownCell"
   },
   {
    "time": "2020-07-22T08:32:49.388Z",
    "type": "kernelRestart"
   },
   {
    "time": "2020-07-22T08:32:50.246Z",
    "type": "kernelReady"
   },
   {
    "time": "2020-07-22T08:32:50.258Z",
    "type": "kernelReady"
   }
  ],
  "kernelspec": {
   "display_name": "Python 3",
   "language": "python",
   "name": "python3"
  },
  "language_info": {
   "codemirror_mode": {
    "name": "ipython",
    "version": 3
   },
   "file_extension": ".py",
   "mimetype": "text/x-python",
   "name": "python",
   "nbconvert_exporter": "python",
   "pygments_lexer": "ipython3",
   "version": "3.7.7"
  }
 },
 "nbformat": 4,
 "nbformat_minor": 4
}

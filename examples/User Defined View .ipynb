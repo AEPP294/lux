{
 "cells": [
  {
   "cell_type": "code",
   "execution_count": 1,
   "metadata": {},
   "outputs": [
    {
     "name": "stdout",
     "output_type": "stream",
     "text": [
      "/Users/dorislee/Desktop/Research/lux/lux\n"
     ]
    }
   ],
   "source": [
    "cd .."
   ]
  },
  {
   "cell_type": "code",
   "execution_count": 2,
   "metadata": {},
   "outputs": [],
   "source": [
    "import pandas as pd\n",
    "import lux"
   ]
  },
  {
   "cell_type": "code",
   "execution_count": 3,
   "metadata": {},
   "outputs": [
    {
     "data": {
      "application/vnd.jupyter.widget-view+json": {
       "model_id": "16c237d721374ee081d9f5aef880469c",
       "version_major": 2,
       "version_minor": 0
      },
      "text/plain": [
       "Button(description='Toggle Pandas/Lux', style=ButtonStyle())"
      ]
     },
     "metadata": {},
     "output_type": "display_data"
    },
    {
     "data": {
      "application/vnd.jupyter.widget-view+json": {
       "model_id": "f95f4a4641644840936fbef65540719f",
       "version_major": 2,
       "version_minor": 0
      },
      "text/plain": [
       "Output()"
      ]
     },
     "metadata": {},
     "output_type": "display_data"
    },
    {
     "data": {
      "text/plain": []
     },
     "execution_count": 3,
     "metadata": {},
     "output_type": "execute_result"
    }
   ],
   "source": [
    "df = pd.read_csv(\"lux/data/olympic.csv\")\n",
    "df[\"Year\"] = pd.to_datetime(df[\"Year\"], format='%Y') # change pandas dtype for the column \"Year\" to datetype\n",
    "df"
   ]
  },
  {
   "cell_type": "markdown",
   "metadata": {},
   "source": [
    "# Specifying Views"
   ]
  },
  {
   "cell_type": "markdown",
   "metadata": {},
   "source": [
    "View objects represents individual visualizations displayed in Lux. Lists of views are stored as ViewCollection objects. Views can either be automatically generated in Lux or defined by the user.\n"
   ]
  },
  {
   "cell_type": "code",
   "execution_count": 4,
   "metadata": {},
   "outputs": [],
   "source": [
    "from lux.view.View import View\n",
    "view = View([\"Weight\"])"
   ]
  },
  {
   "cell_type": "code",
   "execution_count": 5,
   "metadata": {},
   "outputs": [
    {
     "data": {
      "application/vnd.jupyter.widget-view+json": {
       "model_id": "1aa807816a164710abcfdd80a08d1295",
       "version_major": 2,
       "version_minor": 0
      },
      "text/plain": [
       "LuxWidget(current_view={'config': {'view': {'continuousWidth': 400, 'continuousHeight': 300}}, 'data': {'name'…"
      ]
     },
     "metadata": {},
     "output_type": "display_data"
    },
    {
     "data": {
      "text/plain": [
       "<View  (x: BIN(Weight), y: COUNT(Record)) mark: histogram, score: 0.0 >"
      ]
     },
     "execution_count": 5,
     "metadata": {},
     "output_type": "execute_result"
    }
   ],
   "source": [
    "view = view.load(df)\n",
    "view"
   ]
  },
  {
   "cell_type": "code",
   "execution_count": 6,
   "metadata": {},
   "outputs": [
    {
     "data": {
      "application/vnd.jupyter.widget-view+json": {
       "model_id": "b60adc184a4e48859eabb707836e6528",
       "version_major": 2,
       "version_minor": 0
      },
      "text/plain": [
       "LuxWidget(current_view={'config': {'view': {'continuousWidth': 400, 'continuousHeight': 300}}, 'data': {'name'…"
      ]
     },
     "metadata": {},
     "output_type": "display_data"
    },
    {
     "data": {
      "text/plain": [
       "<View  (x: BIN(Weight), y: COUNT(Record)) mark: histogram, score: 0.0 >"
      ]
     },
     "execution_count": 6,
     "metadata": {},
     "output_type": "execute_result"
    }
   ],
   "source": [
    "view"
   ]
  },
  {
   "cell_type": "markdown",
   "metadata": {},
   "source": [
    "We can very easily swap out the view's data with a filtered dataset and compare the differences."
   ]
  },
  {
   "cell_type": "code",
   "execution_count": 7,
   "metadata": {},
   "outputs": [
    {
     "data": {
      "application/vnd.jupyter.widget-view+json": {
       "model_id": "a016ff218e064d129c6cf2ad463e50a4",
       "version_major": 2,
       "version_minor": 0
      },
      "text/plain": [
       "LuxWidget(current_view={'config': {'view': {'continuousWidth': 400, 'continuousHeight': 300}}, 'data': {'name'…"
      ]
     },
     "metadata": {},
     "output_type": "display_data"
    },
    {
     "data": {
      "text/plain": [
       "<View  (x: BIN(Weight), y: COUNT(Record)) mark: histogram, score: 0.0 >"
      ]
     },
     "execution_count": 7,
     "metadata": {},
     "output_type": "execute_result"
    }
   ],
   "source": [
    "view = view.load(df[df[\"Sex\"]=='F'])\n",
    "view"
   ]
  },
  {
   "cell_type": "markdown",
   "metadata": {},
   "source": [
    "# Specifying View Collections"
   ]
  },
  {
   "cell_type": "markdown",
   "metadata": {},
   "source": [
    "There are two different ways to specify view collections in Lux: 1) via Query or 2) via manual View construction.\n",
    "\n",
    "First, we see an example of a view collection created in a similiar procedure as views through the Query syntax. Here, we create a view collection of `Weight` with respect to all other attributes."
   ]
  },
  {
   "cell_type": "code",
   "execution_count": 8,
   "metadata": {
    "scrolled": false
   },
   "outputs": [
    {
     "data": {
      "application/vnd.jupyter.widget-view+json": {
       "model_id": "07c8752dfdc0481e8b152028646aa5ea",
       "version_major": 2,
       "version_minor": 0
      },
      "text/plain": [
       "LuxWidget(recommendations=[{'action': 'View Collection', 'description': 'Shows a view collection defined by th…"
      ]
     },
     "metadata": {},
     "output_type": "display_data"
    },
    {
     "data": {
      "text/plain": [
       "[<View  (x: MEAN(Weight), y: HostRegion    ) mark: bar    , score: 0.00 >,\n",
       " <View  (x: MEAN(Weight), y: HostCity      ) mark: bar    , score: 0.00 >,\n",
       " <View  (x: MEAN(Weight), y: Sex           ) mark: bar    , score: 0.00 >,\n",
       " <View  (x: Weight      , y: Age           ) mark: scatter, score: 0.00 >,\n",
       " <View  (x: MEAN(Weight), y: MedalType     ) mark: bar    , score: 0.00 >,\n",
       " <View  (x: MEAN(Weight), y: SportType     ) mark: bar    , score: 0.00 >,\n",
       " <View  (x: Year        , y: MEAN(Weight)  ) mark: line   , score: 0.00 >,\n",
       " <View  (x: MEAN(Weight), y: Season        ) mark: bar    , score: 0.00 >,\n",
       " <View  (x: Weight      , y: Height        ) mark: scatter, score: 0.00 >,\n",
       " <View  (x: MEAN(Weight), y: Sport         ) mark: bar    , score: 0.00 >,\n",
       " <View  (x: MEAN(Weight), y: AthleteCountry) mark: bar    , score: 0.00 >,\n",
       " <View  (x: MEAN(Weight), y: AthleteRegion ) mark: bar    , score: 0.00 >]"
      ]
     },
     "execution_count": 8,
     "metadata": {},
     "output_type": "execute_result"
    }
   ],
   "source": [
    "from lux.view.ViewCollection import ViewCollection\n",
    "vc = ViewCollection([\"Weight\",\"?\"])\n",
    "vc = vc.load(df)\n",
    "vc"
   ]
  },
  {
   "cell_type": "markdown",
   "metadata": {},
   "source": [
    "Alternatively, view collections can be manually constructed by individually specifying the content of each view."
   ]
  },
  {
   "cell_type": "code",
   "execution_count": 9,
   "metadata": {},
   "outputs": [],
   "source": [
    "from lux.view.ViewCollection import ViewCollection\n",
    "\n",
    "vcLst = []\n",
    "for attribute in ['Sport','Year','Height','HostRegion','SportType']: \n",
    "    view = View([lux.Spec(\"Weight\"), lux.Spec(attribute)])\n",
    "    vcLst.append(view)\n",
    "vc = ViewCollection(vcLst)"
   ]
  },
  {
   "cell_type": "code",
   "execution_count": 10,
   "metadata": {},
   "outputs": [],
   "source": [
    "vc = vc.load(df)"
   ]
  },
  {
   "cell_type": "code",
   "execution_count": 11,
   "metadata": {},
   "outputs": [
    {
     "data": {
      "application/vnd.jupyter.widget-view+json": {
       "model_id": "e433cfeaed8446a2ae00eb844de6ac89",
       "version_major": 2,
       "version_minor": 0
      },
      "text/plain": [
       "LuxWidget(recommendations=[{'action': 'View Collection', 'description': 'Shows a view collection defined by th…"
      ]
     },
     "metadata": {},
     "output_type": "display_data"
    },
    {
     "data": {
      "text/plain": [
       "[<View  (x: MEAN(Weight), y: Sport       ) mark: bar    , score: 0.00 >,\n",
       " <View  (x: Year        , y: MEAN(Weight)) mark: line   , score: 0.00 >,\n",
       " <View  (x: Weight      , y: Height      ) mark: scatter, score: 0.00 >,\n",
       " <View  (x: MEAN(Weight), y: HostRegion  ) mark: bar    , score: 0.00 >,\n",
       " <View  (x: MEAN(Weight), y: SportType   ) mark: bar    , score: 0.00 >]"
      ]
     },
     "execution_count": 11,
     "metadata": {},
     "output_type": "execute_result"
    }
   ],
   "source": [
    "vc"
   ]
  },
  {
   "cell_type": "code",
   "execution_count": null,
   "metadata": {},
   "outputs": [],
   "source": []
  },
  {
   "cell_type": "code",
   "execution_count": null,
   "metadata": {},
   "outputs": [],
   "source": []
  }
 ],
 "metadata": {
  "kernelspec": {
   "display_name": "Python 3",
   "language": "python",
   "name": "python3"
  },
  "language_info": {
   "codemirror_mode": {
    "name": "ipython",
    "version": 3
   },
   "file_extension": ".py",
   "mimetype": "text/x-python",
   "name": "python",
   "nbconvert_exporter": "python",
   "pygments_lexer": "ipython3",
   "version": "3.7.7"
  }
 },
 "nbformat": 4,
 "nbformat_minor": 4
}

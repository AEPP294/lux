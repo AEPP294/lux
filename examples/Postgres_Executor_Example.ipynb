{
 "cells": [
  {
   "cell_type": "code",
   "execution_count": null,
   "metadata": {},
   "outputs": [],
   "source": [
    "cd ../"
   ]
  },
  {
   "cell_type": "markdown",
   "metadata": {},
   "source": [
    "You can upload the car dataset to a local postgres database using the upload_car_data.py script in the lux/data folder. You will need to update the name of the database and the login credentials in that file."
   ]
  },
  {
   "cell_type": "code",
   "execution_count": null,
   "metadata": {},
   "outputs": [],
   "source": [
    "import lux\n",
    "import psycopg2\n",
    "import pandas as pd\n",
    "\n",
    "connection = psycopg2.connect(\"host=localhost dbname=postgres_db user=postgres password=lux\")\n",
    "\n",
    "sql_df = lux.LuxDataFrame()\n",
    "sql_df.set_SQL_connection(connection, \"car\")\n",
    "sql_df"
   ]
  },
  {
   "cell_type": "code",
   "execution_count": null,
   "metadata": {},
   "outputs": [],
   "source": [
    "sql_df.data_type"
   ]
  },
  {
   "cell_type": "code",
   "execution_count": null,
   "metadata": {},
   "outputs": [],
   "source": [
    "sql_df.set_intent([\"milespergal\", 'cylinders', Clause(attribute =\"horsepower\", filter_op=\">\", value=150)])\n",
    "sql_df"
   ]
  },
  {
   "cell_type": "code",
   "execution_count": null,
   "metadata": {},
   "outputs": [],
   "source": [
    "from lux.vis.Vis import Vis\n",
    "from lux.vis.Vis import Clause\n",
    "\n",
    "x_clause = Clause(attribute = \"milespergal\", channel = \"x\")\n",
    "y_clause = Clause(attribute = \"weight\", channel = \"y\")\n",
    "color_clause = Clause(attribute = 'cylinders', channel = \"color\")\n",
    "filter_clause = Clause(attribute =\"horsepower\", filter_op=\">\", value=150)\n",
    "\n",
    "new_vis = Vis([x_clause, y_clause, color_clause])\n",
    "new_vis.refresh_source(sql_df)\n",
    "new_vis"
   ]
  }
 ],
 "metadata": {
  "kernelspec": {
   "display_name": "Python 3",
   "language": "python",
   "name": "python3"
  },
  "language_info": {
   "codemirror_mode": {
    "name": "ipython",
    "version": 3
   },
   "file_extension": ".py",
   "mimetype": "text/x-python",
   "name": "python",
   "nbconvert_exporter": "python",
   "pygments_lexer": "ipython3",
   "version": "3.8.3"
  }
 },
 "nbformat": 4,
 "nbformat_minor": 4
}

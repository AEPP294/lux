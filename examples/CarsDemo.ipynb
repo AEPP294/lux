{
 "cells": [
  {
   "cell_type": "code",
   "execution_count": 1,
   "metadata": {},
   "outputs": [
    {
     "name": "stdout",
     "output_type": "stream",
     "text": [
      "/Users/caitlynachen/Desktop/luxresearch/lux\n"
     ]
    }
   ],
   "source": [
    "cd .."
   ]
  },
  {
   "cell_type": "code",
   "execution_count": 2,
   "metadata": {},
   "outputs": [],
   "source": [
    "import pandas as pd\n",
    "import lux"
   ]
  },
  {
   "cell_type": "markdown",
   "metadata": {},
   "source": [
    "Load in a dataset of 392 different cars from 1970-1982:"
   ]
  },
  {
   "cell_type": "code",
   "execution_count": 3,
   "metadata": {},
   "outputs": [
    {
     "name": "stdout",
     "output_type": "stream",
     "text": [
      "(9.0, 46.6)\n",
      "(3, 8)\n",
      "(68.0, 455.0)\n",
      "(46, 230)\n",
      "(1613, 5140)\n",
      "(8.0, 24.8)\n",
      "(1970, 1982)\n",
      "(15.0, 18.0)\n",
      "(8, 8)\n",
      "(302.0, 350.0)\n",
      "(130, 165)\n",
      "(3433, 3693)\n",
      "(10.5, 12.0)\n"
     ]
    },
    {
     "data": {
      "text/html": [
       "<div>\n",
       "<style scoped>\n",
       "    .dataframe tbody tr th:only-of-type {\n",
       "        vertical-align: middle;\n",
       "    }\n",
       "\n",
       "    .dataframe tbody tr th {\n",
       "        vertical-align: top;\n",
       "    }\n",
       "\n",
       "    .dataframe thead th {\n",
       "        text-align: right;\n",
       "    }\n",
       "</style>\n",
       "<table border=\"1\" class=\"dataframe\">\n",
       "  <thead>\n",
       "    <tr style=\"text-align: right;\">\n",
       "      <th></th>\n",
       "      <th>Name</th>\n",
       "      <th>MilesPerGal</th>\n",
       "      <th>Cylinders</th>\n",
       "      <th>Displacement</th>\n",
       "      <th>Horsepower</th>\n",
       "      <th>Weight</th>\n",
       "      <th>Acceleration</th>\n",
       "      <th>Year</th>\n",
       "      <th>Origin</th>\n",
       "    </tr>\n",
       "  </thead>\n",
       "  <tbody>\n",
       "    <tr>\n",
       "      <th>0</th>\n",
       "      <td>chevrolet chevelle malibu</td>\n",
       "      <td>18.0</td>\n",
       "      <td>8</td>\n",
       "      <td>307.0</td>\n",
       "      <td>130</td>\n",
       "      <td>3504</td>\n",
       "      <td>12.0</td>\n",
       "      <td>1970-01-01</td>\n",
       "      <td>USA</td>\n",
       "    </tr>\n",
       "    <tr>\n",
       "      <th>1</th>\n",
       "      <td>buick skylark 320</td>\n",
       "      <td>15.0</td>\n",
       "      <td>8</td>\n",
       "      <td>350.0</td>\n",
       "      <td>165</td>\n",
       "      <td>3693</td>\n",
       "      <td>11.5</td>\n",
       "      <td>1970-01-01</td>\n",
       "      <td>USA</td>\n",
       "    </tr>\n",
       "    <tr>\n",
       "      <th>2</th>\n",
       "      <td>plymouth satellite</td>\n",
       "      <td>18.0</td>\n",
       "      <td>8</td>\n",
       "      <td>318.0</td>\n",
       "      <td>150</td>\n",
       "      <td>3436</td>\n",
       "      <td>11.0</td>\n",
       "      <td>1970-01-01</td>\n",
       "      <td>USA</td>\n",
       "    </tr>\n",
       "    <tr>\n",
       "      <th>3</th>\n",
       "      <td>amc rebel sst</td>\n",
       "      <td>16.0</td>\n",
       "      <td>8</td>\n",
       "      <td>304.0</td>\n",
       "      <td>150</td>\n",
       "      <td>3433</td>\n",
       "      <td>12.0</td>\n",
       "      <td>1970-01-01</td>\n",
       "      <td>USA</td>\n",
       "    </tr>\n",
       "    <tr>\n",
       "      <th>4</th>\n",
       "      <td>ford torino</td>\n",
       "      <td>17.0</td>\n",
       "      <td>8</td>\n",
       "      <td>302.0</td>\n",
       "      <td>140</td>\n",
       "      <td>3449</td>\n",
       "      <td>10.5</td>\n",
       "      <td>1970-01-01</td>\n",
       "      <td>USA</td>\n",
       "    </tr>\n",
       "  </tbody>\n",
       "</table>\n",
       "</div>"
      ],
      "text/plain": [
       "                        Name  MilesPerGal  Cylinders  Displacement  \\\n",
       "0  chevrolet chevelle malibu         18.0          8         307.0   \n",
       "1          buick skylark 320         15.0          8         350.0   \n",
       "2         plymouth satellite         18.0          8         318.0   \n",
       "3              amc rebel sst         16.0          8         304.0   \n",
       "4                ford torino         17.0          8         302.0   \n",
       "\n",
       "   Horsepower  Weight  Acceleration       Year Origin  \n",
       "0         130    3504          12.0 1970-01-01    USA  \n",
       "1         165    3693          11.5 1970-01-01    USA  \n",
       "2         150    3436          11.0 1970-01-01    USA  \n",
       "3         150    3433          12.0 1970-01-01    USA  \n",
       "4         140    3449          10.5 1970-01-01    USA  "
      ]
     },
     "execution_count": 3,
     "metadata": {},
     "output_type": "execute_result"
    }
   ],
   "source": [
    "df = pd.read_csv(\"lux/data/car.csv\")\n",
    "# df.setExecutorType(\"Pandas\")\n",
    "df[\"Year\"] = pd.to_datetime(df[\"Year\"], format='%Y') # change pandas dtype for the column \"Year\" to datetype\n",
    "df.head().toPandas()"
   ]
  },
  {
   "cell_type": "code",
   "execution_count": 4,
   "metadata": {
    "scrolled": true
   },
   "outputs": [
    {
     "name": "stdout",
     "output_type": "stream",
     "text": [
      "(9.0, 46.6)\n",
      "(3, 8)\n",
      "(68.0, 455.0)\n",
      "(46, 230)\n",
      "(1613, 5140)\n",
      "(8.0, 24.8)\n",
      "(9.0, 46.6)\n",
      "(3, 8)\n",
      "(68.0, 455.0)\n",
      "(46, 230)\n",
      "(1613, 5140)\n",
      "(8.0, 24.8)\n",
      "(8.0, 24.8)\n",
      "(1613, 5140)\n",
      "(8.0, 24.8)\n",
      "(46, 230)\n",
      "(8.0, 24.8)\n",
      "(68.0, 455.0)\n",
      "(8.0, 24.8)\n",
      "(9.0, 46.6)\n",
      "(8.0, 24.8)\n",
      "(1613, 5140)\n",
      "(8.0, 24.8)\n",
      "(1613, 5140)\n",
      "(1613, 5140)\n",
      "(46, 230)\n",
      "(1613, 5140)\n",
      "(68.0, 455.0)\n",
      "(1613, 5140)\n",
      "(9.0, 46.6)\n",
      "(46, 230)\n",
      "(8.0, 24.8)\n",
      "(1613, 5140)\n",
      "(46, 230)\n",
      "(46, 230)\n",
      "(46, 230)\n",
      "(68.0, 455.0)\n",
      "(46, 230)\n",
      "(9.0, 46.6)\n",
      "(68.0, 455.0)\n",
      "(8.0, 24.8)\n",
      "(1613, 5140)\n",
      "(68.0, 455.0)\n",
      "(46, 230)\n",
      "(68.0, 455.0)\n",
      "(68.0, 455.0)\n",
      "(68.0, 455.0)\n",
      "(9.0, 46.6)\n",
      "(8.0, 24.8)\n",
      "(9.0, 46.6)\n",
      "(1613, 5140)\n",
      "(9.0, 46.6)\n",
      "(46, 230)\n",
      "(9.0, 46.6)\n",
      "(68.0, 455.0)\n",
      "(9.0, 46.6)\n",
      "(9.0, 46.6)\n",
      "(9.0, 46.6)\n",
      "(3, 8)\n",
      "(68.0, 455.0)\n",
      "(46, 230)\n",
      "(1613, 5140)\n",
      "(8.0, 24.8)\n",
      "(8.0, 24.8)\n",
      "(8.84, 23.96)\n",
      "(4.0, 91.0)\n",
      "(1613, 5140)\n",
      "(1789.35, 4963.65)\n",
      "(6.0, 89.0)\n",
      "(46, 230)\n",
      "(55.2, 220.8)\n",
      "(5.0, 120.0)\n",
      "(68.0, 455.0)\n",
      "(87.35, 435.65)\n",
      "(3.0, 104.0)\n",
      "(9.0, 46.6)\n",
      "(10.879999999999999, 44.72)\n",
      "(4.0, 78.0)\n",
      "(9.0, 46.6)\n",
      "(3, 8)\n",
      "(68.0, 455.0)\n",
      "(46, 230)\n",
      "(1613, 5140)\n",
      "(8.0, 24.8)\n",
      "(0, 391)\n",
      "(68, 245)\n",
      "(68, 245)\n",
      "(68, 245)\n",
      "(0, 391)\n",
      "(1, 5)\n",
      "(1, 5)\n",
      "(1, 5)\n",
      "(3, 8)\n",
      "(3, 8)\n",
      "(0, 391)\n",
      "(3, 199)\n",
      "(3, 199)\n",
      "(3, 8)\n",
      "(3, 199)\n",
      "(1613, 5140)\n",
      "(68.0, 455.0)\n",
      "(1613, 5140)\n",
      "(68.0, 455.0)\n",
      "(1613, 5140)\n",
      "(46, 230)\n",
      "(1613, 5140)\n",
      "(46, 230)\n",
      "(46, 230)\n",
      "(68.0, 455.0)\n",
      "(46, 230)\n",
      "(68.0, 455.0)\n",
      "(1613, 5140)\n",
      "(9.0, 46.6)\n",
      "(1613, 5140)\n",
      "(9.0, 46.6)\n",
      "(68.0, 455.0)\n",
      "(9.0, 46.6)\n",
      "(68.0, 455.0)\n",
      "(9.0, 46.6)\n",
      "(46, 230)\n",
      "(9.0, 46.6)\n",
      "(46, 230)\n",
      "(9.0, 46.6)\n",
      "(46, 230)\n",
      "(8.0, 24.8)\n",
      "(46, 230)\n",
      "(8.0, 24.8)\n",
      "(68.0, 455.0)\n",
      "(8.0, 24.8)\n",
      "(1789.35, 4963.65)\n",
      "(6.0, 89.0)\n",
      "(87.35, 435.65)\n",
      "(3.0, 104.0)\n",
      "(55.2, 220.8)\n",
      "(5.0, 120.0)\n",
      "(10.879999999999999, 44.72)\n",
      "(4.0, 78.0)\n",
      "(8.84, 23.96)\n",
      "(4.0, 91.0)\n",
      "(68, 245)\n",
      "(3, 8)\n",
      "(3, 199)\n",
      "(1, 5)\n",
      "(1613, 5140)\n",
      "(68.0, 455.0)\n",
      "(1613, 5140)\n",
      "(68.0, 455.0)\n",
      "(1613, 5140)\n",
      "(46, 230)\n",
      "(1613, 5140)\n",
      "(46, 230)\n",
      "(46, 230)\n",
      "(68.0, 455.0)\n",
      "(46, 230)\n",
      "(68.0, 455.0)\n",
      "(1613, 5140)\n",
      "(9.0, 46.6)\n",
      "(1613, 5140)\n",
      "(9.0, 46.6)\n",
      "(68.0, 455.0)\n",
      "(9.0, 46.6)\n",
      "(68.0, 455.0)\n",
      "(9.0, 46.6)\n",
      "(46, 230)\n",
      "(9.0, 46.6)\n",
      "(46, 230)\n",
      "(9.0, 46.6)\n",
      "(46, 230)\n",
      "(8.0, 24.8)\n",
      "(46, 230)\n",
      "(8.0, 24.8)\n",
      "(68.0, 455.0)\n",
      "(8.0, 24.8)\n",
      "Weight\n",
      "(1789.35, 4963.65)\n",
      "(6.0, 89.0)\n",
      "Displacement\n",
      "(87.35, 435.65)\n",
      "(3.0, 104.0)\n",
      "Horsepower\n",
      "(55.2, 220.8)\n",
      "(5.0, 120.0)\n",
      "MilesPerGal\n",
      "(10.879999999999999, 44.72)\n",
      "(4.0, 78.0)\n",
      "Acceleration\n",
      "(8.84, 23.96)\n",
      "(4.0, 91.0)\n",
      "(68, 245)\n",
      "(3, 8)\n",
      "(3, 199)\n",
      "(1, 5)\n"
     ]
    },
    {
     "data": {
      "application/vnd.jupyter.widget-view+json": {
       "model_id": "89acc20bf173445d8eb789df34fcdcea",
       "version_major": 2,
       "version_minor": 0
      },
      "text/plain": [
       "Button(description='Toggle Pandas/Lux', style=ButtonStyle())"
      ]
     },
     "metadata": {},
     "output_type": "display_data"
    },
    {
     "data": {
      "application/vnd.jupyter.widget-view+json": {
       "model_id": "a8af15323b474542a29346036903f59b",
       "version_major": 2,
       "version_minor": 0
      },
      "text/plain": [
       "Output()"
      ]
     },
     "metadata": {},
     "output_type": "display_data"
    },
    {
     "data": {
      "text/plain": []
     },
     "execution_count": 4,
     "metadata": {},
     "output_type": "execute_result"
    }
   ],
   "source": [
    "df"
   ]
  },
  {
   "cell_type": "markdown",
   "metadata": {},
   "source": [
    "Intuitively, we expect cars with more horsepower means higher acceleration, but we are actually seeing the opposite of that trend.\n",
    "Let's learn more about whether there are additional factors that is affecting this relationship."
   ]
  },
  {
   "cell_type": "code",
   "execution_count": 5,
   "metadata": {},
   "outputs": [
    {
     "name": "stderr",
     "output_type": "stream",
     "text": [
      "/Users/caitlynachen/Desktop/luxresearch/lux/lux/compiler/Validator.py:50: FutureWarning: elementwise comparison failed; returning scalar instead, but in the future will perform elementwise comparison\n",
      "  checkValExists = spec.attribute in uniqueVals and spec.value in uniqueVals[spec.attribute]\n"
     ]
    },
    {
     "data": {
      "application/vnd.jupyter.widget-view+json": {
       "model_id": "75f3e4b23e414231a5b29e663c3038e4",
       "version_major": 2,
       "version_minor": 0
      },
      "text/plain": [
       "Button(description='Toggle Pandas/Lux', style=ButtonStyle())"
      ]
     },
     "metadata": {},
     "output_type": "display_data"
    },
    {
     "data": {
      "application/vnd.jupyter.widget-view+json": {
       "model_id": "7bce94dac9ed41f7b35c7e0caa15968b",
       "version_major": 2,
       "version_minor": 0
      },
      "text/plain": [
       "Output()"
      ]
     },
     "metadata": {},
     "output_type": "display_data"
    },
    {
     "data": {
      "text/plain": []
     },
     "execution_count": 5,
     "metadata": {},
     "output_type": "execute_result"
    }
   ],
   "source": [
    "df.setContext([lux.Spec(attribute = \"Acceleration\"),lux.Spec(attribute = \"Horsepower\")])\n",
    "df"
   ]
  },
  {
   "cell_type": "markdown",
   "metadata": {},
   "source": [
    "In Enhance, all the added variable (color), except MilesPerGal, shows a trend for the value being higher on the upper-left end, and value decreases towards the bottom-right.\n",
    "Now given these three other variables, let's look at what the Displacement and Weight is like for different Cylinder cars."
   ]
  },
  {
   "cell_type": "code",
   "execution_count": 6,
   "metadata": {},
   "outputs": [
    {
     "name": "stderr",
     "output_type": "stream",
     "text": [
      "/Users/caitlynachen/Desktop/luxresearch/lux/lux/compiler/Validator.py:50: FutureWarning: elementwise comparison failed; returning scalar instead, but in the future will perform elementwise comparison\n",
      "  checkValExists = spec.attribute in uniqueVals and spec.value in uniqueVals[spec.attribute]\n"
     ]
    },
    {
     "data": {
      "application/vnd.jupyter.widget-view+json": {
       "model_id": "7241d39d36a44591ba7ba3ea09d8971a",
       "version_major": 2,
       "version_minor": 0
      },
      "text/plain": [
       "Button(description='Toggle Pandas/Lux', style=ButtonStyle())"
      ]
     },
     "metadata": {},
     "output_type": "display_data"
    },
    {
     "data": {
      "application/vnd.jupyter.widget-view+json": {
       "model_id": "eacd243cff304f4d82bda937bd761edd",
       "version_major": 2,
       "version_minor": 0
      },
      "text/plain": [
       "Output()"
      ]
     },
     "metadata": {},
     "output_type": "display_data"
    },
    {
     "data": {
      "text/plain": []
     },
     "execution_count": 6,
     "metadata": {},
     "output_type": "execute_result"
    }
   ],
   "source": [
    "# from lux.executor.PandasExecutor import PandasExecutor\n",
    "df.setContext([lux.Spec(attribute = \"Cylinders\"), lux.Spec(attribute = \"MilesPerGal\")])\n",
    "df"
   ]
  },
  {
   "cell_type": "markdown",
   "metadata": {},
   "source": [
    "The Count distribution shows that there is not a lot of cars with 3 and 5 cylinders, so let's clean the data up to remove those."
   ]
  },
  {
   "cell_type": "code",
   "execution_count": 7,
   "metadata": {},
   "outputs": [
    {
     "data": {
      "text/html": [
       "<div>\n",
       "<style scoped>\n",
       "    .dataframe tbody tr th:only-of-type {\n",
       "        vertical-align: middle;\n",
       "    }\n",
       "\n",
       "    .dataframe tbody tr th {\n",
       "        vertical-align: top;\n",
       "    }\n",
       "\n",
       "    .dataframe thead th {\n",
       "        text-align: right;\n",
       "    }\n",
       "</style>\n",
       "<table border=\"1\" class=\"dataframe\">\n",
       "  <thead>\n",
       "    <tr style=\"text-align: right;\">\n",
       "      <th></th>\n",
       "      <th>Name</th>\n",
       "      <th>MilesPerGal</th>\n",
       "      <th>Cylinders</th>\n",
       "      <th>Displacement</th>\n",
       "      <th>Horsepower</th>\n",
       "      <th>Weight</th>\n",
       "      <th>Acceleration</th>\n",
       "      <th>Year</th>\n",
       "      <th>Origin</th>\n",
       "    </tr>\n",
       "  </thead>\n",
       "  <tbody>\n",
       "    <tr>\n",
       "      <th>70</th>\n",
       "      <td>mazda rx2 coupe</td>\n",
       "      <td>19.0</td>\n",
       "      <td>3</td>\n",
       "      <td>70.0</td>\n",
       "      <td>97</td>\n",
       "      <td>2330</td>\n",
       "      <td>13.5</td>\n",
       "      <td>1972-01-01</td>\n",
       "      <td>Japan</td>\n",
       "    </tr>\n",
       "    <tr>\n",
       "      <th>110</th>\n",
       "      <td>maxda rx3</td>\n",
       "      <td>18.0</td>\n",
       "      <td>3</td>\n",
       "      <td>70.0</td>\n",
       "      <td>90</td>\n",
       "      <td>2124</td>\n",
       "      <td>13.5</td>\n",
       "      <td>1973-01-01</td>\n",
       "      <td>Japan</td>\n",
       "    </tr>\n",
       "    <tr>\n",
       "      <th>241</th>\n",
       "      <td>mazda rx-4</td>\n",
       "      <td>21.5</td>\n",
       "      <td>3</td>\n",
       "      <td>80.0</td>\n",
       "      <td>110</td>\n",
       "      <td>2720</td>\n",
       "      <td>13.5</td>\n",
       "      <td>1977-01-01</td>\n",
       "      <td>Japan</td>\n",
       "    </tr>\n",
       "    <tr>\n",
       "      <th>331</th>\n",
       "      <td>mazda rx-7 gs</td>\n",
       "      <td>23.7</td>\n",
       "      <td>3</td>\n",
       "      <td>70.0</td>\n",
       "      <td>100</td>\n",
       "      <td>2420</td>\n",
       "      <td>12.5</td>\n",
       "      <td>1980-01-01</td>\n",
       "      <td>Japan</td>\n",
       "    </tr>\n",
       "  </tbody>\n",
       "</table>\n",
       "</div>"
      ],
      "text/plain": [
       "                Name  MilesPerGal  Cylinders  Displacement  Horsepower  \\\n",
       "70   mazda rx2 coupe         19.0          3          70.0          97   \n",
       "110        maxda rx3         18.0          3          70.0          90   \n",
       "241       mazda rx-4         21.5          3          80.0         110   \n",
       "331    mazda rx-7 gs         23.7          3          70.0         100   \n",
       "\n",
       "     Weight  Acceleration       Year Origin  \n",
       "70     2330          13.5 1972-01-01  Japan  \n",
       "110    2124          13.5 1973-01-01  Japan  \n",
       "241    2720          13.5 1977-01-01  Japan  \n",
       "331    2420          12.5 1980-01-01  Japan  "
      ]
     },
     "execution_count": 7,
     "metadata": {},
     "output_type": "execute_result"
    }
   ],
   "source": [
    "df[df[\"Cylinders\"]==3].toPandas()"
   ]
  },
  {
   "cell_type": "code",
   "execution_count": 8,
   "metadata": {},
   "outputs": [
    {
     "data": {
      "text/html": [
       "<div>\n",
       "<style scoped>\n",
       "    .dataframe tbody tr th:only-of-type {\n",
       "        vertical-align: middle;\n",
       "    }\n",
       "\n",
       "    .dataframe tbody tr th {\n",
       "        vertical-align: top;\n",
       "    }\n",
       "\n",
       "    .dataframe thead th {\n",
       "        text-align: right;\n",
       "    }\n",
       "</style>\n",
       "<table border=\"1\" class=\"dataframe\">\n",
       "  <thead>\n",
       "    <tr style=\"text-align: right;\">\n",
       "      <th></th>\n",
       "      <th>Name</th>\n",
       "      <th>MilesPerGal</th>\n",
       "      <th>Cylinders</th>\n",
       "      <th>Displacement</th>\n",
       "      <th>Horsepower</th>\n",
       "      <th>Weight</th>\n",
       "      <th>Acceleration</th>\n",
       "      <th>Year</th>\n",
       "      <th>Origin</th>\n",
       "    </tr>\n",
       "  </thead>\n",
       "  <tbody>\n",
       "    <tr>\n",
       "      <th>272</th>\n",
       "      <td>audi 5000</td>\n",
       "      <td>20.3</td>\n",
       "      <td>5</td>\n",
       "      <td>131.0</td>\n",
       "      <td>103</td>\n",
       "      <td>2830</td>\n",
       "      <td>15.9</td>\n",
       "      <td>1978-01-01</td>\n",
       "      <td>Europe</td>\n",
       "    </tr>\n",
       "    <tr>\n",
       "      <th>295</th>\n",
       "      <td>mercedes benz 300d</td>\n",
       "      <td>25.4</td>\n",
       "      <td>5</td>\n",
       "      <td>183.0</td>\n",
       "      <td>77</td>\n",
       "      <td>3530</td>\n",
       "      <td>20.1</td>\n",
       "      <td>1979-01-01</td>\n",
       "      <td>Europe</td>\n",
       "    </tr>\n",
       "    <tr>\n",
       "      <th>325</th>\n",
       "      <td>audi 5000s (diesel)</td>\n",
       "      <td>36.4</td>\n",
       "      <td>5</td>\n",
       "      <td>121.0</td>\n",
       "      <td>67</td>\n",
       "      <td>2950</td>\n",
       "      <td>19.9</td>\n",
       "      <td>1980-01-01</td>\n",
       "      <td>Europe</td>\n",
       "    </tr>\n",
       "  </tbody>\n",
       "</table>\n",
       "</div>"
      ],
      "text/plain": [
       "                    Name  MilesPerGal  Cylinders  Displacement  Horsepower  \\\n",
       "272            audi 5000         20.3          5         131.0         103   \n",
       "295   mercedes benz 300d         25.4          5         183.0          77   \n",
       "325  audi 5000s (diesel)         36.4          5         121.0          67   \n",
       "\n",
       "     Weight  Acceleration       Year  Origin  \n",
       "272    2830          15.9 1978-01-01  Europe  \n",
       "295    3530          20.1 1979-01-01  Europe  \n",
       "325    2950          19.9 1980-01-01  Europe  "
      ]
     },
     "execution_count": 8,
     "metadata": {},
     "output_type": "execute_result"
    }
   ],
   "source": [
    "df[df[\"Cylinders\"]==5].toPandas()\n"
   ]
  },
  {
   "cell_type": "code",
   "execution_count": 9,
   "metadata": {},
   "outputs": [
    {
     "data": {
      "application/vnd.jupyter.widget-view+json": {
       "model_id": "7eded3f6fdf1413c9824067f60ef13f4",
       "version_major": 2,
       "version_minor": 0
      },
      "text/plain": [
       "Button(description='Toggle Pandas/Lux', style=ButtonStyle())"
      ]
     },
     "metadata": {},
     "output_type": "display_data"
    },
    {
     "data": {
      "application/vnd.jupyter.widget-view+json": {
       "model_id": "f55329830f6b47beb523dbdc9d963017",
       "version_major": 2,
       "version_minor": 0
      },
      "text/plain": [
       "Output()"
      ]
     },
     "metadata": {},
     "output_type": "display_data"
    },
    {
     "data": {
      "text/plain": []
     },
     "execution_count": 9,
     "metadata": {},
     "output_type": "execute_result"
    }
   ],
   "source": [
    "newdf = df[(df[\"Cylinders\"]!=3) & (df[\"Cylinders\"]!=5)]\n",
    "newdf"
   ]
  },
  {
   "cell_type": "code",
   "execution_count": 7,
   "metadata": {},
   "outputs": [
    {
     "name": "stdout",
     "output_type": "stream",
     "text": [
      "(9.0, 46.6)\n",
      "(3, 8)\n",
      "(68.0, 455.0)\n",
      "(46, 230)\n",
      "(1613, 5140)\n",
      "(8.0, 24.8)\n"
     ]
    },
    {
     "name": "stderr",
     "output_type": "stream",
     "text": [
      "/Users/caitlynachen/Desktop/luxresearch/lux/lux/compiler/Validator.py:50: FutureWarning: elementwise comparison failed; returning scalar instead, but in the future will perform elementwise comparison\n",
      "  checkValExists = spec.attribute in uniqueVals and spec.value in uniqueVals[spec.attribute]\n"
     ]
    }
   ],
   "source": [
    "df.setContext([\"Weight\"])"
   ]
  },
  {
   "cell_type": "code",
   "execution_count": 8,
   "metadata": {},
   "outputs": [
    {
     "name": "stdout",
     "output_type": "stream",
     "text": [
      "(9.0, 46.6)\n",
      "(3, 8)\n",
      "(68.0, 455.0)\n",
      "(46, 230)\n",
      "(1613, 5140)\n",
      "(8.0, 24.8)\n",
      "(1613, 5140)\n",
      "(1613, 5140)\n",
      "(1613.0, 5140.0)\n",
      "(1613.0, 5140.0)\n",
      "(1613, 5140)\n",
      "(9.0, 46.6)\n",
      "(1613, 5140)\n",
      "(3, 8)\n",
      "(1613, 5140)\n",
      "(2305.110552763819, 4114.718446601942)\n",
      "(2305.110552763819, 4114.718446601942)\n",
      "(1613, 5140)\n",
      "(68.0, 455.0)\n",
      "(1613, 5140)\n",
      "(46, 230)\n",
      "(1613, 5140)\n",
      "(8.0, 24.8)\n",
      "(1613, 5140)\n",
      "(1613, 5140)\n",
      "(2221.227848101266, 3372.4897959183672)\n",
      "(2221.227848101266, 3372.4897959183672)\n",
      "(9.0, 26.6)\n",
      "(8, 8)\n",
      "(260.0, 455.0)\n",
      "(90, 230)\n",
      "(3086, 5140)\n",
      "(8.0, 22.2)\n",
      "(3086, 5140)\n",
      "(8, 8)\n",
      "(3188.7, 5037.3)\n",
      "(4.0, 20.0)\n",
      "(18.0, 46.6)\n",
      "(4, 4)\n",
      "(68.0, 156.0)\n",
      "(46, 115)\n",
      "(1613, 3270)\n",
      "(11.6, 24.8)\n",
      "(1613, 3270)\n",
      "(4, 4)\n",
      "(1695.85, 3187.15)\n",
      "(5.0, 47.0)\n",
      "(15.0, 38.0)\n",
      "(6, 6)\n",
      "(145.0, 262.0)\n",
      "(72, 165)\n",
      "(2472, 3907)\n",
      "(11.3, 21.0)\n",
      "(2472, 3907)\n",
      "(6, 6)\n",
      "(2543.75, 3835.25)\n",
      "(3.0, 15.0)\n",
      "(18.0, 23.7)\n",
      "(3, 3)\n",
      "(70.0, 80.0)\n",
      "(90, 110)\n",
      "(2124, 2720)\n",
      "(12.5, 13.5)\n",
      "(2124, 2720)\n",
      "(3, 3)\n",
      "(2153.8, 2690.2)\n",
      "(0.0, 1.0)\n",
      "(20.3, 36.4)\n",
      "(5, 5)\n",
      "(121.0, 183.0)\n",
      "(67, 103)\n",
      "(2830, 3530)\n",
      "(15.9, 20.1)\n",
      "(2830, 3530)\n",
      "(5, 5)\n",
      "(2865.0, 3495.0)\n",
      "(0.0, 1.0)\n",
      "(9.0, 27.0)\n",
      "(4, 8)\n",
      "(97.0, 455.0)\n",
      "(46, 225)\n",
      "(1835, 4732)\n",
      "(8.0, 20.5)\n",
      "(1835, 4732)\n",
      "(1979.85, 4587.15)\n",
      "(0.0, 6.0)\n",
      "(12.0, 35.0)\n",
      "(4, 8)\n",
      "(71.0, 400.0)\n",
      "(60, 180)\n",
      "(1613, 5140)\n",
      "(11.5, 20.5)\n",
      "(1613, 5140)\n",
      "(1789.35, 4963.65)\n",
      "(0.0, 7.0)\n",
      "(11.0, 28.0)\n",
      "(3, 8)\n",
      "(70.0, 429.0)\n",
      "(54, 208)\n",
      "(2100, 4633)\n",
      "(11.0, 23.5)\n",
      "(2100, 4633)\n",
      "(2226.65, 4506.35)\n",
      "(0.0, 9.0)\n",
      "(11.0, 29.0)\n",
      "(3, 8)\n",
      "(68.0, 455.0)\n",
      "(46, 230)\n",
      "(1867, 4997)\n",
      "(9.5, 21.0)\n",
      "(1867, 4997)\n",
      "(2023.5, 4840.5)\n",
      "(2.0, 6.0)\n",
      "(13.0, 32.0)\n",
      "(4, 8)\n",
      "(71.0, 350.0)\n",
      "(52, 150)\n",
      "(1649, 4699)\n",
      "(13.5, 21.0)\n",
      "(1649, 4699)\n",
      "(1801.5, 4546.5)\n",
      "(0.0, 7.0)\n",
      "(13.0, 33.0)\n",
      "(4, 8)\n",
      "(90.0, 400.0)\n",
      "(53, 170)\n",
      "(1795, 4668)\n",
      "(11.5, 21.0)\n",
      "(1795, 4668)\n",
      "(1938.65, 4524.35)\n",
      "(0.0, 8.0)\n",
      "(13.0, 33.0)\n",
      "(4, 8)\n",
      "(85.0, 351.0)\n",
      "(52, 180)\n",
      "(1795, 4380)\n",
      "(12.0, 22.2)\n",
      "(1795, 4380)\n",
      "(1924.25, 4250.75)\n",
      "(1.0, 5.0)\n",
      "(15.0, 36.0)\n",
      "(3, 8)\n",
      "(79.0, 400.0)\n",
      "(58, 190)\n",
      "(1825, 4335)\n",
      "(11.1, 19.0)\n",
      "(1825, 4335)\n",
      "(1950.5, 4209.5)\n",
      "(0.0, 7.0)\n",
      "(16.2, 43.1)\n",
      "(4, 8)\n",
      "(78.0, 318.0)\n",
      "(48, 165)\n",
      "(1800, 4080)\n",
      "(11.2, 21.5)\n",
      "(1800, 4080)\n",
      "(1914.0, 3966.0)\n",
      "(1.0, 8.0)\n",
      "(15.5, 37.3)\n",
      "(4, 8)\n",
      "(85.0, 360.0)\n",
      "(65, 155)\n",
      "(1915, 4360)\n",
      "(11.3, 24.8)\n",
      "(1915, 4360)\n",
      "(2037.25, 4237.75)\n",
      "(1.0, 6.0)\n",
      "(19.1, 46.6)\n",
      "(3, 6)\n",
      "(70.0, 225.0)\n",
      "(48, 132)\n",
      "(1845, 3381)\n",
      "(11.4, 23.7)\n",
      "(1845, 3381)\n",
      "(1921.8, 3304.2)\n",
      "(0.0, 7.0)\n",
      "(17.6, 44.0)\n",
      "(4, 8)\n",
      "(79.0, 350.0)\n",
      "(52, 120)\n",
      "(1755, 3725)\n",
      "(11.6, 24.6)\n",
      "(1755, 3725)\n",
      "(1853.5, 3626.5)\n",
      "(1.0, 14.0)\n",
      "(9.0, 39.0)\n",
      "(4, 8)\n",
      "(85.0, 455.0)\n",
      "(52, 230)\n",
      "(1800, 5140)\n",
      "(8.0, 22.2)\n",
      "(1800, 5140)\n",
      "(1967.0, 4973.0)\n",
      "(6.0, 39.0)\n",
      "(18.0, 46.6)\n",
      "(3, 6)\n",
      "(70.0, 168.0)\n",
      "(52, 132)\n",
      "(1613, 2930)\n",
      "(11.4, 21.0)\n",
      "(1613, 2930)\n",
      "(1678.85, 2864.15)\n",
      "(2.0, 14.0)\n",
      "(16.2, 44.3)\n",
      "(4, 6)\n",
      "(68.0, 183.0)\n",
      "(46, 133)\n",
      "(1825, 3820)\n",
      "(12.2, 24.8)\n",
      "(1825, 3820)\n",
      "(1924.75, 3720.25)\n",
      "(1.0, 17.0)\n",
      "(1613, 5140)\n",
      "(1789.35, 4963.65)\n",
      "(6.0, 89.0)\n",
      "Weight\n",
      "(1789.35, 4963.65)\n",
      "(6.0, 89.0)\n",
      "(2221.227848101266, 3372.4897959183672)\n",
      "(3, 8)\n",
      "(2305.110552763819, 4114.718446601942)\n",
      "(1613, 5140)\n",
      "(68.0, 455.0)\n",
      "(1613, 5140)\n",
      "(46, 230)\n",
      "(1613, 5140)\n",
      "(9.0, 46.6)\n",
      "(1613, 5140)\n",
      "(8.0, 24.8)\n",
      "(1613.0, 5140.0)\n",
      "(3188.7, 5037.3)\n",
      "(4.0, 20.0)\n",
      "(1695.85, 3187.15)\n",
      "(5.0, 47.0)\n",
      "(2543.75, 3835.25)\n",
      "(3.0, 15.0)\n",
      "(2153.8, 2690.2)\n",
      "(0.0, 1.0)\n",
      "(2865.0, 3495.0)\n",
      "(0.0, 1.0)\n",
      "(1979.85, 4587.15)\n",
      "(0.0, 6.0)\n",
      "(1789.35, 4963.65)\n",
      "(0.0, 7.0)\n",
      "(2226.65, 4506.35)\n",
      "(0.0, 9.0)\n",
      "(2023.5, 4840.5)\n",
      "(2.0, 6.0)\n",
      "(1801.5, 4546.5)\n",
      "(0.0, 7.0)\n",
      "(2221.227848101266, 3372.4897959183672)\n",
      "(3, 8)\n",
      "(2305.110552763819, 4114.718446601942)\n",
      "(1613, 5140)\n",
      "(68.0, 455.0)\n",
      "(1613, 5140)\n",
      "(46, 230)\n",
      "(1613, 5140)\n",
      "(9.0, 46.6)\n",
      "(1613, 5140)\n",
      "(8.0, 24.8)\n",
      "(1613.0, 5140.0)\n",
      "Weight\n",
      "(3188.7, 5037.3)\n",
      "(4.0, 20.0)\n",
      "Weight\n",
      "(1695.85, 3187.15)\n",
      "(5.0, 47.0)\n",
      "Weight\n",
      "(2543.75, 3835.25)\n",
      "(3.0, 15.0)\n",
      "Weight\n",
      "(2153.8, 2690.2)\n",
      "(0.0, 1.0)\n",
      "Weight\n",
      "(2865.0, 3495.0)\n",
      "(0.0, 1.0)\n",
      "Weight\n",
      "(1979.85, 4587.15)\n",
      "(0.0, 6.0)\n",
      "Weight\n",
      "(1789.35, 4963.65)\n",
      "(0.0, 7.0)\n",
      "Weight\n",
      "(2226.65, 4506.35)\n",
      "(0.0, 9.0)\n",
      "Weight\n",
      "(2023.5, 4840.5)\n",
      "(2.0, 6.0)\n",
      "Weight\n",
      "(1801.5, 4546.5)\n",
      "(0.0, 7.0)\n"
     ]
    },
    {
     "data": {
      "application/vnd.jupyter.widget-view+json": {
       "model_id": "cd95b4eec3374397ae26a1507886535a",
       "version_major": 2,
       "version_minor": 0
      },
      "text/plain": [
       "Button(description='Toggle Pandas/Lux', style=ButtonStyle())"
      ]
     },
     "metadata": {},
     "output_type": "display_data"
    },
    {
     "data": {
      "application/vnd.jupyter.widget-view+json": {
       "model_id": "3a2d358016c74023a2004ce43d704854",
       "version_major": 2,
       "version_minor": 0
      },
      "text/plain": [
       "Output()"
      ]
     },
     "metadata": {},
     "output_type": "display_data"
    },
    {
     "data": {
      "text/plain": []
     },
     "execution_count": 8,
     "metadata": {},
     "output_type": "execute_result"
    }
   ],
   "source": [
    "df"
   ]
  },
  {
   "cell_type": "code",
   "execution_count": null,
   "metadata": {},
   "outputs": [],
   "source": []
  }
 ],
 "metadata": {
  "kernelspec": {
   "display_name": "Python 3",
   "language": "python",
   "name": "python3"
  },
  "language_info": {
   "codemirror_mode": {
    "name": "ipython",
    "version": 3
   },
   "file_extension": ".py",
   "mimetype": "text/x-python",
   "name": "python",
   "nbconvert_exporter": "python",
   "pygments_lexer": "ipython3",
   "version": "3.7.6"
  }
 },
 "nbformat": 4,
 "nbformat_minor": 4
}

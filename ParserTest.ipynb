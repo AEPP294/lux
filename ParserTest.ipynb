{
 "cells": [
  {
   "cell_type": "code",
   "execution_count": 1,
   "metadata": {},
   "outputs": [],
   "source": [
    "import pandas as pd\n",
    "import lux"
   ]
  },
  {
   "cell_type": "code",
   "execution_count": 2,
   "metadata": {},
   "outputs": [
    {
     "data": {
      "text/plain": [
       "lux.luxDataFrame.LuxDataframe.LuxDataFrame"
      ]
     },
     "execution_count": 2,
     "metadata": {},
     "output_type": "execute_result"
    }
   ],
   "source": [
    "df = pd.read_csv(\"lux/data/car.csv\")\n",
    "type(df)"
   ]
  },
  {
   "cell_type": "code",
   "execution_count": 3,
   "metadata": {},
   "outputs": [
    {
     "data": {
      "text/plain": [
       "Index(['Name', 'MilesPerGal', 'Cylinders', 'Displacement', 'Horsepower',\n",
       "       'Weight', 'Acceleration', 'Year', 'Origin'],\n",
       "      dtype='object')"
      ]
     },
     "execution_count": 3,
     "metadata": {},
     "output_type": "execute_result"
    }
   ],
   "source": [
    "df.columns"
   ]
  },
  {
   "cell_type": "code",
   "execution_count": 4,
   "metadata": {},
   "outputs": [
    {
     "name": "stdout",
     "output_type": "stream",
     "text": [
      "[Spec < description:,channel:,attribute:Horsepower,aggregation:,value:>dataModel:,dataType:,binSize:0]\n",
      "Horsepower\n",
      "\n",
      "Check 1 True\n",
      "Check 2\n",
      "\n",
      "Columns [[Spec < description:,channel:,attribute:Horsepower,aggregation:,value:>dataModel:,dataType:,binSize:0]]\n",
      "\n",
      "Rows []\n"
     ]
    },
    {
     "name": "stderr",
     "output_type": "stream",
     "text": [
      "C:\\Users\\thyne\\Documents\\GitHub\\thyne-lux\\lux\\compiler\\Validator.py:34: FutureWarning: elementwise comparison failed; returning scalar instead, but in the future will perform elementwise comparison\n",
      "  checkValExists = spec.attribute in uniqueVals and spec.value in uniqueVals[spec.attribute]\n"
     ]
    }
   ],
   "source": [
    "df.setContext([\"Horsepower\"])\n",
    "df.context\n",
    "print(\"\\nColumns\",df.cols)\n",
    "print(\"\\nRows\",df.rows)"
   ]
  },
  {
   "cell_type": "code",
   "execution_count": 5,
   "metadata": {},
   "outputs": [
    {
     "name": "stdout",
     "output_type": "stream",
     "text": [
      "[Spec < description:,channel:,attribute:Horsepower,aggregation:,value:>dataModel:,dataType:,binSize:0, Spec < description:,channel:,attribute:Origin,aggregation:,value:USA>dataModel:,dataType:,binSize:0]\n",
      "Horsepower\n",
      "\n",
      "Check 1 True\n",
      "Check 2\n",
      "Origin\n",
      "USA\n",
      "Check 1 True\n",
      "Check 2False\n",
      "\n",
      "Columns [[Spec < description:,channel:,attribute:Horsepower,aggregation:,value:>dataModel:,dataType:,binSize:0]]\n",
      "\n",
      "Rows [Spec < description:,channel:,attribute:Origin,aggregation:,value:USA>dataModel:,dataType:,binSize:0]\n"
     ]
    }
   ],
   "source": [
    "df.setContext([\"Horsepower\", \"Origin=USA\"])\n",
    "df.context\n",
    "print(\"\\nColumns\",df.cols)\n",
    "print(\"\\nRows\",df.rows)"
   ]
  },
  {
   "cell_type": "code",
   "execution_count": 6,
   "metadata": {},
   "outputs": [
    {
     "name": "stdout",
     "output_type": "stream",
     "text": [
      "[Spec < description:,channel:,attribute:['Horsepower', 'MilesPerGal', 'Weight'],aggregation:,value:>dataModel:,dataType:,binSize:0, Spec < description:,channel:,attribute:Origin,aggregation:,value:USA>dataModel:,dataType:,binSize:0]\n",
      "['Horsepower', 'MilesPerGal', 'Weight']\n",
      "\n",
      "Check 1 True\n",
      "Check 2\n",
      "Origin\n",
      "USA\n",
      "Check 1 True\n",
      "Check 2False\n",
      "\n",
      "Columns [[Spec < description:,channel:,attribute:Horsepower,aggregation:,value:>dataModel:,dataType:,binSize:0, Spec < description:,channel:,attribute:MilesPerGal,aggregation:,value:>dataModel:,dataType:,binSize:0, Spec < description:,channel:,attribute:Weight,aggregation:,value:>dataModel:,dataType:,binSize:0]]\n",
      "\n",
      "Rows [Spec < description:,channel:,attribute:Origin,aggregation:,value:USA>dataModel:,dataType:,binSize:0]\n"
     ]
    }
   ],
   "source": [
    "df.setContext([\"Horsepower|MilesPerGal|Weight\", \"Origin=USA\"])\n",
    "df.context\n",
    "print(\"\\nColumns\",df.cols)\n",
    "print(\"\\nRows\",df.rows)"
   ]
  },
  {
   "cell_type": "code",
   "execution_count": 7,
   "metadata": {},
   "outputs": [
    {
     "name": "stdout",
     "output_type": "stream",
     "text": [
      "[Spec < description:,channel:,attribute:['Horsepower', 'MilesPerGal', 'Weight'],aggregation:,value:>dataModel:,dataType:,binSize:0, Spec < description:,channel:,attribute:Origin,aggregation:,value:USA>dataModel:,dataType:,binSize:0]\n",
      "['Horsepower', 'MilesPerGal', 'Weight']\n",
      "\n",
      "Check 1 True\n",
      "Check 2\n",
      "Origin\n",
      "USA\n",
      "Check 1 True\n",
      "Check 2False\n",
      "\n",
      "Columns [[Spec < description:,channel:,attribute:Horsepower,aggregation:,value:>dataModel:,dataType:,binSize:0, Spec < description:,channel:,attribute:MilesPerGal,aggregation:,value:>dataModel:,dataType:,binSize:0, Spec < description:,channel:,attribute:Weight,aggregation:,value:>dataModel:,dataType:,binSize:0]]\n",
      "\n",
      "Rows [Spec < description:,channel:,attribute:Origin,aggregation:,value:USA>dataModel:,dataType:,binSize:0]\n"
     ]
    }
   ],
   "source": [
    "df.setContext([[\"Horsepower\",\"MilesPerGal\" ,\"Weight\"], \"Origin=USA\"])\n",
    "df.context\n",
    "print(\"\\nColumns\",df.cols)\n",
    "print(\"\\nRows\",df.rows)"
   ]
  },
  {
   "cell_type": "code",
   "execution_count": 8,
   "metadata": {},
   "outputs": [
    {
     "name": "stdout",
     "output_type": "stream",
     "text": [
      "[Spec < description:,channel:,attribute:Horsepower,aggregation:,value:>dataModel:,dataType:,binSize:0, Spec < description:,channel:,attribute:Origin,aggregation:,value:['USA', 'Japan', 'Europe']>dataModel:,dataType:,binSize:0]\n",
      "Horsepower\n",
      "\n",
      "Check 1 True\n",
      "Check 2\n",
      "Origin\n",
      "['USA', 'Japan', 'Europe']\n",
      "Check 1 True\n",
      "Check 2False\n"
     ]
    },
    {
     "name": "stderr",
     "output_type": "stream",
     "text": [
      "C:\\Users\\thyne\\Documents\\GitHub\\thyne-lux\\lux\\compiler\\Validator.py:14: FutureWarning: elementwise comparison failed; returning scalar instead, but in the future will perform elementwise comparison\n",
      "  return any(value in uniqueValues[vals] for vals in uniqueValues)\n"
     ]
    },
    {
     "data": {
      "text/plain": [
       "[Spec < description:,channel:,attribute:Horsepower,aggregation:,value:>dataModel:,dataType:,binSize:0,\n",
       " Spec < description:,channel:,attribute:Origin,aggregation:,value:['USA', 'Japan', 'Europe']>dataModel:,dataType:,binSize:0]"
      ]
     },
     "execution_count": 8,
     "metadata": {},
     "output_type": "execute_result"
    }
   ],
   "source": [
    "df.setContext([\"Horsepower\", \"Origin=USA|Japan|Europe\"])\n",
    "df.context"
   ]
  },
  {
   "cell_type": "code",
   "execution_count": 9,
   "metadata": {},
   "outputs": [
    {
     "name": "stdout",
     "output_type": "stream",
     "text": [
      "[Spec < description:,channel:,attribute:Horsepower,aggregation:,value:>dataModel:,dataType:,binSize:0, Spec < description:,channel:,attribute:Origin,aggregation:,value:?>dataModel:,dataType:,binSize:0]\n",
      "\n",
      "\n",
      "Spec < description:,channel:,attribute:Origin,aggregation:,value:['USA', 'Japan', 'Europe']>dataModel:,dataType:,binSize:0\n",
      "[Spec < description:,channel:,attribute:Horsepower,aggregation:,value:>dataModel:,dataType:,binSize:0, Spec < description:,channel:,attribute:Origin,aggregation:,value:['USA', 'Japan', 'Europe']>dataModel:,dataType:,binSize:0]\n",
      "\n",
      "\n",
      "Horsepower\n",
      "\n",
      "Check 1 True\n",
      "Check 2\n",
      "Origin\n",
      "['USA', 'Japan', 'Europe']\n",
      "Check 1 True\n",
      "Check 2False\n"
     ]
    }
   ],
   "source": [
    "df.setContext([\"Horsepower\", \"Origin=?\"])\n",
    "#df.context\n",
    "#print(\"\\nColumns\",df.cols)\n",
    "#print(\"\\nRows\",df.rows)"
   ]
  },
  {
   "cell_type": "code",
   "execution_count": 10,
   "metadata": {},
   "outputs": [
    {
     "data": {
      "text/plain": [
       "['USA', 'Japan', 'Europe']"
      ]
     },
     "execution_count": 10,
     "metadata": {},
     "output_type": "execute_result"
    }
   ],
   "source": [
    "list(df.uniqueValues[\"Origin\"])"
   ]
  }
 ],
 "metadata": {
  "kernelspec": {
   "display_name": "Python 3",
   "language": "python",
   "name": "python3"
  },
  "language_info": {
   "codemirror_mode": {
    "name": "ipython",
    "version": 3
   },
   "file_extension": ".py",
   "mimetype": "text/x-python",
   "name": "python",
   "nbconvert_exporter": "python",
   "pygments_lexer": "ipython3",
   "version": "3.6.3"
  }
 },
 "nbformat": 4,
 "nbformat_minor": 2
}

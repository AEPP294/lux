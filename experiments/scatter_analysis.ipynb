{
 "cells": [
  {
   "cell_type": "code",
   "execution_count": null,
   "metadata": {},
   "outputs": [],
   "source": [
    "from matplotlib.pylab import plt"
   ]
  },
  {
   "cell_type": "code",
   "execution_count": null,
   "metadata": {
    "execution": {
     "iopub.execute_input": "2020-08-27T10:52:25.603235Z",
     "iopub.status.busy": "2020-08-27T10:52:25.602652Z",
     "iopub.status.idle": "2020-08-27T10:52:25.913845Z",
     "shell.execute_reply": "2020-08-27T10:52:25.914159Z"
    },
    "papermill": {
     "duration": 0.320834,
     "end_time": "2020-08-27T10:52:25.914312",
     "exception": false,
     "start_time": "2020-08-27T10:52:25.593478",
     "status": "completed"
    },
    "tags": []
   },
   "outputs": [],
   "source": [
    "import pandas as pd\n",
    "import lux"
   ]
  },
  {
   "cell_type": "code",
   "execution_count": null,
   "metadata": {},
   "outputs": [],
   "source": [
    "df = pd.read_csv(\"experiment_result_metadata_precomputed.csv\")"
   ]
  },
  {
   "cell_type": "code",
   "execution_count": null,
   "metadata": {},
   "outputs": [],
   "source": [
    "plt.xlabel('log (number of datapoints)')\n",
    "plt.ylabel('log(time) (s)')\n",
    "plt.loglog(df[\"nPts\"], df[\"duration\"],'-o')\n",
    "plt.show()"
   ]
  },
  {
   "cell_type": "code",
   "execution_count": null,
   "metadata": {},
   "outputs": [],
   "source": [
    "import matplotlib.pyplot as plt\n",
    "plt.xlabel('number of datapoints')\n",
    "plt.ylabel('time (s)')\n",
    "plt.plot(df[\"nPts\"], df[\"duration\"],'-o')\n",
    "plt.xscale('log')\n",
    "plt.show()\n"
   ]
  },
  {
   "cell_type": "code",
   "execution_count": null,
   "metadata": {},
   "outputs": [],
   "source": []
  }
 ],
 "metadata": {
  "kernelspec": {
   "display_name": "Python 3",
   "language": "python",
   "name": "python3"
  },
  "language_info": {
   "codemirror_mode": {
    "name": "ipython",
    "version": 3
   },
   "file_extension": ".py",
   "mimetype": "text/x-python",
   "name": "python",
   "nbconvert_exporter": "python",
   "pygments_lexer": "ipython3",
   "version": "3.7.7"
  },
  "papermill": {
   "duration": 1.512982,
   "end_time": "2020-08-27T10:52:26.342965",
   "environment_variables": {},
   "exception": null,
   "input_path": "single_scatter.ipynb",
   "output_path": "single_scatter_output.ipynb",
   "parameters": {},
   "start_time": "2020-08-27T10:52:24.829983",
   "version": "2.1.3"
  },
  "widgets": {
   "application/vnd.jupyter.widget-state+json": {
    "state": {
     "4b235f47744442a1a0324dea3f4824c1": {
      "model_module": "@jupyter-widgets/base",
      "model_module_version": "1.2.0",
      "model_name": "LayoutModel",
      "state": {
       "_model_module": "@jupyter-widgets/base",
       "_model_module_version": "1.2.0",
       "_model_name": "LayoutModel",
       "_view_count": null,
       "_view_module": "@jupyter-widgets/base",
       "_view_module_version": "1.2.0",
       "_view_name": "LayoutView",
       "align_content": null,
       "align_items": null,
       "align_self": null,
       "border": null,
       "bottom": null,
       "display": null,
       "flex": null,
       "flex_flow": null,
       "grid_area": null,
       "grid_auto_columns": null,
       "grid_auto_flow": null,
       "grid_auto_rows": null,
       "grid_column": null,
       "grid_gap": null,
       "grid_row": null,
       "grid_template_areas": null,
       "grid_template_columns": null,
       "grid_template_rows": null,
       "height": null,
       "justify_content": null,
       "justify_items": null,
       "left": null,
       "margin": null,
       "max_height": null,
       "max_width": null,
       "min_height": null,
       "min_width": null,
       "object_fit": null,
       "object_position": null,
       "order": null,
       "overflow": null,
       "overflow_x": null,
       "overflow_y": null,
       "padding": null,
       "right": null,
       "top": null,
       "visibility": null,
       "width": null
      }
     },
     "e3a5d105e12a4fdcbd53cf0f0ed8bcbf": {
      "model_module": "luxWidget",
      "model_module_version": "^0.0.1",
      "model_name": "ExampleModel",
      "state": {
       "_dom_classes": [],
       "_exportedVisIdxs": {},
       "_model_module": "luxWidget",
       "_model_module_version": "^0.0.1",
       "_model_name": "ExampleModel",
       "_view_count": null,
       "_view_module": "luxWidget",
       "_view_module_version": "^0.0.1",
       "_view_name": "JupyterWidgetView",
       "current_vis": {
        "$schema": "https://vega.github.io/schema/vega-lite/v4.8.1.json",
        "config": {
         "axis": {
          "labelColor": "#505050",
          "labelFont": "Helvetica Neue",
          "labelFontSize": 9,
          "labelFontWeight": 400,
          "titleFont": "Helvetica Neue",
          "titleFontSize": 11,
          "titleFontWeight": 500
         },
         "legend": {
          "labelFont": "Helvetica Neue",
          "labelFontSize": 9,
          "labelFontWeight": 400,
          "titleFont": "Helvetica Neue",
          "titleFontSize": 10,
          "titleFontWeight": 500
         },
         "mark": {
          "tooltip": {
           "content": "encoding"
          }
         },
         "title": {
          "font": "Helvetica Neue",
          "fontSize": 13,
          "fontWeight": 500
         },
         "view": {
          "continuousHeight": 300,
          "continuousWidth": 400
         }
        },
        "data": {
         "name": "data-c378346e1f6b80d3c758310fddcd2636"
        },
        "datasets": {
         "data-c378346e1f6b80d3c758310fddcd2636": [
          {
           "Acceleration": 12,
           "Horsepower": 130
          },
          {
           "Acceleration": 11.5,
           "Horsepower": 165
          },
          {
           "Acceleration": 11,
           "Horsepower": 150
          },
          {
           "Acceleration": 12,
           "Horsepower": 150
          },
          {
           "Acceleration": 10.5,
           "Horsepower": 140
          },
          {
           "Acceleration": 10,
           "Horsepower": 198
          },
          {
           "Acceleration": 9,
           "Horsepower": 220
          },
          {
           "Acceleration": 8.5,
           "Horsepower": 215
          },
          {
           "Acceleration": 10,
           "Horsepower": 225
          },
          {
           "Acceleration": 8.5,
           "Horsepower": 190
          },
          {
           "Acceleration": 10,
           "Horsepower": 170
          },
          {
           "Acceleration": 8,
           "Horsepower": 160
          },
          {
           "Acceleration": 9.5,
           "Horsepower": 150
          },
          {
           "Acceleration": 10,
           "Horsepower": 225
          },
          {
           "Acceleration": 15,
           "Horsepower": 95
          },
          {
           "Acceleration": 15.5,
           "Horsepower": 95
          },
          {
           "Acceleration": 15.5,
           "Horsepower": 97
          },
          {
           "Acceleration": 16,
           "Horsepower": 85
          },
          {
           "Acceleration": 14.5,
           "Horsepower": 88
          },
          {
           "Acceleration": 20.5,
           "Horsepower": 46
          },
          {
           "Acceleration": 17.5,
           "Horsepower": 87
          },
          {
           "Acceleration": 14.5,
           "Horsepower": 90
          },
          {
           "Acceleration": 17.5,
           "Horsepower": 95
          },
          {
           "Acceleration": 12.5,
           "Horsepower": 113
          },
          {
           "Acceleration": 15,
           "Horsepower": 90
          },
          {
           "Acceleration": 14,
           "Horsepower": 215
          },
          {
           "Acceleration": 15,
           "Horsepower": 200
          },
          {
           "Acceleration": 13.5,
           "Horsepower": 210
          },
          {
           "Acceleration": 18.5,
           "Horsepower": 193
          },
          {
           "Acceleration": 14.5,
           "Horsepower": 88
          },
          {
           "Acceleration": 15.5,
           "Horsepower": 90
          },
          {
           "Acceleration": 14,
           "Horsepower": 95
          },
          {
           "Acceleration": 13,
           "Horsepower": 100
          },
          {
           "Acceleration": 15.5,
           "Horsepower": 105
          },
          {
           "Acceleration": 15.5,
           "Horsepower": 100
          },
          {
           "Acceleration": 15.5,
           "Horsepower": 88
          },
          {
           "Acceleration": 15.5,
           "Horsepower": 100
          },
          {
           "Acceleration": 12,
           "Horsepower": 165
          },
          {
           "Acceleration": 11.5,
           "Horsepower": 175
          },
          {
           "Acceleration": 13.5,
           "Horsepower": 153
          },
          {
           "Acceleration": 13,
           "Horsepower": 150
          },
          {
           "Acceleration": 11.5,
           "Horsepower": 180
          },
          {
           "Acceleration": 12,
           "Horsepower": 170
          },
          {
           "Acceleration": 12,
           "Horsepower": 175
          },
          {
           "Acceleration": 13.5,
           "Horsepower": 110
          },
          {
           "Acceleration": 19,
           "Horsepower": 72
          },
          {
           "Acceleration": 15,
           "Horsepower": 100
          },
          {
           "Acceleration": 14.5,
           "Horsepower": 88
          },
          {
           "Acceleration": 14,
           "Horsepower": 86
          },
          {
           "Acceleration": 14,
           "Horsepower": 90
          },
          {
           "Acceleration": 19.5,
           "Horsepower": 70
          },
          {
           "Acceleration": 14.5,
           "Horsepower": 76
          },
          {
           "Acceleration": 19,
           "Horsepower": 65
          },
          {
           "Acceleration": 18,
           "Horsepower": 69
          },
          {
           "Acceleration": 19,
           "Horsepower": 60
          },
          {
           "Acceleration": 20.5,
           "Horsepower": 70
          },
          {
           "Acceleration": 15.5,
           "Horsepower": 95
          },
          {
           "Acceleration": 17,
           "Horsepower": 80
          },
          {
           "Acceleration": 23.5,
           "Horsepower": 54
          },
          {
           "Acceleration": 19.5,
           "Horsepower": 90
          },
          {
           "Acceleration": 16.5,
           "Horsepower": 86
          },
          {
           "Acceleration": 12,
           "Horsepower": 165
          },
          {
           "Acceleration": 12,
           "Horsepower": 175
          },
          {
           "Acceleration": 13.5,
           "Horsepower": 150
          },
          {
           "Acceleration": 13,
           "Horsepower": 153
          },
          {
           "Acceleration": 11.5,
           "Horsepower": 150
          },
          {
           "Acceleration": 11,
           "Horsepower": 208
          },
          {
           "Acceleration": 13.5,
           "Horsepower": 155
          },
          {
           "Acceleration": 13.5,
           "Horsepower": 160
          },
          {
           "Acceleration": 12.5,
           "Horsepower": 190
          },
          {
           "Acceleration": 13.5,
           "Horsepower": 97
          },
          {
           "Acceleration": 12.5,
           "Horsepower": 150
          },
          {
           "Acceleration": 14,
           "Horsepower": 130
          },
          {
           "Acceleration": 16,
           "Horsepower": 140
          },
          {
           "Acceleration": 14,
           "Horsepower": 150
          },
          {
           "Acceleration": 14.5,
           "Horsepower": 112
          },
          {
           "Acceleration": 18,
           "Horsepower": 76
          },
          {
           "Acceleration": 19.5,
           "Horsepower": 87
          },
          {
           "Acceleration": 18,
           "Horsepower": 69
          },
          {
           "Acceleration": 16,
           "Horsepower": 86
          },
          {
           "Acceleration": 17,
           "Horsepower": 92
          },
          {
           "Acceleration": 14.5,
           "Horsepower": 97
          },
          {
           "Acceleration": 15,
           "Horsepower": 80
          },
          {
           "Acceleration": 16.5,
           "Horsepower": 88
          },
          {
           "Acceleration": 13,
           "Horsepower": 175
          },
          {
           "Acceleration": 11.5,
           "Horsepower": 150
          },
          {
           "Acceleration": 13,
           "Horsepower": 145
          },
          {
           "Acceleration": 14.5,
           "Horsepower": 137
          },
          {
           "Acceleration": 12.5,
           "Horsepower": 150
          },
          {
           "Acceleration": 11.5,
           "Horsepower": 198
          },
          {
           "Acceleration": 12,
           "Horsepower": 150
          },
          {
           "Acceleration": 13,
           "Horsepower": 158
          },
          {
           "Acceleration": 14.5,
           "Horsepower": 150
          },
          {
           "Acceleration": 11,
           "Horsepower": 215
          },
          {
           "Acceleration": 11,
           "Horsepower": 225
          },
          {
           "Acceleration": 11,
           "Horsepower": 175
          },
          {
           "Acceleration": 16.5,
           "Horsepower": 105
          },
          {
           "Acceleration": 18,
           "Horsepower": 100
          },
          {
           "Acceleration": 16,
           "Horsepower": 100
          },
          {
           "Acceleration": 16.5,
           "Horsepower": 88
          },
          {
           "Acceleration": 16,
           "Horsepower": 95
          },
          {
           "Acceleration": 21,
           "Horsepower": 46
          },
          {
           "Acceleration": 14,
           "Horsepower": 150
          },
          {
           "Acceleration": 12.5,
           "Horsepower": 167
          },
          {
           "Acceleration": 13,
           "Horsepower": 170
          },
          {
           "Acceleration": 12.5,
           "Horsepower": 180
          },
          {
           "Acceleration": 15,
           "Horsepower": 100
          },
          {
           "Acceleration": 19,
           "Horsepower": 88
          },
          {
           "Acceleration": 19.5,
           "Horsepower": 72
          },
          {
           "Acceleration": 16.5,
           "Horsepower": 94
          },
          {
           "Acceleration": 13.5,
           "Horsepower": 90
          },
          {
           "Acceleration": 18.5,
           "Horsepower": 85
          },
          {
           "Acceleration": 14,
           "Horsepower": 107
          },
          {
           "Acceleration": 15.5,
           "Horsepower": 90
          },
          {
           "Acceleration": 13,
           "Horsepower": 145
          },
          {
           "Acceleration": 9.5,
           "Horsepower": 230
          },
          {
           "Acceleration": 19.5,
           "Horsepower": 49
          },
          {
           "Acceleration": 15.5,
           "Horsepower": 75
          },
          {
           "Acceleration": 14,
           "Horsepower": 91
          },
          {
           "Acceleration": 15.5,
           "Horsepower": 112
          },
          {
           "Acceleration": 11,
           "Horsepower": 150
          },
          {
           "Acceleration": 14,
           "Horsepower": 110
          },
          {
           "Acceleration": 13.5,
           "Horsepower": 122
          },
          {
           "Acceleration": 11,
           "Horsepower": 180
          },
          {
           "Acceleration": 16.5,
           "Horsepower": 95
          },
          {
           "Acceleration": 16,
           "Horsepower": 100
          },
          {
           "Acceleration": 17,
           "Horsepower": 100
          },
          {
           "Acceleration": 19,
           "Horsepower": 67
          },
          {
           "Acceleration": 16.5,
           "Horsepower": 80
          },
          {
           "Acceleration": 21,
           "Horsepower": 65
          },
          {
           "Acceleration": 17,
           "Horsepower": 75
          },
          {
           "Acceleration": 17,
           "Horsepower": 100
          },
          {
           "Acceleration": 18,
           "Horsepower": 110
          },
          {
           "Acceleration": 16.5,
           "Horsepower": 105
          },
          {
           "Acceleration": 14,
           "Horsepower": 140
          },
          {
           "Acceleration": 14.5,
           "Horsepower": 150
          },
          {
           "Acceleration": 13.5,
           "Horsepower": 150
          },
          {
           "Acceleration": 16,
           "Horsepower": 140
          },
          {
           "Acceleration": 15.5,
           "Horsepower": 150
          },
          {
           "Acceleration": 16.5,
           "Horsepower": 83
          },
          {
           "Acceleration": 15.5,
           "Horsepower": 67
          },
          {
           "Acceleration": 14.5,
           "Horsepower": 78
          },
          {
           "Acceleration": 16.5,
           "Horsepower": 52
          },
          {
           "Acceleration": 19,
           "Horsepower": 61
          },
          {
           "Acceleration": 14.5,
           "Horsepower": 75
          },
          {
           "Acceleration": 15.5,
           "Horsepower": 75
          },
          {
           "Acceleration": 14,
           "Horsepower": 75
          },
          {
           "Acceleration": 15,
           "Horsepower": 97
          },
          {
           "Acceleration": 15.5,
           "Horsepower": 93
          },
          {
           "Acceleration": 16,
           "Horsepower": 67
          },
          {
           "Acceleration": 16,
           "Horsepower": 95
          },
          {
           "Acceleration": 16,
           "Horsepower": 105
          },
          {
           "Acceleration": 21,
           "Horsepower": 72
          },
          {
           "Acceleration": 19.5,
           "Horsepower": 72
          },
          {
           "Acceleration": 11.5,
           "Horsepower": 170
          },
          {
           "Acceleration": 14,
           "Horsepower": 145
          },
          {
           "Acceleration": 14.5,
           "Horsepower": 150
          },
          {
           "Acceleration": 13.5,
           "Horsepower": 148
          },
          {
           "Acceleration": 21,
           "Horsepower": 110
          },
          {
           "Acceleration": 18.5,
           "Horsepower": 105
          },
          {
           "Acceleration": 19,
           "Horsepower": 110
          },
          {
           "Acceleration": 19,
           "Horsepower": 95
          },
          {
           "Acceleration": 15,
           "Horsepower": 110
          },
          {
           "Acceleration": 13.5,
           "Horsepower": 110
          },
          {
           "Acceleration": 12,
           "Horsepower": 129
          },
          {
           "Acceleration": 16,
           "Horsepower": 75
          },
          {
           "Acceleration": 17,
           "Horsepower": 83
          },
          {
           "Acceleration": 16,
           "Horsepower": 100
          },
          {
           "Acceleration": 18.5,
           "Horsepower": 78
          },
          {
           "Acceleration": 13.5,
           "Horsepower": 96
          },
          {
           "Acceleration": 16.5,
           "Horsepower": 71
          },
          {
           "Acceleration": 17,
           "Horsepower": 97
          },
          {
           "Acceleration": 14.5,
           "Horsepower": 97
          },
          {
           "Acceleration": 14,
           "Horsepower": 70
          },
          {
           "Acceleration": 17,
           "Horsepower": 90
          },
          {
           "Acceleration": 15,
           "Horsepower": 95
          },
          {
           "Acceleration": 17,
           "Horsepower": 88
          },
          {
           "Acceleration": 14.5,
           "Horsepower": 98
          },
          {
           "Acceleration": 13.5,
           "Horsepower": 115
          },
          {
           "Acceleration": 17.5,
           "Horsepower": 53
          },
          {
           "Acceleration": 15.5,
           "Horsepower": 86
          },
          {
           "Acceleration": 16.9,
           "Horsepower": 81
          },
          {
           "Acceleration": 14.9,
           "Horsepower": 92
          },
          {
           "Acceleration": 17.7,
           "Horsepower": 79
          },
          {
           "Acceleration": 15.3,
           "Horsepower": 83
          },
          {
           "Acceleration": 13,
           "Horsepower": 140
          },
          {
           "Acceleration": 13,
           "Horsepower": 150
          },
          {
           "Acceleration": 13.9,
           "Horsepower": 120
          },
          {
           "Acceleration": 12.8,
           "Horsepower": 152
          },
          {
           "Acceleration": 15.4,
           "Horsepower": 100
          },
          {
           "Acceleration": 14.5,
           "Horsepower": 105
          },
          {
           "Acceleration": 17.6,
           "Horsepower": 81
          },
          {
           "Acceleration": 17.6,
           "Horsepower": 90
          },
          {
           "Acceleration": 22.2,
           "Horsepower": 52
          },
          {
           "Acceleration": 22.1,
           "Horsepower": 60
          },
          {
           "Acceleration": 14.2,
           "Horsepower": 70
          },
          {
           "Acceleration": 17.4,
           "Horsepower": 53
          },
          {
           "Acceleration": 17.7,
           "Horsepower": 100
          },
          {
           "Acceleration": 21,
           "Horsepower": 78
          },
          {
           "Acceleration": 16.2,
           "Horsepower": 110
          },
          {
           "Acceleration": 17.8,
           "Horsepower": 95
          },
          {
           "Acceleration": 12.2,
           "Horsepower": 71
          },
          {
           "Acceleration": 17,
           "Horsepower": 70
          },
          {
           "Acceleration": 16.4,
           "Horsepower": 75
          },
          {
           "Acceleration": 13.6,
           "Horsepower": 72
          },
          {
           "Acceleration": 15.7,
           "Horsepower": 102
          },
          {
           "Acceleration": 13.2,
           "Horsepower": 150
          },
          {
           "Acceleration": 21.9,
           "Horsepower": 88
          },
          {
           "Acceleration": 15.5,
           "Horsepower": 108
          },
          {
           "Acceleration": 16.7,
           "Horsepower": 120
          },
          {
           "Acceleration": 12.1,
           "Horsepower": 180
          },
          {
           "Acceleration": 12,
           "Horsepower": 145
          },
          {
           "Acceleration": 15,
           "Horsepower": 130
          },
          {
           "Acceleration": 14,
           "Horsepower": 150
          },
          {
           "Acceleration": 18.5,
           "Horsepower": 68
          },
          {
           "Acceleration": 14.8,
           "Horsepower": 80
          },
          {
           "Acceleration": 18.6,
           "Horsepower": 58
          },
          {
           "Acceleration": 15.5,
           "Horsepower": 96
          },
          {
           "Acceleration": 16.8,
           "Horsepower": 70
          },
          {
           "Acceleration": 12.5,
           "Horsepower": 145
          },
          {
           "Acceleration": 19,
           "Horsepower": 110
          },
          {
           "Acceleration": 13.7,
           "Horsepower": 145
          },
          {
           "Acceleration": 14.9,
           "Horsepower": 130
          },
          {
           "Acceleration": 16.4,
           "Horsepower": 110
          },
          {
           "Acceleration": 16.9,
           "Horsepower": 105
          },
          {
           "Acceleration": 17.7,
           "Horsepower": 100
          },
          {
           "Acceleration": 19,
           "Horsepower": 98
          },
          {
           "Acceleration": 11.1,
           "Horsepower": 180
          },
          {
           "Acceleration": 11.4,
           "Horsepower": 170
          },
          {
           "Acceleration": 12.2,
           "Horsepower": 190
          },
          {
           "Acceleration": 14.5,
           "Horsepower": 149
          },
          {
           "Acceleration": 14.5,
           "Horsepower": 78
          },
          {
           "Acceleration": 16,
           "Horsepower": 88
          },
          {
           "Acceleration": 18.2,
           "Horsepower": 75
          },
          {
           "Acceleration": 15.8,
           "Horsepower": 89
          },
          {
           "Acceleration": 17,
           "Horsepower": 63
          },
          {
           "Acceleration": 15.9,
           "Horsepower": 83
          },
          {
           "Acceleration": 16.4,
           "Horsepower": 67
          },
          {
           "Acceleration": 14.1,
           "Horsepower": 78
          },
          {
           "Acceleration": 14.5,
           "Horsepower": 97
          },
          {
           "Acceleration": 12.8,
           "Horsepower": 110
          },
          {
           "Acceleration": 13.5,
           "Horsepower": 110
          },
          {
           "Acceleration": 21.5,
           "Horsepower": 48
          },
          {
           "Acceleration": 14.4,
           "Horsepower": 66
          },
          {
           "Acceleration": 19.4,
           "Horsepower": 52
          },
          {
           "Acceleration": 18.6,
           "Horsepower": 70
          },
          {
           "Acceleration": 16.4,
           "Horsepower": 60
          },
          {
           "Acceleration": 15.5,
           "Horsepower": 110
          },
          {
           "Acceleration": 13.2,
           "Horsepower": 140
          },
          {
           "Acceleration": 12.8,
           "Horsepower": 139
          },
          {
           "Acceleration": 19.2,
           "Horsepower": 105
          },
          {
           "Acceleration": 18.2,
           "Horsepower": 95
          },
          {
           "Acceleration": 15.8,
           "Horsepower": 85
          },
          {
           "Acceleration": 15.4,
           "Horsepower": 88
          },
          {
           "Acceleration": 17.2,
           "Horsepower": 100
          },
          {
           "Acceleration": 17.2,
           "Horsepower": 90
          },
          {
           "Acceleration": 15.8,
           "Horsepower": 105
          },
          {
           "Acceleration": 16.7,
           "Horsepower": 85
          },
          {
           "Acceleration": 18.7,
           "Horsepower": 110
          },
          {
           "Acceleration": 15.1,
           "Horsepower": 120
          },
          {
           "Acceleration": 13.2,
           "Horsepower": 145
          },
          {
           "Acceleration": 13.4,
           "Horsepower": 165
          },
          {
           "Acceleration": 11.2,
           "Horsepower": 139
          },
          {
           "Acceleration": 13.7,
           "Horsepower": 140
          },
          {
           "Acceleration": 16.5,
           "Horsepower": 68
          },
          {
           "Acceleration": 14.2,
           "Horsepower": 95
          },
          {
           "Acceleration": 14.7,
           "Horsepower": 97
          },
          {
           "Acceleration": 14.5,
           "Horsepower": 75
          },
          {
           "Acceleration": 14.8,
           "Horsepower": 95
          },
          {
           "Acceleration": 16.7,
           "Horsepower": 105
          },
          {
           "Acceleration": 17.6,
           "Horsepower": 85
          },
          {
           "Acceleration": 14.9,
           "Horsepower": 97
          },
          {
           "Acceleration": 15.9,
           "Horsepower": 103
          },
          {
           "Acceleration": 13.6,
           "Horsepower": 125
          },
          {
           "Acceleration": 15.7,
           "Horsepower": 115
          },
          {
           "Acceleration": 15.8,
           "Horsepower": 133
          },
          {
           "Acceleration": 14.9,
           "Horsepower": 71
          },
          {
           "Acceleration": 16.6,
           "Horsepower": 68
          },
          {
           "Acceleration": 15.4,
           "Horsepower": 115
          },
          {
           "Acceleration": 18.2,
           "Horsepower": 85
          },
          {
           "Acceleration": 17.3,
           "Horsepower": 88
          },
          {
           "Acceleration": 18.2,
           "Horsepower": 90
          },
          {
           "Acceleration": 16.6,
           "Horsepower": 110
          },
          {
           "Acceleration": 15.4,
           "Horsepower": 130
          },
          {
           "Acceleration": 13.4,
           "Horsepower": 129
          },
          {
           "Acceleration": 13.2,
           "Horsepower": 138
          },
          {
           "Acceleration": 15.2,
           "Horsepower": 135
          },
          {
           "Acceleration": 14.9,
           "Horsepower": 155
          },
          {
           "Acceleration": 14.3,
           "Horsepower": 142
          },
          {
           "Acceleration": 15,
           "Horsepower": 125
          },
          {
           "Acceleration": 13,
           "Horsepower": 150
          },
          {
           "Acceleration": 14,
           "Horsepower": 71
          },
          {
           "Acceleration": 15.2,
           "Horsepower": 65
          },
          {
           "Acceleration": 14.4,
           "Horsepower": 80
          },
          {
           "Acceleration": 15,
           "Horsepower": 80
          },
          {
           "Acceleration": 20.1,
           "Horsepower": 77
          },
          {
           "Acceleration": 17.4,
           "Horsepower": 125
          },
          {
           "Acceleration": 24.8,
           "Horsepower": 71
          },
          {
           "Acceleration": 22.2,
           "Horsepower": 90
          },
          {
           "Acceleration": 13.2,
           "Horsepower": 70
          },
          {
           "Acceleration": 14.9,
           "Horsepower": 70
          },
          {
           "Acceleration": 19.2,
           "Horsepower": 65
          },
          {
           "Acceleration": 14.7,
           "Horsepower": 69
          },
          {
           "Acceleration": 16,
           "Horsepower": 90
          },
          {
           "Acceleration": 11.3,
           "Horsepower": 115
          },
          {
           "Acceleration": 12.9,
           "Horsepower": 115
          },
          {
           "Acceleration": 13.2,
           "Horsepower": 90
          },
          {
           "Acceleration": 14.7,
           "Horsepower": 76
          },
          {
           "Acceleration": 18.8,
           "Horsepower": 60
          },
          {
           "Acceleration": 15.5,
           "Horsepower": 70
          },
          {
           "Acceleration": 16.4,
           "Horsepower": 65
          },
          {
           "Acceleration": 16.5,
           "Horsepower": 90
          },
          {
           "Acceleration": 18.1,
           "Horsepower": 88
          },
          {
           "Acceleration": 20.1,
           "Horsepower": 90
          },
          {
           "Acceleration": 18.7,
           "Horsepower": 90
          },
          {
           "Acceleration": 15.8,
           "Horsepower": 78
          },
          {
           "Acceleration": 15.5,
           "Horsepower": 90
          },
          {
           "Acceleration": 17.5,
           "Horsepower": 75
          },
          {
           "Acceleration": 15,
           "Horsepower": 92
          },
          {
           "Acceleration": 15.2,
           "Horsepower": 75
          },
          {
           "Acceleration": 17.9,
           "Horsepower": 65
          },
          {
           "Acceleration": 14.4,
           "Horsepower": 105
          },
          {
           "Acceleration": 19.2,
           "Horsepower": 65
          },
          {
           "Acceleration": 21.7,
           "Horsepower": 48
          },
          {
           "Acceleration": 23.7,
           "Horsepower": 48
          },
          {
           "Acceleration": 19.9,
           "Horsepower": 67
          },
          {
           "Acceleration": 21.8,
           "Horsepower": 67
          },
          {
           "Acceleration": 13.8,
           "Horsepower": 67
          },
          {
           "Acceleration": 18,
           "Horsepower": 67
          },
          {
           "Acceleration": 15.3,
           "Horsepower": 62
          },
          {
           "Acceleration": 11.4,
           "Horsepower": 132
          },
          {
           "Acceleration": 12.5,
           "Horsepower": 100
          },
          {
           "Acceleration": 15.1,
           "Horsepower": 88
          },
          {
           "Acceleration": 17,
           "Horsepower": 72
          },
          {
           "Acceleration": 15.7,
           "Horsepower": 84
          },
          {
           "Acceleration": 16.4,
           "Horsepower": 84
          },
          {
           "Acceleration": 14.4,
           "Horsepower": 92
          },
          {
           "Acceleration": 12.6,
           "Horsepower": 110
          },
          {
           "Acceleration": 12.9,
           "Horsepower": 84
          },
          {
           "Acceleration": 16.9,
           "Horsepower": 58
          },
          {
           "Acceleration": 16.4,
           "Horsepower": 64
          },
          {
           "Acceleration": 16.1,
           "Horsepower": 60
          },
          {
           "Acceleration": 17.8,
           "Horsepower": 67
          },
          {
           "Acceleration": 19.4,
           "Horsepower": 65
          },
          {
           "Acceleration": 17.3,
           "Horsepower": 62
          },
          {
           "Acceleration": 16,
           "Horsepower": 68
          },
          {
           "Acceleration": 14.9,
           "Horsepower": 63
          },
          {
           "Acceleration": 16.2,
           "Horsepower": 65
          },
          {
           "Acceleration": 20.7,
           "Horsepower": 65
          },
          {
           "Acceleration": 14.2,
           "Horsepower": 74
          },
          {
           "Acceleration": 14.4,
           "Horsepower": 75
          },
          {
           "Acceleration": 16.8,
           "Horsepower": 75
          },
          {
           "Acceleration": 14.8,
           "Horsepower": 100
          },
          {
           "Acceleration": 18.3,
           "Horsepower": 74
          },
          {
           "Acceleration": 20.4,
           "Horsepower": 80
          },
          {
           "Acceleration": 19.6,
           "Horsepower": 76
          },
          {
           "Acceleration": 12.6,
           "Horsepower": 116
          },
          {
           "Acceleration": 13.8,
           "Horsepower": 120
          },
          {
           "Acceleration": 15.8,
           "Horsepower": 110
          },
          {
           "Acceleration": 19,
           "Horsepower": 105
          },
          {
           "Acceleration": 17.1,
           "Horsepower": 88
          },
          {
           "Acceleration": 16.6,
           "Horsepower": 85
          },
          {
           "Acceleration": 19.6,
           "Horsepower": 88
          },
          {
           "Acceleration": 18.6,
           "Horsepower": 88
          },
          {
           "Acceleration": 18,
           "Horsepower": 88
          },
          {
           "Acceleration": 16.2,
           "Horsepower": 85
          },
          {
           "Acceleration": 16,
           "Horsepower": 84
          },
          {
           "Acceleration": 18,
           "Horsepower": 90
          },
          {
           "Acceleration": 16.4,
           "Horsepower": 92
          },
          {
           "Acceleration": 15.3,
           "Horsepower": 74
          },
          {
           "Acceleration": 18.2,
           "Horsepower": 68
          },
          {
           "Acceleration": 17.6,
           "Horsepower": 68
          },
          {
           "Acceleration": 14.7,
           "Horsepower": 63
          },
          {
           "Acceleration": 17.3,
           "Horsepower": 70
          },
          {
           "Acceleration": 14.5,
           "Horsepower": 88
          },
          {
           "Acceleration": 14.5,
           "Horsepower": 75
          },
          {
           "Acceleration": 16.9,
           "Horsepower": 70
          },
          {
           "Acceleration": 15,
           "Horsepower": 67
          },
          {
           "Acceleration": 15.7,
           "Horsepower": 67
          },
          {
           "Acceleration": 16.2,
           "Horsepower": 67
          },
          {
           "Acceleration": 16.4,
           "Horsepower": 110
          },
          {
           "Acceleration": 17,
           "Horsepower": 85
          },
          {
           "Acceleration": 14.5,
           "Horsepower": 92
          },
          {
           "Acceleration": 14.7,
           "Horsepower": 112
          },
          {
           "Acceleration": 13.9,
           "Horsepower": 96
          },
          {
           "Acceleration": 13,
           "Horsepower": 84
          },
          {
           "Acceleration": 17.3,
           "Horsepower": 90
          },
          {
           "Acceleration": 15.6,
           "Horsepower": 86
          },
          {
           "Acceleration": 24.6,
           "Horsepower": 52
          },
          {
           "Acceleration": 11.6,
           "Horsepower": 84
          },
          {
           "Acceleration": 18.6,
           "Horsepower": 79
          },
          {
           "Acceleration": 19.4,
           "Horsepower": 82
          }
         ]
        },
        "encoding": {
         "x": {
          "field": "Horsepower",
          "scale": {
           "domain": [
            46,
            230
           ]
          },
          "type": "quantitative"
         },
         "y": {
          "field": "Acceleration",
          "scale": {
           "domain": [
            8,
            24.8
           ]
          },
          "type": "quantitative"
         }
        },
        "height": 150,
        "mark": "circle",
        "selection": {
         "selector001": {
          "bind": "scales",
          "encodings": [
           "x",
           "y"
          ],
          "type": "interval"
         }
        },
        "width": 160
       },
       "data": [],
       "intent": "",
       "layout": "IPY_MODEL_4b235f47744442a1a0324dea3f4824c1",
       "recommendations": []
      }
     }
    },
    "version_major": 2,
    "version_minor": 0
   }
  }
 },
 "nbformat": 4,
 "nbformat_minor": 4
}

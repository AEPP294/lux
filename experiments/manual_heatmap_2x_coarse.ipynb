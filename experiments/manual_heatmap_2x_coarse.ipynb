{
 "cells": [
  {
   "cell_type": "code",
   "execution_count": 2,
   "metadata": {
    "tags": [
     "parameters"
    ]
   },
   "outputs": [],
   "source": [
    "numPoints=1000"
   ]
  },
  {
   "cell_type": "code",
   "execution_count": 3,
   "metadata": {},
   "outputs": [],
   "source": [
    "from utils import generate_scatter_data"
   ]
  },
  {
   "cell_type": "code",
   "execution_count": 4,
   "metadata": {},
   "outputs": [],
   "source": [
    "df = generate_scatter_data(numPoints)[[\"x\",\"y\"]]"
   ]
  },
  {
   "cell_type": "code",
   "execution_count": 11,
   "metadata": {},
   "outputs": [],
   "source": [
    "# Pandas Cost\n",
    "import pandas as pd\n",
    "import numpy as np\n",
    "binRange = np.linspace(-10,10,num=21)\n",
    "df[\"xBin\"] = pd.cut(df.x, bins=binRange)\n",
    "df[\"yBin\"] = pd.cut(df.y, bins=binRange)\n",
    "\n",
    "\n",
    "#groups = df.groupby(['xBinCtr','yBinCtr'])#[\"x\"]\n",
    "groups = df.groupby(['xBin','yBin'])[\"x\"]\n",
    "result = groups.agg(\"count\").reset_index()\n",
    "result = result.rename(columns={\"x\":\"z\"})\n",
    "\n",
    "result = result[result[\"z\"]!=0]\n",
    "\n",
    "# result[\"xBinCtr\"] = result[\"xBin\"].apply(lambda x: x.mid)\n",
    "result[\"xBinStart\"] = result[\"xBin\"].apply(lambda x: x.left)\n",
    "result[\"xBinEnd\"] = result[\"xBin\"].apply(lambda x: x.right)\n",
    "\n",
    "\n",
    "# result[\"yBinCtr\"] = result[\"yBin\"].apply(lambda x: x.mid)\n",
    "result[\"yBinStart\"] = result[\"yBin\"].apply(lambda x: x.left)\n",
    "result[\"yBinEnd\"] = result[\"yBin\"].apply(lambda x: x.right)\n",
    "\n",
    "\n",
    "result = result.drop(columns=[\"xBin\",\"yBin\"])"
   ]
  },
  {
   "cell_type": "code",
   "execution_count": 12,
   "metadata": {
    "scrolled": true
   },
   "outputs": [
    {
     "data": {
      "text/html": [
       "\n",
       "<div id=\"altair-viz-cb2e6076a380478aa6b88844d4643716\"></div>\n",
       "<script type=\"text/javascript\">\n",
       "  (function(spec, embedOpt){\n",
       "    const outputDiv = document.getElementById(\"altair-viz-cb2e6076a380478aa6b88844d4643716\");\n",
       "    const paths = {\n",
       "      \"vega\": \"https://cdn.jsdelivr.net/npm//vega@5?noext\",\n",
       "      \"vega-lib\": \"https://cdn.jsdelivr.net/npm//vega-lib?noext\",\n",
       "      \"vega-lite\": \"https://cdn.jsdelivr.net/npm//vega-lite@4.0.2?noext\",\n",
       "      \"vega-embed\": \"https://cdn.jsdelivr.net/npm//vega-embed@6?noext\",\n",
       "    };\n",
       "\n",
       "    function loadScript(lib) {\n",
       "      return new Promise(function(resolve, reject) {\n",
       "        var s = document.createElement('script');\n",
       "        s.src = paths[lib];\n",
       "        s.async = true;\n",
       "        s.onload = () => resolve(paths[lib]);\n",
       "        s.onerror = () => reject(`Error loading script: ${paths[lib]}`);\n",
       "        document.getElementsByTagName(\"head\")[0].appendChild(s);\n",
       "      });\n",
       "    }\n",
       "\n",
       "    function showError(err) {\n",
       "      outputDiv.innerHTML = `<div class=\"error\" style=\"color:red;\">${err}</div>`;\n",
       "      throw err;\n",
       "    }\n",
       "\n",
       "    function displayChart(vegaEmbed) {\n",
       "      vegaEmbed(outputDiv, spec, embedOpt)\n",
       "        .catch(err => showError(`Javascript Error: ${err.message}<br>This usually means there's a typo in your chart specification. See the javascript console for the full traceback.`));\n",
       "    }\n",
       "\n",
       "    if(typeof define === \"function\" && define.amd) {\n",
       "      requirejs.config({paths});\n",
       "      require([\"vega-embed\"], displayChart, err => showError(`Error loading script: ${err.message}`));\n",
       "    } else if (typeof vegaEmbed === \"function\") {\n",
       "      displayChart(vegaEmbed);\n",
       "    } else {\n",
       "      loadScript(\"vega\")\n",
       "        .then(() => loadScript(\"vega-lite\"))\n",
       "        .then(() => loadScript(\"vega-embed\"))\n",
       "        .catch(showError)\n",
       "        .then(() => displayChart(vegaEmbed));\n",
       "    }\n",
       "  })({\"config\": {\"view\": {\"continuousWidth\": 400, \"continuousHeight\": 300}, \"axis\": {\"labelColor\": \"#505050\", \"labelFont\": \"Helvetica Neue\", \"labelFontSize\": 8, \"labelFontWeight\": 400, \"titleFont\": \"Helvetica Neue\", \"titleFontSize\": 11, \"titleFontWeight\": 500}, \"legend\": {\"labelFont\": \"Helvetica Neue\", \"labelFontSize\": 8, \"labelFontWeight\": 400, \"titleFont\": \"Helvetica Neue\", \"titleFontSize\": 10, \"titleFontWeight\": 500}, \"mark\": {\"tooltip\": {\"content\": \"encoding\"}}, \"title\": {\"font\": \"Helvetica Neue\", \"fontSize\": 13, \"fontWeight\": 500}}, \"data\": {\"name\": \"data-456df169c2e1957888f02cb6ef927f4e\"}, \"mark\": \"rect\", \"encoding\": {\"color\": {\"type\": \"quantitative\", \"field\": \"z\", \"scale\": {\"scheme\": \"blues\", \"type\": \"log\"}}, \"x\": {\"type\": \"quantitative\", \"axis\": {\"title\": \"x\"}, \"bin\": {\"binned\": true}, \"field\": \"xBinStart\"}, \"x2\": {\"field\": \"xBinEnd\"}, \"y\": {\"type\": \"quantitative\", \"axis\": {\"title\": \"y\"}, \"bin\": {\"binned\": true}, \"field\": \"yBinStart\"}, \"y2\": {\"field\": \"yBinEnd\"}}, \"height\": 150, \"selection\": {\"selector003\": {\"type\": \"interval\", \"bind\": \"scales\", \"encodings\": [\"x\", \"y\"]}}, \"width\": 160, \"$schema\": \"https://vega.github.io/schema/vega-lite/v4.0.2.json\", \"datasets\": {\"data-456df169c2e1957888f02cb6ef927f4e\": [{\"z\": 1, \"xBinStart\": -10.0, \"xBinEnd\": -9.0, \"yBinStart\": 2.0, \"yBinEnd\": 3.0}, {\"z\": 1, \"xBinStart\": -9.0, \"xBinEnd\": -8.0, \"yBinStart\": 1.0, \"yBinEnd\": 2.0}, {\"z\": 1, \"xBinStart\": -9.0, \"xBinEnd\": -8.0, \"yBinStart\": 3.0, \"yBinEnd\": 4.0}, {\"z\": 1, \"xBinStart\": -8.0, \"xBinEnd\": -7.0, \"yBinStart\": -4.0, \"yBinEnd\": -3.0}, {\"z\": 1, \"xBinStart\": -8.0, \"xBinEnd\": -7.0, \"yBinStart\": 0.0, \"yBinEnd\": 1.0}, {\"z\": 3, \"xBinStart\": -8.0, \"xBinEnd\": -7.0, \"yBinStart\": 1.0, \"yBinEnd\": 2.0}, {\"z\": 1, \"xBinStart\": -8.0, \"xBinEnd\": -7.0, \"yBinStart\": 2.0, \"yBinEnd\": 3.0}, {\"z\": 2, \"xBinStart\": -7.0, \"xBinEnd\": -6.0, \"yBinStart\": -6.0, \"yBinEnd\": -5.0}, {\"z\": 1, \"xBinStart\": -7.0, \"xBinEnd\": -6.0, \"yBinStart\": -5.0, \"yBinEnd\": -4.0}, {\"z\": 1, \"xBinStart\": -7.0, \"xBinEnd\": -6.0, \"yBinStart\": -4.0, \"yBinEnd\": -3.0}, {\"z\": 2, \"xBinStart\": -7.0, \"xBinEnd\": -6.0, \"yBinStart\": -3.0, \"yBinEnd\": -2.0}, {\"z\": 3, \"xBinStart\": -7.0, \"xBinEnd\": -6.0, \"yBinStart\": -2.0, \"yBinEnd\": -1.0}, {\"z\": 3, \"xBinStart\": -7.0, \"xBinEnd\": -6.0, \"yBinStart\": 0.0, \"yBinEnd\": 1.0}, {\"z\": 1, \"xBinStart\": -7.0, \"xBinEnd\": -6.0, \"yBinStart\": 1.0, \"yBinEnd\": 2.0}, {\"z\": 1, \"xBinStart\": -7.0, \"xBinEnd\": -6.0, \"yBinStart\": 2.0, \"yBinEnd\": 3.0}, {\"z\": 1, \"xBinStart\": -7.0, \"xBinEnd\": -6.0, \"yBinStart\": 4.0, \"yBinEnd\": 5.0}, {\"z\": 1, \"xBinStart\": -7.0, \"xBinEnd\": -6.0, \"yBinStart\": 5.0, \"yBinEnd\": 6.0}, {\"z\": 1, \"xBinStart\": -6.0, \"xBinEnd\": -5.0, \"yBinStart\": -8.0, \"yBinEnd\": -7.0}, {\"z\": 1, \"xBinStart\": -6.0, \"xBinEnd\": -5.0, \"yBinStart\": -5.0, \"yBinEnd\": -4.0}, {\"z\": 2, \"xBinStart\": -6.0, \"xBinEnd\": -5.0, \"yBinStart\": -4.0, \"yBinEnd\": -3.0}, {\"z\": 3, \"xBinStart\": -6.0, \"xBinEnd\": -5.0, \"yBinStart\": -3.0, \"yBinEnd\": -2.0}, {\"z\": 4, \"xBinStart\": -6.0, \"xBinEnd\": -5.0, \"yBinStart\": -2.0, \"yBinEnd\": -1.0}, {\"z\": 3, \"xBinStart\": -6.0, \"xBinEnd\": -5.0, \"yBinStart\": -1.0, \"yBinEnd\": 0.0}, {\"z\": 2, \"xBinStart\": -6.0, \"xBinEnd\": -5.0, \"yBinStart\": 0.0, \"yBinEnd\": 1.0}, {\"z\": 3, \"xBinStart\": -6.0, \"xBinEnd\": -5.0, \"yBinStart\": 1.0, \"yBinEnd\": 2.0}, {\"z\": 2, \"xBinStart\": -6.0, \"xBinEnd\": -5.0, \"yBinStart\": 2.0, \"yBinEnd\": 3.0}, {\"z\": 2, \"xBinStart\": -6.0, \"xBinEnd\": -5.0, \"yBinStart\": 4.0, \"yBinEnd\": 5.0}, {\"z\": 1, \"xBinStart\": -5.0, \"xBinEnd\": -4.0, \"yBinStart\": -9.0, \"yBinEnd\": -8.0}, {\"z\": 1, \"xBinStart\": -5.0, \"xBinEnd\": -4.0, \"yBinStart\": -6.0, \"yBinEnd\": -5.0}, {\"z\": 7, \"xBinStart\": -5.0, \"xBinEnd\": -4.0, \"yBinStart\": -4.0, \"yBinEnd\": -3.0}, {\"z\": 6, \"xBinStart\": -5.0, \"xBinEnd\": -4.0, \"yBinStart\": -3.0, \"yBinEnd\": -2.0}, {\"z\": 10, \"xBinStart\": -5.0, \"xBinEnd\": -4.0, \"yBinStart\": -2.0, \"yBinEnd\": -1.0}, {\"z\": 4, \"xBinStart\": -5.0, \"xBinEnd\": -4.0, \"yBinStart\": -1.0, \"yBinEnd\": 0.0}, {\"z\": 4, \"xBinStart\": -5.0, \"xBinEnd\": -4.0, \"yBinStart\": 0.0, \"yBinEnd\": 1.0}, {\"z\": 10, \"xBinStart\": -5.0, \"xBinEnd\": -4.0, \"yBinStart\": 1.0, \"yBinEnd\": 2.0}, {\"z\": 10, \"xBinStart\": -5.0, \"xBinEnd\": -4.0, \"yBinStart\": 2.0, \"yBinEnd\": 3.0}, {\"z\": 8, \"xBinStart\": -5.0, \"xBinEnd\": -4.0, \"yBinStart\": 3.0, \"yBinEnd\": 4.0}, {\"z\": 3, \"xBinStart\": -4.0, \"xBinEnd\": -3.0, \"yBinStart\": -6.0, \"yBinEnd\": -5.0}, {\"z\": 4, \"xBinStart\": -4.0, \"xBinEnd\": -3.0, \"yBinStart\": -5.0, \"yBinEnd\": -4.0}, {\"z\": 5, \"xBinStart\": -4.0, \"xBinEnd\": -3.0, \"yBinStart\": -4.0, \"yBinEnd\": -3.0}, {\"z\": 22, \"xBinStart\": -4.0, \"xBinEnd\": -3.0, \"yBinStart\": -3.0, \"yBinEnd\": -2.0}, {\"z\": 22, \"xBinStart\": -4.0, \"xBinEnd\": -3.0, \"yBinStart\": -2.0, \"yBinEnd\": -1.0}, {\"z\": 14, \"xBinStart\": -4.0, \"xBinEnd\": -3.0, \"yBinStart\": -1.0, \"yBinEnd\": 0.0}, {\"z\": 45, \"xBinStart\": -4.0, \"xBinEnd\": -3.0, \"yBinStart\": 0.0, \"yBinEnd\": 1.0}, {\"z\": 50, \"xBinStart\": -4.0, \"xBinEnd\": -3.0, \"yBinStart\": 1.0, \"yBinEnd\": 2.0}, {\"z\": 57, \"xBinStart\": -4.0, \"xBinEnd\": -3.0, \"yBinStart\": 2.0, \"yBinEnd\": 3.0}, {\"z\": 16, \"xBinStart\": -4.0, \"xBinEnd\": -3.0, \"yBinStart\": 3.0, \"yBinEnd\": 4.0}, {\"z\": 5, \"xBinStart\": -4.0, \"xBinEnd\": -3.0, \"yBinStart\": 4.0, \"yBinEnd\": 5.0}, {\"z\": 4, \"xBinStart\": -4.0, \"xBinEnd\": -3.0, \"yBinStart\": 5.0, \"yBinEnd\": 6.0}, {\"z\": 3, \"xBinStart\": -4.0, \"xBinEnd\": -3.0, \"yBinStart\": 6.0, \"yBinEnd\": 7.0}, {\"z\": 2, \"xBinStart\": -3.0, \"xBinEnd\": -2.0, \"yBinStart\": -7.0, \"yBinEnd\": -6.0}, {\"z\": 1, \"xBinStart\": -3.0, \"xBinEnd\": -2.0, \"yBinStart\": -6.0, \"yBinEnd\": -5.0}, {\"z\": 7, \"xBinStart\": -3.0, \"xBinEnd\": -2.0, \"yBinStart\": -5.0, \"yBinEnd\": -4.0}, {\"z\": 15, \"xBinStart\": -3.0, \"xBinEnd\": -2.0, \"yBinStart\": -4.0, \"yBinEnd\": -3.0}, {\"z\": 229, \"xBinStart\": -3.0, \"xBinEnd\": -2.0, \"yBinStart\": -3.0, \"yBinEnd\": -2.0}, {\"z\": 195, \"xBinStart\": -3.0, \"xBinEnd\": -2.0, \"yBinStart\": -2.0, \"yBinEnd\": -1.0}, {\"z\": 32, \"xBinStart\": -3.0, \"xBinEnd\": -2.0, \"yBinStart\": -1.0, \"yBinEnd\": 0.0}, {\"z\": 56, \"xBinStart\": -3.0, \"xBinEnd\": -2.0, \"yBinStart\": 0.0, \"yBinEnd\": 1.0}, {\"z\": 117, \"xBinStart\": -3.0, \"xBinEnd\": -2.0, \"yBinStart\": 1.0, \"yBinEnd\": 2.0}, {\"z\": 150, \"xBinStart\": -3.0, \"xBinEnd\": -2.0, \"yBinStart\": 2.0, \"yBinEnd\": 3.0}, {\"z\": 43, \"xBinStart\": -3.0, \"xBinEnd\": -2.0, \"yBinStart\": 3.0, \"yBinEnd\": 4.0}, {\"z\": 10, \"xBinStart\": -3.0, \"xBinEnd\": -2.0, \"yBinStart\": 4.0, \"yBinEnd\": 5.0}, {\"z\": 3, \"xBinStart\": -3.0, \"xBinEnd\": -2.0, \"yBinStart\": 5.0, \"yBinEnd\": 6.0}, {\"z\": 3, \"xBinStart\": -3.0, \"xBinEnd\": -2.0, \"yBinStart\": 6.0, \"yBinEnd\": 7.0}, {\"z\": 1, \"xBinStart\": -2.0, \"xBinEnd\": -1.0, \"yBinStart\": -8.0, \"yBinEnd\": -7.0}, {\"z\": 4, \"xBinStart\": -2.0, \"xBinEnd\": -1.0, \"yBinStart\": -6.0, \"yBinEnd\": -5.0}, {\"z\": 3, \"xBinStart\": -2.0, \"xBinEnd\": -1.0, \"yBinStart\": -5.0, \"yBinEnd\": -4.0}, {\"z\": 13, \"xBinStart\": -2.0, \"xBinEnd\": -1.0, \"yBinStart\": -4.0, \"yBinEnd\": -3.0}, {\"z\": 271, \"xBinStart\": -2.0, \"xBinEnd\": -1.0, \"yBinStart\": -3.0, \"yBinEnd\": -2.0}, {\"z\": 248, \"xBinStart\": -2.0, \"xBinEnd\": -1.0, \"yBinStart\": -2.0, \"yBinEnd\": -1.0}, {\"z\": 36, \"xBinStart\": -2.0, \"xBinEnd\": -1.0, \"yBinStart\": -1.0, \"yBinEnd\": 0.0}, {\"z\": 67, \"xBinStart\": -2.0, \"xBinEnd\": -1.0, \"yBinStart\": 0.0, \"yBinEnd\": 1.0}, {\"z\": 125, \"xBinStart\": -2.0, \"xBinEnd\": -1.0, \"yBinStart\": 1.0, \"yBinEnd\": 2.0}, {\"z\": 125, \"xBinStart\": -2.0, \"xBinEnd\": -1.0, \"yBinStart\": 2.0, \"yBinEnd\": 3.0}, {\"z\": 59, \"xBinStart\": -2.0, \"xBinEnd\": -1.0, \"yBinStart\": 3.0, \"yBinEnd\": 4.0}, {\"z\": 18, \"xBinStart\": -2.0, \"xBinEnd\": -1.0, \"yBinStart\": 4.0, \"yBinEnd\": 5.0}, {\"z\": 5, \"xBinStart\": -2.0, \"xBinEnd\": -1.0, \"yBinStart\": 5.0, \"yBinEnd\": 6.0}, {\"z\": 1, \"xBinStart\": -1.0, \"xBinEnd\": 0.0, \"yBinStart\": -7.0, \"yBinEnd\": -6.0}, {\"z\": 5, \"xBinStart\": -1.0, \"xBinEnd\": 0.0, \"yBinStart\": -6.0, \"yBinEnd\": -5.0}, {\"z\": 2, \"xBinStart\": -1.0, \"xBinEnd\": 0.0, \"yBinStart\": -5.0, \"yBinEnd\": -4.0}, {\"z\": 5, \"xBinStart\": -1.0, \"xBinEnd\": 0.0, \"yBinStart\": -4.0, \"yBinEnd\": -3.0}, {\"z\": 31, \"xBinStart\": -1.0, \"xBinEnd\": 0.0, \"yBinStart\": -3.0, \"yBinEnd\": -2.0}, {\"z\": 34, \"xBinStart\": -1.0, \"xBinEnd\": 0.0, \"yBinStart\": -2.0, \"yBinEnd\": -1.0}, {\"z\": 19, \"xBinStart\": -1.0, \"xBinEnd\": 0.0, \"yBinStart\": -1.0, \"yBinEnd\": 0.0}, {\"z\": 36, \"xBinStart\": -1.0, \"xBinEnd\": 0.0, \"yBinStart\": 0.0, \"yBinEnd\": 1.0}, {\"z\": 56, \"xBinStart\": -1.0, \"xBinEnd\": 0.0, \"yBinStart\": 1.0, \"yBinEnd\": 2.0}, {\"z\": 42, \"xBinStart\": -1.0, \"xBinEnd\": 0.0, \"yBinStart\": 2.0, \"yBinEnd\": 3.0}, {\"z\": 26, \"xBinStart\": -1.0, \"xBinEnd\": 0.0, \"yBinStart\": 3.0, \"yBinEnd\": 4.0}, {\"z\": 7, \"xBinStart\": -1.0, \"xBinEnd\": 0.0, \"yBinStart\": 4.0, \"yBinEnd\": 5.0}, {\"z\": 4, \"xBinStart\": -1.0, \"xBinEnd\": 0.0, \"yBinStart\": 5.0, \"yBinEnd\": 6.0}, {\"z\": 1, \"xBinStart\": -1.0, \"xBinEnd\": 0.0, \"yBinStart\": 7.0, \"yBinEnd\": 8.0}, {\"z\": 5, \"xBinStart\": 0.0, \"xBinEnd\": 1.0, \"yBinStart\": -6.0, \"yBinEnd\": -5.0}, {\"z\": 4, \"xBinStart\": 0.0, \"xBinEnd\": 1.0, \"yBinStart\": -5.0, \"yBinEnd\": -4.0}, {\"z\": 8, \"xBinStart\": 0.0, \"xBinEnd\": 1.0, \"yBinStart\": -4.0, \"yBinEnd\": -3.0}, {\"z\": 9, \"xBinStart\": 0.0, \"xBinEnd\": 1.0, \"yBinStart\": -3.0, \"yBinEnd\": -2.0}, {\"z\": 14, \"xBinStart\": 0.0, \"xBinEnd\": 1.0, \"yBinStart\": -2.0, \"yBinEnd\": -1.0}, {\"z\": 13, \"xBinStart\": 0.0, \"xBinEnd\": 1.0, \"yBinStart\": -1.0, \"yBinEnd\": 0.0}, {\"z\": 20, \"xBinStart\": 0.0, \"xBinEnd\": 1.0, \"yBinStart\": 0.0, \"yBinEnd\": 1.0}, {\"z\": 22, \"xBinStart\": 0.0, \"xBinEnd\": 1.0, \"yBinStart\": 1.0, \"yBinEnd\": 2.0}, {\"z\": 21, \"xBinStart\": 0.0, \"xBinEnd\": 1.0, \"yBinStart\": 2.0, \"yBinEnd\": 3.0}, {\"z\": 13, \"xBinStart\": 0.0, \"xBinEnd\": 1.0, \"yBinStart\": 3.0, \"yBinEnd\": 4.0}, {\"z\": 5, \"xBinStart\": 0.0, \"xBinEnd\": 1.0, \"yBinStart\": 4.0, \"yBinEnd\": 5.0}, {\"z\": 2, \"xBinStart\": 0.0, \"xBinEnd\": 1.0, \"yBinStart\": 5.0, \"yBinEnd\": 6.0}, {\"z\": 1, \"xBinStart\": 0.0, \"xBinEnd\": 1.0, \"yBinStart\": 6.0, \"yBinEnd\": 7.0}, {\"z\": 1, \"xBinStart\": 0.0, \"xBinEnd\": 1.0, \"yBinStart\": 7.0, \"yBinEnd\": 8.0}, {\"z\": 1, \"xBinStart\": 1.0, \"xBinEnd\": 2.0, \"yBinStart\": -7.0, \"yBinEnd\": -6.0}, {\"z\": 2, \"xBinStart\": 1.0, \"xBinEnd\": 2.0, \"yBinStart\": -6.0, \"yBinEnd\": -5.0}, {\"z\": 3, \"xBinStart\": 1.0, \"xBinEnd\": 2.0, \"yBinStart\": -5.0, \"yBinEnd\": -4.0}, {\"z\": 4, \"xBinStart\": 1.0, \"xBinEnd\": 2.0, \"yBinStart\": -4.0, \"yBinEnd\": -3.0}, {\"z\": 271, \"xBinStart\": 1.0, \"xBinEnd\": 2.0, \"yBinStart\": -3.0, \"yBinEnd\": -2.0}, {\"z\": 261, \"xBinStart\": 1.0, \"xBinEnd\": 2.0, \"yBinStart\": -2.0, \"yBinEnd\": -1.0}, {\"z\": 17, \"xBinStart\": 1.0, \"xBinEnd\": 2.0, \"yBinStart\": -1.0, \"yBinEnd\": 0.0}, {\"z\": 17, \"xBinStart\": 1.0, \"xBinEnd\": 2.0, \"yBinStart\": 0.0, \"yBinEnd\": 1.0}, {\"z\": 250, \"xBinStart\": 1.0, \"xBinEnd\": 2.0, \"yBinStart\": 1.0, \"yBinEnd\": 2.0}, {\"z\": 264, \"xBinStart\": 1.0, \"xBinEnd\": 2.0, \"yBinStart\": 2.0, \"yBinEnd\": 3.0}, {\"z\": 10, \"xBinStart\": 1.0, \"xBinEnd\": 2.0, \"yBinStart\": 3.0, \"yBinEnd\": 4.0}, {\"z\": 5, \"xBinStart\": 1.0, \"xBinEnd\": 2.0, \"yBinStart\": 4.0, \"yBinEnd\": 5.0}, {\"z\": 5, \"xBinStart\": 1.0, \"xBinEnd\": 2.0, \"yBinStart\": 5.0, \"yBinEnd\": 6.0}, {\"z\": 3, \"xBinStart\": 1.0, \"xBinEnd\": 2.0, \"yBinStart\": 6.0, \"yBinEnd\": 7.0}, {\"z\": 1, \"xBinStart\": 2.0, \"xBinEnd\": 3.0, \"yBinStart\": -8.0, \"yBinEnd\": -7.0}, {\"z\": 1, \"xBinStart\": 2.0, \"xBinEnd\": 3.0, \"yBinStart\": -6.0, \"yBinEnd\": -5.0}, {\"z\": 5, \"xBinStart\": 2.0, \"xBinEnd\": 3.0, \"yBinStart\": -5.0, \"yBinEnd\": -4.0}, {\"z\": 5, \"xBinStart\": 2.0, \"xBinEnd\": 3.0, \"yBinStart\": -4.0, \"yBinEnd\": -3.0}, {\"z\": 247, \"xBinStart\": 2.0, \"xBinEnd\": 3.0, \"yBinStart\": -3.0, \"yBinEnd\": -2.0}, {\"z\": 275, \"xBinStart\": 2.0, \"xBinEnd\": 3.0, \"yBinStart\": -2.0, \"yBinEnd\": -1.0}, {\"z\": 10, \"xBinStart\": 2.0, \"xBinEnd\": 3.0, \"yBinStart\": -1.0, \"yBinEnd\": 0.0}, {\"z\": 20, \"xBinStart\": 2.0, \"xBinEnd\": 3.0, \"yBinStart\": 0.0, \"yBinEnd\": 1.0}, {\"z\": 264, \"xBinStart\": 2.0, \"xBinEnd\": 3.0, \"yBinStart\": 1.0, \"yBinEnd\": 2.0}, {\"z\": 268, \"xBinStart\": 2.0, \"xBinEnd\": 3.0, \"yBinStart\": 2.0, \"yBinEnd\": 3.0}, {\"z\": 7, \"xBinStart\": 2.0, \"xBinEnd\": 3.0, \"yBinStart\": 3.0, \"yBinEnd\": 4.0}, {\"z\": 8, \"xBinStart\": 2.0, \"xBinEnd\": 3.0, \"yBinStart\": 4.0, \"yBinEnd\": 5.0}, {\"z\": 3, \"xBinStart\": 2.0, \"xBinEnd\": 3.0, \"yBinStart\": 6.0, \"yBinEnd\": 7.0}, {\"z\": 1, \"xBinStart\": 3.0, \"xBinEnd\": 4.0, \"yBinStart\": -7.0, \"yBinEnd\": -6.0}, {\"z\": 1, \"xBinStart\": 3.0, \"xBinEnd\": 4.0, \"yBinStart\": -6.0, \"yBinEnd\": -5.0}, {\"z\": 1, \"xBinStart\": 3.0, \"xBinEnd\": 4.0, \"yBinStart\": -5.0, \"yBinEnd\": -4.0}, {\"z\": 5, \"xBinStart\": 3.0, \"xBinEnd\": 4.0, \"yBinStart\": -4.0, \"yBinEnd\": -3.0}, {\"z\": 8, \"xBinStart\": 3.0, \"xBinEnd\": 4.0, \"yBinStart\": -3.0, \"yBinEnd\": -2.0}, {\"z\": 5, \"xBinStart\": 3.0, \"xBinEnd\": 4.0, \"yBinStart\": -2.0, \"yBinEnd\": -1.0}, {\"z\": 14, \"xBinStart\": 3.0, \"xBinEnd\": 4.0, \"yBinStart\": -1.0, \"yBinEnd\": 0.0}, {\"z\": 6, \"xBinStart\": 3.0, \"xBinEnd\": 4.0, \"yBinStart\": 0.0, \"yBinEnd\": 1.0}, {\"z\": 4, \"xBinStart\": 3.0, \"xBinEnd\": 4.0, \"yBinStart\": 1.0, \"yBinEnd\": 2.0}, {\"z\": 5, \"xBinStart\": 3.0, \"xBinEnd\": 4.0, \"yBinStart\": 2.0, \"yBinEnd\": 3.0}, {\"z\": 4, \"xBinStart\": 3.0, \"xBinEnd\": 4.0, \"yBinStart\": 3.0, \"yBinEnd\": 4.0}, {\"z\": 1, \"xBinStart\": 3.0, \"xBinEnd\": 4.0, \"yBinStart\": 4.0, \"yBinEnd\": 5.0}, {\"z\": 2, \"xBinStart\": 3.0, \"xBinEnd\": 4.0, \"yBinStart\": 5.0, \"yBinEnd\": 6.0}, {\"z\": 1, \"xBinStart\": 3.0, \"xBinEnd\": 4.0, \"yBinStart\": 6.0, \"yBinEnd\": 7.0}, {\"z\": 1, \"xBinStart\": 3.0, \"xBinEnd\": 4.0, \"yBinStart\": 7.0, \"yBinEnd\": 8.0}, {\"z\": 1, \"xBinStart\": 3.0, \"xBinEnd\": 4.0, \"yBinStart\": 8.0, \"yBinEnd\": 9.0}, {\"z\": 1, \"xBinStart\": 4.0, \"xBinEnd\": 5.0, \"yBinStart\": -7.0, \"yBinEnd\": -6.0}, {\"z\": 1, \"xBinStart\": 4.0, \"xBinEnd\": 5.0, \"yBinStart\": -6.0, \"yBinEnd\": -5.0}, {\"z\": 4, \"xBinStart\": 4.0, \"xBinEnd\": 5.0, \"yBinStart\": -5.0, \"yBinEnd\": -4.0}, {\"z\": 1, \"xBinStart\": 4.0, \"xBinEnd\": 5.0, \"yBinStart\": -4.0, \"yBinEnd\": -3.0}, {\"z\": 6, \"xBinStart\": 4.0, \"xBinEnd\": 5.0, \"yBinStart\": -3.0, \"yBinEnd\": -2.0}, {\"z\": 5, \"xBinStart\": 4.0, \"xBinEnd\": 5.0, \"yBinStart\": -2.0, \"yBinEnd\": -1.0}, {\"z\": 5, \"xBinStart\": 4.0, \"xBinEnd\": 5.0, \"yBinStart\": -1.0, \"yBinEnd\": 0.0}, {\"z\": 3, \"xBinStart\": 4.0, \"xBinEnd\": 5.0, \"yBinStart\": 0.0, \"yBinEnd\": 1.0}, {\"z\": 7, \"xBinStart\": 4.0, \"xBinEnd\": 5.0, \"yBinStart\": 1.0, \"yBinEnd\": 2.0}, {\"z\": 5, \"xBinStart\": 4.0, \"xBinEnd\": 5.0, \"yBinStart\": 2.0, \"yBinEnd\": 3.0}, {\"z\": 5, \"xBinStart\": 4.0, \"xBinEnd\": 5.0, \"yBinStart\": 3.0, \"yBinEnd\": 4.0}, {\"z\": 1, \"xBinStart\": 4.0, \"xBinEnd\": 5.0, \"yBinStart\": 4.0, \"yBinEnd\": 5.0}, {\"z\": 1, \"xBinStart\": 4.0, \"xBinEnd\": 5.0, \"yBinStart\": 5.0, \"yBinEnd\": 6.0}, {\"z\": 2, \"xBinStart\": 5.0, \"xBinEnd\": 6.0, \"yBinStart\": -4.0, \"yBinEnd\": -3.0}, {\"z\": 3, \"xBinStart\": 5.0, \"xBinEnd\": 6.0, \"yBinStart\": -3.0, \"yBinEnd\": -2.0}, {\"z\": 8, \"xBinStart\": 5.0, \"xBinEnd\": 6.0, \"yBinStart\": -2.0, \"yBinEnd\": -1.0}, {\"z\": 4, \"xBinStart\": 5.0, \"xBinEnd\": 6.0, \"yBinStart\": -1.0, \"yBinEnd\": 0.0}, {\"z\": 4, \"xBinStart\": 5.0, \"xBinEnd\": 6.0, \"yBinStart\": 0.0, \"yBinEnd\": 1.0}, {\"z\": 3, \"xBinStart\": 5.0, \"xBinEnd\": 6.0, \"yBinStart\": 1.0, \"yBinEnd\": 2.0}, {\"z\": 4, \"xBinStart\": 5.0, \"xBinEnd\": 6.0, \"yBinStart\": 2.0, \"yBinEnd\": 3.0}, {\"z\": 2, \"xBinStart\": 5.0, \"xBinEnd\": 6.0, \"yBinStart\": 3.0, \"yBinEnd\": 4.0}, {\"z\": 5, \"xBinStart\": 5.0, \"xBinEnd\": 6.0, \"yBinStart\": 4.0, \"yBinEnd\": 5.0}, {\"z\": 1, \"xBinStart\": 6.0, \"xBinEnd\": 7.0, \"yBinStart\": -5.0, \"yBinEnd\": -4.0}, {\"z\": 2, \"xBinStart\": 6.0, \"xBinEnd\": 7.0, \"yBinStart\": -4.0, \"yBinEnd\": -3.0}, {\"z\": 2, \"xBinStart\": 6.0, \"xBinEnd\": 7.0, \"yBinStart\": -3.0, \"yBinEnd\": -2.0}, {\"z\": 1, \"xBinStart\": 6.0, \"xBinEnd\": 7.0, \"yBinStart\": -1.0, \"yBinEnd\": 0.0}, {\"z\": 1, \"xBinStart\": 6.0, \"xBinEnd\": 7.0, \"yBinStart\": 0.0, \"yBinEnd\": 1.0}, {\"z\": 1, \"xBinStart\": 6.0, \"xBinEnd\": 7.0, \"yBinStart\": 1.0, \"yBinEnd\": 2.0}, {\"z\": 2, \"xBinStart\": 6.0, \"xBinEnd\": 7.0, \"yBinStart\": 3.0, \"yBinEnd\": 4.0}, {\"z\": 1, \"xBinStart\": 6.0, \"xBinEnd\": 7.0, \"yBinStart\": 4.0, \"yBinEnd\": 5.0}, {\"z\": 1, \"xBinStart\": 6.0, \"xBinEnd\": 7.0, \"yBinStart\": 5.0, \"yBinEnd\": 6.0}, {\"z\": 2, \"xBinStart\": 7.0, \"xBinEnd\": 8.0, \"yBinStart\": -3.0, \"yBinEnd\": -2.0}, {\"z\": 2, \"xBinStart\": 7.0, \"xBinEnd\": 8.0, \"yBinStart\": -2.0, \"yBinEnd\": -1.0}, {\"z\": 1, \"xBinStart\": 7.0, \"xBinEnd\": 8.0, \"yBinStart\": -1.0, \"yBinEnd\": 0.0}, {\"z\": 1, \"xBinStart\": 7.0, \"xBinEnd\": 8.0, \"yBinStart\": 0.0, \"yBinEnd\": 1.0}, {\"z\": 1, \"xBinStart\": 7.0, \"xBinEnd\": 8.0, \"yBinStart\": 1.0, \"yBinEnd\": 2.0}, {\"z\": 1, \"xBinStart\": 7.0, \"xBinEnd\": 8.0, \"yBinStart\": 4.0, \"yBinEnd\": 5.0}, {\"z\": 1, \"xBinStart\": 7.0, \"xBinEnd\": 8.0, \"yBinStart\": 6.0, \"yBinEnd\": 7.0}, {\"z\": 1, \"xBinStart\": 8.0, \"xBinEnd\": 9.0, \"yBinStart\": -7.0, \"yBinEnd\": -6.0}, {\"z\": 1, \"xBinStart\": 8.0, \"xBinEnd\": 9.0, \"yBinStart\": 1.0, \"yBinEnd\": 2.0}, {\"z\": 1, \"xBinStart\": 8.0, \"xBinEnd\": 9.0, \"yBinStart\": 2.0, \"yBinEnd\": 3.0}, {\"z\": 1, \"xBinStart\": 9.0, \"xBinEnd\": 10.0, \"yBinStart\": 1.0, \"yBinEnd\": 2.0}]}}, {\"mode\": \"vega-lite\"});\n",
       "</script>"
      ],
      "text/plain": [
       "alt.Chart(...)"
      ]
     },
     "execution_count": 12,
     "metadata": {},
     "output_type": "execute_result"
    }
   ],
   "source": [
    "# Altair Rendering Cost\n",
    "import altair as alt\n",
    "chart = alt.Chart(result).mark_rect().encode(\n",
    "    x=alt.X('xBinStart', type='quantitative', axis=alt.Axis(title=\"x\"), bin = alt.BinParams(binned=True)),\n",
    "    x2=alt.X2('xBinEnd'),\n",
    "    y=alt.Y('yBinStart', type='quantitative', axis=alt.Axis(title=\"y\"), bin = alt.BinParams(binned=True)),\n",
    "    y2=alt.Y2('yBinEnd'),\n",
    "    color = alt.Color('z',type='quantitative', scale=alt.Scale(scheme='blues',type=\"log\"))\n",
    ")\n",
    "chart = chart.configure_mark(tooltip=alt.TooltipContent('encoding')) # Setting tooltip as non-null\n",
    "chart = chart.interactive() # Enable Zooming and Panning\n",
    "\n",
    "chart = chart.configure_title(fontWeight=500,fontSize=13,font='Helvetica Neue')\n",
    "chart = chart.configure_axis(titleFontWeight=500,titleFontSize=11,titleFont='Helvetica Neue',\n",
    "\t\t\tlabelFontWeight=400,labelFontSize=8,labelFont='Helvetica Neue',labelColor='#505050')\n",
    "chart = chart.configure_legend(titleFontWeight=500,titleFontSize=10,titleFont='Helvetica Neue',\n",
    "\t\t\tlabelFontWeight=400,labelFontSize=8,labelFont='Helvetica Neue')\n",
    "chart = chart.properties(width=160,height=150)\n",
    "\n",
    "chart"
   ]
  },
  {
   "cell_type": "code",
   "execution_count": null,
   "metadata": {},
   "outputs": [],
   "source": []
  }
 ],
 "metadata": {
  "celltoolbar": "Tags",
  "kernelspec": {
   "display_name": "Python 3",
   "language": "python",
   "name": "python3"
  },
  "language_info": {
   "codemirror_mode": {
    "name": "ipython",
    "version": 3
   },
   "file_extension": ".py",
   "mimetype": "text/x-python",
   "name": "python",
   "nbconvert_exporter": "python",
   "pygments_lexer": "ipython3",
   "version": "3.7.7"
  }
 },
 "nbformat": 4,
 "nbformat_minor": 4
}

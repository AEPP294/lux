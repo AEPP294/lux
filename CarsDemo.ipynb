{
 "cells": [
  {
   "cell_type": "code",
   "execution_count": 1,
   "metadata": {},
   "outputs": [],
   "source": [
    "import pandas as pd\n",
    "import lux"
   ]
  },
  {
   "cell_type": "markdown",
   "metadata": {},
   "source": [
    "Load in a dataset of 392 different cars from 1970-1982:"
   ]
  },
  {
   "cell_type": "code",
   "execution_count": 2,
   "metadata": {},
   "outputs": [
    {
     "data": {
      "text/html": [
       "<div>\n",
       "<style scoped>\n",
       "    .dataframe tbody tr th:only-of-type {\n",
       "        vertical-align: middle;\n",
       "    }\n",
       "\n",
       "    .dataframe tbody tr th {\n",
       "        vertical-align: top;\n",
       "    }\n",
       "\n",
       "    .dataframe thead th {\n",
       "        text-align: right;\n",
       "    }\n",
       "</style>\n",
       "<table border=\"1\" class=\"dataframe\">\n",
       "  <thead>\n",
       "    <tr style=\"text-align: right;\">\n",
       "      <th></th>\n",
       "      <th>Name</th>\n",
       "      <th>MilesPerGal</th>\n",
       "      <th>Cylinders</th>\n",
       "      <th>Displacement</th>\n",
       "      <th>Horsepower</th>\n",
       "      <th>Weight</th>\n",
       "      <th>Acceleration</th>\n",
       "      <th>Year</th>\n",
       "      <th>Origin</th>\n",
       "    </tr>\n",
       "  </thead>\n",
       "  <tbody>\n",
       "    <tr>\n",
       "      <th>0</th>\n",
       "      <td>chevrolet chevelle malibu</td>\n",
       "      <td>18.0</td>\n",
       "      <td>8</td>\n",
       "      <td>307.0</td>\n",
       "      <td>130</td>\n",
       "      <td>3504</td>\n",
       "      <td>12.0</td>\n",
       "      <td>1970-01-01</td>\n",
       "      <td>USA</td>\n",
       "    </tr>\n",
       "    <tr>\n",
       "      <th>1</th>\n",
       "      <td>buick skylark 320</td>\n",
       "      <td>15.0</td>\n",
       "      <td>8</td>\n",
       "      <td>350.0</td>\n",
       "      <td>165</td>\n",
       "      <td>3693</td>\n",
       "      <td>11.5</td>\n",
       "      <td>1970-01-01</td>\n",
       "      <td>USA</td>\n",
       "    </tr>\n",
       "    <tr>\n",
       "      <th>2</th>\n",
       "      <td>plymouth satellite</td>\n",
       "      <td>18.0</td>\n",
       "      <td>8</td>\n",
       "      <td>318.0</td>\n",
       "      <td>150</td>\n",
       "      <td>3436</td>\n",
       "      <td>11.0</td>\n",
       "      <td>1970-01-01</td>\n",
       "      <td>USA</td>\n",
       "    </tr>\n",
       "    <tr>\n",
       "      <th>3</th>\n",
       "      <td>amc rebel sst</td>\n",
       "      <td>16.0</td>\n",
       "      <td>8</td>\n",
       "      <td>304.0</td>\n",
       "      <td>150</td>\n",
       "      <td>3433</td>\n",
       "      <td>12.0</td>\n",
       "      <td>1970-01-01</td>\n",
       "      <td>USA</td>\n",
       "    </tr>\n",
       "    <tr>\n",
       "      <th>4</th>\n",
       "      <td>ford torino</td>\n",
       "      <td>17.0</td>\n",
       "      <td>8</td>\n",
       "      <td>302.0</td>\n",
       "      <td>140</td>\n",
       "      <td>3449</td>\n",
       "      <td>10.5</td>\n",
       "      <td>1970-01-01</td>\n",
       "      <td>USA</td>\n",
       "    </tr>\n",
       "  </tbody>\n",
       "</table>\n",
       "</div>"
      ],
      "text/plain": [
       "                        Name  MilesPerGal  Cylinders  Displacement  \\\n",
       "0  chevrolet chevelle malibu         18.0          8         307.0   \n",
       "1          buick skylark 320         15.0          8         350.0   \n",
       "2         plymouth satellite         18.0          8         318.0   \n",
       "3              amc rebel sst         16.0          8         304.0   \n",
       "4                ford torino         17.0          8         302.0   \n",
       "\n",
       "   Horsepower  Weight  Acceleration       Year Origin  \n",
       "0         130    3504          12.0 1970-01-01    USA  \n",
       "1         165    3693          11.5 1970-01-01    USA  \n",
       "2         150    3436          11.0 1970-01-01    USA  \n",
       "3         150    3433          12.0 1970-01-01    USA  \n",
       "4         140    3449          10.5 1970-01-01    USA  "
      ]
     },
     "execution_count": 2,
     "metadata": {},
     "output_type": "execute_result"
    }
   ],
   "source": [
    "df = pd.read_csv(\"lux/data/car.csv\")\n",
    "df[\"Year\"] = pd.to_datetime(df[\"Year\"], format='%Y') # change pandas dtype for the column \"Year\" to datetype\n",
    "df.head().toPandas()"
   ]
  },
  {
   "cell_type": "code",
   "execution_count": 3,
   "metadata": {
    "scrolled": true
   },
   "outputs": [
    {
     "data": {
      "application/vnd.jupyter.widget-view+json": {
       "model_id": "71903907ceb5403285949a018e069451",
       "version_major": 2,
       "version_minor": 0
      },
      "text/plain": [
       "LuxWidget(recommendations=[{'action': 'Correlation', 'description': 'Show relationships between two quantitati…"
      ]
     },
     "metadata": {},
     "output_type": "display_data"
    },
    {
     "data": {
      "text/plain": []
     },
     "execution_count": 3,
     "metadata": {},
     "output_type": "execute_result"
    }
   ],
   "source": [
    "df"
   ]
  },
  {
   "cell_type": "markdown",
   "metadata": {},
   "source": [
    "Intuitively, we expect cars with more horsepower means higher acceleration, but we are actually seeing the opposite of that trend.\n",
    "Let's learn more about whether there are additional factors that is affecting this relationship."
   ]
  },
  {
   "cell_type": "code",
   "execution_count": 8,
   "metadata": {},
   "outputs": [
    {
     "data": {
      "application/vnd.jupyter.widget-view+json": {
       "model_id": "c11b67b26a304ecebe00a17735340fe4",
       "version_major": 2,
       "version_minor": 0
      },
      "text/plain": [
       "LuxWidget(current_view={'config': {'view': {'continuousWidth': 400, 'continuousHeight': 300}, 'mark': {'toolti…"
      ]
     },
     "metadata": {},
     "output_type": "display_data"
    },
    {
     "data": {
      "text/plain": []
     },
     "execution_count": 8,
     "metadata": {},
     "output_type": "execute_result"
    }
   ],
   "source": [
    "df.setContext([lux.Spec(attribute = \"Acceleration\"),lux.Spec(attribute = \"Horsepower\")])\n",
    "df"
   ]
  },
  {
   "cell_type": "markdown",
   "metadata": {},
   "source": [
    "In Enhance, all the added variable (color), except MilesPerGal, shows a trend for the value being higher on the upper-left end, and value decreases towards the bottom-right.\n",
    "Now given these three other variables, let's look at what the Displacement and Weight is like for different Cylinder cars."
   ]
  },
  {
   "cell_type": "code",
   "execution_count": 14,
   "metadata": {},
   "outputs": [
    {
     "data": {
      "application/vnd.jupyter.widget-view+json": {
       "model_id": "a591d0b2fafb45c2a54e9bb599b27ab3",
       "version_major": 2,
       "version_minor": 0
      },
      "text/plain": [
       "LuxWidget(current_view={'config': {'view': {'continuousWidth': 400, 'continuousHeight': 300}, 'mark': {'toolti…"
      ]
     },
     "metadata": {},
     "output_type": "display_data"
    },
    {
     "data": {
      "text/plain": []
     },
     "execution_count": 14,
     "metadata": {},
     "output_type": "execute_result"
    }
   ],
   "source": [
    "# df.setContext([lux.Spec(attribute= [\"Weight\",\"Displacement\"]),lux.Spec(attribute = \"Cylinders\")])\n",
    "df.setContext([lux.Spec(attribute = \"Cylinders\")])\n",
    "df"
   ]
  },
  {
   "cell_type": "markdown",
   "metadata": {},
   "source": [
    "The Count distribution shows that there is not a lot of cars with 3 and 5 cylinders, so let's clean the data up to remove those."
   ]
  },
  {
   "cell_type": "code",
   "execution_count": 15,
   "metadata": {},
   "outputs": [
    {
     "data": {
      "text/html": [
       "<div>\n",
       "<style scoped>\n",
       "    .dataframe tbody tr th:only-of-type {\n",
       "        vertical-align: middle;\n",
       "    }\n",
       "\n",
       "    .dataframe tbody tr th {\n",
       "        vertical-align: top;\n",
       "    }\n",
       "\n",
       "    .dataframe thead th {\n",
       "        text-align: right;\n",
       "    }\n",
       "</style>\n",
       "<table border=\"1\" class=\"dataframe\">\n",
       "  <thead>\n",
       "    <tr style=\"text-align: right;\">\n",
       "      <th></th>\n",
       "      <th>index</th>\n",
       "      <th>Name</th>\n",
       "      <th>MilesPerGal</th>\n",
       "      <th>Cylinders</th>\n",
       "      <th>Displacement</th>\n",
       "      <th>Horsepower</th>\n",
       "      <th>Weight</th>\n",
       "      <th>Acceleration</th>\n",
       "      <th>Year</th>\n",
       "      <th>Origin</th>\n",
       "    </tr>\n",
       "  </thead>\n",
       "  <tbody>\n",
       "    <tr>\n",
       "      <th>70</th>\n",
       "      <td>70</td>\n",
       "      <td>mazda rx2 coupe</td>\n",
       "      <td>19.0</td>\n",
       "      <td>3</td>\n",
       "      <td>70.0</td>\n",
       "      <td>97</td>\n",
       "      <td>2330</td>\n",
       "      <td>13.5</td>\n",
       "      <td>1972-01-01</td>\n",
       "      <td>Japan</td>\n",
       "    </tr>\n",
       "    <tr>\n",
       "      <th>110</th>\n",
       "      <td>110</td>\n",
       "      <td>maxda rx3</td>\n",
       "      <td>18.0</td>\n",
       "      <td>3</td>\n",
       "      <td>70.0</td>\n",
       "      <td>90</td>\n",
       "      <td>2124</td>\n",
       "      <td>13.5</td>\n",
       "      <td>1973-01-01</td>\n",
       "      <td>Japan</td>\n",
       "    </tr>\n",
       "    <tr>\n",
       "      <th>241</th>\n",
       "      <td>241</td>\n",
       "      <td>mazda rx-4</td>\n",
       "      <td>21.5</td>\n",
       "      <td>3</td>\n",
       "      <td>80.0</td>\n",
       "      <td>110</td>\n",
       "      <td>2720</td>\n",
       "      <td>13.5</td>\n",
       "      <td>1977-01-01</td>\n",
       "      <td>Japan</td>\n",
       "    </tr>\n",
       "    <tr>\n",
       "      <th>331</th>\n",
       "      <td>331</td>\n",
       "      <td>mazda rx-7 gs</td>\n",
       "      <td>23.7</td>\n",
       "      <td>3</td>\n",
       "      <td>70.0</td>\n",
       "      <td>100</td>\n",
       "      <td>2420</td>\n",
       "      <td>12.5</td>\n",
       "      <td>1980-01-01</td>\n",
       "      <td>Japan</td>\n",
       "    </tr>\n",
       "  </tbody>\n",
       "</table>\n",
       "</div>"
      ],
      "text/plain": [
       "     index             Name  MilesPerGal  Cylinders  Displacement  Horsepower  \\\n",
       "70      70  mazda rx2 coupe         19.0          3          70.0          97   \n",
       "110    110        maxda rx3         18.0          3          70.0          90   \n",
       "241    241       mazda rx-4         21.5          3          80.0         110   \n",
       "331    331    mazda rx-7 gs         23.7          3          70.0         100   \n",
       "\n",
       "     Weight  Acceleration       Year Origin  \n",
       "70     2330          13.5 1972-01-01  Japan  \n",
       "110    2124          13.5 1973-01-01  Japan  \n",
       "241    2720          13.5 1977-01-01  Japan  \n",
       "331    2420          12.5 1980-01-01  Japan  "
      ]
     },
     "execution_count": 15,
     "metadata": {},
     "output_type": "execute_result"
    }
   ],
   "source": [
    "df[df[\"Cylinders\"]==3].toPandas()\n"
   ]
  },
  {
   "cell_type": "code",
   "execution_count": 16,
   "metadata": {},
   "outputs": [
    {
     "data": {
      "text/html": [
       "<div>\n",
       "<style scoped>\n",
       "    .dataframe tbody tr th:only-of-type {\n",
       "        vertical-align: middle;\n",
       "    }\n",
       "\n",
       "    .dataframe tbody tr th {\n",
       "        vertical-align: top;\n",
       "    }\n",
       "\n",
       "    .dataframe thead th {\n",
       "        text-align: right;\n",
       "    }\n",
       "</style>\n",
       "<table border=\"1\" class=\"dataframe\">\n",
       "  <thead>\n",
       "    <tr style=\"text-align: right;\">\n",
       "      <th></th>\n",
       "      <th>index</th>\n",
       "      <th>Name</th>\n",
       "      <th>MilesPerGal</th>\n",
       "      <th>Cylinders</th>\n",
       "      <th>Displacement</th>\n",
       "      <th>Horsepower</th>\n",
       "      <th>Weight</th>\n",
       "      <th>Acceleration</th>\n",
       "      <th>Year</th>\n",
       "      <th>Origin</th>\n",
       "    </tr>\n",
       "  </thead>\n",
       "  <tbody>\n",
       "    <tr>\n",
       "      <th>272</th>\n",
       "      <td>272</td>\n",
       "      <td>audi 5000</td>\n",
       "      <td>20.3</td>\n",
       "      <td>5</td>\n",
       "      <td>131.0</td>\n",
       "      <td>103</td>\n",
       "      <td>2830</td>\n",
       "      <td>15.9</td>\n",
       "      <td>1978-01-01</td>\n",
       "      <td>Europe</td>\n",
       "    </tr>\n",
       "    <tr>\n",
       "      <th>295</th>\n",
       "      <td>295</td>\n",
       "      <td>mercedes benz 300d</td>\n",
       "      <td>25.4</td>\n",
       "      <td>5</td>\n",
       "      <td>183.0</td>\n",
       "      <td>77</td>\n",
       "      <td>3530</td>\n",
       "      <td>20.1</td>\n",
       "      <td>1979-01-01</td>\n",
       "      <td>Europe</td>\n",
       "    </tr>\n",
       "    <tr>\n",
       "      <th>325</th>\n",
       "      <td>325</td>\n",
       "      <td>audi 5000s (diesel)</td>\n",
       "      <td>36.4</td>\n",
       "      <td>5</td>\n",
       "      <td>121.0</td>\n",
       "      <td>67</td>\n",
       "      <td>2950</td>\n",
       "      <td>19.9</td>\n",
       "      <td>1980-01-01</td>\n",
       "      <td>Europe</td>\n",
       "    </tr>\n",
       "  </tbody>\n",
       "</table>\n",
       "</div>"
      ],
      "text/plain": [
       "     index                 Name  MilesPerGal  Cylinders  Displacement  \\\n",
       "272    272            audi 5000         20.3          5         131.0   \n",
       "295    295   mercedes benz 300d         25.4          5         183.0   \n",
       "325    325  audi 5000s (diesel)         36.4          5         121.0   \n",
       "\n",
       "     Horsepower  Weight  Acceleration       Year  Origin  \n",
       "272         103    2830          15.9 1978-01-01  Europe  \n",
       "295          77    3530          20.1 1979-01-01  Europe  \n",
       "325          67    2950          19.9 1980-01-01  Europe  "
      ]
     },
     "execution_count": 16,
     "metadata": {},
     "output_type": "execute_result"
    }
   ],
   "source": [
    "df[df[\"Cylinders\"]==5].toPandas()\n"
   ]
  },
  {
   "cell_type": "code",
   "execution_count": 17,
   "metadata": {},
   "outputs": [
    {
     "data": {
      "application/vnd.jupyter.widget-view+json": {
       "model_id": "b889043afa6a4b0eb4c0afad414d2786",
       "version_major": 2,
       "version_minor": 0
      },
      "text/plain": [
       "LuxWidget(current_view={'config': {'view': {'continuousWidth': 400, 'continuousHeight': 300}, 'mark': {'toolti…"
      ]
     },
     "metadata": {},
     "output_type": "display_data"
    },
    {
     "data": {
      "text/plain": []
     },
     "execution_count": 17,
     "metadata": {},
     "output_type": "execute_result"
    }
   ],
   "source": [
    "newdf = df[(df[\"Cylinders\"]!=3) & (df[\"Cylinders\"]!=5)]\n",
    "newdf"
   ]
  },
  {
   "cell_type": "code",
   "execution_count": 11,
   "metadata": {},
   "outputs": [
    {
     "data": {
      "text/plain": [
       "<ViewCollection: [<View: Mark: bar, Specs: [Spec < description:,channel:x,attribute:Weight,aggregation:mean,value:>dataModel:measure,dataType:quantitative,binSize:0, Spec < description:,channel:y,attribute:Cylinders,aggregation:,value:>dataModel:dimension,dataType:nominal,binSize:0], Score:0.0>, <View: Mark: bar, Specs: [Spec < description:,channel:x,attribute:Displacement,aggregation:mean,value:>dataModel:measure,dataType:quantitative,binSize:0, Spec < description:,channel:y,attribute:Cylinders,aggregation:,value:>dataModel:dimension,dataType:nominal,binSize:0], Score:0.0>]>"
      ]
     },
     "execution_count": 11,
     "metadata": {},
     "output_type": "execute_result"
    }
   ],
   "source": []
  },
  {
   "cell_type": "code",
   "execution_count": 7,
   "metadata": {},
   "outputs": [
    {
     "data": {
      "text/plain": [
       "[{'action': 'Enhance',\n",
       "  'description': 'Shows possible visualizations when an additional attribute is added to the current view.',\n",
       "  'collection': <ViewCollection: [<View: Mark: scatter, Specs: [Spec < description:,channel:x,attribute:Acceleration,aggregation:,value:>dataModel:measure,dataType:quantitative,binSize:0, Spec < description:,channel:y,attribute:Horsepower,aggregation:,value:>dataModel:measure,dataType:quantitative,binSize:0, Spec < description:,channel:color,attribute:index,aggregation:,value:>dataModel:measure,dataType:quantitative,binSize:0], Score:0.5>, <View: Mark: scatter, Specs: [Spec < description:,channel:x,attribute:Acceleration,aggregation:,value:>dataModel:measure,dataType:quantitative,binSize:0, Spec < description:,channel:y,attribute:Horsepower,aggregation:,value:>dataModel:measure,dataType:quantitative,binSize:0, Spec < description:,channel:color,attribute:Name,aggregation:,value:>dataModel:dimension,dataType:nominal,binSize:0], Score:0.5>, <View: Mark: scatter, Specs: [Spec < description:,channel:x,attribute:Acceleration,aggregation:,value:>dataModel:measure,dataType:quantitative,binSize:0, Spec < description:,channel:y,attribute:Horsepower,aggregation:,value:>dataModel:measure,dataType:quantitative,binSize:0, Spec < description:,channel:color,attribute:MilesPerGal,aggregation:,value:>dataModel:measure,dataType:quantitative,binSize:0], Score:0.5>, <View: Mark: scatter, Specs: [Spec < description:,channel:x,attribute:Acceleration,aggregation:,value:>dataModel:measure,dataType:quantitative,binSize:0, Spec < description:,channel:y,attribute:Horsepower,aggregation:,value:>dataModel:measure,dataType:quantitative,binSize:0, Spec < description:,channel:color,attribute:Cylinders,aggregation:,value:>dataModel:dimension,dataType:nominal,binSize:0], Score:0.5>, <View: Mark: scatter, Specs: [Spec < description:,channel:x,attribute:Acceleration,aggregation:,value:>dataModel:measure,dataType:quantitative,binSize:0, Spec < description:,channel:y,attribute:Horsepower,aggregation:,value:>dataModel:measure,dataType:quantitative,binSize:0, Spec < description:,channel:color,attribute:Displacement,aggregation:,value:>dataModel:measure,dataType:quantitative,binSize:0], Score:0.5>, <View: Mark: scatter, Specs: [Spec < description:,channel:x,attribute:Acceleration,aggregation:,value:>dataModel:measure,dataType:quantitative,binSize:0, Spec < description:,channel:y,attribute:Horsepower,aggregation:,value:>dataModel:measure,dataType:quantitative,binSize:0, Spec < description:,channel:color,attribute:Weight,aggregation:,value:>dataModel:measure,dataType:quantitative,binSize:0], Score:0.5>, <View: Mark: scatter, Specs: [Spec < description:,channel:x,attribute:Acceleration,aggregation:,value:>dataModel:measure,dataType:quantitative,binSize:0, Spec < description:,channel:y,attribute:Horsepower,aggregation:,value:>dataModel:measure,dataType:quantitative,binSize:0, Spec < description:,channel:color,attribute:Origin,aggregation:,value:>dataModel:dimension,dataType:nominal,binSize:0], Score:0.5>]>},\n",
       " {'action': 'Filter',\n",
       "  'description': \"Shows possible visualizations when filtered by categorical variables in the data object's dataset.\",\n",
       "  'collection': <ViewCollection: [<View: Mark: scatter, Specs: [Spec < description:,channel:x,attribute:Acceleration,aggregation:,value:>dataModel:measure,dataType:quantitative,binSize:0, Spec < description:,channel:y,attribute:Horsepower,aggregation:,value:>dataModel:measure,dataType:quantitative,binSize:0, Spec < description:,channel:color,attribute:Cylinders,aggregation:,value:8>dataModel:dimension,dataType:nominal,binSize:0], Score:0.2268293429495649>, <View: Mark: scatter, Specs: [Spec < description:,channel:x,attribute:Acceleration,aggregation:,value:>dataModel:measure,dataType:quantitative,binSize:0, Spec < description:,channel:y,attribute:Horsepower,aggregation:,value:>dataModel:measure,dataType:quantitative,binSize:0, Spec < description:,channel:color,attribute:Cylinders,aggregation:,value:4>dataModel:dimension,dataType:nominal,binSize:0], Score:0.2268293429495649>, <View: Mark: scatter, Specs: [Spec < description:,channel:x,attribute:Acceleration,aggregation:,value:>dataModel:measure,dataType:quantitative,binSize:0, Spec < description:,channel:y,attribute:Horsepower,aggregation:,value:>dataModel:measure,dataType:quantitative,binSize:0, Spec < description:,channel:color,attribute:Cylinders,aggregation:,value:6>dataModel:dimension,dataType:nominal,binSize:0], Score:0.2268293429495649>, <View: Mark: scatter, Specs: [Spec < description:,channel:x,attribute:Acceleration,aggregation:,value:>dataModel:measure,dataType:quantitative,binSize:0, Spec < description:,channel:y,attribute:Horsepower,aggregation:,value:>dataModel:measure,dataType:quantitative,binSize:0, Spec < description:,channel:color,attribute:Cylinders,aggregation:,value:3>dataModel:dimension,dataType:nominal,binSize:0], Score:0.2268293429495649>, <View: Mark: scatter, Specs: [Spec < description:,channel:x,attribute:Acceleration,aggregation:,value:>dataModel:measure,dataType:quantitative,binSize:0, Spec < description:,channel:y,attribute:Horsepower,aggregation:,value:>dataModel:measure,dataType:quantitative,binSize:0, Spec < description:,channel:color,attribute:Cylinders,aggregation:,value:5>dataModel:dimension,dataType:nominal,binSize:0], Score:0.2268293429495649>, <View: Mark: scatter, Specs: [Spec < description:,channel:x,attribute:Acceleration,aggregation:,value:>dataModel:measure,dataType:quantitative,binSize:0, Spec < description:,channel:y,attribute:Horsepower,aggregation:,value:>dataModel:measure,dataType:quantitative,binSize:0, Spec < description:,channel:color,attribute:Origin,aggregation:,value:USA>dataModel:dimension,dataType:nominal,binSize:0], Score:0.05424843398035347>, <View: Mark: scatter, Specs: [Spec < description:,channel:x,attribute:Acceleration,aggregation:,value:>dataModel:measure,dataType:quantitative,binSize:0, Spec < description:,channel:y,attribute:Horsepower,aggregation:,value:>dataModel:measure,dataType:quantitative,binSize:0, Spec < description:,channel:color,attribute:Origin,aggregation:,value:Japan>dataModel:dimension,dataType:nominal,binSize:0], Score:0.05424843398035347>, <View: Mark: scatter, Specs: [Spec < description:,channel:x,attribute:Acceleration,aggregation:,value:>dataModel:measure,dataType:quantitative,binSize:0, Spec < description:,channel:y,attribute:Horsepower,aggregation:,value:>dataModel:measure,dataType:quantitative,binSize:0, Spec < description:,channel:color,attribute:Origin,aggregation:,value:Europe>dataModel:dimension,dataType:nominal,binSize:0], Score:0.05424843398035347>, <View: Mark: scatter, Specs: [Spec < description:,channel:x,attribute:Acceleration,aggregation:,value:>dataModel:measure,dataType:quantitative,binSize:0, Spec < description:,channel:y,attribute:Horsepower,aggregation:,value:>dataModel:measure,dataType:quantitative,binSize:0, Spec < description:,channel:color,attribute:Name,aggregation:,value:chevrolet chevelle malibu>dataModel:dimension,dataType:nominal,binSize:0], Score:0.011775918902356812>, <View: Mark: scatter, Specs: [Spec < description:,channel:x,attribute:Acceleration,aggregation:,value:>dataModel:measure,dataType:quantitative,binSize:0, Spec < description:,channel:y,attribute:Horsepower,aggregation:,value:>dataModel:measure,dataType:quantitative,binSize:0, Spec < description:,channel:color,attribute:Name,aggregation:,value:buick skylark 320>dataModel:dimension,dataType:nominal,binSize:0], Score:0.011775918902356812>, <View: Mark: scatter, Specs: [Spec < description:,channel:x,attribute:Acceleration,aggregation:,value:>dataModel:measure,dataType:quantitative,binSize:0, Spec < description:,channel:y,attribute:Horsepower,aggregation:,value:>dataModel:measure,dataType:quantitative,binSize:0, Spec < description:,channel:color,attribute:Name,aggregation:,value:plymouth satellite>dataModel:dimension,dataType:nominal,binSize:0], Score:0.011775918902356812>, <View: Mark: scatter, Specs: [Spec < description:,channel:x,attribute:Acceleration,aggregation:,value:>dataModel:measure,dataType:quantitative,binSize:0, Spec < description:,channel:y,attribute:Horsepower,aggregation:,value:>dataModel:measure,dataType:quantitative,binSize:0, Spec < description:,channel:color,attribute:Name,aggregation:,value:amc rebel sst>dataModel:dimension,dataType:nominal,binSize:0], Score:0.011775918902356812>, <View: Mark: scatter, Specs: [Spec < description:,channel:x,attribute:Acceleration,aggregation:,value:>dataModel:measure,dataType:quantitative,binSize:0, Spec < description:,channel:y,attribute:Horsepower,aggregation:,value:>dataModel:measure,dataType:quantitative,binSize:0, Spec < description:,channel:color,attribute:Name,aggregation:,value:ford torino>dataModel:dimension,dataType:nominal,binSize:0], Score:0.011775918902356812>, <View: Mark: scatter, Specs: [Spec < description:,channel:x,attribute:Acceleration,aggregation:,value:>dataModel:measure,dataType:quantitative,binSize:0, Spec < description:,channel:y,attribute:Horsepower,aggregation:,value:>dataModel:measure,dataType:quantitative,binSize:0, Spec < description:,channel:color,attribute:Name,aggregation:,value:ford galaxie 500>dataModel:dimension,dataType:nominal,binSize:0], Score:0.011775918902356812>, <View: Mark: scatter, Specs: [Spec < description:,channel:x,attribute:Acceleration,aggregation:,value:>dataModel:measure,dataType:quantitative,binSize:0, Spec < description:,channel:y,attribute:Horsepower,aggregation:,value:>dataModel:measure,dataType:quantitative,binSize:0, Spec < description:,channel:color,attribute:Name,aggregation:,value:chevrolet impala>dataModel:dimension,dataType:nominal,binSize:0], Score:0.011775918902356812>, <View: Mark: scatter, Specs: [Spec < description:,channel:x,attribute:Acceleration,aggregation:,value:>dataModel:measure,dataType:quantitative,binSize:0, Spec < description:,channel:y,attribute:Horsepower,aggregation:,value:>dataModel:measure,dataType:quantitative,binSize:0, Spec < description:,channel:color,attribute:Name,aggregation:,value:plymouth fury iii>dataModel:dimension,dataType:nominal,binSize:0], Score:0.011775918902356812>, <View: Mark: scatter, Specs: [Spec < description:,channel:x,attribute:Acceleration,aggregation:,value:>dataModel:measure,dataType:quantitative,binSize:0, Spec < description:,channel:y,attribute:Horsepower,aggregation:,value:>dataModel:measure,dataType:quantitative,binSize:0, Spec < description:,channel:color,attribute:Name,aggregation:,value:pontiac catalina>dataModel:dimension,dataType:nominal,binSize:0], Score:0.011775918902356812>, <View: Mark: scatter, Specs: [Spec < description:,channel:x,attribute:Acceleration,aggregation:,value:>dataModel:measure,dataType:quantitative,binSize:0, Spec < description:,channel:y,attribute:Horsepower,aggregation:,value:>dataModel:measure,dataType:quantitative,binSize:0, Spec < description:,channel:color,attribute:Name,aggregation:,value:amc ambassador dpl>dataModel:dimension,dataType:nominal,binSize:0], Score:0.011775918902356812>, <View: Mark: scatter, Specs: [Spec < description:,channel:x,attribute:Acceleration,aggregation:,value:>dataModel:measure,dataType:quantitative,binSize:0, Spec < description:,channel:y,attribute:Horsepower,aggregation:,value:>dataModel:measure,dataType:quantitative,binSize:0, Spec < description:,channel:color,attribute:Name,aggregation:,value:dodge challenger se>dataModel:dimension,dataType:nominal,binSize:0], Score:0.011775918902356812>, <View: Mark: scatter, Specs: [Spec < description:,channel:x,attribute:Acceleration,aggregation:,value:>dataModel:measure,dataType:quantitative,binSize:0, Spec < description:,channel:y,attribute:Horsepower,aggregation:,value:>dataModel:measure,dataType:quantitative,binSize:0, Spec < description:,channel:color,attribute:Name,aggregation:,value:plymouth 'cuda 340>dataModel:dimension,dataType:nominal,binSize:0], Score:0.011775918902356812>]>},\n",
       " {'action': 'Generalize',\n",
       "  'description': 'Remove one attribute or filter to observe a more general trend.',\n",
       "  'collection': <ViewCollection: [<View: Mark: histogram, Specs: [Spec < description:,channel:x,attribute:Horsepower,aggregation:,value:>dataModel:measure,dataType:quantitative,binSize:10, Spec < description:,channel:y,attribute:Record,aggregation:count,value:>dataModel:measure,dataType:quantitative,binSize:0], Score:0.5>, <View: Mark: histogram, Specs: [Spec < description:,channel:x,attribute:Acceleration,aggregation:,value:>dataModel:measure,dataType:quantitative,binSize:10, Spec < description:,channel:y,attribute:Record,aggregation:count,value:>dataModel:measure,dataType:quantitative,binSize:0], Score:0.5>]>}]"
      ]
     },
     "execution_count": 7,
     "metadata": {},
     "output_type": "execute_result"
    }
   ],
   "source": []
  },
  {
   "cell_type": "code",
   "execution_count": null,
   "metadata": {},
   "outputs": [],
   "source": []
  }
 ],
 "metadata": {
  "kernelspec": {
   "display_name": "Python 3",
   "language": "python",
   "name": "python3"
  },
  "language_info": {
   "codemirror_mode": {
    "name": "ipython",
    "version": 3
   },
   "file_extension": ".py",
   "mimetype": "text/x-python",
   "name": "python",
   "nbconvert_exporter": "python",
   "pygments_lexer": "ipython3",
   "version": "3.7.3"
  }
 },
 "nbformat": 4,
 "nbformat_minor": 4
}

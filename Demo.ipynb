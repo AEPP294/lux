{
 "cells": [
  {
   "cell_type": "code",
   "execution_count": null,
   "id": "nonprofit-athens",
   "metadata": {},
   "outputs": [],
   "source": [
    "import lux\n",
    "import pandas as pd\n",
    "from vega_datasets import data\n",
    "\n",
    "# lux.config.default_display = \"lux\"\n",
    "df = data.cars()"
   ]
  },
  {
   "cell_type": "markdown",
   "id": "wound-organizer",
   "metadata": {},
   "source": [
    "### Run analysis code"
   ]
  },
  {
   "cell_type": "code",
   "execution_count": null,
   "id": "fiscal-trail",
   "metadata": {},
   "outputs": [],
   "source": [
    "df.groupby(\"Origin\").agg({\"Horsepower\": \"mean\", \"Displacement\": \"median\"})"
   ]
  },
  {
   "cell_type": "code",
   "execution_count": null,
   "id": "inappropriate-jacket",
   "metadata": {},
   "outputs": [],
   "source": [
    "df['Horsepower'].value_counts()\n",
    "df['Origin'].value_counts()\n",
    "df.describe()"
   ]
  },
  {
   "cell_type": "markdown",
   "id": "according-christopher",
   "metadata": {},
   "source": [
    "### Then see implicit recs"
   ]
  },
  {
   "cell_type": "code",
   "execution_count": null,
   "id": "limiting-vegetation",
   "metadata": {},
   "outputs": [],
   "source": [
    "df"
   ]
  },
  {
   "cell_type": "markdown",
   "id": "executive-connecticut",
   "metadata": {},
   "source": [
    "### History structure"
   ]
  },
  {
   "cell_type": "code",
   "execution_count": null,
   "id": "motivated-offering",
   "metadata": {},
   "outputs": [],
   "source": [
    "lux.config.code_tracker.parsed_history"
   ]
  },
  {
   "cell_type": "code",
   "execution_count": null,
   "id": "indonesian-circulation",
   "metadata": {},
   "outputs": [],
   "source": []
  }
 ],
 "metadata": {
  "kernelspec": {
   "display_name": "Python 3",
   "language": "python",
   "name": "python3"
  },
  "language_info": {
   "codemirror_mode": {
    "name": "ipython",
    "version": 3
   },
   "file_extension": ".py",
   "mimetype": "text/x-python",
   "name": "python",
   "nbconvert_exporter": "python",
   "pygments_lexer": "ipython3",
   "version": "3.9.1"
  }
 },
 "nbformat": 4,
 "nbformat_minor": 5
}

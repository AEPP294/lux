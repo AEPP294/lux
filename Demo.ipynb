{
 "cells": [
  {
   "cell_type": "code",
   "execution_count": 1,
   "id": "sporting-train",
   "metadata": {},
   "outputs": [],
   "source": [
    "import lux\n",
    "import pandas as pd\n",
    "from vega_datasets import data\n",
    "\n",
    "df = data.cars()"
   ]
  },
  {
   "cell_type": "markdown",
   "id": "naughty-romania",
   "metadata": {},
   "source": [
    "### Run analysis code\n",
    "Look at df, no history so no implicit recs"
   ]
  },
  {
   "cell_type": "code",
   "execution_count": 2,
   "id": "complimentary-identification",
   "metadata": {},
   "outputs": [
    {
     "data": {
      "application/vnd.jupyter.widget-view+json": {
       "model_id": "3c82e34d739f46faa1815f11cf9b1f36",
       "version_major": 2,
       "version_minor": 0
      },
      "text/plain": [
       "Button(description='Toggle Pandas/Lux', layout=Layout(top='5px', width='140px'), style=ButtonStyle())"
      ]
     },
     "metadata": {},
     "output_type": "display_data"
    },
    {
     "data": {
      "application/vnd.jupyter.widget-view+json": {
       "model_id": "55fda18123674a07954b1aa4a6d76ff8",
       "version_major": 2,
       "version_minor": 0
      },
      "text/plain": [
       "Output()"
      ]
     },
     "metadata": {},
     "output_type": "display_data"
    },
    {
     "data": {
      "text/plain": []
     },
     "execution_count": 2,
     "metadata": {},
     "output_type": "execute_result"
    }
   ],
   "source": [
    "df"
   ]
  },
  {
   "cell_type": "markdown",
   "id": "billion-coverage",
   "metadata": {},
   "source": [
    "### Vis specific functions\n",
    "Do some exploration then look at df again"
   ]
  },
  {
   "cell_type": "code",
   "execution_count": 3,
   "id": "coral-tamil",
   "metadata": {},
   "outputs": [
    {
     "data": {
      "application/vnd.jupyter.widget-view+json": {
       "model_id": "e9066f0c63c64fb2912cdfbb3d465a50",
       "version_major": 2,
       "version_minor": 0
      },
      "text/plain": [
       "Button(description='Toggle Pandas/Lux', layout=Layout(top='5px', width='140px'), style=ButtonStyle())"
      ]
     },
     "metadata": {},
     "output_type": "display_data"
    },
    {
     "data": {
      "application/vnd.jupyter.widget-view+json": {
       "model_id": "73b174051bff48b3862ac7d863873cd7",
       "version_major": 2,
       "version_minor": 0
      },
      "text/plain": [
       "Output()"
      ]
     },
     "metadata": {},
     "output_type": "display_data"
    },
    {
     "data": {
      "text/plain": []
     },
     "execution_count": 3,
     "metadata": {},
     "output_type": "execute_result"
    }
   ],
   "source": [
    "df['Horsepower'].value_counts()"
   ]
  },
  {
   "cell_type": "code",
   "execution_count": 4,
   "id": "agreed-dakota",
   "metadata": {},
   "outputs": [
    {
     "data": {
      "application/vnd.jupyter.widget-view+json": {
       "model_id": "e09259e37a104931824af9f7d0cb1219",
       "version_major": 2,
       "version_minor": 0
      },
      "text/plain": [
       "Button(description='Toggle Pandas/Lux', layout=Layout(top='5px', width='140px'), style=ButtonStyle())"
      ]
     },
     "metadata": {},
     "output_type": "display_data"
    },
    {
     "data": {
      "application/vnd.jupyter.widget-view+json": {
       "model_id": "945470c3f7ab4a4d81c916e644b5f856",
       "version_major": 2,
       "version_minor": 0
      },
      "text/plain": [
       "Output()"
      ]
     },
     "metadata": {},
     "output_type": "display_data"
    },
    {
     "data": {
      "text/plain": []
     },
     "execution_count": 4,
     "metadata": {},
     "output_type": "execute_result"
    }
   ],
   "source": [
    "df"
   ]
  },
  {
   "cell_type": "markdown",
   "id": "skilled-virgin",
   "metadata": {},
   "source": [
    "Continue exploring"
   ]
  },
  {
   "cell_type": "code",
   "execution_count": 5,
   "id": "compound-arrival",
   "metadata": {},
   "outputs": [
    {
     "data": {
      "application/vnd.jupyter.widget-view+json": {
       "model_id": "c774b9b958ac418f9da9ef6e50e96abb",
       "version_major": 2,
       "version_minor": 0
      },
      "text/plain": [
       "Button(description='Toggle Pandas/Lux', layout=Layout(top='5px', width='140px'), style=ButtonStyle())"
      ]
     },
     "metadata": {},
     "output_type": "display_data"
    },
    {
     "data": {
      "application/vnd.jupyter.widget-view+json": {
       "model_id": "1d43da10c0314b23ac3c6cc068f382b4",
       "version_major": 2,
       "version_minor": 0
      },
      "text/plain": [
       "Output()"
      ]
     },
     "metadata": {},
     "output_type": "display_data"
    },
    {
     "data": {
      "text/plain": []
     },
     "execution_count": 5,
     "metadata": {},
     "output_type": "execute_result"
    }
   ],
   "source": [
    "df['Origin'].value_counts()"
   ]
  },
  {
   "cell_type": "code",
   "execution_count": 6,
   "id": "superior-gambling",
   "metadata": {},
   "outputs": [
    {
     "data": {
      "application/vnd.jupyter.widget-view+json": {
       "model_id": "04dce2ef57024375805227762b7ad821",
       "version_major": 2,
       "version_minor": 0
      },
      "text/plain": [
       "Button(description='Toggle Pandas/Lux', layout=Layout(top='5px', width='140px'), style=ButtonStyle())"
      ]
     },
     "metadata": {},
     "output_type": "display_data"
    },
    {
     "data": {
      "application/vnd.jupyter.widget-view+json": {
       "model_id": "1971eb2c4b3a45fb9583b48ef2fcc46b",
       "version_major": 2,
       "version_minor": 0
      },
      "text/plain": [
       "Output()"
      ]
     },
     "metadata": {},
     "output_type": "display_data"
    },
    {
     "data": {
      "text/plain": []
     },
     "execution_count": 6,
     "metadata": {},
     "output_type": "execute_result"
    }
   ],
   "source": [
    "df"
   ]
  },
  {
   "cell_type": "markdown",
   "id": "electrical-point",
   "metadata": {},
   "source": [
    "And then describe"
   ]
  },
  {
   "cell_type": "code",
   "execution_count": 7,
   "id": "sustained-privacy",
   "metadata": {},
   "outputs": [
    {
     "data": {
      "application/vnd.jupyter.widget-view+json": {
       "model_id": "61e39c7cc2ad466f9dfd7e79581b3e19",
       "version_major": 2,
       "version_minor": 0
      },
      "text/plain": [
       "Button(description='Toggle Pandas/Lux', layout=Layout(top='5px', width='140px'), style=ButtonStyle())"
      ]
     },
     "metadata": {},
     "output_type": "display_data"
    },
    {
     "data": {
      "application/vnd.jupyter.widget-view+json": {
       "model_id": "e95105fdc58b446d975f8bf7373718b5",
       "version_major": 2,
       "version_minor": 0
      },
      "text/plain": [
       "Output()"
      ]
     },
     "metadata": {},
     "output_type": "display_data"
    },
    {
     "data": {
      "text/plain": []
     },
     "execution_count": 7,
     "metadata": {},
     "output_type": "execute_result"
    }
   ],
   "source": [
    "df.describe()"
   ]
  },
  {
   "cell_type": "code",
   "execution_count": 9,
   "id": "generic-poster",
   "metadata": {},
   "outputs": [
    {
     "data": {
      "application/vnd.jupyter.widget-view+json": {
       "model_id": "c5ebbdbc14784b8fb962a3bdb2e15822",
       "version_major": 2,
       "version_minor": 0
      },
      "text/plain": [
       "Button(description='Toggle Pandas/Lux', layout=Layout(top='5px', width='140px'), style=ButtonStyle())"
      ]
     },
     "metadata": {},
     "output_type": "display_data"
    },
    {
     "data": {
      "application/vnd.jupyter.widget-view+json": {
       "model_id": "15fc0915958f4597a96a421cf0df792d",
       "version_major": 2,
       "version_minor": 0
      },
      "text/plain": [
       "Output()"
      ]
     },
     "metadata": {},
     "output_type": "display_data"
    },
    {
     "data": {
      "text/plain": []
     },
     "execution_count": 9,
     "metadata": {},
     "output_type": "execute_result"
    }
   ],
   "source": [
    "df"
   ]
  },
  {
   "cell_type": "markdown",
   "id": "natural-bobby",
   "metadata": {},
   "source": [
    "### Building intent over time"
   ]
  },
  {
   "cell_type": "code",
   "execution_count": 17,
   "id": "chemical-latvia",
   "metadata": {},
   "outputs": [],
   "source": [
    "df[\"Name\"] = df[\"Name\"].map(lambda a: a.split()[0])\n",
    "df.Cylinders = df.Cylinders * 8"
   ]
  },
  {
   "cell_type": "code",
   "execution_count": 11,
   "id": "offensive-population",
   "metadata": {},
   "outputs": [
    {
     "data": {
      "application/vnd.jupyter.widget-view+json": {
       "model_id": "4ea2e493b4b2475086f417528a68a113",
       "version_major": 2,
       "version_minor": 0
      },
      "text/plain": [
       "Button(description='Toggle Pandas/Lux', layout=Layout(top='5px', width='140px'), style=ButtonStyle())"
      ]
     },
     "metadata": {},
     "output_type": "display_data"
    },
    {
     "data": {
      "application/vnd.jupyter.widget-view+json": {
       "model_id": "babc4a406ecf4874a0ce0d56660b2d46",
       "version_major": 2,
       "version_minor": 0
      },
      "text/plain": [
       "Output()"
      ]
     },
     "metadata": {},
     "output_type": "display_data"
    },
    {
     "data": {
      "text/plain": []
     },
     "execution_count": 11,
     "metadata": {},
     "output_type": "execute_result"
    }
   ],
   "source": [
    "df"
   ]
  },
  {
   "cell_type": "markdown",
   "id": "willing-labor",
   "metadata": {},
   "source": [
    "### History structure"
   ]
  },
  {
   "cell_type": "code",
   "execution_count": 12,
   "id": "assured-broadway",
   "metadata": {},
   "outputs": [
    {
     "data": {
      "text/plain": [
       "[CodeHistoryItem(df_name='df', cols=['Horsepower'], f_name='value_counts', f_arg_dict={}, ex_order=0, code_str=\"df['Horsepower'].value_counts()\"),\n",
       " CodeHistoryItem(df_name='df', cols=['Origin'], f_name='value_counts', f_arg_dict={}, ex_order=0, code_str=\"df['Origin'].value_counts()\"),\n",
       " CodeHistoryItem(df_name='df', cols=[], f_name='describe', f_arg_dict={}, ex_order=0, code_str='df.describe()'),\n",
       " CodeHistoryItem(df_name='df', cols=['Name'], f_name='', f_arg_dict={}, ex_order=0, code_str='df[\"Name\"] = df[\"Name\"].map(lambda a: a.split()[0])'),\n",
       " CodeHistoryItem(df_name='df', cols=['Cylinders'], f_name='', f_arg_dict={}, ex_order=1, code_str='df.Cylinders = df.Cylinders * 8')]"
      ]
     },
     "execution_count": 12,
     "metadata": {},
     "output_type": "execute_result"
    }
   ],
   "source": [
    "lux.config.code_tracker.parsed_history"
   ]
  },
  {
   "cell_type": "code",
   "execution_count": 13,
   "id": "compressed-recruitment",
   "metadata": {},
   "outputs": [
    {
     "data": {
      "text/plain": [
       "array([0.729, 0.81 , 0.9  , 0.9  , 1.   ])"
      ]
     },
     "execution_count": 13,
     "metadata": {},
     "output_type": "execute_result"
    }
   ],
   "source": [
    "lux.config.code_tracker.signal_weights"
   ]
  },
  {
   "cell_type": "code",
   "execution_count": null,
   "id": "productive-civilization",
   "metadata": {},
   "outputs": [],
   "source": [
    "df[df.Origin == \"\"]"
   ]
  },
  {
   "cell_type": "code",
   "execution_count": 19,
   "id": "moving-gasoline",
   "metadata": {},
   "outputs": [
    {
     "data": {
      "text/plain": [
       "140333766060496"
      ]
     },
     "execution_count": 19,
     "metadata": {},
     "output_type": "execute_result"
    }
   ],
   "source": [
    "id(df)"
   ]
  },
  {
   "cell_type": "code",
   "execution_count": null,
   "id": "raising-consequence",
   "metadata": {},
   "outputs": [],
   "source": [
    "df_2 = df[..]"
   ]
  }
 ],
 "metadata": {
  "kernelspec": {
   "display_name": "Python 3",
   "language": "python",
   "name": "python3"
  },
  "language_info": {
   "codemirror_mode": {
    "name": "ipython",
    "version": 3
   },
   "file_extension": ".py",
   "mimetype": "text/x-python",
   "name": "python",
   "nbconvert_exporter": "python",
   "pygments_lexer": "ipython3",
   "version": "3.9.1"
  }
 },
 "nbformat": 4,
 "nbformat_minor": 5
}
